{
 "cells": [
  {
   "cell_type": "code",
   "execution_count": 2,
   "id": "4b321240",
   "metadata": {},
   "outputs": [],
   "source": [
    "import numpy as np\n",
    "import matplotlib.pyplot as plt\n",
    "from sklearn.linear_model import LinearRegression\n",
    "from sklearn.model_selection import train_test_split\n",
    "from sklearn.metrics import r2_score, mean_squared_error\n",
    "import pandas as pd\n",
    "from sklearn.model_selection import RandomizedSearchCV"
   ]
  },
  {
   "cell_type": "code",
   "execution_count": 3,
   "id": "9e7c46e8",
   "metadata": {},
   "outputs": [
    {
     "data": {
      "application/vnd.microsoft.datawrangler.viewer.v0+json": {
       "columns": [
        {
         "name": "index",
         "rawType": "int64",
         "type": "integer"
        },
        {
         "name": "near_Koh_Pich_in_km",
         "rawType": "int64",
         "type": "integer"
        },
        {
         "name": "near_Russian_Market_in_km",
         "rawType": "int64",
         "type": "integer"
        },
        {
         "name": "near_Boeng_Keng_Kang_1_in_km",
         "rawType": "int64",
         "type": "integer"
        },
        {
         "name": "n_cafe_5km",
         "rawType": "int64",
         "type": "integer"
        },
        {
         "name": "n_cafe_in_3km_to_5km",
         "rawType": "int64",
         "type": "integer"
        },
        {
         "name": "n_hospital_in_1km_to_2km",
         "rawType": "int64",
         "type": "integer"
        },
        {
         "name": "nearest_hotel",
         "rawType": "int64",
         "type": "integer"
        },
        {
         "name": "n_hotel_in_1km_to_2km",
         "rawType": "int64",
         "type": "integer"
        },
        {
         "name": "n_hotel_in_3km_to_5km",
         "rawType": "int64",
         "type": "integer"
        },
        {
         "name": "n_mart_in_3km_to_5km",
         "rawType": "int64",
         "type": "integer"
        },
        {
         "name": "n_pre_school_5km",
         "rawType": "int64",
         "type": "integer"
        },
        {
         "name": "n_pre_school_in_1km_to_2km",
         "rawType": "int64",
         "type": "integer"
        },
        {
         "name": "n_primary_school_in_2km_to_3km",
         "rawType": "int64",
         "type": "integer"
        },
        {
         "name": "n_primary_school_in_3km_to_5km",
         "rawType": "int64",
         "type": "integer"
        },
        {
         "name": "n_university_5km",
         "rawType": "int64",
         "type": "integer"
        },
        {
         "name": "n_university_in_3km_to_5km",
         "rawType": "int64",
         "type": "integer"
        },
        {
         "name": "n_seven_eleven_5km",
         "rawType": "int64",
         "type": "integer"
        },
        {
         "name": "n_resturant_in_1km",
         "rawType": "int64",
         "type": "integer"
        },
        {
         "name": "n_resturant_in_3km_to_5km",
         "rawType": "int64",
         "type": "integer"
        },
        {
         "name": "n_super_market_in_1km",
         "rawType": "int64",
         "type": "integer"
        },
        {
         "name": "n_super_market_in_1km_to_2km",
         "rawType": "int64",
         "type": "integer"
        },
        {
         "name": "n_super_market_in_2km_to_3km",
         "rawType": "int64",
         "type": "integer"
        },
        {
         "name": "n_super_market_in_3km_to_5km",
         "rawType": "int64",
         "type": "integer"
        },
        {
         "name": "nearest_atm",
         "rawType": "int64",
         "type": "integer"
        },
        {
         "name": "n_atm_in_1km",
         "rawType": "int64",
         "type": "integer"
        },
        {
         "name": "n_atm_in_1km_to_2km",
         "rawType": "int64",
         "type": "integer"
        },
        {
         "name": "h_id_price_mean",
         "rawType": "float64",
         "type": "float"
        },
        {
         "name": "h_id_price_max",
         "rawType": "float64",
         "type": "float"
        },
        {
         "name": "h_id_price_median",
         "rawType": "float64",
         "type": "float"
        },
        {
         "name": "address_line_2_Bak Kaeng",
         "rawType": "float64",
         "type": "float"
        },
        {
         "name": "address_line_2_Boeng Kak Ti Muoy",
         "rawType": "float64",
         "type": "float"
        },
        {
         "name": "address_line_2_Boeng Kak Ti Pir",
         "rawType": "float64",
         "type": "float"
        },
        {
         "name": "address_line_2_Boeng Keng Kang Ti Bei",
         "rawType": "float64",
         "type": "float"
        },
        {
         "name": "address_line_2_Boeng Keng Kang Ti Muoy",
         "rawType": "float64",
         "type": "float"
        },
        {
         "name": "address_line_2_Boeng Keng Kang Ti Pir",
         "rawType": "float64",
         "type": "float"
        },
        {
         "name": "address_line_2_Boeng Proluet",
         "rawType": "float64",
         "type": "float"
        },
        {
         "name": "address_line_2_Boeng Reang",
         "rawType": "float64",
         "type": "float"
        },
        {
         "name": "address_line_2_Boeng Salang",
         "rawType": "float64",
         "type": "float"
        },
        {
         "name": "address_line_2_Boeng Thum",
         "rawType": "float64",
         "type": "float"
        },
        {
         "name": "address_line_2_Boeng Trabaek",
         "rawType": "float64",
         "type": "float"
        },
        {
         "name": "address_line_2_Boeng Tumpun",
         "rawType": "float64",
         "type": "float"
        },
        {
         "name": "address_line_2_Chak Angrae Kraom",
         "rawType": "float64",
         "type": "float"
        },
        {
         "name": "address_line_2_Chak Angrae Leu",
         "rawType": "float64",
         "type": "float"
        },
        {
         "name": "address_line_2_Chakto Mukh",
         "rawType": "float64",
         "type": "float"
        },
        {
         "name": "address_line_2_Chaom Chau",
         "rawType": "float64",
         "type": "float"
        },
        {
         "name": "address_line_2_Chbar Ampov Ti Pir",
         "rawType": "float64",
         "type": "float"
        },
        {
         "name": "address_line_2_Cheung Aek",
         "rawType": "float64",
         "type": "float"
        },
        {
         "name": "address_line_2_Chey Chummeah",
         "rawType": "float64",
         "type": "float"
        },
        {
         "name": "address_line_2_Chhbar Ampov Ti Muoy",
         "rawType": "float64",
         "type": "float"
        },
        {
         "name": "address_line_2_Chrang Chamreh Ti Muoy",
         "rawType": "float64",
         "type": "float"
        },
        {
         "name": "address_line_2_Chrang Chamreh Ti Pir",
         "rawType": "float64",
         "type": "float"
        },
        {
         "name": "address_line_2_Chrouy Changvar",
         "rawType": "float64",
         "type": "float"
        },
        {
         "name": "address_line_2_Dangkao",
         "rawType": "float64",
         "type": "float"
        },
        {
         "name": "address_line_2_Kakab",
         "rawType": "float64",
         "type": "float"
        },
        {
         "name": "address_line_2_Kamboul",
         "rawType": "float64",
         "type": "float"
        },
        {
         "name": "address_line_2_Kantaok",
         "rawType": "float64",
         "type": "float"
        },
        {
         "name": "address_line_2_Kaoh Dach",
         "rawType": "float64",
         "type": "float"
        },
        {
         "name": "address_line_2_Kbal Kaoh",
         "rawType": "float64",
         "type": "float"
        },
        {
         "name": "address_line_2_Khmuonh",
         "rawType": "float64",
         "type": "float"
        },
        {
         "name": "address_line_2_Kilomaetr Lekh Prammuoy",
         "rawType": "float64",
         "type": "float"
        },
        {
         "name": "address_line_2_Kong Noy",
         "rawType": "float64",
         "type": "float"
        },
        {
         "name": "address_line_2_Kouk Roka",
         "rawType": "float64",
         "type": "float"
        },
        {
         "name": "address_line_2_Krang Thnong",
         "rawType": "float64",
         "type": "float"
        },
        {
         "name": "address_line_2_Mittapheap",
         "rawType": "float64",
         "type": "float"
        },
        {
         "name": "address_line_2_Monourom",
         "rawType": "float64",
         "type": "float"
        },
        {
         "name": "address_line_2_Nirouth",
         "rawType": "float64",
         "type": "float"
        },
        {
         "name": "address_line_2_Olympic",
         "rawType": "float64",
         "type": "float"
        },
        {
         "name": "address_line_2_Ou Ruessei Ti Bei",
         "rawType": "float64",
         "type": "float"
        },
        {
         "name": "address_line_2_Ou Ruessei Ti Buon",
         "rawType": "float64",
         "type": "float"
        },
        {
         "name": "address_line_2_Ou Ruessei Ti Muoy",
         "rawType": "float64",
         "type": "float"
        },
        {
         "name": "address_line_2_Ou Ruessei Ti Pir",
         "rawType": "float64",
         "type": "float"
        },
        {
         "name": "address_line_2_Ovlaok",
         "rawType": "float64",
         "type": "float"
        },
        {
         "name": "address_line_2_Phleung Chheh Roteh",
         "rawType": "float64",
         "type": "float"
        },
        {
         "name": "address_line_2_Phnom Penh Thmei",
         "rawType": "float64",
         "type": "float"
        },
        {
         "name": "address_line_2_Phsar Chas",
         "rawType": "float64",
         "type": "float"
        },
        {
         "name": "address_line_2_Phsar Daeum Kor",
         "rawType": "float64",
         "type": "float"
        },
        {
         "name": "address_line_2_Phsar Daeum Thkov",
         "rawType": "float64",
         "type": "float"
        },
        {
         "name": "address_line_2_Phsar Depou Ti Bei",
         "rawType": "float64",
         "type": "float"
        },
        {
         "name": "address_line_2_Phsar Depou Ti Muoy",
         "rawType": "float64",
         "type": "float"
        },
        {
         "name": "address_line_2_Phsar Depou Ti Pir",
         "rawType": "float64",
         "type": "float"
        },
        {
         "name": "address_line_2_Phsar Kandal Ti Muoy",
         "rawType": "float64",
         "type": "float"
        },
        {
         "name": "address_line_2_Phsar Kandal Ti Pir",
         "rawType": "float64",
         "type": "float"
        },
        {
         "name": "address_line_2_Phsar Thmei Ti Bei",
         "rawType": "float64",
         "type": "float"
        },
        {
         "name": "address_line_2_Phsar Thmei Ti Muoy",
         "rawType": "float64",
         "type": "float"
        },
        {
         "name": "address_line_2_Phsar Thmei Ti Pir",
         "rawType": "float64",
         "type": "float"
        },
        {
         "name": "address_line_2_Pong Tuek",
         "rawType": "float64",
         "type": "float"
        },
        {
         "name": "address_line_2_Ponhea Pon",
         "rawType": "float64",
         "type": "float"
        },
        {
         "name": "address_line_2_Ponsang",
         "rawType": "float64",
         "type": "float"
        },
        {
         "name": "address_line_2_Preaek Aeng",
         "rawType": "float64",
         "type": "float"
        },
        {
         "name": "address_line_2_Preaek Kampues",
         "rawType": "float64",
         "type": "float"
        },
        {
         "name": "address_line_2_Preaek Lieb",
         "rawType": "float64",
         "type": "float"
        },
        {
         "name": "address_line_2_Preaek Phnov",
         "rawType": "float64",
         "type": "float"
        },
        {
         "name": "address_line_2_Preaek Pra",
         "rawType": "float64",
         "type": "float"
        },
        {
         "name": "address_line_2_Preaek Ta Sek",
         "rawType": "float64",
         "type": "float"
        },
        {
         "name": "address_line_2_Preaek Thmei",
         "rawType": "float64",
         "type": "float"
        },
        {
         "name": "address_line_2_Prey Sa",
         "rawType": "float64",
         "type": "float"
        },
        {
         "name": "address_line_2_Prey Veaeng",
         "rawType": "float64",
         "type": "float"
        },
        {
         "name": "address_line_2_Roluos",
         "rawType": "float64",
         "type": "float"
        },
        {
         "name": "address_line_2_Ruessei Kaev",
         "rawType": "float64",
         "type": "float"
        },
        {
         "name": "address_line_2_Sak Sampov",
         "rawType": "float64",
         "type": "float"
        },
        {
         "name": "address_line_2_Samraong Kraom",
         "rawType": "float64",
         "type": "float"
        },
        {
         "name": "address_line_2_Snaor",
         "rawType": "float64",
         "type": "float"
        },
        {
         "name": "address_line_2_Spean Thma",
         "rawType": "float64",
         "type": "float"
        },
        {
         "name": "address_line_2_Srah Chak",
         "rawType": "float64",
         "type": "float"
        },
        {
         "name": "address_line_2_Stueng Mean Chey",
         "rawType": "float64",
         "type": "float"
        },
        {
         "name": "address_line_2_Svay Pak",
         "rawType": "float64",
         "type": "float"
        },
        {
         "name": "address_line_2_Tien",
         "rawType": "float64",
         "type": "float"
        },
        {
         "name": "address_line_2_Tonle Basak",
         "rawType": "float64",
         "type": "float"
        },
        {
         "name": "address_line_2_Trapeang Krasang",
         "rawType": "float64",
         "type": "float"
        },
        {
         "name": "address_line_2_Tuek L'ak Ti Bei",
         "rawType": "float64",
         "type": "float"
        },
        {
         "name": "address_line_2_Tuek L'ak Ti Muoy",
         "rawType": "float64",
         "type": "float"
        },
        {
         "name": "address_line_2_Tuek L'ak Ti Pir",
         "rawType": "float64",
         "type": "float"
        },
        {
         "name": "address_line_2_Tuek Thla",
         "rawType": "float64",
         "type": "float"
        },
        {
         "name": "address_line_2_Tumnob Tuek",
         "rawType": "float64",
         "type": "float"
        },
        {
         "name": "address_line_2_Tuol Sangke",
         "rawType": "float64",
         "type": "float"
        },
        {
         "name": "address_line_2_Tuol Svay Prey Ti Muoy",
         "rawType": "float64",
         "type": "float"
        },
        {
         "name": "address_line_2_Tuol Svay Prey Ti Pir",
         "rawType": "float64",
         "type": "float"
        },
        {
         "name": "address_line_2_Tuol Tumpung Ti Muoy",
         "rawType": "float64",
         "type": "float"
        },
        {
         "name": "address_line_2_Tuol Tumpung Ti Pir",
         "rawType": "float64",
         "type": "float"
        },
        {
         "name": "address_line_2_Veal Sbov",
         "rawType": "float64",
         "type": "float"
        },
        {
         "name": "address_line_2_Veal Vong",
         "rawType": "float64",
         "type": "float"
        },
        {
         "name": "address_line_2_Voat Phnum",
         "rawType": "float64",
         "type": "float"
        },
        {
         "name": "price_per_m2",
         "rawType": "float64",
         "type": "float"
        }
       ],
       "ref": "b29f6a63-49b2-4bd8-a4ae-3658639f9532",
       "rows": [
        [
         "0",
         "5",
         "6",
         "6",
         "28",
         "19",
         "0",
         "0",
         "0",
         "2",
         "3",
         "5",
         "0",
         "1",
         "6",
         "2",
         "2",
         "5",
         "0",
         "1",
         "0",
         "0",
         "2",
         "3",
         "0",
         "0",
         "0",
         "667.03025",
         "994.1",
         "619.2049999999999",
         "0.0",
         "0.0",
         "0.0",
         "0.0",
         "0.0",
         "0.0",
         "0.0",
         "0.0",
         "0.0",
         "0.0",
         "0.0",
         "0.0",
         "0.0",
         "0.0",
         "0.0",
         "0.0",
         "0.0",
         "0.0",
         "0.0",
         "0.0",
         "0.0",
         "0.0",
         "0.0",
         "0.0",
         "0.0",
         "0.0",
         "0.0",
         "0.0",
         "0.0",
         "0.0",
         "0.0",
         "0.0",
         "0.0",
         "0.0",
         "0.0",
         "0.0",
         "0.0",
         "0.0",
         "0.0",
         "0.0",
         "0.0",
         "0.0",
         "0.0",
         "0.0",
         "0.0",
         "0.0",
         "0.0",
         "0.0",
         "0.0",
         "0.0",
         "0.0",
         "0.0",
         "0.0",
         "0.0",
         "0.0",
         "0.0",
         "0.0",
         "0.0",
         "0.0",
         "0.0",
         "0.0",
         "0.0",
         "0.0",
         "1.0",
         "0.0",
         "0.0",
         "0.0",
         "0.0",
         "0.0",
         "0.0",
         "0.0",
         "0.0",
         "0.0",
         "0.0",
         "0.0",
         "0.0",
         "0.0",
         "0.0",
         "0.0",
         "0.0",
         "0.0",
         "0.0",
         "0.0",
         "0.0",
         "0.0",
         "0.0",
         "0.0",
         "0.0",
         "0.0",
         "0.0",
         "0.0",
         "0.0",
         "0.0",
         "365.99"
        ],
        [
         "1",
         "1",
         "2",
         "0",
         "172",
         "60",
         "50",
         "5",
         "53",
         "7",
         "27",
         "91",
         "14",
         "13",
         "37",
         "88",
         "55",
         "34",
         "17",
         "4",
         "15",
         "36",
         "13",
         "24",
         "5",
         "29",
         "88",
         "6632.4235",
         "8387.33",
         "6735.895",
         "0.0",
         "0.0",
         "0.0",
         "0.0",
         "0.0",
         "0.0",
         "0.0",
         "0.0",
         "0.0",
         "0.0",
         "0.0",
         "0.0",
         "0.0",
         "0.0",
         "0.0",
         "0.0",
         "0.0",
         "0.0",
         "0.0",
         "0.0",
         "0.0",
         "0.0",
         "0.0",
         "0.0",
         "0.0",
         "0.0",
         "0.0",
         "0.0",
         "0.0",
         "0.0",
         "0.0",
         "0.0",
         "0.0",
         "0.0",
         "0.0",
         "0.0",
         "0.0",
         "0.0",
         "0.0",
         "0.0",
         "0.0",
         "0.0",
         "0.0",
         "0.0",
         "0.0",
         "0.0",
         "0.0",
         "0.0",
         "0.0",
         "0.0",
         "0.0",
         "0.0",
         "0.0",
         "0.0",
         "0.0",
         "0.0",
         "0.0",
         "0.0",
         "0.0",
         "0.0",
         "0.0",
         "0.0",
         "0.0",
         "0.0",
         "0.0",
         "0.0",
         "0.0",
         "0.0",
         "0.0",
         "0.0",
         "0.0",
         "0.0",
         "0.0",
         "0.0",
         "0.0",
         "0.0",
         "0.0",
         "0.0",
         "1.0",
         "0.0",
         "0.0",
         "0.0",
         "0.0",
         "0.0",
         "0.0",
         "0.0",
         "0.0",
         "0.0",
         "0.0",
         "0.0",
         "0.0",
         "0.0",
         "0.0",
         "6573.84"
        ],
        [
         "2",
         "4",
         "1",
         "3",
         "138",
         "89",
         "5",
         "0",
         "0",
         "48",
         "54",
         "68",
         "14",
         "20",
         "39",
         "90",
         "71",
         "28",
         "0",
         "47",
         "0",
         "10",
         "7",
         "55",
         "0",
         "0",
         "8",
         "2603.92775",
         "3252.43",
         "2711.26",
         "0.0",
         "0.0",
         "0.0",
         "0.0",
         "0.0",
         "0.0",
         "0.0",
         "0.0",
         "0.0",
         "0.0",
         "0.0",
         "0.0",
         "0.0",
         "0.0",
         "0.0",
         "0.0",
         "0.0",
         "0.0",
         "0.0",
         "0.0",
         "0.0",
         "0.0",
         "0.0",
         "0.0",
         "0.0",
         "0.0",
         "0.0",
         "0.0",
         "0.0",
         "0.0",
         "0.0",
         "0.0",
         "0.0",
         "0.0",
         "0.0",
         "0.0",
         "0.0",
         "0.0",
         "0.0",
         "0.0",
         "0.0",
         "0.0",
         "0.0",
         "0.0",
         "0.0",
         "0.0",
         "0.0",
         "0.0",
         "0.0",
         "0.0",
         "0.0",
         "0.0",
         "0.0",
         "0.0",
         "0.0",
         "0.0",
         "0.0",
         "0.0",
         "0.0",
         "0.0",
         "0.0",
         "0.0",
         "0.0",
         "0.0",
         "0.0",
         "0.0",
         "0.0",
         "0.0",
         "0.0",
         "0.0",
         "0.0",
         "0.0",
         "0.0",
         "0.0",
         "0.0",
         "1.0",
         "0.0",
         "0.0",
         "0.0",
         "0.0",
         "0.0",
         "0.0",
         "0.0",
         "0.0",
         "0.0",
         "0.0",
         "0.0",
         "0.0",
         "0.0",
         "0.0",
         "0.0",
         "0.0",
         "0.0",
         "3170.62"
        ],
        [
         "3",
         "7",
         "4",
         "5",
         "79",
         "57",
         "1",
         "0",
         "0",
         "9",
         "32",
         "37",
         "2",
         "14",
         "37",
         "63",
         "54",
         "19",
         "0",
         "6",
         "0",
         "4",
         "5",
         "22",
         "0",
         "0",
         "0",
         "1984.85375",
         "2570.38",
         "1941.835",
         "0.0",
         "0.0",
         "0.0",
         "0.0",
         "0.0",
         "0.0",
         "0.0",
         "0.0",
         "0.0",
         "0.0",
         "0.0",
         "0.0",
         "0.0",
         "0.0",
         "0.0",
         "1.0",
         "0.0",
         "0.0",
         "0.0",
         "0.0",
         "0.0",
         "0.0",
         "0.0",
         "0.0",
         "0.0",
         "0.0",
         "0.0",
         "0.0",
         "0.0",
         "0.0",
         "0.0",
         "0.0",
         "0.0",
         "0.0",
         "0.0",
         "0.0",
         "0.0",
         "0.0",
         "0.0",
         "0.0",
         "0.0",
         "0.0",
         "0.0",
         "0.0",
         "0.0",
         "0.0",
         "0.0",
         "0.0",
         "0.0",
         "0.0",
         "0.0",
         "0.0",
         "0.0",
         "0.0",
         "0.0",
         "0.0",
         "0.0",
         "0.0",
         "0.0",
         "0.0",
         "0.0",
         "0.0",
         "0.0",
         "0.0",
         "0.0",
         "0.0",
         "0.0",
         "0.0",
         "0.0",
         "0.0",
         "0.0",
         "0.0",
         "0.0",
         "0.0",
         "0.0",
         "0.0",
         "0.0",
         "0.0",
         "0.0",
         "0.0",
         "0.0",
         "0.0",
         "0.0",
         "0.0",
         "0.0",
         "0.0",
         "0.0",
         "0.0",
         "0.0",
         "0.0",
         "0.0",
         "0.0",
         "0.0",
         "2138.94"
        ],
        [
         "4",
         "4",
         "1",
         "2",
         "160",
         "96",
         "5",
         "0",
         "1",
         "77",
         "53",
         "81",
         "14",
         "20",
         "39",
         "96",
         "75",
         "33",
         "0",
         "100",
         "2",
         "12",
         "19",
         "58",
         "0",
         "2",
         "10",
         "3157.24475",
         "3804.27",
         "3258.825",
         "0.0",
         "0.0",
         "0.0",
         "0.0",
         "0.0",
         "0.0",
         "0.0",
         "0.0",
         "0.0",
         "0.0",
         "0.0",
         "1.0",
         "0.0",
         "0.0",
         "0.0",
         "0.0",
         "0.0",
         "0.0",
         "0.0",
         "0.0",
         "0.0",
         "0.0",
         "0.0",
         "0.0",
         "0.0",
         "0.0",
         "0.0",
         "0.0",
         "0.0",
         "0.0",
         "0.0",
         "0.0",
         "0.0",
         "0.0",
         "0.0",
         "0.0",
         "0.0",
         "0.0",
         "0.0",
         "0.0",
         "0.0",
         "0.0",
         "0.0",
         "0.0",
         "0.0",
         "0.0",
         "0.0",
         "0.0",
         "0.0",
         "0.0",
         "0.0",
         "0.0",
         "0.0",
         "0.0",
         "0.0",
         "0.0",
         "0.0",
         "0.0",
         "0.0",
         "0.0",
         "0.0",
         "0.0",
         "0.0",
         "0.0",
         "0.0",
         "0.0",
         "0.0",
         "0.0",
         "0.0",
         "0.0",
         "0.0",
         "0.0",
         "0.0",
         "0.0",
         "0.0",
         "0.0",
         "0.0",
         "0.0",
         "0.0",
         "0.0",
         "0.0",
         "0.0",
         "0.0",
         "0.0",
         "0.0",
         "0.0",
         "0.0",
         "0.0",
         "0.0",
         "0.0",
         "0.0",
         "0.0",
         "0.0",
         "2665.02"
        ]
       ],
       "shape": {
        "columns": 123,
        "rows": 5
       }
      },
      "text/html": [
       "<div>\n",
       "<style scoped>\n",
       "    .dataframe tbody tr th:only-of-type {\n",
       "        vertical-align: middle;\n",
       "    }\n",
       "\n",
       "    .dataframe tbody tr th {\n",
       "        vertical-align: top;\n",
       "    }\n",
       "\n",
       "    .dataframe thead th {\n",
       "        text-align: right;\n",
       "    }\n",
       "</style>\n",
       "<table border=\"1\" class=\"dataframe\">\n",
       "  <thead>\n",
       "    <tr style=\"text-align: right;\">\n",
       "      <th></th>\n",
       "      <th>near_Koh_Pich_in_km</th>\n",
       "      <th>near_Russian_Market_in_km</th>\n",
       "      <th>near_Boeng_Keng_Kang_1_in_km</th>\n",
       "      <th>n_cafe_5km</th>\n",
       "      <th>n_cafe_in_3km_to_5km</th>\n",
       "      <th>n_hospital_in_1km_to_2km</th>\n",
       "      <th>nearest_hotel</th>\n",
       "      <th>n_hotel_in_1km_to_2km</th>\n",
       "      <th>n_hotel_in_3km_to_5km</th>\n",
       "      <th>n_mart_in_3km_to_5km</th>\n",
       "      <th>...</th>\n",
       "      <th>address_line_2_Tumnob Tuek</th>\n",
       "      <th>address_line_2_Tuol Sangke</th>\n",
       "      <th>address_line_2_Tuol Svay Prey Ti Muoy</th>\n",
       "      <th>address_line_2_Tuol Svay Prey Ti Pir</th>\n",
       "      <th>address_line_2_Tuol Tumpung Ti Muoy</th>\n",
       "      <th>address_line_2_Tuol Tumpung Ti Pir</th>\n",
       "      <th>address_line_2_Veal Sbov</th>\n",
       "      <th>address_line_2_Veal Vong</th>\n",
       "      <th>address_line_2_Voat Phnum</th>\n",
       "      <th>price_per_m2</th>\n",
       "    </tr>\n",
       "  </thead>\n",
       "  <tbody>\n",
       "    <tr>\n",
       "      <th>0</th>\n",
       "      <td>5</td>\n",
       "      <td>6</td>\n",
       "      <td>6</td>\n",
       "      <td>28</td>\n",
       "      <td>19</td>\n",
       "      <td>0</td>\n",
       "      <td>0</td>\n",
       "      <td>0</td>\n",
       "      <td>2</td>\n",
       "      <td>3</td>\n",
       "      <td>...</td>\n",
       "      <td>0.0</td>\n",
       "      <td>0.0</td>\n",
       "      <td>0.0</td>\n",
       "      <td>0.0</td>\n",
       "      <td>0.0</td>\n",
       "      <td>0.0</td>\n",
       "      <td>0.0</td>\n",
       "      <td>0.0</td>\n",
       "      <td>0.0</td>\n",
       "      <td>365.99</td>\n",
       "    </tr>\n",
       "    <tr>\n",
       "      <th>1</th>\n",
       "      <td>1</td>\n",
       "      <td>2</td>\n",
       "      <td>0</td>\n",
       "      <td>172</td>\n",
       "      <td>60</td>\n",
       "      <td>50</td>\n",
       "      <td>5</td>\n",
       "      <td>53</td>\n",
       "      <td>7</td>\n",
       "      <td>27</td>\n",
       "      <td>...</td>\n",
       "      <td>0.0</td>\n",
       "      <td>0.0</td>\n",
       "      <td>0.0</td>\n",
       "      <td>0.0</td>\n",
       "      <td>0.0</td>\n",
       "      <td>0.0</td>\n",
       "      <td>0.0</td>\n",
       "      <td>0.0</td>\n",
       "      <td>0.0</td>\n",
       "      <td>6573.84</td>\n",
       "    </tr>\n",
       "    <tr>\n",
       "      <th>2</th>\n",
       "      <td>4</td>\n",
       "      <td>1</td>\n",
       "      <td>3</td>\n",
       "      <td>138</td>\n",
       "      <td>89</td>\n",
       "      <td>5</td>\n",
       "      <td>0</td>\n",
       "      <td>0</td>\n",
       "      <td>48</td>\n",
       "      <td>54</td>\n",
       "      <td>...</td>\n",
       "      <td>0.0</td>\n",
       "      <td>0.0</td>\n",
       "      <td>0.0</td>\n",
       "      <td>0.0</td>\n",
       "      <td>0.0</td>\n",
       "      <td>0.0</td>\n",
       "      <td>0.0</td>\n",
       "      <td>0.0</td>\n",
       "      <td>0.0</td>\n",
       "      <td>3170.62</td>\n",
       "    </tr>\n",
       "    <tr>\n",
       "      <th>3</th>\n",
       "      <td>7</td>\n",
       "      <td>4</td>\n",
       "      <td>5</td>\n",
       "      <td>79</td>\n",
       "      <td>57</td>\n",
       "      <td>1</td>\n",
       "      <td>0</td>\n",
       "      <td>0</td>\n",
       "      <td>9</td>\n",
       "      <td>32</td>\n",
       "      <td>...</td>\n",
       "      <td>0.0</td>\n",
       "      <td>0.0</td>\n",
       "      <td>0.0</td>\n",
       "      <td>0.0</td>\n",
       "      <td>0.0</td>\n",
       "      <td>0.0</td>\n",
       "      <td>0.0</td>\n",
       "      <td>0.0</td>\n",
       "      <td>0.0</td>\n",
       "      <td>2138.94</td>\n",
       "    </tr>\n",
       "    <tr>\n",
       "      <th>4</th>\n",
       "      <td>4</td>\n",
       "      <td>1</td>\n",
       "      <td>2</td>\n",
       "      <td>160</td>\n",
       "      <td>96</td>\n",
       "      <td>5</td>\n",
       "      <td>0</td>\n",
       "      <td>1</td>\n",
       "      <td>77</td>\n",
       "      <td>53</td>\n",
       "      <td>...</td>\n",
       "      <td>0.0</td>\n",
       "      <td>0.0</td>\n",
       "      <td>0.0</td>\n",
       "      <td>0.0</td>\n",
       "      <td>0.0</td>\n",
       "      <td>0.0</td>\n",
       "      <td>0.0</td>\n",
       "      <td>0.0</td>\n",
       "      <td>0.0</td>\n",
       "      <td>2665.02</td>\n",
       "    </tr>\n",
       "  </tbody>\n",
       "</table>\n",
       "<p>5 rows × 123 columns</p>\n",
       "</div>"
      ],
      "text/plain": [
       "   near_Koh_Pich_in_km  near_Russian_Market_in_km  \\\n",
       "0                    5                          6   \n",
       "1                    1                          2   \n",
       "2                    4                          1   \n",
       "3                    7                          4   \n",
       "4                    4                          1   \n",
       "\n",
       "   near_Boeng_Keng_Kang_1_in_km  n_cafe_5km  n_cafe_in_3km_to_5km  \\\n",
       "0                             6          28                    19   \n",
       "1                             0         172                    60   \n",
       "2                             3         138                    89   \n",
       "3                             5          79                    57   \n",
       "4                             2         160                    96   \n",
       "\n",
       "   n_hospital_in_1km_to_2km  nearest_hotel  n_hotel_in_1km_to_2km  \\\n",
       "0                         0              0                      0   \n",
       "1                        50              5                     53   \n",
       "2                         5              0                      0   \n",
       "3                         1              0                      0   \n",
       "4                         5              0                      1   \n",
       "\n",
       "   n_hotel_in_3km_to_5km  n_mart_in_3km_to_5km  ...  \\\n",
       "0                      2                     3  ...   \n",
       "1                      7                    27  ...   \n",
       "2                     48                    54  ...   \n",
       "3                      9                    32  ...   \n",
       "4                     77                    53  ...   \n",
       "\n",
       "   address_line_2_Tumnob Tuek  address_line_2_Tuol Sangke  \\\n",
       "0                         0.0                         0.0   \n",
       "1                         0.0                         0.0   \n",
       "2                         0.0                         0.0   \n",
       "3                         0.0                         0.0   \n",
       "4                         0.0                         0.0   \n",
       "\n",
       "   address_line_2_Tuol Svay Prey Ti Muoy  \\\n",
       "0                                    0.0   \n",
       "1                                    0.0   \n",
       "2                                    0.0   \n",
       "3                                    0.0   \n",
       "4                                    0.0   \n",
       "\n",
       "   address_line_2_Tuol Svay Prey Ti Pir  address_line_2_Tuol Tumpung Ti Muoy  \\\n",
       "0                                   0.0                                  0.0   \n",
       "1                                   0.0                                  0.0   \n",
       "2                                   0.0                                  0.0   \n",
       "3                                   0.0                                  0.0   \n",
       "4                                   0.0                                  0.0   \n",
       "\n",
       "   address_line_2_Tuol Tumpung Ti Pir  address_line_2_Veal Sbov  \\\n",
       "0                                 0.0                       0.0   \n",
       "1                                 0.0                       0.0   \n",
       "2                                 0.0                       0.0   \n",
       "3                                 0.0                       0.0   \n",
       "4                                 0.0                       0.0   \n",
       "\n",
       "   address_line_2_Veal Vong  address_line_2_Voat Phnum  price_per_m2  \n",
       "0                       0.0                        0.0        365.99  \n",
       "1                       0.0                        0.0       6573.84  \n",
       "2                       0.0                        0.0       3170.62  \n",
       "3                       0.0                        0.0       2138.94  \n",
       "4                       0.0                        0.0       2665.02  \n",
       "\n",
       "[5 rows x 123 columns]"
      ]
     },
     "execution_count": 3,
     "metadata": {},
     "output_type": "execute_result"
    }
   ],
   "source": [
    "df = pd.read_csv('../../../data/preprocessed/feature_selection_by_model_mock_data.csv')\n",
    "df.head()"
   ]
  },
  {
   "cell_type": "code",
   "execution_count": 4,
   "id": "e77981ce",
   "metadata": {},
   "outputs": [
    {
     "data": {
      "text/plain": [
       "(9973, 123)"
      ]
     },
     "execution_count": 4,
     "metadata": {},
     "output_type": "execute_result"
    }
   ],
   "source": [
    "df.shape    "
   ]
  },
  {
   "cell_type": "code",
   "execution_count": 5,
   "id": "e1a258e4",
   "metadata": {},
   "outputs": [],
   "source": [
    "# df.dropduplicates(inplace=True)"
   ]
  },
  {
   "cell_type": "code",
   "execution_count": 6,
   "id": "d85f8a48",
   "metadata": {},
   "outputs": [],
   "source": [
    "X = df.drop('price_per_m2', axis=1)\n",
    "y = df['price_per_m2']\n",
    "\n",
    "X_train, X_test, y_train, y_test = train_test_split(X, y, test_size=0.2, random_state=42)"
   ]
  },
  {
   "cell_type": "code",
   "execution_count": 7,
   "id": "1b7709f5",
   "metadata": {},
   "outputs": [
    {
     "name": "stderr",
     "output_type": "stream",
     "text": [
      "d:\\anaconda\\envs\\env_v3.10\\lib\\site-packages\\sklearn\\model_selection\\_search.py:317: UserWarning: The total space of parameters 40 is smaller than n_iter=100. Running 40 iterations. For exhaustive searches, use GridSearchCV.\n",
      "  warnings.warn(\n"
     ]
    },
    {
     "name": "stdout",
     "output_type": "stream",
     "text": [
      "Best Hyperparameters: {'positive': False, 'n_jobs': 1, 'fit_intercept': False, 'copy_X': True}\n",
      "Best Score: 0.9678667499113331\n"
     ]
    }
   ],
   "source": [
    "model = LinearRegression()\n",
    "\n",
    "param_space = {'copy_X': [True,False], \n",
    "               'fit_intercept': [True,False], \n",
    "               'n_jobs': [1,5,10,15,None], \n",
    "               'positive': [True,False]}\n",
    "\n",
    "random_search = RandomizedSearchCV(model, param_space, n_iter=100, cv=5)\n",
    "random_search.fit(X_train, y_train)\n",
    "\n",
    "print(f\"Best Hyperparameters: {random_search.best_params_}\")\n",
    "print(f\"Best Score: {random_search.best_score_}\")"
   ]
  },
  {
   "cell_type": "code",
   "execution_count": 8,
   "id": "d605e841",
   "metadata": {},
   "outputs": [
    {
     "data": {
      "image/png": "[encoded data removed]",
      "text/plain": [
       "<Figure size 1000x600 with 1 Axes>"
      ]
     },
     "metadata": {},
     "output_type": "display_data"
    }
   ],
   "source": [
    "from math import sqrt\n",
    "\n",
    "# Lists to store training and validation losses\n",
    "train_losses = []\n",
    "val_losses = []\n",
    "\n",
    "# Train the model over a range of epochs\n",
    "epochs = range(1, 101)\n",
    "for epoch in epochs:\n",
    "    model.fit(X_train, y_train)\n",
    "    \n",
    "    # Predict and calculate the training loss\n",
    "    train_pred = model.predict(X_train)\n",
    "    train_loss = r2_score(y_train, train_pred)\n",
    "    train_losses.append(train_loss)\n",
    "    \n",
    "    # Predict and calculate\n",
    "    # Predict and calculate the validation loss\n",
    "    val_pred = model.predict(X_test)\n",
    "    val_loss = r2_score(y_test, val_pred)\n",
    "    val_losses.append(val_loss)\n",
    "\n",
    "# Plotting the learning curve\n",
    "plt.figure(figsize=(10, 6))\n",
    "plt.plot(epochs, train_losses, label='Training RMSE')\n",
    "plt.plot(epochs, val_losses, label='Validation RMSE', linestyle='--')\n",
    "plt.title('Learning Curve')\n",
    "plt.xlabel('Epochs')\n",
    "plt.ylabel('R2 score')\n",
    "plt.legend()\n",
    "plt.grid(True)\n",
    "plt.tight_layout()"
   ]
  },
  {
   "cell_type": "code",
   "execution_count": 9,
   "id": "c2c9780d",
   "metadata": {},
   "outputs": [
    {
     "name": "stdout",
     "output_type": "stream",
     "text": [
      "R² Score: 0.976\n",
      "RMSE: 225.87\n"
     ]
    }
   ],
   "source": [
    "# Make predictions\n",
    "y_pred = random_search.predict(X_test)\n",
    "\n",
    "# Evaluate performance\n",
    "r2 = r2_score(y_test, y_pred)\n",
    "rmse = np.sqrt(mean_squared_error(y_test, y_pred))\n",
    "\n",
    "print(f\"R² Score: {r2:.3f}\")  # Closer to 1.0 is better\n",
    "print(f\"RMSE: {rmse:.2f}\")     # Lower is better\n"
   ]
  },
  {
   "cell_type": "code",
   "execution_count": 10,
   "id": "4c7a1012",
   "metadata": {},
   "outputs": [
    {
     "name": "stdout",
     "output_type": "stream",
     "text": [
      "Train R² Score: 0.974\n",
      "Train RMSE: 252.37\n",
      "Test R² Score: 0.976\n",
      "Test RMSE: 225.87\n"
     ]
    }
   ],
   "source": [
    "# Evaluate on training set\n",
    "y_train_pred = random_search.predict(X_train)\n",
    "r2_train = r2_score(y_train, y_train_pred)\n",
    "rmse_train = np.sqrt(mean_squared_error(y_train, y_train_pred))\n",
    "\n",
    "print(f\"Train R² Score: {r2_train:.3f}\")\n",
    "print(f\"Train RMSE: {rmse_train:.2f}\")\n",
    "print(f\"Test R² Score: {r2:.3f}\")\n",
    "print(f\"Test RMSE: {rmse:.2f}\")"
   ]
  },
  {
   "cell_type": "code",
   "execution_count": 11,
   "id": "f7f3ef81",
   "metadata": {},
   "outputs": [
    {
     "data": {
      "image/png": "[encoded data removed]",
      "text/plain": [
       "<Figure size 800x600 with 1 Axes>"
      ]
     },
     "metadata": {},
     "output_type": "display_data"
    }
   ],
   "source": [
    "plt.figure(figsize=(8, 6))\n",
    "plt.scatter(y_test, y_pred, alpha=0.5)\n",
    "plt.plot([y_test.min(), y_test.max()], [y_test.min(), y_test.max()], 'r--')\n",
    "plt.xlabel(\"Actual Price per m²\")\n",
    "plt.ylabel(\"Predicted Price per m²\")\n",
    "plt.title(\"Actual vs Predicted (Test Set)\")\n",
    "plt.grid(True)\n",
    "plt.show()"
   ]
  },
  {
   "cell_type": "code",
   "execution_count": null,
   "id": "de4904eb",
   "metadata": {},
   "outputs": [
    {
     "data": {
      "image/png": "[encoded data removed]",
      "text/plain": [
       "<Figure size 800x600 with 1 Axes>"
      ]
     },
     "metadata": {},
     "output_type": "display_data"
    }
   ],
   "source": [
    "residuals = y_test - y_pred\n",
    "plt.figure(figsize=(8, 6))\n",
    "plt.scatter(y_pred, residuals, alpha=0.5)\n",
    "plt.axhline(0, color='red', linestyle='--')\n",
    "plt.xlabel(\"Predicted Price per m²\")\n",
    "plt.ylabel(\"Residuals\")\n",
    "plt.title(\"Residual Plot (Test Set)\")\n",
    "plt.grid(True)\n",
    "plt.show()"
   ]
  },
  {
   "cell_type": "code",
   "execution_count": 13,
   "id": "88beaa44",
   "metadata": {},
   "outputs": [
    {
     "name": "stdout",
     "output_type": "stream",
     "text": [
      "Cross-validated R² scores: [0.94336047 0.97342819 0.9751257  0.97787614 0.98251765]\n",
      "Mean R²: 0.9704616309646704\n",
      "Std R²: 0.013894960211636151\n"
     ]
    }
   ],
   "source": [
    "from sklearn.model_selection import cross_val_score\n",
    "\n",
    "# Use 5-fold cross-validation (you can change cv=5 to another value)\n",
    "cv_scores = cross_val_score(model, X, y, cv=5, scoring='r2')\n",
    "\n",
    "print(\"Cross-validated R² scores:\", cv_scores)\n",
    "print(\"Mean R²:\", np.mean(cv_scores))\n",
    "print(\"Std R²:\", np.std(cv_scores))"
   ]
  },
  {
   "cell_type": "code",
   "execution_count": 14,
   "id": "07c07049",
   "metadata": {},
   "outputs": [
    {
     "data": {
      "image/png": "[encoded data removed]",
      "text/plain": [
       "<Figure size 800x400 with 1 Axes>"
      ]
     },
     "metadata": {},
     "output_type": "display_data"
    }
   ],
   "source": [
    "from sklearn.model_selection import cross_val_score\n",
    "import matplotlib.pyplot as plt\n",
    "import seaborn as sns\n",
    "\n",
    "# Set number of folds\n",
    "cv_folds = 5  # Change this to any number of folds you want\n",
    "plt.figure(figsize=(8, 4))\n",
    "plt.plot(range(1, cv_folds + 1), cv_scores, marker='o', linestyle='-', color='blue', label='Fold R²')\n",
    "\n",
    "# Annotate each point with its R² value\n",
    "for i, score in enumerate(cv_scores):\n",
    "    plt.text(i + 1, score + 0.01, f\"{score:.2f}\", ha='center', va='bottom', fontsize=9, color='blue')\n",
    "\n",
    "# Plot mean R² as a horizontal dashed line\n",
    "mean_r2 = np.mean(cv_scores)\n",
    "plt.axhline(mean_r2, color='red', linestyle='--', label=f\"Mean R² = {mean_r2:.2f}\")\n",
    "\n",
    "plt.xlabel(\"Fold\")\n",
    "plt.ylabel(\"R² Score\")\n",
    "plt.title(f\"Cross-Validated R² Scores ({cv_folds}-Fold)\")\n",
    "plt.ylim(0, 1)\n",
    "plt.legend()\n",
    "plt.grid(True, axis='y')\n",
    "plt.show()"
   ]
  },
  {
   "cell_type": "code",
   "execution_count": 15,
   "id": "c5c3776d",
   "metadata": {},
   "outputs": [
    {
     "data": {
      "image/png": "[encoded data removed]",
      "text/plain": [
       "<Figure size 800x600 with 1 Axes>"
      ]
     },
     "metadata": {},
     "output_type": "display_data"
    }
   ],
   "source": [
    "# Ensure y is your target variable before calling learning_curve\n",
    "y = df['price_per_m2']\n",
    "\n",
    "from sklearn.model_selection import learning_curve\n",
    "\n",
    "train_sizes, train_scores, test_scores = learning_curve(\n",
    "    model, X, y, cv=5, scoring='r2', n_jobs=-1,\n",
    "    train_sizes=np.linspace(0.1, 1.0, 10), shuffle=True, random_state=42\n",
    ")\n",
    "\n",
    "train_scores_mean = np.mean(train_scores, axis=1)\n",
    "test_scores_mean = np.mean(test_scores, axis=1)\n",
    "\n",
    "plt.figure(figsize=(8, 6))\n",
    "plt.plot(train_sizes, train_scores_mean, 'o-', label=\"Training score\")\n",
    "plt.plot(train_sizes, test_scores_mean, 'o-', label=\"Cross-validation score\")\n",
    "\n",
    "plt.xlabel(\"Training Set Size\")\n",
    "plt.ylabel(\"R² Score\")\n",
    "plt.title(\"Learning Curve with Annotated R²\")\n",
    "plt.legend(loc=\"best\")\n",
    "plt.grid(True)\n",
    "plt.show()"
   ]
  },
  {
   "cell_type": "code",
   "execution_count": 16,
   "id": "ef74156b",
   "metadata": {},
   "outputs": [
    {
     "data": {
      "text/plain": [
       "['../../../models/linear_regression/linear_regression_model_v1.joblib']"
      ]
     },
     "execution_count": 16,
     "metadata": {},
     "output_type": "execute_result"
    }
   ],
   "source": [
    "import joblib\n",
    "joblib.dump(model, \"../../../models/linear_regression/linear_regression_model_v1.joblib\")"
   ]
  }
 ],
 "metadata": {
  "kernelspec": {
   "display_name": "env_v3.10",
   "language": "python",
   "name": "python3"
  },
  "language_info": {
   "codemirror_mode": {
    "name": "ipython",
    "version": 3
   },
   "file_extension": ".py",
   "mimetype": "text/x-python",
   "name": "python",
   "nbconvert_exporter": "python",
   "pygments_lexer": "ipython3",
   "version": "3.10.16"
  }
 },
 "nbformat": 4,
 "nbformat_minor": 5
}
