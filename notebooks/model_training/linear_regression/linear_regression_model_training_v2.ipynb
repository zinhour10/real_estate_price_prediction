{
 "cells": [
  {
   "cell_type": "code",
   "execution_count": 59,
   "id": "4b321240",
   "metadata": {},
   "outputs": [],
   "source": [
    "import numpy as np\n",
    "import matplotlib.pyplot as plt\n",
    "from sklearn.linear_model import LinearRegression\n",
    "from sklearn.model_selection import train_test_split\n",
    "from sklearn.metrics import r2_score, mean_squared_error\n",
    "import pandas as pd\n",
    "from sklearn.model_selection import RandomizedSearchCV"
   ]
  },
  {
   "cell_type": "code",
   "execution_count": 60,
   "id": "9e7c46e8",
   "metadata": {},
   "outputs": [
    {
     "data": {
      "application/vnd.microsoft.datawrangler.viewer.v0+json": {
       "columns": [
        {
         "name": "index",
         "rawType": "int64",
         "type": "integer"
        },
        {
         "name": "near_AEON_Mall_1_in_km",
         "rawType": "int64",
         "type": "integer"
        },
        {
         "name": "near_Bassac_Lane_in_km",
         "rawType": "int64",
         "type": "integer"
        },
        {
         "name": "near_Olympic_Stadium_in_km",
         "rawType": "int64",
         "type": "integer"
        },
        {
         "name": "near_Phsar_Tmey_in_km",
         "rawType": "int64",
         "type": "integer"
        },
        {
         "name": "near_Boeng_Keng_Kang_1_in_km",
         "rawType": "int64",
         "type": "integer"
        },
        {
         "name": "near_Wat_Phnom_in_km",
         "rawType": "int64",
         "type": "integer"
        },
        {
         "name": "near_Chroy_Changvar_Bridge_in_km",
         "rawType": "int64",
         "type": "integer"
        },
        {
         "name": "near_Vattanac_Tower_in_km",
         "rawType": "int64",
         "type": "integer"
        },
        {
         "name": "near_Royal_Palace_in_km",
         "rawType": "int64",
         "type": "integer"
        },
        {
         "name": "near_Sisowath_Riverside_Park_in_km",
         "rawType": "int64",
         "type": "integer"
        },
        {
         "name": "near_Phsar_Chas_in_km",
         "rawType": "int64",
         "type": "integer"
        },
        {
         "name": "near_Phsar_kandal_in_km",
         "rawType": "int64",
         "type": "integer"
        },
        {
         "name": "n_cafe_5km",
         "rawType": "int64",
         "type": "integer"
        },
        {
         "name": "n_cafe_in_3km_to_5km",
         "rawType": "int64",
         "type": "integer"
        },
        {
         "name": "n_gas_station_5km",
         "rawType": "int64",
         "type": "integer"
        },
        {
         "name": "n_gas_station_in_3km_to_5km",
         "rawType": "int64",
         "type": "integer"
        },
        {
         "name": "n_hotel_5km",
         "rawType": "int64",
         "type": "integer"
        },
        {
         "name": "n_pre_school_5km",
         "rawType": "int64",
         "type": "integer"
        },
        {
         "name": "n_secondary_school_5km",
         "rawType": "int64",
         "type": "integer"
        },
        {
         "name": "n_primary_school_5km",
         "rawType": "int64",
         "type": "integer"
        },
        {
         "name": "n_university_5km",
         "rawType": "int64",
         "type": "integer"
        },
        {
         "name": "n_seven_eleven_5km",
         "rawType": "int64",
         "type": "integer"
        },
        {
         "name": "n_super_market_5km",
         "rawType": "int64",
         "type": "integer"
        },
        {
         "name": "n_atm_5km",
         "rawType": "int64",
         "type": "integer"
        },
        {
         "name": "h3_price_mean",
         "rawType": "float64",
         "type": "float"
        },
        {
         "name": "h3_price_max",
         "rawType": "float64",
         "type": "float"
        },
        {
         "name": "h3_price_median",
         "rawType": "float64",
         "type": "float"
        },
        {
         "name": "h3_price_min",
         "rawType": "float64",
         "type": "float"
        },
        {
         "name": "address_locality_Chbar Ampov",
         "rawType": "int64",
         "type": "integer"
        },
        {
         "name": "address_locality_Chraoy Chongvar",
         "rawType": "int64",
         "type": "integer"
        },
        {
         "name": "address_locality_Dangkao",
         "rawType": "int64",
         "type": "integer"
        },
        {
         "name": "address_locality_Doun Penh",
         "rawType": "int64",
         "type": "integer"
        },
        {
         "name": "address_locality_Mean Chey",
         "rawType": "int64",
         "type": "integer"
        },
        {
         "name": "address_locality_Praek Pnov",
         "rawType": "int64",
         "type": "integer"
        },
        {
         "name": "address_locality_Prampir Meakkakra",
         "rawType": "int64",
         "type": "integer"
        },
        {
         "name": "address_locality_Pur SenChey",
         "rawType": "int64",
         "type": "integer"
        },
        {
         "name": "address_locality_Russey Keo",
         "rawType": "int64",
         "type": "integer"
        },
        {
         "name": "address_locality_Saensokh",
         "rawType": "int64",
         "type": "integer"
        },
        {
         "name": "address_locality_Tuol Kouk",
         "rawType": "int64",
         "type": "integer"
        },
        {
         "name": "address_line_2_Boeng Kak Ti Muoy",
         "rawType": "int64",
         "type": "integer"
        },
        {
         "name": "address_line_2_Boeng Kak Ti Pir",
         "rawType": "int64",
         "type": "integer"
        },
        {
         "name": "address_line_2_Boeng Keng Kang Ti Bei",
         "rawType": "int64",
         "type": "integer"
        },
        {
         "name": "address_line_2_Boeng Keng Kang Ti Muoy",
         "rawType": "int64",
         "type": "integer"
        },
        {
         "name": "address_line_2_Boeng Keng Kang Ti Pir",
         "rawType": "int64",
         "type": "integer"
        },
        {
         "name": "address_line_2_Boeng Proluet",
         "rawType": "int64",
         "type": "integer"
        },
        {
         "name": "address_line_2_Boeng Reang",
         "rawType": "int64",
         "type": "integer"
        },
        {
         "name": "address_line_2_Boeng Salang",
         "rawType": "int64",
         "type": "integer"
        },
        {
         "name": "address_line_2_Boeng Thum",
         "rawType": "int64",
         "type": "integer"
        },
        {
         "name": "address_line_2_Boeng Trabaek",
         "rawType": "int64",
         "type": "integer"
        },
        {
         "name": "address_line_2_Boeng Tumpun",
         "rawType": "int64",
         "type": "integer"
        },
        {
         "name": "address_line_2_Chak Angrae Kraom",
         "rawType": "int64",
         "type": "integer"
        },
        {
         "name": "address_line_2_Chak Angrae Leu",
         "rawType": "int64",
         "type": "integer"
        },
        {
         "name": "address_line_2_Chakto Mukh",
         "rawType": "int64",
         "type": "integer"
        },
        {
         "name": "address_line_2_Chaom Chau",
         "rawType": "int64",
         "type": "integer"
        },
        {
         "name": "address_line_2_Chbar Ampov Ti Pir",
         "rawType": "int64",
         "type": "integer"
        },
        {
         "name": "address_line_2_Cheung Aek",
         "rawType": "int64",
         "type": "integer"
        },
        {
         "name": "address_line_2_Chey Chummeah",
         "rawType": "int64",
         "type": "integer"
        },
        {
         "name": "address_line_2_Chhbar Ampov Ti Muoy",
         "rawType": "int64",
         "type": "integer"
        },
        {
         "name": "address_line_2_Chrang Chamreh Ti Muoy",
         "rawType": "int64",
         "type": "integer"
        },
        {
         "name": "address_line_2_Chrang Chamreh Ti Pir",
         "rawType": "int64",
         "type": "integer"
        },
        {
         "name": "address_line_2_Chrouy Changvar",
         "rawType": "int64",
         "type": "integer"
        },
        {
         "name": "address_line_2_Dangkao",
         "rawType": "int64",
         "type": "integer"
        },
        {
         "name": "address_line_2_Kakab",
         "rawType": "int64",
         "type": "integer"
        },
        {
         "name": "address_line_2_Kamboul",
         "rawType": "int64",
         "type": "integer"
        },
        {
         "name": "address_line_2_Kantaok",
         "rawType": "int64",
         "type": "integer"
        },
        {
         "name": "address_line_2_Kaoh Dach",
         "rawType": "int64",
         "type": "integer"
        },
        {
         "name": "address_line_2_Kbal Kaoh",
         "rawType": "int64",
         "type": "integer"
        },
        {
         "name": "address_line_2_Khmuonh",
         "rawType": "int64",
         "type": "integer"
        },
        {
         "name": "address_line_2_Kilomaetr Lekh Prammuoy",
         "rawType": "int64",
         "type": "integer"
        },
        {
         "name": "address_line_2_Kong Noy",
         "rawType": "int64",
         "type": "integer"
        },
        {
         "name": "address_line_2_Kouk Roka",
         "rawType": "int64",
         "type": "integer"
        },
        {
         "name": "address_line_2_Krang Pongro",
         "rawType": "int64",
         "type": "integer"
        },
        {
         "name": "address_line_2_Krang Thnong",
         "rawType": "int64",
         "type": "integer"
        },
        {
         "name": "address_line_2_Mittapheap",
         "rawType": "int64",
         "type": "integer"
        },
        {
         "name": "address_line_2_Monourom",
         "rawType": "int64",
         "type": "integer"
        },
        {
         "name": "address_line_2_Nirouth",
         "rawType": "int64",
         "type": "integer"
        },
        {
         "name": "address_line_2_Olympic",
         "rawType": "int64",
         "type": "integer"
        },
        {
         "name": "address_line_2_Ou Ruessei Ti Bei",
         "rawType": "int64",
         "type": "integer"
        },
        {
         "name": "address_line_2_Ou Ruessei Ti Buon",
         "rawType": "int64",
         "type": "integer"
        },
        {
         "name": "address_line_2_Ou Ruessei Ti Muoy",
         "rawType": "int64",
         "type": "integer"
        },
        {
         "name": "address_line_2_Ou Ruessei Ti Pir",
         "rawType": "int64",
         "type": "integer"
        },
        {
         "name": "address_line_2_Ovlaok",
         "rawType": "int64",
         "type": "integer"
        },
        {
         "name": "address_line_2_Phleung Chheh Roteh",
         "rawType": "int64",
         "type": "integer"
        },
        {
         "name": "address_line_2_Phnom Penh Thmei",
         "rawType": "int64",
         "type": "integer"
        },
        {
         "name": "address_line_2_Phsar Chas",
         "rawType": "int64",
         "type": "integer"
        },
        {
         "name": "address_line_2_Phsar Daeum Kor",
         "rawType": "int64",
         "type": "integer"
        },
        {
         "name": "address_line_2_Phsar Daeum Thkov",
         "rawType": "int64",
         "type": "integer"
        },
        {
         "name": "address_line_2_Phsar Depou Ti Bei",
         "rawType": "int64",
         "type": "integer"
        },
        {
         "name": "address_line_2_Phsar Depou Ti Muoy",
         "rawType": "int64",
         "type": "integer"
        },
        {
         "name": "address_line_2_Phsar Depou Ti Pir",
         "rawType": "int64",
         "type": "integer"
        },
        {
         "name": "address_line_2_Phsar Kandal Ti Muoy",
         "rawType": "int64",
         "type": "integer"
        },
        {
         "name": "address_line_2_Phsar Kandal Ti Pir",
         "rawType": "int64",
         "type": "integer"
        },
        {
         "name": "address_line_2_Phsar Thmei Ti Bei",
         "rawType": "int64",
         "type": "integer"
        },
        {
         "name": "address_line_2_Phsar Thmei Ti Muoy",
         "rawType": "int64",
         "type": "integer"
        },
        {
         "name": "address_line_2_Phsar Thmei Ti Pir",
         "rawType": "int64",
         "type": "integer"
        },
        {
         "name": "address_line_2_Pong Tuek",
         "rawType": "int64",
         "type": "integer"
        },
        {
         "name": "address_line_2_Ponhea Pon",
         "rawType": "int64",
         "type": "integer"
        },
        {
         "name": "address_line_2_Ponsang",
         "rawType": "int64",
         "type": "integer"
        },
        {
         "name": "address_line_2_Prateah Lang",
         "rawType": "int64",
         "type": "integer"
        },
        {
         "name": "address_line_2_Preaek Aeng",
         "rawType": "int64",
         "type": "integer"
        },
        {
         "name": "address_line_2_Preaek Kampues",
         "rawType": "int64",
         "type": "integer"
        },
        {
         "name": "address_line_2_Preaek Lieb",
         "rawType": "int64",
         "type": "integer"
        },
        {
         "name": "address_line_2_Preaek Phnov",
         "rawType": "int64",
         "type": "integer"
        },
        {
         "name": "address_line_2_Preaek Pra",
         "rawType": "int64",
         "type": "integer"
        },
        {
         "name": "address_line_2_Preaek Ta Sek",
         "rawType": "int64",
         "type": "integer"
        },
        {
         "name": "address_line_2_Preaek Thmei",
         "rawType": "int64",
         "type": "integer"
        },
        {
         "name": "address_line_2_Prey Sa",
         "rawType": "int64",
         "type": "integer"
        },
        {
         "name": "address_line_2_Prey Veaeng",
         "rawType": "int64",
         "type": "integer"
        },
        {
         "name": "address_line_2_Roluos",
         "rawType": "int64",
         "type": "integer"
        },
        {
         "name": "address_line_2_Ruessei Kaev",
         "rawType": "int64",
         "type": "integer"
        },
        {
         "name": "address_line_2_Sak Sampov",
         "rawType": "int64",
         "type": "integer"
        },
        {
         "name": "address_line_2_Samraong",
         "rawType": "int64",
         "type": "integer"
        },
        {
         "name": "address_line_2_Samraong Kraom",
         "rawType": "int64",
         "type": "integer"
        },
        {
         "name": "address_line_2_Snaor",
         "rawType": "int64",
         "type": "integer"
        },
        {
         "name": "address_line_2_Spean Thma",
         "rawType": "int64",
         "type": "integer"
        },
        {
         "name": "address_line_2_Srah Chak",
         "rawType": "int64",
         "type": "integer"
        },
        {
         "name": "address_line_2_Stueng Mean Chey",
         "rawType": "int64",
         "type": "integer"
        },
        {
         "name": "address_line_2_Svay Pak",
         "rawType": "int64",
         "type": "integer"
        },
        {
         "name": "address_line_2_Tien",
         "rawType": "int64",
         "type": "integer"
        },
        {
         "name": "address_line_2_Tonle Basak",
         "rawType": "int64",
         "type": "integer"
        },
        {
         "name": "address_line_2_Trapeang Krasang",
         "rawType": "int64",
         "type": "integer"
        },
        {
         "name": "address_line_2_Tuek L'ak Ti Bei",
         "rawType": "int64",
         "type": "integer"
        },
        {
         "name": "address_line_2_Tuek L'ak Ti Muoy",
         "rawType": "int64",
         "type": "integer"
        },
        {
         "name": "address_line_2_Tuek L'ak Ti Pir",
         "rawType": "int64",
         "type": "integer"
        },
        {
         "name": "address_line_2_Tuek Thla",
         "rawType": "int64",
         "type": "integer"
        },
        {
         "name": "address_line_2_Tumnob Tuek",
         "rawType": "int64",
         "type": "integer"
        },
        {
         "name": "address_line_2_Tuol Sangke",
         "rawType": "int64",
         "type": "integer"
        },
        {
         "name": "address_line_2_Tuol Svay Prey Ti Muoy",
         "rawType": "int64",
         "type": "integer"
        },
        {
         "name": "address_line_2_Tuol Svay Prey Ti Pir",
         "rawType": "int64",
         "type": "integer"
        },
        {
         "name": "address_line_2_Tuol Tumpung Ti Muoy",
         "rawType": "int64",
         "type": "integer"
        },
        {
         "name": "address_line_2_Tuol Tumpung Ti Pir",
         "rawType": "int64",
         "type": "integer"
        },
        {
         "name": "address_line_2_Veal Sbov",
         "rawType": "int64",
         "type": "integer"
        },
        {
         "name": "address_line_2_Veal Vong",
         "rawType": "int64",
         "type": "integer"
        },
        {
         "name": "address_line_2_Voat Phnum",
         "rawType": "int64",
         "type": "integer"
        },
        {
         "name": "price_per_m2",
         "rawType": "float64",
         "type": "float"
        }
       ],
       "ref": "344b52dd-6859-4c97-b89b-510ca357cfac",
       "rows": [
        [
         "0",
         "5",
         "4",
         "3",
         "4",
         "4",
         "4",
         "5",
         "4",
         "5",
         "5",
         "5",
         "5",
         "168",
         "120",
         "174",
         "109",
         "44",
         "88",
         "73",
         "92",
         "108",
         "32",
         "82",
         "582",
         "3011.7277777777776",
         "3240.5",
         "3047.46",
         "2622.25",
         "0",
         "0",
         "0",
         "0",
         "1",
         "0",
         "0",
         "0",
         "0",
         "0",
         "0",
         "0",
         "0",
         "0",
         "0",
         "0",
         "0",
         "0",
         "0",
         "0",
         "0",
         "0",
         "0",
         "0",
         "0",
         "0",
         "0",
         "0",
         "0",
         "0",
         "0",
         "0",
         "0",
         "0",
         "0",
         "0",
         "0",
         "0",
         "0",
         "0",
         "0",
         "0",
         "0",
         "0",
         "0",
         "0",
         "0",
         "0",
         "0",
         "0",
         "0",
         "0",
         "0",
         "0",
         "0",
         "0",
         "0",
         "0",
         "0",
         "0",
         "0",
         "0",
         "0",
         "0",
         "0",
         "0",
         "0",
         "0",
         "0",
         "0",
         "0",
         "0",
         "0",
         "0",
         "0",
         "0",
         "0",
         "0",
         "0",
         "0",
         "0",
         "0",
         "0",
         "0",
         "0",
         "0",
         "0",
         "0",
         "1",
         "0",
         "0",
         "0",
         "0",
         "0",
         "0",
         "0",
         "0",
         "0",
         "0",
         "0",
         "0",
         "0",
         "0",
         "0",
         "0",
         "0",
         "3068.33"
        ],
        [
         "1",
         "2",
         "2",
         "3",
         "4",
         "2",
         "5",
         "6",
         "4",
         "4",
         "4",
         "5",
         "4",
         "143",
         "86",
         "113",
         "61",
         "71",
         "68",
         "61",
         "62",
         "59",
         "32",
         "79",
         "625",
         "3818.351025641026",
         "4961.91",
         "3806.73",
         "2560.65",
         "0",
         "0",
         "0",
         "0",
         "0",
         "0",
         "0",
         "0",
         "0",
         "0",
         "0",
         "0",
         "0",
         "0",
         "0",
         "0",
         "0",
         "0",
         "0",
         "0",
         "0",
         "0",
         "0",
         "0",
         "0",
         "0",
         "0",
         "0",
         "0",
         "0",
         "0",
         "0",
         "0",
         "0",
         "0",
         "0",
         "0",
         "0",
         "0",
         "0",
         "0",
         "0",
         "0",
         "0",
         "0",
         "0",
         "0",
         "0",
         "0",
         "0",
         "0",
         "0",
         "0",
         "0",
         "0",
         "0",
         "0",
         "0",
         "1",
         "0",
         "0",
         "0",
         "0",
         "0",
         "0",
         "0",
         "0",
         "0",
         "0",
         "0",
         "0",
         "0",
         "0",
         "0",
         "0",
         "0",
         "0",
         "0",
         "0",
         "0",
         "0",
         "0",
         "0",
         "0",
         "0",
         "0",
         "0",
         "0",
         "0",
         "0",
         "0",
         "0",
         "0",
         "0",
         "0",
         "0",
         "0",
         "0",
         "0",
         "0",
         "0",
         "0",
         "0",
         "0",
         "0",
         "0",
         "3632.23"
        ],
        [
         "2",
         "6",
         "5",
         "3",
         "3",
         "5",
         "3",
         "3",
         "3",
         "5",
         "5",
         "4",
         "5",
         "138",
         "80",
         "148",
         "76",
         "58",
         "62",
         "61",
         "69",
         "100",
         "25",
         "69",
         "614",
         "3702.541836734694",
         "4619.43",
         "3593.13",
         "3059.76",
         "0",
         "0",
         "0",
         "0",
         "0",
         "0",
         "0",
         "0",
         "0",
         "1",
         "0",
         "0",
         "0",
         "0",
         "0",
         "0",
         "0",
         "0",
         "0",
         "0",
         "0",
         "0",
         "0",
         "0",
         "0",
         "0",
         "0",
         "0",
         "0",
         "0",
         "0",
         "0",
         "0",
         "0",
         "0",
         "0",
         "0",
         "0",
         "0",
         "0",
         "0",
         "0",
         "0",
         "0",
         "0",
         "0",
         "0",
         "0",
         "0",
         "0",
         "0",
         "0",
         "0",
         "0",
         "0",
         "1",
         "0",
         "0",
         "0",
         "0",
         "0",
         "0",
         "0",
         "0",
         "0",
         "0",
         "0",
         "0",
         "0",
         "0",
         "0",
         "0",
         "0",
         "0",
         "0",
         "0",
         "0",
         "0",
         "0",
         "0",
         "0",
         "0",
         "0",
         "0",
         "0",
         "0",
         "0",
         "0",
         "0",
         "0",
         "0",
         "0",
         "0",
         "0",
         "0",
         "0",
         "0",
         "0",
         "0",
         "0",
         "0",
         "0",
         "0",
         "0",
         "0",
         "0",
         "3123.13"
        ],
        [
         "3",
         "5",
         "4",
         "2",
         "3",
         "4",
         "3",
         "3",
         "3",
         "4",
         "4",
         "3",
         "4",
         "169",
         "94",
         "169",
         "85",
         "86",
         "89",
         "75",
         "83",
         "110",
         "34",
         "93",
         "760",
         "3308.5307142857146",
         "4527.88",
         "3242.455",
         "2855.43",
         "0",
         "0",
         "0",
         "0",
         "0",
         "0",
         "0",
         "0",
         "0",
         "1",
         "0",
         "0",
         "0",
         "0",
         "0",
         "0",
         "0",
         "0",
         "0",
         "0",
         "0",
         "0",
         "0",
         "0",
         "0",
         "0",
         "0",
         "0",
         "0",
         "0",
         "0",
         "0",
         "0",
         "0",
         "0",
         "0",
         "0",
         "0",
         "0",
         "0",
         "0",
         "0",
         "0",
         "0",
         "0",
         "0",
         "0",
         "0",
         "0",
         "0",
         "0",
         "0",
         "0",
         "0",
         "0",
         "1",
         "0",
         "0",
         "0",
         "0",
         "0",
         "0",
         "0",
         "0",
         "0",
         "0",
         "0",
         "0",
         "0",
         "0",
         "0",
         "0",
         "0",
         "0",
         "0",
         "0",
         "0",
         "0",
         "0",
         "0",
         "0",
         "0",
         "0",
         "0",
         "0",
         "0",
         "0",
         "0",
         "0",
         "0",
         "0",
         "0",
         "0",
         "0",
         "0",
         "0",
         "0",
         "0",
         "0",
         "0",
         "0",
         "0",
         "0",
         "0",
         "0",
         "0",
         "3434.37"
        ],
        [
         "4",
         "3",
         "3",
         "5",
         "4",
         "3",
         "4",
         "5",
         "4",
         "3",
         "3",
         "3",
         "3",
         "98",
         "75",
         "49",
         "40",
         "83",
         "44",
         "34",
         "24",
         "23",
         "21",
         "64",
         "559",
         "3963.536363636364",
         "5619.81",
         "3973.66",
         "1745.11",
         "0",
         "0",
         "0",
         "1",
         "0",
         "0",
         "0",
         "0",
         "0",
         "0",
         "0",
         "0",
         "0",
         "0",
         "0",
         "0",
         "0",
         "0",
         "0",
         "0",
         "0",
         "0",
         "0",
         "0",
         "1",
         "0",
         "0",
         "0",
         "0",
         "0",
         "0",
         "0",
         "0",
         "0",
         "0",
         "0",
         "0",
         "0",
         "0",
         "0",
         "0",
         "0",
         "0",
         "0",
         "0",
         "0",
         "0",
         "0",
         "0",
         "0",
         "0",
         "0",
         "0",
         "0",
         "0",
         "0",
         "0",
         "0",
         "0",
         "0",
         "0",
         "0",
         "0",
         "0",
         "0",
         "0",
         "0",
         "0",
         "0",
         "0",
         "0",
         "0",
         "0",
         "0",
         "0",
         "0",
         "0",
         "0",
         "0",
         "0",
         "0",
         "0",
         "0",
         "0",
         "0",
         "0",
         "0",
         "0",
         "0",
         "0",
         "0",
         "0",
         "0",
         "0",
         "0",
         "0",
         "0",
         "0",
         "0",
         "0",
         "0",
         "0",
         "0",
         "0",
         "0",
         "0",
         "3855.9"
        ]
       ],
       "shape": {
        "columns": 135,
        "rows": 5
       }
      },
      "text/html": [
       "<div>\n",
       "<style scoped>\n",
       "    .dataframe tbody tr th:only-of-type {\n",
       "        vertical-align: middle;\n",
       "    }\n",
       "\n",
       "    .dataframe tbody tr th {\n",
       "        vertical-align: top;\n",
       "    }\n",
       "\n",
       "    .dataframe thead th {\n",
       "        text-align: right;\n",
       "    }\n",
       "</style>\n",
       "<table border=\"1\" class=\"dataframe\">\n",
       "  <thead>\n",
       "    <tr style=\"text-align: right;\">\n",
       "      <th></th>\n",
       "      <th>near_AEON_Mall_1_in_km</th>\n",
       "      <th>near_Bassac_Lane_in_km</th>\n",
       "      <th>near_Olympic_Stadium_in_km</th>\n",
       "      <th>near_Phsar_Tmey_in_km</th>\n",
       "      <th>near_Boeng_Keng_Kang_1_in_km</th>\n",
       "      <th>near_Wat_Phnom_in_km</th>\n",
       "      <th>near_Chroy_Changvar_Bridge_in_km</th>\n",
       "      <th>near_Vattanac_Tower_in_km</th>\n",
       "      <th>near_Royal_Palace_in_km</th>\n",
       "      <th>near_Sisowath_Riverside_Park_in_km</th>\n",
       "      <th>...</th>\n",
       "      <th>address_line_2_Tumnob Tuek</th>\n",
       "      <th>address_line_2_Tuol Sangke</th>\n",
       "      <th>address_line_2_Tuol Svay Prey Ti Muoy</th>\n",
       "      <th>address_line_2_Tuol Svay Prey Ti Pir</th>\n",
       "      <th>address_line_2_Tuol Tumpung Ti Muoy</th>\n",
       "      <th>address_line_2_Tuol Tumpung Ti Pir</th>\n",
       "      <th>address_line_2_Veal Sbov</th>\n",
       "      <th>address_line_2_Veal Vong</th>\n",
       "      <th>address_line_2_Voat Phnum</th>\n",
       "      <th>price_per_m2</th>\n",
       "    </tr>\n",
       "  </thead>\n",
       "  <tbody>\n",
       "    <tr>\n",
       "      <th>0</th>\n",
       "      <td>5</td>\n",
       "      <td>4</td>\n",
       "      <td>3</td>\n",
       "      <td>4</td>\n",
       "      <td>4</td>\n",
       "      <td>4</td>\n",
       "      <td>5</td>\n",
       "      <td>4</td>\n",
       "      <td>5</td>\n",
       "      <td>5</td>\n",
       "      <td>...</td>\n",
       "      <td>0</td>\n",
       "      <td>0</td>\n",
       "      <td>0</td>\n",
       "      <td>0</td>\n",
       "      <td>0</td>\n",
       "      <td>0</td>\n",
       "      <td>0</td>\n",
       "      <td>0</td>\n",
       "      <td>0</td>\n",
       "      <td>3068.33</td>\n",
       "    </tr>\n",
       "    <tr>\n",
       "      <th>1</th>\n",
       "      <td>2</td>\n",
       "      <td>2</td>\n",
       "      <td>3</td>\n",
       "      <td>4</td>\n",
       "      <td>2</td>\n",
       "      <td>5</td>\n",
       "      <td>6</td>\n",
       "      <td>4</td>\n",
       "      <td>4</td>\n",
       "      <td>4</td>\n",
       "      <td>...</td>\n",
       "      <td>0</td>\n",
       "      <td>0</td>\n",
       "      <td>0</td>\n",
       "      <td>0</td>\n",
       "      <td>0</td>\n",
       "      <td>0</td>\n",
       "      <td>0</td>\n",
       "      <td>0</td>\n",
       "      <td>0</td>\n",
       "      <td>3632.23</td>\n",
       "    </tr>\n",
       "    <tr>\n",
       "      <th>2</th>\n",
       "      <td>6</td>\n",
       "      <td>5</td>\n",
       "      <td>3</td>\n",
       "      <td>3</td>\n",
       "      <td>5</td>\n",
       "      <td>3</td>\n",
       "      <td>3</td>\n",
       "      <td>3</td>\n",
       "      <td>5</td>\n",
       "      <td>5</td>\n",
       "      <td>...</td>\n",
       "      <td>0</td>\n",
       "      <td>0</td>\n",
       "      <td>0</td>\n",
       "      <td>0</td>\n",
       "      <td>0</td>\n",
       "      <td>0</td>\n",
       "      <td>0</td>\n",
       "      <td>0</td>\n",
       "      <td>0</td>\n",
       "      <td>3123.13</td>\n",
       "    </tr>\n",
       "    <tr>\n",
       "      <th>3</th>\n",
       "      <td>5</td>\n",
       "      <td>4</td>\n",
       "      <td>2</td>\n",
       "      <td>3</td>\n",
       "      <td>4</td>\n",
       "      <td>3</td>\n",
       "      <td>3</td>\n",
       "      <td>3</td>\n",
       "      <td>4</td>\n",
       "      <td>4</td>\n",
       "      <td>...</td>\n",
       "      <td>0</td>\n",
       "      <td>0</td>\n",
       "      <td>0</td>\n",
       "      <td>0</td>\n",
       "      <td>0</td>\n",
       "      <td>0</td>\n",
       "      <td>0</td>\n",
       "      <td>0</td>\n",
       "      <td>0</td>\n",
       "      <td>3434.37</td>\n",
       "    </tr>\n",
       "    <tr>\n",
       "      <th>4</th>\n",
       "      <td>3</td>\n",
       "      <td>3</td>\n",
       "      <td>5</td>\n",
       "      <td>4</td>\n",
       "      <td>3</td>\n",
       "      <td>4</td>\n",
       "      <td>5</td>\n",
       "      <td>4</td>\n",
       "      <td>3</td>\n",
       "      <td>3</td>\n",
       "      <td>...</td>\n",
       "      <td>0</td>\n",
       "      <td>0</td>\n",
       "      <td>0</td>\n",
       "      <td>0</td>\n",
       "      <td>0</td>\n",
       "      <td>0</td>\n",
       "      <td>0</td>\n",
       "      <td>0</td>\n",
       "      <td>0</td>\n",
       "      <td>3855.90</td>\n",
       "    </tr>\n",
       "  </tbody>\n",
       "</table>\n",
       "<p>5 rows × 135 columns</p>\n",
       "</div>"
      ],
      "text/plain": [
       "   near_AEON_Mall_1_in_km  near_Bassac_Lane_in_km  near_Olympic_Stadium_in_km  \\\n",
       "0                       5                       4                           3   \n",
       "1                       2                       2                           3   \n",
       "2                       6                       5                           3   \n",
       "3                       5                       4                           2   \n",
       "4                       3                       3                           5   \n",
       "\n",
       "   near_Phsar_Tmey_in_km  near_Boeng_Keng_Kang_1_in_km  near_Wat_Phnom_in_km  \\\n",
       "0                      4                             4                     4   \n",
       "1                      4                             2                     5   \n",
       "2                      3                             5                     3   \n",
       "3                      3                             4                     3   \n",
       "4                      4                             3                     4   \n",
       "\n",
       "   near_Chroy_Changvar_Bridge_in_km  near_Vattanac_Tower_in_km  \\\n",
       "0                                 5                          4   \n",
       "1                                 6                          4   \n",
       "2                                 3                          3   \n",
       "3                                 3                          3   \n",
       "4                                 5                          4   \n",
       "\n",
       "   near_Royal_Palace_in_km  near_Sisowath_Riverside_Park_in_km  ...  \\\n",
       "0                        5                                   5  ...   \n",
       "1                        4                                   4  ...   \n",
       "2                        5                                   5  ...   \n",
       "3                        4                                   4  ...   \n",
       "4                        3                                   3  ...   \n",
       "\n",
       "   address_line_2_Tumnob Tuek  address_line_2_Tuol Sangke  \\\n",
       "0                           0                           0   \n",
       "1                           0                           0   \n",
       "2                           0                           0   \n",
       "3                           0                           0   \n",
       "4                           0                           0   \n",
       "\n",
       "   address_line_2_Tuol Svay Prey Ti Muoy  \\\n",
       "0                                      0   \n",
       "1                                      0   \n",
       "2                                      0   \n",
       "3                                      0   \n",
       "4                                      0   \n",
       "\n",
       "   address_line_2_Tuol Svay Prey Ti Pir  address_line_2_Tuol Tumpung Ti Muoy  \\\n",
       "0                                     0                                    0   \n",
       "1                                     0                                    0   \n",
       "2                                     0                                    0   \n",
       "3                                     0                                    0   \n",
       "4                                     0                                    0   \n",
       "\n",
       "   address_line_2_Tuol Tumpung Ti Pir  address_line_2_Veal Sbov  \\\n",
       "0                                   0                         0   \n",
       "1                                   0                         0   \n",
       "2                                   0                         0   \n",
       "3                                   0                         0   \n",
       "4                                   0                         0   \n",
       "\n",
       "   address_line_2_Veal Vong  address_line_2_Voat Phnum  price_per_m2  \n",
       "0                         0                          0       3068.33  \n",
       "1                         0                          0       3632.23  \n",
       "2                         0                          0       3123.13  \n",
       "3                         0                          0       3434.37  \n",
       "4                         0                          0       3855.90  \n",
       "\n",
       "[5 rows x 135 columns]"
      ]
     },
     "execution_count": 60,
     "metadata": {},
     "output_type": "execute_result"
    }
   ],
   "source": [
    "df = pd.read_csv('../../../data/preprocessed/land_dataset_final_feature_selection_Kbest_v1.csv')\n",
    "df.head()"
   ]
  },
  {
   "cell_type": "code",
   "execution_count": 61,
   "id": "e77981ce",
   "metadata": {},
   "outputs": [
    {
     "data": {
      "text/plain": [
       "(9272, 135)"
      ]
     },
     "execution_count": 61,
     "metadata": {},
     "output_type": "execute_result"
    }
   ],
   "source": [
    "df.shape    "
   ]
  },
  {
   "cell_type": "code",
   "execution_count": 62,
   "id": "e1a258e4",
   "metadata": {},
   "outputs": [],
   "source": [
    "# df.dropduplicates(inplace=True)"
   ]
  },
  {
   "cell_type": "code",
   "execution_count": 63,
   "id": "d85f8a48",
   "metadata": {},
   "outputs": [],
   "source": [
    "X = df.drop('price_per_m2', axis=1)\n",
    "y = df['price_per_m2']\n",
    "\n",
    "X_train, X_test, y_train, y_test = train_test_split(X, y, test_size=0.2, random_state=42)"
   ]
  },
  {
   "cell_type": "code",
   "execution_count": 64,
   "id": "1b7709f5",
   "metadata": {},
   "outputs": [
    {
     "name": "stderr",
     "output_type": "stream",
     "text": [
      "d:\\anaconda\\envs\\env_v3.10\\lib\\site-packages\\sklearn\\model_selection\\_search.py:317: UserWarning: The total space of parameters 40 is smaller than n_iter=100. Running 40 iterations. For exhaustive searches, use GridSearchCV.\n",
      "  warnings.warn(\n"
     ]
    },
    {
     "name": "stdout",
     "output_type": "stream",
     "text": [
      "Best Hyperparameters: {'positive': False, 'n_jobs': 1, 'fit_intercept': False, 'copy_X': True}\n",
      "Best Score: 0.9751327045050757\n"
     ]
    }
   ],
   "source": [
    "model = LinearRegression()\n",
    "\n",
    "param_space = {'copy_X': [True,False], \n",
    "               'fit_intercept': [True,False], \n",
    "               'n_jobs': [1,5,10,15,None], \n",
    "               'positive': [True,False]}\n",
    "\n",
    "random_search = RandomizedSearchCV(model, param_space, n_iter=100, cv=5)\n",
    "random_search.fit(X_train, y_train)\n",
    "\n",
    "print(f\"Best Hyperparameters: {random_search.best_params_}\")\n",
    "print(f\"Best Score: {random_search.best_score_}\")"
   ]
  },
  {
   "cell_type": "code",
   "execution_count": 65,
   "id": "d605e841",
   "metadata": {},
   "outputs": [],
   "source": [
    "# from math import sqrt\n",
    "\n",
    "# # Lists to store training and validation losses\n",
    "# train_losses = []\n",
    "# val_losses = []\n",
    "\n",
    "# # Train the model over a range of epochs\n",
    "# epochs = range(1, 101)\n",
    "# for epoch in epochs:\n",
    "#     random_search.fit(X_train, y_train)\n",
    "    \n",
    "#     # Predict and calculate the training loss\n",
    "#     train_pred = random_search.predict(X_train)\n",
    "#     train_loss = r2_score(y_train, train_pred)\n",
    "#     train_losses.append(train_loss)\n",
    "    \n",
    "#     # Predict and calculate\n",
    "#     # Predict and calculate the validation loss\n",
    "#     val_pred = random_search.predict(X_test)\n",
    "#     val_loss = r2_score(y_test, val_pred)\n",
    "#     val_losses.append(val_loss)\n",
    "\n",
    "# # Plotting the learning curve\n",
    "# plt.figure(figsize=(10, 6))\n",
    "# plt.plot(epochs, train_losses, label='Training RMSE')\n",
    "# plt.plot(epochs, val_losses, label='Validation RMSE', linestyle='--')\n",
    "# plt.title('Learning Curve')\n",
    "# plt.xlabel('Epochs')\n",
    "# plt.ylabel('R2 score')\n",
    "# plt.legend()\n",
    "# plt.grid(True)\n",
    "# plt.tight_layout()"
   ]
  },
  {
   "cell_type": "code",
   "execution_count": 66,
   "id": "c2c9780d",
   "metadata": {},
   "outputs": [
    {
     "name": "stdout",
     "output_type": "stream",
     "text": [
      "R² Score: 0.982\n",
      "RMSE: 293.86\n"
     ]
    }
   ],
   "source": [
    "# Make predictions\n",
    "y_pred = random_search.predict(X_test)\n",
    "\n",
    "# Evaluate performance\n",
    "r2 = r2_score(y_test, y_pred)\n",
    "rmse = np.sqrt(mean_squared_error(y_test, y_pred))\n",
    "\n",
    "print(f\"R² Score: {r2:.3f}\")  # Closer to 1.0 is better\n",
    "print(f\"RMSE: {rmse:.2f}\")     # Lower is better\n"
   ]
  },
  {
   "cell_type": "code",
   "execution_count": 67,
   "id": "4c7a1012",
   "metadata": {},
   "outputs": [
    {
     "name": "stdout",
     "output_type": "stream",
     "text": [
      "Train R² Score: 0.977\n",
      "Train RMSE: 334.89\n",
      "Test R² Score: 0.982\n",
      "Test RMSE: 293.86\n"
     ]
    }
   ],
   "source": [
    "# Evaluate on training set\n",
    "y_train_pred = random_search.predict(X_train)\n",
    "r2_train = r2_score(y_train, y_train_pred)\n",
    "rmse_train = np.sqrt(mean_squared_error(y_train, y_train_pred))\n",
    "\n",
    "print(f\"Train R² Score: {r2_train:.3f}\")\n",
    "print(f\"Train RMSE: {rmse_train:.2f}\")\n",
    "print(f\"Test R² Score: {r2:.3f}\")\n",
    "print(f\"Test RMSE: {rmse:.2f}\")"
   ]
  },
  {
   "cell_type": "code",
   "execution_count": 68,
   "id": "f7f3ef81",
   "metadata": {},
   "outputs": [
    {
     "data": {
      "image/png": "[encoded data removed]",
      "text/plain": [
       "<Figure size 800x600 with 1 Axes>"
      ]
     },
     "metadata": {},
     "output_type": "display_data"
    }
   ],
   "source": [
    "plt.figure(figsize=(8, 6))\n",
    "plt.scatter(y_test, y_pred, alpha=0.5)\n",
    "plt.plot([y_test.min(), y_test.max()], [y_test.min(), y_test.max()], 'r--')\n",
    "plt.xlabel(\"Actual Price per m²\")\n",
    "plt.ylabel(\"Predicted Price per m²\")\n",
    "plt.title(\"Actual vs Predicted (Test Set)\")\n",
    "plt.grid(True)\n",
    "plt.show()"
   ]
  },
  {
   "cell_type": "code",
   "execution_count": 69,
   "id": "de4904eb",
   "metadata": {},
   "outputs": [
    {
     "data": {
      "image/png": "[encoded data removed]",
      "text/plain": [
       "<Figure size 800x600 with 1 Axes>"
      ]
     },
     "metadata": {},
     "output_type": "display_data"
    }
   ],
   "source": [
    "residuals = y_test - y_pred\n",
    "plt.figure(figsize=(8, 6))\n",
    "plt.scatter(y_pred, residuals, alpha=0.5)\n",
    "plt.axhline(0, color='red', linestyle='--')\n",
    "plt.xlabel(\"Predicted Price per m²\")\n",
    "plt.ylabel(\"Residuals\")\n",
    "plt.title(\"Residual Plot (Test Set)\")\n",
    "plt.grid(True)\n",
    "plt.show()"
   ]
  },
  {
   "cell_type": "code",
   "execution_count": 70,
   "id": "88beaa44",
   "metadata": {},
   "outputs": [
    {
     "name": "stderr",
     "output_type": "stream",
     "text": [
      "d:\\anaconda\\envs\\env_v3.10\\lib\\site-packages\\sklearn\\model_selection\\_search.py:317: UserWarning: The total space of parameters 40 is smaller than n_iter=100. Running 40 iterations. For exhaustive searches, use GridSearchCV.\n",
      "  warnings.warn(\n",
      "d:\\anaconda\\envs\\env_v3.10\\lib\\site-packages\\sklearn\\model_selection\\_search.py:317: UserWarning: The total space of parameters 40 is smaller than n_iter=100. Running 40 iterations. For exhaustive searches, use GridSearchCV.\n",
      "  warnings.warn(\n",
      "d:\\anaconda\\envs\\env_v3.10\\lib\\site-packages\\sklearn\\model_selection\\_search.py:317: UserWarning: The total space of parameters 40 is smaller than n_iter=100. Running 40 iterations. For exhaustive searches, use GridSearchCV.\n",
      "  warnings.warn(\n",
      "d:\\anaconda\\envs\\env_v3.10\\lib\\site-packages\\sklearn\\model_selection\\_search.py:317: UserWarning: The total space of parameters 40 is smaller than n_iter=100. Running 40 iterations. For exhaustive searches, use GridSearchCV.\n",
      "  warnings.warn(\n",
      "d:\\anaconda\\envs\\env_v3.10\\lib\\site-packages\\sklearn\\model_selection\\_search.py:317: UserWarning: The total space of parameters 40 is smaller than n_iter=100. Running 40 iterations. For exhaustive searches, use GridSearchCV.\n",
      "  warnings.warn(\n"
     ]
    },
    {
     "name": "stdout",
     "output_type": "stream",
     "text": [
      "Cross-validated R² scores: [0.83973849 0.94437221 0.94678276 0.95725537 0.96453147]\n",
      "Mean R²: 0.9305360588579303\n",
      "Std R²: 0.04597652110755499\n"
     ]
    }
   ],
   "source": [
    "from sklearn.model_selection import cross_val_score\n",
    "\n",
    "# Use 5-fold cross-validation (you can change cv=5 to another value)\n",
    "cv_scores = cross_val_score(random_search, X, y, cv=5, scoring='r2')\n",
    "\n",
    "print(\"Cross-validated R² scores:\", cv_scores)\n",
    "print(\"Mean R²:\", np.mean(cv_scores))\n",
    "print(\"Std R²:\", np.std(cv_scores))"
   ]
  },
  {
   "cell_type": "code",
   "execution_count": 71,
   "id": "07c07049",
   "metadata": {},
   "outputs": [
    {
     "data": {
      "image/png": "[encoded data removed]",
      "text/plain": [
       "<Figure size 800x400 with 1 Axes>"
      ]
     },
     "metadata": {},
     "output_type": "display_data"
    }
   ],
   "source": [
    "from sklearn.model_selection import cross_val_score\n",
    "import matplotlib.pyplot as plt\n",
    "import seaborn as sns\n",
    "\n",
    "# Set number of folds\n",
    "cv_folds = 5  # Change this to any number of folds you want\n",
    "plt.figure(figsize=(8, 4))\n",
    "plt.plot(range(1, cv_folds + 1), cv_scores, marker='o', linestyle='-', color='blue', label='Fold R²')\n",
    "\n",
    "# Annotate each point with its R² value\n",
    "for i, score in enumerate(cv_scores):\n",
    "    plt.text(i + 1, score + 0.01, f\"{score:.2f}\", ha='center', va='bottom', fontsize=9, color='blue')\n",
    "\n",
    "# Plot mean R² as a horizontal dashed line\n",
    "mean_r2 = np.mean(cv_scores)\n",
    "plt.axhline(mean_r2, color='red', linestyle='--', label=f\"Mean R² = {mean_r2:.2f}\")\n",
    "\n",
    "plt.xlabel(\"Fold\")\n",
    "plt.ylabel(\"R² Score\")\n",
    "plt.title(f\"Cross-Validated R² Scores ({cv_folds}-Fold)\")\n",
    "plt.ylim(0, 1)\n",
    "plt.legend()\n",
    "plt.grid(True, axis='y')\n",
    "plt.show()"
   ]
  },
  {
   "cell_type": "code",
   "execution_count": 72,
   "id": "c5c3776d",
   "metadata": {},
   "outputs": [
    {
     "data": {
      "image/png": "[encoded data removed]",
      "text/plain": [
       "<Figure size 800x600 with 1 Axes>"
      ]
     },
     "metadata": {},
     "output_type": "display_data"
    }
   ],
   "source": [
    "# Ensure y is your target variable before calling learning_curve\n",
    "y = df['price_per_m2']\n",
    "\n",
    "from sklearn.model_selection import learning_curve\n",
    "\n",
    "train_sizes, train_scores, test_scores = learning_curve(\n",
    "    model, X, y, cv=5, scoring='r2', n_jobs=-1,\n",
    "    train_sizes=np.linspace(0.1, 1.0, 10), shuffle=True, random_state=42\n",
    ")\n",
    "\n",
    "train_scores_mean = np.mean(train_scores, axis=1)\n",
    "test_scores_mean = np.mean(test_scores, axis=1)\n",
    "\n",
    "plt.figure(figsize=(8, 6))\n",
    "plt.plot(train_sizes, train_scores_mean, 'o-', label=\"Training score\")\n",
    "plt.plot(train_sizes, test_scores_mean, 'o-', label=\"Cross-validation score\")\n",
    "\n",
    "plt.xlabel(\"Training Set Size\")\n",
    "plt.ylabel(\"R² Score\")\n",
    "plt.title(\"Learning Curve with Annotated R²\")\n",
    "plt.legend(loc=\"best\")\n",
    "plt.grid(True)\n",
    "plt.show()"
   ]
  },
  {
   "cell_type": "code",
   "execution_count": 73,
   "id": "ef74156b",
   "metadata": {},
   "outputs": [],
   "source": [
    "# import joblib\n",
    "# joblib.dump(model, \"../../../models/linear_regression/linear_regression_model_v2.joblib\")"
   ]
  }
 ],
 "metadata": {
  "kernelspec": {
   "display_name": "env_v3.10",
   "language": "python",
   "name": "python3"
  },
  "language_info": {
   "codemirror_mode": {
    "name": "ipython",
    "version": 3
   },
   "file_extension": ".py",
   "mimetype": "text/x-python",
   "name": "python",
   "nbconvert_exporter": "python",
   "pygments_lexer": "ipython3",
   "version": "3.10.16"
  }
 },
 "nbformat": 4,
 "nbformat_minor": 5
}
