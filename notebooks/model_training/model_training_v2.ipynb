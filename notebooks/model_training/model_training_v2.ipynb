{
 "cells": [
  {
   "cell_type": "code",
   "execution_count": 185,
   "id": "7e6f4447",
   "metadata": {},
   "outputs": [],
   "source": [
    "import pandas as pd\n",
    "import numpy as np\n",
    "import joblib\n",
    "import matplotlib.pyplot as plt\n",
    "import seaborn as sns\n",
    "from sklearn.model_selection import train_test_split, KFold\n",
    "from sklearn.ensemble import StackingRegressor, RandomForestRegressor\n",
    "from sklearn.linear_model import LinearRegression, Ridge\n",
    "from sklearn.metrics import mean_absolute_error, r2_score\n",
    "import lightgbm as lgb\n",
    "import xgboost as xgb\n",
    "from sklearn.inspection import permutation_importance"
   ]
  },
  {
   "cell_type": "code",
   "execution_count": 186,
   "id": "c8b7727a",
   "metadata": {},
   "outputs": [],
   "source": [
    "df = pd.read_csv('../../data/processed/realestates_kh_SelectKBest_v1.csv')  "
   ]
  },
  {
   "cell_type": "code",
   "execution_count": 187,
   "id": "81ffe992",
   "metadata": {},
   "outputs": [],
   "source": [
    "X = df.drop(['price'], axis=1)\n",
    "y = df['price']"
   ]
  },
  {
   "cell_type": "code",
   "execution_count": 188,
   "id": "b4325369",
   "metadata": {},
   "outputs": [],
   "source": [
    "X_train, X_test, y_train, y_test = train_test_split(\n",
    "    X, y, \n",
    "    test_size=0.2, \n",
    "    random_state=42,\n",
    ")"
   ]
  },
  {
   "cell_type": "code",
   "execution_count": 189,
   "id": "ea630568",
   "metadata": {},
   "outputs": [
    {
     "name": "stdout",
     "output_type": "stream",
     "text": [
      "Max value in X_train: 104635\n",
      "Max value in X_test: 55811\n",
      "Max value in y_train: 188343000\n",
      "Max value in y_test: 276264450\n"
     ]
    }
   ],
   "source": [
    "print(\"Max value in X_train:\", X_train.max().max())\n",
    "print(\"Max value in X_test:\", X_test.max().max())\n",
    "print(\"Max value in y_train:\", y_train.max())\n",
    "print(\"Max value in y_test:\", y_test.max())\n"
   ]
  },
  {
   "cell_type": "code",
   "execution_count": 190,
   "id": "6b5c9c34",
   "metadata": {},
   "outputs": [],
   "source": [
    "linear_model = LinearRegression()"
   ]
  },
  {
   "cell_type": "code",
   "execution_count": 191,
   "id": "cae119f2",
   "metadata": {},
   "outputs": [],
   "source": [
    "lgb_model = lgb.LGBMRegressor(\n",
    "    objective='regression',\n",
    "    num_leaves=63,\n",
    "    learning_rate=0.05,\n",
    "    n_estimators=1000,\n",
    "    min_child_samples=20,\n",
    "    subsample=0.8,\n",
    "    colsample_bytree=0.8,\n",
    "    random_state=42,\n",
    "    verbose=-1  # Silence LightGBM output\n",
    ")"
   ]
  },
  {
   "cell_type": "code",
   "execution_count": 192,
   "id": "79da10a0",
   "metadata": {},
   "outputs": [],
   "source": [
    "xgb_model = xgb.XGBRegressor(\n",
    "    objective='reg:squarederror',\n",
    "    max_depth=6,\n",
    "    learning_rate=0.1,\n",
    "    n_estimators=800,\n",
    "    subsample=0.8,\n",
    "    colsample_bytree=0.8,\n",
    "    random_state=42\n",
    ")"
   ]
  },
  {
   "cell_type": "code",
   "execution_count": 193,
   "id": "3bd622ba",
   "metadata": {},
   "outputs": [],
   "source": [
    "rf_model = RandomForestRegressor(\n",
    "    n_estimators=200,\n",
    "    max_depth=10,\n",
    "    min_samples_split=5,\n",
    "    random_state=42,\n",
    "    n_jobs=-1\n",
    ")"
   ]
  },
  {
   "cell_type": "code",
   "execution_count": 194,
   "id": "92fe695a",
   "metadata": {},
   "outputs": [],
   "source": [
    "stacked_model = StackingRegressor(\n",
    "    estimators=[\n",
    "        ('lgb', lgb_model),\n",
    "        ('xgb', xgb_model),\n",
    "        ('rf', rf_model)\n",
    "    ],\n",
    "    final_estimator=Ridge(),\n",
    "    cv=KFold(n_splits=3, shuffle=True, random_state=42)\n",
    ")"
   ]
  },
  {
   "cell_type": "code",
   "execution_count": 195,
   "id": "dcf06ddc",
   "metadata": {},
   "outputs": [],
   "source": [
    "from sklearn.model_selection import GridSearchCV, RandomizedSearchCV\n",
    "import numpy as np\n",
    "\n",
    "# Define parameter grids for each model type\n",
    "param_grids = {\n",
    "    \"Linear Regression\": {\n",
    "        'fit_intercept': [True, False],\n",
    "        'positive': [True, False]  # For constrained regression\n",
    "    },\n",
    "    \"LightGBM\": {\n",
    "        'num_leaves': [15, 31, 63],\n",
    "        'learning_rate': [0.01, 0.05, 0.1],\n",
    "        'n_estimators': [500, 1000, 1500],\n",
    "        'min_child_samples': [5, 20, 50],\n",
    "        'reg_alpha': [0, 0.1, 1],\n",
    "        'reg_lambda': [0, 0.1, 1]\n",
    "    },\n",
    "    \"XGBoost\": {\n",
    "        'max_depth': [3, 5, 7],\n",
    "        'learning_rate': [0.01, 0.05, 0.1],\n",
    "        'n_estimators': [500, 1000, 1500],\n",
    "        'gamma': [0, 0.1, 0.5],\n",
    "        'subsample': [0.6, 0.8, 1.0],\n",
    "        'colsample_bytree': [0.6, 0.8, 1.0]\n",
    "    },\n",
    "    \"Random Forest\": {\n",
    "        'n_estimators': [300, 500, 800],\n",
    "        'max_depth': [None, 10, 20, 30],\n",
    "        'min_samples_split': [2, 5, 10],\n",
    "        'min_samples_leaf': [1, 2, 4],\n",
    "        'max_features': ['sqrt', 0.8, None]\n",
    "    },\n",
    "    \"Stacked Ensemble\": {\n",
    "        'final_estimator__alpha': [0.1, 1.0, 10.0],\n",
    "        'final_estimator__fit_intercept': [True, False]\n",
    "    }\n",
    "}"
   ]
  },
  {
   "cell_type": "code",
   "execution_count": 196,
   "id": "c638ede2",
   "metadata": {},
   "outputs": [],
   "source": [
    "tuning_method = {\n",
    "    \"Linear Regression\": GridSearchCV,\n",
    "    \"LightGBM\": RandomizedSearchCV,\n",
    "    \"XGBoost\": RandomizedSearchCV,\n",
    "    \"Random Forest\": RandomizedSearchCV,\n",
    "    \"Stacked Ensemble\": GridSearchCV\n",
    "}\n",
    "search_params = {\n",
    "    'cv': 5,\n",
    "    'scoring': 'r2',\n",
    "    'n_jobs': -1,\n",
    "    'verbose': 1\n",
    "}\n",
    "\n",
    "randomized_settings = {\n",
    "    'n_iter': 20  # Number of parameter settings sampled\n",
    "}"
   ]
  },
  {
   "cell_type": "code",
   "execution_count": 197,
   "id": "3b8ed87d",
   "metadata": {},
   "outputs": [],
   "source": [
    "models = {\n",
    "    \"Linear Regression\": linear_model,\n",
    "    \"LightGBM\": lgb_model,\n",
    "    \"XGBoost\": xgb_model,\n",
    "    \"Random Forest\": rf_model,\n",
    "    \"Stacked Ensemble\": stacked_model\n",
    "}"
   ]
  },
  {
   "cell_type": "code",
   "execution_count": 198,
   "id": "81b77dff",
   "metadata": {},
   "outputs": [],
   "source": [
    "from sklearn.preprocessing import StandardScaler\n",
    "\n",
    "# 1. Scale the target variable (y)\n",
    "y_scaler = StandardScaler()\n",
    "y_train_scaled = y_scaler.fit_transform(y_train.to_numpy().reshape(-1, 1)).flatten()\n",
    "y_test_scaled = y_scaler.transform(y_test.to_numpy().reshape(-1, 1)).flatten()"
   ]
  },
  {
   "cell_type": "code",
   "execution_count": 199,
   "id": "53bc68eb",
   "metadata": {},
   "outputs": [
    {
     "name": "stdout",
     "output_type": "stream",
     "text": [
      "\n",
      "========================================\n",
      "Tuning Linear Regression\n",
      "========================================\n",
      "Fitting 5 folds for each of 4 candidates, totalling 20 fits\n",
      "Tuning completed in 6.8s\n",
      "Best R²: 0.0762\n",
      "Best params: {'fit_intercept': True, 'positive': True}\n",
      "\n",
      "========================================\n",
      "Tuning LightGBM\n",
      "========================================\n",
      "Fitting 5 folds for each of 20 candidates, totalling 100 fits\n",
      "Tuning completed in 143.8s\n",
      "Best R²: 0.4281\n",
      "Best params: {'reg_lambda': 0.1, 'reg_alpha': 0, 'num_leaves': 15, 'n_estimators': 1000, 'min_child_samples': 50, 'learning_rate': 0.05}\n",
      "\n",
      "========================================\n",
      "Tuning XGBoost\n",
      "========================================\n",
      "Fitting 5 folds for each of 20 candidates, totalling 100 fits\n",
      "Tuning completed in 31.5s\n",
      "Best R²: 0.6617\n",
      "Best params: {'subsample': 1.0, 'n_estimators': 500, 'max_depth': 7, 'learning_rate': 0.01, 'gamma': 0.1, 'colsample_bytree': 0.8}\n",
      "\n",
      "========================================\n",
      "Tuning Random Forest\n",
      "========================================\n",
      "Fitting 5 folds for each of 20 candidates, totalling 100 fits\n",
      "Tuning completed in 243.0s\n",
      "Best R²: 0.7079\n",
      "Best params: {'n_estimators': 500, 'min_samples_split': 2, 'min_samples_leaf': 2, 'max_features': None, 'max_depth': 20}\n",
      "\n",
      "========================================\n",
      "Tuning Stacked Ensemble\n",
      "========================================\n",
      "Fitting 5 folds for each of 6 candidates, totalling 30 fits\n",
      "Tuning completed in 644.0s\n",
      "Best R²: -1.2769\n",
      "Best params: {'final_estimator__alpha': 10.0, 'final_estimator__fit_intercept': False}\n"
     ]
    }
   ],
   "source": [
    "import time\n",
    "tuned_models = {}\n",
    "best_params = {}\n",
    "\n",
    "for name, model in models.items():\n",
    "    print(f\"\\n{'='*40}\\nTuning {name}\\n{'='*40}\")\n",
    "    \n",
    "    start_time = time.time()\n",
    "    \n",
    "    # Initialize search object\n",
    "    if tuning_method[name] == RandomizedSearchCV:\n",
    "        search = RandomizedSearchCV(\n",
    "            model,\n",
    "            param_grids[name],\n",
    "            **search_params,\n",
    "            **randomized_settings,\n",
    "            random_state=42\n",
    "        )\n",
    "    else:\n",
    "        search = GridSearchCV(\n",
    "            model,\n",
    "            param_grids[name],\n",
    "            **search_params\n",
    "        )\n",
    "    \n",
    "    # Run search - use LOG-TRANSFORMED TARGETS\n",
    "    search.fit(X_train, y_train_scaled)\n",
    "    \n",
    "    # Store results\n",
    "    tuned_models[name] = search.best_estimator_\n",
    "    best_params[name] = search.best_params_\n",
    "    \n",
    "    print(f\"Tuning completed in {time.time()-start_time:.1f}s\")\n",
    "    print(f\"Best R²: {search.best_score_:.4f}\")\n",
    "    print(f\"Best params: {search.best_params_}\")"
   ]
  }
 ],
 "metadata": {
  "kernelspec": {
   "display_name": "env_v3.10",
   "language": "python",
   "name": "python3"
  },
  "language_info": {
   "codemirror_mode": {
    "name": "ipython",
    "version": 3
   },
   "file_extension": ".py",
   "mimetype": "text/x-python",
   "name": "python",
   "nbconvert_exporter": "python",
   "pygments_lexer": "ipython3",
   "version": "3.10.16"
  }
 },
 "nbformat": 4,
 "nbformat_minor": 5
}
