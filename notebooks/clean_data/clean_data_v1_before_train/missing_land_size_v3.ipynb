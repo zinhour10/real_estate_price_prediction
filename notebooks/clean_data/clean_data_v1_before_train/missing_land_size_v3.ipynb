{
 "cells": [
  {
   "cell_type": "code",
   "execution_count": 14,
   "id": "04c3842a",
   "metadata": {},
   "outputs": [],
   "source": [
    "import pandas as pd\n",
    "import numpy as np\n",
    "import re"
   ]
  },
  {
   "cell_type": "code",
   "execution_count": 15,
   "id": "0ab33067",
   "metadata": {},
   "outputs": [],
   "source": [
    "df = pd.read_csv('../../data/processed/realestates_kh_v2_3.csv', encoding='latin1')"
   ]
  },
  {
   "cell_type": "code",
   "execution_count": 16,
   "id": "c953713c",
   "metadata": {},
   "outputs": [],
   "source": [
    "df['land_area'] = df['land_area'].replace(0.0, np.nan).replace('', np.nan)"
   ]
  },
  {
   "cell_type": "code",
   "execution_count": 17,
   "id": "8f4a4db6",
   "metadata": {},
   "outputs": [
    {
     "data": {
      "application/vnd.microsoft.datawrangler.viewer.v0+json": {
       "columns": [
        {
         "name": "index",
         "rawType": "object",
         "type": "string"
        },
        {
         "name": "0",
         "rawType": "int64",
         "type": "integer"
        }
       ],
       "ref": "9de18e8a-6366-438e-87ed-f3495256bbd4",
       "rows": [
        [
         "Unnamed: 0",
         "2"
        ],
        [
         "id",
         "1"
        ],
        [
         "headline",
         "1"
        ],
        [
         "price_display",
         "16"
        ],
        [
         "rent_display",
         "3513"
        ],
        [
         "bedrooms",
         "943"
        ],
        [
         "bathrooms",
         "950"
        ],
        [
         "land_area",
         "617"
        ],
        [
         "thumbnail_url",
         "2"
        ],
        [
         "thumbnail_urls",
         "2"
        ],
        [
         "location",
         "2"
        ],
        [
         "address_subdivision",
         "2"
        ],
        [
         "address_locality",
         "2"
        ],
        [
         "address_line_2",
         "12"
        ],
        [
         "address_line_1",
         "149"
        ],
        [
         "category_name",
         "2"
        ],
        [
         "is_parent",
         "3"
        ],
        [
         "type",
         "2"
        ],
        [
         "information",
         "39"
        ],
        [
         "source_url",
         "2"
        ],
        [
         "language",
         "2"
        ],
        [
         "latitude",
         "2"
        ],
        [
         "longitude",
         "3"
        ]
       ],
       "shape": {
        "columns": 1,
        "rows": 23
       }
      },
      "text/plain": [
       "Unnamed: 0                2\n",
       "id                        1\n",
       "headline                  1\n",
       "price_display            16\n",
       "rent_display           3513\n",
       "bedrooms                943\n",
       "bathrooms               950\n",
       "land_area               617\n",
       "thumbnail_url             2\n",
       "thumbnail_urls            2\n",
       "location                  2\n",
       "address_subdivision       2\n",
       "address_locality          2\n",
       "address_line_2           12\n",
       "address_line_1          149\n",
       "category_name             2\n",
       "is_parent                 3\n",
       "type                      2\n",
       "information              39\n",
       "source_url                2\n",
       "language                  2\n",
       "latitude                  2\n",
       "longitude                 3\n",
       "dtype: int64"
      ]
     },
     "execution_count": 17,
     "metadata": {},
     "output_type": "execute_result"
    }
   ],
   "source": [
    "df.isnull().sum()"
   ]
  },
  {
   "cell_type": "code",
   "execution_count": 18,
   "id": "a3ec21c9",
   "metadata": {},
   "outputs": [],
   "source": [
    "# def extract_land_area(text):\n",
    "#     if pd.isna(text):\n",
    "#         return None\n",
    "    \n",
    "#     # Step 1: Direct land area extraction (e.g., \"100 sqm\")\n",
    "#     direct_pattern = r'(\\d+\\.?\\d*)\\s*(?:sqm|m²|m2|square\\s*meters?)\\b'\n",
    "#     direct_match = re.search(direct_pattern, text, re.IGNORECASE)\n",
    "#     if direct_match:\n",
    "#         return float(direct_match.group(1))\n",
    "    \n",
    "#     # Step 2: Extract land dimensions (e.g., \"4m x 20m\") with contextual keywords\n",
    "#     dim_pattern = r'(\\d+\\.?\\d*)\\s*(?:m\\s*)?[x*]\\s*(\\d+\\.?\\d*)\\s*(?:m\\b)'\n",
    "#     dim_matches = list(re.finditer(dim_pattern, text, re.IGNORECASE))\n",
    "    \n",
    "#     for match in dim_matches:\n",
    "#         start, end = match.span()\n",
    "#         window = text[max(0, start-30):min(len(text), end+30)].lower()\n",
    "#         # Check for contextual keywords near the dimensions\n",
    "#         if re.search(r'\\b(?:land|plot|ground|property|size)\\b', window):\n",
    "#             length = float(match.group(1))\n",
    "#             width = float(match.group(2))\n",
    "#             return length * width\n",
    "    \n",
    "#     # Step 3: Fallback to the first dimension pattern found (if any)\n",
    "#     if dim_matches:\n",
    "#         length = float(dim_matches[0].group(1))\n",
    "#         width = float(dim_matches[0].group(2))\n",
    "#         return length * width\n",
    "    \n",
    "#     return None"
   ]
  },
  {
   "cell_type": "code",
   "execution_count": 19,
   "id": "7ea41161",
   "metadata": {},
   "outputs": [],
   "source": [
    "def extract_land_area(text):\n",
    "    if pd.isna(text):\n",
    "        return None\n",
    "    def parse_float_number(num_str):\n",
    "        if num_str is None:\n",
    "            return None\n",
    "        return float(num_str.replace(',', '.'))\n",
    "    number_pattern = r'\\d+(?:[.,]\\d*)?'\n",
    "\n",
    "    # Step 1: Direct land area extraction (e.g., \"100 sqm\", \"9,2 m2\")\n",
    "    direct_pattern = rf'({number_pattern})\\s*(?:sqm|m²|m2|square\\s*meters?)\\b'\n",
    "    direct_match = re.search(direct_pattern, text, re.IGNORECASE)\n",
    "    if direct_match:\n",
    "        extracted_area = parse_float_number(direct_match.group(1))\n",
    "        # Apply the condition: if extracted_area < 30, return None\n",
    "        if extracted_area is not None and extracted_area < 30:\n",
    "            return None\n",
    "        return extracted_area\n",
    "    \n",
    "    # Step 2: Extract land dimensions (e.g., \"4m x 20m\", \"9,5m*10m\") with contextual keywords\n",
    "    dim_pattern = rf'({number_pattern})\\s*(?:m\\s*)?[x*]\\s*({number_pattern})\\s*(?:m\\b)'\n",
    "    dim_matches = list(re.finditer(dim_pattern, text, re.IGNORECASE))\n",
    "    \n",
    "    for match in dim_matches:\n",
    "        start, end = match.span()\n",
    "        window = text[max(0, start-30):min(len(text), end+30)].lower()\n",
    "        \n",
    "        if re.search(r'\\b(?:land|plot|ground|property|size)\\b', window):\n",
    "            length = parse_float_number(match.group(1))\n",
    "            width = parse_float_number(match.group(2))\n",
    "            \n",
    "            if length is not None and width is not None:\n",
    "                extracted_area = length * width\n",
    "                # Apply the condition: if extracted_area < 30, return None\n",
    "                if extracted_area < 30:\n",
    "                    return None\n",
    "                return extracted_area\n",
    "    \n",
    "    # Step 3: Fallback to the first dimension pattern found (if any)\n",
    "    if dim_matches:\n",
    "        length = parse_float_number(dim_matches[0].group(1))\n",
    "        width = parse_float_number(dim_matches[0].group(2))\n",
    "        \n",
    "        if length is not None and width is not None:\n",
    "            extracted_area = length * width\n",
    "            # Apply the condition: if extracted_area < 30, return None\n",
    "            if extracted_area < 30:\n",
    "                return None\n",
    "            return extracted_area\n",
    "    \n",
    "    return None"
   ]
  },
  {
   "cell_type": "code",
   "execution_count": 20,
   "id": "9911a6fe",
   "metadata": {},
   "outputs": [],
   "source": [
    "rows_to_reprocess = df['land_area'].apply(\n",
    "    lambda x: pd.isna(x) or (pd.api.types.is_numeric_dtype(x) and (x == 0 or x < 30))\n",
    ")\n",
    "\n",
    "# Iterate only over the rows that meet the condition\n",
    "for idx, row in df[rows_to_reprocess].iterrows():\n",
    "    extracted_area = extract_land_area(row['information'])\n",
    "    \n",
    "    if extracted_area is not None:\n",
    "        df.at[idx, 'land_area'] = extracted_area\n",
    "    else:\n",
    "        df.at[idx, 'land_area'] = np.nan"
   ]
  },
  {
   "cell_type": "code",
   "execution_count": 21,
   "id": "03232ec7",
   "metadata": {},
   "outputs": [
    {
     "data": {
      "application/vnd.microsoft.datawrangler.viewer.v0+json": {
       "columns": [
        {
         "name": "index",
         "rawType": "object",
         "type": "string"
        },
        {
         "name": "0",
         "rawType": "int64",
         "type": "integer"
        }
       ],
       "ref": "1b76388e-d748-47f8-86d0-92e9453ab8f4",
       "rows": [
        [
         "Unnamed: 0",
         "2"
        ],
        [
         "id",
         "1"
        ],
        [
         "headline",
         "1"
        ],
        [
         "price_display",
         "16"
        ],
        [
         "rent_display",
         "3513"
        ],
        [
         "bedrooms",
         "943"
        ],
        [
         "bathrooms",
         "950"
        ],
        [
         "land_area",
         "615"
        ],
        [
         "thumbnail_url",
         "2"
        ],
        [
         "thumbnail_urls",
         "2"
        ],
        [
         "location",
         "2"
        ],
        [
         "address_subdivision",
         "2"
        ],
        [
         "address_locality",
         "2"
        ],
        [
         "address_line_2",
         "12"
        ],
        [
         "address_line_1",
         "149"
        ],
        [
         "category_name",
         "2"
        ],
        [
         "is_parent",
         "3"
        ],
        [
         "type",
         "2"
        ],
        [
         "information",
         "39"
        ],
        [
         "source_url",
         "2"
        ],
        [
         "language",
         "2"
        ],
        [
         "latitude",
         "2"
        ],
        [
         "longitude",
         "3"
        ]
       ],
       "shape": {
        "columns": 1,
        "rows": 23
       }
      },
      "text/plain": [
       "Unnamed: 0                2\n",
       "id                        1\n",
       "headline                  1\n",
       "price_display            16\n",
       "rent_display           3513\n",
       "bedrooms                943\n",
       "bathrooms               950\n",
       "land_area               615\n",
       "thumbnail_url             2\n",
       "thumbnail_urls            2\n",
       "location                  2\n",
       "address_subdivision       2\n",
       "address_locality          2\n",
       "address_line_2           12\n",
       "address_line_1          149\n",
       "category_name             2\n",
       "is_parent                 3\n",
       "type                      2\n",
       "information              39\n",
       "source_url                2\n",
       "language                  2\n",
       "latitude                  2\n",
       "longitude                 3\n",
       "dtype: int64"
      ]
     },
     "execution_count": 21,
     "metadata": {},
     "output_type": "execute_result"
    }
   ],
   "source": [
    "df.isnull().sum()"
   ]
  },
  {
   "cell_type": "code",
   "execution_count": 22,
   "id": "811bdbf6",
   "metadata": {},
   "outputs": [],
   "source": [
    "df.to_csv('../../data/processed/realestates_kh_v2_3_1.csv', index=False)"
   ]
  }
 ],
 "metadata": {
  "kernelspec": {
   "display_name": "env_v3.10",
   "language": "python",
   "name": "python3"
  },
  "language_info": {
   "codemirror_mode": {
    "name": "ipython",
    "version": 3
   },
   "file_extension": ".py",
   "mimetype": "text/x-python",
   "name": "python",
   "nbconvert_exporter": "python",
   "pygments_lexer": "ipython3",
   "version": "3.10.16"
  }
 },
 "nbformat": 4,
 "nbformat_minor": 5
}
