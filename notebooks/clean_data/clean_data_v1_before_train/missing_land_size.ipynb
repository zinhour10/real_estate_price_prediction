{
 "cells": [
  {
   "cell_type": "code",
   "execution_count": 39,
   "id": "1c574814",
   "metadata": {},
   "outputs": [],
   "source": [
    "import re\n",
    "import pandas as pd"
   ]
  },
  {
   "cell_type": "code",
   "execution_count": 40,
   "id": "37ea2492",
   "metadata": {},
   "outputs": [],
   "source": [
    "df = pd.read_csv('../../data/raw/realestates_kh_v2.csv')"
   ]
  },
  {
   "cell_type": "code",
   "execution_count": 41,
   "id": "907ec4fd",
   "metadata": {},
   "outputs": [],
   "source": [
    "df = df[df['address_subdivision'] == 'Phnom Penh']"
   ]
  },
  {
   "cell_type": "code",
   "execution_count": 42,
   "id": "488474de",
   "metadata": {},
   "outputs": [
    {
     "data": {
      "text/plain": [
       "(4210, 24)"
      ]
     },
     "execution_count": 42,
     "metadata": {},
     "output_type": "execute_result"
    }
   ],
   "source": [
    "df.shape"
   ]
  },
  {
   "cell_type": "code",
   "execution_count": 43,
   "id": "c1315dcd",
   "metadata": {},
   "outputs": [
    {
     "data": {
      "application/vnd.microsoft.datawrangler.viewer.v0+json": {
       "columns": [
        {
         "name": "index",
         "rawType": "object",
         "type": "string"
        },
        {
         "name": "0",
         "rawType": "int64",
         "type": "integer"
        }
       ],
       "ref": "f7949e98-a0df-43a5-a1ed-979b7b6786ab",
       "rows": [
        [
         "Unnamed: 0",
         "0"
        ],
        [
         "id",
         "0"
        ],
        [
         "headline",
         "0"
        ],
        [
         "price_display",
         "13"
        ],
        [
         "rent_display",
         "3597"
        ],
        [
         "bedrooms",
         "1028"
        ],
        [
         "bathrooms",
         "1035"
        ],
        [
         "land_area",
         "2194"
        ],
        [
         "thumbnail_url",
         "0"
        ],
        [
         "thumbnail_urls",
         "0"
        ],
        [
         "garages",
         "3175"
        ],
        [
         "location",
         "0"
        ],
        [
         "address_subdivision",
         "0"
        ],
        [
         "address_locality",
         "0"
        ],
        [
         "address_line_2",
         "9"
        ],
        [
         "address_line_1",
         "148"
        ],
        [
         "category_name",
         "0"
        ],
        [
         "is_parent",
         "0"
        ],
        [
         "type",
         "0"
        ],
        [
         "information",
         "38"
        ],
        [
         "source_url",
         "0"
        ],
        [
         "language",
         "0"
        ],
        [
         "latitude",
         "0"
        ],
        [
         "longitude",
         "0"
        ]
       ],
       "shape": {
        "columns": 1,
        "rows": 24
       }
      },
      "text/plain": [
       "Unnamed: 0                0\n",
       "id                        0\n",
       "headline                  0\n",
       "price_display            13\n",
       "rent_display           3597\n",
       "bedrooms               1028\n",
       "bathrooms              1035\n",
       "land_area              2194\n",
       "thumbnail_url             0\n",
       "thumbnail_urls            0\n",
       "garages                3175\n",
       "location                  0\n",
       "address_subdivision       0\n",
       "address_locality          0\n",
       "address_line_2            9\n",
       "address_line_1          148\n",
       "category_name             0\n",
       "is_parent                 0\n",
       "type                      0\n",
       "information              38\n",
       "source_url                0\n",
       "language                  0\n",
       "latitude                  0\n",
       "longitude                 0\n",
       "dtype: int64"
      ]
     },
     "execution_count": 43,
     "metadata": {},
     "output_type": "execute_result"
    }
   ],
   "source": [
    "df.isnull().sum()"
   ]
  },
  {
   "cell_type": "code",
   "execution_count": 44,
   "id": "98cec4d7",
   "metadata": {},
   "outputs": [
    {
     "name": "stdout",
     "output_type": "stream",
     "text": [
      "❓ Missing land_area: 2194 rows\n"
     ]
    }
   ],
   "source": [
    "df['land_area'] = pd.to_numeric(df['land_area'], errors='coerce')  # ensure numeric\n",
    "missing = df['land_area'].isna().sum()\n",
    "print(f\"❓ Missing land_area: {missing} rows\")\n"
   ]
  },
  {
   "cell_type": "code",
   "execution_count": 45,
   "id": "24c59471",
   "metadata": {},
   "outputs": [],
   "source": [
    "def is_missing(val):\n",
    "    return pd.isna(val) or str(val).strip().lower() in [\"\", \"na\", \"n/a\", \"null\"]\n"
   ]
  },
  {
   "cell_type": "code",
   "execution_count": 46,
   "id": "9f737772",
   "metadata": {},
   "outputs": [
    {
     "data": {
      "application/vnd.microsoft.datawrangler.viewer.v0+json": {
       "columns": [
        {
         "name": "index",
         "rawType": "int64",
         "type": "integer"
        },
        {
         "name": "information",
         "rawType": "object",
         "type": "string"
        }
       ],
       "ref": "34255da4-db91-4a71-bc9b-778a1f0650f7",
       "rows": [
        [
         "0",
         "A flat (2 floors) near Hengly market and near Monk hospital. Need to sell urgently. * Price only: 150,000 dollars (negotiable) *this price plus transfer of title ownership *Land size: 4m x 22.5m * House size: 4m x 16m * There are 5m of the front land and 1.5m of the back land * 6 bedrooms and 4 bathrooms * House turning towards: north - Location: 350m from Hengly Market, 350m from Samakki Primary School, 700m from Monk Hospital and 100m from Road 271. - Bank installment for 20 years but require 30% of the house upfront."
        ],
        [
         "1",
         "Twin Villa (Twin Villa) in Borey Highland 2005 Khan Sen Sok need to sell urgently * Price only: $ 369,000 (negotiable) *this price includes a hard title cut * Land size: 7.5m x 17m * House size: 6m x 12m * 4m left front land, 1m back land and 1.5m left side * 4 Bedrooms & 7 Bathrooms * home facing : south * Provides materials such as: Air conditioner, 4 cabinets, bed and curtains - Civilized, safe, comfortable lifestyle - Can pay installment through bank for 20 years but need to pay 30% of the house price in advance."
        ],
        [
         "2",
         "There are 3 floors 2 bedrooms, 2 bathrooms can put up 4 * 4 bedrooms: Road 117 Today: Boeung Kang Pir, Boeng Kang Penh"
        ],
        [
         "3",
         "I have a business house, I want to sell a house size 5x18, the rest of the back is 6 meters, the front is 7 meters, the rest is on the side, the hanger is 7 shirts, the price is 45 thousand, negotiable, if you are interested"
        ],
        [
         "4",
         "Apartment Instast 4M * 15.5m There are 45M kitchen stitches, 45BT, Sangkat Boeung Tumpun, safe houses, safe houses Flat House 4m * 15.5M | Include Side Walk and Stair Next to The House | Huge Kitchen | NICE Road | No Flooding | PRICE: $ 85,000 (Ngotiable) Large Side Windows | Safe and Great Environment"
        ],
        [
         "5",
         "Villa (Victoria) in Orkide Villa (Orkide Villa The Botanic City) National Road No. 6A, Chroy Chongva District. Need to sell urgently. * Price only: $ 215,000 (negotiable) *This price includes the transfer of ownership * Land size: 6m x 21m * House size: 6m x 12.5m * Front land left 6.5m, back land 2m * House facing direction: west facing south * 4 bedrooms and 5 bathrooms house * 90% of the house under construction * Features: House to back with Shop House - Location: 10 minutes from Chroy Chongva bridge and on national road 6A - Civilized lifestyle, safe, comfortable and full of big projects, markets and condos. - Can pay installment through bank for 20 years but need to pay 30% of the house price in advance."
        ],
        [
         "9",
         "Unit Type H, 2-bedroom, 2-bathroom Floor area: 119.89sqm There are only two units of Type H on each floor. The space is laid out in a reasonable proportion. The living room and L-shaped western-style kitchen is located on the side of the door, and the two bedrooms are connected to the balcony. It is a lovely home that it is hard to resist."
        ],
        [
         "11",
         "1-3Bedroom Apartment for Sale-Boueng Keng Kang I (BKK1) ,Rentex is proud to present this stunning property located in the Phnom Penh Neighborhood of Chomkamon , This property is available for lease and is suitable for professionals looking to stay close to the center of Phnom Penh in a prestigious location. Properties Code : 1109 1Bedroom : $150000-$200000 2Bedroom : $250000-$310000 3Bedroom : $850000-$500000 Features include: -Wifi & Cable Tv -Kitchen -Living-room -Washing Machine -24H/Security -Sofa -Fridge Exclude Service: – Gym Pool Steam Suana : 10$/1year( 1person ) – Water Supply : 0.35$/khw – Electricity : 0.25$/1khw"
        ],
        [
         "12",
         "• 7th and 8th floor: starting from USD 2,900/sqm • Contact DABEST Properties on Phone, WhatsApp, Line, Telegram or email to DABEST PROPERTIES to receive detailed location, more information and view the Property. MORE DETAILS: • ​​Freehold title •​ Smart home system • 2 Bedrooms units 90.96 sqm"
        ],
        [
         "14",
         "DABEST Property ID: PPA56 • Call DaBest Properties to receive more information and fix an appointment with our agent. MORE DETAILS: • Fantastic unit on the 7th Floor facing south • 2 Bedrooms with air-conditioner •​ 2​ Bathrooms with hot shower •​ Kitchen with electric stove, refrigerator and washing machine • ​​ Freehold title • Unit size: 89 sqm, large balcony • Swimming pool, gym • Fully furnished and ready to move in • Located in BKK3, 5 min. to Independence Monument"
        ]
       ],
       "shape": {
        "columns": 1,
        "rows": 10
       }
      },
      "text/html": [
       "<div>\n",
       "<style scoped>\n",
       "    .dataframe tbody tr th:only-of-type {\n",
       "        vertical-align: middle;\n",
       "    }\n",
       "\n",
       "    .dataframe tbody tr th {\n",
       "        vertical-align: top;\n",
       "    }\n",
       "\n",
       "    .dataframe thead th {\n",
       "        text-align: right;\n",
       "    }\n",
       "</style>\n",
       "<table border=\"1\" class=\"dataframe\">\n",
       "  <thead>\n",
       "    <tr style=\"text-align: right;\">\n",
       "      <th></th>\n",
       "      <th>information</th>\n",
       "    </tr>\n",
       "  </thead>\n",
       "  <tbody>\n",
       "    <tr>\n",
       "      <th>0</th>\n",
       "      <td>A flat (2 floors) near Hengly market and near ...</td>\n",
       "    </tr>\n",
       "    <tr>\n",
       "      <th>1</th>\n",
       "      <td>Twin Villa (Twin Villa) in Borey Highland 2005...</td>\n",
       "    </tr>\n",
       "    <tr>\n",
       "      <th>2</th>\n",
       "      <td>There are 3 floors 2 bedrooms, 2 bathrooms can...</td>\n",
       "    </tr>\n",
       "    <tr>\n",
       "      <th>3</th>\n",
       "      <td>I have a business house, I want to sell a hous...</td>\n",
       "    </tr>\n",
       "    <tr>\n",
       "      <th>4</th>\n",
       "      <td>Apartment Instast 4M * 15.5m There are 45M kit...</td>\n",
       "    </tr>\n",
       "    <tr>\n",
       "      <th>5</th>\n",
       "      <td>Villa (Victoria) in Orkide Villa (Orkide Villa...</td>\n",
       "    </tr>\n",
       "    <tr>\n",
       "      <th>9</th>\n",
       "      <td>Unit Type H, 2-bedroom, 2-bathroom Floor area:...</td>\n",
       "    </tr>\n",
       "    <tr>\n",
       "      <th>11</th>\n",
       "      <td>1-3Bedroom Apartment for Sale-Boueng Keng Kang...</td>\n",
       "    </tr>\n",
       "    <tr>\n",
       "      <th>12</th>\n",
       "      <td>• 7th and 8th floor: starting from USD 2,900/s...</td>\n",
       "    </tr>\n",
       "    <tr>\n",
       "      <th>14</th>\n",
       "      <td>DABEST Property ID: PPA56 • Call DaBest Proper...</td>\n",
       "    </tr>\n",
       "  </tbody>\n",
       "</table>\n",
       "</div>"
      ],
      "text/plain": [
       "                                          information\n",
       "0   A flat (2 floors) near Hengly market and near ...\n",
       "1   Twin Villa (Twin Villa) in Borey Highland 2005...\n",
       "2   There are 3 floors 2 bedrooms, 2 bathrooms can...\n",
       "3   I have a business house, I want to sell a hous...\n",
       "4   Apartment Instast 4M * 15.5m There are 45M kit...\n",
       "5   Villa (Victoria) in Orkide Villa (Orkide Villa...\n",
       "9   Unit Type H, 2-bedroom, 2-bathroom Floor area:...\n",
       "11  1-3Bedroom Apartment for Sale-Boueng Keng Kang...\n",
       "12  • 7th and 8th floor: starting from USD 2,900/s...\n",
       "14  DABEST Property ID: PPA56 • Call DaBest Proper..."
      ]
     },
     "execution_count": 46,
     "metadata": {},
     "output_type": "execute_result"
    }
   ],
   "source": [
    "df[df['land_area'].isna() | (df['land_area'] == 0)][['information']].head(10)\n"
   ]
  },
  {
   "cell_type": "code",
   "execution_count": 47,
   "id": "2d1d5df0",
   "metadata": {},
   "outputs": [],
   "source": [
    "def extract_land_area(text):\n",
    "    if not isinstance(text, str):\n",
    "        return None\n",
    "\n",
    "    text = text.lower()\n",
    "\n",
    "    # Match square meters (e.g., 98,514 sqm)\n",
    "    sqm = re.search(r\"(\\d{2,7}(?:[.,]\\d+)?)[\\s\\-]*(sqm|m2|square meters?)\", text)\n",
    "    if sqm:\n",
    "        return float(sqm.group(1).replace(\",\", \"\").strip())\n",
    "\n",
    "    # Match hectares (e.g., 15.5 ha or 20 hectares)\n",
    "    ha = re.search(r\"(\\d{1,4}(?:[.,]\\d+)?)[\\s\\-]*(ha|hectares?)\", text)\n",
    "    if ha:\n",
    "        return float(ha.group(1).replace(\",\", \"\").strip()) * 10000\n",
    "\n",
    "    # Match dimensions (e.g., 8 x 20m or 8.4 x 12.5m)\n",
    "    dim = re.search(r\"(\\d{1,3}(?:\\.\\d+)?)\\s*[x×*]\\s*(\\d{1,3}(?:\\.\\d+)?)\\s*m\", text)\n",
    "    if dim:\n",
    "        try:\n",
    "            width = float(dim.group(1))\n",
    "            length = float(dim.group(2))\n",
    "            return width * length\n",
    "        except:\n",
    "            return None\n",
    "\n",
    "    # Match values with keywords like 'land area', 'total size', 'lot'\n",
    "    keyword_number = re.search(r\"(land|lot|size|area)[^\\d]{0,15}(\\d{4,7})\", text)\n",
    "    if keyword_number:\n",
    "        return float(keyword_number.group(2).replace(\",\", \"\"))\n",
    "\n",
    "    return None"
   ]
  },
  {
   "cell_type": "code",
   "execution_count": 48,
   "id": "154cdbcc",
   "metadata": {},
   "outputs": [
    {
     "name": "stdout",
     "output_type": "stream",
     "text": [
      "✅ Filled 827 missing land_area values.\n"
     ]
    }
   ],
   "source": [
    "filled = 0\n",
    "df['land_area'] = pd.to_numeric(df['land_area'], errors='coerce')\n",
    "\n",
    "for i, row in df.iterrows():\n",
    "    if is_missing(row.get(\"land_area\")):\n",
    "        info = row.get(\"information\", \"\")\n",
    "        value = extract_land_area(info)\n",
    "        if value:\n",
    "            df.at[i, \"land_area\"] = value\n",
    "            filled += 1\n",
    "\n",
    "print(f\"✅ Filled {filled} missing land_area values.\")\n"
   ]
  },
  {
   "cell_type": "code",
   "execution_count": 49,
   "id": "d678ee97",
   "metadata": {},
   "outputs": [
    {
     "data": {
      "application/vnd.microsoft.datawrangler.viewer.v0+json": {
       "columns": [
        {
         "name": "index",
         "rawType": "object",
         "type": "string"
        },
        {
         "name": "0",
         "rawType": "int64",
         "type": "integer"
        }
       ],
       "ref": "084f6bf7-53de-4627-9424-e4cf0c644143",
       "rows": [
        [
         "Unnamed: 0",
         "0"
        ],
        [
         "id",
         "0"
        ],
        [
         "headline",
         "0"
        ],
        [
         "price_display",
         "13"
        ],
        [
         "rent_display",
         "3597"
        ],
        [
         "bedrooms",
         "1028"
        ],
        [
         "bathrooms",
         "1035"
        ],
        [
         "land_area",
         "1367"
        ],
        [
         "thumbnail_url",
         "0"
        ],
        [
         "thumbnail_urls",
         "0"
        ],
        [
         "garages",
         "3175"
        ],
        [
         "location",
         "0"
        ],
        [
         "address_subdivision",
         "0"
        ],
        [
         "address_locality",
         "0"
        ],
        [
         "address_line_2",
         "9"
        ],
        [
         "address_line_1",
         "148"
        ],
        [
         "category_name",
         "0"
        ],
        [
         "is_parent",
         "0"
        ],
        [
         "type",
         "0"
        ],
        [
         "information",
         "38"
        ],
        [
         "source_url",
         "0"
        ],
        [
         "language",
         "0"
        ],
        [
         "latitude",
         "0"
        ],
        [
         "longitude",
         "0"
        ]
       ],
       "shape": {
        "columns": 1,
        "rows": 24
       }
      },
      "text/plain": [
       "Unnamed: 0                0\n",
       "id                        0\n",
       "headline                  0\n",
       "price_display            13\n",
       "rent_display           3597\n",
       "bedrooms               1028\n",
       "bathrooms              1035\n",
       "land_area              1367\n",
       "thumbnail_url             0\n",
       "thumbnail_urls            0\n",
       "garages                3175\n",
       "location                  0\n",
       "address_subdivision       0\n",
       "address_locality          0\n",
       "address_line_2            9\n",
       "address_line_1          148\n",
       "category_name             0\n",
       "is_parent                 0\n",
       "type                      0\n",
       "information              38\n",
       "source_url                0\n",
       "language                  0\n",
       "latitude                  0\n",
       "longitude                 0\n",
       "dtype: int64"
      ]
     },
     "execution_count": 49,
     "metadata": {},
     "output_type": "execute_result"
    }
   ],
   "source": [
    "df.isnull().sum()"
   ]
  },
  {
   "cell_type": "code",
   "execution_count": 50,
   "id": "4dc7b23c",
   "metadata": {},
   "outputs": [],
   "source": [
    "# def extract_land_size(text):\n",
    "#     if pd.isna(text) or not isinstance(text, str):\n",
    "#         return None\n",
    "#     match = re.search(r\"Land size:\\s*(\\d+\\.?\\d*m\\s*x\\s*\\d+\\.?\\d*m)\", text, re.IGNORECASE)\n",
    "#     if match:\n",
    "#         return match.group(1)\n",
    "#     return None"
   ]
  },
  {
   "cell_type": "code",
   "execution_count": 51,
   "id": "d0f5c79f",
   "metadata": {},
   "outputs": [],
   "source": [
    "# df['land_area'] = df['information'].apply(extract_land_size)\n"
   ]
  },
  {
   "cell_type": "code",
   "execution_count": 52,
   "id": "68eeaf63",
   "metadata": {},
   "outputs": [
    {
     "data": {
      "application/vnd.microsoft.datawrangler.viewer.v0+json": {
       "columns": [
        {
         "name": "index",
         "rawType": "object",
         "type": "string"
        },
        {
         "name": "0",
         "rawType": "int64",
         "type": "integer"
        }
       ],
       "ref": "73fab9be-5de5-4f19-b7ce-a4815c035046",
       "rows": [
        [
         "Unnamed: 0",
         "0"
        ],
        [
         "id",
         "0"
        ],
        [
         "headline",
         "0"
        ],
        [
         "price_display",
         "13"
        ],
        [
         "rent_display",
         "3597"
        ],
        [
         "bedrooms",
         "1028"
        ],
        [
         "bathrooms",
         "1035"
        ],
        [
         "land_area",
         "1367"
        ],
        [
         "thumbnail_url",
         "0"
        ],
        [
         "thumbnail_urls",
         "0"
        ],
        [
         "garages",
         "3175"
        ],
        [
         "location",
         "0"
        ],
        [
         "address_subdivision",
         "0"
        ],
        [
         "address_locality",
         "0"
        ],
        [
         "address_line_2",
         "9"
        ],
        [
         "address_line_1",
         "148"
        ],
        [
         "category_name",
         "0"
        ],
        [
         "is_parent",
         "0"
        ],
        [
         "type",
         "0"
        ],
        [
         "information",
         "38"
        ],
        [
         "source_url",
         "0"
        ],
        [
         "language",
         "0"
        ],
        [
         "latitude",
         "0"
        ],
        [
         "longitude",
         "0"
        ]
       ],
       "shape": {
        "columns": 1,
        "rows": 24
       }
      },
      "text/plain": [
       "Unnamed: 0                0\n",
       "id                        0\n",
       "headline                  0\n",
       "price_display            13\n",
       "rent_display           3597\n",
       "bedrooms               1028\n",
       "bathrooms              1035\n",
       "land_area              1367\n",
       "thumbnail_url             0\n",
       "thumbnail_urls            0\n",
       "garages                3175\n",
       "location                  0\n",
       "address_subdivision       0\n",
       "address_locality          0\n",
       "address_line_2            9\n",
       "address_line_1          148\n",
       "category_name             0\n",
       "is_parent                 0\n",
       "type                      0\n",
       "information              38\n",
       "source_url                0\n",
       "language                  0\n",
       "latitude                  0\n",
       "longitude                 0\n",
       "dtype: int64"
      ]
     },
     "execution_count": 52,
     "metadata": {},
     "output_type": "execute_result"
    }
   ],
   "source": [
    "df.isnull().sum()"
   ]
  },
  {
   "cell_type": "code",
   "execution_count": 53,
   "id": "2d1f6f93",
   "metadata": {},
   "outputs": [],
   "source": [
    "# df.to_csv('../../data/processed/realestates_kh_v2_1.csv', index=False)"
   ]
  }
 ],
 "metadata": {
  "kernelspec": {
   "display_name": "env_v3.10",
   "language": "python",
   "name": "python3"
  },
  "language_info": {
   "codemirror_mode": {
    "name": "ipython",
    "version": 3
   },
   "file_extension": ".py",
   "mimetype": "text/x-python",
   "name": "python",
   "nbconvert_exporter": "python",
   "pygments_lexer": "ipython3",
   "version": "3.10.16"
  }
 },
 "nbformat": 4,
 "nbformat_minor": 5
}
