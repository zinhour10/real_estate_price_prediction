{
 "cells": [
  {
   "cell_type": "code",
   "execution_count": 1,
   "id": "74f2bbe6",
   "metadata": {},
   "outputs": [],
   "source": [
    "import pandas as pd"
   ]
  },
  {
   "cell_type": "code",
   "execution_count": 3,
   "id": "54102219",
   "metadata": {},
   "outputs": [],
   "source": [
    "df = pd.read_csv('../../data/processed/realestates_kh_price_per_m2_zero.csv')"
   ]
  },
  {
   "cell_type": "code",
   "execution_count": 4,
   "id": "2eb87df7",
   "metadata": {},
   "outputs": [
    {
     "name": "stdout",
     "output_type": "stream",
     "text": [
      "            category_name  count\n",
      "0                   other     73\n",
      "1               Shophouse     73\n",
      "2                   Villa     55\n",
      "3                   House     45\n",
      "4                 Retreat     21\n",
      "5        Land/Development     17\n",
      "6                    Flat     15\n",
      "7               Apartment      9\n",
      "8                   Hotel      8\n",
      "9                   Condo      8\n",
      "10                   Land      5\n",
      "11             Twin Villa      5\n",
      "12                Offices      3\n",
      "13                 Retail      1\n",
      "14                   Unit      1\n",
      "15              Warehouse      1\n",
      "16  Leisure/Entertainment      1\n",
      "17      ServicedApartment      1\n"
     ]
    }
   ],
   "source": [
    "category_counts_df = df['category_name'].value_counts().reset_index()\n",
    "category_counts_df.columns = ['category_name', 'count']\n",
    "print(category_counts_df)"
   ]
  }
 ],
 "metadata": {
  "kernelspec": {
   "display_name": "env_v3.10",
   "language": "python",
   "name": "python3"
  },
  "language_info": {
   "codemirror_mode": {
    "name": "ipython",
    "version": 3
   },
   "file_extension": ".py",
   "mimetype": "text/x-python",
   "name": "python",
   "nbconvert_exporter": "python",
   "pygments_lexer": "ipython3",
   "version": "3.10.16"
  }
 },
 "nbformat": 4,
 "nbformat_minor": 5
}
