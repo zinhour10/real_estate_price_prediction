{
 "cells": [
  {
   "cell_type": "code",
   "execution_count": 10,
   "id": "aadfa5fa",
   "metadata": {},
   "outputs": [],
   "source": [
    "import pandas as pd\n",
    "import re   "
   ]
  },
  {
   "cell_type": "code",
   "execution_count": 11,
   "id": "67efc8a2",
   "metadata": {},
   "outputs": [],
   "source": [
    "df = pd.read_csv('../../data/processed/realestates_kh_v2_4.csv')"
   ]
  },
  {
   "cell_type": "code",
   "execution_count": 12,
   "id": "73d0c546",
   "metadata": {},
   "outputs": [
    {
     "data": {
      "application/vnd.microsoft.datawrangler.viewer.v0+json": {
       "columns": [
        {
         "name": "index",
         "rawType": "int64",
         "type": "integer"
        },
        {
         "name": "id",
         "rawType": "float64",
         "type": "float"
        },
        {
         "name": "headline",
         "rawType": "object",
         "type": "string"
        },
        {
         "name": "price_display",
         "rawType": "object",
         "type": "string"
        },
        {
         "name": "bedrooms",
         "rawType": "float64",
         "type": "float"
        },
        {
         "name": "bathrooms",
         "rawType": "float64",
         "type": "float"
        },
        {
         "name": "land_area",
         "rawType": "float64",
         "type": "float"
        },
        {
         "name": "address_subdivision",
         "rawType": "object",
         "type": "string"
        },
        {
         "name": "address_locality",
         "rawType": "object",
         "type": "string"
        },
        {
         "name": "address_line_2",
         "rawType": "object",
         "type": "string"
        },
        {
         "name": "address_line_1",
         "rawType": "object",
         "type": "string"
        },
        {
         "name": "category_name",
         "rawType": "object",
         "type": "string"
        },
        {
         "name": "is_parent",
         "rawType": "bool",
         "type": "boolean"
        },
        {
         "name": "type",
         "rawType": "object",
         "type": "string"
        },
        {
         "name": "information",
         "rawType": "object",
         "type": "string"
        },
        {
         "name": "latitude",
         "rawType": "float64",
         "type": "float"
        },
        {
         "name": "longitude",
         "rawType": "float64",
         "type": "float"
        }
       ],
       "ref": "548292e5-3810-441c-9fad-2af3c66f8755",
       "rows": [
        [
         "0",
         "235560.0",
         "Link house for sale ",
         "$114,000",
         "4.0",
         "5.0",
         "71.4",
         "Phnom Penh",
         "Chroy Changvar",
         "Preaek Lieb",
         " ",
         "Unit",
         "False",
         "residential",
         "- Address: Commune Preaek Lieb, District Chroy Changva, Phnom Penh - Land area : 4.2m x 17m - Building area : 4.2m x 10m - Room ( s ) : 4 - Floors ( s ) : 2 - Price : $ 114000 - ID :  KEY-16165",
         "11.589674",
         "104.925654"
        ],
        [
         "1",
         "248374.0",
         "Land for Sale",
         "$1,800.0/m²",
         null,
         null,
         "104635.0",
         "Phnom Penh",
         "Russey Keo",
         "Tuol Sangkae 1",
         "273 273",
         "Land/Development",
         "False",
         "residential",
         "Land Located at Tuol Kok Village, Sangkat Tuol Sangkae 1, Khan Russey Keo, Phnom Penh",
         "11.5878099",
         "104.9022337"
        ],
        [
         "2",
         "248290.0",
         "<b>Development Land For Sales (National Road 3)</b>",
         "$700.0/m²",
         null,
         null,
         "84000.0",
         "Phnom Penh",
         "Por Sen Chey",
         "Kantaok",
         "N3 N3",
         "Land/Development",
         "False",
         "residential",
         "Land for Sale or Rent on Road N3 Main Road - Hard Title - Land 8.40hectares - Price for Sale 700$/Sqm - Price for Rent 1.5$/Sqm - Kind of land : Development land - Commercial land",
         "11.537783",
         "104.920232"
        ],
        [
         "3",
         "248489.0",
         "?????????????????? ??? Urban Village Phase 2 ???????",
         "$90,000",
         "1.0",
         "1.0",
         "76000.0",
         "Phnom Penh",
         "Meanchey",
         "Chak Angrae Leu",
         "   ",
         "Condo",
         "False",
         "residential",
         "Condo for sale in Chak Angrae Leu, Meanchey, Phnom Penh at $90,000. Details This Condo has 1 bedroom and 1 bathroom plus parking for 0 cars. The property includes a generous land holding of 76000.00 m2, with an internal floor area of 56.00. Location Enjoy living in a convenient location with this Condo for sale. If you would like to know more about this property, send an email to the agent by clicking \"Enquire\" or \"Email Agent\" buttons, or click the phone icon to reveal the agent's number to make a call. Alternatively, you can save this property and revisit it later.",
         "11.537783",
         "104.920232"
        ],
        [
         "4",
         "235239.0",
         "Land in front of Eden Garden inside Phnom Penh City Center for Sale  ( ??????)",
         "$276,264,450",
         null,
         null,
         "55811.0",
         "Phnom Penh",
         "Daun Penh",
         "Srah Chak",
         "  ",
         "Land/Development",
         "False",
         "residential",
         "Land in front of Eden Garden for Sales Size: 55811 m2 Width: 166m Depth: 335 m Price: 4xxx/m2 Ownership Type: Hard Title Location: land located in front of Eden Garden and View Park inside the Phnom Penh City Center. This land is suitable for constructing an apartment complex, hotel, shopping mall, skyscraper, office building, and other commercial endeavors. Map: https://goo.gl/maps/oDS7UbiFvqonVEsn9 #PPCC #phnompenhcitycenter #land #sale #bussinesdistrict #Edengarden #??? #?????? PCC #phnompenhpenhcitycenter #land #sale #bussinesdistrict #Edengarden #??? #??????? #??????????? #?????? #????????? #?????? #Boeungkak #land",
         "11.57920232",
         "104.9086133"
        ]
       ],
       "shape": {
        "columns": 16,
        "rows": 5
       }
      },
      "text/html": [
       "<div>\n",
       "<style scoped>\n",
       "    .dataframe tbody tr th:only-of-type {\n",
       "        vertical-align: middle;\n",
       "    }\n",
       "\n",
       "    .dataframe tbody tr th {\n",
       "        vertical-align: top;\n",
       "    }\n",
       "\n",
       "    .dataframe thead th {\n",
       "        text-align: right;\n",
       "    }\n",
       "</style>\n",
       "<table border=\"1\" class=\"dataframe\">\n",
       "  <thead>\n",
       "    <tr style=\"text-align: right;\">\n",
       "      <th></th>\n",
       "      <th>id</th>\n",
       "      <th>headline</th>\n",
       "      <th>price_display</th>\n",
       "      <th>bedrooms</th>\n",
       "      <th>bathrooms</th>\n",
       "      <th>land_area</th>\n",
       "      <th>address_subdivision</th>\n",
       "      <th>address_locality</th>\n",
       "      <th>address_line_2</th>\n",
       "      <th>address_line_1</th>\n",
       "      <th>category_name</th>\n",
       "      <th>is_parent</th>\n",
       "      <th>type</th>\n",
       "      <th>information</th>\n",
       "      <th>latitude</th>\n",
       "      <th>longitude</th>\n",
       "    </tr>\n",
       "  </thead>\n",
       "  <tbody>\n",
       "    <tr>\n",
       "      <th>0</th>\n",
       "      <td>235560.0</td>\n",
       "      <td>Link house for sale</td>\n",
       "      <td>$114,000</td>\n",
       "      <td>4.0</td>\n",
       "      <td>5.0</td>\n",
       "      <td>71.4</td>\n",
       "      <td>Phnom Penh</td>\n",
       "      <td>Chroy Changvar</td>\n",
       "      <td>Preaek Lieb</td>\n",
       "      <td></td>\n",
       "      <td>Unit</td>\n",
       "      <td>False</td>\n",
       "      <td>residential</td>\n",
       "      <td>- Address: Commune Preaek Lieb, District Chroy...</td>\n",
       "      <td>11.589674</td>\n",
       "      <td>104.925654</td>\n",
       "    </tr>\n",
       "    <tr>\n",
       "      <th>1</th>\n",
       "      <td>248374.0</td>\n",
       "      <td>Land for Sale</td>\n",
       "      <td>$1,800.0/m²</td>\n",
       "      <td>NaN</td>\n",
       "      <td>NaN</td>\n",
       "      <td>104635.0</td>\n",
       "      <td>Phnom Penh</td>\n",
       "      <td>Russey Keo</td>\n",
       "      <td>Tuol Sangkae 1</td>\n",
       "      <td>273 273</td>\n",
       "      <td>Land/Development</td>\n",
       "      <td>False</td>\n",
       "      <td>residential</td>\n",
       "      <td>Land Located at Tuol Kok Village, Sangkat Tuol...</td>\n",
       "      <td>11.587810</td>\n",
       "      <td>104.902234</td>\n",
       "    </tr>\n",
       "    <tr>\n",
       "      <th>2</th>\n",
       "      <td>248290.0</td>\n",
       "      <td>&lt;b&gt;Development Land For Sales (National Road 3...</td>\n",
       "      <td>$700.0/m²</td>\n",
       "      <td>NaN</td>\n",
       "      <td>NaN</td>\n",
       "      <td>84000.0</td>\n",
       "      <td>Phnom Penh</td>\n",
       "      <td>Por Sen Chey</td>\n",
       "      <td>Kantaok</td>\n",
       "      <td>N3 N3</td>\n",
       "      <td>Land/Development</td>\n",
       "      <td>False</td>\n",
       "      <td>residential</td>\n",
       "      <td>Land for Sale or Rent on Road N3 Main Road - H...</td>\n",
       "      <td>11.537783</td>\n",
       "      <td>104.920232</td>\n",
       "    </tr>\n",
       "    <tr>\n",
       "      <th>3</th>\n",
       "      <td>248489.0</td>\n",
       "      <td>?????????????????? ??? Urban Village Phase 2 ?...</td>\n",
       "      <td>$90,000</td>\n",
       "      <td>1.0</td>\n",
       "      <td>1.0</td>\n",
       "      <td>76000.0</td>\n",
       "      <td>Phnom Penh</td>\n",
       "      <td>Meanchey</td>\n",
       "      <td>Chak Angrae Leu</td>\n",
       "      <td></td>\n",
       "      <td>Condo</td>\n",
       "      <td>False</td>\n",
       "      <td>residential</td>\n",
       "      <td>Condo for sale in Chak Angrae Leu, Meanchey, P...</td>\n",
       "      <td>11.537783</td>\n",
       "      <td>104.920232</td>\n",
       "    </tr>\n",
       "    <tr>\n",
       "      <th>4</th>\n",
       "      <td>235239.0</td>\n",
       "      <td>Land in front of Eden Garden inside Phnom Penh...</td>\n",
       "      <td>$276,264,450</td>\n",
       "      <td>NaN</td>\n",
       "      <td>NaN</td>\n",
       "      <td>55811.0</td>\n",
       "      <td>Phnom Penh</td>\n",
       "      <td>Daun Penh</td>\n",
       "      <td>Srah Chak</td>\n",
       "      <td></td>\n",
       "      <td>Land/Development</td>\n",
       "      <td>False</td>\n",
       "      <td>residential</td>\n",
       "      <td>Land in front of Eden Garden for Sales Size: 5...</td>\n",
       "      <td>11.579202</td>\n",
       "      <td>104.908613</td>\n",
       "    </tr>\n",
       "  </tbody>\n",
       "</table>\n",
       "</div>"
      ],
      "text/plain": [
       "         id                                           headline price_display  \\\n",
       "0  235560.0                               Link house for sale       $114,000   \n",
       "1  248374.0                                      Land for Sale   $1,800.0/m²   \n",
       "2  248290.0  <b>Development Land For Sales (National Road 3...     $700.0/m²   \n",
       "3  248489.0  ?????????????????? ??? Urban Village Phase 2 ?...       $90,000   \n",
       "4  235239.0  Land in front of Eden Garden inside Phnom Penh...  $276,264,450   \n",
       "\n",
       "   bedrooms  bathrooms  land_area address_subdivision address_locality  \\\n",
       "0       4.0        5.0       71.4          Phnom Penh   Chroy Changvar   \n",
       "1       NaN        NaN   104635.0          Phnom Penh       Russey Keo   \n",
       "2       NaN        NaN    84000.0          Phnom Penh     Por Sen Chey   \n",
       "3       1.0        1.0    76000.0          Phnom Penh         Meanchey   \n",
       "4       NaN        NaN    55811.0          Phnom Penh        Daun Penh   \n",
       "\n",
       "    address_line_2 address_line_1     category_name  is_parent         type  \\\n",
       "0      Preaek Lieb                             Unit      False  residential   \n",
       "1   Tuol Sangkae 1        273 273  Land/Development      False  residential   \n",
       "2          Kantaok          N3 N3  Land/Development      False  residential   \n",
       "3  Chak Angrae Leu                            Condo      False  residential   \n",
       "4        Srah Chak                 Land/Development      False  residential   \n",
       "\n",
       "                                         information   latitude   longitude  \n",
       "0  - Address: Commune Preaek Lieb, District Chroy...  11.589674  104.925654  \n",
       "1  Land Located at Tuol Kok Village, Sangkat Tuol...  11.587810  104.902234  \n",
       "2  Land for Sale or Rent on Road N3 Main Road - H...  11.537783  104.920232  \n",
       "3  Condo for sale in Chak Angrae Leu, Meanchey, P...  11.537783  104.920232  \n",
       "4  Land in front of Eden Garden for Sales Size: 5...  11.579202  104.908613  "
      ]
     },
     "execution_count": 12,
     "metadata": {},
     "output_type": "execute_result"
    }
   ],
   "source": [
    "df.head()"
   ]
  },
  {
   "cell_type": "code",
   "execution_count": 13,
   "id": "1e369878",
   "metadata": {},
   "outputs": [
    {
     "data": {
      "application/vnd.microsoft.datawrangler.viewer.v0+json": {
       "columns": [
        {
         "name": "index",
         "rawType": "int64",
         "type": "integer"
        },
        {
         "name": "price_display",
         "rawType": "object",
         "type": "unknown"
        },
        {
         "name": "land_area",
         "rawType": "float64",
         "type": "float"
        },
        {
         "name": "information",
         "rawType": "object",
         "type": "unknown"
        }
       ],
       "ref": "42f633e7-bfb4-4d47-b1bb-80a9213e2c59",
       "rows": [
        [
         "0",
         "$114,000",
         "71.4",
         "- Address: Commune Preaek Lieb, District Chroy Changva, Phnom Penh - Land area : 4.2m x 17m - Building area : 4.2m x 10m - Room ( s ) : 4 - Floors ( s ) : 2 - Price : $ 114000 - ID :  KEY-16165"
        ],
        [
         "1",
         "$1,800.0/m²",
         "104635.0",
         "Land Located at Tuol Kok Village, Sangkat Tuol Sangkae 1, Khan Russey Keo, Phnom Penh"
        ],
        [
         "2",
         "$700.0/m²",
         "84000.0",
         "Land for Sale or Rent on Road N3 Main Road - Hard Title - Land 8.40hectares - Price for Sale 700$/Sqm - Price for Rent 1.5$/Sqm - Kind of land : Development land - Commercial land"
        ],
        [
         "3",
         "$90,000",
         "76000.0",
         "Condo for sale in Chak Angrae Leu, Meanchey, Phnom Penh at $90,000. Details This Condo has 1 bedroom and 1 bathroom plus parking for 0 cars. The property includes a generous land holding of 76000.00 m2, with an internal floor area of 56.00. Location Enjoy living in a convenient location with this Condo for sale. If you would like to know more about this property, send an email to the agent by clicking \"Enquire\" or \"Email Agent\" buttons, or click the phone icon to reveal the agent's number to make a call. Alternatively, you can save this property and revisit it later."
        ],
        [
         "4",
         "$276,264,450",
         "55811.0",
         "Land in front of Eden Garden for Sales Size: 55811 m2 Width: 166m Depth: 335 m Price: 4xxx/m2 Ownership Type: Hard Title Location: land located in front of Eden Garden and View Park inside the Phnom Penh City Center. This land is suitable for constructing an apartment complex, hotel, shopping mall, skyscraper, office building, and other commercial endeavors. Map: https://goo.gl/maps/oDS7UbiFvqonVEsn9 #PPCC #phnompenhcitycenter #land #sale #bussinesdistrict #Edengarden #??? #?????? PCC #phnompenhpenhcitycenter #land #sale #bussinesdistrict #Edengarden #??? #??????? #??????????? #?????? #????????? #?????? #Boeungkak #land"
        ],
        [
         "5",
         "$22,550,000",
         "41000.0",
         "Land for Urgent Sale?? (Road # 3) 1. Sales / SQM Feature: 41000? Land / Lands: Garment is near the 3rd Arrong Road ? fland on the Main Road # 3 is located Only 1.8km from Choam Choam Chao. ?this property and Ground Has Surrounded A Lot of Building for Example Commercial condominiums, Hotel, Gasoline Station etc. 5. LOCATION Angk Village, Por Senat Village, Por Senat Village Kantaok, Kamboint, Phnom Penh (Road # 3)"
        ],
        [
         "6",
         "$16,400,000",
         "41000.0",
         "Vacant Land for Sale ??Location: On the National road No. 3-Phum Anlong Takeat, Sangkat Kantaok, Khan Kamboul, Phnom Penh ??Selling Price: $400/sqm (Negotiable) ??Total Land Size: 41,000 square meters ??Hard title ownership"
        ],
        [
         "7",
         "$22,550,000",
         "41000.0",
         "Land for Urgent Sale?? (Road # 3) 1. Sales / SQM Feature: 41000? Land / Land Feature on National Roads Gasten and near the 3rd Arrong Road ? landed on the Main Road # 3 is located Only 2.5km from the Sky Bridge Choam Choam Choam Chao. ?this property and Ground Has Surrounded A Lot of Building for Example Commercial condominiums, Hotel, Gasoline Station etc. 5. LOCATION Angkva Village, Por Sen Chang, Khambang, Por Sen Villak Vake Kantaok, Kamboint Kamboint Kantaoul, Phnom Penh, Phnom Penh, Phnom Penh https://maps.goo.Gool.gl/nvmfwvb6JqCHTH3JQQS36 Land for urgent Sale?? (Road # 3)"
        ],
        [
         "8",
         "$19,000,000",
         "40800.0",
         "This expansive factory and land property , located in a thriving industrial area, is now available for sale at $19M . With a generous land size of 170m x 240m , the property is perfect for large-scale manufacturing or industrial use. The site includes: A spacious main factory building measuring 90m x 180m An EPS factory of 30m x 70m An office building spanning 20m x 35m across three floors Dormitory units (3 units, each 6m x 8m) The property also features a robust 380Amh electricity supply , ensuring smooth industrial operations. Conveniently located just 5 minutes from the PPSHV expressway , it is close to schools, supermarkets, restaurants, and a well-developed manufacturing area. This property offers both strategic location and functional infrastructure for businesses. Key Features: - Land size: 170m x 240m - Main factory: 90m x 180m - EPS factory: 30m x 70m - Office building: 20m x 35m (3 floors) - Dormitories: 3 units, 6m x 8m each - Electricity: 380Amh - Hard title - Prime location near expressway and commercial amenities Contact us now for more details or to arrange a viewing!"
        ],
        [
         "9",
         "$98,000",
         "40000.0",
         "?? Concono for sale | CONDO FOR SALE ?? Sales Price | Sale Price: 80,000 $ ?? Chroy Changvar | Chroy Chong Var ?? Immediately login | Ready to Move in ?? Details | Unit Details: - Room size | Room Size: 58SQM - Bedroom | BedRoms: 1 (Loft) - Bathroom | Bathrooms: 1 - Living Room | Living Room: 1 - Kitchen | Kitchen: 1 ? Include | Included - Complete Furniture | Fully Furnished - Natural Garden 21% | 21% Green Garden - Swimming Pool | Swimming Pool - Gym Club | Gym - Security 24/7 | Security 24/7 - Liversist landscape | Sighseeing River View"
        ],
        [
         "10",
         "$168",
         "32428.0",
         "Land for sale size 32428m² Price $ 900 / 1m² Hard title deed ownership Land income $ 18000_ $ 20000 / month The land is in a good location, the land is right next to the road, it is good for business and construction of condominiums and it is a big area with high odds. Contact Information"
        ],
        [
         "11",
         "$3,297,720",
         "27481.0",
         "- Address: Commune Krang Pongro, District  Dangkao, Phnom Penh - Land area : 27481m2 - Price : $120/sq.m - ID : KEY-16192"
        ],
        [
         "12",
         "$195/m²",
         "26000.0",
         "This corner investment land for sale at Prey Sar area and next to Borey Santepheap 2, Sangkat Prey Sar, Khan Dangkor, Phnom Penh City.  Land size: 2.6 Ha  On frontage road: 102 m  Price: $195/Sq.m It's a very good for real estate investment or develop into build commpund villa, twin villa, flat houses, international school, hospital, warehouse, factory and for all kinds of business activities. For more information, please contact us now to visiting!"
        ],
        [
         "13",
         "$65,000",
         "25000.0",
         "@Project: Morgan Enmaison ?? Special promotion in September 2022 ?????? Room type: Studio - Floor: 0206 - Room size: 47.29 / sqm - Full price $ 118,093 Last special price: $ 65,000 - Payment terms up to 36 months without interest ??? Get 1 iPhone 14 Pro Max 256G 1 1 refrigerator, 1 TV Equipment, 1 air conditioner, 1 washing machine ? Location: Chroy Changva, along the Mekong River ?? Contact details will be available now Special promotion with this great gift"
        ],
        [
         "14",
         "$60,000",
         "25000.0",
         "Morgan Enmaison, the only waterfront Bay Area in Phnom Penh, Cambodia. The largest waterfront property development with riverside mansion life. We have 1 bedroom, 2 bedrooms, 3 bedrooms and penthouses with a private swimming pool./T'S HOME Real Estate Phnom penh Price 60,000$ up Discount 15% Booking only 2000$ Monthly payment up from 34 months to 60months term."
        ],
        [
         "15",
         "$66,000",
         "25000.0",
         "@Project: Morgan Enmaison ?? Special promotion in September 2022 ?????? Room type: Studio - Floor: 0205 - Room size: 47.76 / sqm - Full price $ 119,266 Last special price: $ 66,000 - Payment terms up to 36 months without interest ??? Get 1 iPhone 14 Pro Max 256G 1 1 refrigerator, 1 TV Equipment, 1 air conditioner, 1 washing machine ? Location: Chroy Changva, along the Mekong River ?? Contact details will be available now Special promotion with this great gift"
        ],
        [
         "16",
         "$1,200.0/m²",
         "22168.0",
         "Land for sale located at at Banla S'et Village, Sangkat Khmuonh, Khan Saensokh, Phnom Penh"
        ],
        [
         "17",
         "$119,000",
         "20000.0",
         "Heighten your quality of living in a home that is truly special for family and friends. Axis Residence strategically located just minutes from the Phnom Penh International Airport, Orienda International Hospital and the City Center. With a pool view from the 7th floor, our type A2 unit offers a spacious bedroom, a fully equipped living room, kitchen and bathroom. Become a resident of Axis to access a wide range of amenities such as: -Free parking space -50m Olympic length lap pool -Children playground -Giant Jacuzzi -Well-equipped Gym -Sauna -Tennis & Basketball court -Multi-purpose room -BBQ pits and much more"
        ],
        [
         "18",
         "$100,000",
         "20000.0",
         "Don't waste your time battling peak-hour traffic when you can already be relaxing at your luxuriously appointed home at Axis Residence. At Axis Residence, we got all you want from just minutes drive to the Phnom Penh International Airport, Orienda International Hospital and the City Center. This air-conditioned unit consists of 1 large bed with a TV, 1 bathroom, a fully furnished living room, a kitchen and a spacious balcony with pool view from 3rd floor. Become a resident of Axis to access a wide range of amenities such as: -Free parking space -50m Olympic length lap pool -Children playground -Giant Jacuzzi -Well-equipped Gym -Sauna -Tennis & Basketball court -Multi-purpose room -BBQ pits and much more"
        ],
        [
         "19",
         "$5,256,000",
         "18777.0",
         "Land for sale located at Hun Sen blvd (60m), Preaek Ta Long III Village, Sangkat Chak Angrae Kraom , Khan Mean Chey, Phnom Penh. -Price: = $1,350 / sq.m, urgent sale (Negotiable) = $1,500 / sq.m, if buy 2 plots (Negotiable) -Seller: fill the land"
        ],
        [
         "20",
         "$35,670,600",
         "18774.0",
         "Corner Commercial Land For Sale on St. Hun Sen Blvd and Opposite AEON MALL-3 Land Size : 18,774 Sqm Price: $1,900/Sqm Negotiable This commercial land is very good for real estate investment, building business center, hotel, condo, showroom, shopping international school, hospital and all business activities"
        ],
        [
         "21",
         "$1,650.0/m²",
         "18774.0",
         "This commercial land location is a long 60-meter road (Samdech Hun Sen Blvd), corner of Chhun Kong Blvd, and in front of AEON Mall-3, Phnom Penh.  Size: 18,774 SQM  L-Map  Price: $1,650/SQM negotiable This commercial land is very good for real estate investment, building business center, hotel, condo, showroom, shopping international school, hospital and all business activities."
        ],
        [
         "22",
         "$2,400,000",
         "16000.0",
         "?? Land for sale next to National Road 42 in front of Canadia Development Land and near many Borey projects under construction ?? _ Land next to National Road 42 (50m wide ring road) Owners only 1) Total size is about 16000m ² The front plot next to National Road 42 has two lanes (as in the picture). The main entrance is about 76 m long, next to National Road 42. The second lane, more than 14 m long, next to National Road 42. The back plot is 170m long, next to the cart road is 4m. Suitable for development, building houses for sale. Currently, many Boreys are being built near this land_Location: National Road 42, Chey Chumneas Village, Sangkat Ovulok, Khan Kampol, Phnom Penh."
        ],
        [
         "23",
         "$1,462,050",
         "15390.0",
         "* Land for sale: - Selling price: $1,462,050 - Land size: 15,390 sqm - Document: Hard Title"
        ],
        [
         "24",
         "$428,100",
         "14270.0",
         null
        ],
        [
         "25",
         "$1,320,000",
         "12000.0",
         "- Address: Commune Kambol, District Kambol , Phnom Penh - Land area :  100m x 120m - Price : $110"
        ],
        [
         "26",
         "$20,000,000",
         "11817.0",
         "This land for sale offers a total area of 11,817sqm, perfect for large-scale development or industrial use. The main factory building measures 60m x 127m , with an additional 20m x 40m building on the property, providing ample space for production or storage. The land is facing east, allowing for good natural light and ventilation. It comes with a hard title for easy ownership transfer. The current owner will also handle the transfer fee, making the process smooth and straightforward. This property is ideal for businesses looking to expand or develop their own factory space. Key Features: - Land size: 11,817sqm - Main factory building: 60m x 127m - Additional building: 20m x 40m - Facing east for natural light - Hard title for easy ownership - wner handles transfer fee"
        ],
        [
         "27",
         "$2,800,000",
         "10826.0",
         "Land For Sale Facing Riverside - Selling Price: $2,800,000 - Property ID: IL-L-098 - Land Size: 10,826 sqm - The best option for resort ??Location: Koh Dach (Riverside)"
        ],
        [
         "28",
         "$3,000,000",
         "10774.0",
         "This potential land is located between the middle of the Mekong and Tonle Sap rivers and next to the Ly Yongphat development zone, National Road 6A. It has a total land area of 10774 square meters with a frontage length of 55 meters. These factors make this subject land suitable for a housing development project, commercial building, and capital gain."
        ],
        [
         "29",
         "$325.0/m²",
         "10100.0",
         "Discover a prime opportunity with this vacant land for sale in Sen Sok district . Spanning 10,100 sqm , this land comes with a hard title and faces east , offering great potential for either living or investment. The land is easily accessible via a good road and is situated close to numerous amenities. You'll find AEON Mall Sen Sok and Chip Mong Mall Sen Sok nearby, along with popular restaurants, coffee shops, and international schools. Local businesses, markets, and boreys are also just a short distance away. This location offers the perfect blend of convenience and potential for development. Whether you're looking to build your dream home or invest in a growing area, this property is a fantastic choice. Key Features:  Vacant land for sale  10,100 sqm  Hard title  Face to the east  Access on good road  Ideal for living or investment  Close to malls, restaurants, schools, and more"
        ],
        [
         "30",
         "$1,850.0/m²",
         "10057.0",
         "Land for sale at 60m Road developing area and before arrive Third AEON Mall, Phnom Penh City. ? Land size: 89m x 113m ? Can split 35m or 50m head ? Price: $1,850/Sq.m (negotiable) Good location in commercial area and perfect for building showroom, super market, shop-houses, villas, condo, apartment, hotel, hospital, international school. warehouses, and all kinds of businesses."
        ],
        [
         "31",
         "$40,500,000",
         "10000.0",
         "Location : Khan preak prov Sale Price: $4,050/sqm (Negotiable) including hard title transferring Along street 20 meter Size:100m x 100m (1 hectares) Good for investment"
        ],
        [
         "32",
         "$2,000,000",
         "10000.0",
         "Land for sale Property code: ALD24-002 Sell Price For sale price: 2,000,000$ (Can negotiation) Land size Land area: 10,000m2 Location Address: Chroy Changvar district, Phnom Penh"
        ],
        [
         "33",
         "$35,000",
         "10000.0",
         "- Construction: 50m * 20m, steel roof, concrete bottom, stone pillars, height 5m - 6 bathrooms for boys and girls, including bathroom - VIP room with 3 people, 20 people per room - Shower room, 1 air conditioner. 50 people in the front - Office room, equipment, table, chair, air conditioner - Staff room, 4 rooms - Front area has 16 tables, seating 100 people Free delivery of 3 phases - 6 air conditioners - Kitchen equipment: Vegetable cabinet, three doors, refrigerator, stainless steel stove, FUll set - Plates, spoons, glass, Full set 300 set + contract - 3 year lease - 3 months deposit - Land rent $ 1377 per month - Contract can be extended for up to 10 years indefinitely"
        ],
        [
         "34",
         "$123,500",
         "9366.0",
         "Flat E0, E1 (House in front of Suon Thom) in Borey Vimean Phnom Penh Project 5 Khan Russey Keo is urgently needed for sale * Price only: $ 123,500 (Negotiable) * Price includes transfer of title deed * Size Land size: 4.2mx 22.3m * House size: 4.2mx 16m * Remaining land in front 4.5m and back land 1.8m * 4 bedrooms and 5 bathrooms Thom Borey ?? Civic living, safe, comfortable and full of big projects, markets and condos ?? Can pay by bank installment for 20 years, but need to pay 30% of the house price in advance."
        ],
        [
         "35",
         "$160.0/m²",
         "9330.0",
         "This property offers a large land size of 9,330m² , ideal for investment or development projects. The land comes with a hard title (L-map) , ensuring secure ownership and hassle-free transactions. Located in a convenient area along the strategic Ring Road 3, this property provides excellent accessibility. It is positioned toward the Chamkar Doung traffic light and Wat Kraing Sleng, connecting to National Road 3. With its prime location and substantial size, this land is suitable for various development opportunities such as residential projects, commercial spaces, or industrial setups. Dont miss this chance to invest in a high-potential area. Contact us today for more details or to schedule a site visit. Key Features:  Total land size: 9,330m²  Hard title (L-map)  Located along Ring Road 3  Near Chamkar Doung traffic light and Wat Kraing Sleng (National Road 3)  Suitable for investment and development projects"
        ],
        [
         "36",
         "$12,240,000",
         "8160.0",
         "Location good for invest or new project or Supermarket at Street 60m"
        ],
        [
         "37",
         "$14,996,100",
         "8106.0",
         "Land and Factory for sale location at Phum Toul Sangke, Sangkat Toul Sangke, Khan Russey Keo. Phnom Penh. close to Toul Sangke Market, currently surrounded by Market, shop house, supermarket, bus station, Factory, Warehouse, Bank, office building, commercial building or other business activities. current market price from 1987$ to 2050$ per square meter, selling under market price only 1850$/ square meter can negotiate a bit more. Land Front width: 120m Land Behind width: 100m Land Length: 75m Title Deed: Hard"
        ],
        [
         "38",
         "$100.0/m²",
         "7960.0",
         "Discover this prime land parcel spanning 7,960sqm with a hard Title , ideal for savvy investors. Situated in a strategic location, just minutes away from major attractions like Amazon Resort, Hun Sen Blvd, Ring Road 3, AEON Mall Meanchey, ISPP International School, and Techo International Airport. This area is bustling with commercial activities, coffee shops, supermarkets, and restaurants, ensuring convenience and growth potential. Don't miss out on this lucrative opportunity! Call now to secure your investment in one of Phnom Penh's most promising locations. Key Features:  Land area: 7,960sqm  Hard Title ownership  Strategic location near major attractions and amenities"
        ],
        [
         "39",
         "$14,476,000",
         "7825.0",
         "Land for sale: Hun Sen ? Hun Sen ? Land Size: 80m x 98m = 78m2 The Road Road :, Urgent ? ? ? 98m = 78m2 [Canplit] ? ? & M2"
        ],
        [
         "40",
         "$944,580",
         "7266.0",
         "7266m2 Price:130$/m2 Negotiable Land facing east wards Width:67m Length:115m https://maps.app.goo.gl/gGAJeCzUpxEPrjQC7"
        ],
        [
         "41",
         "$2,559,960",
         "7111.0",
         "- Address: Commune Preaek Thmei , District Chbar Ampov , Phnom Penh - Land area :  61m x 115m - Price : 360$/sqm"
        ],
        [
         "42",
         "$4,230,000",
         "6792.0",
         "Warehouse & Rent - Location: Sangkat Stung Meanchey - Warehouse Sales: Rental: Rental: ?? Contact: ?? Contact: ?? Contact: ?? Contact: Contact: +855125252515256 ... Standard Warehouse & Rent: Stung Meanchey Distribute: 7,692 M² Rental PRice: $2/m² - Sale Price: $550/m² - Additional Info: The warehouse is in a developing area with easy access to main roads, making it ideal for business operations or investment."
        ],
        [
         "43",
         "$20,521,600",
         "6413.0",
         "????????????????????????????????????????????????????????????????????? ????????????????????? ???????????????????????????????????????????? ???????????? This land in a key commercial and residential district of Phnom Penh City. Located in 7 Makara District the main district linking Russian Blvd, Kampuchea Krom, and Monivong Blvd. Located in Makara District 7, the main areas connecting Russia Avenue, Cambodia Krom and Moniwan Avenue. ? ?????? | Land size | Land area: 6,413 Sqm/square meter ? ???????? | Sale Price | Sale Price | Sale Price: $20,521,600 = $3,200/sqm/square meter ???????????????????????? Olympia (?????????????????) GT Tower (???????????????) ???????????? Delano (???????????????) ? In close proximity to Olympia City development (residential project), GT Tower (office building) and Delano Center (office building). is close to Olympia City Development (residential project), GT Building (office building) and Delano Center (office building). ?????????????????? | Contact Us Now! | Contact Us Now! ???????????????????? | For Details | Details:"
        ],
        [
         "44",
         "$10,000,000",
         "6300.0",
         "This stunning private modern villa in Khan Chbar Ampov is perfect for those seeking a grand lifestyle.  Imagine having plenty of space for your family and guests, with room to relax, entertain, and create lasting memories. The property features a massive land size of 6,300sqm and an expansive house size of 5,400sqm.  Spread over three floors, there are 20 bedrooms, 25 bathrooms, 4 living rooms, and 3 kitchens. Ample parking is available for your convenience. Two swimming pools, a movie room, a KTV room, and a sauna room offer endless entertainment options, while a hard title deed and free transfer fee ensure peace of mind. The east facing villa is filled with natural light throughout the day.  Location is ideal ! Situated opposite Borey Sambath Mean Heng 3 Project, the villa is also close to the Passport office, Chbar Ampov market, and Kbal Thnorl. Don't miss this chance to own a piece of paradise! Contact us today to schedule a viewing. Key features:  Private modern villa  Land size: 6,300sqm  House size: 5,400sqm  3 Floors (E0, E1, E2)  Hard title deed  Free transfer fee  East facing  Furniture on negotiation  20 Bedrooms  25 Bathrooms  4 Living rooms  3 Kitchens  2 Swimming pools  1 Movie room  1 KTV room  1 Sauna room  Big parking  Convenient location"
        ],
        [
         "45",
         "$320.0/m²",
         "6255.0",
         "A well-positioned corner land spanning 6255sqm is now available for sale in Khan Dangkao. This property comes with a hard title , offering a free transfer fee, making it a straightforward investment opportunity for development. Located along a main road, this land is in a convenient location with high accessibility, ideal for potential projects. It's close to Sangkat Roluos hall and surrounded by several ongoing developments, enhancing the areas growth potential. Investors and developers looking for a promising site in Phnom Penh will find this corner land an appealing option. Dont miss out on this opportunityget in touch to secure it today! Key Features:  Corner land for sale in Khan Dangkao  Land size: 6255sqm  Hard Title (Free transfer fee)  Convenient location  On main road  Nearby Sangkat Roluos hall and other projects"
        ],
        [
         "46",
         "$3,410,000",
         "6200.0",
         "Land for sale !!! At developing the Royal Government plans to build the Khmer-Korean friendly bridge in 2023. Land for Sale Arevoment AREA The Construction of the Cambodia-Korea Friends Bridge BRUDSED IN SVEDULED AND PRICE: 550 $ / PRICE) - Hard Layout / Hard Title - Land Location / Location: Prek Lvea Village, Prek Lvince, Kandal Province, Kandal Province."
        ],
        [
         "47",
         "$721,920",
         "6016.0",
         "Land For Sale: Town of Krong Road, Sangkat Viches, Dangkor Candy, Phnom Penh ? Sales: 6.016M2 (2 Hard Law Care) ? Sales:"
        ],
        [
         "48",
         "$444,000",
         "5825.0",
         "Luxury-Modern Civil Condo in Phnom Penh, Your Excellencies, Lok Chumteavs, Lok Oknha, Ladies and Gentlemen, Are you looking for a modern, clean, good quality, spacious condo? I would like to introduce to you, Excellencies, Lok Chumteavs, Lok Oknha, Ladies and Gentlemen at the condominium project that: 1- Located in the best location on Norodom Blvd. (41) Central of Phnom Penh 4-Green landscape construction, aerial garden, superior quality of civilized living ?? ?? Spacious room-Bedroom 1: Size 78?-Bed room 2: Size 129?-Bed room 3: Size 196 ? - Bedroom 4: Size 262?"
        ],
        [
         "49",
         "$249,600",
         "5825.0",
         "Your Excellencies, Lok Chumteavs, Lok Oknha, Ladies and Gentlemen, are you looking for a modern, clean, good quality, spacious condo? I would like to introduce to you, Excellencies, Lok Chumteavs, Lok Oknha, Ladies and Gentlemen at the condominium project that: 1- Located in the best location on Norodom Blvd. (41) Central of Phnom Penh 4-Green landscape construction, aerial garden, superior quality of civilized living ?? ?? Spacious room-Bedroom 1: Size 78?-Bed room 2: Size 129?-Bed room 3: Size 196 ? - Bedroom 4: Size 262?"
        ]
       ],
       "shape": {
        "columns": 3,
        "rows": 3756
       }
      },
      "text/html": [
       "<div>\n",
       "<style scoped>\n",
       "    .dataframe tbody tr th:only-of-type {\n",
       "        vertical-align: middle;\n",
       "    }\n",
       "\n",
       "    .dataframe tbody tr th {\n",
       "        vertical-align: top;\n",
       "    }\n",
       "\n",
       "    .dataframe thead th {\n",
       "        text-align: right;\n",
       "    }\n",
       "</style>\n",
       "<table border=\"1\" class=\"dataframe\">\n",
       "  <thead>\n",
       "    <tr style=\"text-align: right;\">\n",
       "      <th></th>\n",
       "      <th>price_display</th>\n",
       "      <th>land_area</th>\n",
       "      <th>information</th>\n",
       "    </tr>\n",
       "  </thead>\n",
       "  <tbody>\n",
       "    <tr>\n",
       "      <th>0</th>\n",
       "      <td>$114,000</td>\n",
       "      <td>71.40</td>\n",
       "      <td>- Address: Commune Preaek Lieb, District Chroy...</td>\n",
       "    </tr>\n",
       "    <tr>\n",
       "      <th>1</th>\n",
       "      <td>$1,800.0/m²</td>\n",
       "      <td>104635.00</td>\n",
       "      <td>Land Located at Tuol Kok Village, Sangkat Tuol...</td>\n",
       "    </tr>\n",
       "    <tr>\n",
       "      <th>2</th>\n",
       "      <td>$700.0/m²</td>\n",
       "      <td>84000.00</td>\n",
       "      <td>Land for Sale or Rent on Road N3 Main Road - H...</td>\n",
       "    </tr>\n",
       "    <tr>\n",
       "      <th>3</th>\n",
       "      <td>$90,000</td>\n",
       "      <td>76000.00</td>\n",
       "      <td>Condo for sale in Chak Angrae Leu, Meanchey, P...</td>\n",
       "    </tr>\n",
       "    <tr>\n",
       "      <th>4</th>\n",
       "      <td>$276,264,450</td>\n",
       "      <td>55811.00</td>\n",
       "      <td>Land in front of Eden Garden for Sales Size: 5...</td>\n",
       "    </tr>\n",
       "    <tr>\n",
       "      <th>...</th>\n",
       "      <td>...</td>\n",
       "      <td>...</td>\n",
       "      <td>...</td>\n",
       "    </tr>\n",
       "    <tr>\n",
       "      <th>3751</th>\n",
       "      <td>$520,000</td>\n",
       "      <td>86.25</td>\n",
       "      <td>ShopHouse  rent and sale in PHNOM PENH ,Chamka...</td>\n",
       "    </tr>\n",
       "    <tr>\n",
       "      <th>3752</th>\n",
       "      <td>$1,050,168</td>\n",
       "      <td>1406.00</td>\n",
       "      <td>Land for sale not yet located on Chamkar Dong ...</td>\n",
       "    </tr>\n",
       "    <tr>\n",
       "      <th>3753</th>\n",
       "      <td>$787,410</td>\n",
       "      <td>2019.00</td>\n",
       "      <td>Warehouse Land Value Under Market Near Passis ...</td>\n",
       "    </tr>\n",
       "    <tr>\n",
       "      <th>3754</th>\n",
       "      <td>$1,700,000</td>\n",
       "      <td>209.00</td>\n",
       "      <td>This commercial building is available for sale...</td>\n",
       "    </tr>\n",
       "    <tr>\n",
       "      <th>3755</th>\n",
       "      <td>$14,000,000</td>\n",
       "      <td>21.00</td>\n",
       "      <td>This 9-floor building is now available for bot...</td>\n",
       "    </tr>\n",
       "  </tbody>\n",
       "</table>\n",
       "<p>3756 rows × 3 columns</p>\n",
       "</div>"
      ],
      "text/plain": [
       "     price_display  land_area  \\\n",
       "0         $114,000      71.40   \n",
       "1      $1,800.0/m²  104635.00   \n",
       "2        $700.0/m²   84000.00   \n",
       "3          $90,000   76000.00   \n",
       "4     $276,264,450   55811.00   \n",
       "...            ...        ...   \n",
       "3751      $520,000      86.25   \n",
       "3752    $1,050,168    1406.00   \n",
       "3753      $787,410    2019.00   \n",
       "3754    $1,700,000     209.00   \n",
       "3755   $14,000,000      21.00   \n",
       "\n",
       "                                            information  \n",
       "0     - Address: Commune Preaek Lieb, District Chroy...  \n",
       "1     Land Located at Tuol Kok Village, Sangkat Tuol...  \n",
       "2     Land for Sale or Rent on Road N3 Main Road - H...  \n",
       "3     Condo for sale in Chak Angrae Leu, Meanchey, P...  \n",
       "4     Land in front of Eden Garden for Sales Size: 5...  \n",
       "...                                                 ...  \n",
       "3751  ShopHouse  rent and sale in PHNOM PENH ,Chamka...  \n",
       "3752  Land for sale not yet located on Chamkar Dong ...  \n",
       "3753  Warehouse Land Value Under Market Near Passis ...  \n",
       "3754  This commercial building is available for sale...  \n",
       "3755  This 9-floor building is now available for bot...  \n",
       "\n",
       "[3756 rows x 3 columns]"
      ]
     },
     "execution_count": 13,
     "metadata": {},
     "output_type": "execute_result"
    }
   ],
   "source": [
    "cols = ['price_display', 'land_area', 'information']\n",
    "df[cols]"
   ]
  },
  {
   "cell_type": "code",
   "execution_count": 14,
   "id": "5588ca80",
   "metadata": {},
   "outputs": [],
   "source": [
    "def extract_price(info, land_area=None):\n",
    "    if pd.isnull(info):\n",
    "        return None\n",
    "\n",
    "    info = str(info)\n",
    "\n",
    "    # 1. Price range: $120,000 - $150,000 or 120,000-150,000\n",
    "    match = re.search(r'(\\d[\\d,\\.]*)\\s*[-to]+\\s*(\\d[\\d,\\.]*)', info, re.IGNORECASE)\n",
    "    if match:\n",
    "        p1 = float(match.group(1).replace(',', '').replace('$', ''))\n",
    "        p2 = float(match.group(2).replace(',', '').replace('$', ''))\n",
    "        return (p1 + p2) / 2\n",
    "\n",
    "    # 2. Price per sqm: $1,200/m², 1200/m2, 1200 per sqm, etc.\n",
    "    match = re.search(r'(\\d[\\d,\\.]*)\\s*\\$?\\s*(?:/|per\\s*)(?:m²|m2|sqm|square\\s*meter)', info, re.IGNORECASE)\n",
    "    if match:\n",
    "        price_per_sqm = float(match.group(1).replace(',', '').replace('$', ''))\n",
    "        if land_area is not None and not pd.isnull(land_area):\n",
    "            try:\n",
    "                return price_per_sqm * float(land_area)\n",
    "            except:\n",
    "                return None\n",
    "        else:\n",
    "            return None  # Can't compute total price without area\n",
    "\n",
    "    # 3. Absolute price: $120,000, 120000, USD 120,000, etc.\n",
    "    match = re.search(r'\\$?\\s*([\\d,]+(?:\\.\\d+)?)\\s*(?:usd)?(?!\\s*/)', info, re.IGNORECASE)\n",
    "    if match:\n",
    "        return float(match.group(1).replace(',', ''))\n",
    "\n",
    "    # 4. Price per month/year/unit (for rent or per unit, skip if not needed)\n",
    "    match = re.search(r'(\\d[\\d,\\.]*)\\s*\\$?\\s*/\\s*(?:month|year|unit)', info, re.IGNORECASE)\n",
    "    if match:\n",
    "        return float(match.group(1).replace(',', ''))\n",
    "\n",
    "    # 5. \"Prices start at just $1,390 per square metre\" (extract price per sqm)\n",
    "    match = re.search(r'\\$?\\s*([\\d,]+(?:\\.\\d+)?)\\s*per\\s*(?:square\\s*metre|sqm|m2|m²)', info, re.IGNORECASE)\n",
    "    if match:\n",
    "        price_per_sqm = float(match.group(1).replace(',', ''))\n",
    "        if land_area is not None and not pd.isnull(land_area):\n",
    "            try:\n",
    "                return price_per_sqm * float(land_area)\n",
    "            except:\n",
    "                return None\n",
    "        else:\n",
    "            return None\n",
    "\n",
    "    # 6. Negotiable/Contact for price/Not available\n",
    "    if re.search(r'negotiable|contact|call|tba|n/a|not available', info, re.IGNORECASE):\n",
    "        return None\n",
    "\n",
    "    return None\n"
   ]
  },
  {
   "cell_type": "code",
   "execution_count": 15,
   "id": "081b4c26",
   "metadata": {},
   "outputs": [
    {
     "data": {
      "application/vnd.microsoft.datawrangler.viewer.v0+json": {
       "columns": [
        {
         "name": "index",
         "rawType": "object",
         "type": "string"
        },
        {
         "name": "price_clean",
         "rawType": "float64",
         "type": "float"
        }
       ],
       "ref": "f46784d0-36df-40e1-a059-5680c8699581",
       "rows": [
        [
         "count",
         "3755.0"
        ],
        [
         "mean",
         "1102737.2074327562"
        ],
        [
         "std",
         "6081888.411614954"
        ],
        [
         "min",
         "168.0"
        ],
        [
         "25%",
         "132055.0"
        ],
        [
         "50%",
         "280000.0"
        ],
        [
         "75%",
         "750000.0"
        ],
        [
         "max",
         "276264450.0"
        ]
       ],
       "shape": {
        "columns": 1,
        "rows": 8
       }
      },
      "text/plain": [
       "count    3.755000e+03\n",
       "mean     1.102737e+06\n",
       "std      6.081888e+06\n",
       "min      1.680000e+02\n",
       "25%      1.320550e+05\n",
       "50%      2.800000e+05\n",
       "75%      7.500000e+05\n",
       "max      2.762644e+08\n",
       "Name: price_clean, dtype: float64"
      ]
     },
     "execution_count": 15,
     "metadata": {},
     "output_type": "execute_result"
    }
   ],
   "source": [
    "df['price_clean'] = df.apply(lambda row: extract_price(row.get('price_display', row.get('information', '')), row.get('land_area')), axis=1)\n",
    "df['price_clean'].describe()"
   ]
  },
  {
   "cell_type": "code",
   "execution_count": 16,
   "id": "916af181",
   "metadata": {},
   "outputs": [
    {
     "data": {
      "application/vnd.microsoft.datawrangler.viewer.v0+json": {
       "columns": [
        {
         "name": "index",
         "rawType": "int64",
         "type": "integer"
        },
        {
         "name": "id",
         "rawType": "float64",
         "type": "float"
        },
        {
         "name": "headline",
         "rawType": "object",
         "type": "string"
        },
        {
         "name": "price_display",
         "rawType": "object",
         "type": "unknown"
        },
        {
         "name": "bedrooms",
         "rawType": "float64",
         "type": "float"
        },
        {
         "name": "bathrooms",
         "rawType": "float64",
         "type": "float"
        },
        {
         "name": "land_area",
         "rawType": "float64",
         "type": "float"
        },
        {
         "name": "address_subdivision",
         "rawType": "object",
         "type": "string"
        },
        {
         "name": "address_locality",
         "rawType": "object",
         "type": "string"
        },
        {
         "name": "address_line_2",
         "rawType": "object",
         "type": "unknown"
        },
        {
         "name": "address_line_1",
         "rawType": "object",
         "type": "unknown"
        },
        {
         "name": "category_name",
         "rawType": "object",
         "type": "string"
        },
        {
         "name": "is_parent",
         "rawType": "bool",
         "type": "boolean"
        },
        {
         "name": "type",
         "rawType": "object",
         "type": "string"
        },
        {
         "name": "information",
         "rawType": "object",
         "type": "unknown"
        },
        {
         "name": "latitude",
         "rawType": "float64",
         "type": "float"
        },
        {
         "name": "longitude",
         "rawType": "float64",
         "type": "float"
        },
        {
         "name": "price_clean",
         "rawType": "float64",
         "type": "float"
        }
       ],
       "ref": "06c6da5a-196e-414e-8c0d-30b31f7a610e",
       "rows": [
        [
         "0",
         "235560.0",
         "Link house for sale ",
         "$114,000",
         "4.0",
         "5.0",
         "71.4",
         "Phnom Penh",
         "Chroy Changvar",
         "Preaek Lieb",
         " ",
         "Unit",
         "False",
         "residential",
         "- Address: Commune Preaek Lieb, District Chroy Changva, Phnom Penh - Land area : 4.2m x 17m - Building area : 4.2m x 10m - Room ( s ) : 4 - Floors ( s ) : 2 - Price : $ 114000 - ID :  KEY-16165",
         "11.589674",
         "104.925654",
         "114000.0"
        ],
        [
         "1",
         "248374.0",
         "Land for Sale",
         "$1,800.0/m²",
         null,
         null,
         "104635.0",
         "Phnom Penh",
         "Russey Keo",
         "Tuol Sangkae 1",
         "273 273",
         "Land/Development",
         "False",
         "residential",
         "Land Located at Tuol Kok Village, Sangkat Tuol Sangkae 1, Khan Russey Keo, Phnom Penh",
         "11.5878099",
         "104.9022337",
         "188343000.0"
        ],
        [
         "2",
         "248290.0",
         "<b>Development Land For Sales (National Road 3)</b>",
         "$700.0/m²",
         null,
         null,
         "84000.0",
         "Phnom Penh",
         "Por Sen Chey",
         "Kantaok",
         "N3 N3",
         "Land/Development",
         "False",
         "residential",
         "Land for Sale or Rent on Road N3 Main Road - Hard Title - Land 8.40hectares - Price for Sale 700$/Sqm - Price for Rent 1.5$/Sqm - Kind of land : Development land - Commercial land",
         "11.537783",
         "104.920232",
         "58800000.0"
        ],
        [
         "3",
         "248489.0",
         "?????????????????? ??? Urban Village Phase 2 ???????",
         "$90,000",
         "1.0",
         "1.0",
         "76000.0",
         "Phnom Penh",
         "Meanchey",
         "Chak Angrae Leu",
         "   ",
         "Condo",
         "False",
         "residential",
         "Condo for sale in Chak Angrae Leu, Meanchey, Phnom Penh at $90,000. Details This Condo has 1 bedroom and 1 bathroom plus parking for 0 cars. The property includes a generous land holding of 76000.00 m2, with an internal floor area of 56.00. Location Enjoy living in a convenient location with this Condo for sale. If you would like to know more about this property, send an email to the agent by clicking \"Enquire\" or \"Email Agent\" buttons, or click the phone icon to reveal the agent's number to make a call. Alternatively, you can save this property and revisit it later.",
         "11.537783",
         "104.920232",
         "90000.0"
        ],
        [
         "4",
         "235239.0",
         "Land in front of Eden Garden inside Phnom Penh City Center for Sale  ( ??????)",
         "$276,264,450",
         null,
         null,
         "55811.0",
         "Phnom Penh",
         "Daun Penh",
         "Srah Chak",
         "  ",
         "Land/Development",
         "False",
         "residential",
         "Land in front of Eden Garden for Sales Size: 55811 m2 Width: 166m Depth: 335 m Price: 4xxx/m2 Ownership Type: Hard Title Location: land located in front of Eden Garden and View Park inside the Phnom Penh City Center. This land is suitable for constructing an apartment complex, hotel, shopping mall, skyscraper, office building, and other commercial endeavors. Map: https://goo.gl/maps/oDS7UbiFvqonVEsn9 #PPCC #phnompenhcitycenter #land #sale #bussinesdistrict #Edengarden #??? #?????? PCC #phnompenhpenhcitycenter #land #sale #bussinesdistrict #Edengarden #??? #??????? #??????????? #?????? #????????? #?????? #Boeungkak #land",
         "11.57920232",
         "104.9086133",
         "276264450.0"
        ],
        [
         "5",
         "223801.0",
         "Land for sale urgent (Road #3)",
         "$22,550,000",
         null,
         null,
         "41000.0",
         "Phnom Penh",
         "Por Sen Chey",
         "Kantaok",
         "of Ang troket Village",
         "Land/Development",
         "False",
         "residential",
         "Land for Urgent Sale?? (Road # 3) 1. Sales / SQM Feature: 41000? Land / Lands: Garment is near the 3rd Arrong Road ? fland on the Main Road # 3 is located Only 1.8km from Choam Choam Chao. ?this property and Ground Has Surrounded A Lot of Building for Example Commercial condominiums, Hotel, Gasoline Station etc. 5. LOCATION Angk Village, Por Senat Village, Por Senat Village Kantaok, Kamboint, Phnom Penh (Road # 3)",
         "11.44254322",
         "104.8982163",
         "22550000.0"
        ],
        [
         "6",
         "224905.0",
         "Land for Sale on the Road No. 3",
         "$16,400,000",
         null,
         null,
         "41000.0",
         "Phnom Penh",
         "Por Sen Chey",
         "Kamboul",
         "National Raod No. 3 3",
         "Land/Development",
         "False",
         "residential",
         "Vacant Land for Sale ??Location: On the National road No. 3-Phum Anlong Takeat, Sangkat Kantaok, Khan Kamboul, Phnom Penh ??Selling Price: $400/sqm (Negotiable) ??Total Land Size: 41,000 square meters ??Hard title ownership",
         "11.5445",
         "104.913586",
         "16400000.0"
        ],
        [
         "7",
         "223921.0",
         "Land for sale urgent (Road #3)",
         "$22,550,000",
         null,
         null,
         "41000.0",
         "Phnom Penh",
         "Por Sen Chey",
         "Kantaok",
         "National Road No.3",
         "Land/Development",
         "False",
         "residential",
         "Land for Urgent Sale?? (Road # 3) 1. Sales / SQM Feature: 41000? Land / Land Feature on National Roads Gasten and near the 3rd Arrong Road ? landed on the Main Road # 3 is located Only 2.5km from the Sky Bridge Choam Choam Choam Chao. ?this property and Ground Has Surrounded A Lot of Building for Example Commercial condominiums, Hotel, Gasoline Station etc. 5. LOCATION Angkva Village, Por Sen Chang, Khambang, Por Sen Villak Vake Kantaok, Kamboint Kamboint Kantaoul, Phnom Penh, Phnom Penh, Phnom Penh https://maps.goo.Gool.gl/nvmfwvb6JqCHTH3JQQS36 Land for urgent Sale?? (Road # 3)",
         "11.43012221",
         "104.870161",
         "22550000.0"
        ],
        [
         "8",
         "247361.0",
         "Factory and Land  for Sale ",
         "$19,000,000",
         null,
         null,
         "40800.0",
         "Phnom Penh",
         "Prek Pnov",
         "Kouk Roka",
         "  ",
         "Factory",
         "False",
         "commercial",
         "This expansive factory and land property , located in a thriving industrial area, is now available for sale at $19M . With a generous land size of 170m x 240m , the property is perfect for large-scale manufacturing or industrial use. The site includes: A spacious main factory building measuring 90m x 180m An EPS factory of 30m x 70m An office building spanning 20m x 35m across three floors Dormitory units (3 units, each 6m x 8m) The property also features a robust 380Amh electricity supply , ensuring smooth industrial operations. Conveniently located just 5 minutes from the PPSHV expressway , it is close to schools, supermarkets, restaurants, and a well-developed manufacturing area. This property offers both strategic location and functional infrastructure for businesses. Key Features: - Land size: 170m x 240m - Main factory: 90m x 180m - EPS factory: 30m x 70m - Office building: 20m x 35m (3 floors) - Dormitories: 3 units, 6m x 8m each - Electricity: 380Amh - Hard title - Prime location near expressway and commercial amenities Contact us now for more details or to arrange a viewing!",
         "11.537783",
         "104.920232",
         "19000000.0"
        ],
        [
         "9",
         "238522.0",
         "Luxury Loft Condo For Sale (Fully furnished)",
         "$98,000",
         "1.0",
         "1.0",
         "40000.0",
         "Phnom Penh",
         "Chroy Changvar",
         "Chroy Changvar",
         " ",
         "Condo",
         "False",
         "residential",
         "?? Concono for sale | CONDO FOR SALE ?? Sales Price | Sale Price: 80,000 $ ?? Chroy Changvar | Chroy Chong Var ?? Immediately login | Ready to Move in ?? Details | Unit Details: - Room size | Room Size: 58SQM - Bedroom | BedRoms: 1 (Loft) - Bathroom | Bathrooms: 1 - Living Room | Living Room: 1 - Kitchen | Kitchen: 1 ? Include | Included - Complete Furniture | Fully Furnished - Natural Garden 21% | 21% Green Garden - Swimming Pool | Swimming Pool - Gym Club | Gym - Security 24/7 | Security 24/7 - Liversist landscape | Sighseeing River View",
         "11.62202982",
         "104.9270802",
         "98000.0"
        ],
        [
         "10",
         "222501.0",
         "Land for sale",
         "$168",
         null,
         null,
         "32428.0",
         "Phnom Penh",
         "Por Sen Chey",
         "Kakap",
         "204 204",
         "Land/Development",
         "False",
         "commercial",
         "Land for sale size 32428m² Price $ 900 / 1m² Hard title deed ownership Land income $ 18000_ $ 20000 / month The land is in a good location, the land is right next to the road, it is good for business and construction of condominiums and it is a big area with high odds. Contact Information",
         "11.5476122",
         "104.8602313",
         "168.0"
        ],
        [
         "11",
         "235646.0",
         "Land For Sale ",
         "$3,297,720",
         null,
         null,
         "27481.0",
         "Phnom Penh",
         "Dangkao",
         "Krang Pongro",
         " ",
         "Land/Development",
         "False",
         "residential",
         "- Address: Commune Krang Pongro, District  Dangkao, Phnom Penh - Land area : 27481m2 - Price : $120/sq.m - ID : KEY-16192",
         "11.500658",
         "104.856173",
         "3297720.0"
        ],
        [
         "12",
         "235026.0",
         "Corner Investment Land for Sale at Prey Sar Area, Khan Dangkor, Phnom Penh City ",
         "$195/m²",
         null,
         null,
         "26000.0",
         "Phnom Penh",
         "Dangkao",
         "Prey Sa",
         " ",
         "Land",
         "False",
         "commercial",
         "This corner investment land for sale at Prey Sar area and next to Borey Santepheap 2, Sangkat Prey Sar, Khan Dangkor, Phnom Penh City.  Land size: 2.6 Ha  On frontage road: 102 m  Price: $195/Sq.m It's a very good for real estate investment or develop into build commpund villa, twin villa, flat houses, international school, hospital, warehouse, factory and for all kinds of business activities. For more information, please contact us now to visiting!",
         "11.500658",
         "104.856173",
         "5070000.0"
        ],
        [
         "13",
         "218563.0",
         "Special price promotion",
         "$65,000",
         "1.0",
         "1.0",
         "25000.0",
         "Phnom Penh",
         "Chroy Changvar",
         "Chroy Changvar",
         " ",
         "Condo",
         "False",
         "residential",
         "@Project: Morgan Enmaison ?? Special promotion in September 2022 ?????? Room type: Studio - Floor: 0206 - Room size: 47.29 / sqm - Full price $ 118,093 Last special price: $ 65,000 - Payment terms up to 36 months without interest ??? Get 1 iPhone 14 Pro Max 256G 1 1 refrigerator, 1 TV Equipment, 1 air conditioner, 1 washing machine ? Location: Chroy Changva, along the Mekong River ?? Contact details will be available now Special promotion with this great gift",
         "11.59258451",
         "104.9367586",
         "65000.0"
        ],
        [
         "14",
         "157841.0",
         "Best Price Condominium for Invest in Chroy Changva Phnom Penh",
         "$60,000",
         "1.0",
         "1.0",
         "25000.0",
         "Phnom Penh",
         "Chroy Changvar",
         "Chroy Changvar",
         "    ",
         "Condo",
         "False",
         "residential",
         "Morgan Enmaison, the only waterfront Bay Area in Phnom Penh, Cambodia. The largest waterfront property development with riverside mansion life. We have 1 bedroom, 2 bedrooms, 3 bedrooms and penthouses with a private swimming pool./T'S HOME Real Estate Phnom penh Price 60,000$ up Discount 15% Booking only 2000$ Monthly payment up from 34 months to 60months term.",
         "11.58",
         "104.93",
         "60000.0"
        ],
        [
         "15",
         "218562.0",
         "Special price promotion",
         "$66,000",
         "1.0",
         "1.0",
         "25000.0",
         "Phnom Penh",
         "Chroy Changvar",
         "Chroy Changvar",
         " ",
         "Condo",
         "False",
         "residential",
         "@Project: Morgan Enmaison ?? Special promotion in September 2022 ?????? Room type: Studio - Floor: 0205 - Room size: 47.76 / sqm - Full price $ 119,266 Last special price: $ 66,000 - Payment terms up to 36 months without interest ??? Get 1 iPhone 14 Pro Max 256G 1 1 refrigerator, 1 TV Equipment, 1 air conditioner, 1 washing machine ? Location: Chroy Changva, along the Mekong River ?? Contact details will be available now Special promotion with this great gift",
         "11.59258451",
         "104.9367586",
         "66000.0"
        ],
        [
         "16",
         "248375.0",
         "Land For Sale",
         "$1,200.0/m²",
         null,
         null,
         "22168.0",
         "Phnom Penh",
         "Sen Sok",
         "Khmuonh",
         "92 92",
         "Land",
         "False",
         "commercial",
         "Land for sale located at at Banla S'et Village, Sangkat Khmuonh, Khan Saensokh, Phnom Penh",
         "11.60078634",
         "104.8784612",
         "26601600.0"
        ],
        [
         "17",
         "237126.0",
         "1 Large Bedroom Unit with POOL VIEW FOR SALE",
         "$119,000",
         "1.0",
         "1.0",
         "20000.0",
         "Phnom Penh",
         "Por Sen Chey",
         "Chaom Chau 1",
         "Duong Ngeap III",
         "Condo",
         "False",
         "residential",
         "Heighten your quality of living in a home that is truly special for family and friends. Axis Residence strategically located just minutes from the Phnom Penh International Airport, Orienda International Hospital and the City Center. With a pool view from the 7th floor, our type A2 unit offers a spacious bedroom, a fully equipped living room, kitchen and bathroom. Become a resident of Axis to access a wide range of amenities such as: -Free parking space -50m Olympic length lap pool -Children playground -Giant Jacuzzi -Well-equipped Gym -Sauna -Tennis & Basketball court -Multi-purpose room -BBQ pits and much more",
         "11.549282",
         "104.8646489",
         "119000.0"
        ],
        [
         "18",
         "237361.0",
         "1 Bedroom with Pool Facing for sale",
         "$100,000",
         "1.0",
         "1.0",
         "20000.0",
         "Phnom Penh",
         "Por Sen Chey",
         "Chaom Chau 1",
         "Doung Ngeap III",
         "Condo",
         "False",
         "residential",
         "Don't waste your time battling peak-hour traffic when you can already be relaxing at your luxuriously appointed home at Axis Residence. At Axis Residence, we got all you want from just minutes drive to the Phnom Penh International Airport, Orienda International Hospital and the City Center. This air-conditioned unit consists of 1 large bed with a TV, 1 bathroom, a fully furnished living room, a kitchen and a spacious balcony with pool view from 3rd floor. Become a resident of Axis to access a wide range of amenities such as: -Free parking space -50m Olympic length lap pool -Children playground -Giant Jacuzzi -Well-equipped Gym -Sauna -Tennis & Basketball court -Multi-purpose room -BBQ pits and much more",
         "11.54903429",
         "104.8649125",
         "100000.0"
        ],
        [
         "19",
         "248484.0",
         "Land for Sale",
         "$5,256,000",
         null,
         null,
         "18777.0",
         "Phnom Penh",
         "Meanchey",
         "Chak Angrae Kraom",
         "Blvd 60m Hun Sen",
         "Land",
         "False",
         "commercial",
         "Land for sale located at Hun Sen blvd (60m), Preaek Ta Long III Village, Sangkat Chak Angrae Kraom , Khan Mean Chey, Phnom Penh. -Price: = $1,350 / sq.m, urgent sale (Negotiable) = $1,500 / sq.m, if buy 2 plots (Negotiable) -Seller: fill the land",
         "11.50144636",
         "104.9259348",
         "5256000.0"
        ],
        [
         "20",
         "247330.0",
         "Corner Commercial Land For Sale on St. Hun Sen Blvd and Opposite AEON MALL-3",
         "$35,670,600",
         null,
         null,
         "18774.0",
         "Phnom Penh",
         "Meanchey",
         "Chak Angrae Kraom",
         " ",
         "Land/Development",
         "False",
         "residential",
         "Corner Commercial Land For Sale on St. Hun Sen Blvd and Opposite AEON MALL-3 Land Size : 18,774 Sqm Price: $1,900/Sqm Negotiable This commercial land is very good for real estate investment, building business center, hotel, condo, showroom, shopping international school, hospital and all business activities",
         "11.51633096",
         "104.954246",
         "35670600.0"
        ],
        [
         "21",
         "245643.0",
         "| Corner Commercial Land For Sale - 60m Street in Front of AEON Mall-3 ",
         "$1,650.0/m²",
         null,
         null,
         "18774.0",
         "Phnom Penh",
         "Dangkao",
         "Cheung Aek",
         " ",
         "Land",
         "False",
         "commercial",
         "This commercial land location is a long 60-meter road (Samdech Hun Sen Blvd), corner of Chhun Kong Blvd, and in front of AEON Mall-3, Phnom Penh.  Size: 18,774 SQM  L-Map  Price: $1,650/SQM negotiable This commercial land is very good for real estate investment, building business center, hotel, condo, showroom, shopping international school, hospital and all business activities.",
         "11.48641675",
         "104.9203548",
         "30977100.0"
        ],
        [
         "22",
         "221629.0",
         "?? Land for sale next to National Road 42 in front of Canadia Development Land and near many Borey projects under construction ??",
         "$2,400,000",
         null,
         null,
         "16000.0",
         "Phnom Penh",
         "Por Sen Chey",
         "Ovlaok",
         "NR.42 National Road N.42",
         "Land/Development",
         "False",
         "residential",
         "?? Land for sale next to National Road 42 in front of Canadia Development Land and near many Borey projects under construction ?? _ Land next to National Road 42 (50m wide ring road) Owners only 1) Total size is about 16000m ² The front plot next to National Road 42 has two lanes (as in the picture). The main entrance is about 76 m long, next to National Road 42. The second lane, more than 14 m long, next to National Road 42. The back plot is 170m long, next to the cart road is 4m. Suitable for development, building houses for sale. Currently, many Boreys are being built near this land_Location: National Road 42, Chey Chumneas Village, Sangkat Ovulok, Khan Kampol, Phnom Penh.",
         "11.58477615",
         "104.75505",
         "2400000.0"
        ],
        [
         "23",
         "224835.0",
         "Good Land for Sale in Kambol Commune, Kambol District",
         "$1,462,050",
         null,
         null,
         "15390.0",
         "Phnom Penh",
         "Por Sen Chey",
         "Kamboul",
         "       ",
         "Land",
         "False",
         "commercial",
         "* Land for sale: - Selling price: $1,462,050 - Land size: 15,390 sqm - Document: Hard Title",
         "11.5445",
         "104.913586",
         "1462050.0"
        ],
        [
         "24",
         "224830.0",
         "Good Land for Sale in Ovloak Commune, Kambol District",
         "$428,100",
         null,
         null,
         "14270.0",
         "Phnom Penh",
         "Por Sen Chey",
         "Ovlaok",
         "    ",
         "Land",
         "False",
         "commercial",
         null,
         "11.5445",
         "104.913586",
         "428100.0"
        ],
        [
         "25",
         "227132.0",
         "Vacant Land for Sale",
         "$1,320,000",
         null,
         null,
         "12000.0",
         "Phnom Penh",
         "Por Sen Chey",
         "Kamboul",
         " ",
         "Land/Development",
         "False",
         "residential",
         "- Address: Commune Kambol, District Kambol , Phnom Penh - Land area :  100m x 120m - Price : $110",
         "11.5445",
         "104.913586",
         "1320000.0"
        ],
        [
         "26",
         "247431.0",
         "Land for Sale ",
         "$20,000,000",
         null,
         null,
         "11817.0",
         "Phnom Penh",
         "Russey Keo",
         "Tuol Sangkae 1",
         "  ",
         "Land/Development",
         "False",
         "residential",
         "This land for sale offers a total area of 11,817sqm, perfect for large-scale development or industrial use. The main factory building measures 60m x 127m , with an additional 20m x 40m building on the property, providing ample space for production or storage. The land is facing east, allowing for good natural light and ventilation. It comes with a hard title for easy ownership transfer. The current owner will also handle the transfer fee, making the process smooth and straightforward. This property is ideal for businesses looking to expand or develop their own factory space. Key Features: - Land size: 11,817sqm - Main factory building: 60m x 127m - Additional building: 20m x 40m - Facing east for natural light - Hard title for easy ownership - wner handles transfer fee",
         "11.537783",
         "104.920232",
         "20000000.0"
        ],
        [
         "27",
         "227764.0",
         "Land For Sale Facing Riverside ",
         "$2,800,000",
         null,
         null,
         "10826.0",
         "Phnom Penh",
         "Chroy Changvar",
         "Koh Dach",
         "  ",
         "Land/Development",
         "False",
         "residential",
         "Land For Sale Facing Riverside - Selling Price: $2,800,000 - Property ID: IL-L-098 - Land Size: 10,826 sqm - The best option for resort ??Location: Koh Dach (Riverside)",
         "11.59354169",
         "104.9299455",
         "2800000.0"
        ],
        [
         "28",
         "226992.0",
         "1 Hectares Land for Sale  Next to Ly Yongphat National Road 6A",
         "$3,000,000",
         null,
         null,
         "10774.0",
         "Phnom Penh",
         "Chroy Changvar",
         "Preaek Lieb",
         "  ",
         "Land/Development",
         "False",
         "residential",
         "This potential land is located between the middle of the Mekong and Tonle Sap rivers and next to the Ly Yongphat development zone, National Road 6A. It has a total land area of 10774 square meters with a frontage length of 55 meters. These factors make this subject land suitable for a housing development project, commercial building, and capital gain.",
         "11.67816267",
         "104.90478",
         "3000000.0"
        ],
        [
         "29",
         "244640.0",
         "Vacant Land for Sale I Sen Sok ",
         "$325.0/m²",
         null,
         null,
         "10100.0",
         "Phnom Penh",
         "Sen Sok",
         "Kouk Khleang",
         "   ",
         "Land/Development",
         "False",
         "residential",
         "Discover a prime opportunity with this vacant land for sale in Sen Sok district . Spanning 10,100 sqm , this land comes with a hard title and faces east , offering great potential for either living or investment. The land is easily accessible via a good road and is situated close to numerous amenities. You'll find AEON Mall Sen Sok and Chip Mong Mall Sen Sok nearby, along with popular restaurants, coffee shops, and international schools. Local businesses, markets, and boreys are also just a short distance away. This location offers the perfect blend of convenience and potential for development. Whether you're looking to build your dream home or invest in a growing area, this property is a fantastic choice. Key Features:  Vacant land for sale  10,100 sqm  Hard title  Face to the east  Access on good road  Ideal for living or investment  Close to malls, restaurants, schools, and more",
         "11.578108",
         "104.87022",
         "3282500.0"
        ],
        [
         "30",
         "246441.0",
         "Commercial Land For Urgent Sale on St. Samdach HUN SEN Blvd (St.60m), Phnom Penh",
         "$1,850.0/m²",
         null,
         null,
         "10057.0",
         "Phnom Penh",
         "Meanchey",
         "Chak Angrae Leu",
         " ",
         "Land",
         "False",
         "commercial",
         "Land for sale at 60m Road developing area and before arrive Third AEON Mall, Phnom Penh City. ? Land size: 89m x 113m ? Can split 35m or 50m head ? Price: $1,850/Sq.m (negotiable) Good location in commercial area and perfect for building showroom, super market, shop-houses, villas, condo, apartment, hotel, hospital, international school. warehouses, and all kinds of businesses.",
         "11.51810089",
         "104.9275476",
         "18605450.0"
        ],
        [
         "31",
         "163525.0",
         "Land for sale at Khan preak prov Along street 20 meter",
         "$40,500,000",
         null,
         null,
         "10000.0",
         "Phnom Penh",
         "Prek Pnov",
         "Preaek Pnov",
         "  ",
         "Land/Development",
         "False",
         "residential",
         "Location : Khan preak prov Sale Price: $4,050/sqm (Negotiable) including hard title transferring Along street 20 meter Size:100m x 100m (1 hectares) Good for investment",
         "11.624955",
         "104.81784",
         "40500000.0"
        ],
        [
         "32",
         "241439.0",
         "Land for sale 2,000,000$ (Can negotiation)",
         "$2,000,000",
         null,
         null,
         "10000.0",
         "Phnom Penh",
         "Chroy Changvar",
         "Bak Kaeng",
         "  ",
         "Land/Development",
         "False",
         "residential",
         "Land for sale Property code: ALD24-002 Sell Price For sale price: 2,000,000$ (Can negotiation) Land size Land area: 10,000m2 Location Address: Chroy Changvar district, Phnom Penh",
         "11.589674",
         "104.925654",
         "2000000.0"
        ],
        [
         "33",
         "223096.0",
         "Restaurant for sale",
         "$35,000",
         null,
         "6.0",
         "10000.0",
         "Phnom Penh",
         "Chroy Changvar",
         "Chroy Changvar",
         "        ",
         "Food/Hospitality",
         "False",
         "commercial",
         "- Construction: 50m * 20m, steel roof, concrete bottom, stone pillars, height 5m - 6 bathrooms for boys and girls, including bathroom - VIP room with 3 people, 20 people per room - Shower room, 1 air conditioner. 50 people in the front - Office room, equipment, table, chair, air conditioner - Staff room, 4 rooms - Front area has 16 tables, seating 100 people Free delivery of 3 phases - 6 air conditioners - Kitchen equipment: Vegetable cabinet, three doors, refrigerator, stainless steel stove, FUll set - Plates, spoons, glass, Full set 300 set + contract - 3 year lease - 3 months deposit - Land rent $ 1377 per month - Contract can be extended for up to 10 years indefinitely",
         "11.589674",
         "104.925654",
         "35000.0"
        ],
        [
         "34",
         "223339.0",
         "House for sale in Borey Vimean Phnom Penh5",
         "$123,500",
         "4.0",
         "5.0",
         "9366.0",
         "Phnom Penh",
         "Russey Keo",
         "Tuol Sangkae 2",
         "   ",
         "House",
         "False",
         "residential",
         "Flat E0, E1 (House in front of Suon Thom) in Borey Vimean Phnom Penh Project 5 Khan Russey Keo is urgently needed for sale * Price only: $ 123,500 (Negotiable) * Price includes transfer of title deed * Size Land size: 4.2mx 22.3m * House size: 4.2mx 16m * Remaining land in front 4.5m and back land 1.8m * 4 bedrooms and 5 bathrooms Thom Borey ?? Civic living, safe, comfortable and full of big projects, markets and condos ?? Can pay by bank installment for 20 years, but need to pay 30% of the house price in advance.",
         "11.59015",
         "104.909641",
         "123500.0"
        ],
        [
         "35",
         "247338.0",
         "Land for Sale in Pong Tuek, Khan Dangkao",
         "$160.0/m²",
         null,
         null,
         "9330.0",
         "Phnom Penh",
         "Dangkao",
         "Pong Tuek",
         "   ",
         "Land/Development",
         "False",
         "residential",
         "This property offers a large land size of 9,330m² , ideal for investment or development projects. The land comes with a hard title (L-map) , ensuring secure ownership and hassle-free transactions. Located in a convenient area along the strategic Ring Road 3, this property provides excellent accessibility. It is positioned toward the Chamkar Doung traffic light and Wat Kraing Sleng, connecting to National Road 3. With its prime location and substantial size, this land is suitable for various development opportunities such as residential projects, commercial spaces, or industrial setups. Dont miss this chance to invest in a high-potential area. Contact us today for more details or to schedule a site visit. Key Features:  Total land size: 9,330m²  Hard title (L-map)  Located along Ring Road 3  Near Chamkar Doung traffic light and Wat Kraing Sleng (National Road 3)  Suitable for investment and development projects",
         "11.46218433",
         "104.8357977",
         "1492800.0"
        ],
        [
         "36",
         "155964.0",
         "Best land for sale near Aeon 3",
         "$12,240,000",
         null,
         null,
         "8160.0",
         "Phnom Penh",
         "Chbar Ampov",
         "Chbar Ampov I",
         "  ",
         "Land/Development",
         "False",
         "residential",
         "Location good for invest or new project or Supermarket at Street 60m",
         "11.47168139",
         "104.9178604",
         "12240000.0"
        ],
        [
         "37",
         "201841.0",
         "Land for sale in Russey Keo",
         "$14,996,100",
         null,
         null,
         "8106.0",
         "Phnom Penh",
         "Russey Keo",
         "Tuol Sangke",
         " 105 ",
         "Factory",
         "False",
         "commercial",
         "Land and Factory for sale location at Phum Toul Sangke, Sangkat Toul Sangke, Khan Russey Keo. Phnom Penh. close to Toul Sangke Market, currently surrounded by Market, shop house, supermarket, bus station, Factory, Warehouse, Bank, office building, commercial building or other business activities. current market price from 1987$ to 2050$ per square meter, selling under market price only 1850$/ square meter can negotiate a bit more. Land Front width: 120m Land Behind width: 100m Land Length: 75m Title Deed: Hard",
         "11.59",
         "104.9",
         "14996100.0"
        ],
        [
         "38",
         "243954.0",
         "Land for Sale I Dangkao - Great Investment Opportunity!",
         "$100.0/m²",
         null,
         null,
         "7960.0",
         "Phnom Penh",
         "Dangkao",
         "Tien",
         "     ",
         "Land/Development",
         "False",
         "residential",
         "Discover this prime land parcel spanning 7,960sqm with a hard Title , ideal for savvy investors. Situated in a strategic location, just minutes away from major attractions like Amazon Resort, Hun Sen Blvd, Ring Road 3, AEON Mall Meanchey, ISPP International School, and Techo International Airport. This area is bustling with commercial activities, coffee shops, supermarkets, and restaurants, ensuring convenience and growth potential. Don't miss out on this lucrative opportunity! Call now to secure your investment in one of Phnom Penh's most promising locations. Key Features:  Land area: 7,960sqm  Hard Title ownership  Strategic location near major attractions and amenities",
         "11.43934032",
         "104.849064",
         "796000.0"
        ],
        [
         "39",
         "248709.0",
         "Land For Sale Next to 60m Road developing area and before arrive Third AEON Mall, Phnom Penh City.",
         "$14,476,000",
         null,
         null,
         "7825.0",
         "Phnom Penh",
         "Meanchey",
         "Chak Angrae Leu",
         " ",
         "Land/Development",
         "False",
         "residential",
         "Land for sale: Hun Sen ? Hun Sen ? Land Size: 80m x 98m = 78m2 The Road Road :, Urgent ? ? ? 98m = 78m2 [Canplit] ? ? & M2",
         "11.52402148",
         "104.9285052",
         "14476000.0"
        ],
        [
         "40",
         "237930.0",
         "Land for sale in Boeung thom",
         "$944,580",
         "0.0",
         null,
         "7266.0",
         "Phnom Penh",
         "Por Sen Chey",
         "Boeung Thum",
         " ",
         "Land/Development",
         "False",
         "residential",
         "7266m2 Price:130$/m2 Negotiable Land facing east wards Width:67m Length:115m https://maps.app.goo.gl/gGAJeCzUpxEPrjQC7",
         "11.46605602",
         "104.7488407",
         "944580.0"
        ],
        [
         "41",
         "224859.0",
         "Vacant Land for Sale",
         "$2,559,960",
         null,
         null,
         "7111.0",
         "Phnom Penh",
         "Chbar Ampov",
         "Preaek Thmei",
         " ",
         "Land",
         "False",
         "commercial",
         "- Address: Commune Preaek Thmei , District Chbar Ampov , Phnom Penh - Land area :  61m x 115m - Price : 360$/sqm",
         "11.52928",
         "104.941454",
         "2559960.0"
        ],
        [
         "42",
         "249665.0",
         "Warehouse for rent and sale",
         "$4,230,000",
         null,
         null,
         "6792.0",
         "Phnom Penh",
         "Meanchey",
         "Stueng Mean chey",
         "  ",
         "Warehouse",
         "False",
         "commercial",
         "Warehouse & Rent - Location: Sangkat Stung Meanchey - Warehouse Sales: Rental: Rental: ?? Contact: ?? Contact: ?? Contact: ?? Contact: Contact: +855125252515256 ... Standard Warehouse & Rent: Stung Meanchey Distribute: 7,692 M² Rental PRice: $2/m² - Sale Price: $550/m² - Additional Info: The warehouse is in a developing area with easy access to main roads, making it ideal for business operations or investment.",
         "11.530254",
         "104.8976",
         "4230000.0"
        ],
        [
         "43",
         "240895.0",
         "??-??????7???? ?????????? | Land in Khan 7Makara for Urgent Sale | ?? - Khan 7 Makara ????",
         "$20,521,600",
         null,
         null,
         "6413.0",
         "Phnom Penh",
         "7 Makara",
         "Mittapheap",
         "  ",
         "Land",
         "False",
         "commercial",
         "????????????????????????????????????????????????????????????????????? ????????????????????? ???????????????????????????????????????????? ???????????? This land in a key commercial and residential district of Phnom Penh City. Located in 7 Makara District the main district linking Russian Blvd, Kampuchea Krom, and Monivong Blvd. Located in Makara District 7, the main areas connecting Russia Avenue, Cambodia Krom and Moniwan Avenue. ? ?????? | Land size | Land area: 6,413 Sqm/square meter ? ???????? | Sale Price | Sale Price | Sale Price: $20,521,600 = $3,200/sqm/square meter ???????????????????????? Olympia (?????????????????) GT Tower (???????????????) ???????????? Delano (???????????????) ? In close proximity to Olympia City development (residential project), GT Tower (office building) and Delano Center (office building). is close to Olympia City Development (residential project), GT Building (office building) and Delano Center (office building). ?????????????????? | Contact Us Now! | Contact Us Now! ???????????????????? | For Details | Details:",
         "11.56585712",
         "104.9128345",
         "20521600.0"
        ],
        [
         "44",
         "243250.0",
         "Live the Life of Luxury in This Spacious Private Villa for Sale/Rent I Khan Chbar Ampov",
         "$10,000,000",
         "20.0",
         "25.0",
         "6300.0",
         "Phnom Penh",
         "Chbar Ampov",
         "Preaek Pra",
         "     ",
         "Villa",
         "False",
         "residential",
         "This stunning private modern villa in Khan Chbar Ampov is perfect for those seeking a grand lifestyle.  Imagine having plenty of space for your family and guests, with room to relax, entertain, and create lasting memories. The property features a massive land size of 6,300sqm and an expansive house size of 5,400sqm.  Spread over three floors, there are 20 bedrooms, 25 bathrooms, 4 living rooms, and 3 kitchens. Ample parking is available for your convenience. Two swimming pools, a movie room, a KTV room, and a sauna room offer endless entertainment options, while a hard title deed and free transfer fee ensure peace of mind. The east facing villa is filled with natural light throughout the day.  Location is ideal ! Situated opposite Borey Sambath Mean Heng 3 Project, the villa is also close to the Passport office, Chbar Ampov market, and Kbal Thnorl. Don't miss this chance to own a piece of paradise! Contact us today to schedule a viewing. Key features:  Private modern villa  Land size: 6,300sqm  House size: 5,400sqm  3 Floors (E0, E1, E2)  Hard title deed  Free transfer fee  East facing  Furniture on negotiation  20 Bedrooms  25 Bathrooms  4 Living rooms  3 Kitchens  2 Swimming pools  1 Movie room  1 KTV room  1 Sauna room  Big parking  Convenient location",
         "11.50338427",
         "104.9650477",
         "10000000.0"
        ],
        [
         "45",
         "245978.0",
         "Prime Corner Land for Sale in Khan Dangkao",
         "$320.0/m²",
         null,
         null,
         "6255.0",
         "Phnom Penh",
         "Dangkao",
         "Tien",
         "  ",
         "Land/Development",
         "False",
         "residential",
         "A well-positioned corner land spanning 6255sqm is now available for sale in Khan Dangkao. This property comes with a hard title , offering a free transfer fee, making it a straightforward investment opportunity for development. Located along a main road, this land is in a convenient location with high accessibility, ideal for potential projects. It's close to Sangkat Roluos hall and surrounded by several ongoing developments, enhancing the areas growth potential. Investors and developers looking for a promising site in Phnom Penh will find this corner land an appealing option. Dont miss out on this opportunityget in touch to secure it today! Key Features:  Corner land for sale in Khan Dangkao  Land size: 6255sqm  Hard Title (Free transfer fee)  Convenient location  On main road  Nearby Sangkat Roluos hall and other projects",
         "11.504923",
         "104.89187",
         "2001600.0"
        ],
        [
         "46",
         "211836.0",
         "land for Sale at the Best Area around 5minustes from Svay Chrup Ferry Port",
         "$3,410,000",
         null,
         null,
         "6200.0",
         "Phnom Penh",
         "Chroy Changvar",
         "Chroy Changvar",
         " ",
         "Land/Development",
         "False",
         "residential",
         "Land for sale !!! At developing the Royal Government plans to build the Khmer-Korean friendly bridge in 2023. Land for Sale Arevoment AREA The Construction of the Cambodia-Korea Friends Bridge BRUDSED IN SVEDULED AND PRICE: 550 $ / PRICE) - Hard Layout / Hard Title - Land Location / Location: Prek Lvea Village, Prek Lvince, Kandal Province, Kandal Province.",
         "11.59345306",
         "104.9543759",
         "3410000.0"
        ],
        [
         "47",
         "247444.0",
         "???????????? ? ??????????????????????? ???????????? ????????? ??????????????",
         "$721,920",
         null,
         null,
         "6016.0",
         "Phnom Penh",
         "Dangkao",
         "Tien",
         null,
         "Land/Development",
         "False",
         "residential",
         "Land For Sale: Town of Krong Road, Sangkat Viches, Dangkor Candy, Phnom Penh ? Sales: 6.016M2 (2 Hard Law Care) ? Sales:",
         "11.62994007",
         "104.887298",
         "721920.0"
        ],
        [
         "48",
         "213024.0",
         "Luxury Condo - Modern Civilization in Phnom Penh",
         "$444,000",
         "3.0",
         "4.0",
         "5825.0",
         "Phnom Penh",
         "Chamkarmon",
         "Tonle Bassac",
         " ",
         "Condo",
         "False",
         "residential",
         "Luxury-Modern Civil Condo in Phnom Penh, Your Excellencies, Lok Chumteavs, Lok Oknha, Ladies and Gentlemen, Are you looking for a modern, clean, good quality, spacious condo? I would like to introduce to you, Excellencies, Lok Chumteavs, Lok Oknha, Ladies and Gentlemen at the condominium project that: 1- Located in the best location on Norodom Blvd. (41) Central of Phnom Penh 4-Green landscape construction, aerial garden, superior quality of civilized living ?? ?? Spacious room-Bedroom 1: Size 78?-Bed room 2: Size 129?-Bed room 3: Size 196 ? - Bedroom 4: Size 262?",
         "11.55",
         "104.93",
         "444000.0"
        ],
        [
         "49",
         "213022.0",
         "Luxury Condo - Modern Civilization in Phnom Penh",
         "$249,600",
         "2.0",
         "2.0",
         "5825.0",
         "Phnom Penh",
         "Chamkarmon",
         "Tonle Bassac",
         " ",
         "Condo",
         "False",
         "residential",
         "Your Excellencies, Lok Chumteavs, Lok Oknha, Ladies and Gentlemen, are you looking for a modern, clean, good quality, spacious condo? I would like to introduce to you, Excellencies, Lok Chumteavs, Lok Oknha, Ladies and Gentlemen at the condominium project that: 1- Located in the best location on Norodom Blvd. (41) Central of Phnom Penh 4-Green landscape construction, aerial garden, superior quality of civilized living ?? ?? Spacious room-Bedroom 1: Size 78?-Bed room 2: Size 129?-Bed room 3: Size 196 ? - Bedroom 4: Size 262?",
         "11.55",
         "104.93",
         "249600.0"
        ]
       ],
       "shape": {
        "columns": 17,
        "rows": 3756
       }
      },
      "text/html": [
       "<div>\n",
       "<style scoped>\n",
       "    .dataframe tbody tr th:only-of-type {\n",
       "        vertical-align: middle;\n",
       "    }\n",
       "\n",
       "    .dataframe tbody tr th {\n",
       "        vertical-align: top;\n",
       "    }\n",
       "\n",
       "    .dataframe thead th {\n",
       "        text-align: right;\n",
       "    }\n",
       "</style>\n",
       "<table border=\"1\" class=\"dataframe\">\n",
       "  <thead>\n",
       "    <tr style=\"text-align: right;\">\n",
       "      <th></th>\n",
       "      <th>id</th>\n",
       "      <th>headline</th>\n",
       "      <th>price_display</th>\n",
       "      <th>bedrooms</th>\n",
       "      <th>bathrooms</th>\n",
       "      <th>land_area</th>\n",
       "      <th>address_subdivision</th>\n",
       "      <th>address_locality</th>\n",
       "      <th>address_line_2</th>\n",
       "      <th>address_line_1</th>\n",
       "      <th>category_name</th>\n",
       "      <th>is_parent</th>\n",
       "      <th>type</th>\n",
       "      <th>information</th>\n",
       "      <th>latitude</th>\n",
       "      <th>longitude</th>\n",
       "      <th>price_clean</th>\n",
       "    </tr>\n",
       "  </thead>\n",
       "  <tbody>\n",
       "    <tr>\n",
       "      <th>0</th>\n",
       "      <td>235560.0</td>\n",
       "      <td>Link house for sale</td>\n",
       "      <td>$114,000</td>\n",
       "      <td>4.0</td>\n",
       "      <td>5.0</td>\n",
       "      <td>71.40</td>\n",
       "      <td>Phnom Penh</td>\n",
       "      <td>Chroy Changvar</td>\n",
       "      <td>Preaek Lieb</td>\n",
       "      <td></td>\n",
       "      <td>Unit</td>\n",
       "      <td>False</td>\n",
       "      <td>residential</td>\n",
       "      <td>- Address: Commune Preaek Lieb, District Chroy...</td>\n",
       "      <td>11.589674</td>\n",
       "      <td>104.925654</td>\n",
       "      <td>114000.0</td>\n",
       "    </tr>\n",
       "    <tr>\n",
       "      <th>1</th>\n",
       "      <td>248374.0</td>\n",
       "      <td>Land for Sale</td>\n",
       "      <td>$1,800.0/m²</td>\n",
       "      <td>NaN</td>\n",
       "      <td>NaN</td>\n",
       "      <td>104635.00</td>\n",
       "      <td>Phnom Penh</td>\n",
       "      <td>Russey Keo</td>\n",
       "      <td>Tuol Sangkae 1</td>\n",
       "      <td>273 273</td>\n",
       "      <td>Land/Development</td>\n",
       "      <td>False</td>\n",
       "      <td>residential</td>\n",
       "      <td>Land Located at Tuol Kok Village, Sangkat Tuol...</td>\n",
       "      <td>11.587810</td>\n",
       "      <td>104.902234</td>\n",
       "      <td>188343000.0</td>\n",
       "    </tr>\n",
       "    <tr>\n",
       "      <th>2</th>\n",
       "      <td>248290.0</td>\n",
       "      <td>&lt;b&gt;Development Land For Sales (National Road 3...</td>\n",
       "      <td>$700.0/m²</td>\n",
       "      <td>NaN</td>\n",
       "      <td>NaN</td>\n",
       "      <td>84000.00</td>\n",
       "      <td>Phnom Penh</td>\n",
       "      <td>Por Sen Chey</td>\n",
       "      <td>Kantaok</td>\n",
       "      <td>N3 N3</td>\n",
       "      <td>Land/Development</td>\n",
       "      <td>False</td>\n",
       "      <td>residential</td>\n",
       "      <td>Land for Sale or Rent on Road N3 Main Road - H...</td>\n",
       "      <td>11.537783</td>\n",
       "      <td>104.920232</td>\n",
       "      <td>58800000.0</td>\n",
       "    </tr>\n",
       "    <tr>\n",
       "      <th>3</th>\n",
       "      <td>248489.0</td>\n",
       "      <td>?????????????????? ??? Urban Village Phase 2 ?...</td>\n",
       "      <td>$90,000</td>\n",
       "      <td>1.0</td>\n",
       "      <td>1.0</td>\n",
       "      <td>76000.00</td>\n",
       "      <td>Phnom Penh</td>\n",
       "      <td>Meanchey</td>\n",
       "      <td>Chak Angrae Leu</td>\n",
       "      <td></td>\n",
       "      <td>Condo</td>\n",
       "      <td>False</td>\n",
       "      <td>residential</td>\n",
       "      <td>Condo for sale in Chak Angrae Leu, Meanchey, P...</td>\n",
       "      <td>11.537783</td>\n",
       "      <td>104.920232</td>\n",
       "      <td>90000.0</td>\n",
       "    </tr>\n",
       "    <tr>\n",
       "      <th>4</th>\n",
       "      <td>235239.0</td>\n",
       "      <td>Land in front of Eden Garden inside Phnom Penh...</td>\n",
       "      <td>$276,264,450</td>\n",
       "      <td>NaN</td>\n",
       "      <td>NaN</td>\n",
       "      <td>55811.00</td>\n",
       "      <td>Phnom Penh</td>\n",
       "      <td>Daun Penh</td>\n",
       "      <td>Srah Chak</td>\n",
       "      <td></td>\n",
       "      <td>Land/Development</td>\n",
       "      <td>False</td>\n",
       "      <td>residential</td>\n",
       "      <td>Land in front of Eden Garden for Sales Size: 5...</td>\n",
       "      <td>11.579202</td>\n",
       "      <td>104.908613</td>\n",
       "      <td>276264450.0</td>\n",
       "    </tr>\n",
       "    <tr>\n",
       "      <th>...</th>\n",
       "      <td>...</td>\n",
       "      <td>...</td>\n",
       "      <td>...</td>\n",
       "      <td>...</td>\n",
       "      <td>...</td>\n",
       "      <td>...</td>\n",
       "      <td>...</td>\n",
       "      <td>...</td>\n",
       "      <td>...</td>\n",
       "      <td>...</td>\n",
       "      <td>...</td>\n",
       "      <td>...</td>\n",
       "      <td>...</td>\n",
       "      <td>...</td>\n",
       "      <td>...</td>\n",
       "      <td>...</td>\n",
       "      <td>...</td>\n",
       "    </tr>\n",
       "    <tr>\n",
       "      <th>3751</th>\n",
       "      <td>129973.0</td>\n",
       "      <td>ShopHouse  rent And sale in Chamkarmon, BKK-1</td>\n",
       "      <td>$520,000</td>\n",
       "      <td>NaN</td>\n",
       "      <td>NaN</td>\n",
       "      <td>86.25</td>\n",
       "      <td>Phnom Penh</td>\n",
       "      <td>Chamkarmon</td>\n",
       "      <td>BKK 1</td>\n",
       "      <td></td>\n",
       "      <td>Shophouse</td>\n",
       "      <td>False</td>\n",
       "      <td>commercial</td>\n",
       "      <td>ShopHouse  rent and sale in PHNOM PENH ,Chamka...</td>\n",
       "      <td>11.539474</td>\n",
       "      <td>104.917352</td>\n",
       "      <td>520000.0</td>\n",
       "    </tr>\n",
       "    <tr>\n",
       "      <th>3752</th>\n",
       "      <td>222625.0</td>\n",
       "      <td>urgent land sale</td>\n",
       "      <td>$1,050,168</td>\n",
       "      <td>NaN</td>\n",
       "      <td>NaN</td>\n",
       "      <td>1406.00</td>\n",
       "      <td>Phnom Penh</td>\n",
       "      <td>Dangkao</td>\n",
       "      <td>Dangkao</td>\n",
       "      <td>???????? 20</td>\n",
       "      <td>Land/Development</td>\n",
       "      <td>False</td>\n",
       "      <td>commercial</td>\n",
       "      <td>Land for sale not yet located on Chamkar Dong ...</td>\n",
       "      <td>11.514304</td>\n",
       "      <td>104.889750</td>\n",
       "      <td>1050168.0</td>\n",
       "    </tr>\n",
       "    <tr>\n",
       "      <th>3753</th>\n",
       "      <td>246888.0</td>\n",
       "      <td>??????????? ????????????????? ????????????????...</td>\n",
       "      <td>$787,410</td>\n",
       "      <td>NaN</td>\n",
       "      <td>NaN</td>\n",
       "      <td>2019.00</td>\n",
       "      <td>Phnom Penh</td>\n",
       "      <td>Por Sen Chey</td>\n",
       "      <td>Chaom Chau 2</td>\n",
       "      <td></td>\n",
       "      <td>Warehouse</td>\n",
       "      <td>False</td>\n",
       "      <td>commercial</td>\n",
       "      <td>Warehouse Land Value Under Market Near Passis ...</td>\n",
       "      <td>11.698532</td>\n",
       "      <td>104.979682</td>\n",
       "      <td>787410.0</td>\n",
       "    </tr>\n",
       "    <tr>\n",
       "      <th>3754</th>\n",
       "      <td>252444.0</td>\n",
       "      <td>Commercial Building for rent I Borey Peng Huot...</td>\n",
       "      <td>$1,700,000</td>\n",
       "      <td>NaN</td>\n",
       "      <td>4.0</td>\n",
       "      <td>209.00</td>\n",
       "      <td>Phnom Penh</td>\n",
       "      <td>Chbar Ampov</td>\n",
       "      <td>Nirouth</td>\n",
       "      <td></td>\n",
       "      <td>other</td>\n",
       "      <td>False</td>\n",
       "      <td>commercial</td>\n",
       "      <td>This commercial building is available for sale...</td>\n",
       "      <td>11.522551</td>\n",
       "      <td>104.962470</td>\n",
       "      <td>1700000.0</td>\n",
       "    </tr>\n",
       "    <tr>\n",
       "      <th>3755</th>\n",
       "      <td>252449.0</td>\n",
       "      <td>Building for Rent in BKK1</td>\n",
       "      <td>$14,000,000</td>\n",
       "      <td>NaN</td>\n",
       "      <td>30.0</td>\n",
       "      <td>21.00</td>\n",
       "      <td>Phnom Penh</td>\n",
       "      <td>Chamkarmon</td>\n",
       "      <td>BKK 1</td>\n",
       "      <td></td>\n",
       "      <td>other</td>\n",
       "      <td>False</td>\n",
       "      <td>commercial</td>\n",
       "      <td>This 9-floor building is now available for bot...</td>\n",
       "      <td>11.537783</td>\n",
       "      <td>104.920235</td>\n",
       "      <td>14000000.0</td>\n",
       "    </tr>\n",
       "  </tbody>\n",
       "</table>\n",
       "<p>3756 rows × 17 columns</p>\n",
       "</div>"
      ],
      "text/plain": [
       "            id                                           headline  \\\n",
       "0     235560.0                               Link house for sale    \n",
       "1     248374.0                                      Land for Sale   \n",
       "2     248290.0  <b>Development Land For Sales (National Road 3...   \n",
       "3     248489.0  ?????????????????? ??? Urban Village Phase 2 ?...   \n",
       "4     235239.0  Land in front of Eden Garden inside Phnom Penh...   \n",
       "...        ...                                                ...   \n",
       "3751  129973.0      ShopHouse  rent And sale in Chamkarmon, BKK-1   \n",
       "3752  222625.0                                   urgent land sale   \n",
       "3753  246888.0  ??????????? ????????????????? ????????????????...   \n",
       "3754  252444.0  Commercial Building for rent I Borey Peng Huot...   \n",
       "3755  252449.0                          Building for Rent in BKK1   \n",
       "\n",
       "     price_display  bedrooms  bathrooms  land_area address_subdivision  \\\n",
       "0         $114,000       4.0        5.0      71.40          Phnom Penh   \n",
       "1      $1,800.0/m²       NaN        NaN  104635.00          Phnom Penh   \n",
       "2        $700.0/m²       NaN        NaN   84000.00          Phnom Penh   \n",
       "3          $90,000       1.0        1.0   76000.00          Phnom Penh   \n",
       "4     $276,264,450       NaN        NaN   55811.00          Phnom Penh   \n",
       "...            ...       ...        ...        ...                 ...   \n",
       "3751      $520,000       NaN        NaN      86.25          Phnom Penh   \n",
       "3752    $1,050,168       NaN        NaN    1406.00          Phnom Penh   \n",
       "3753      $787,410       NaN        NaN    2019.00          Phnom Penh   \n",
       "3754    $1,700,000       NaN        4.0     209.00          Phnom Penh   \n",
       "3755   $14,000,000       NaN       30.0      21.00          Phnom Penh   \n",
       "\n",
       "     address_locality   address_line_2 address_line_1     category_name  \\\n",
       "0      Chroy Changvar      Preaek Lieb                             Unit   \n",
       "1          Russey Keo   Tuol Sangkae 1        273 273  Land/Development   \n",
       "2        Por Sen Chey          Kantaok          N3 N3  Land/Development   \n",
       "3            Meanchey  Chak Angrae Leu                            Condo   \n",
       "4           Daun Penh        Srah Chak                 Land/Development   \n",
       "...               ...              ...            ...               ...   \n",
       "3751       Chamkarmon            BKK 1                        Shophouse   \n",
       "3752          Dangkao          Dangkao    ???????? 20  Land/Development   \n",
       "3753     Por Sen Chey     Chaom Chau 2                        Warehouse   \n",
       "3754      Chbar Ampov          Nirouth                            other   \n",
       "3755       Chamkarmon            BKK 1                            other   \n",
       "\n",
       "      is_parent         type  \\\n",
       "0         False  residential   \n",
       "1         False  residential   \n",
       "2         False  residential   \n",
       "3         False  residential   \n",
       "4         False  residential   \n",
       "...         ...          ...   \n",
       "3751      False   commercial   \n",
       "3752      False   commercial   \n",
       "3753      False   commercial   \n",
       "3754      False   commercial   \n",
       "3755      False   commercial   \n",
       "\n",
       "                                            information   latitude  \\\n",
       "0     - Address: Commune Preaek Lieb, District Chroy...  11.589674   \n",
       "1     Land Located at Tuol Kok Village, Sangkat Tuol...  11.587810   \n",
       "2     Land for Sale or Rent on Road N3 Main Road - H...  11.537783   \n",
       "3     Condo for sale in Chak Angrae Leu, Meanchey, P...  11.537783   \n",
       "4     Land in front of Eden Garden for Sales Size: 5...  11.579202   \n",
       "...                                                 ...        ...   \n",
       "3751  ShopHouse  rent and sale in PHNOM PENH ,Chamka...  11.539474   \n",
       "3752  Land for sale not yet located on Chamkar Dong ...  11.514304   \n",
       "3753  Warehouse Land Value Under Market Near Passis ...  11.698532   \n",
       "3754  This commercial building is available for sale...  11.522551   \n",
       "3755  This 9-floor building is now available for bot...  11.537783   \n",
       "\n",
       "       longitude  price_clean  \n",
       "0     104.925654     114000.0  \n",
       "1     104.902234  188343000.0  \n",
       "2     104.920232   58800000.0  \n",
       "3     104.920232      90000.0  \n",
       "4     104.908613  276264450.0  \n",
       "...          ...          ...  \n",
       "3751  104.917352     520000.0  \n",
       "3752  104.889750    1050168.0  \n",
       "3753  104.979682     787410.0  \n",
       "3754  104.962470    1700000.0  \n",
       "3755  104.920235   14000000.0  \n",
       "\n",
       "[3756 rows x 17 columns]"
      ]
     },
     "execution_count": 16,
     "metadata": {},
     "output_type": "execute_result"
    }
   ],
   "source": [
    "df"
   ]
  },
  {
   "cell_type": "code",
   "execution_count": 30,
   "id": "09c4be63",
   "metadata": {},
   "outputs": [
    {
     "data": {
      "application/vnd.microsoft.datawrangler.viewer.v0+json": {
       "columns": [
        {
         "name": "index",
         "rawType": "int64",
         "type": "integer"
        },
        {
         "name": "price_display",
         "rawType": "object",
         "type": "unknown"
        },
        {
         "name": "price_clean",
         "rawType": "float64",
         "type": "float"
        },
        {
         "name": "land_area",
         "rawType": "float64",
         "type": "float"
        },
        {
         "name": "information",
         "rawType": "object",
         "type": "unknown"
        }
       ],
       "ref": "35687076-cea7-4158-ae1d-9e20019cd679",
       "rows": [
        [
         "0",
         "$114,000",
         "114000.0",
         "71.4",
         "- Address: Commune Preaek Lieb, District Chroy Changva, Phnom Penh - Land area : 4.2m x 17m - Building area : 4.2m x 10m - Room ( s ) : 4 - Floors ( s ) : 2 - Price : $ 114000 - ID :  KEY-16165"
        ],
        [
         "1",
         "$1,800.0/m²",
         "188343000.0",
         "104635.0",
         "Land Located at Tuol Kok Village, Sangkat Tuol Sangkae 1, Khan Russey Keo, Phnom Penh"
        ],
        [
         "2",
         "$700.0/m²",
         "58800000.0",
         "84000.0",
         "Land for Sale or Rent on Road N3 Main Road - Hard Title - Land 8.40hectares - Price for Sale 700$/Sqm - Price for Rent 1.5$/Sqm - Kind of land : Development land - Commercial land"
        ],
        [
         "3",
         "$90,000",
         "90000.0",
         "76000.0",
         "Condo for sale in Chak Angrae Leu, Meanchey, Phnom Penh at $90,000. Details This Condo has 1 bedroom and 1 bathroom plus parking for 0 cars. The property includes a generous land holding of 76000.00 m2, with an internal floor area of 56.00. Location Enjoy living in a convenient location with this Condo for sale. If you would like to know more about this property, send an email to the agent by clicking \"Enquire\" or \"Email Agent\" buttons, or click the phone icon to reveal the agent's number to make a call. Alternatively, you can save this property and revisit it later."
        ],
        [
         "4",
         "$276,264,450",
         "276264450.0",
         "55811.0",
         "Land in front of Eden Garden for Sales Size: 55811 m2 Width: 166m Depth: 335 m Price: 4xxx/m2 Ownership Type: Hard Title Location: land located in front of Eden Garden and View Park inside the Phnom Penh City Center. This land is suitable for constructing an apartment complex, hotel, shopping mall, skyscraper, office building, and other commercial endeavors. Map: https://goo.gl/maps/oDS7UbiFvqonVEsn9 #PPCC #phnompenhcitycenter #land #sale #bussinesdistrict #Edengarden #??? #?????? PCC #phnompenhpenhcitycenter #land #sale #bussinesdistrict #Edengarden #??? #??????? #??????????? #?????? #????????? #?????? #Boeungkak #land"
        ],
        [
         "5",
         "$22,550,000",
         "22550000.0",
         "41000.0",
         "Land for Urgent Sale?? (Road # 3) 1. Sales / SQM Feature: 41000? Land / Lands: Garment is near the 3rd Arrong Road ? fland on the Main Road # 3 is located Only 1.8km from Choam Choam Chao. ?this property and Ground Has Surrounded A Lot of Building for Example Commercial condominiums, Hotel, Gasoline Station etc. 5. LOCATION Angk Village, Por Senat Village, Por Senat Village Kantaok, Kamboint, Phnom Penh (Road # 3)"
        ],
        [
         "6",
         "$16,400,000",
         "16400000.0",
         "41000.0",
         "Vacant Land for Sale ??Location: On the National road No. 3-Phum Anlong Takeat, Sangkat Kantaok, Khan Kamboul, Phnom Penh ??Selling Price: $400/sqm (Negotiable) ??Total Land Size: 41,000 square meters ??Hard title ownership"
        ],
        [
         "7",
         "$22,550,000",
         "22550000.0",
         "41000.0",
         "Land for Urgent Sale?? (Road # 3) 1. Sales / SQM Feature: 41000? Land / Land Feature on National Roads Gasten and near the 3rd Arrong Road ? landed on the Main Road # 3 is located Only 2.5km from the Sky Bridge Choam Choam Choam Chao. ?this property and Ground Has Surrounded A Lot of Building for Example Commercial condominiums, Hotel, Gasoline Station etc. 5. LOCATION Angkva Village, Por Sen Chang, Khambang, Por Sen Villak Vake Kantaok, Kamboint Kamboint Kantaoul, Phnom Penh, Phnom Penh, Phnom Penh https://maps.goo.Gool.gl/nvmfwvb6JqCHTH3JQQS36 Land for urgent Sale?? (Road # 3)"
        ],
        [
         "8",
         "$19,000,000",
         "19000000.0",
         "40800.0",
         "This expansive factory and land property , located in a thriving industrial area, is now available for sale at $19M . With a generous land size of 170m x 240m , the property is perfect for large-scale manufacturing or industrial use. The site includes: A spacious main factory building measuring 90m x 180m An EPS factory of 30m x 70m An office building spanning 20m x 35m across three floors Dormitory units (3 units, each 6m x 8m) The property also features a robust 380Amh electricity supply , ensuring smooth industrial operations. Conveniently located just 5 minutes from the PPSHV expressway , it is close to schools, supermarkets, restaurants, and a well-developed manufacturing area. This property offers both strategic location and functional infrastructure for businesses. Key Features: - Land size: 170m x 240m - Main factory: 90m x 180m - EPS factory: 30m x 70m - Office building: 20m x 35m (3 floors) - Dormitories: 3 units, 6m x 8m each - Electricity: 380Amh - Hard title - Prime location near expressway and commercial amenities Contact us now for more details or to arrange a viewing!"
        ],
        [
         "9",
         "$98,000",
         "98000.0",
         "40000.0",
         "?? Concono for sale | CONDO FOR SALE ?? Sales Price | Sale Price: 80,000 $ ?? Chroy Changvar | Chroy Chong Var ?? Immediately login | Ready to Move in ?? Details | Unit Details: - Room size | Room Size: 58SQM - Bedroom | BedRoms: 1 (Loft) - Bathroom | Bathrooms: 1 - Living Room | Living Room: 1 - Kitchen | Kitchen: 1 ? Include | Included - Complete Furniture | Fully Furnished - Natural Garden 21% | 21% Green Garden - Swimming Pool | Swimming Pool - Gym Club | Gym - Security 24/7 | Security 24/7 - Liversist landscape | Sighseeing River View"
        ],
        [
         "10",
         "$168",
         "5447904.0",
         "32428.0",
         "Land for sale size 32428m² Price $ 900 / 1m² Hard title deed ownership Land income $ 18000_ $ 20000 / month The land is in a good location, the land is right next to the road, it is good for business and construction of condominiums and it is a big area with high odds. Contact Information"
        ],
        [
         "11",
         "$3,297,720",
         "3297720.0",
         "27481.0",
         "- Address: Commune Krang Pongro, District  Dangkao, Phnom Penh - Land area : 27481m2 - Price : $120/sq.m - ID : KEY-16192"
        ],
        [
         "12",
         "$195/m²",
         "5070000.0",
         "26000.0",
         "This corner investment land for sale at Prey Sar area and next to Borey Santepheap 2, Sangkat Prey Sar, Khan Dangkor, Phnom Penh City.  Land size: 2.6 Ha  On frontage road: 102 m  Price: $195/Sq.m It's a very good for real estate investment or develop into build commpund villa, twin villa, flat houses, international school, hospital, warehouse, factory and for all kinds of business activities. For more information, please contact us now to visiting!"
        ],
        [
         "13",
         "$65,000",
         "65000.0",
         "25000.0",
         "@Project: Morgan Enmaison ?? Special promotion in September 2022 ?????? Room type: Studio - Floor: 0206 - Room size: 47.29 / sqm - Full price $ 118,093 Last special price: $ 65,000 - Payment terms up to 36 months without interest ??? Get 1 iPhone 14 Pro Max 256G 1 1 refrigerator, 1 TV Equipment, 1 air conditioner, 1 washing machine ? Location: Chroy Changva, along the Mekong River ?? Contact details will be available now Special promotion with this great gift"
        ],
        [
         "14",
         "$60,000",
         "60000.0",
         "25000.0",
         "Morgan Enmaison, the only waterfront Bay Area in Phnom Penh, Cambodia. The largest waterfront property development with riverside mansion life. We have 1 bedroom, 2 bedrooms, 3 bedrooms and penthouses with a private swimming pool./T'S HOME Real Estate Phnom penh Price 60,000$ up Discount 15% Booking only 2000$ Monthly payment up from 34 months to 60months term."
        ],
        [
         "15",
         "$66,000",
         "66000.0",
         "25000.0",
         "@Project: Morgan Enmaison ?? Special promotion in September 2022 ?????? Room type: Studio - Floor: 0205 - Room size: 47.76 / sqm - Full price $ 119,266 Last special price: $ 66,000 - Payment terms up to 36 months without interest ??? Get 1 iPhone 14 Pro Max 256G 1 1 refrigerator, 1 TV Equipment, 1 air conditioner, 1 washing machine ? Location: Chroy Changva, along the Mekong River ?? Contact details will be available now Special promotion with this great gift"
        ],
        [
         "16",
         "$1,200.0/m²",
         "26601600.0",
         "22168.0",
         "Land for sale located at at Banla S'et Village, Sangkat Khmuonh, Khan Saensokh, Phnom Penh"
        ],
        [
         "17",
         "$119,000",
         "119000.0",
         "20000.0",
         "Heighten your quality of living in a home that is truly special for family and friends. Axis Residence strategically located just minutes from the Phnom Penh International Airport, Orienda International Hospital and the City Center. With a pool view from the 7th floor, our type A2 unit offers a spacious bedroom, a fully equipped living room, kitchen and bathroom. Become a resident of Axis to access a wide range of amenities such as: -Free parking space -50m Olympic length lap pool -Children playground -Giant Jacuzzi -Well-equipped Gym -Sauna -Tennis & Basketball court -Multi-purpose room -BBQ pits and much more"
        ],
        [
         "18",
         "$100,000",
         "100000.0",
         "20000.0",
         "Don't waste your time battling peak-hour traffic when you can already be relaxing at your luxuriously appointed home at Axis Residence. At Axis Residence, we got all you want from just minutes drive to the Phnom Penh International Airport, Orienda International Hospital and the City Center. This air-conditioned unit consists of 1 large bed with a TV, 1 bathroom, a fully furnished living room, a kitchen and a spacious balcony with pool view from 3rd floor. Become a resident of Axis to access a wide range of amenities such as: -Free parking space -50m Olympic length lap pool -Children playground -Giant Jacuzzi -Well-equipped Gym -Sauna -Tennis & Basketball court -Multi-purpose room -BBQ pits and much more"
        ],
        [
         "19",
         "$5,256,000",
         "5256000.0",
         "18777.0",
         "Land for sale located at Hun Sen blvd (60m), Preaek Ta Long III Village, Sangkat Chak Angrae Kraom , Khan Mean Chey, Phnom Penh. -Price: = $1,350 / sq.m, urgent sale (Negotiable) = $1,500 / sq.m, if buy 2 plots (Negotiable) -Seller: fill the land"
        ],
        [
         "20",
         "$35,670,600",
         "35670600.0",
         "18774.0",
         "Corner Commercial Land For Sale on St. Hun Sen Blvd and Opposite AEON MALL-3 Land Size : 18,774 Sqm Price: $1,900/Sqm Negotiable This commercial land is very good for real estate investment, building business center, hotel, condo, showroom, shopping international school, hospital and all business activities"
        ],
        [
         "21",
         "$1,650.0/m²",
         "30977100.0",
         "18774.0",
         "This commercial land location is a long 60-meter road (Samdech Hun Sen Blvd), corner of Chhun Kong Blvd, and in front of AEON Mall-3, Phnom Penh.  Size: 18,774 SQM  L-Map  Price: $1,650/SQM negotiable This commercial land is very good for real estate investment, building business center, hotel, condo, showroom, shopping international school, hospital and all business activities."
        ],
        [
         "22",
         "$2,400,000",
         "2400000.0",
         "16000.0",
         "?? Land for sale next to National Road 42 in front of Canadia Development Land and near many Borey projects under construction ?? _ Land next to National Road 42 (50m wide ring road) Owners only 1) Total size is about 16000m ² The front plot next to National Road 42 has two lanes (as in the picture). The main entrance is about 76 m long, next to National Road 42. The second lane, more than 14 m long, next to National Road 42. The back plot is 170m long, next to the cart road is 4m. Suitable for development, building houses for sale. Currently, many Boreys are being built near this land_Location: National Road 42, Chey Chumneas Village, Sangkat Ovulok, Khan Kampol, Phnom Penh."
        ],
        [
         "23",
         "$1,462,050",
         "1462050.0",
         "15390.0",
         "* Land for sale: - Selling price: $1,462,050 - Land size: 15,390 sqm - Document: Hard Title"
        ],
        [
         "24",
         "$428,100",
         "428100.0",
         "14270.0",
         null
        ],
        [
         "25",
         "$1,320,000",
         "1320000.0",
         "12000.0",
         "- Address: Commune Kambol, District Kambol , Phnom Penh - Land area :  100m x 120m - Price : $110"
        ],
        [
         "26",
         "$20,000,000",
         "20000000.0",
         "11817.0",
         "This land for sale offers a total area of 11,817sqm, perfect for large-scale development or industrial use. The main factory building measures 60m x 127m , with an additional 20m x 40m building on the property, providing ample space for production or storage. The land is facing east, allowing for good natural light and ventilation. It comes with a hard title for easy ownership transfer. The current owner will also handle the transfer fee, making the process smooth and straightforward. This property is ideal for businesses looking to expand or develop their own factory space. Key Features: - Land size: 11,817sqm - Main factory building: 60m x 127m - Additional building: 20m x 40m - Facing east for natural light - Hard title for easy ownership - wner handles transfer fee"
        ],
        [
         "27",
         "$2,800,000",
         "2800000.0",
         "10826.0",
         "Land For Sale Facing Riverside - Selling Price: $2,800,000 - Property ID: IL-L-098 - Land Size: 10,826 sqm - The best option for resort ??Location: Koh Dach (Riverside)"
        ],
        [
         "28",
         "$3,000,000",
         "3000000.0",
         "10774.0",
         "This potential land is located between the middle of the Mekong and Tonle Sap rivers and next to the Ly Yongphat development zone, National Road 6A. It has a total land area of 10774 square meters with a frontage length of 55 meters. These factors make this subject land suitable for a housing development project, commercial building, and capital gain."
        ],
        [
         "29",
         "$325.0/m²",
         "3282500.0",
         "10100.0",
         "Discover a prime opportunity with this vacant land for sale in Sen Sok district . Spanning 10,100 sqm , this land comes with a hard title and faces east , offering great potential for either living or investment. The land is easily accessible via a good road and is situated close to numerous amenities. You'll find AEON Mall Sen Sok and Chip Mong Mall Sen Sok nearby, along with popular restaurants, coffee shops, and international schools. Local businesses, markets, and boreys are also just a short distance away. This location offers the perfect blend of convenience and potential for development. Whether you're looking to build your dream home or invest in a growing area, this property is a fantastic choice. Key Features:  Vacant land for sale  10,100 sqm  Hard title  Face to the east  Access on good road  Ideal for living or investment  Close to malls, restaurants, schools, and more"
        ],
        [
         "30",
         "$1,850.0/m²",
         "18605450.0",
         "10057.0",
         "Land for sale at 60m Road developing area and before arrive Third AEON Mall, Phnom Penh City. ? Land size: 89m x 113m ? Can split 35m or 50m head ? Price: $1,850/Sq.m (negotiable) Good location in commercial area and perfect for building showroom, super market, shop-houses, villas, condo, apartment, hotel, hospital, international school. warehouses, and all kinds of businesses."
        ],
        [
         "31",
         "$40,500,000",
         "40500000.0",
         "10000.0",
         "Location : Khan preak prov Sale Price: $4,050/sqm (Negotiable) including hard title transferring Along street 20 meter Size:100m x 100m (1 hectares) Good for investment"
        ],
        [
         "32",
         "$2,000,000",
         "2000000.0",
         "10000.0",
         "Land for sale Property code: ALD24-002 Sell Price For sale price: 2,000,000$ (Can negotiation) Land size Land area: 10,000m2 Location Address: Chroy Changvar district, Phnom Penh"
        ],
        [
         "33",
         "$35,000",
         "35000.0",
         "10000.0",
         "- Construction: 50m * 20m, steel roof, concrete bottom, stone pillars, height 5m - 6 bathrooms for boys and girls, including bathroom - VIP room with 3 people, 20 people per room - Shower room, 1 air conditioner. 50 people in the front - Office room, equipment, table, chair, air conditioner - Staff room, 4 rooms - Front area has 16 tables, seating 100 people Free delivery of 3 phases - 6 air conditioners - Kitchen equipment: Vegetable cabinet, three doors, refrigerator, stainless steel stove, FUll set - Plates, spoons, glass, Full set 300 set + contract - 3 year lease - 3 months deposit - Land rent $ 1377 per month - Contract can be extended for up to 10 years indefinitely"
        ],
        [
         "34",
         "$123,500",
         "123500.0",
         "9366.0",
         "Flat E0, E1 (House in front of Suon Thom) in Borey Vimean Phnom Penh Project 5 Khan Russey Keo is urgently needed for sale * Price only: $ 123,500 (Negotiable) * Price includes transfer of title deed * Size Land size: 4.2mx 22.3m * House size: 4.2mx 16m * Remaining land in front 4.5m and back land 1.8m * 4 bedrooms and 5 bathrooms Thom Borey ?? Civic living, safe, comfortable and full of big projects, markets and condos ?? Can pay by bank installment for 20 years, but need to pay 30% of the house price in advance."
        ],
        [
         "35",
         "$160.0/m²",
         "1492800.0",
         "9330.0",
         "This property offers a large land size of 9,330m² , ideal for investment or development projects. The land comes with a hard title (L-map) , ensuring secure ownership and hassle-free transactions. Located in a convenient area along the strategic Ring Road 3, this property provides excellent accessibility. It is positioned toward the Chamkar Doung traffic light and Wat Kraing Sleng, connecting to National Road 3. With its prime location and substantial size, this land is suitable for various development opportunities such as residential projects, commercial spaces, or industrial setups. Dont miss this chance to invest in a high-potential area. Contact us today for more details or to schedule a site visit. Key Features:  Total land size: 9,330m²  Hard title (L-map)  Located along Ring Road 3  Near Chamkar Doung traffic light and Wat Kraing Sleng (National Road 3)  Suitable for investment and development projects"
        ],
        [
         "36",
         "$12,240,000",
         "12240000.0",
         "8160.0",
         "Location good for invest or new project or Supermarket at Street 60m"
        ],
        [
         "37",
         "$14,996,100",
         "14996100.0",
         "8106.0",
         "Land and Factory for sale location at Phum Toul Sangke, Sangkat Toul Sangke, Khan Russey Keo. Phnom Penh. close to Toul Sangke Market, currently surrounded by Market, shop house, supermarket, bus station, Factory, Warehouse, Bank, office building, commercial building or other business activities. current market price from 1987$ to 2050$ per square meter, selling under market price only 1850$/ square meter can negotiate a bit more. Land Front width: 120m Land Behind width: 100m Land Length: 75m Title Deed: Hard"
        ],
        [
         "38",
         "$100.0/m²",
         "796000.0",
         "7960.0",
         "Discover this prime land parcel spanning 7,960sqm with a hard Title , ideal for savvy investors. Situated in a strategic location, just minutes away from major attractions like Amazon Resort, Hun Sen Blvd, Ring Road 3, AEON Mall Meanchey, ISPP International School, and Techo International Airport. This area is bustling with commercial activities, coffee shops, supermarkets, and restaurants, ensuring convenience and growth potential. Don't miss out on this lucrative opportunity! Call now to secure your investment in one of Phnom Penh's most promising locations. Key Features:  Land area: 7,960sqm  Hard Title ownership  Strategic location near major attractions and amenities"
        ],
        [
         "39",
         "$14,476,000",
         "14476000.0",
         "7825.0",
         "Land for sale: Hun Sen ? Hun Sen ? Land Size: 80m x 98m = 78m2 The Road Road :, Urgent ? ? ? 98m = 78m2 [Canplit] ? ? & M2"
        ],
        [
         "40",
         "$944,580",
         "944580.0",
         "7266.0",
         "7266m2 Price:130$/m2 Negotiable Land facing east wards Width:67m Length:115m https://maps.app.goo.gl/gGAJeCzUpxEPrjQC7"
        ],
        [
         "41",
         "$2,559,960",
         "2559960.0",
         "7111.0",
         "- Address: Commune Preaek Thmei , District Chbar Ampov , Phnom Penh - Land area :  61m x 115m - Price : 360$/sqm"
        ],
        [
         "42",
         "$4,230,000",
         "4230000.0",
         "6792.0",
         "Warehouse & Rent - Location: Sangkat Stung Meanchey - Warehouse Sales: Rental: Rental: ?? Contact: ?? Contact: ?? Contact: ?? Contact: Contact: +855125252515256 ... Standard Warehouse & Rent: Stung Meanchey Distribute: 7,692 M² Rental PRice: $2/m² - Sale Price: $550/m² - Additional Info: The warehouse is in a developing area with easy access to main roads, making it ideal for business operations or investment."
        ],
        [
         "43",
         "$20,521,600",
         "20521600.0",
         "6413.0",
         "????????????????????????????????????????????????????????????????????? ????????????????????? ???????????????????????????????????????????? ???????????? This land in a key commercial and residential district of Phnom Penh City. Located in 7 Makara District the main district linking Russian Blvd, Kampuchea Krom, and Monivong Blvd. Located in Makara District 7, the main areas connecting Russia Avenue, Cambodia Krom and Moniwan Avenue. ? ?????? | Land size | Land area: 6,413 Sqm/square meter ? ???????? | Sale Price | Sale Price | Sale Price: $20,521,600 = $3,200/sqm/square meter ???????????????????????? Olympia (?????????????????) GT Tower (???????????????) ???????????? Delano (???????????????) ? In close proximity to Olympia City development (residential project), GT Tower (office building) and Delano Center (office building). is close to Olympia City Development (residential project), GT Building (office building) and Delano Center (office building). ?????????????????? | Contact Us Now! | Contact Us Now! ???????????????????? | For Details | Details:"
        ],
        [
         "44",
         "$10,000,000",
         "10000000.0",
         "6300.0",
         "This stunning private modern villa in Khan Chbar Ampov is perfect for those seeking a grand lifestyle.  Imagine having plenty of space for your family and guests, with room to relax, entertain, and create lasting memories. The property features a massive land size of 6,300sqm and an expansive house size of 5,400sqm.  Spread over three floors, there are 20 bedrooms, 25 bathrooms, 4 living rooms, and 3 kitchens. Ample parking is available for your convenience. Two swimming pools, a movie room, a KTV room, and a sauna room offer endless entertainment options, while a hard title deed and free transfer fee ensure peace of mind. The east facing villa is filled with natural light throughout the day.  Location is ideal ! Situated opposite Borey Sambath Mean Heng 3 Project, the villa is also close to the Passport office, Chbar Ampov market, and Kbal Thnorl. Don't miss this chance to own a piece of paradise! Contact us today to schedule a viewing. Key features:  Private modern villa  Land size: 6,300sqm  House size: 5,400sqm  3 Floors (E0, E1, E2)  Hard title deed  Free transfer fee  East facing  Furniture on negotiation  20 Bedrooms  25 Bathrooms  4 Living rooms  3 Kitchens  2 Swimming pools  1 Movie room  1 KTV room  1 Sauna room  Big parking  Convenient location"
        ],
        [
         "45",
         "$320.0/m²",
         "2001600.0",
         "6255.0",
         "A well-positioned corner land spanning 6255sqm is now available for sale in Khan Dangkao. This property comes with a hard title , offering a free transfer fee, making it a straightforward investment opportunity for development. Located along a main road, this land is in a convenient location with high accessibility, ideal for potential projects. It's close to Sangkat Roluos hall and surrounded by several ongoing developments, enhancing the areas growth potential. Investors and developers looking for a promising site in Phnom Penh will find this corner land an appealing option. Dont miss out on this opportunityget in touch to secure it today! Key Features:  Corner land for sale in Khan Dangkao  Land size: 6255sqm  Hard Title (Free transfer fee)  Convenient location  On main road  Nearby Sangkat Roluos hall and other projects"
        ],
        [
         "46",
         "$3,410,000",
         "3410000.0",
         "6200.0",
         "Land for sale !!! At developing the Royal Government plans to build the Khmer-Korean friendly bridge in 2023. Land for Sale Arevoment AREA The Construction of the Cambodia-Korea Friends Bridge BRUDSED IN SVEDULED AND PRICE: 550 $ / PRICE) - Hard Layout / Hard Title - Land Location / Location: Prek Lvea Village, Prek Lvince, Kandal Province, Kandal Province."
        ],
        [
         "47",
         "$721,920",
         "721920.0",
         "6016.0",
         "Land For Sale: Town of Krong Road, Sangkat Viches, Dangkor Candy, Phnom Penh ? Sales: 6.016M2 (2 Hard Law Care) ? Sales:"
        ],
        [
         "48",
         "$444,000",
         "444000.0",
         "5825.0",
         "Luxury-Modern Civil Condo in Phnom Penh, Your Excellencies, Lok Chumteavs, Lok Oknha, Ladies and Gentlemen, Are you looking for a modern, clean, good quality, spacious condo? I would like to introduce to you, Excellencies, Lok Chumteavs, Lok Oknha, Ladies and Gentlemen at the condominium project that: 1- Located in the best location on Norodom Blvd. (41) Central of Phnom Penh 4-Green landscape construction, aerial garden, superior quality of civilized living ?? ?? Spacious room-Bedroom 1: Size 78?-Bed room 2: Size 129?-Bed room 3: Size 196 ? - Bedroom 4: Size 262?"
        ],
        [
         "49",
         "$249,600",
         "249600.0",
         "5825.0",
         "Your Excellencies, Lok Chumteavs, Lok Oknha, Ladies and Gentlemen, are you looking for a modern, clean, good quality, spacious condo? I would like to introduce to you, Excellencies, Lok Chumteavs, Lok Oknha, Ladies and Gentlemen at the condominium project that: 1- Located in the best location on Norodom Blvd. (41) Central of Phnom Penh 4-Green landscape construction, aerial garden, superior quality of civilized living ?? ?? Spacious room-Bedroom 1: Size 78?-Bed room 2: Size 129?-Bed room 3: Size 196 ? - Bedroom 4: Size 262?"
        ]
       ],
       "shape": {
        "columns": 4,
        "rows": 3755
       }
      },
      "text/html": [
       "<div>\n",
       "<style scoped>\n",
       "    .dataframe tbody tr th:only-of-type {\n",
       "        vertical-align: middle;\n",
       "    }\n",
       "\n",
       "    .dataframe tbody tr th {\n",
       "        vertical-align: top;\n",
       "    }\n",
       "\n",
       "    .dataframe thead th {\n",
       "        text-align: right;\n",
       "    }\n",
       "</style>\n",
       "<table border=\"1\" class=\"dataframe\">\n",
       "  <thead>\n",
       "    <tr style=\"text-align: right;\">\n",
       "      <th></th>\n",
       "      <th>price_display</th>\n",
       "      <th>price_clean</th>\n",
       "      <th>land_area</th>\n",
       "      <th>information</th>\n",
       "    </tr>\n",
       "  </thead>\n",
       "  <tbody>\n",
       "    <tr>\n",
       "      <th>0</th>\n",
       "      <td>$114,000</td>\n",
       "      <td>114000.0</td>\n",
       "      <td>71.40</td>\n",
       "      <td>- Address: Commune Preaek Lieb, District Chroy...</td>\n",
       "    </tr>\n",
       "    <tr>\n",
       "      <th>1</th>\n",
       "      <td>$1,800.0/m²</td>\n",
       "      <td>188343000.0</td>\n",
       "      <td>104635.00</td>\n",
       "      <td>Land Located at Tuol Kok Village, Sangkat Tuol...</td>\n",
       "    </tr>\n",
       "    <tr>\n",
       "      <th>2</th>\n",
       "      <td>$700.0/m²</td>\n",
       "      <td>58800000.0</td>\n",
       "      <td>84000.00</td>\n",
       "      <td>Land for Sale or Rent on Road N3 Main Road - H...</td>\n",
       "    </tr>\n",
       "    <tr>\n",
       "      <th>3</th>\n",
       "      <td>$90,000</td>\n",
       "      <td>90000.0</td>\n",
       "      <td>76000.00</td>\n",
       "      <td>Condo for sale in Chak Angrae Leu, Meanchey, P...</td>\n",
       "    </tr>\n",
       "    <tr>\n",
       "      <th>4</th>\n",
       "      <td>$276,264,450</td>\n",
       "      <td>276264450.0</td>\n",
       "      <td>55811.00</td>\n",
       "      <td>Land in front of Eden Garden for Sales Size: 5...</td>\n",
       "    </tr>\n",
       "    <tr>\n",
       "      <th>...</th>\n",
       "      <td>...</td>\n",
       "      <td>...</td>\n",
       "      <td>...</td>\n",
       "      <td>...</td>\n",
       "    </tr>\n",
       "    <tr>\n",
       "      <th>3751</th>\n",
       "      <td>$520,000</td>\n",
       "      <td>520000.0</td>\n",
       "      <td>86.25</td>\n",
       "      <td>ShopHouse  rent and sale in PHNOM PENH ,Chamka...</td>\n",
       "    </tr>\n",
       "    <tr>\n",
       "      <th>3752</th>\n",
       "      <td>$1,050,168</td>\n",
       "      <td>1050168.0</td>\n",
       "      <td>1406.00</td>\n",
       "      <td>Land for sale not yet located on Chamkar Dong ...</td>\n",
       "    </tr>\n",
       "    <tr>\n",
       "      <th>3753</th>\n",
       "      <td>$787,410</td>\n",
       "      <td>787410.0</td>\n",
       "      <td>2019.00</td>\n",
       "      <td>Warehouse Land Value Under Market Near Passis ...</td>\n",
       "    </tr>\n",
       "    <tr>\n",
       "      <th>3754</th>\n",
       "      <td>$1,700,000</td>\n",
       "      <td>1700000.0</td>\n",
       "      <td>209.00</td>\n",
       "      <td>This commercial building is available for sale...</td>\n",
       "    </tr>\n",
       "    <tr>\n",
       "      <th>3755</th>\n",
       "      <td>$14,000,000</td>\n",
       "      <td>14000000.0</td>\n",
       "      <td>21.00</td>\n",
       "      <td>This 9-floor building is now available for bot...</td>\n",
       "    </tr>\n",
       "  </tbody>\n",
       "</table>\n",
       "<p>3755 rows × 4 columns</p>\n",
       "</div>"
      ],
      "text/plain": [
       "     price_display  price_clean  land_area  \\\n",
       "0         $114,000     114000.0      71.40   \n",
       "1      $1,800.0/m²  188343000.0  104635.00   \n",
       "2        $700.0/m²   58800000.0   84000.00   \n",
       "3          $90,000      90000.0   76000.00   \n",
       "4     $276,264,450  276264450.0   55811.00   \n",
       "...            ...          ...        ...   \n",
       "3751      $520,000     520000.0      86.25   \n",
       "3752    $1,050,168    1050168.0    1406.00   \n",
       "3753      $787,410     787410.0    2019.00   \n",
       "3754    $1,700,000    1700000.0     209.00   \n",
       "3755   $14,000,000   14000000.0      21.00   \n",
       "\n",
       "                                            information  \n",
       "0     - Address: Commune Preaek Lieb, District Chroy...  \n",
       "1     Land Located at Tuol Kok Village, Sangkat Tuol...  \n",
       "2     Land for Sale or Rent on Road N3 Main Road - H...  \n",
       "3     Condo for sale in Chak Angrae Leu, Meanchey, P...  \n",
       "4     Land in front of Eden Garden for Sales Size: 5...  \n",
       "...                                                 ...  \n",
       "3751  ShopHouse  rent and sale in PHNOM PENH ,Chamka...  \n",
       "3752  Land for sale not yet located on Chamkar Dong ...  \n",
       "3753  Warehouse Land Value Under Market Near Passis ...  \n",
       "3754  This commercial building is available for sale...  \n",
       "3755  This 9-floor building is now available for bot...  \n",
       "\n",
       "[3755 rows x 4 columns]"
      ]
     },
     "execution_count": 30,
     "metadata": {},
     "output_type": "execute_result"
    }
   ],
   "source": [
    "cols = ['price_display', 'price_clean', 'land_area', 'information']\n",
    "df[cols]"
   ]
  },
  {
   "cell_type": "code",
   "execution_count": null,
   "id": "6803589e",
   "metadata": {},
   "outputs": [],
   "source": [
    "# df.at[10, 'price_clean'] = float(df.at[10, 'price_clean']) * float(df.at[10, 'land_area'])"
   ]
  },
  {
   "cell_type": "code",
   "execution_count": 29,
   "id": "86c399a9",
   "metadata": {},
   "outputs": [
    {
     "data": {
      "application/vnd.microsoft.datawrangler.viewer.v0+json": {
       "columns": [
        {
         "name": "index",
         "rawType": "int64",
         "type": "integer"
        },
        {
         "name": "price_display",
         "rawType": "object",
         "type": "string"
        },
        {
         "name": "price_clean",
         "rawType": "float64",
         "type": "float"
        },
        {
         "name": "land_area",
         "rawType": "float64",
         "type": "float"
        }
       ],
       "ref": "644d3817-59cb-4aa8-9ac2-2f68e7a7a48e",
       "rows": [],
       "shape": {
        "columns": 3,
        "rows": 0
       }
      },
      "text/html": [
       "<div>\n",
       "<style scoped>\n",
       "    .dataframe tbody tr th:only-of-type {\n",
       "        vertical-align: middle;\n",
       "    }\n",
       "\n",
       "    .dataframe tbody tr th {\n",
       "        vertical-align: top;\n",
       "    }\n",
       "\n",
       "    .dataframe thead th {\n",
       "        text-align: right;\n",
       "    }\n",
       "</style>\n",
       "<table border=\"1\" class=\"dataframe\">\n",
       "  <thead>\n",
       "    <tr style=\"text-align: right;\">\n",
       "      <th></th>\n",
       "      <th>price_display</th>\n",
       "      <th>price_clean</th>\n",
       "      <th>land_area</th>\n",
       "    </tr>\n",
       "  </thead>\n",
       "  <tbody>\n",
       "  </tbody>\n",
       "</table>\n",
       "</div>"
      ],
      "text/plain": [
       "Empty DataFrame\n",
       "Columns: [price_display, price_clean, land_area]\n",
       "Index: []"
      ]
     },
     "execution_count": 29,
     "metadata": {},
     "output_type": "execute_result"
    }
   ],
   "source": [
    "df.loc[df['price_clean'] < df['land_area'], ['price_display', 'price_clean', 'land_area']]"
   ]
  },
  {
   "cell_type": "code",
   "execution_count": 32,
   "id": "217f73e5",
   "metadata": {},
   "outputs": [
    {
     "data": {
      "application/vnd.microsoft.datawrangler.viewer.v0+json": {
       "columns": [
        {
         "name": "index",
         "rawType": "int64",
         "type": "integer"
        },
        {
         "name": "price_display",
         "rawType": "object",
         "type": "string"
        },
        {
         "name": "price_clean",
         "rawType": "float64",
         "type": "float"
        },
        {
         "name": "land_area",
         "rawType": "float64",
         "type": "float"
        }
       ],
       "ref": "1cbce97f-356c-4f7a-b324-a47d6e4c23b1",
       "rows": [
        [
         "159",
         "$2,500",
         "2500.0",
         "2100.0"
        ],
        [
         "178",
         "$2,850",
         "2850.0",
         "1792.0"
        ],
        [
         "192",
         "$2,700",
         "2700.0",
         "1600.0"
        ],
        [
         "371",
         "$2,500",
         "2500.0",
         "800.0"
        ],
        [
         "545",
         "$1,300",
         "1300.0",
         "548.0"
        ],
        [
         "856",
         "$4,300",
         "4300.0",
         "336.0"
        ],
        [
         "1098",
         "$3,500",
         "3500.0",
         "225.0"
        ],
        [
         "1383",
         "$1,300",
         "1300.0",
         "168.0"
        ],
        [
         "1933",
         "$1,000",
         "1000.0",
         "107.1"
        ],
        [
         "2841",
         "$66/m²",
         "4488.0",
         "68.0"
        ],
        [
         "3053",
         "$850",
         "850.0",
         "60.0"
        ],
        [
         "3458",
         "$450",
         "450.0",
         "35.0"
        ],
        [
         "3541",
         "$195/m²",
         "507.0",
         "2.6"
        ],
        [
         "3596",
         "$1,000",
         "1000.0",
         "78.69"
        ],
        [
         "3669",
         "$2,500.0/m²",
         "2500.0",
         "1.0"
        ],
        [
         "3716",
         "$200/m²",
         "200.0",
         "1.0"
        ]
       ],
       "shape": {
        "columns": 3,
        "rows": 16
       }
      },
      "text/html": [
       "<div>\n",
       "<style scoped>\n",
       "    .dataframe tbody tr th:only-of-type {\n",
       "        vertical-align: middle;\n",
       "    }\n",
       "\n",
       "    .dataframe tbody tr th {\n",
       "        vertical-align: top;\n",
       "    }\n",
       "\n",
       "    .dataframe thead th {\n",
       "        text-align: right;\n",
       "    }\n",
       "</style>\n",
       "<table border=\"1\" class=\"dataframe\">\n",
       "  <thead>\n",
       "    <tr style=\"text-align: right;\">\n",
       "      <th></th>\n",
       "      <th>price_display</th>\n",
       "      <th>price_clean</th>\n",
       "      <th>land_area</th>\n",
       "    </tr>\n",
       "  </thead>\n",
       "  <tbody>\n",
       "    <tr>\n",
       "      <th>159</th>\n",
       "      <td>$2,500</td>\n",
       "      <td>2500.0</td>\n",
       "      <td>2100.00</td>\n",
       "    </tr>\n",
       "    <tr>\n",
       "      <th>178</th>\n",
       "      <td>$2,850</td>\n",
       "      <td>2850.0</td>\n",
       "      <td>1792.00</td>\n",
       "    </tr>\n",
       "    <tr>\n",
       "      <th>192</th>\n",
       "      <td>$2,700</td>\n",
       "      <td>2700.0</td>\n",
       "      <td>1600.00</td>\n",
       "    </tr>\n",
       "    <tr>\n",
       "      <th>371</th>\n",
       "      <td>$2,500</td>\n",
       "      <td>2500.0</td>\n",
       "      <td>800.00</td>\n",
       "    </tr>\n",
       "    <tr>\n",
       "      <th>545</th>\n",
       "      <td>$1,300</td>\n",
       "      <td>1300.0</td>\n",
       "      <td>548.00</td>\n",
       "    </tr>\n",
       "    <tr>\n",
       "      <th>856</th>\n",
       "      <td>$4,300</td>\n",
       "      <td>4300.0</td>\n",
       "      <td>336.00</td>\n",
       "    </tr>\n",
       "    <tr>\n",
       "      <th>1098</th>\n",
       "      <td>$3,500</td>\n",
       "      <td>3500.0</td>\n",
       "      <td>225.00</td>\n",
       "    </tr>\n",
       "    <tr>\n",
       "      <th>1383</th>\n",
       "      <td>$1,300</td>\n",
       "      <td>1300.0</td>\n",
       "      <td>168.00</td>\n",
       "    </tr>\n",
       "    <tr>\n",
       "      <th>1933</th>\n",
       "      <td>$1,000</td>\n",
       "      <td>1000.0</td>\n",
       "      <td>107.10</td>\n",
       "    </tr>\n",
       "    <tr>\n",
       "      <th>2841</th>\n",
       "      <td>$66/m²</td>\n",
       "      <td>4488.0</td>\n",
       "      <td>68.00</td>\n",
       "    </tr>\n",
       "    <tr>\n",
       "      <th>3053</th>\n",
       "      <td>$850</td>\n",
       "      <td>850.0</td>\n",
       "      <td>60.00</td>\n",
       "    </tr>\n",
       "    <tr>\n",
       "      <th>3458</th>\n",
       "      <td>$450</td>\n",
       "      <td>450.0</td>\n",
       "      <td>35.00</td>\n",
       "    </tr>\n",
       "    <tr>\n",
       "      <th>3541</th>\n",
       "      <td>$195/m²</td>\n",
       "      <td>507.0</td>\n",
       "      <td>2.60</td>\n",
       "    </tr>\n",
       "    <tr>\n",
       "      <th>3596</th>\n",
       "      <td>$1,000</td>\n",
       "      <td>1000.0</td>\n",
       "      <td>78.69</td>\n",
       "    </tr>\n",
       "    <tr>\n",
       "      <th>3669</th>\n",
       "      <td>$2,500.0/m²</td>\n",
       "      <td>2500.0</td>\n",
       "      <td>1.00</td>\n",
       "    </tr>\n",
       "    <tr>\n",
       "      <th>3716</th>\n",
       "      <td>$200/m²</td>\n",
       "      <td>200.0</td>\n",
       "      <td>1.00</td>\n",
       "    </tr>\n",
       "  </tbody>\n",
       "</table>\n",
       "</div>"
      ],
      "text/plain": [
       "     price_display  price_clean  land_area\n",
       "159         $2,500       2500.0    2100.00\n",
       "178         $2,850       2850.0    1792.00\n",
       "192         $2,700       2700.0    1600.00\n",
       "371         $2,500       2500.0     800.00\n",
       "545         $1,300       1300.0     548.00\n",
       "856         $4,300       4300.0     336.00\n",
       "1098        $3,500       3500.0     225.00\n",
       "1383        $1,300       1300.0     168.00\n",
       "1933        $1,000       1000.0     107.10\n",
       "2841        $66/m²       4488.0      68.00\n",
       "3053          $850        850.0      60.00\n",
       "3458          $450        450.0      35.00\n",
       "3541       $195/m²        507.0       2.60\n",
       "3596        $1,000       1000.0      78.69\n",
       "3669   $2,500.0/m²       2500.0       1.00\n",
       "3716       $200/m²        200.0       1.00"
      ]
     },
     "execution_count": 32,
     "metadata": {},
     "output_type": "execute_result"
    }
   ],
   "source": [
    "df.loc[df['price_clean'] < 5000, ['price_display', 'price_clean', 'land_area']]"
   ]
  },
  {
   "cell_type": "code",
   "execution_count": 35,
   "id": "0ef26529",
   "metadata": {},
   "outputs": [
    {
     "name": "stderr",
     "output_type": "stream",
     "text": [
      "C:\\Users\\User\\AppData\\Local\\Temp\\ipykernel_11800\\4045186308.py:4: UserWarning: This pattern is interpreted as a regular expression, and has match groups. To actually get the groups, use str.extract.\n",
      "  ~df['price_display'].str.contains(r'/\\s*(m2|m²|sqm|\\^2)', case=False, na=False)\n"
     ]
    },
    {
     "data": {
      "application/vnd.microsoft.datawrangler.viewer.v0+json": {
       "columns": [
        {
         "name": "index",
         "rawType": "int64",
         "type": "integer"
        },
        {
         "name": "price_display",
         "rawType": "object",
         "type": "string"
        },
        {
         "name": "price_clean",
         "rawType": "float64",
         "type": "float"
        },
        {
         "name": "land_area",
         "rawType": "float64",
         "type": "float"
        }
       ],
       "ref": "5cebcd84-6b5a-4a63-b6af-3fca4bf8351d",
       "rows": [],
       "shape": {
        "columns": 3,
        "rows": 0
       }
      },
      "text/html": [
       "<div>\n",
       "<style scoped>\n",
       "    .dataframe tbody tr th:only-of-type {\n",
       "        vertical-align: middle;\n",
       "    }\n",
       "\n",
       "    .dataframe tbody tr th {\n",
       "        vertical-align: top;\n",
       "    }\n",
       "\n",
       "    .dataframe thead th {\n",
       "        text-align: right;\n",
       "    }\n",
       "</style>\n",
       "<table border=\"1\" class=\"dataframe\">\n",
       "  <thead>\n",
       "    <tr style=\"text-align: right;\">\n",
       "      <th></th>\n",
       "      <th>price_display</th>\n",
       "      <th>price_clean</th>\n",
       "      <th>land_area</th>\n",
       "    </tr>\n",
       "  </thead>\n",
       "  <tbody>\n",
       "  </tbody>\n",
       "</table>\n",
       "</div>"
      ],
      "text/plain": [
       "Empty DataFrame\n",
       "Columns: [price_display, price_clean, land_area]\n",
       "Index: []"
      ]
     },
     "execution_count": 35,
     "metadata": {},
     "output_type": "execute_result"
    }
   ],
   "source": [
    "# Show rows where price_clean < 5000 and price_display is NOT a price per sqm (e.g., not like '195/m^2', '195/m2', etc.)\n",
    "mask = (\n",
    "    (df['price_clean'] < 5000) &\n",
    "    ~df['price_display'].str.contains(r'/\\s*(m2|m²|sqm|\\^2)', case=False, na=False)\n",
    ")\n",
    "df.loc[mask, ['price_display', 'price_clean', 'land_area']]"
   ]
  },
  {
   "cell_type": "code",
   "execution_count": 28,
   "id": "f3e83c39",
   "metadata": {},
   "outputs": [],
   "source": [
    "# For all rows where price_clean < land_area, set price_clean = price_clean * land_area\n",
    "mask = df['price_clean'] < df['land_area']\n",
    "df.loc[mask, 'price_clean'] = df.loc[mask, 'price_clean'] * df.loc[mask, 'land_area']"
   ]
  },
  {
   "cell_type": "code",
   "execution_count": 34,
   "id": "da68e1e3",
   "metadata": {},
   "outputs": [
    {
     "name": "stderr",
     "output_type": "stream",
     "text": [
      "C:\\Users\\User\\AppData\\Local\\Temp\\ipykernel_11800\\2357996430.py:4: UserWarning: This pattern is interpreted as a regular expression, and has match groups. To actually get the groups, use str.extract.\n",
      "  ~df['price_display'].str.contains(r'/\\s*(m2|m²|sqm|\\^2)', case=False, na=False)\n"
     ]
    }
   ],
   "source": [
    "# For all rows where price_clean < 5000 and price_display is NOT a price per sqm, set price_clean = price_clean * land_area\n",
    "mask = (\n",
    "    (df['price_clean'] < 5000) &\n",
    "    ~df['price_display'].str.contains(r'/\\s*(m2|m²|sqm|\\^2)', case=False, na=False)\n",
    ")\n",
    "df.loc[mask, 'price_clean'] = df.loc[mask, 'price_clean'] * df.loc[mask, 'land_area']"
   ]
  },
  {
   "cell_type": "code",
   "execution_count": 25,
   "id": "7e6038c4",
   "metadata": {},
   "outputs": [
    {
     "data": {
      "text/plain": [
       "'Business home for sale in the road, ensuring the market - $ 187,000 in the next 3m-sized household space. Still on the 24-meter-upper rim in National Road 3 to the 3rd city of Kram, more than 30 hectares of Bigs, nearly 30 hectares, nearly 30 hectares, nearly 30 hectares, nearly 30 hectares, is International School Market, Phsar Mall'"
      ]
     },
     "execution_count": 25,
     "metadata": {},
     "output_type": "execute_result"
    }
   ],
   "source": [
    "df.at[3717, 'information']"
   ]
  },
  {
   "cell_type": "code",
   "execution_count": 26,
   "id": "2fbbe4f1",
   "metadata": {},
   "outputs": [],
   "source": [
    "df = df.drop(3717)\n"
   ]
  },
  {
   "cell_type": "code",
   "execution_count": null,
   "id": "b3903027",
   "metadata": {},
   "outputs": [],
   "source": [
    "# df.to_csv('../../data/processed/realestates_kh_v2_3_5.csv', index=False, encoding='latin1')"
   ]
  },
  {
   "cell_type": "code",
   "execution_count": 37,
   "id": "0dab0928",
   "metadata": {},
   "outputs": [],
   "source": [
    "# Overwrite price_display with price_clean, then drop price_clean column\n",
    "df['price_display'] = df['price_clean']\n",
    "df = df.drop(columns=['price_clean'])"
   ]
  },
  {
   "cell_type": "code",
   "execution_count": 1,
   "id": "5dc24d8b",
   "metadata": {},
   "outputs": [
    {
     "ename": "NameError",
     "evalue": "name 'df' is not defined",
     "output_type": "error",
     "traceback": [
      "\u001b[1;31m---------------------------------------------------------------------------\u001b[0m",
      "\u001b[1;31mNameError\u001b[0m                                 Traceback (most recent call last)",
      "Cell \u001b[1;32mIn[1], line 1\u001b[0m\n\u001b[1;32m----> 1\u001b[0m \u001b[43mdf\u001b[49m\u001b[38;5;241m.\u001b[39mhead()\n",
      "\u001b[1;31mNameError\u001b[0m: name 'df' is not defined"
     ]
    }
   ],
   "source": [
    "df.head()"
   ]
  },
  {
   "cell_type": "code",
   "execution_count": 38,
   "id": "504e0bd0",
   "metadata": {},
   "outputs": [],
   "source": [
    "df.to_csv('../../data/processed/realestates_kh_v2_3_6.csv', index=False, encoding='latin1')"
   ]
  },
  {
   "cell_type": "code",
   "execution_count": 39,
   "id": "93a06d95",
   "metadata": {},
   "outputs": [
    {
     "data": {
      "application/vnd.microsoft.datawrangler.viewer.v0+json": {
       "columns": [
        {
         "name": "index",
         "rawType": "object",
         "type": "string"
        },
        {
         "name": "0",
         "rawType": "object",
         "type": "unknown"
        }
       ],
       "ref": "1bafb665-43e8-4389-8d16-14c52b3439b4",
       "rows": [
        [
         "id",
         "float64"
        ],
        [
         "headline",
         "object"
        ],
        [
         "price_display",
         "float64"
        ],
        [
         "bedrooms",
         "float64"
        ],
        [
         "bathrooms",
         "float64"
        ],
        [
         "land_area",
         "float64"
        ],
        [
         "address_subdivision",
         "object"
        ],
        [
         "address_locality",
         "object"
        ],
        [
         "address_line_2",
         "object"
        ],
        [
         "address_line_1",
         "object"
        ],
        [
         "category_name",
         "object"
        ],
        [
         "is_parent",
         "bool"
        ],
        [
         "type",
         "object"
        ],
        [
         "information",
         "object"
        ],
        [
         "latitude",
         "float64"
        ],
        [
         "longitude",
         "float64"
        ]
       ],
       "shape": {
        "columns": 1,
        "rows": 16
       }
      },
      "text/plain": [
       "id                     float64\n",
       "headline                object\n",
       "price_display          float64\n",
       "bedrooms               float64\n",
       "bathrooms              float64\n",
       "land_area              float64\n",
       "address_subdivision     object\n",
       "address_locality        object\n",
       "address_line_2          object\n",
       "address_line_1          object\n",
       "category_name           object\n",
       "is_parent                 bool\n",
       "type                    object\n",
       "information             object\n",
       "latitude               float64\n",
       "longitude              float64\n",
       "dtype: object"
      ]
     },
     "execution_count": 39,
     "metadata": {},
     "output_type": "execute_result"
    }
   ],
   "source": [
    "df.dtypes"
   ]
  }
 ],
 "metadata": {
  "kernelspec": {
   "display_name": "env_v3.10",
   "language": "python",
   "name": "python3"
  },
  "language_info": {
   "codemirror_mode": {
    "name": "ipython",
    "version": 3
   },
   "file_extension": ".py",
   "mimetype": "text/x-python",
   "name": "python",
   "nbconvert_exporter": "python",
   "pygments_lexer": "ipython3",
   "version": "3.10.16"
  }
 },
 "nbformat": 4,
 "nbformat_minor": 5
}
