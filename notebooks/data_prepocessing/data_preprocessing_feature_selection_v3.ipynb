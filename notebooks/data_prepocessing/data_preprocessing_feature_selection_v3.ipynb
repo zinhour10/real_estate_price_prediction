{
 "cells": [
  {
   "cell_type": "code",
   "execution_count": null,
   "id": "57cd3a3d",
   "metadata": {},
   "outputs": [],
   "source": [
    "import pandas as pd\n",
    "import matplotlib.pyplot as plt\n",
    "from sklearn.preprocessing import OrdinalEncoder\n",
    "from sklearn.feature_selection import SelectKBest, mutual_info_regression\n"
   ]
  },
  {
   "cell_type": "code",
   "execution_count": null,
   "id": "ccaf5ea8",
   "metadata": {},
   "outputs": [],
   "source": [
    "df = pd.read_csv('../../data/processed/combined_data_v4_nearby_road_1km.csv')"
   ]
  },
  {
   "cell_type": "code",
   "execution_count": null,
   "id": "e0e51f7e",
   "metadata": {},
   "outputs": [],
   "source": [
    "print(df.head())"
   ]
  },
  {
   "cell_type": "code",
   "execution_count": null,
   "id": "1c78c3d6",
   "metadata": {},
   "outputs": [],
   "source": [
    "y = df[['price']]\n",
    "X = df.drop(columns=['price'])"
   ]
  },
  {
   "cell_type": "code",
   "execution_count": null,
   "id": "b27f7987",
   "metadata": {},
   "outputs": [],
   "source": [
    "X.describe()"
   ]
  },
  {
   "cell_type": "code",
   "execution_count": null,
   "id": "395cde24",
   "metadata": {},
   "outputs": [],
   "source": [
    "# from sklearn.model_selection import train_test_split\n",
    "# X_train, X_test, y_train, y_test = train_test_split(X, y, test_size=0.2, random_state=42)\n",
    "\n",
    "# X_train.shape, X_test.shape"
   ]
  },
  {
   "cell_type": "code",
   "execution_count": null,
   "id": "d9307dda",
   "metadata": {},
   "outputs": [],
   "source": [
    "cat_cols = X.select_dtypes(include=['object', 'category']).columns\n"
   ]
  },
  {
   "cell_type": "code",
   "execution_count": null,
   "id": "43f1b02f",
   "metadata": {},
   "outputs": [],
   "source": [
    "cat_cols"
   ]
  },
  {
   "cell_type": "code",
   "execution_count": null,
   "id": "5c367541",
   "metadata": {},
   "outputs": [],
   "source": [
    "# Temporarily encode categorical columns for feature selection\n",
    "X_temp = X.copy()\n",
    "if len(cat_cols) > 0:\n",
    "    encoder = OrdinalEncoder()\n",
    "    X_temp[cat_cols] = encoder.fit_transform(X_temp[cat_cols])\n"
   ]
  },
  {
   "cell_type": "code",
   "execution_count": null,
   "id": "7bbc60fe",
   "metadata": {},
   "outputs": [],
   "source": [
    "# Feature selection \n",
    "selector = SelectKBest(mutual_info_regression, k=30)\n",
    "selector.fit(X_temp, y)\n",
    "selected_features = X.columns[selector.get_support()]\n"
   ]
  },
  {
   "cell_type": "code",
   "execution_count": null,
   "id": "bcca7f2c",
   "metadata": {},
   "outputs": [],
   "source": [
    "# Subset original data to selected features\n",
    "X_selected = X[selected_features]"
   ]
  },
  {
   "cell_type": "code",
   "execution_count": null,
   "id": "3c048bc5",
   "metadata": {},
   "outputs": [],
   "source": [
    "X_selected"
   ]
  },
  {
   "cell_type": "code",
   "execution_count": null,
   "id": "d5a3df43",
   "metadata": {},
   "outputs": [],
   "source": [
    "# One-hot encode only the selected categorical features\n",
    "selected_cat_cols = [col for col in selected_features if col in cat_cols]\n",
    "X_final = pd.get_dummies(X_selected, columns=selected_cat_cols, drop_first=True)\n",
    "X_final = X_final.astype(int)\n"
   ]
  },
  {
   "cell_type": "code",
   "execution_count": null,
   "id": "73639765",
   "metadata": {},
   "outputs": [],
   "source": [
    "df_KBest = pd.concat([X_final, y], axis=1)\n"
   ]
  },
  {
   "cell_type": "code",
   "execution_count": null,
   "id": "4b6f07b4",
   "metadata": {},
   "outputs": [],
   "source": [
    "df_KBest.head()"
   ]
  },
  {
   "cell_type": "code",
   "execution_count": null,
   "id": "8e877a9a",
   "metadata": {},
   "outputs": [],
   "source": [
    "df_KBest.to_csv('../../data/preprocessed/realestates_kh_SelectKBest_v2.csv', index=False)"
   ]
  }
 ],
 "metadata": {
  "kernelspec": {
   "display_name": "env_v3.10",
   "language": "python",
   "name": "python3"
  },
  "language_info": {
   "codemirror_mode": {
    "name": "ipython",
    "version": 3
   },
   "file_extension": ".py",
   "mimetype": "text/x-python",
   "name": "python",
   "nbconvert_exporter": "python",
   "pygments_lexer": "ipython3",
   "version": "3.10.16"
  }
 },
 "nbformat": 4,
 "nbformat_minor": 5
}
