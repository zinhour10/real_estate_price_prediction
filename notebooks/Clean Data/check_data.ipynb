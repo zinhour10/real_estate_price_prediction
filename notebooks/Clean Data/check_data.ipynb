{
 "cells": [
  {
   "cell_type": "code",
   "execution_count": 10,
   "id": "af132f34",
   "metadata": {},
   "outputs": [],
   "source": [
    "import pandas as pd"
   ]
  },
  {
   "cell_type": "code",
   "execution_count": 11,
   "id": "96766ef7",
   "metadata": {},
   "outputs": [],
   "source": [
    "df = pd.read_csv('../../data/processed/realestates_kh_v2_3_1.csv', encoding='latin1')"
   ]
  },
  {
   "cell_type": "code",
   "execution_count": 12,
   "id": "1d98fd13",
   "metadata": {},
   "outputs": [
    {
     "data": {
      "application/vnd.microsoft.datawrangler.viewer.v0+json": {
       "columns": [
        {
         "name": "index",
         "rawType": "int64",
         "type": "integer"
        },
        {
         "name": "Unnamed: 0",
         "rawType": "float64",
         "type": "float"
        },
        {
         "name": "id",
         "rawType": "float64",
         "type": "float"
        },
        {
         "name": "headline",
         "rawType": "object",
         "type": "string"
        },
        {
         "name": "price_display",
         "rawType": "object",
         "type": "string"
        },
        {
         "name": "rent_display",
         "rawType": "object",
         "type": "unknown"
        },
        {
         "name": "bedrooms",
         "rawType": "float64",
         "type": "float"
        },
        {
         "name": "bathrooms",
         "rawType": "float64",
         "type": "float"
        },
        {
         "name": "land_area",
         "rawType": "float64",
         "type": "float"
        },
        {
         "name": "thumbnail_url",
         "rawType": "object",
         "type": "string"
        },
        {
         "name": "thumbnail_urls",
         "rawType": "object",
         "type": "string"
        },
        {
         "name": "location",
         "rawType": "object",
         "type": "string"
        },
        {
         "name": "address_subdivision",
         "rawType": "object",
         "type": "string"
        },
        {
         "name": "address_locality",
         "rawType": "object",
         "type": "string"
        },
        {
         "name": "address_line_2",
         "rawType": "object",
         "type": "string"
        },
        {
         "name": "address_line_1",
         "rawType": "object",
         "type": "string"
        },
        {
         "name": "category_name",
         "rawType": "object",
         "type": "string"
        },
        {
         "name": "is_parent",
         "rawType": "object",
         "type": "unknown"
        },
        {
         "name": "type",
         "rawType": "object",
         "type": "string"
        },
        {
         "name": "information",
         "rawType": "object",
         "type": "string"
        },
        {
         "name": "source_url",
         "rawType": "object",
         "type": "string"
        },
        {
         "name": "language",
         "rawType": "object",
         "type": "string"
        },
        {
         "name": "latitude",
         "rawType": "float64",
         "type": "float"
        },
        {
         "name": "longitude",
         "rawType": "float64",
         "type": "float"
        }
       ],
       "ref": "607b2c3e-0954-4d4c-a789-71d2a7e3cae1",
       "rows": [
        [
         "0",
         "116.0",
         "235560.0",
         "Link house for sale ",
         "$114,000",
         null,
         "4.0",
         "5.0",
         "71.4",
         "https://images.realestate.com.kh/__sized__/listings/2023-08/16165_0-thumbnail-750x562-70.jpeg",
         "['https://images.realestate.com.kh/__sized__/listings/2023-08/16165_0-thumbnail-400x300-70.jpeg', 'https://images.realestate.com.kh/__sized__/listings/2023-08/16165_1-thumbnail-400x300-70.jpeg', 'https://images.realestate.com.kh/__sized__/listings/2023-08/16165_2-thumbnail-400x300-70.jpeg']",
         "[104.925654, 11.589674]",
         "Phnom Penh",
         "Chroy Changvar",
         "Preaek Lieb",
         " ",
         "Unit",
         "False",
         "residential",
         "- Address: Commune Preaek Lieb, District Chroy Changva, Phnom Penh - Land area : 4.2m x 17m - Building area : 4.2m x 10m - Room ( s ) : 4 - Floors ( s ) : 2 - Price : $ 114000 - ID :  KEY-16165",
         "https://www.realestate.com.kh/235560/",
         "en",
         "11.589674",
         "104.925654"
        ],
        [
         "1",
         "2279.0",
         "248374.0",
         "Land for Sale",
         "$1,800.0/mÂ²",
         null,
         null,
         null,
         "104635.0",
         "https://images.realestate.com.kh/__sized__/listings/2025-02/photo_27_2025-01-08_22-54-54-thumbnail-750x562-70.jpeg",
         "['https://images.realestate.com.kh/__sized__/listings/2025-02/photo_27_2025-01-08_22-54-54-thumbnail-400x300-70.jpeg', 'https://images.realestate.com.kh/__sized__/listings/2025-02/photo_12_2025-01-08_22-54-54-thumbnail-400x300-70.jpeg', 'https://images.realestate.com.kh/__sized__/listings/2025-02/photo_11_2025-01-08_22-54-54-thumbnail-400x300-70.jpeg']",
         "[104.90223372292581, 11.587809896916525]",
         "Phnom Penh",
         "Russey Keo",
         "Tuol Sangkae 1",
         "273 273",
         "Land/Development",
         "False",
         "residential",
         "Land Located at Tuol Kok Village, Sangkat Tuol Sangkae 1, Khan Russey Keo, Phnom Penh",
         "https://www.realestate.com.kh/248374/",
         "en",
         "11.5878099",
         "104.9022337"
        ],
        [
         "2",
         "3874.0",
         "248290.0",
         "<b>Development Land For Sales (National Road 3)</b>",
         "$700.0/mÂ²",
         "$1.5/mÂ²",
         null,
         null,
         "84000.0",
         "https://images.realestate.com.kh/__sized__/listings/2025-01/2_6FJ2ZSr-thumbnail-750x562-70.jpeg",
         "['https://images.realestate.com.kh/__sized__/listings/2025-01/2_6FJ2ZSr-thumbnail-400x300-70.jpeg', 'https://images.realestate.com.kh/__sized__/listings/2025-01/4_JML25T8-thumbnail-400x300-70.jpeg', 'https://images.realestate.com.kh/__sized__/listings/2025-01/3_q6uadyn-thumbnail-400x300-70.jpeg']",
         "[104.920232, 11.537783]",
         "Phnom Penh",
         "Por Sen Chey",
         "Kantaok",
         "N3 N3",
         "Land/Development",
         "False",
         "residential",
         "Land for Sale or Rent on Road N3 Main Road - Hard Title - Land 8.40hectares - Price for Sale 700$/Sqm - Price for Rent 1.5$/Sqm - Kind of land : Development land - Commercial land",
         "https://www.realestate.com.kh/248290/",
         "en",
         "11.537783",
         "104.920232"
        ],
        [
         "3",
         "3788.0",
         "248489.0",
         "?????????????????? ??? Urban Village Phase 2 ???????",
         "$90,000",
         null,
         "1.0",
         "1.0",
         "76000.0",
         "https://images.realestate.com.kh/__sized__/listings/2025-02/photo_2025-02-06_23-57-14-thumbnail-750x562-70.jpeg",
         "['https://images.realestate.com.kh/__sized__/listings/2025-02/photo_2025-02-06_23-57-14-thumbnail-400x300-70.jpeg', 'https://images.realestate.com.kh/__sized__/listings/2025-02/photo_2025-02-06_23-57-03-thumbnail-400x300-70.jpeg', 'https://images.realestate.com.kh/__sized__/listings/2025-02/photo_2025-02-06_23-56-54-thumbnail-400x300-70.jpeg']",
         "[104.920232, 11.537783]",
         "Phnom Penh",
         "Meanchey",
         "Chak Angrae Leu",
         "   ",
         "Condo",
         "False",
         "residential",
         "Condo for sale in Chak Angrae Leu, Meanchey, Phnom Penh at $90,000. Details This Condo has 1 bedroom and 1 bathroom plus parking for 0 cars. The property includes a generous land holding of 76000.00 m2, with an internal floor area of 56.00. Location Enjoy living in a convenient location with this Condo for sale. If you would like to know more about this property, send an email to the agent by clicking \"Enquire\" or \"Email Agent\" buttons, or click the phone icon to reveal the agent's number to make a call. Alternatively, you can save this property and revisit it later.",
         "https://www.realestate.com.kh/248489/",
         "en",
         "11.537783",
         "104.920232"
        ],
        [
         "4",
         "810.0",
         "235239.0",
         "Land in front of Eden Garden inside Phnom Penh City Center for Sale  ( ??????)",
         "$276,264,450",
         null,
         null,
         null,
         "55811.0",
         "https://images.realestate.com.kh/__sized__/listings/2023-08/637f8b9d-3066-4280-a13b-70c3f9011535-thumbnail-750x562-70.jpeg",
         "['https://images.realestate.com.kh/__sized__/listings/2023-08/637f8b9d-3066-4280-a13b-70c3f9011535-thumbnail-400x300-70.jpeg', 'https://images.realestate.com.kh/__sized__/listings/2023-08/f5c92d41-7826-48f1-8fce-655f211fac8d-thumbnail-400x300-70.jpeg', 'https://images.realestate.com.kh/__sized__/listings/2023-08/f631d684-8db8-4c0e-a24a-08223eab0cb7-thumbnail-400x300-70.jpeg']",
         "[104.90861327422613, 11.57920231806228]",
         "Phnom Penh",
         "Daun Penh",
         "Srah Chak",
         "  ",
         "Land/Development",
         "False",
         "residential",
         "Land in front of Eden Garden for Sales Size: 55811 m2 Width: 166m Depth: 335 m Price: 4xxx/m2 Ownership Type: Hard Title Location: land located in front of Eden Garden and View Park inside the Phnom Penh City Center. This land is suitable for constructing an apartment complex, hotel, shopping mall, skyscraper, office building, and other commercial endeavors. Map: https://goo.gl/maps/oDS7UbiFvqonVEsn9 #PPCC #phnompenhcitycenter #land #sale #bussinesdistrict #Edengarden #??? #?????? PCC #phnompenhpenhcitycenter #land #sale #bussinesdistrict #Edengarden #??? #??????? #??????????? #?????? #????????? #?????? #Boeungkak #land",
         "https://www.realestate.com.kh/235239/",
         "en",
         "11.57920232",
         "104.9086133"
        ]
       ],
       "shape": {
        "columns": 23,
        "rows": 5
       }
      },
      "text/html": [
       "<div>\n",
       "<style scoped>\n",
       "    .dataframe tbody tr th:only-of-type {\n",
       "        vertical-align: middle;\n",
       "    }\n",
       "\n",
       "    .dataframe tbody tr th {\n",
       "        vertical-align: top;\n",
       "    }\n",
       "\n",
       "    .dataframe thead th {\n",
       "        text-align: right;\n",
       "    }\n",
       "</style>\n",
       "<table border=\"1\" class=\"dataframe\">\n",
       "  <thead>\n",
       "    <tr style=\"text-align: right;\">\n",
       "      <th></th>\n",
       "      <th>Unnamed: 0</th>\n",
       "      <th>id</th>\n",
       "      <th>headline</th>\n",
       "      <th>price_display</th>\n",
       "      <th>rent_display</th>\n",
       "      <th>bedrooms</th>\n",
       "      <th>bathrooms</th>\n",
       "      <th>land_area</th>\n",
       "      <th>thumbnail_url</th>\n",
       "      <th>thumbnail_urls</th>\n",
       "      <th>...</th>\n",
       "      <th>address_line_2</th>\n",
       "      <th>address_line_1</th>\n",
       "      <th>category_name</th>\n",
       "      <th>is_parent</th>\n",
       "      <th>type</th>\n",
       "      <th>information</th>\n",
       "      <th>source_url</th>\n",
       "      <th>language</th>\n",
       "      <th>latitude</th>\n",
       "      <th>longitude</th>\n",
       "    </tr>\n",
       "  </thead>\n",
       "  <tbody>\n",
       "    <tr>\n",
       "      <th>0</th>\n",
       "      <td>116.0</td>\n",
       "      <td>235560.0</td>\n",
       "      <td>Link house for sale</td>\n",
       "      <td>$114,000</td>\n",
       "      <td>NaN</td>\n",
       "      <td>4.0</td>\n",
       "      <td>5.0</td>\n",
       "      <td>71.4</td>\n",
       "      <td>https://images.realestate.com.kh/__sized__/lis...</td>\n",
       "      <td>['https://images.realestate.com.kh/__sized__/l...</td>\n",
       "      <td>...</td>\n",
       "      <td>Preaek Lieb</td>\n",
       "      <td></td>\n",
       "      <td>Unit</td>\n",
       "      <td>False</td>\n",
       "      <td>residential</td>\n",
       "      <td>- Address: Commune Preaek Lieb, District Chroy...</td>\n",
       "      <td>https://www.realestate.com.kh/235560/</td>\n",
       "      <td>en</td>\n",
       "      <td>11.589674</td>\n",
       "      <td>104.925654</td>\n",
       "    </tr>\n",
       "    <tr>\n",
       "      <th>1</th>\n",
       "      <td>2279.0</td>\n",
       "      <td>248374.0</td>\n",
       "      <td>Land for Sale</td>\n",
       "      <td>$1,800.0/mÂ²</td>\n",
       "      <td>NaN</td>\n",
       "      <td>NaN</td>\n",
       "      <td>NaN</td>\n",
       "      <td>104635.0</td>\n",
       "      <td>https://images.realestate.com.kh/__sized__/lis...</td>\n",
       "      <td>['https://images.realestate.com.kh/__sized__/l...</td>\n",
       "      <td>...</td>\n",
       "      <td>Tuol Sangkae 1</td>\n",
       "      <td>273 273</td>\n",
       "      <td>Land/Development</td>\n",
       "      <td>False</td>\n",
       "      <td>residential</td>\n",
       "      <td>Land Located at Tuol Kok Village, Sangkat Tuol...</td>\n",
       "      <td>https://www.realestate.com.kh/248374/</td>\n",
       "      <td>en</td>\n",
       "      <td>11.587810</td>\n",
       "      <td>104.902234</td>\n",
       "    </tr>\n",
       "    <tr>\n",
       "      <th>2</th>\n",
       "      <td>3874.0</td>\n",
       "      <td>248290.0</td>\n",
       "      <td>&lt;b&gt;Development Land For Sales (National Road 3...</td>\n",
       "      <td>$700.0/mÂ²</td>\n",
       "      <td>$1.5/mÂ²</td>\n",
       "      <td>NaN</td>\n",
       "      <td>NaN</td>\n",
       "      <td>84000.0</td>\n",
       "      <td>https://images.realestate.com.kh/__sized__/lis...</td>\n",
       "      <td>['https://images.realestate.com.kh/__sized__/l...</td>\n",
       "      <td>...</td>\n",
       "      <td>Kantaok</td>\n",
       "      <td>N3 N3</td>\n",
       "      <td>Land/Development</td>\n",
       "      <td>False</td>\n",
       "      <td>residential</td>\n",
       "      <td>Land for Sale or Rent on Road N3 Main Road - H...</td>\n",
       "      <td>https://www.realestate.com.kh/248290/</td>\n",
       "      <td>en</td>\n",
       "      <td>11.537783</td>\n",
       "      <td>104.920232</td>\n",
       "    </tr>\n",
       "    <tr>\n",
       "      <th>3</th>\n",
       "      <td>3788.0</td>\n",
       "      <td>248489.0</td>\n",
       "      <td>?????????????????? ??? Urban Village Phase 2 ?...</td>\n",
       "      <td>$90,000</td>\n",
       "      <td>NaN</td>\n",
       "      <td>1.0</td>\n",
       "      <td>1.0</td>\n",
       "      <td>76000.0</td>\n",
       "      <td>https://images.realestate.com.kh/__sized__/lis...</td>\n",
       "      <td>['https://images.realestate.com.kh/__sized__/l...</td>\n",
       "      <td>...</td>\n",
       "      <td>Chak Angrae Leu</td>\n",
       "      <td></td>\n",
       "      <td>Condo</td>\n",
       "      <td>False</td>\n",
       "      <td>residential</td>\n",
       "      <td>Condo for sale in Chak Angrae Leu, Meanchey, P...</td>\n",
       "      <td>https://www.realestate.com.kh/248489/</td>\n",
       "      <td>en</td>\n",
       "      <td>11.537783</td>\n",
       "      <td>104.920232</td>\n",
       "    </tr>\n",
       "    <tr>\n",
       "      <th>4</th>\n",
       "      <td>810.0</td>\n",
       "      <td>235239.0</td>\n",
       "      <td>Land in front of Eden Garden inside Phnom Penh...</td>\n",
       "      <td>$276,264,450</td>\n",
       "      <td>NaN</td>\n",
       "      <td>NaN</td>\n",
       "      <td>NaN</td>\n",
       "      <td>55811.0</td>\n",
       "      <td>https://images.realestate.com.kh/__sized__/lis...</td>\n",
       "      <td>['https://images.realestate.com.kh/__sized__/l...</td>\n",
       "      <td>...</td>\n",
       "      <td>Srah Chak</td>\n",
       "      <td></td>\n",
       "      <td>Land/Development</td>\n",
       "      <td>False</td>\n",
       "      <td>residential</td>\n",
       "      <td>Land in front of Eden Garden for Sales Size: 5...</td>\n",
       "      <td>https://www.realestate.com.kh/235239/</td>\n",
       "      <td>en</td>\n",
       "      <td>11.579202</td>\n",
       "      <td>104.908613</td>\n",
       "    </tr>\n",
       "  </tbody>\n",
       "</table>\n",
       "<p>5 rows × 23 columns</p>\n",
       "</div>"
      ],
      "text/plain": [
       "   Unnamed: 0        id                                           headline  \\\n",
       "0       116.0  235560.0                               Link house for sale    \n",
       "1      2279.0  248374.0                                      Land for Sale   \n",
       "2      3874.0  248290.0  <b>Development Land For Sales (National Road 3...   \n",
       "3      3788.0  248489.0  ?????????????????? ??? Urban Village Phase 2 ?...   \n",
       "4       810.0  235239.0  Land in front of Eden Garden inside Phnom Penh...   \n",
       "\n",
       "  price_display rent_display  bedrooms  bathrooms  land_area  \\\n",
       "0      $114,000          NaN       4.0        5.0       71.4   \n",
       "1  $1,800.0/mÂ²          NaN       NaN        NaN   104635.0   \n",
       "2    $700.0/mÂ²     $1.5/mÂ²       NaN        NaN    84000.0   \n",
       "3       $90,000          NaN       1.0        1.0    76000.0   \n",
       "4  $276,264,450          NaN       NaN        NaN    55811.0   \n",
       "\n",
       "                                       thumbnail_url  \\\n",
       "0  https://images.realestate.com.kh/__sized__/lis...   \n",
       "1  https://images.realestate.com.kh/__sized__/lis...   \n",
       "2  https://images.realestate.com.kh/__sized__/lis...   \n",
       "3  https://images.realestate.com.kh/__sized__/lis...   \n",
       "4  https://images.realestate.com.kh/__sized__/lis...   \n",
       "\n",
       "                                      thumbnail_urls  ...   address_line_2  \\\n",
       "0  ['https://images.realestate.com.kh/__sized__/l...  ...      Preaek Lieb   \n",
       "1  ['https://images.realestate.com.kh/__sized__/l...  ...   Tuol Sangkae 1   \n",
       "2  ['https://images.realestate.com.kh/__sized__/l...  ...          Kantaok   \n",
       "3  ['https://images.realestate.com.kh/__sized__/l...  ...  Chak Angrae Leu   \n",
       "4  ['https://images.realestate.com.kh/__sized__/l...  ...        Srah Chak   \n",
       "\n",
       "  address_line_1     category_name is_parent         type  \\\n",
       "0                             Unit     False  residential   \n",
       "1        273 273  Land/Development     False  residential   \n",
       "2          N3 N3  Land/Development     False  residential   \n",
       "3                            Condo     False  residential   \n",
       "4                 Land/Development     False  residential   \n",
       "\n",
       "                                         information  \\\n",
       "0  - Address: Commune Preaek Lieb, District Chroy...   \n",
       "1  Land Located at Tuol Kok Village, Sangkat Tuol...   \n",
       "2  Land for Sale or Rent on Road N3 Main Road - H...   \n",
       "3  Condo for sale in Chak Angrae Leu, Meanchey, P...   \n",
       "4  Land in front of Eden Garden for Sales Size: 5...   \n",
       "\n",
       "                              source_url language   latitude   longitude  \n",
       "0  https://www.realestate.com.kh/235560/       en  11.589674  104.925654  \n",
       "1  https://www.realestate.com.kh/248374/       en  11.587810  104.902234  \n",
       "2  https://www.realestate.com.kh/248290/       en  11.537783  104.920232  \n",
       "3  https://www.realestate.com.kh/248489/       en  11.537783  104.920232  \n",
       "4  https://www.realestate.com.kh/235239/       en  11.579202  104.908613  \n",
       "\n",
       "[5 rows x 23 columns]"
      ]
     },
     "execution_count": 12,
     "metadata": {},
     "output_type": "execute_result"
    }
   ],
   "source": [
    "df.head()"
   ]
  },
  {
   "cell_type": "code",
   "execution_count": 13,
   "id": "85d91325",
   "metadata": {},
   "outputs": [
    {
     "data": {
      "application/vnd.microsoft.datawrangler.viewer.v0+json": {
       "columns": [
        {
         "name": "index",
         "rawType": "object",
         "type": "string"
        },
        {
         "name": "0",
         "rawType": "int64",
         "type": "integer"
        }
       ],
       "ref": "39ffc8f0-e89a-46da-9d30-4c13963ee47c",
       "rows": [
        [
         "Unnamed: 0",
         "2"
        ],
        [
         "id",
         "1"
        ],
        [
         "headline",
         "1"
        ],
        [
         "price_display",
         "16"
        ],
        [
         "rent_display",
         "3513"
        ],
        [
         "bedrooms",
         "943"
        ],
        [
         "bathrooms",
         "950"
        ],
        [
         "land_area",
         "615"
        ],
        [
         "thumbnail_url",
         "2"
        ],
        [
         "thumbnail_urls",
         "2"
        ],
        [
         "location",
         "2"
        ],
        [
         "address_subdivision",
         "2"
        ],
        [
         "address_locality",
         "2"
        ],
        [
         "address_line_2",
         "12"
        ],
        [
         "address_line_1",
         "149"
        ],
        [
         "category_name",
         "2"
        ],
        [
         "is_parent",
         "3"
        ],
        [
         "type",
         "2"
        ],
        [
         "information",
         "39"
        ],
        [
         "source_url",
         "2"
        ],
        [
         "language",
         "2"
        ],
        [
         "latitude",
         "2"
        ],
        [
         "longitude",
         "3"
        ]
       ],
       "shape": {
        "columns": 1,
        "rows": 23
       }
      },
      "text/plain": [
       "Unnamed: 0                2\n",
       "id                        1\n",
       "headline                  1\n",
       "price_display            16\n",
       "rent_display           3513\n",
       "bedrooms                943\n",
       "bathrooms               950\n",
       "land_area               615\n",
       "thumbnail_url             2\n",
       "thumbnail_urls            2\n",
       "location                  2\n",
       "address_subdivision       2\n",
       "address_locality          2\n",
       "address_line_2           12\n",
       "address_line_1          149\n",
       "category_name             2\n",
       "is_parent                 3\n",
       "type                      2\n",
       "information              39\n",
       "source_url                2\n",
       "language                  2\n",
       "latitude                  2\n",
       "longitude                 3\n",
       "dtype: int64"
      ]
     },
     "execution_count": 13,
     "metadata": {},
     "output_type": "execute_result"
    }
   ],
   "source": [
    "df.isnull().sum()"
   ]
  },
  {
   "cell_type": "code",
   "execution_count": 14,
   "id": "8ec947d3",
   "metadata": {},
   "outputs": [],
   "source": [
    "df.drop(columns=['Unnamed: 0', \n",
    "                      'rent_display', \n",
    "                      'thumbnail_url', \n",
    "                      'thumbnail_urls', \n",
    "                      'location', \n",
    "                      'source_url',\n",
    "                      'language'], inplace=True)"
   ]
  },
  {
   "cell_type": "code",
   "execution_count": 15,
   "id": "b14c0f77",
   "metadata": {},
   "outputs": [
    {
     "data": {
      "application/vnd.microsoft.datawrangler.viewer.v0+json": {
       "columns": [
        {
         "name": "index",
         "rawType": "int64",
         "type": "integer"
        },
        {
         "name": "id",
         "rawType": "float64",
         "type": "float"
        },
        {
         "name": "headline",
         "rawType": "object",
         "type": "string"
        },
        {
         "name": "price_display",
         "rawType": "object",
         "type": "string"
        },
        {
         "name": "bedrooms",
         "rawType": "float64",
         "type": "float"
        },
        {
         "name": "bathrooms",
         "rawType": "float64",
         "type": "float"
        },
        {
         "name": "land_area",
         "rawType": "float64",
         "type": "float"
        },
        {
         "name": "address_subdivision",
         "rawType": "object",
         "type": "string"
        },
        {
         "name": "address_locality",
         "rawType": "object",
         "type": "string"
        },
        {
         "name": "address_line_2",
         "rawType": "object",
         "type": "string"
        },
        {
         "name": "address_line_1",
         "rawType": "object",
         "type": "string"
        },
        {
         "name": "category_name",
         "rawType": "object",
         "type": "string"
        },
        {
         "name": "is_parent",
         "rawType": "object",
         "type": "unknown"
        },
        {
         "name": "type",
         "rawType": "object",
         "type": "string"
        },
        {
         "name": "information",
         "rawType": "object",
         "type": "string"
        },
        {
         "name": "latitude",
         "rawType": "float64",
         "type": "float"
        },
        {
         "name": "longitude",
         "rawType": "float64",
         "type": "float"
        }
       ],
       "ref": "4d6e69f5-a1f1-4b67-a2f3-5f0afa7ac94a",
       "rows": [
        [
         "0",
         "235560.0",
         "Link house for sale ",
         "$114,000",
         "4.0",
         "5.0",
         "71.4",
         "Phnom Penh",
         "Chroy Changvar",
         "Preaek Lieb",
         " ",
         "Unit",
         "False",
         "residential",
         "- Address: Commune Preaek Lieb, District Chroy Changva, Phnom Penh - Land area : 4.2m x 17m - Building area : 4.2m x 10m - Room ( s ) : 4 - Floors ( s ) : 2 - Price : $ 114000 - ID :  KEY-16165",
         "11.589674",
         "104.925654"
        ],
        [
         "1",
         "248374.0",
         "Land for Sale",
         "$1,800.0/mÂ²",
         null,
         null,
         "104635.0",
         "Phnom Penh",
         "Russey Keo",
         "Tuol Sangkae 1",
         "273 273",
         "Land/Development",
         "False",
         "residential",
         "Land Located at Tuol Kok Village, Sangkat Tuol Sangkae 1, Khan Russey Keo, Phnom Penh",
         "11.5878099",
         "104.9022337"
        ],
        [
         "2",
         "248290.0",
         "<b>Development Land For Sales (National Road 3)</b>",
         "$700.0/mÂ²",
         null,
         null,
         "84000.0",
         "Phnom Penh",
         "Por Sen Chey",
         "Kantaok",
         "N3 N3",
         "Land/Development",
         "False",
         "residential",
         "Land for Sale or Rent on Road N3 Main Road - Hard Title - Land 8.40hectares - Price for Sale 700$/Sqm - Price for Rent 1.5$/Sqm - Kind of land : Development land - Commercial land",
         "11.537783",
         "104.920232"
        ],
        [
         "3",
         "248489.0",
         "?????????????????? ??? Urban Village Phase 2 ???????",
         "$90,000",
         "1.0",
         "1.0",
         "76000.0",
         "Phnom Penh",
         "Meanchey",
         "Chak Angrae Leu",
         "   ",
         "Condo",
         "False",
         "residential",
         "Condo for sale in Chak Angrae Leu, Meanchey, Phnom Penh at $90,000. Details This Condo has 1 bedroom and 1 bathroom plus parking for 0 cars. The property includes a generous land holding of 76000.00 m2, with an internal floor area of 56.00. Location Enjoy living in a convenient location with this Condo for sale. If you would like to know more about this property, send an email to the agent by clicking \"Enquire\" or \"Email Agent\" buttons, or click the phone icon to reveal the agent's number to make a call. Alternatively, you can save this property and revisit it later.",
         "11.537783",
         "104.920232"
        ],
        [
         "4",
         "235239.0",
         "Land in front of Eden Garden inside Phnom Penh City Center for Sale  ( ??????)",
         "$276,264,450",
         null,
         null,
         "55811.0",
         "Phnom Penh",
         "Daun Penh",
         "Srah Chak",
         "  ",
         "Land/Development",
         "False",
         "residential",
         "Land in front of Eden Garden for Sales Size: 55811 m2 Width: 166m Depth: 335 m Price: 4xxx/m2 Ownership Type: Hard Title Location: land located in front of Eden Garden and View Park inside the Phnom Penh City Center. This land is suitable for constructing an apartment complex, hotel, shopping mall, skyscraper, office building, and other commercial endeavors. Map: https://goo.gl/maps/oDS7UbiFvqonVEsn9 #PPCC #phnompenhcitycenter #land #sale #bussinesdistrict #Edengarden #??? #?????? PCC #phnompenhpenhcitycenter #land #sale #bussinesdistrict #Edengarden #??? #??????? #??????????? #?????? #????????? #?????? #Boeungkak #land",
         "11.57920232",
         "104.9086133"
        ]
       ],
       "shape": {
        "columns": 16,
        "rows": 5
       }
      },
      "text/html": [
       "<div>\n",
       "<style scoped>\n",
       "    .dataframe tbody tr th:only-of-type {\n",
       "        vertical-align: middle;\n",
       "    }\n",
       "\n",
       "    .dataframe tbody tr th {\n",
       "        vertical-align: top;\n",
       "    }\n",
       "\n",
       "    .dataframe thead th {\n",
       "        text-align: right;\n",
       "    }\n",
       "</style>\n",
       "<table border=\"1\" class=\"dataframe\">\n",
       "  <thead>\n",
       "    <tr style=\"text-align: right;\">\n",
       "      <th></th>\n",
       "      <th>id</th>\n",
       "      <th>headline</th>\n",
       "      <th>price_display</th>\n",
       "      <th>bedrooms</th>\n",
       "      <th>bathrooms</th>\n",
       "      <th>land_area</th>\n",
       "      <th>address_subdivision</th>\n",
       "      <th>address_locality</th>\n",
       "      <th>address_line_2</th>\n",
       "      <th>address_line_1</th>\n",
       "      <th>category_name</th>\n",
       "      <th>is_parent</th>\n",
       "      <th>type</th>\n",
       "      <th>information</th>\n",
       "      <th>latitude</th>\n",
       "      <th>longitude</th>\n",
       "    </tr>\n",
       "  </thead>\n",
       "  <tbody>\n",
       "    <tr>\n",
       "      <th>0</th>\n",
       "      <td>235560.0</td>\n",
       "      <td>Link house for sale</td>\n",
       "      <td>$114,000</td>\n",
       "      <td>4.0</td>\n",
       "      <td>5.0</td>\n",
       "      <td>71.4</td>\n",
       "      <td>Phnom Penh</td>\n",
       "      <td>Chroy Changvar</td>\n",
       "      <td>Preaek Lieb</td>\n",
       "      <td></td>\n",
       "      <td>Unit</td>\n",
       "      <td>False</td>\n",
       "      <td>residential</td>\n",
       "      <td>- Address: Commune Preaek Lieb, District Chroy...</td>\n",
       "      <td>11.589674</td>\n",
       "      <td>104.925654</td>\n",
       "    </tr>\n",
       "    <tr>\n",
       "      <th>1</th>\n",
       "      <td>248374.0</td>\n",
       "      <td>Land for Sale</td>\n",
       "      <td>$1,800.0/mÂ²</td>\n",
       "      <td>NaN</td>\n",
       "      <td>NaN</td>\n",
       "      <td>104635.0</td>\n",
       "      <td>Phnom Penh</td>\n",
       "      <td>Russey Keo</td>\n",
       "      <td>Tuol Sangkae 1</td>\n",
       "      <td>273 273</td>\n",
       "      <td>Land/Development</td>\n",
       "      <td>False</td>\n",
       "      <td>residential</td>\n",
       "      <td>Land Located at Tuol Kok Village, Sangkat Tuol...</td>\n",
       "      <td>11.587810</td>\n",
       "      <td>104.902234</td>\n",
       "    </tr>\n",
       "    <tr>\n",
       "      <th>2</th>\n",
       "      <td>248290.0</td>\n",
       "      <td>&lt;b&gt;Development Land For Sales (National Road 3...</td>\n",
       "      <td>$700.0/mÂ²</td>\n",
       "      <td>NaN</td>\n",
       "      <td>NaN</td>\n",
       "      <td>84000.0</td>\n",
       "      <td>Phnom Penh</td>\n",
       "      <td>Por Sen Chey</td>\n",
       "      <td>Kantaok</td>\n",
       "      <td>N3 N3</td>\n",
       "      <td>Land/Development</td>\n",
       "      <td>False</td>\n",
       "      <td>residential</td>\n",
       "      <td>Land for Sale or Rent on Road N3 Main Road - H...</td>\n",
       "      <td>11.537783</td>\n",
       "      <td>104.920232</td>\n",
       "    </tr>\n",
       "    <tr>\n",
       "      <th>3</th>\n",
       "      <td>248489.0</td>\n",
       "      <td>?????????????????? ??? Urban Village Phase 2 ?...</td>\n",
       "      <td>$90,000</td>\n",
       "      <td>1.0</td>\n",
       "      <td>1.0</td>\n",
       "      <td>76000.0</td>\n",
       "      <td>Phnom Penh</td>\n",
       "      <td>Meanchey</td>\n",
       "      <td>Chak Angrae Leu</td>\n",
       "      <td></td>\n",
       "      <td>Condo</td>\n",
       "      <td>False</td>\n",
       "      <td>residential</td>\n",
       "      <td>Condo for sale in Chak Angrae Leu, Meanchey, P...</td>\n",
       "      <td>11.537783</td>\n",
       "      <td>104.920232</td>\n",
       "    </tr>\n",
       "    <tr>\n",
       "      <th>4</th>\n",
       "      <td>235239.0</td>\n",
       "      <td>Land in front of Eden Garden inside Phnom Penh...</td>\n",
       "      <td>$276,264,450</td>\n",
       "      <td>NaN</td>\n",
       "      <td>NaN</td>\n",
       "      <td>55811.0</td>\n",
       "      <td>Phnom Penh</td>\n",
       "      <td>Daun Penh</td>\n",
       "      <td>Srah Chak</td>\n",
       "      <td></td>\n",
       "      <td>Land/Development</td>\n",
       "      <td>False</td>\n",
       "      <td>residential</td>\n",
       "      <td>Land in front of Eden Garden for Sales Size: 5...</td>\n",
       "      <td>11.579202</td>\n",
       "      <td>104.908613</td>\n",
       "    </tr>\n",
       "  </tbody>\n",
       "</table>\n",
       "</div>"
      ],
      "text/plain": [
       "         id                                           headline price_display  \\\n",
       "0  235560.0                               Link house for sale       $114,000   \n",
       "1  248374.0                                      Land for Sale  $1,800.0/mÂ²   \n",
       "2  248290.0  <b>Development Land For Sales (National Road 3...    $700.0/mÂ²   \n",
       "3  248489.0  ?????????????????? ??? Urban Village Phase 2 ?...       $90,000   \n",
       "4  235239.0  Land in front of Eden Garden inside Phnom Penh...  $276,264,450   \n",
       "\n",
       "   bedrooms  bathrooms  land_area address_subdivision address_locality  \\\n",
       "0       4.0        5.0       71.4          Phnom Penh   Chroy Changvar   \n",
       "1       NaN        NaN   104635.0          Phnom Penh       Russey Keo   \n",
       "2       NaN        NaN    84000.0          Phnom Penh     Por Sen Chey   \n",
       "3       1.0        1.0    76000.0          Phnom Penh         Meanchey   \n",
       "4       NaN        NaN    55811.0          Phnom Penh        Daun Penh   \n",
       "\n",
       "    address_line_2 address_line_1     category_name is_parent         type  \\\n",
       "0      Preaek Lieb                             Unit     False  residential   \n",
       "1   Tuol Sangkae 1        273 273  Land/Development     False  residential   \n",
       "2          Kantaok          N3 N3  Land/Development     False  residential   \n",
       "3  Chak Angrae Leu                            Condo     False  residential   \n",
       "4        Srah Chak                 Land/Development     False  residential   \n",
       "\n",
       "                                         information   latitude   longitude  \n",
       "0  - Address: Commune Preaek Lieb, District Chroy...  11.589674  104.925654  \n",
       "1  Land Located at Tuol Kok Village, Sangkat Tuol...  11.587810  104.902234  \n",
       "2  Land for Sale or Rent on Road N3 Main Road - H...  11.537783  104.920232  \n",
       "3  Condo for sale in Chak Angrae Leu, Meanchey, P...  11.537783  104.920232  \n",
       "4  Land in front of Eden Garden for Sales Size: 5...  11.579202  104.908613  "
      ]
     },
     "execution_count": 15,
     "metadata": {},
     "output_type": "execute_result"
    }
   ],
   "source": [
    "df.head()"
   ]
  },
  {
   "cell_type": "code",
   "execution_count": 16,
   "id": "9ccb8f30",
   "metadata": {},
   "outputs": [
    {
     "data": {
      "application/vnd.microsoft.datawrangler.viewer.v0+json": {
       "columns": [
        {
         "name": "index",
         "rawType": "object",
         "type": "string"
        },
        {
         "name": "0",
         "rawType": "int64",
         "type": "integer"
        }
       ],
       "ref": "8488795a-db96-42b5-8879-c090284cba74",
       "rows": [
        [
         "id",
         "1"
        ],
        [
         "headline",
         "1"
        ],
        [
         "price_display",
         "16"
        ],
        [
         "bedrooms",
         "943"
        ],
        [
         "bathrooms",
         "950"
        ],
        [
         "land_area",
         "615"
        ],
        [
         "address_subdivision",
         "2"
        ],
        [
         "address_locality",
         "2"
        ],
        [
         "address_line_2",
         "12"
        ],
        [
         "address_line_1",
         "149"
        ],
        [
         "category_name",
         "2"
        ],
        [
         "is_parent",
         "3"
        ],
        [
         "type",
         "2"
        ],
        [
         "information",
         "39"
        ],
        [
         "latitude",
         "2"
        ],
        [
         "longitude",
         "3"
        ]
       ],
       "shape": {
        "columns": 1,
        "rows": 16
       }
      },
      "text/plain": [
       "id                       1\n",
       "headline                 1\n",
       "price_display           16\n",
       "bedrooms               943\n",
       "bathrooms              950\n",
       "land_area              615\n",
       "address_subdivision      2\n",
       "address_locality         2\n",
       "address_line_2          12\n",
       "address_line_1         149\n",
       "category_name            2\n",
       "is_parent                3\n",
       "type                     2\n",
       "information             39\n",
       "latitude                 2\n",
       "longitude                3\n",
       "dtype: int64"
      ]
     },
     "execution_count": 16,
     "metadata": {},
     "output_type": "execute_result"
    }
   ],
   "source": [
    "df.isnull().sum()"
   ]
  },
  {
   "cell_type": "code",
   "execution_count": null,
   "id": "d6ec344f",
   "metadata": {},
   "outputs": [],
   "source": [
    "# df.to_csv('../../data/processed/realestates_kh_v2_3_1.csv', index=False, encoding='latin1')"
   ]
  },
  {
   "cell_type": "code",
   "execution_count": 18,
   "id": "74c341b9",
   "metadata": {},
   "outputs": [
    {
     "data": {
      "application/vnd.microsoft.datawrangler.viewer.v0+json": {
       "columns": [
        {
         "name": "index",
         "rawType": "int64",
         "type": "integer"
        },
        {
         "name": "land_area",
         "rawType": "float64",
         "type": "float"
        },
        {
         "name": "price_display",
         "rawType": "object",
         "type": "unknown"
        },
        {
         "name": "information",
         "rawType": "object",
         "type": "unknown"
        }
       ],
       "ref": "d7c3b8d7-98fb-454c-9d27-f23f65d1a515",
       "rows": [
        [
         "3498",
         null,
         "$3,000/mÂ²",
         "Town House For Sale Near Somnornng Market /T'S HOME Real Estate Phnom Penh ??Property ID : TS-159 ??Room Type: 4 Bedroom ??Bathroom : 3 ?? Price : 480,000USD ?? Land Size : 80? ?? House Size : 64? Location : Toul Kork Area"
        ],
        [
         "3499",
         null,
         "$86,000",
         "There are 3 bedrooms, 1 living room and 4 bathrooms, 5m wide, 13m long, located in Khan Prek Phnov"
        ],
        [
         "3500",
         null,
         "$34,000",
         "Condo for sale Property code: ACD24-029 Price: 34,000$ (Can negotiation) Floor Floor: 13F Gross size Common area: 20.6mÂ² Net size Interior area: 14.52mÂ² Property type Listing type: Studio room Bathroom Bathroom: 1 Location Address: Tuol Kouk district, Phnom Penh"
        ],
        [
         "3501",
         null,
         "$58,847",
         "Condo for sale Property code: ACD23-060 Price Price: 58,847$ (Can negotiation) Floor Floor: 13F Gross size Common area: 25.72m2 Property type Listing type: Studio room Bathroom Bathroom: 1 Location Address: Tuol Kouk district, Phnom Penh"
        ],
        [
         "3502",
         null,
         "$230,000",
         "House for Sale Near National Museum in Daun Penh, Phnom Penh./TÂS HOME Real Estate Phnom Penh. - Price : 230,000$ (Negotiable) - House Size: 4m Ã 28m = 28? - Bedroom  : 2 - Bathroom : 2"
        ],
        [
         "3503",
         null,
         "$56,000",
         "This studio condo for sale features a mezzanine bedroom area and a refreshing cityscape view from floor-to-ceiling windows. It measures 28 sqm., a space-efficient and stylish city abode perfect for personal use or investment for rental income. It includes a straight kitchen with built-in sink and exhaust into the utility counter, and a brilliantly lit interior courtesy of the huge windows. The en suite bathroom is located close to the kitchen, while the designated bedroom area gets plenty of privacy on the mezzanine level, where youÂll find attached shelving and cabinets. ItÂs a great space for exercising minimalist living, whether the buyer intends to live here. It could also be an eye-catching accommodation offered AirBNB style. Found in Royal Park Condo, tenants and owners can also enjoy access to a rooftop infinity pool and well-equipped gym. It is located in Boeung Kak 1, Toul Kork, Phnom Penh, four (4) minutes from TK Avenue Mall, the Singapore International Academy, and Samaki Market, seven (7) minutes from the Royal University of Phnom Penh (RUPP) Campus 2, the Olympia Mall, and the Old Stadium, and 12 minutes from the Royal Palace, the Russian Market, and Phnom Penh International Airport."
        ],
        [
         "3504",
         null,
         "$1,500,000",
         "- Address: Commune Boeng Keng Kang I, District Boeng Keng Kang , Phnom Penh - Land area :  4m x 7m - Built up area : 4m x 5.5m - Floors ( s ) : 5 - Price : $1,500,000"
        ],
        [
         "3505",
         null,
         "$200,000",
         "Information About The Property | Property Information - For Sale: $ 200,000 (Negotiable) | Selling at: $ 200,000 (Negotiable) - Property Size: 29 Square Meters | Size: 29 square meters - Near Sisowath High School | Near Sisowath High School - 650 M to Seaa Shopping Center | Distance 650 M to Sorya Shopping Center - 1.5 km to royal palace | 1.5 km away to the Royal Palace - Easy to operate a Business A Business | Easy to do business - Easy to Rent Out | Easy Rent - Located in The Middle of the City | Location in Central City - Hard Title deed | There is a hard layout for More Information Please Contact: For more information, please contact:"
        ],
        [
         "3506",
         null,
         "$85,000",
         "There are 3 floors 2 bedrooms, 2 bathrooms can put up 4 * 4 bedrooms: Road 117 Today: Boeung Kang Pir, Boeng Kang Penh"
        ],
        [
         "3507",
         null,
         "$450,000",
         "I have a business house, I want to sell a house size 5x18, the rest of the back is 6 meters, the front is 7 meters, the rest is on the side, the hanger is 7 shirts, the price is 45 thousand, negotiable, if you are interested"
        ],
        [
         "3508",
         null,
         "$150,000",
         "1-3Bedroom Apartment for Sale-Boueng Keng Kang I (BKK1) ,Rentex is proud to present this stunning property located in the Phnom Penh Neighborhood of Chomkamon , This property is available for lease and is suitable for professionals looking to stay close to the center of Phnom Penh in a prestigious location. Properties Code : 1109 1Bedroom : $150000-$200000 2Bedroom : $250000-$310000 3Bedroom : $850000-$500000 Features include: -Wifi & Cable Tv -Kitchen -Living-room -Washing Machine -24H/Security -Sofa -Fridge Exclude Service: Â Gym Pool Steam Suana : 10$/1year( 1person ) Â Water Supply : 0.35$/khw Â Electricity : 0.25$/1khw"
        ],
        [
         "3509",
         null,
         "$53,000",
         "One Bedroom Condominium For Sale or Rent (Distance 2 Minutes From Boeung Trabek Plaza) Selling Price: $53,000 (negotiable) Rental Price: $380/month Property ID: S-C390 - Bedroom - Bathroom - Balcony - Kitchen - Living Room *Fully Furnished Services Excluded: - Motor Parking - Security 24h *Strata Title Transfer ??LOCATION: Boeung Trabek Area"
        ],
        [
         "3510",
         null,
         "$395,000",
         "This is the Terrace for rent Located in Phnom Penh, Sen Sok Would Like to Schedule Blue Contact The Agent Using The Inquiry Form Or By Starting a Live Chat Chat on the Agent. - The Twin Villa for Sale & Rent (Borey Phnom Third 598) (Negotiable) - House Size: Size: Be the kind of comfortable lifestyle and good ventilation of the comfort and good security."
        ],
        [
         "3511",
         null,
         "$380,000",
         "This 2 bedroom apartment in Daun Penh is now for sale or rent. The large historic renovated 1918 French colonial flat juxtaposes a historic look with clean, modern lines, soaring high ceilings, exposed brick, softwood floors throughout, and a prime location one block from the Mekong River. It is walking distance to tons of cafes, restaurants, and shops nearby. The full-floor flat is one floor above street level with safe street-front access. It is one of the few historic buildings remaining in the city. An open design kitchen is equipped with a cooker on a huge island and fully integrated into a cavernously large front living space. It has large distinct dining and living areas, but without the walls. Clean, well-lit and private entry stairway shared only with one neighbor. It also has a parking area for motorbikes, bikes, and strollers. Light and huge windows on three sides of the house, huge arched windows with historic lines, and double French-style doors overlooking the street. The property also comes with a hard title."
        ],
        [
         "3512",
         null,
         "$4,000,000",
         "Â Contact me : phone, whatsapp, Line, Telegram or email. Â Receive detailed information and fix your appointment with our agent today! MORE DETAILS: Update listing villa for rent and sell in BKK1 Rental price: $10,000 Sell price: 4,000,000 Contract: 3 year deposits 4 Land size: 18X 28 Building size : 16x 18 Fully furnished"
        ],
        [
         "3513",
         null,
         "$81,000",
         "Condominium. 1 bedroom for sale in Toul Songkae area, Phnom Penh. Price: $81,000 Location: Toul Songkae area Just 5 Minutes to AEON and Makro 1 Bedroom 1 Bedroom 1 Living room 1 Kitchen 1 Balcony Partial Furnished Building facilities Gym Swimming Pool Stream and Sauna Parking space 24 hour security"
        ],
        [
         "3514",
         null,
         "$145,000",
         "???????? ???????????? ! ???????? ???????????? ?? ?????? ???????? ???????? | $??????,?????? | ?????? ?????????? - Ready to Move-In - On 12th Floor - Facilities has Rooftop Fitness gym and Swimming pool, Lift and Car Park. - Located in Toul Kok area ?? Map: https://goo.gl/maps/NuhB9PFGc1EwXhSF8 ???????? ???????? ????????????:"
        ],
        [
         "3515",
         null,
         "$320,000",
         "Rental price: 1000$ fully furnished Sale price: 320.000$ includes transfer hard titles 4 bed 5 bath"
        ],
        [
         "3516",
         null,
         "$110,000",
         "What this property lacks in parking, it more than makes up for in style, comfort, and functionality. It is located on the third floor of a twin villa and is now offered for sale at a negotiable price. Upon entering, you will find a more-or-less plain interior livened up by splashes of aquamarine, mostly in the staircase (which doubles as a shelf and television stand) and kitchen counter. The blue sofa set and TV are included in the sale, so the buyer will definitely enjoy the same aesthetics. Meanwhile, the kitchen has contrasting accents of black on the countertop and bench cushions. It is likewise fully equipped with a refrigerator, sink, microwave oven, and cooker with exhaust. Beyond, you will find the first bedroom which has a wide window for lots of sunlight and good ventilation. The second bedroom is located on the loft. It is more spacious than the first and features a uniquely designed attached bathroom that maximizes space and efficiency. It is also from the loft area that one can access the hind balcony: a quaint lounge or mini tea area where you can also tend a simple garden. As it is accessible from an external, third-floor entrance, you will also have a front view of the surrounding street/neighborhood. This property is a mere five (5) minutes from ABA Bank, Lucky Supermarket, Pet Chen Pharmacy, and Central Hospital, and eight (8) minutes from Wat Phnom, the National University of Management, the Phnom Penh Night Market, the National Library, and Vattanac Capital."
        ],
        [
         "3517",
         null,
         "$189,000",
         "This condominium standing in good located at J Tower 2 Condominium within Sangkat Boeng Keng KangI (BKKI), Khan Boeng Keng Kang, Phnom Penh City Â Unit size: 65 Sq.m Â Floors: On 15th floors Â 2 Bedrooms | 2 Bathroom Â Nice Kitchen | Nice Dining place Â Fully Furnished, swimming pool and gym Asking price for sale is $189,000 negotiable For more information, please contact us now to visiting"
        ],
        [
         "3518",
         null,
         "$190,000",
         "2 bedrooms in corner to turn to Olympia City priced from the Olympia City costs in Cambodia $ 190,000 offers in Telegram: 2 Bedegrom Urgent Resale Unit FROM Olympia City Condo At C1 Tower Urgent Slee Under Under Details Contacts: WhatsApp, Line, Telegram"
        ],
        [
         "3519",
         null,
         "$349,900",
         "Business Home (SH), Lat Sok Sok, Sen Sok district, in terms of $ 349 m *: east. Faciliaries => Banking for 20 years of banking can also be required to pay 30% of home prices in advance."
        ],
        [
         "3520",
         null,
         "$380,000",
         "# Flat for Sale + Location near Tukum Pool + $ 370,000 (?, ?, ?, ? (E ?, E Â¹) + orientation + Income + Income + GR --0089 Location Google Maps: https://goo.gl/maps/un1qmljifyk8vnx68 For more information | For more info .: ?? Contact us by: (Telegram) (kh-kr-engine), Telegram, email: ?? If you need to rent or buy condominiums, apartments, soils, etc. We are seeking free through GC Realty specialties in trading services"
        ],
        [
         "3521",
         null,
         "$1,390/mÂ²",
         "De Castle, the most renowned developer in Cambodia, has finally released 12 upgraded condo units of De Castle Noblesse, the best condominium in Toul Kork, Phnom Penh. What is truly astounding is its pricing at only $1,390 per sqm, which is around half the price of current condo prices in the area. On top of this, there are more to surprises for you. First, for this release of 12 new units, De Castle is providing luxury furnishing customization worth more than $14,000 through Ethan Allen, the most luxurious furniture shop in Cambodia. Secondly, for this release of 12 new units, the De Castle team is providing free unit interior upgrades worth more than $10,000. Remember, a full show unit is ready for your viewing. Some say you canÂt have luxury and affordability at the same time. De Castle Noblesse proves that wrong. Condos here are some of the best you will find in Phnom Penh. The sleek designs offer everything an urban elite is looking for. WhatÂs more, the complex is in Toul Kork, one of the hottest areas of the capital right now. These units are strata titled so you can own your home easily. On the other hand, you can rent them out right away and boost your income. First of all, driving up to the building you will notice the road is wonderful. Access to the rest of the city is simple at De Castle Noblesse. Getting to the CBD is a breeze. Aeon 2 and Makro markets are just around the corner. Anything you could want is on offer in Toul Kork. Every type of unit has a smart design. There are three bedrooms and three bathrooms across a total area of over 200 square metres. These houses truly feel like homes. International schools, banks, shops and restaurants are all right outside your door. Prices start at just $1,390 per square metre. The buildingÂs amenities are second to none. ThereÂs a massive car park, pool, fitness centre, full-service cleaning, smart locks, full security and much more. ThereÂs even a beauty shop! Spanning 15 floors and boasting 88 luxury units, De Castle can be the property of your dreams. The condos have three bedrooms and three bathrooms so they are perfect for families. Get your family into a home that is comfortable and luxurious."
        ],
        [
         "3522",
         null,
         "$195,000",
         "This renovated apartment for sale is located within walking distance of the Royal Palace on the popular street 240 in the Daun Penh district of Phnom Penh. The apartment is on the 1st and 2nd floor and comes with one good sized bedroom and two bathrooms. There is a modern kitchen and the bathrooms have been upgraded also. There are two private terraces, one to the front and a larger one to the rear. This property comes with a soft title and secure parking for both cars and motos are available close by."
        ],
        [
         "3523",
         null,
         "$368,000",
         "Emergency land and launches are located in Kobak, Khlarang, Pochardong Village, 17.5,000 square meters to build up in a well-built-in building."
        ],
        [
         "3524",
         null,
         "$810,000",
         "For owner occupiers and savvy investors, this property represents quality of life and a fantastic investment opportunity. Here is your chance to secure a condominium in a prime residence of the highly-developed BKK1, a perfect spot for exploring the heart and soul of the city, within close proximity to markets, convenience stores, shops, schools, and high-end hotels and restaurants. The layout of this light-filled, spacious unit features 3 bedrooms, 4 bathrooms and a free-flowing, open plan space that accommodates the living area, dining and kitchen. The heart of the kitchen is the spectacular island countertop which serves as both workbench and breakfast bar, alongside the storage cabinetry. If you love to entertain, the open layout provides enough space for food prep in the kitchen, alongside friends enjoying drinks and a cheese plate in the dining, or family members watching in the living area. For relaxation and catching a fresh breeze of air and natural heat of sun, step outside to the balcony and enjoy breathtaking panoramic cityscape. Amenities are available in this condominium including an indoor swimming pool, a multi-functional room, kidÂs room, sky gardens and a fitness center. A realistic price for this quality of lifestyle and location, be the first to view this unit!"
        ],
        [
         "3525",
         null,
         "$180,000",
         "Located near Central Market, this renovated duplex apartment is surely a catch! It has 3 bedrooms, 3 bathrooms, spacious living room and a well-designed kitchen. The apartment is located on the 3rd floor with a well-maintained shared entrance. The property also comes with private indoor Jacuzzi and fish pond! This is a good property that can be used for living or short/long term rental investment."
        ],
        [
         "3526",
         null,
         "$149,000",
         "For Sale 2 BedroomÂ1 Bathroom High Quality Condo: 18th floor, Area 75.69 sq.m R&F Garden City Complex Phnom Penh Cambodia Fully Furnished ready to move in Everything provided with Hard Title $149,000: Brand new 2 bedroom Condo for sale with all quality furniture and accessories Including: All light fittings, 2 X TVs 1- 49 inch, 1- 60 inch Samsung Smart TV wall mounted with sound bar, TV cabinet, Refrigerator, Washing machine, cable network, blackout curtains, rice cooker, air fryer, small oven, upgraded shower system, personal fitness equipment, cookware, quality cutlery, full size 1.8mX2m beds, security safe, rugs and other fixtures. Residents enjoy a world-class gymnasium, outdoor tennis court, snooker room, mahjong rooms, indoor golf practice facility, huge swimming pool, exterior and interior entertainment areas, indoor basketball, badminton and table tennis courts. 7/24 hour security service is also provided. Supermarkets, Hair dresser, Restaurants are included in the condo complex. Residents have access to 3 elevators in the apartment tower as well as a mailbox. There are 3 air-conditioned units in the unit, (lounge, master bedroom and second bedroom). Data communication and video intercom system are also installed. The property is covered by a comprehensive CCTV security system as well as a fire protection system including smoke sensors. This apartment is ready for you to move into now, whether buying or renting, personal items and food are the only things you need to bring with you. Close to new and upcoming construction projects nearing completion, Chip Mong Mega Mall (now open), : Aeon3 Shopping Mall  (Opening soon), PH Eco Mall, New International Airport, Borey Chip Mong, Borey Peng Huot, close to shops Restaurants and Embassies. You are most welcome to Inspect by appointment only."
        ],
        [
         "3527",
         null,
         "$139,000",
         "LC2 hybrid villa for sale The rest of the house is 1.5m - 1 kitchen. - Price: $ 139,000 (Negotiable) - There are 2 Odd) - 2 Odds, 2 OSC 2, 1 OSK 2, 1 Full Full Furniture (all), all floors. * A safe regional security area is 24 hours of security near the main park there is a large gym. More info can contact"
        ],
        [
         "3528",
         null,
         "$180,000",
         "?Wow Wow!!! ? Only from ??US$18x xxx for such an amazing mixed-use Shophouse!!! Contact us now for more info and grab the ??super special promotion discount for November! The first shophouse in Phnom Penh for sale.Prime location is an essential factor for successful business. The Prek Pnov bridge plays an important role in bringing the lively traffic flow to the Northern Phnom Penh."
        ],
        [
         "3529",
         null,
         "$555,000",
         "Located in the city's heart, this residential development is a genuine oasis of tranquility. With full in-house amenities including a restaurant, retail, gym, swimming pool, and even an International School within the development this property provides everything you could wish for from a premium residential residence. Located in the Boueng Kak area this property is very close to the significant Grade A office development in the CBD and is surrounded by some of Phnom Penh's most popular retail and leisure developments."
        ],
        [
         "3530",
         null,
         "$158,000",
         "# 26F, Street 344, Village 4, Sangkat Chases, Kham Keo, Phnom Penh ??? Russey Keo District: 5m) Home: 2 m House is located 4 bedrooms and 5 bathrooms, clean home, Borey, Borey Phnom Penh along the Russey River Street."
        ],
        [
         "3531",
         null,
         "$105,000",
         "This three (3) bedroom and four (4) bathroom villa property is now for sale. Located in a new gated community (Borey) development the property is an ideal getaway from city living. Located close to Kandal province and around an hour from Phnom Penh, this property is located in a peaceful rural setting. Located around one (1) hour away from Phnom Penh this property is close to the Baku Village and Kandal Province."
        ],
        [
         "3532",
         null,
         "$240,000",
         "Â Contact me : phone, whatsapp, Line, Telegram or email. Â Receive detailed information and fix your appointment with our agent today! MORE DETAILS: Twin villa style mordern Price for rent 1000$ negotiate Includes management fee Price for sale 240k$ negotiate 4 bedrooms and 5 bathrooms Full furniture"
        ],
        [
         "3533",
         null,
         "$95,000",
         "????  L BTK2 Condominium for Sale ???? ??  Property Information ?? 2-bedroom ?? One bathroom ?? One Livingroom ?? One Kitchen ?? Nice view from Balcony ?? Unit on 20Floor ?? 24h access and security, reception desk , Parking space ?? The price is included furniture ?? Can move in and rent any times. ?? Located in Sangkat Beoung Trobek area ?? 3 minute By car to Rusian Market and only 3 minute by walk to Beoung trobek plaza Market . ?? This Condominium is Surrounded by cafÃ© shop , Mini mart , close to supper market and many street food , Ect Â"
        ],
        [
         "3534",
         null,
         "$265,000",
         "This three bedroom apartment for sale is located on a quiet street close to the landmark Central market in the heart of Phnom Penh. The property comes with three bedrooms and two bathrooms. The modern fitted kitchen leads onto a spacious living and dining area with access to a private terrace. The windows are anti-heat to ensure the apartment stays cool during the day. The apartment is on the 3rd floor with access via a stairwell off the street, the stairwell is well lit. Communal parking for cars and motos is available close by."
        ],
        [
         "3535",
         null,
         "$410,000",
         "???????? Apartment for Sale! Type: 2 Bedroom. Fully furnished. Rental:410000 per month Please kindly contact for more information."
        ],
        [
         "3536",
         null,
         "$158,000",
         "# 26F, Street 344, Village 4, Sangkat Chases, Kham Keo, Phnom Penh ??? Russey Keo District: 5m) Home: 2 m House is located 4 bedrooms and 5 bathrooms, clean home, Borey, Borey Phnom Penh along the Russey River Street."
        ],
        [
         "3537",
         null,
         "$54,000",
         "Condo for sale .................. Condo for Sale ?? ?? :: Toul Kork - 1-Bathroom ?? 1-1-bathroom ?? kitchen ?? Living-Room ?? Have a clean - balcony. Four minutes walk to TK Avenue ?? rides for 24 minutes to Aeon 2 and Makro Hyperhe, CafÃ© and Malls around the building ........ Mall near the building ... Minutes Drive to Aeon 2 and Makro ?? This condominium is in the Best Location, Mini Mart, Restaurant ECT .............."
        ],
        [
         "3538",
         null,
         "$54,000",
         "(Japanese Version is below) Nice 1-Bedroom Condominium for Sale Residence L Olympic ? 1Bedroom, 1Bathroom, Living room, Kitchen, 1Balcony.... ?Selling Price: $54,000 ?Floor Level: 13th ?Local: Olympic ?Building Facility: Fitness, Lift, Receptions, security ?Room Facility: Fully furnished ?Type: Strata Title ?Management fee: $28 / month ?Special Point - Only 3 minutes to Olympic market - 5 minutes to Olympia city mall - 5 minutes to Olympic stadium - 10 minutes to Russian Market - Surrounded by cafÃ© shop, Mini mart, Restaurants, Super market EctÂÂÂÂÂÂÂÂÂÂÂÂÂÂÂÂÂÂÂÂÂÂÂÂÂÂÂÂÂÂÂÂÂÂÂÂÂÂÂÂÂÂÂÂÂÂÂÂÂÂÂÂÂÂÂÂÂÂÂÂÂÂÂÂÂÂÂÂÂÂÂÂÂÂÂÂÂÂÂÂÂÂÂÂÂÂÂÂÂÂÂÂÂÂÂÂÂÂÂÂÂÂÂÂÂÂÂÂÂÂÂÂÂÂÂÂÂÂÂÂÂÂÂÂÂÂÂÂÂÂÂÂÂÂÂÂÂÂÂÂÂÂÂÂÂÂÂÂÂÂÂÂÂÂÂÂÂÂÂÂÂÂÂÂÂÂÂÂÂÂÂÂÂÂÂÂÂÂÂÂÂÂÂÂÂÂÂÂÂÂÂÂÂÂÂÂÂÂÂÂÂÂÂÂÂÂÂÂÂÂÂÂÂÂÂÂÂÂÂÂÂÂÂÂÂÂÂÂÂÂÂÂÂÂÂÂÂÂÂÂÂÂÂÂÂÂÂÂÂÂÂÂÂÂÂÂÂÂÂÂÂÂÂÂÂÂÂÂÂÂÂÂÂÂÂÂÂÂÂÂÂÂÂÂÂÂÂÂÂÂÂÂÂÂÂÂÂÂÂÂÂÂÂÂÂÂÂÂÂÂÂÂÂÂÂÂÂÂÂÂÂÂÂÂÂÂÂÂÂÂÂÂÂÂÂÂÂÂÂÂÂÂÂÂÂÂÂÂÂÂÂÂÂÂÂÂÂÂÂÂÂÂÂÂÂÂÂÂÂÂÂÂÂÂÂÂÂÂÂÂÂÂÂÂÂÂÂÂÂÂÂÂÂÂÂÂÂÂÂÂÂÂÂÂÂÂÂÂÂÂÂÂÂÂÂÂÂÂÂÂÂÂÂÂÂÂÂÂÂÂÂÂÂÂÂÂÂÂÂÂÂÂÂÂÂÂÂÂÂÂÂÂÂÂ About 3 minutes from the Olympic Market - About 5 minutes from the Olympia City Mall - About 5 minutes from the Olympic Stadium - About 10 minutes from the Russian Market - There are also mini marts, coffee shops, restaurants, cafeterias, supermarkets and local markets in the vicinity."
        ],
        [
         "3539",
         null,
         "$120,000",
         "LecondeÂBKK1 Condominium stands up in Beong Keng Korng1 (BKK1) Phnom Penh. We have Studio Room, 1 bedroom, 2 bedrooms and 3Bedroom with swimming pool Price 120,000$ up Booking only 3000$ (Get I Phone 12 Pro) Monthly payment up from 36 months No interest Room Size: 37?-166? Studio room 1 bedroom 2 bedrooms 3 bedrooms"
        ],
        [
         "3540",
         null,
         "$410,000",
         "Located in the city's heart, this residential development is a genuine oasis of tranquility. With full in-house amenities including a restaurant, retail, gym, swimming pool, and even an International School within the development this property provides everything you could wish for from a premium residential residence. Located in the Boueng Kak area this property is very close to the significant Grade A office development in the CBD and is surrounded by some of Phnom Penh's most popular retail and leisure developments."
        ],
        [
         "3541",
         null,
         "$165,000",
         "Located in the city's heart, this residential development is a genuine oasis of tranquility. With full in-house amenities including a restaurant, retail, gym, swimming pool, and even an International School within the development this property provides everything you could wish for from a premium residential residence. Located in the Boueng Kak area this property is very close to the significant Grade A office development in the CBD and is surrounded by some of Phnom Penh's most popular retail and leisure developments."
        ],
        [
         "3542",
         null,
         "$300,000",
         "Located in the city's heart, this residential development is a genuine oasis of tranquility. With full in-house amenities including a restaurant, retail, gym, swimming pool, and even an International School within the development this property provides everything you could wish for from a premium residential residence. Located in the Boueng Kak area this property is very close to the major Grade A office development in the CBD and is surrounded by some of Phnom Penh's most popular retail and leisure developments."
        ],
        [
         "3543",
         null,
         "$190,000",
         "A very modern shophouse with potentail area for sale. With achitech design as Paris style. The first shophouse in Phnom Penh with nice place. Happy new year 2023!!! ????Want to visit Europe on New year day? ???? What a special offer from La Maison Plaza! First Come, First Serve! 1. Only 0.83% monthly down-payment with 0% interest for 24 months!!! 2. Get 11-day travel tickets to 5 European countries. 3. Up to 10% discount on all shophouse types in zone M ?? Hurry up! The promotion is valid from 1st - 31st January 2023! ?? Note: This offer is applied for all house types in zone M (Except SoHo M)"
        ],
        [
         "3544",
         null,
         "$1,000,000",
         "Â Contact me : phone, whatsapp, Line, Telegram or email. Â Receive detailed information and fix your appointment with our agent today! MORE DETAILS: Villa for sale Sale price: $1.000.000 5 bedroom, 6 bath Fully furnished Include hard titles"
        ],
        [
         "3545",
         null,
         "$186,888",
         "Skyline is the tallest building near Orussey market which is commonly a very local area surrounded by all kinds of shops, stores and lots of small local restaurants. The property is what we would call a diamond in the rough due to the quality of this building it gives you a real feeling of being in Cambodia with all the amenities and life style qualities you deserve. Orussy market area is one of the most locally busiest areas in Phnom Penh with al kinds of Tailors shops, shoe shops, local markets, mechanics, hotels and pretty much every kind of local business you could imagine and located in the Center of Phnom Penh. If an apartment in Phnom Penh has been on your agenda, but you havenÂt found the proper guidance or advice, we are here for more than to arrange viewings. Our staff are knowledgeable about the area and give you a free consultation and answer any questions you may have."
        ],
        [
         "3546",
         null,
         "$450,000",
         "Newly Renovated 4 Bedrooms Condo Available For sale in Boeung Kak2 area, Phnom Penh. Location: Toul Kork area closed to TK avenue Â Price: USD 450,000 Negotiable Â 4 Bedrooms | 4 Bathrooms Â 1 Living room Â 1 Kitchen | Dinning area Â Balconies Â Fully Furnished If you are looking to buy property for investment with high income return, best location"
        ],
        [
         "3547",
         null,
         "$280,000",
         "This 4th-floor penthouse features a 230-meters square living space with four bedrooms, four bathrooms, one terrace, two kitchens, two living rooms and two dining rooms. The home also features an excellent condition and itÂs fully furnished. HereÂs your chance to live in one of the only apartments with as much floor space as 230 meters squared! This newly renovated four-bedroom penthouse offers homeownership at its finest. Just 1 km from downtown and riverside, youÂll never miss out on all that Phnom Penh has to offer Â whether it be shops or restaurants; this place is perfect for everyone who wants some western standard living in the heart of Phnom Penh. This property is perfect for someone who is looking to invest in a good- size apartment in the city.  ItÂs also ideal for someone who wants to live close enough to downtown and riverside but still manages to get away from the noise. This is a very well-presented property, which is tastefully decorated and fully furnished ready for an easy move in today! ItÂs also great for families, as it has four bedrooms; three bathrooms; two kitchens; two living rooms; and two dining rooms. The massive living space of 230-meters squared is perfect for all your family to enjoy, with each bedroom also offering its own en suite bathroom Â this place can accommodate everyone! The riverside area of Phnom Penh is famous for its bar scene and restaurants with scenic views that take you right up front to the Mekong River, as well as being easy access all over town by taxis or tuk-tuks. This makes this an ideal place where people can live without having too much trouble getting around! We are ready to provide you with all the information necessary so that our experts at Lux can help make your decision easy."
        ]
       ],
       "shape": {
        "columns": 3,
        "rows": 615
       }
      },
      "text/html": [
       "<div>\n",
       "<style scoped>\n",
       "    .dataframe tbody tr th:only-of-type {\n",
       "        vertical-align: middle;\n",
       "    }\n",
       "\n",
       "    .dataframe tbody tr th {\n",
       "        vertical-align: top;\n",
       "    }\n",
       "\n",
       "    .dataframe thead th {\n",
       "        text-align: right;\n",
       "    }\n",
       "</style>\n",
       "<table border=\"1\" class=\"dataframe\">\n",
       "  <thead>\n",
       "    <tr style=\"text-align: right;\">\n",
       "      <th></th>\n",
       "      <th>land_area</th>\n",
       "      <th>price_display</th>\n",
       "      <th>information</th>\n",
       "    </tr>\n",
       "  </thead>\n",
       "  <tbody>\n",
       "    <tr>\n",
       "      <th>3498</th>\n",
       "      <td>NaN</td>\n",
       "      <td>$3,000/mÂ²</td>\n",
       "      <td>Town House For Sale Near Somnornng Market /T'S...</td>\n",
       "    </tr>\n",
       "    <tr>\n",
       "      <th>3499</th>\n",
       "      <td>NaN</td>\n",
       "      <td>$86,000</td>\n",
       "      <td>There are 3 bedrooms, 1 living room and 4 bath...</td>\n",
       "    </tr>\n",
       "    <tr>\n",
       "      <th>3500</th>\n",
       "      <td>NaN</td>\n",
       "      <td>$34,000</td>\n",
       "      <td>Condo for sale Property code: ACD24-029 Price:...</td>\n",
       "    </tr>\n",
       "    <tr>\n",
       "      <th>3501</th>\n",
       "      <td>NaN</td>\n",
       "      <td>$58,847</td>\n",
       "      <td>Condo for sale Property code: ACD23-060 Price ...</td>\n",
       "    </tr>\n",
       "    <tr>\n",
       "      <th>3502</th>\n",
       "      <td>NaN</td>\n",
       "      <td>$230,000</td>\n",
       "      <td>House for Sale Near National Museum in Daun Pe...</td>\n",
       "    </tr>\n",
       "    <tr>\n",
       "      <th>...</th>\n",
       "      <td>...</td>\n",
       "      <td>...</td>\n",
       "      <td>...</td>\n",
       "    </tr>\n",
       "    <tr>\n",
       "      <th>4108</th>\n",
       "      <td>NaN</td>\n",
       "      <td>$787,410</td>\n",
       "      <td>Warehouse Land Value Under Market Near Passis ...</td>\n",
       "    </tr>\n",
       "    <tr>\n",
       "      <th>4109</th>\n",
       "      <td>NaN</td>\n",
       "      <td>$98,888</td>\n",
       "      <td>Diamond Twin Tower is Phnom Penh latest and gr...</td>\n",
       "    </tr>\n",
       "    <tr>\n",
       "      <th>4110</th>\n",
       "      <td>NaN</td>\n",
       "      <td>$36,000</td>\n",
       "      <td>Looking for an affordable investment in a prim...</td>\n",
       "    </tr>\n",
       "    <tr>\n",
       "      <th>4111</th>\n",
       "      <td>NaN</td>\n",
       "      <td>$1,700,000</td>\n",
       "      <td>This commercial building is available for sale...</td>\n",
       "    </tr>\n",
       "    <tr>\n",
       "      <th>4112</th>\n",
       "      <td>NaN</td>\n",
       "      <td>$14,000,000</td>\n",
       "      <td>This 9-floor building is now available for bot...</td>\n",
       "    </tr>\n",
       "  </tbody>\n",
       "</table>\n",
       "<p>615 rows × 3 columns</p>\n",
       "</div>"
      ],
      "text/plain": [
       "      land_area price_display  \\\n",
       "3498        NaN    $3,000/mÂ²   \n",
       "3499        NaN       $86,000   \n",
       "3500        NaN       $34,000   \n",
       "3501        NaN       $58,847   \n",
       "3502        NaN      $230,000   \n",
       "...         ...           ...   \n",
       "4108        NaN      $787,410   \n",
       "4109        NaN       $98,888   \n",
       "4110        NaN       $36,000   \n",
       "4111        NaN    $1,700,000   \n",
       "4112        NaN   $14,000,000   \n",
       "\n",
       "                                            information  \n",
       "3498  Town House For Sale Near Somnornng Market /T'S...  \n",
       "3499  There are 3 bedrooms, 1 living room and 4 bath...  \n",
       "3500  Condo for sale Property code: ACD24-029 Price:...  \n",
       "3501  Condo for sale Property code: ACD23-060 Price ...  \n",
       "3502  House for Sale Near National Museum in Daun Pe...  \n",
       "...                                                 ...  \n",
       "4108  Warehouse Land Value Under Market Near Passis ...  \n",
       "4109  Diamond Twin Tower is Phnom Penh latest and gr...  \n",
       "4110  Looking for an affordable investment in a prim...  \n",
       "4111  This commercial building is available for sale...  \n",
       "4112  This 9-floor building is now available for bot...  \n",
       "\n",
       "[615 rows x 3 columns]"
      ]
     },
     "execution_count": 18,
     "metadata": {},
     "output_type": "execute_result"
    }
   ],
   "source": [
    "df[df['land_area'].isnull()][['land_area', 'price_display', 'information']]"
   ]
  },
  {
   "cell_type": "code",
   "execution_count": 20,
   "id": "3b687094",
   "metadata": {},
   "outputs": [],
   "source": [
    "\n",
    "with open('../../data/processed/information_land_area_null.txt', 'w', encoding='utf-8') as f:\n",
    "    for info in df[df['land_area'].isnull()]['information']:\n",
    "        f.write(str(info) + '\\n')"
   ]
  }
 ],
 "metadata": {
  "kernelspec": {
   "display_name": "env_v3.10",
   "language": "python",
   "name": "python3"
  },
  "language_info": {
   "codemirror_mode": {
    "name": "ipython",
    "version": 3
   },
   "file_extension": ".py",
   "mimetype": "text/x-python",
   "name": "python",
   "nbconvert_exporter": "python",
   "pygments_lexer": "ipython3",
   "version": "3.10.16"
  }
 },
 "nbformat": 4,
 "nbformat_minor": 5
}
