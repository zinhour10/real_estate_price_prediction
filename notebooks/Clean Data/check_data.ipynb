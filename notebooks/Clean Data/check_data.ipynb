{
 "cells": [
  {
   "cell_type": "code",
   "execution_count": 1,
   "id": "af132f34",
   "metadata": {},
   "outputs": [],
   "source": [
    "import pandas as pd"
   ]
  },
  {
   "cell_type": "code",
   "execution_count": 2,
   "id": "96766ef7",
   "metadata": {},
   "outputs": [],
   "source": [
    "df = pd.read_csv('../../data/processed/realestates_kh_v2_3_7.csv', encoding='latin1')"
   ]
  },
  {
   "cell_type": "code",
   "execution_count": 3,
   "id": "1d98fd13",
   "metadata": {},
   "outputs": [
    {
     "data": {
      "application/vnd.microsoft.datawrangler.viewer.v0+json": {
       "columns": [
        {
         "name": "index",
         "rawType": "int64",
         "type": "integer"
        },
        {
         "name": "id",
         "rawType": "float64",
         "type": "float"
        },
        {
         "name": "price_display",
         "rawType": "float64",
         "type": "float"
        },
        {
         "name": "bedrooms",
         "rawType": "float64",
         "type": "float"
        },
        {
         "name": "bathrooms",
         "rawType": "float64",
         "type": "float"
        },
        {
         "name": "land_area",
         "rawType": "float64",
         "type": "float"
        },
        {
         "name": "address_subdivision",
         "rawType": "object",
         "type": "string"
        },
        {
         "name": "address_locality",
         "rawType": "object",
         "type": "string"
        },
        {
         "name": "address_line_2",
         "rawType": "object",
         "type": "string"
        },
        {
         "name": "category_name",
         "rawType": "object",
         "type": "string"
        },
        {
         "name": "is_parent",
         "rawType": "bool",
         "type": "boolean"
        },
        {
         "name": "type",
         "rawType": "object",
         "type": "string"
        },
        {
         "name": "latitude",
         "rawType": "float64",
         "type": "float"
        },
        {
         "name": "longitude",
         "rawType": "float64",
         "type": "float"
        }
       ],
       "ref": "3e246077-47e7-466d-9396-7d341d3c95dd",
       "rows": [
        [
         "0",
         "235560.0",
         "114000.0",
         "4.0",
         "5.0",
         "71.4",
         "Phnom Penh",
         "Chroy Changvar",
         "Preaek Lieb",
         "Unit",
         "False",
         "residential",
         "11.589674",
         "104.925654"
        ],
        [
         "1",
         "248374.0",
         "188343000.0",
         null,
         null,
         "104635.0",
         "Phnom Penh",
         "Russey Keo",
         "Tuol Sangkae 1",
         "Land/Development",
         "False",
         "residential",
         "11.5878099",
         "104.9022337"
        ],
        [
         "2",
         "248290.0",
         "58800000.0",
         null,
         null,
         "84000.0",
         "Phnom Penh",
         "Por Sen Chey",
         "Kantaok",
         "Land/Development",
         "False",
         "residential",
         "11.537783",
         "104.920232"
        ],
        [
         "3",
         "248489.0",
         "90000.0",
         "1.0",
         "1.0",
         "76000.0",
         "Phnom Penh",
         "Meanchey",
         "Chak Angrae Leu",
         "Condo",
         "False",
         "residential",
         "11.537783",
         "104.920232"
        ],
        [
         "4",
         "235239.0",
         "276264450.0",
         null,
         null,
         "55811.0",
         "Phnom Penh",
         "Daun Penh",
         "Srah Chak",
         "Land/Development",
         "False",
         "residential",
         "11.57920232",
         "104.9086133"
        ]
       ],
       "shape": {
        "columns": 13,
        "rows": 5
       }
      },
      "text/html": [
       "<div>\n",
       "<style scoped>\n",
       "    .dataframe tbody tr th:only-of-type {\n",
       "        vertical-align: middle;\n",
       "    }\n",
       "\n",
       "    .dataframe tbody tr th {\n",
       "        vertical-align: top;\n",
       "    }\n",
       "\n",
       "    .dataframe thead th {\n",
       "        text-align: right;\n",
       "    }\n",
       "</style>\n",
       "<table border=\"1\" class=\"dataframe\">\n",
       "  <thead>\n",
       "    <tr style=\"text-align: right;\">\n",
       "      <th></th>\n",
       "      <th>id</th>\n",
       "      <th>price_display</th>\n",
       "      <th>bedrooms</th>\n",
       "      <th>bathrooms</th>\n",
       "      <th>land_area</th>\n",
       "      <th>address_subdivision</th>\n",
       "      <th>address_locality</th>\n",
       "      <th>address_line_2</th>\n",
       "      <th>category_name</th>\n",
       "      <th>is_parent</th>\n",
       "      <th>type</th>\n",
       "      <th>latitude</th>\n",
       "      <th>longitude</th>\n",
       "    </tr>\n",
       "  </thead>\n",
       "  <tbody>\n",
       "    <tr>\n",
       "      <th>0</th>\n",
       "      <td>235560.0</td>\n",
       "      <td>114000.0</td>\n",
       "      <td>4.0</td>\n",
       "      <td>5.0</td>\n",
       "      <td>71.4</td>\n",
       "      <td>Phnom Penh</td>\n",
       "      <td>Chroy Changvar</td>\n",
       "      <td>Preaek Lieb</td>\n",
       "      <td>Unit</td>\n",
       "      <td>False</td>\n",
       "      <td>residential</td>\n",
       "      <td>11.589674</td>\n",
       "      <td>104.925654</td>\n",
       "    </tr>\n",
       "    <tr>\n",
       "      <th>1</th>\n",
       "      <td>248374.0</td>\n",
       "      <td>188343000.0</td>\n",
       "      <td>NaN</td>\n",
       "      <td>NaN</td>\n",
       "      <td>104635.0</td>\n",
       "      <td>Phnom Penh</td>\n",
       "      <td>Russey Keo</td>\n",
       "      <td>Tuol Sangkae 1</td>\n",
       "      <td>Land/Development</td>\n",
       "      <td>False</td>\n",
       "      <td>residential</td>\n",
       "      <td>11.587810</td>\n",
       "      <td>104.902234</td>\n",
       "    </tr>\n",
       "    <tr>\n",
       "      <th>2</th>\n",
       "      <td>248290.0</td>\n",
       "      <td>58800000.0</td>\n",
       "      <td>NaN</td>\n",
       "      <td>NaN</td>\n",
       "      <td>84000.0</td>\n",
       "      <td>Phnom Penh</td>\n",
       "      <td>Por Sen Chey</td>\n",
       "      <td>Kantaok</td>\n",
       "      <td>Land/Development</td>\n",
       "      <td>False</td>\n",
       "      <td>residential</td>\n",
       "      <td>11.537783</td>\n",
       "      <td>104.920232</td>\n",
       "    </tr>\n",
       "    <tr>\n",
       "      <th>3</th>\n",
       "      <td>248489.0</td>\n",
       "      <td>90000.0</td>\n",
       "      <td>1.0</td>\n",
       "      <td>1.0</td>\n",
       "      <td>76000.0</td>\n",
       "      <td>Phnom Penh</td>\n",
       "      <td>Meanchey</td>\n",
       "      <td>Chak Angrae Leu</td>\n",
       "      <td>Condo</td>\n",
       "      <td>False</td>\n",
       "      <td>residential</td>\n",
       "      <td>11.537783</td>\n",
       "      <td>104.920232</td>\n",
       "    </tr>\n",
       "    <tr>\n",
       "      <th>4</th>\n",
       "      <td>235239.0</td>\n",
       "      <td>276264450.0</td>\n",
       "      <td>NaN</td>\n",
       "      <td>NaN</td>\n",
       "      <td>55811.0</td>\n",
       "      <td>Phnom Penh</td>\n",
       "      <td>Daun Penh</td>\n",
       "      <td>Srah Chak</td>\n",
       "      <td>Land/Development</td>\n",
       "      <td>False</td>\n",
       "      <td>residential</td>\n",
       "      <td>11.579202</td>\n",
       "      <td>104.908613</td>\n",
       "    </tr>\n",
       "  </tbody>\n",
       "</table>\n",
       "</div>"
      ],
      "text/plain": [
       "         id  price_display  bedrooms  bathrooms  land_area  \\\n",
       "0  235560.0       114000.0       4.0        5.0       71.4   \n",
       "1  248374.0    188343000.0       NaN        NaN   104635.0   \n",
       "2  248290.0     58800000.0       NaN        NaN    84000.0   \n",
       "3  248489.0        90000.0       1.0        1.0    76000.0   \n",
       "4  235239.0    276264450.0       NaN        NaN    55811.0   \n",
       "\n",
       "  address_subdivision address_locality   address_line_2     category_name  \\\n",
       "0          Phnom Penh   Chroy Changvar      Preaek Lieb              Unit   \n",
       "1          Phnom Penh       Russey Keo   Tuol Sangkae 1  Land/Development   \n",
       "2          Phnom Penh     Por Sen Chey          Kantaok  Land/Development   \n",
       "3          Phnom Penh         Meanchey  Chak Angrae Leu             Condo   \n",
       "4          Phnom Penh        Daun Penh        Srah Chak  Land/Development   \n",
       "\n",
       "   is_parent         type   latitude   longitude  \n",
       "0      False  residential  11.589674  104.925654  \n",
       "1      False  residential  11.587810  104.902234  \n",
       "2      False  residential  11.537783  104.920232  \n",
       "3      False  residential  11.537783  104.920232  \n",
       "4      False  residential  11.579202  104.908613  "
      ]
     },
     "execution_count": 3,
     "metadata": {},
     "output_type": "execute_result"
    }
   ],
   "source": [
    "df.head()"
   ]
  },
  {
   "cell_type": "code",
   "execution_count": 4,
   "id": "2e8522de",
   "metadata": {},
   "outputs": [
    {
     "data": {
      "application/vnd.microsoft.datawrangler.viewer.v0+json": {
       "columns": [
        {
         "name": "index",
         "rawType": "object",
         "type": "string"
        },
        {
         "name": "0",
         "rawType": "int64",
         "type": "integer"
        }
       ],
       "ref": "a1d98827-5181-47d9-9259-94989010c070",
       "rows": [
        [
         "id",
         "0"
        ],
        [
         "price_display",
         "1"
        ],
        [
         "bedrooms",
         "668"
        ],
        [
         "bathrooms",
         "691"
        ],
        [
         "land_area",
         "0"
        ],
        [
         "address_subdivision",
         "0"
        ],
        [
         "address_locality",
         "0"
        ],
        [
         "address_line_2",
         "4"
        ],
        [
         "category_name",
         "0"
        ],
        [
         "is_parent",
         "0"
        ],
        [
         "type",
         "0"
        ],
        [
         "latitude",
         "0"
        ],
        [
         "longitude",
         "0"
        ]
       ],
       "shape": {
        "columns": 1,
        "rows": 13
       }
      },
      "text/plain": [
       "id                       0\n",
       "price_display            1\n",
       "bedrooms               668\n",
       "bathrooms              691\n",
       "land_area                0\n",
       "address_subdivision      0\n",
       "address_locality         0\n",
       "address_line_2           4\n",
       "category_name            0\n",
       "is_parent                0\n",
       "type                     0\n",
       "latitude                 0\n",
       "longitude                0\n",
       "dtype: int64"
      ]
     },
     "execution_count": 4,
     "metadata": {},
     "output_type": "execute_result"
    }
   ],
   "source": [
    "df.isnull().sum()"
   ]
  },
  {
   "cell_type": "code",
   "execution_count": 5,
   "id": "b1822788",
   "metadata": {},
   "outputs": [
    {
     "data": {
      "text/plain": [
       "(3755, 13)"
      ]
     },
     "execution_count": 5,
     "metadata": {},
     "output_type": "execute_result"
    }
   ],
   "source": [
    "df.shape"
   ]
  },
  {
   "cell_type": "code",
   "execution_count": 6,
   "id": "a1f4ad07",
   "metadata": {},
   "outputs": [],
   "source": [
    "# df.to_csv('../../data/processed/realestates_kh_v2_3_7.csv', index=False, encoding='latin1')"
   ]
  }
 ],
 "metadata": {
  "kernelspec": {
   "display_name": "env_v3.10",
   "language": "python",
   "name": "python3"
  },
  "language_info": {
   "codemirror_mode": {
    "name": "ipython",
    "version": 3
   },
   "file_extension": ".py",
   "mimetype": "text/x-python",
   "name": "python",
   "nbconvert_exporter": "python",
   "pygments_lexer": "ipython3",
   "version": "3.10.16"
  }
 },
 "nbformat": 4,
 "nbformat_minor": 5
}
