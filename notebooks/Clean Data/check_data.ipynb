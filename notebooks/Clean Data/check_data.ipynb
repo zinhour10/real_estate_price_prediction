{
 "cells": [
  {
   "cell_type": "code",
   "execution_count": 1,
   "id": "af132f34",
   "metadata": {},
   "outputs": [],
   "source": [
    "import pandas as pd"
   ]
  },
  {
   "cell_type": "code",
   "execution_count": 2,
   "id": "96766ef7",
   "metadata": {},
   "outputs": [],
   "source": [
    "df = pd.read_csv('../../data/processed/realestates_kh_v4.csv', encoding='latin1')"
   ]
  },
  {
   "cell_type": "code",
   "execution_count": 3,
   "id": "9d124432",
   "metadata": {},
   "outputs": [],
   "source": [
    "df_1 = pd.read_csv('../../data/processed/realestates_kh_v2_4.csv', encoding='latin1')"
   ]
  },
  {
   "cell_type": "code",
   "execution_count": 4,
   "id": "1d98fd13",
   "metadata": {},
   "outputs": [
    {
     "data": {
      "application/vnd.microsoft.datawrangler.viewer.v0+json": {
       "columns": [
        {
         "name": "index",
         "rawType": "int64",
         "type": "integer"
        },
        {
         "name": "id",
         "rawType": "float64",
         "type": "float"
        },
        {
         "name": "price_display",
         "rawType": "float64",
         "type": "float"
        },
        {
         "name": "bedrooms",
         "rawType": "float64",
         "type": "float"
        },
        {
         "name": "bathrooms",
         "rawType": "float64",
         "type": "float"
        },
        {
         "name": "land_area",
         "rawType": "float64",
         "type": "float"
        },
        {
         "name": "address_subdivision",
         "rawType": "object",
         "type": "string"
        },
        {
         "name": "address_locality",
         "rawType": "object",
         "type": "string"
        },
        {
         "name": "address_line_2",
         "rawType": "object",
         "type": "string"
        },
        {
         "name": "category_name",
         "rawType": "object",
         "type": "string"
        },
        {
         "name": "is_parent",
         "rawType": "bool",
         "type": "boolean"
        },
        {
         "name": "type",
         "rawType": "object",
         "type": "string"
        },
        {
         "name": "latitude",
         "rawType": "float64",
         "type": "float"
        },
        {
         "name": "longitude",
         "rawType": "float64",
         "type": "float"
        },
        {
         "name": "geometry",
         "rawType": "object",
         "type": "string"
        },
        {
         "name": "index_right",
         "rawType": "float64",
         "type": "float"
        },
        {
         "name": "population",
         "rawType": "float64",
         "type": "float"
        },
        {
         "name": "price_per_m2",
         "rawType": "float64",
         "type": "float"
        }
       ],
       "ref": "5f21e911-78d2-44e8-81de-b53ece5b6c54",
       "rows": [
        [
         "0",
         "235560.0",
         "114000.0",
         "4.0",
         "5.0",
         "71.4",
         "Phnom Penh",
         "Chroy Changvar",
         "Preaek Lieb",
         "Unit",
         "False",
         "residential",
         "11.589674",
         "104.925654",
         "POINT (104.925654 11.589674)",
         "54162.0",
         "11327.0",
         "1596.6386554621847"
        ],
        [
         "1",
         "248374.0",
         "188343000.0",
         null,
         null,
         "104635.0",
         "Phnom Penh",
         "Russey Keo",
         "Tuol Sangkae 1",
         "Land/Development",
         "False",
         "residential",
         "11.5878099",
         "104.9022337",
         "POINT (104.9022337 11.5878099)",
         "54093.0",
         "8037.0",
         "1800.0"
        ],
        [
         "2",
         "248290.0",
         "58800000.0",
         null,
         null,
         "84000.0",
         "Phnom Penh",
         "Por Sen Chey",
         "Kantaok",
         "Land/Development",
         "False",
         "residential",
         "11.537783",
         "104.920232",
         "POINT (104.920232 11.537783)",
         "53912.0",
         "18375.0",
         "700.0"
        ],
        [
         "3",
         "248489.0",
         "90000.0",
         "1.0",
         "1.0",
         "76000.0",
         "Phnom Penh",
         "Meanchey",
         "Chak Angrae Leu",
         "Condo",
         "False",
         "residential",
         "11.537783",
         "104.920232",
         "POINT (104.920232 11.537783)",
         "53912.0",
         "18375.0",
         "1.1842105263157894"
        ],
        [
         "4",
         "235239.0",
         "276264450.0",
         null,
         null,
         "55811.0",
         "Phnom Penh",
         "Daun Penh",
         "Srah Chak",
         "Land/Development",
         "False",
         "residential",
         "11.57920232",
         "104.9086133",
         "POINT (104.9086133 11.57920232)",
         "53926.0",
         "9274.0",
         "4950.0"
        ]
       ],
       "shape": {
        "columns": 17,
        "rows": 5
       }
      },
      "text/html": [
       "<div>\n",
       "<style scoped>\n",
       "    .dataframe tbody tr th:only-of-type {\n",
       "        vertical-align: middle;\n",
       "    }\n",
       "\n",
       "    .dataframe tbody tr th {\n",
       "        vertical-align: top;\n",
       "    }\n",
       "\n",
       "    .dataframe thead th {\n",
       "        text-align: right;\n",
       "    }\n",
       "</style>\n",
       "<table border=\"1\" class=\"dataframe\">\n",
       "  <thead>\n",
       "    <tr style=\"text-align: right;\">\n",
       "      <th></th>\n",
       "      <th>id</th>\n",
       "      <th>price_display</th>\n",
       "      <th>bedrooms</th>\n",
       "      <th>bathrooms</th>\n",
       "      <th>land_area</th>\n",
       "      <th>address_subdivision</th>\n",
       "      <th>address_locality</th>\n",
       "      <th>address_line_2</th>\n",
       "      <th>category_name</th>\n",
       "      <th>is_parent</th>\n",
       "      <th>type</th>\n",
       "      <th>latitude</th>\n",
       "      <th>longitude</th>\n",
       "      <th>geometry</th>\n",
       "      <th>index_right</th>\n",
       "      <th>population</th>\n",
       "      <th>price_per_m2</th>\n",
       "    </tr>\n",
       "  </thead>\n",
       "  <tbody>\n",
       "    <tr>\n",
       "      <th>0</th>\n",
       "      <td>235560.0</td>\n",
       "      <td>114000.0</td>\n",
       "      <td>4.0</td>\n",
       "      <td>5.0</td>\n",
       "      <td>71.4</td>\n",
       "      <td>Phnom Penh</td>\n",
       "      <td>Chroy Changvar</td>\n",
       "      <td>Preaek Lieb</td>\n",
       "      <td>Unit</td>\n",
       "      <td>False</td>\n",
       "      <td>residential</td>\n",
       "      <td>11.589674</td>\n",
       "      <td>104.925654</td>\n",
       "      <td>POINT (104.925654 11.589674)</td>\n",
       "      <td>54162.0</td>\n",
       "      <td>11327.0</td>\n",
       "      <td>1596.638655</td>\n",
       "    </tr>\n",
       "    <tr>\n",
       "      <th>1</th>\n",
       "      <td>248374.0</td>\n",
       "      <td>188343000.0</td>\n",
       "      <td>NaN</td>\n",
       "      <td>NaN</td>\n",
       "      <td>104635.0</td>\n",
       "      <td>Phnom Penh</td>\n",
       "      <td>Russey Keo</td>\n",
       "      <td>Tuol Sangkae 1</td>\n",
       "      <td>Land/Development</td>\n",
       "      <td>False</td>\n",
       "      <td>residential</td>\n",
       "      <td>11.587810</td>\n",
       "      <td>104.902234</td>\n",
       "      <td>POINT (104.9022337 11.5878099)</td>\n",
       "      <td>54093.0</td>\n",
       "      <td>8037.0</td>\n",
       "      <td>1800.000000</td>\n",
       "    </tr>\n",
       "    <tr>\n",
       "      <th>2</th>\n",
       "      <td>248290.0</td>\n",
       "      <td>58800000.0</td>\n",
       "      <td>NaN</td>\n",
       "      <td>NaN</td>\n",
       "      <td>84000.0</td>\n",
       "      <td>Phnom Penh</td>\n",
       "      <td>Por Sen Chey</td>\n",
       "      <td>Kantaok</td>\n",
       "      <td>Land/Development</td>\n",
       "      <td>False</td>\n",
       "      <td>residential</td>\n",
       "      <td>11.537783</td>\n",
       "      <td>104.920232</td>\n",
       "      <td>POINT (104.920232 11.537783)</td>\n",
       "      <td>53912.0</td>\n",
       "      <td>18375.0</td>\n",
       "      <td>700.000000</td>\n",
       "    </tr>\n",
       "    <tr>\n",
       "      <th>3</th>\n",
       "      <td>248489.0</td>\n",
       "      <td>90000.0</td>\n",
       "      <td>1.0</td>\n",
       "      <td>1.0</td>\n",
       "      <td>76000.0</td>\n",
       "      <td>Phnom Penh</td>\n",
       "      <td>Meanchey</td>\n",
       "      <td>Chak Angrae Leu</td>\n",
       "      <td>Condo</td>\n",
       "      <td>False</td>\n",
       "      <td>residential</td>\n",
       "      <td>11.537783</td>\n",
       "      <td>104.920232</td>\n",
       "      <td>POINT (104.920232 11.537783)</td>\n",
       "      <td>53912.0</td>\n",
       "      <td>18375.0</td>\n",
       "      <td>1.184211</td>\n",
       "    </tr>\n",
       "    <tr>\n",
       "      <th>4</th>\n",
       "      <td>235239.0</td>\n",
       "      <td>276264450.0</td>\n",
       "      <td>NaN</td>\n",
       "      <td>NaN</td>\n",
       "      <td>55811.0</td>\n",
       "      <td>Phnom Penh</td>\n",
       "      <td>Daun Penh</td>\n",
       "      <td>Srah Chak</td>\n",
       "      <td>Land/Development</td>\n",
       "      <td>False</td>\n",
       "      <td>residential</td>\n",
       "      <td>11.579202</td>\n",
       "      <td>104.908613</td>\n",
       "      <td>POINT (104.9086133 11.57920232)</td>\n",
       "      <td>53926.0</td>\n",
       "      <td>9274.0</td>\n",
       "      <td>4950.000000</td>\n",
       "    </tr>\n",
       "  </tbody>\n",
       "</table>\n",
       "</div>"
      ],
      "text/plain": [
       "         id  price_display  bedrooms  bathrooms  land_area  \\\n",
       "0  235560.0       114000.0       4.0        5.0       71.4   \n",
       "1  248374.0    188343000.0       NaN        NaN   104635.0   \n",
       "2  248290.0     58800000.0       NaN        NaN    84000.0   \n",
       "3  248489.0        90000.0       1.0        1.0    76000.0   \n",
       "4  235239.0    276264450.0       NaN        NaN    55811.0   \n",
       "\n",
       "  address_subdivision address_locality   address_line_2     category_name  \\\n",
       "0          Phnom Penh   Chroy Changvar      Preaek Lieb              Unit   \n",
       "1          Phnom Penh       Russey Keo   Tuol Sangkae 1  Land/Development   \n",
       "2          Phnom Penh     Por Sen Chey          Kantaok  Land/Development   \n",
       "3          Phnom Penh         Meanchey  Chak Angrae Leu             Condo   \n",
       "4          Phnom Penh        Daun Penh        Srah Chak  Land/Development   \n",
       "\n",
       "   is_parent         type   latitude   longitude  \\\n",
       "0      False  residential  11.589674  104.925654   \n",
       "1      False  residential  11.587810  104.902234   \n",
       "2      False  residential  11.537783  104.920232   \n",
       "3      False  residential  11.537783  104.920232   \n",
       "4      False  residential  11.579202  104.908613   \n",
       "\n",
       "                          geometry  index_right  population  price_per_m2  \n",
       "0     POINT (104.925654 11.589674)      54162.0     11327.0   1596.638655  \n",
       "1   POINT (104.9022337 11.5878099)      54093.0      8037.0   1800.000000  \n",
       "2     POINT (104.920232 11.537783)      53912.0     18375.0    700.000000  \n",
       "3     POINT (104.920232 11.537783)      53912.0     18375.0      1.184211  \n",
       "4  POINT (104.9086133 11.57920232)      53926.0      9274.0   4950.000000  "
      ]
     },
     "execution_count": 4,
     "metadata": {},
     "output_type": "execute_result"
    }
   ],
   "source": [
    "df.head()"
   ]
  },
  {
   "cell_type": "code",
   "execution_count": 51,
   "id": "2e8522de",
   "metadata": {},
   "outputs": [
    {
     "data": {
      "application/vnd.microsoft.datawrangler.viewer.v0+json": {
       "columns": [
        {
         "name": "index",
         "rawType": "object",
         "type": "string"
        },
        {
         "name": "0",
         "rawType": "int64",
         "type": "integer"
        }
       ],
       "ref": "c710a802-64d7-42cf-87e2-0a0bad6d056a",
       "rows": [
        [
         "id",
         "0"
        ],
        [
         "price_display",
         "1"
        ],
        [
         "bedrooms",
         "668"
        ],
        [
         "bathrooms",
         "691"
        ],
        [
         "land_area",
         "0"
        ],
        [
         "address_subdivision",
         "0"
        ],
        [
         "address_locality",
         "0"
        ],
        [
         "address_line_2",
         "4"
        ],
        [
         "category_name",
         "0"
        ],
        [
         "is_parent",
         "0"
        ],
        [
         "type",
         "0"
        ],
        [
         "latitude",
         "0"
        ],
        [
         "longitude",
         "0"
        ],
        [
         "geometry",
         "0"
        ],
        [
         "index_right",
         "15"
        ],
        [
         "population",
         "15"
        ],
        [
         "price_per_m2",
         "1"
        ]
       ],
       "shape": {
        "columns": 1,
        "rows": 17
       }
      },
      "text/plain": [
       "id                       0\n",
       "price_display            1\n",
       "bedrooms               668\n",
       "bathrooms              691\n",
       "land_area                0\n",
       "address_subdivision      0\n",
       "address_locality         0\n",
       "address_line_2           4\n",
       "category_name            0\n",
       "is_parent                0\n",
       "type                     0\n",
       "latitude                 0\n",
       "longitude                0\n",
       "geometry                 0\n",
       "index_right             15\n",
       "population              15\n",
       "price_per_m2             1\n",
       "dtype: int64"
      ]
     },
     "execution_count": 51,
     "metadata": {},
     "output_type": "execute_result"
    }
   ],
   "source": [
    "df.isnull().sum()"
   ]
  },
  {
   "cell_type": "code",
   "execution_count": 5,
   "id": "b1822788",
   "metadata": {},
   "outputs": [
    {
     "data": {
      "text/plain": [
       "(3755, 17)"
      ]
     },
     "execution_count": 5,
     "metadata": {},
     "output_type": "execute_result"
    }
   ],
   "source": [
    "df.shape"
   ]
  },
  {
   "cell_type": "code",
   "execution_count": 53,
   "id": "a1f4ad07",
   "metadata": {},
   "outputs": [],
   "source": [
    "# df.to_csv('../../data/processed/realestates_kh_v2_3_7.csv', index=False, encoding='latin1')"
   ]
  },
  {
   "cell_type": "code",
   "execution_count": 6,
   "id": "dea4a638",
   "metadata": {},
   "outputs": [
    {
     "name": "stdout",
     "output_type": "stream",
     "text": [
      "df\n",
      "         id  price_display  bedrooms  bathrooms  land_area  \\\n",
      "0  235560.0       114000.0       4.0        5.0       71.4   \n",
      "1  248374.0    188343000.0       NaN        NaN   104635.0   \n",
      "2  248290.0     58800000.0       NaN        NaN    84000.0   \n",
      "3  248489.0        90000.0       1.0        1.0    76000.0   \n",
      "4  235239.0    276264450.0       NaN        NaN    55811.0   \n",
      "\n",
      "  address_subdivision address_locality   address_line_2     category_name  \\\n",
      "0          Phnom Penh   Chroy Changvar      Preaek Lieb              Unit   \n",
      "1          Phnom Penh       Russey Keo   Tuol Sangkae 1  Land/Development   \n",
      "2          Phnom Penh     Por Sen Chey          Kantaok  Land/Development   \n",
      "3          Phnom Penh         Meanchey  Chak Angrae Leu             Condo   \n",
      "4          Phnom Penh        Daun Penh        Srah Chak  Land/Development   \n",
      "\n",
      "   is_parent         type   latitude   longitude  \\\n",
      "0      False  residential  11.589674  104.925654   \n",
      "1      False  residential  11.587810  104.902234   \n",
      "2      False  residential  11.537783  104.920232   \n",
      "3      False  residential  11.537783  104.920232   \n",
      "4      False  residential  11.579202  104.908613   \n",
      "\n",
      "                          geometry  index_right  population  price_per_m2  \n",
      "0     POINT (104.925654 11.589674)      54162.0     11327.0   1596.638655  \n",
      "1   POINT (104.9022337 11.5878099)      54093.0      8037.0   1800.000000  \n",
      "2     POINT (104.920232 11.537783)      53912.0     18375.0    700.000000  \n",
      "3     POINT (104.920232 11.537783)      53912.0     18375.0      1.184211  \n",
      "4  POINT (104.9086133 11.57920232)      53926.0      9274.0   4950.000000  \n"
     ]
    }
   ],
   "source": [
    "print(\"df\")\n",
    "print(df.head())"
   ]
  },
  {
   "cell_type": "code",
   "execution_count": 7,
   "id": "f721b856",
   "metadata": {},
   "outputs": [
    {
     "name": "stdout",
     "output_type": "stream",
     "text": [
      "df 1\n",
      "         id                                           headline price_display  \\\n",
      "0  235560.0                               Link house for sale       $114,000   \n",
      "1  248374.0                                      Land for Sale  $1,800.0/mÂ²   \n",
      "2  248290.0  <b>Development Land For Sales (National Road 3...    $700.0/mÂ²   \n",
      "3  248489.0  ?????????????????? ??? Urban Village Phase 2 ?...       $90,000   \n",
      "4  235239.0  Land in front of Eden Garden inside Phnom Penh...  $276,264,450   \n",
      "\n",
      "   bedrooms  bathrooms  land_area address_subdivision address_locality  \\\n",
      "0       4.0        5.0       71.4          Phnom Penh   Chroy Changvar   \n",
      "1       NaN        NaN   104635.0          Phnom Penh       Russey Keo   \n",
      "2       NaN        NaN    84000.0          Phnom Penh     Por Sen Chey   \n",
      "3       1.0        1.0    76000.0          Phnom Penh         Meanchey   \n",
      "4       NaN        NaN    55811.0          Phnom Penh        Daun Penh   \n",
      "\n",
      "    address_line_2 address_line_1     category_name  is_parent         type  \\\n",
      "0      Preaek Lieb                             Unit      False  residential   \n",
      "1   Tuol Sangkae 1        273 273  Land/Development      False  residential   \n",
      "2          Kantaok          N3 N3  Land/Development      False  residential   \n",
      "3  Chak Angrae Leu                            Condo      False  residential   \n",
      "4        Srah Chak                 Land/Development      False  residential   \n",
      "\n",
      "                                         information   latitude   longitude  \n",
      "0  - Address: Commune Preaek Lieb, District Chroy...  11.589674  104.925654  \n",
      "1  Land Located at Tuol Kok Village, Sangkat Tuol...  11.587810  104.902234  \n",
      "2  Land for Sale or Rent on Road N3 Main Road - H...  11.537783  104.920232  \n",
      "3  Condo for sale in Chak Angrae Leu, Meanchey, P...  11.537783  104.920232  \n",
      "4  Land in front of Eden Garden for Sales Size: 5...  11.579202  104.908613  \n"
     ]
    }
   ],
   "source": [
    "print(\"df 1\")\n",
    "print(df_1.head())"
   ]
  },
  {
   "cell_type": "code",
   "execution_count": 8,
   "id": "b4ad12e7",
   "metadata": {},
   "outputs": [
    {
     "data": {
      "text/plain": [
       "(3755, 17)"
      ]
     },
     "execution_count": 8,
     "metadata": {},
     "output_type": "execute_result"
    }
   ],
   "source": [
    "df.shape"
   ]
  },
  {
   "cell_type": "code",
   "execution_count": 9,
   "id": "ba5e7f07",
   "metadata": {},
   "outputs": [],
   "source": [
    "df_merged = df.merge(\n",
    "    df_1[['id', 'information', 'price_display']].rename(columns={'display_price': 'price'}),\n",
    "    on='id',\n",
    "    how='left'\n",
    ")\n"
   ]
  },
  {
   "cell_type": "code",
   "execution_count": 58,
   "id": "92b3ad8e",
   "metadata": {},
   "outputs": [
    {
     "data": {
      "text/plain": [
       "(3755, 19)"
      ]
     },
     "execution_count": 58,
     "metadata": {},
     "output_type": "execute_result"
    }
   ],
   "source": [
    "df_merged.shape"
   ]
  },
  {
   "cell_type": "code",
   "execution_count": null,
   "id": "6b86f4b9",
   "metadata": {},
   "outputs": [],
   "source": [
    "# df_merged.to_csv('../../data/processed/realestates_kh_with_information.csv', index=False, encoding='latin1')"
   ]
  },
  {
   "cell_type": "code",
   "execution_count": 60,
   "id": "9a887441",
   "metadata": {},
   "outputs": [],
   "source": [
    "pd.set_option('display.max_columns', None)\n",
    "pd.set_option('display.max_rows', 10000)"
   ]
  },
  {
   "cell_type": "code",
   "execution_count": 13,
   "id": "8e9a2583",
   "metadata": {},
   "outputs": [
    {
     "data": {
      "application/vnd.microsoft.datawrangler.viewer.v0+json": {
       "columns": [
        {
         "name": "index",
         "rawType": "int64",
         "type": "integer"
        },
        {
         "name": "id",
         "rawType": "float64",
         "type": "float"
        },
        {
         "name": "price_display_x",
         "rawType": "float64",
         "type": "float"
        },
        {
         "name": "bedrooms",
         "rawType": "float64",
         "type": "float"
        },
        {
         "name": "bathrooms",
         "rawType": "float64",
         "type": "float"
        },
        {
         "name": "land_area",
         "rawType": "float64",
         "type": "float"
        },
        {
         "name": "address_subdivision",
         "rawType": "object",
         "type": "string"
        },
        {
         "name": "address_locality",
         "rawType": "object",
         "type": "string"
        },
        {
         "name": "address_line_2",
         "rawType": "object",
         "type": "string"
        },
        {
         "name": "category_name",
         "rawType": "object",
         "type": "string"
        },
        {
         "name": "is_parent",
         "rawType": "bool",
         "type": "boolean"
        },
        {
         "name": "type",
         "rawType": "object",
         "type": "string"
        },
        {
         "name": "latitude",
         "rawType": "float64",
         "type": "float"
        },
        {
         "name": "longitude",
         "rawType": "float64",
         "type": "float"
        },
        {
         "name": "geometry",
         "rawType": "object",
         "type": "string"
        },
        {
         "name": "index_right",
         "rawType": "float64",
         "type": "float"
        },
        {
         "name": "population",
         "rawType": "float64",
         "type": "float"
        },
        {
         "name": "price_per_m2",
         "rawType": "float64",
         "type": "float"
        },
        {
         "name": "information",
         "rawType": "object",
         "type": "string"
        },
        {
         "name": "price_display_y",
         "rawType": "object",
         "type": "string"
        }
       ],
       "ref": "0753cdac-9ebe-4ca0-bf3f-8324aae25701",
       "rows": [
        [
         "0",
         "235560.0",
         "114000.0",
         "4.0",
         "5.0",
         "71.4",
         "Phnom Penh",
         "Chroy Changvar",
         "Preaek Lieb",
         "Unit",
         "False",
         "residential",
         "11.589674",
         "104.925654",
         "POINT (104.925654 11.589674)",
         "54162.0",
         "11327.0",
         "1596.6386554621847",
         "- Address: Commune Preaek Lieb, District Chroy Changva, Phnom Penh - Land area : 4.2m x 17m - Building area : 4.2m x 10m - Room ( s ) : 4 - Floors ( s ) : 2 - Price : $ 114000 - ID :  KEY-16165",
         "$114,000"
        ],
        [
         "1",
         "248374.0",
         "188343000.0",
         null,
         null,
         "104635.0",
         "Phnom Penh",
         "Russey Keo",
         "Tuol Sangkae 1",
         "Land/Development",
         "False",
         "residential",
         "11.5878099",
         "104.9022337",
         "POINT (104.9022337 11.5878099)",
         "54093.0",
         "8037.0",
         "1800.0",
         "Land Located at Tuol Kok Village, Sangkat Tuol Sangkae 1, Khan Russey Keo, Phnom Penh",
         "$1,800.0/mÂ²"
        ],
        [
         "2",
         "248290.0",
         "58800000.0",
         null,
         null,
         "84000.0",
         "Phnom Penh",
         "Por Sen Chey",
         "Kantaok",
         "Land/Development",
         "False",
         "residential",
         "11.537783",
         "104.920232",
         "POINT (104.920232 11.537783)",
         "53912.0",
         "18375.0",
         "700.0",
         "Land for Sale or Rent on Road N3 Main Road - Hard Title - Land 8.40hectares - Price for Sale 700$/Sqm - Price for Rent 1.5$/Sqm - Kind of land : Development land - Commercial land",
         "$700.0/mÂ²"
        ],
        [
         "3",
         "248489.0",
         "90000.0",
         "1.0",
         "1.0",
         "76000.0",
         "Phnom Penh",
         "Meanchey",
         "Chak Angrae Leu",
         "Condo",
         "False",
         "residential",
         "11.537783",
         "104.920232",
         "POINT (104.920232 11.537783)",
         "53912.0",
         "18375.0",
         "1.1842105263157894",
         "Condo for sale in Chak Angrae Leu, Meanchey, Phnom Penh at $90,000. Details This Condo has 1 bedroom and 1 bathroom plus parking for 0 cars. The property includes a generous land holding of 76000.00 m2, with an internal floor area of 56.00. Location Enjoy living in a convenient location with this Condo for sale. If you would like to know more about this property, send an email to the agent by clicking \"Enquire\" or \"Email Agent\" buttons, or click the phone icon to reveal the agent's number to make a call. Alternatively, you can save this property and revisit it later.",
         "$90,000"
        ],
        [
         "4",
         "235239.0",
         "276264450.0",
         null,
         null,
         "55811.0",
         "Phnom Penh",
         "Daun Penh",
         "Srah Chak",
         "Land/Development",
         "False",
         "residential",
         "11.57920232",
         "104.9086133",
         "POINT (104.9086133 11.57920232)",
         "53926.0",
         "9274.0",
         "4950.0",
         "Land in front of Eden Garden for Sales Size: 55811 m2 Width: 166m Depth: 335 m Price: 4xxx/m2 Ownership Type: Hard Title Location: land located in front of Eden Garden and View Park inside the Phnom Penh City Center. This land is suitable for constructing an apartment complex, hotel, shopping mall, skyscraper, office building, and other commercial endeavors. Map: https://goo.gl/maps/oDS7UbiFvqonVEsn9 #PPCC #phnompenhcitycenter #land #sale #bussinesdistrict #Edengarden #??? #?????? PCC #phnompenhpenhcitycenter #land #sale #bussinesdistrict #Edengarden #??? #??????? #??????????? #?????? #????????? #?????? #Boeungkak #land",
         "$276,264,450"
        ]
       ],
       "shape": {
        "columns": 19,
        "rows": 5
       }
      },
      "text/html": [
       "<div>\n",
       "<style scoped>\n",
       "    .dataframe tbody tr th:only-of-type {\n",
       "        vertical-align: middle;\n",
       "    }\n",
       "\n",
       "    .dataframe tbody tr th {\n",
       "        vertical-align: top;\n",
       "    }\n",
       "\n",
       "    .dataframe thead th {\n",
       "        text-align: right;\n",
       "    }\n",
       "</style>\n",
       "<table border=\"1\" class=\"dataframe\">\n",
       "  <thead>\n",
       "    <tr style=\"text-align: right;\">\n",
       "      <th></th>\n",
       "      <th>id</th>\n",
       "      <th>price_display_x</th>\n",
       "      <th>bedrooms</th>\n",
       "      <th>bathrooms</th>\n",
       "      <th>land_area</th>\n",
       "      <th>address_subdivision</th>\n",
       "      <th>address_locality</th>\n",
       "      <th>address_line_2</th>\n",
       "      <th>category_name</th>\n",
       "      <th>is_parent</th>\n",
       "      <th>type</th>\n",
       "      <th>latitude</th>\n",
       "      <th>longitude</th>\n",
       "      <th>geometry</th>\n",
       "      <th>index_right</th>\n",
       "      <th>population</th>\n",
       "      <th>price_per_m2</th>\n",
       "      <th>information</th>\n",
       "      <th>price_display_y</th>\n",
       "    </tr>\n",
       "  </thead>\n",
       "  <tbody>\n",
       "    <tr>\n",
       "      <th>0</th>\n",
       "      <td>235560.0</td>\n",
       "      <td>114000.0</td>\n",
       "      <td>4.0</td>\n",
       "      <td>5.0</td>\n",
       "      <td>71.4</td>\n",
       "      <td>Phnom Penh</td>\n",
       "      <td>Chroy Changvar</td>\n",
       "      <td>Preaek Lieb</td>\n",
       "      <td>Unit</td>\n",
       "      <td>False</td>\n",
       "      <td>residential</td>\n",
       "      <td>11.589674</td>\n",
       "      <td>104.925654</td>\n",
       "      <td>POINT (104.925654 11.589674)</td>\n",
       "      <td>54162.0</td>\n",
       "      <td>11327.0</td>\n",
       "      <td>1596.638655</td>\n",
       "      <td>- Address: Commune Preaek Lieb, District Chroy...</td>\n",
       "      <td>$114,000</td>\n",
       "    </tr>\n",
       "    <tr>\n",
       "      <th>1</th>\n",
       "      <td>248374.0</td>\n",
       "      <td>188343000.0</td>\n",
       "      <td>NaN</td>\n",
       "      <td>NaN</td>\n",
       "      <td>104635.0</td>\n",
       "      <td>Phnom Penh</td>\n",
       "      <td>Russey Keo</td>\n",
       "      <td>Tuol Sangkae 1</td>\n",
       "      <td>Land/Development</td>\n",
       "      <td>False</td>\n",
       "      <td>residential</td>\n",
       "      <td>11.587810</td>\n",
       "      <td>104.902234</td>\n",
       "      <td>POINT (104.9022337 11.5878099)</td>\n",
       "      <td>54093.0</td>\n",
       "      <td>8037.0</td>\n",
       "      <td>1800.000000</td>\n",
       "      <td>Land Located at Tuol Kok Village, Sangkat Tuol...</td>\n",
       "      <td>$1,800.0/mÂ²</td>\n",
       "    </tr>\n",
       "    <tr>\n",
       "      <th>2</th>\n",
       "      <td>248290.0</td>\n",
       "      <td>58800000.0</td>\n",
       "      <td>NaN</td>\n",
       "      <td>NaN</td>\n",
       "      <td>84000.0</td>\n",
       "      <td>Phnom Penh</td>\n",
       "      <td>Por Sen Chey</td>\n",
       "      <td>Kantaok</td>\n",
       "      <td>Land/Development</td>\n",
       "      <td>False</td>\n",
       "      <td>residential</td>\n",
       "      <td>11.537783</td>\n",
       "      <td>104.920232</td>\n",
       "      <td>POINT (104.920232 11.537783)</td>\n",
       "      <td>53912.0</td>\n",
       "      <td>18375.0</td>\n",
       "      <td>700.000000</td>\n",
       "      <td>Land for Sale or Rent on Road N3 Main Road - H...</td>\n",
       "      <td>$700.0/mÂ²</td>\n",
       "    </tr>\n",
       "    <tr>\n",
       "      <th>3</th>\n",
       "      <td>248489.0</td>\n",
       "      <td>90000.0</td>\n",
       "      <td>1.0</td>\n",
       "      <td>1.0</td>\n",
       "      <td>76000.0</td>\n",
       "      <td>Phnom Penh</td>\n",
       "      <td>Meanchey</td>\n",
       "      <td>Chak Angrae Leu</td>\n",
       "      <td>Condo</td>\n",
       "      <td>False</td>\n",
       "      <td>residential</td>\n",
       "      <td>11.537783</td>\n",
       "      <td>104.920232</td>\n",
       "      <td>POINT (104.920232 11.537783)</td>\n",
       "      <td>53912.0</td>\n",
       "      <td>18375.0</td>\n",
       "      <td>1.184211</td>\n",
       "      <td>Condo for sale in Chak Angrae Leu, Meanchey, P...</td>\n",
       "      <td>$90,000</td>\n",
       "    </tr>\n",
       "    <tr>\n",
       "      <th>4</th>\n",
       "      <td>235239.0</td>\n",
       "      <td>276264450.0</td>\n",
       "      <td>NaN</td>\n",
       "      <td>NaN</td>\n",
       "      <td>55811.0</td>\n",
       "      <td>Phnom Penh</td>\n",
       "      <td>Daun Penh</td>\n",
       "      <td>Srah Chak</td>\n",
       "      <td>Land/Development</td>\n",
       "      <td>False</td>\n",
       "      <td>residential</td>\n",
       "      <td>11.579202</td>\n",
       "      <td>104.908613</td>\n",
       "      <td>POINT (104.9086133 11.57920232)</td>\n",
       "      <td>53926.0</td>\n",
       "      <td>9274.0</td>\n",
       "      <td>4950.000000</td>\n",
       "      <td>Land in front of Eden Garden for Sales Size: 5...</td>\n",
       "      <td>$276,264,450</td>\n",
       "    </tr>\n",
       "  </tbody>\n",
       "</table>\n",
       "</div>"
      ],
      "text/plain": [
       "         id  price_display_x  bedrooms  bathrooms  land_area  \\\n",
       "0  235560.0         114000.0       4.0        5.0       71.4   \n",
       "1  248374.0      188343000.0       NaN        NaN   104635.0   \n",
       "2  248290.0       58800000.0       NaN        NaN    84000.0   \n",
       "3  248489.0          90000.0       1.0        1.0    76000.0   \n",
       "4  235239.0      276264450.0       NaN        NaN    55811.0   \n",
       "\n",
       "  address_subdivision address_locality   address_line_2     category_name  \\\n",
       "0          Phnom Penh   Chroy Changvar      Preaek Lieb              Unit   \n",
       "1          Phnom Penh       Russey Keo   Tuol Sangkae 1  Land/Development   \n",
       "2          Phnom Penh     Por Sen Chey          Kantaok  Land/Development   \n",
       "3          Phnom Penh         Meanchey  Chak Angrae Leu             Condo   \n",
       "4          Phnom Penh        Daun Penh        Srah Chak  Land/Development   \n",
       "\n",
       "   is_parent         type   latitude   longitude  \\\n",
       "0      False  residential  11.589674  104.925654   \n",
       "1      False  residential  11.587810  104.902234   \n",
       "2      False  residential  11.537783  104.920232   \n",
       "3      False  residential  11.537783  104.920232   \n",
       "4      False  residential  11.579202  104.908613   \n",
       "\n",
       "                          geometry  index_right  population  price_per_m2  \\\n",
       "0     POINT (104.925654 11.589674)      54162.0     11327.0   1596.638655   \n",
       "1   POINT (104.9022337 11.5878099)      54093.0      8037.0   1800.000000   \n",
       "2     POINT (104.920232 11.537783)      53912.0     18375.0    700.000000   \n",
       "3     POINT (104.920232 11.537783)      53912.0     18375.0      1.184211   \n",
       "4  POINT (104.9086133 11.57920232)      53926.0      9274.0   4950.000000   \n",
       "\n",
       "                                         information price_display_y  \n",
       "0  - Address: Commune Preaek Lieb, District Chroy...        $114,000  \n",
       "1  Land Located at Tuol Kok Village, Sangkat Tuol...    $1,800.0/mÂ²  \n",
       "2  Land for Sale or Rent on Road N3 Main Road - H...      $700.0/mÂ²  \n",
       "3  Condo for sale in Chak Angrae Leu, Meanchey, P...         $90,000  \n",
       "4  Land in front of Eden Garden for Sales Size: 5...    $276,264,450  "
      ]
     },
     "execution_count": 13,
     "metadata": {},
     "output_type": "execute_result"
    }
   ],
   "source": [
    "df_merged.head()"
   ]
  },
  {
   "cell_type": "code",
   "execution_count": 12,
   "id": "0bcfcc9e",
   "metadata": {},
   "outputs": [
    {
     "name": "stdout",
     "output_type": "stream",
     "text": [
      "Merge\n",
      "         id  price_display_x  bedrooms  bathrooms  land_area  \\\n",
      "0  235560.0         114000.0       4.0        5.0       71.4   \n",
      "1  248374.0      188343000.0       NaN        NaN   104635.0   \n",
      "2  248290.0       58800000.0       NaN        NaN    84000.0   \n",
      "3  248489.0          90000.0       1.0        1.0    76000.0   \n",
      "4  235239.0      276264450.0       NaN        NaN    55811.0   \n",
      "\n",
      "  address_subdivision address_locality   address_line_2     category_name  \\\n",
      "0          Phnom Penh   Chroy Changvar      Preaek Lieb              Unit   \n",
      "1          Phnom Penh       Russey Keo   Tuol Sangkae 1  Land/Development   \n",
      "2          Phnom Penh     Por Sen Chey          Kantaok  Land/Development   \n",
      "3          Phnom Penh         Meanchey  Chak Angrae Leu             Condo   \n",
      "4          Phnom Penh        Daun Penh        Srah Chak  Land/Development   \n",
      "\n",
      "   is_parent         type   latitude   longitude  \\\n",
      "0      False  residential  11.589674  104.925654   \n",
      "1      False  residential  11.587810  104.902234   \n",
      "2      False  residential  11.537783  104.920232   \n",
      "3      False  residential  11.537783  104.920232   \n",
      "4      False  residential  11.579202  104.908613   \n",
      "\n",
      "                          geometry  index_right  population  price_per_m2  \\\n",
      "0     POINT (104.925654 11.589674)      54162.0     11327.0   1596.638655   \n",
      "1   POINT (104.9022337 11.5878099)      54093.0      8037.0   1800.000000   \n",
      "2     POINT (104.920232 11.537783)      53912.0     18375.0    700.000000   \n",
      "3     POINT (104.920232 11.537783)      53912.0     18375.0      1.184211   \n",
      "4  POINT (104.9086133 11.57920232)      53926.0      9274.0   4950.000000   \n",
      "\n",
      "                                         information price_display_y  \n",
      "0  - Address: Commune Preaek Lieb, District Chroy...        $114,000  \n",
      "1  Land Located at Tuol Kok Village, Sangkat Tuol...    $1,800.0/mÂ²  \n",
      "2  Land for Sale or Rent on Road N3 Main Road - H...      $700.0/mÂ²  \n",
      "3  Condo for sale in Chak Angrae Leu, Meanchey, P...         $90,000  \n",
      "4  Land in front of Eden Garden for Sales Size: 5...    $276,264,450  \n"
     ]
    }
   ],
   "source": [
    "print('Merge')\n",
    "print(df_merged.head())"
   ]
  },
  {
   "cell_type": "code",
   "execution_count": 14,
   "id": "655b88bd",
   "metadata": {},
   "outputs": [],
   "source": [
    "df_merged = df_merged.rename(columns={\n",
    "    'price_display_x': 'price',\n",
    "    'price_display_y': 'price_display'\n",
    "})\n"
   ]
  },
  {
   "cell_type": "code",
   "execution_count": 15,
   "id": "dd8deabd",
   "metadata": {},
   "outputs": [
    {
     "name": "stdout",
     "output_type": "stream",
     "text": [
      "         id        price price_display\n",
      "0  235560.0     114000.0      $114,000\n",
      "1  248374.0  188343000.0  $1,800.0/mÂ²\n",
      "2  248290.0   58800000.0    $700.0/mÂ²\n",
      "3  248489.0      90000.0       $90,000\n",
      "4  235239.0  276264450.0  $276,264,450\n"
     ]
    }
   ],
   "source": [
    "print(df_merged[['id', 'price', 'price_display']].head())"
   ]
  },
  {
   "cell_type": "code",
   "execution_count": 16,
   "id": "1ecda5e7",
   "metadata": {},
   "outputs": [],
   "source": [
    "df_merged.to_csv('../../data/processed/realestates_kh_with_information.csv', index=False, encoding='latin1')"
   ]
  }
 ],
 "metadata": {
  "kernelspec": {
   "display_name": "env_v3.10",
   "language": "python",
   "name": "python3"
  },
  "language_info": {
   "codemirror_mode": {
    "name": "ipython",
    "version": 3
   },
   "file_extension": ".py",
   "mimetype": "text/x-python",
   "name": "python",
   "nbconvert_exporter": "python",
   "pygments_lexer": "ipython3",
   "version": "3.10.16"
  }
 },
 "nbformat": 4,
 "nbformat_minor": 5
}
