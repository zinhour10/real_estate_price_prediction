{
 "cells": [
  {
   "cell_type": "code",
   "execution_count": 6,
   "id": "e98c79a7",
   "metadata": {},
   "outputs": [],
   "source": [
    "import pandas as pd\n",
    "import numpy as np\n",
    "import re"
   ]
  },
  {
   "cell_type": "code",
   "execution_count": 7,
   "id": "861e37ef",
   "metadata": {},
   "outputs": [],
   "source": [
    "df = pd.read_csv('../../data/processed/realestates_kh_v2_3_3.csv', encoding='latin1')"
   ]
  },
  {
   "cell_type": "code",
   "execution_count": 8,
   "id": "4a065f7c",
   "metadata": {},
   "outputs": [],
   "source": [
    "def extract_bedrooms(info):\n",
    "    if pd.isnull(info):\n",
    "        return None\n",
    "    # Range: 1-3Bedroom, 2-4 Bedrooms\n",
    "    match = re.search(r'(\\d+)\\s*-\\s*(\\d+)\\s*bed(?:room)?s?', info, re.IGNORECASE)\n",
    "    if match:\n",
    "        return int(match.group(2))\n",
    "    # \"Studio\" as 1 bedroom\n",
    "    if re.search(r'studio', info, re.IGNORECASE):\n",
    "        return 1\n",
    "    # \"Bedrooms: 2\" or \"Bedroom : 2\"\n",
    "    match = re.search(r'bed(?:room)?s?\\s*[:=]\\s*(\\d+)', info, re.IGNORECASE)\n",
    "    if match:\n",
    "        return int(match.group(1))\n",
    "    # \"2BR/2BA\" or \"2BR\"\n",
    "    match = re.search(r'(\\d+)\\s*BR\\b', info, re.IGNORECASE)\n",
    "    if match:\n",
    "        return int(match.group(1))\n",
    "    # \"4 bed 5 bath\"\n",
    "    match = re.search(r'(\\d+)\\s*bed\\b', info, re.IGNORECASE)\n",
    "    if match:\n",
    "        return int(match.group(1))\n",
    "    # \"(\\d+) bedrooms\"\n",
    "    match = re.search(r'(\\d+)\\s*bed(?:room)?s?', info, re.IGNORECASE)\n",
    "    if match:\n",
    "        return int(match.group(1))\n",
    "    return None\n",
    "\n",
    "def extract_bathrooms(info):\n",
    "    if pd.isnull(info):\n",
    "        return None\n",
    "    # Range: 1-3Bathroom, 2-4 Bathrooms\n",
    "    match = re.search(r'(\\d+)\\s*-\\s*(\\d+)\\s*bath(?:room)?s?', info, re.IGNORECASE)\n",
    "    if match:\n",
    "        return int(match.group(2))\n",
    "    # \"Bathrooms: 2\" or \"Bathroom : 2\"\n",
    "    match = re.search(r'bath(?:room)?s?\\s*[:=]\\s*(\\d+)', info, re.IGNORECASE)\n",
    "    if match:\n",
    "        return int(match.group(1))\n",
    "    # \"2BR/2BA\" or \"2BA\"\n",
    "    match = re.search(r'(\\d+)\\s*BA\\b', info, re.IGNORECASE)\n",
    "    if match:\n",
    "        return int(match.group(1))\n",
    "    # \"4 bed 5 bath\"\n",
    "    match = re.search(r'(\\d+)\\s*bath\\b', info, re.IGNORECASE)\n",
    "    if match:\n",
    "        return int(match.group(1))\n",
    "    # \"(\\d+) bathrooms\"\n",
    "    match = re.search(r'(\\d+)\\s*bath(?:room)?s?', info, re.IGNORECASE)\n",
    "    if match:\n",
    "        return int(match.group(1))\n",
    "    return None"
   ]
  },
  {
   "cell_type": "code",
   "execution_count": 9,
   "id": "f832c3a6",
   "metadata": {},
   "outputs": [],
   "source": [
    "# Extract for rows where bedrooms or bathrooms are null\n",
    "mask_bed = df['bedrooms'].isnull()\n",
    "mask_bath = df['bathrooms'].isnull()\n",
    "df.loc[mask_bed, 'bedrooms'] = df.loc[mask_bed, 'information'].apply(extract_bedrooms)\n",
    "df.loc[mask_bath, 'bathrooms'] = df.loc[mask_bath, 'information'].apply(extract_bathrooms)\n"
   ]
  },
  {
   "cell_type": "code",
   "execution_count": 10,
   "id": "8a0e3148",
   "metadata": {},
   "outputs": [
    {
     "data": {
      "application/vnd.microsoft.datawrangler.viewer.v0+json": {
       "columns": [
        {
         "name": "index",
         "rawType": "object",
         "type": "string"
        },
        {
         "name": "0",
         "rawType": "int64",
         "type": "integer"
        }
       ],
       "ref": "574b6940-73ec-430f-a38f-9135848ae322",
       "rows": [
        [
         "id",
         "0"
        ],
        [
         "headline",
         "0"
        ],
        [
         "price_display",
         "1"
        ],
        [
         "bedrooms",
         "668"
        ],
        [
         "bathrooms",
         "691"
        ],
        [
         "land_area",
         "0"
        ],
        [
         "address_subdivision",
         "0"
        ],
        [
         "address_locality",
         "0"
        ],
        [
         "address_line_2",
         "4"
        ],
        [
         "address_line_1",
         "110"
        ],
        [
         "category_name",
         "0"
        ],
        [
         "is_parent",
         "0"
        ],
        [
         "type",
         "0"
        ],
        [
         "information",
         "18"
        ],
        [
         "latitude",
         "0"
        ],
        [
         "longitude",
         "0"
        ]
       ],
       "shape": {
        "columns": 1,
        "rows": 16
       }
      },
      "text/plain": [
       "id                       0\n",
       "headline                 0\n",
       "price_display            1\n",
       "bedrooms               668\n",
       "bathrooms              691\n",
       "land_area                0\n",
       "address_subdivision      0\n",
       "address_locality         0\n",
       "address_line_2           4\n",
       "address_line_1         110\n",
       "category_name            0\n",
       "is_parent                0\n",
       "type                     0\n",
       "information             18\n",
       "latitude                 0\n",
       "longitude                0\n",
       "dtype: int64"
      ]
     },
     "execution_count": 10,
     "metadata": {},
     "output_type": "execute_result"
    }
   ],
   "source": [
    "df.isnull().sum()"
   ]
  },
  {
   "cell_type": "code",
   "execution_count": 11,
   "id": "24487cc8",
   "metadata": {},
   "outputs": [
    {
     "name": "stdout",
     "output_type": "stream",
     "text": [
      "Sample information with null bedrooms:\n",
      "1. Land Located at Tuol Kok Village, Sangkat Tuol Sangkae 1, Khan Russey Keo, Phnom Penh\n",
      "------------------------------------------------------------\n",
      "2. Land for Sale or Rent on Road N3 Main Road - Hard Title - Land 8.40hectares - Price for Sale 700$/Sqm - Price for Rent 1.5$/Sqm - Kind of land : Development land - Commercial land\n",
      "------------------------------------------------------------\n",
      "3. Land in front of Eden Garden for Sales Size: 55811 m2 Width: 166m Depth: 335 m Price: 4xxx/m2 Ownership Type: Hard Title Location: land located in front of Eden Garden and View Park inside the Phnom Penh City Center. This land is suitable for constructing an apartment complex, hotel, shopping mall, skyscraper, office building, and other commercial endeavors. Map: https://goo.gl/maps/oDS7UbiFvqonVEsn9 #PPCC #phnompenhcitycenter #land #sale #bussinesdistrict #Edengarden #??? #?????? PCC #phnompenhpenhcitycenter #land #sale #bussinesdistrict #Edengarden #??? #??????? #??????????? #?????? #????????? #?????? #Boeungkak #land\n",
      "------------------------------------------------------------\n",
      "4. Land for Urgent Sale?? (Road # 3) 1. Sales / SQM Feature: 41000? Land / Lands: Garment is near the 3rd Arrong Road ? fland on the Main Road # 3 is located Only 1.8km from Choam Choam Chao. ?this property and Ground Has Surrounded A Lot of Building for Example Commercial condominiums, Hotel, Gasoline Station etc. 5. LOCATION Angk Village, Por Senat Village, Por Senat Village Kantaok, Kamboint, Phnom Penh (Road # 3)\n",
      "------------------------------------------------------------\n",
      "5. Vacant Land for Sale ??Location: On the National road No. 3-Phum Anlong Takeat, Sangkat Kantaok, Khan Kamboul, Phnom Penh ??Selling Price: $400/sqm (Negotiable) ??Total Land Size: 41,000 square meters ??Hard title ownership\n",
      "------------------------------------------------------------\n",
      "6. Land for Urgent Sale?? (Road # 3) 1. Sales / SQM Feature: 41000? Land / Land Feature on National Roads Gasten and near the 3rd Arrong Road ? landed on the Main Road # 3 is located Only 2.5km from the Sky Bridge Choam Choam Choam Chao. ?this property and Ground Has Surrounded A Lot of Building for Example Commercial condominiums, Hotel, Gasoline Station etc. 5. LOCATION Angkva Village, Por Sen Chang, Khambang, Por Sen Villak Vake Kantaok, Kamboint Kamboint Kantaoul, Phnom Penh, Phnom Penh, Phnom Penh https://maps.goo.Gool.gl/nvmfwvb6JqCHTH3JQQS36 Land for urgent Sale?? (Road # 3)\n",
      "------------------------------------------------------------\n",
      "7. This expansive factory and land property , located in a thriving industrial area, is now available for sale at $19M . With a generous land size of 170m x 240m , the property is perfect for large-scale manufacturing or industrial use. The site includes: A spacious main factory building measuring 90m x 180m An EPS factory of 30m x 70m An office building spanning 20m x 35m across three floors Dormitory units (3 units, each 6m x 8m) The property also features a robust 380Amh electricity supply , ensuring smooth industrial operations. Conveniently located just 5 minutes from the PPSHV expressway , it is close to schools, supermarkets, restaurants, and a well-developed manufacturing area. This property offers both strategic location and functional infrastructure for businesses. Key Features: - Land size: 170m x 240m - Main factory: 90m x 180m - EPS factory: 30m x 70m - Office building: 20m x 35m (3 floors) - Dormitories: 3 units, 6m x 8m each - Electricity: 380Amh - Hard title - Prime location near expressway and commercial amenities Contact us now for more details or to arrange a viewing!\n",
      "------------------------------------------------------------\n",
      "8. Land for sale size 32428mÂ² Price $ 900 / 1mÂ² Hard title deed ownership Land income $ 18000_ $ 20000 / month The land is in a good location, the land is right next to the road, it is good for business and construction of condominiums and it is a big area with high odds. Contact Information\n",
      "------------------------------------------------------------\n",
      "9. - Address: Commune Krang Pongro, District  Dangkao, Phnom Penh - Land area : 27481m2 - Price : $120/sq.m - ID : KEY-16192\n",
      "------------------------------------------------------------\n",
      "10. This corner investment land for sale at Prey Sar area and next to Borey Santepheap 2, Sangkat Prey Sar, Khan Dangkor, Phnom Penh City. Â Land size: 2.6 Ha Â On frontage road: 102 m Â Price: $195/Sq.m It's a very good for real estate investment or develop into build commpund villa, twin villa, flat houses, international school, hospital, warehouse, factory and for all kinds of business activities. For more information, please contact us now to visiting!\n",
      "------------------------------------------------------------\n",
      "11. Land for sale located at at Banla S'et Village, Sangkat Khmuonh, Khan Saensokh, Phnom Penh\n",
      "------------------------------------------------------------\n",
      "12. Land for sale located at Hun Sen blvd (60m), Preaek Ta Long III Village, Sangkat Chak Angrae Kraom , Khan Mean Chey, Phnom Penh. -Price: = $1,350 / sq.m, urgent sale (Negotiable) = $1,500 / sq.m, if buy 2 plots (Negotiable) -Seller: fill the land\n",
      "------------------------------------------------------------\n",
      "13. Corner Commercial Land For Sale on St. Hun Sen Blvd and Opposite AEON MALL-3 Land Size : 18,774 Sqm Price: $1,900/Sqm Negotiable This commercial land is very good for real estate investment, building business center, hotel, condo, showroom, shopping international school, hospital and all business activities\n",
      "------------------------------------------------------------\n",
      "14. This commercial land location is a long 60-meter road (Samdech Hun Sen Blvd), corner of Chhun Kong Blvd, and in front of AEON Mall-3, Phnom Penh. Â Size: 18,774 SQM Â L-Map Â Price: $1,650/SQM negotiable This commercial land is very good for real estate investment, building business center, hotel, condo, showroom, shopping international school, hospital and all business activities.\n",
      "------------------------------------------------------------\n",
      "15. ?? Land for sale next to National Road 42 in front of Canadia Development Land and near many Borey projects under construction ?? _ Land next to National Road 42 (50m wide ring road) Owners only 1) Total size is about 16000m Â² The front plot next to National Road 42 has two lanes (as in the picture). The main entrance is about 76 m long, next to National Road 42. The second lane, more than 14 m long, next to National Road 42. The back plot is 170m long, next to the cart road is 4m. Suitable for development, building houses for sale. Currently, many Boreys are being built near this land_Location: National Road 42, Chey Chumneas Village, Sangkat Ovulok, Khan Kampol, Phnom Penh.\n",
      "------------------------------------------------------------\n",
      "16. * Land for sale: - Selling price: $1,462,050 - Land size: 15,390 sqm - Document: Hard Title\n",
      "------------------------------------------------------------\n",
      "17. nan\n",
      "------------------------------------------------------------\n",
      "18. - Address: Commune Kambol, District Kambol , Phnom Penh - Land area :  100m x 120m - Price : $110\n",
      "------------------------------------------------------------\n",
      "19. This land for sale offers a total area of 11,817sqm, perfect for large-scale development or industrial use. The main factory building measures 60m x 127m , with an additional 20m x 40m building on the property, providing ample space for production or storage. The land is facing east, allowing for good natural light and ventilation. It comes with a hard title for easy ownership transfer. The current owner will also handle the transfer fee, making the process smooth and straightforward. This property is ideal for businesses looking to expand or develop their own factory space. Key Features: - Land size: 11,817sqm - Main factory building: 60m x 127m - Additional building: 20m x 40m - Facing east for natural light - Hard title for easy ownership - wner handles transfer fee\n",
      "------------------------------------------------------------\n",
      "20. Land For Sale Facing Riverside - Selling Price: $2,800,000 - Property ID: IL-L-098 - Land Size: 10,826 sqm - The best option for resort ??Location: Koh Dach (Riverside)\n",
      "------------------------------------------------------------\n",
      "\n",
      "Sample information with null bathrooms:\n",
      "1. Land Located at Tuol Kok Village, Sangkat Tuol Sangkae 1, Khan Russey Keo, Phnom Penh\n",
      "------------------------------------------------------------\n",
      "2. Land for Sale or Rent on Road N3 Main Road - Hard Title - Land 8.40hectares - Price for Sale 700$/Sqm - Price for Rent 1.5$/Sqm - Kind of land : Development land - Commercial land\n",
      "------------------------------------------------------------\n",
      "3. Land in front of Eden Garden for Sales Size: 55811 m2 Width: 166m Depth: 335 m Price: 4xxx/m2 Ownership Type: Hard Title Location: land located in front of Eden Garden and View Park inside the Phnom Penh City Center. This land is suitable for constructing an apartment complex, hotel, shopping mall, skyscraper, office building, and other commercial endeavors. Map: https://goo.gl/maps/oDS7UbiFvqonVEsn9 #PPCC #phnompenhcitycenter #land #sale #bussinesdistrict #Edengarden #??? #?????? PCC #phnompenhpenhcitycenter #land #sale #bussinesdistrict #Edengarden #??? #??????? #??????????? #?????? #????????? #?????? #Boeungkak #land\n",
      "------------------------------------------------------------\n",
      "4. Land for Urgent Sale?? (Road # 3) 1. Sales / SQM Feature: 41000? Land / Lands: Garment is near the 3rd Arrong Road ? fland on the Main Road # 3 is located Only 1.8km from Choam Choam Chao. ?this property and Ground Has Surrounded A Lot of Building for Example Commercial condominiums, Hotel, Gasoline Station etc. 5. LOCATION Angk Village, Por Senat Village, Por Senat Village Kantaok, Kamboint, Phnom Penh (Road # 3)\n",
      "------------------------------------------------------------\n",
      "5. Vacant Land for Sale ??Location: On the National road No. 3-Phum Anlong Takeat, Sangkat Kantaok, Khan Kamboul, Phnom Penh ??Selling Price: $400/sqm (Negotiable) ??Total Land Size: 41,000 square meters ??Hard title ownership\n",
      "------------------------------------------------------------\n",
      "6. Land for Urgent Sale?? (Road # 3) 1. Sales / SQM Feature: 41000? Land / Land Feature on National Roads Gasten and near the 3rd Arrong Road ? landed on the Main Road # 3 is located Only 2.5km from the Sky Bridge Choam Choam Choam Chao. ?this property and Ground Has Surrounded A Lot of Building for Example Commercial condominiums, Hotel, Gasoline Station etc. 5. LOCATION Angkva Village, Por Sen Chang, Khambang, Por Sen Villak Vake Kantaok, Kamboint Kamboint Kantaoul, Phnom Penh, Phnom Penh, Phnom Penh https://maps.goo.Gool.gl/nvmfwvb6JqCHTH3JQQS36 Land for urgent Sale?? (Road # 3)\n",
      "------------------------------------------------------------\n",
      "7. This expansive factory and land property , located in a thriving industrial area, is now available for sale at $19M . With a generous land size of 170m x 240m , the property is perfect for large-scale manufacturing or industrial use. The site includes: A spacious main factory building measuring 90m x 180m An EPS factory of 30m x 70m An office building spanning 20m x 35m across three floors Dormitory units (3 units, each 6m x 8m) The property also features a robust 380Amh electricity supply , ensuring smooth industrial operations. Conveniently located just 5 minutes from the PPSHV expressway , it is close to schools, supermarkets, restaurants, and a well-developed manufacturing area. This property offers both strategic location and functional infrastructure for businesses. Key Features: - Land size: 170m x 240m - Main factory: 90m x 180m - EPS factory: 30m x 70m - Office building: 20m x 35m (3 floors) - Dormitories: 3 units, 6m x 8m each - Electricity: 380Amh - Hard title - Prime location near expressway and commercial amenities Contact us now for more details or to arrange a viewing!\n",
      "------------------------------------------------------------\n",
      "8. Land for sale size 32428mÂ² Price $ 900 / 1mÂ² Hard title deed ownership Land income $ 18000_ $ 20000 / month The land is in a good location, the land is right next to the road, it is good for business and construction of condominiums and it is a big area with high odds. Contact Information\n",
      "------------------------------------------------------------\n",
      "9. - Address: Commune Krang Pongro, District  Dangkao, Phnom Penh - Land area : 27481m2 - Price : $120/sq.m - ID : KEY-16192\n",
      "------------------------------------------------------------\n",
      "10. This corner investment land for sale at Prey Sar area and next to Borey Santepheap 2, Sangkat Prey Sar, Khan Dangkor, Phnom Penh City. Â Land size: 2.6 Ha Â On frontage road: 102 m Â Price: $195/Sq.m It's a very good for real estate investment or develop into build commpund villa, twin villa, flat houses, international school, hospital, warehouse, factory and for all kinds of business activities. For more information, please contact us now to visiting!\n",
      "------------------------------------------------------------\n",
      "11. Land for sale located at at Banla S'et Village, Sangkat Khmuonh, Khan Saensokh, Phnom Penh\n",
      "------------------------------------------------------------\n",
      "12. Land for sale located at Hun Sen blvd (60m), Preaek Ta Long III Village, Sangkat Chak Angrae Kraom , Khan Mean Chey, Phnom Penh. -Price: = $1,350 / sq.m, urgent sale (Negotiable) = $1,500 / sq.m, if buy 2 plots (Negotiable) -Seller: fill the land\n",
      "------------------------------------------------------------\n",
      "13. Corner Commercial Land For Sale on St. Hun Sen Blvd and Opposite AEON MALL-3 Land Size : 18,774 Sqm Price: $1,900/Sqm Negotiable This commercial land is very good for real estate investment, building business center, hotel, condo, showroom, shopping international school, hospital and all business activities\n",
      "------------------------------------------------------------\n",
      "14. This commercial land location is a long 60-meter road (Samdech Hun Sen Blvd), corner of Chhun Kong Blvd, and in front of AEON Mall-3, Phnom Penh. Â Size: 18,774 SQM Â L-Map Â Price: $1,650/SQM negotiable This commercial land is very good for real estate investment, building business center, hotel, condo, showroom, shopping international school, hospital and all business activities.\n",
      "------------------------------------------------------------\n",
      "15. ?? Land for sale next to National Road 42 in front of Canadia Development Land and near many Borey projects under construction ?? _ Land next to National Road 42 (50m wide ring road) Owners only 1) Total size is about 16000m Â² The front plot next to National Road 42 has two lanes (as in the picture). The main entrance is about 76 m long, next to National Road 42. The second lane, more than 14 m long, next to National Road 42. The back plot is 170m long, next to the cart road is 4m. Suitable for development, building houses for sale. Currently, many Boreys are being built near this land_Location: National Road 42, Chey Chumneas Village, Sangkat Ovulok, Khan Kampol, Phnom Penh.\n",
      "------------------------------------------------------------\n",
      "16. * Land for sale: - Selling price: $1,462,050 - Land size: 15,390 sqm - Document: Hard Title\n",
      "------------------------------------------------------------\n",
      "17. nan\n",
      "------------------------------------------------------------\n",
      "18. - Address: Commune Kambol, District Kambol , Phnom Penh - Land area :  100m x 120m - Price : $110\n",
      "------------------------------------------------------------\n",
      "19. This land for sale offers a total area of 11,817sqm, perfect for large-scale development or industrial use. The main factory building measures 60m x 127m , with an additional 20m x 40m building on the property, providing ample space for production or storage. The land is facing east, allowing for good natural light and ventilation. It comes with a hard title for easy ownership transfer. The current owner will also handle the transfer fee, making the process smooth and straightforward. This property is ideal for businesses looking to expand or develop their own factory space. Key Features: - Land size: 11,817sqm - Main factory building: 60m x 127m - Additional building: 20m x 40m - Facing east for natural light - Hard title for easy ownership - wner handles transfer fee\n",
      "------------------------------------------------------------\n",
      "20. Land For Sale Facing Riverside - Selling Price: $2,800,000 - Property ID: IL-L-098 - Land Size: 10,826 sqm - The best option for resort ??Location: Koh Dach (Riverside)\n",
      "------------------------------------------------------------\n"
     ]
    }
   ],
   "source": [
    "# Show 20 samples of information where bedrooms or bathrooms are still null\n",
    "null_bed = df[df['bedrooms'].isnull()]['information'].head(20)\n",
    "null_bath = df[df['bathrooms'].isnull()]['information'].head(20)\n",
    "\n",
    "print(\"Sample information with null bedrooms:\")\n",
    "for i, info in enumerate(null_bed, 1):\n",
    "    print(f\"{i}. {info}\\n{'-'*60}\")\n",
    "\n",
    "print(\"\\nSample information with null bathrooms:\")\n",
    "for i, info in enumerate(null_bath, 1):\n",
    "    print(f\"{i}. {info}\\n{'-'*60}\")"
   ]
  },
  {
   "cell_type": "code",
   "execution_count": 12,
   "id": "64e3d167",
   "metadata": {},
   "outputs": [],
   "source": [
    "df.to_csv('../../data/processed/realestates_kh_v2_4.csv', index=False, encoding='latin1')"
   ]
  }
 ],
 "metadata": {
  "kernelspec": {
   "display_name": "env_v3.10",
   "language": "python",
   "name": "python3"
  },
  "language_info": {
   "codemirror_mode": {
    "name": "ipython",
    "version": 3
   },
   "file_extension": ".py",
   "mimetype": "text/x-python",
   "name": "python",
   "nbconvert_exporter": "python",
   "pygments_lexer": "ipython3",
   "version": "3.10.16"
  }
 },
 "nbformat": 4,
 "nbformat_minor": 5
}
