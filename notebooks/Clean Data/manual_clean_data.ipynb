{
 "cells": [
  {
   "cell_type": "code",
   "execution_count": null,
   "id": "b40d5b63",
   "metadata": {},
   "outputs": [],
   "source": [
    "import pandas as pd"
   ]
  },
  {
   "cell_type": "code",
   "execution_count": null,
   "id": "d5feb118",
   "metadata": {},
   "outputs": [],
   "source": [
    "df = pd.read_csv('../../data/processed/realestates_kh_with_information_v2.csv')"
   ]
  },
  {
   "cell_type": "code",
   "execution_count": null,
   "id": "4d70ad9e",
   "metadata": {},
   "outputs": [],
   "source": [
    "df"
   ]
  },
  {
   "cell_type": "code",
   "execution_count": null,
   "id": "ed2f23e8",
   "metadata": {},
   "outputs": [],
   "source": [
    "pd.set_option('display.max_columns', 1000000)\n",
    "pd.set_option('display.max_rows', 10000000)\n",
    "\n",
    "df[['land_area', 'price', 'price_display', 'information']].head(20)"
   ]
  },
  {
   "cell_type": "code",
   "execution_count": null,
   "id": "41fb18a7",
   "metadata": {},
   "outputs": [],
   "source": [
    "df[['land_area', 'price', 'price_display','price_per_m2', 'information']].sort_values(by='price_per_m2',ascending=False)"
   ]
  },
  {
   "cell_type": "code",
   "execution_count": null,
   "id": "61a4604d",
   "metadata": {},
   "outputs": [],
   "source": [
    "df = df.sort_values(by='price_per_m2', ascending=False)\n"
   ]
  },
  {
   "cell_type": "code",
   "execution_count": null,
   "id": "ea5db8b5",
   "metadata": {},
   "outputs": [],
   "source": [
    "# Sort by price_per_m2 (descending or ascending as you prefer)\n",
    "df = df.sort_values(by='price_per_m2', ascending=False)\n",
    "\n",
    "# Select the top 5 rows\n",
    "styled = df.head(50)[['land_area', 'price_per_m2', 'price', 'price_display', 'information', 'category_name']].style.set_table_styles({\n",
    "    'price_per_m2': [{'selector': 'td', 'props': [('min-width', '20px')]}],\n",
    "    'land_area': [{'selector': 'td', 'props': [('min-width', '20px')]}],\n",
    "    'price': [{'selector': 'td', 'props': [('min-width', '20px')]}],\n",
    "    'price_display': [{'selector': 'td', 'props': [('min-width', '20px')]}],\n",
    "    'information': [{'selector': 'td', 'props': [('min-width', '300px'), ('max-width', '500px'), ('white-space', 'pre-wrap')]}],\n",
    "    'category_name': [{'selector': 'td', 'props': [('min-width', '20px')]}]\n",
    "})\n",
    "styled"
   ]
  },
  {
   "cell_type": "code",
   "execution_count": null,
   "id": "e2ccc0f1",
   "metadata": {},
   "outputs": [],
   "source": [
    "df.loc[list(range(233, 310)), 'price_per_m2'] = 0"
   ]
  },
  {
   "cell_type": "code",
   "execution_count": null,
   "id": "8a0569f0",
   "metadata": {},
   "outputs": [],
   "source": [
    "df = df.drop(index=120)"
   ]
  },
  {
   "cell_type": "code",
   "execution_count": null,
   "id": "285d7b42",
   "metadata": {},
   "outputs": [],
   "source": [
    "idx = 136\n",
    "# df.at[idx, 'price'] =1200000\n",
    "df.at[idx, 'land_area'] = 4.6*13\n",
    "df.at[idx, 'price_per_m2'] = df.at[idx, 'price'] / df.at[idx, 'land_area']\n",
    "# df.at[idx, 'price'] = df.at[idx, 'land_area'] * df.at[idx, 'price_per_m2']"
   ]
  },
  {
   "cell_type": "code",
   "execution_count": null,
   "id": "78875c69",
   "metadata": {},
   "outputs": [],
   "source": [
    "ix = [15, 18, 21, 22, 23, 24]\n",
    "df.loc[ix, 'price_per_m2'] = 0"
   ]
  },
  {
   "cell_type": "code",
   "execution_count": 3,
   "id": "0e0bf8a5",
   "metadata": {},
   "outputs": [
    {
     "name": "stdout",
     "output_type": "stream",
     "text": [
      "Number of rows with price_per_m2 = 0: 342\n"
     ]
    }
   ],
   "source": [
    "# Count rows where price_per_m2 is 0\n",
    "count_zero = (df['price_per_m2'] == 0).sum()\n",
    "print(\"Number of rows with price_per_m2 = 0:\", count_zero)"
   ]
  },
  {
   "cell_type": "code",
   "execution_count": 4,
   "id": "c55d104e",
   "metadata": {},
   "outputs": [],
   "source": [
    "# Save rows where price_per_m2 == 0 to a new dataset\n",
    "df_zero = df[df['price_per_m2'] == 0]\n",
    "df_zero.to_csv('../../data/processed/realestates_kh_price_per_m2_zero.csv', index=False)\n",
    "\n",
    "# Drop rows where price_per_m2 == 0 from the original dataset\n",
    "df = df[df['price_per_m2'] != 0]\n",
    "\n",
    "# (Optional) Save the cleaned dataset\n",
    "df.to_csv('../../data/processed/realestates_kh_with_information_v2.csv', index=False)"
   ]
  },
  {
   "cell_type": "code",
   "execution_count": null,
   "id": "87986ad6",
   "metadata": {},
   "outputs": [],
   "source": [
    "df.to_csv('../../data/processed/realestates_kh_with_information_v2.csv', index=False)"
   ]
  },
  {
   "cell_type": "code",
   "execution_count": null,
   "id": "0f14bf1f",
   "metadata": {},
   "outputs": [],
   "source": [
    "# # View specific columns and rows\n",
    "# df[['land_area', 'price', 'price_display', 'price_per_m2', 'information']].head(20)\n",
    "\n",
    "# # Filter rows with suspicious or missing values\n",
    "# df[df['land_area'].isnull()]\n",
    "# df[df['price_per_m2'] > 10000]"
   ]
  },
  {
   "cell_type": "code",
   "execution_count": null,
   "id": "ed12b881",
   "metadata": {},
   "outputs": [],
   "source": [
    "# # Change a value by index\n",
    "# df.at[10, 'land_area'] = 200  # Set land_area of row with index 10 to 200\n",
    "\n",
    "# # Replace all zero land_area with NaN\n",
    "# df.loc[df['land_area'] == 0, 'land_area'] = np.nan\n",
    "\n",
    "# # Remove rows with missing or invalid values\n",
    "# df = df.dropna(subset=['land_area', 'price', 'price_display'])"
   ]
  },
  {
   "cell_type": "code",
   "execution_count": null,
   "id": "6e3dc444",
   "metadata": {},
   "outputs": [],
   "source": [
    "# # Remove outliers in price_per_m2\n",
    "# df = df[df['price_per_m2'] <= 10000]"
   ]
  },
  {
   "cell_type": "code",
   "execution_count": null,
   "id": "e9f90124",
   "metadata": {},
   "outputs": [],
   "source": [
    "# # Remove whitespace from information column\n",
    "# df['information'] = df['information'].str.strip()\n",
    "\n",
    "# # Replace unwanted text\n",
    "# df['information'] = df['information'].str.replace('old text', 'new text')"
   ]
  },
  {
   "cell_type": "code",
   "execution_count": null,
   "id": "ea3bb416",
   "metadata": {},
   "outputs": [],
   "source": [
    "# # Show specific rows by index (e.g., 10, 20, 30)\n",
    "# indices = [10, 20]\n",
    "# styled = df.loc[indices, ['land_area', 'price', 'price_display', 'information']].style.set_table_styles({\n",
    "#     'land_area': [{'selector': 'td', 'props': [('min-width', '20px')]}],\n",
    "#     'price': [{'selector': 'td', 'props': [('min-width', '20px')]}],\n",
    "#     'price_display': [{'selector': 'td', 'props': [('min-width', '20px')]}],\n",
    "#     'information': [{'selector': 'td', 'props': [('min-width', '300px'), ('max-width', '500px'), ('white-space', 'pre-wrap')]}],\n",
    "# })\n",
    "# styled"
   ]
  }
 ],
 "metadata": {
  "kernelspec": {
   "display_name": "env_v3.10",
   "language": "python",
   "name": "python3"
  },
  "language_info": {
   "codemirror_mode": {
    "name": "ipython",
    "version": 3
   },
   "file_extension": ".py",
   "mimetype": "text/x-python",
   "name": "python",
   "nbconvert_exporter": "python",
   "pygments_lexer": "ipython3",
   "version": "3.10.16"
  }
 },
 "nbformat": 4,
 "nbformat_minor": 5
}
