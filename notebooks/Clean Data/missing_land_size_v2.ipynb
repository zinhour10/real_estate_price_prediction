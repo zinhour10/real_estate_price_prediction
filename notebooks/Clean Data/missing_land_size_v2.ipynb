{
 "cells": [
  {
   "cell_type": "code",
   "execution_count": 16,
   "id": "04c3842a",
   "metadata": {},
   "outputs": [],
   "source": [
    "import pandas as pd\n",
    "import numpy as np\n",
    "import re"
   ]
  },
  {
   "cell_type": "code",
   "execution_count": 17,
   "id": "0ab33067",
   "metadata": {},
   "outputs": [],
   "source": [
    "df = pd.read_csv('../../data/raw/century21_v2.csv')"
   ]
  },
  {
   "cell_type": "code",
   "execution_count": 18,
   "id": "fecda3f5",
   "metadata": {},
   "outputs": [
    {
     "data": {
      "application/vnd.microsoft.datawrangler.viewer.v0+json": {
       "columns": [
        {
         "name": "index",
         "rawType": "object",
         "type": "string"
        },
        {
         "name": "0",
         "rawType": "int64",
         "type": "integer"
        }
       ],
       "ref": "69430397-5764-4bd9-8dca-0f0d91c0495e",
       "rows": [
        [
         "id",
         "0"
        ],
        [
         "information",
         "0"
        ],
        [
         "type",
         "0"
        ],
        [
         "province",
         "0"
        ],
        [
         "price",
         "2"
        ],
        [
         "land_area",
         "26"
        ],
        [
         "price_per_m2",
         "169"
        ],
        [
         "lat",
         "0"
        ],
        [
         "long",
         "0"
        ]
       ],
       "shape": {
        "columns": 1,
        "rows": 9
       }
      },
      "text/plain": [
       "id                0\n",
       "information       0\n",
       "type              0\n",
       "province          0\n",
       "price             2\n",
       "land_area        26\n",
       "price_per_m2    169\n",
       "lat               0\n",
       "long              0\n",
       "dtype: int64"
      ]
     },
     "execution_count": 18,
     "metadata": {},
     "output_type": "execute_result"
    }
   ],
   "source": [
    "df.isnull().sum()"
   ]
  },
  {
   "cell_type": "code",
   "execution_count": 19,
   "id": "326e5fcd",
   "metadata": {},
   "outputs": [],
   "source": [
    "df = df[df['province'] == 'Phnom Penh']"
   ]
  },
  {
   "cell_type": "code",
   "execution_count": 20,
   "id": "c953713c",
   "metadata": {},
   "outputs": [],
   "source": [
    "df['land_area'] = df['land_area'].replace(0.0, np.nan).replace('', np.nan)"
   ]
  },
  {
   "cell_type": "code",
   "execution_count": 21,
   "id": "a3ec21c9",
   "metadata": {},
   "outputs": [],
   "source": [
    "# def extract_land_area(text):\n",
    "#     if pd.isna(text):\n",
    "#         return None\n",
    "    \n",
    "#     # Step 1: Direct land area extraction (e.g., \"100 sqm\")\n",
    "#     direct_pattern = r'(\\d+\\.?\\d*)\\s*(?:sqm|m²|m2|square\\s*meters?)\\b'\n",
    "#     direct_match = re.search(direct_pattern, text, re.IGNORECASE)\n",
    "#     if direct_match:\n",
    "#         return float(direct_match.group(1))\n",
    "    \n",
    "#     # Step 2: Extract land dimensions (e.g., \"4m x 20m\") with contextual keywords\n",
    "#     dim_pattern = r'(\\d+\\.?\\d*)\\s*(?:m\\s*)?[x*]\\s*(\\d+\\.?\\d*)\\s*(?:m\\b)'\n",
    "#     dim_matches = list(re.finditer(dim_pattern, text, re.IGNORECASE))\n",
    "    \n",
    "#     for match in dim_matches:\n",
    "#         start, end = match.span()\n",
    "#         window = text[max(0, start-30):min(len(text), end+30)].lower()\n",
    "#         # Check for contextual keywords near the dimensions\n",
    "#         if re.search(r'\\b(?:land|plot|ground|property|size)\\b', window):\n",
    "#             length = float(match.group(1))\n",
    "#             width = float(match.group(2))\n",
    "#             return length * width\n",
    "    \n",
    "#     # Step 3: Fallback to the first dimension pattern found (if any)\n",
    "#     if dim_matches:\n",
    "#         length = float(dim_matches[0].group(1))\n",
    "#         width = float(dim_matches[0].group(2))\n",
    "#         return length * width\n",
    "    \n",
    "#     return None"
   ]
  },
  {
   "cell_type": "code",
   "execution_count": 22,
   "id": "7ea41161",
   "metadata": {},
   "outputs": [],
   "source": [
    "def extract_land_area(text):\n",
    "    if pd.isna(text):\n",
    "        return None\n",
    "    def parse_float_number(num_str):\n",
    "        if num_str is None:\n",
    "            return None\n",
    "        return float(num_str.replace(',', '.'))\n",
    "    number_pattern = r'\\d+(?:[.,]\\d*)?'\n",
    "\n",
    "    # Step 1: Direct land area extraction (e.g., \"100 sqm\", \"9,2 m2\")\n",
    "    direct_pattern = rf'({number_pattern})\\s*(?:sqm|m²|m2|square\\s*meters?)\\b'\n",
    "    direct_match = re.search(direct_pattern, text, re.IGNORECASE)\n",
    "    if direct_match:\n",
    "        extracted_area = parse_float_number(direct_match.group(1))\n",
    "        # Apply the condition: if extracted_area < 30, return None\n",
    "        if extracted_area is not None and extracted_area < 30:\n",
    "            return None\n",
    "        return extracted_area\n",
    "    \n",
    "    # Step 2: Extract land dimensions (e.g., \"4m x 20m\", \"9,5m*10m\") with contextual keywords\n",
    "    dim_pattern = rf'({number_pattern})\\s*(?:m\\s*)?[x*]\\s*({number_pattern})\\s*(?:m\\b)'\n",
    "    dim_matches = list(re.finditer(dim_pattern, text, re.IGNORECASE))\n",
    "    \n",
    "    for match in dim_matches:\n",
    "        start, end = match.span()\n",
    "        window = text[max(0, start-30):min(len(text), end+30)].lower()\n",
    "        \n",
    "        if re.search(r'\\b(?:land|plot|ground|property|size)\\b', window):\n",
    "            length = parse_float_number(match.group(1))\n",
    "            width = parse_float_number(match.group(2))\n",
    "            \n",
    "            if length is not None and width is not None:\n",
    "                extracted_area = length * width\n",
    "                # Apply the condition: if extracted_area < 30, return None\n",
    "                if extracted_area < 30:\n",
    "                    return None\n",
    "                return extracted_area\n",
    "    \n",
    "    # Step 3: Fallback to the first dimension pattern found (if any)\n",
    "    if dim_matches:\n",
    "        length = parse_float_number(dim_matches[0].group(1))\n",
    "        width = parse_float_number(dim_matches[0].group(2))\n",
    "        \n",
    "        if length is not None and width is not None:\n",
    "            extracted_area = length * width\n",
    "            # Apply the condition: if extracted_area < 30, return None\n",
    "            if extracted_area < 30:\n",
    "                return None\n",
    "            return extracted_area\n",
    "    \n",
    "    return None"
   ]
  },
  {
   "cell_type": "code",
   "execution_count": 23,
   "id": "9911a6fe",
   "metadata": {},
   "outputs": [],
   "source": [
    "rows_to_reprocess = df['land_area'].apply(\n",
    "    lambda x: pd.isna(x) or (pd.api.types.is_numeric_dtype(x) and (x == 0 or x < 30))\n",
    ")\n",
    "\n",
    "# Iterate only over the rows that meet the condition\n",
    "for idx, row in df[rows_to_reprocess].iterrows():\n",
    "    extracted_area = extract_land_area(row['information'])\n",
    "    \n",
    "    if extracted_area is not None:\n",
    "        df.at[idx, 'land_area'] = extracted_area\n",
    "    else:\n",
    "        df.at[idx, 'land_area'] = np.nan"
   ]
  },
  {
   "cell_type": "code",
   "execution_count": 24,
   "id": "34547f4c",
   "metadata": {},
   "outputs": [],
   "source": [
    "df.loc[df['land_area'].apply(lambda x: pd.api.types.is_numeric_dtype(x) and x < 30), 'land_area'] = np.nan"
   ]
  },
  {
   "cell_type": "code",
   "execution_count": 25,
   "id": "9b14f1fb",
   "metadata": {},
   "outputs": [],
   "source": [
    "c =0\n",
    "for i, row in df.iterrows():\n",
    "    \n",
    "    if row['land_area'] < 30:\n",
    "        row['land_area'] = np.nan"
   ]
  },
  {
   "cell_type": "code",
   "execution_count": 26,
   "id": "e2859910",
   "metadata": {},
   "outputs": [
    {
     "name": "stdout",
     "output_type": "stream",
     "text": [
      "0\n"
     ]
    }
   ],
   "source": [
    "c =0\n",
    "for i, row in df.iterrows():\n",
    "    \n",
    "    if row['land_area'] < 30:\n",
    "        c += 1\n",
    "print(c)"
   ]
  },
  {
   "cell_type": "code",
   "execution_count": 27,
   "id": "68bd9279",
   "metadata": {},
   "outputs": [],
   "source": [
    "# df.drop(columns='garages', inplace=True)"
   ]
  },
  {
   "cell_type": "code",
   "execution_count": 28,
   "id": "26d89ff2",
   "metadata": {},
   "outputs": [],
   "source": [
    "# indexPrice = df[(df['price_display'] == 'POA')].index\n",
    "# df.drop(indexPrice, inplace=True)"
   ]
  },
  {
   "cell_type": "code",
   "execution_count": 29,
   "id": "a2fa33ed",
   "metadata": {},
   "outputs": [],
   "source": [
    "# indexPrice = df[(df['price_display']<df['price_display'])].index\n",
    "# # df.drop(indexPrice, inplace=True)"
   ]
  },
  {
   "cell_type": "code",
   "execution_count": 30,
   "id": "88ae3c55",
   "metadata": {},
   "outputs": [],
   "source": [
    "# print(indexPrice)"
   ]
  },
  {
   "cell_type": "code",
   "execution_count": 35,
   "id": "03232ec7",
   "metadata": {},
   "outputs": [
    {
     "data": {
      "application/vnd.microsoft.datawrangler.viewer.v0+json": {
       "columns": [
        {
         "name": "index",
         "rawType": "object",
         "type": "string"
        },
        {
         "name": "0",
         "rawType": "int64",
         "type": "integer"
        }
       ],
       "ref": "449b5e4c-00a5-4669-960e-f23168433cd2",
       "rows": [
        [
         "id",
         "0"
        ],
        [
         "information",
         "0"
        ],
        [
         "type",
         "0"
        ],
        [
         "province",
         "0"
        ],
        [
         "price",
         "2"
        ],
        [
         "land_area",
         "26"
        ],
        [
         "price_per_m2",
         "27"
        ],
        [
         "lat",
         "0"
        ],
        [
         "long",
         "0"
        ]
       ],
       "shape": {
        "columns": 1,
        "rows": 9
       }
      },
      "text/plain": [
       "id               0\n",
       "information      0\n",
       "type             0\n",
       "province         0\n",
       "price            2\n",
       "land_area       26\n",
       "price_per_m2    27\n",
       "lat              0\n",
       "long             0\n",
       "dtype: int64"
      ]
     },
     "execution_count": 35,
     "metadata": {},
     "output_type": "execute_result"
    }
   ],
   "source": [
    "df.isnull().sum()"
   ]
  },
  {
   "cell_type": "code",
   "execution_count": 33,
   "id": "9460dd6f",
   "metadata": {},
   "outputs": [],
   "source": [
    "df.loc[df['price_per_m2'].isnull(), 'price_per_m2'] = df['price'] / df['land_area']"
   ]
  },
  {
   "cell_type": "code",
   "execution_count": 36,
   "id": "cadb8835",
   "metadata": {},
   "outputs": [],
   "source": [
    "df.dropna(inplace=True)"
   ]
  },
  {
   "cell_type": "code",
   "execution_count": null,
   "id": "4158156c",
   "metadata": {},
   "outputs": [],
   "source": []
  },
  {
   "cell_type": "code",
   "execution_count": 37,
   "id": "811bdbf6",
   "metadata": {},
   "outputs": [],
   "source": [
    "df.to_csv('../../data/raw/century21_v2.csv', index=False)"
   ]
  }
 ],
 "metadata": {
  "kernelspec": {
   "display_name": "env_v3.10",
   "language": "python",
   "name": "python3"
  },
  "language_info": {
   "codemirror_mode": {
    "name": "ipython",
    "version": 3
   },
   "file_extension": ".py",
   "mimetype": "text/x-python",
   "name": "python",
   "nbconvert_exporter": "python",
   "pygments_lexer": "ipython3",
   "version": "3.10.16"
  }
 },
 "nbformat": 4,
 "nbformat_minor": 5
}
