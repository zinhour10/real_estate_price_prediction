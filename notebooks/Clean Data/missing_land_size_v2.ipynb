{
 "cells": [
  {
   "cell_type": "code",
   "execution_count": 139,
   "id": "04c3842a",
   "metadata": {},
   "outputs": [],
   "source": [
    "import pandas as pd\n",
    "import numpy as np\n",
    "import re"
   ]
  },
  {
   "cell_type": "code",
   "execution_count": 140,
   "id": "0ab33067",
   "metadata": {},
   "outputs": [],
   "source": [
    "df = pd.read_csv('../../data/raw/realestates_kh_v2.csv')"
   ]
  },
  {
   "cell_type": "code",
   "execution_count": 141,
   "id": "326e5fcd",
   "metadata": {},
   "outputs": [],
   "source": [
    "df = df[df['address_subdivision'] == 'Phnom Penh']"
   ]
  },
  {
   "cell_type": "code",
   "execution_count": 142,
   "id": "c953713c",
   "metadata": {},
   "outputs": [],
   "source": [
    "df['land_area'] = df['land_area'].replace(0.0, np.nan).replace('', np.nan)"
   ]
  },
  {
   "cell_type": "code",
   "execution_count": 143,
   "id": "a3ec21c9",
   "metadata": {},
   "outputs": [],
   "source": [
    "# def extract_land_area(text):\n",
    "#     if pd.isna(text):\n",
    "#         return None\n",
    "    \n",
    "#     # Step 1: Direct land area extraction (e.g., \"100 sqm\")\n",
    "#     direct_pattern = r'(\\d+\\.?\\d*)\\s*(?:sqm|m²|m2|square\\s*meters?)\\b'\n",
    "#     direct_match = re.search(direct_pattern, text, re.IGNORECASE)\n",
    "#     if direct_match:\n",
    "#         return float(direct_match.group(1))\n",
    "    \n",
    "#     # Step 2: Extract land dimensions (e.g., \"4m x 20m\") with contextual keywords\n",
    "#     dim_pattern = r'(\\d+\\.?\\d*)\\s*(?:m\\s*)?[x*]\\s*(\\d+\\.?\\d*)\\s*(?:m\\b)'\n",
    "#     dim_matches = list(re.finditer(dim_pattern, text, re.IGNORECASE))\n",
    "    \n",
    "#     for match in dim_matches:\n",
    "#         start, end = match.span()\n",
    "#         window = text[max(0, start-30):min(len(text), end+30)].lower()\n",
    "#         # Check for contextual keywords near the dimensions\n",
    "#         if re.search(r'\\b(?:land|plot|ground|property|size)\\b', window):\n",
    "#             length = float(match.group(1))\n",
    "#             width = float(match.group(2))\n",
    "#             return length * width\n",
    "    \n",
    "#     # Step 3: Fallback to the first dimension pattern found (if any)\n",
    "#     if dim_matches:\n",
    "#         length = float(dim_matches[0].group(1))\n",
    "#         width = float(dim_matches[0].group(2))\n",
    "#         return length * width\n",
    "    \n",
    "#     return None"
   ]
  },
  {
   "cell_type": "code",
   "execution_count": 144,
   "id": "7ea41161",
   "metadata": {},
   "outputs": [],
   "source": [
    "def extract_land_area(text):\n",
    "    if pd.isna(text):\n",
    "        return None\n",
    "    def parse_float_number(num_str):\n",
    "        if num_str is None:\n",
    "            return None\n",
    "        return float(num_str.replace(',', '.'))\n",
    "    number_pattern = r'\\d+(?:[.,]\\d*)?'\n",
    "\n",
    "    # Step 1: Direct land area extraction (e.g., \"100 sqm\", \"9,2 m2\")\n",
    "    direct_pattern = rf'({number_pattern})\\s*(?:sqm|m²|m2|square\\s*meters?)\\b'\n",
    "    direct_match = re.search(direct_pattern, text, re.IGNORECASE)\n",
    "    if direct_match:\n",
    "        extracted_area = parse_float_number(direct_match.group(1))\n",
    "        # Apply the condition: if extracted_area < 30, return None\n",
    "        if extracted_area is not None and extracted_area < 30:\n",
    "            return None\n",
    "        return extracted_area\n",
    "    \n",
    "    # Step 2: Extract land dimensions (e.g., \"4m x 20m\", \"9,5m*10m\") with contextual keywords\n",
    "    dim_pattern = rf'({number_pattern})\\s*(?:m\\s*)?[x*]\\s*({number_pattern})\\s*(?:m\\b)'\n",
    "    dim_matches = list(re.finditer(dim_pattern, text, re.IGNORECASE))\n",
    "    \n",
    "    for match in dim_matches:\n",
    "        start, end = match.span()\n",
    "        window = text[max(0, start-30):min(len(text), end+30)].lower()\n",
    "        \n",
    "        if re.search(r'\\b(?:land|plot|ground|property|size)\\b', window):\n",
    "            length = parse_float_number(match.group(1))\n",
    "            width = parse_float_number(match.group(2))\n",
    "            \n",
    "            if length is not None and width is not None:\n",
    "                extracted_area = length * width\n",
    "                # Apply the condition: if extracted_area < 30, return None\n",
    "                if extracted_area < 30:\n",
    "                    return None\n",
    "                return extracted_area\n",
    "    \n",
    "    # Step 3: Fallback to the first dimension pattern found (if any)\n",
    "    if dim_matches:\n",
    "        length = parse_float_number(dim_matches[0].group(1))\n",
    "        width = parse_float_number(dim_matches[0].group(2))\n",
    "        \n",
    "        if length is not None and width is not None:\n",
    "            extracted_area = length * width\n",
    "            # Apply the condition: if extracted_area < 30, return None\n",
    "            if extracted_area < 30:\n",
    "                return None\n",
    "            return extracted_area\n",
    "    \n",
    "    return None"
   ]
  },
  {
   "cell_type": "code",
   "execution_count": 145,
   "id": "9911a6fe",
   "metadata": {},
   "outputs": [],
   "source": [
    "rows_to_reprocess = df['land_area'].apply(\n",
    "    lambda x: pd.isna(x) or (pd.api.types.is_numeric_dtype(x) and (x == 0 or x < 30))\n",
    ")\n",
    "\n",
    "# Iterate only over the rows that meet the condition\n",
    "for idx, row in df[rows_to_reprocess].iterrows():\n",
    "    extracted_area = extract_land_area(row['information'])\n",
    "    \n",
    "    if extracted_area is not None:\n",
    "        df.at[idx, 'land_area'] = extracted_area\n",
    "    else:\n",
    "        df.at[idx, 'land_area'] = np.nan"
   ]
  },
  {
   "cell_type": "code",
   "execution_count": null,
   "id": "34547f4c",
   "metadata": {},
   "outputs": [],
   "source": [
    "df.loc[df['land_area'].apply(lambda x: pd.api.types.is_numeric_dtype(x) and x < 30), 'land_area'] = np.nana"
   ]
  },
  {
   "cell_type": "code",
   "execution_count": 167,
   "id": "9b14f1fb",
   "metadata": {},
   "outputs": [],
   "source": [
    "c =0\n",
    "for i, row in df.iterrows():\n",
    "    \n",
    "    if row['land_area'] < 30:\n",
    "        row['land_area'] = np.nan"
   ]
  },
  {
   "cell_type": "code",
   "execution_count": 168,
   "id": "e2859910",
   "metadata": {},
   "outputs": [
    {
     "name": "stdout",
     "output_type": "stream",
     "text": [
      "9\n"
     ]
    }
   ],
   "source": [
    "c =0\n",
    "for i, row in df.iterrows():\n",
    "    \n",
    "    if row['land_area'] < 30:\n",
    "        c += 1\n",
    "print(c)"
   ]
  },
  {
   "cell_type": "code",
   "execution_count": 146,
   "id": "68bd9279",
   "metadata": {},
   "outputs": [],
   "source": [
    "df.drop(columns='garages', inplace=True)"
   ]
  },
  {
   "cell_type": "code",
   "execution_count": 147,
   "id": "26d89ff2",
   "metadata": {},
   "outputs": [],
   "source": [
    "indexPrice = df[(df['price_display'] == 'POA')].index\n",
    "df.drop(indexPrice, inplace=True)"
   ]
  },
  {
   "cell_type": "code",
   "execution_count": 148,
   "id": "a2fa33ed",
   "metadata": {},
   "outputs": [],
   "source": [
    "# indexPrice = df[(df['price_display']<df['price_display'])].index\n",
    "# # df.drop(indexPrice, inplace=True)"
   ]
  },
  {
   "cell_type": "code",
   "execution_count": 149,
   "id": "88ae3c55",
   "metadata": {},
   "outputs": [
    {
     "name": "stdout",
     "output_type": "stream",
     "text": [
      "Index([  16,  177,  211,  273,  340,  592, 1018, 1019, 1039, 1044, 1048, 1049,\n",
      "       1065, 1078, 1079, 1103, 1113, 1122, 1135, 1137, 1179, 1198, 1243, 1256,\n",
      "       1275, 1283, 1284, 1285, 1286, 1291, 1298, 1325, 1334, 1335, 1360, 1361,\n",
      "       1463, 1481, 1482, 1483, 1484, 1485, 1486, 1490, 1509, 1514, 1525, 1532,\n",
      "       1536, 1537, 1538, 1540, 1543, 1616, 1617, 1619, 1623, 1630, 1646, 1930,\n",
      "       1940, 2132, 2181, 2184, 2189, 2244, 2291, 2296, 2720, 2795, 2797, 2798,\n",
      "       2799, 2800, 2801, 2802, 2843, 3023, 3103, 3110, 3461, 3509, 3520, 3524,\n",
      "       3545, 3572, 3695, 3743, 3894, 3907, 3976, 3980, 4090, 4114, 4149, 4171,\n",
      "       4196],\n",
      "      dtype='int64')\n"
     ]
    }
   ],
   "source": [
    "print(indexPrice)"
   ]
  },
  {
   "cell_type": "code",
   "execution_count": 150,
   "id": "03232ec7",
   "metadata": {},
   "outputs": [
    {
     "data": {
      "application/vnd.microsoft.datawrangler.viewer.v0+json": {
       "columns": [
        {
         "name": "index",
         "rawType": "object",
         "type": "string"
        },
        {
         "name": "0",
         "rawType": "int64",
         "type": "integer"
        }
       ],
       "ref": "32bc8470-0fcd-4407-9ac9-15c7a921be3a",
       "rows": [
        [
         "Unnamed: 0",
         "0"
        ],
        [
         "id",
         "0"
        ],
        [
         "headline",
         "0"
        ],
        [
         "price_display",
         "13"
        ],
        [
         "rent_display",
         "3514"
        ],
        [
         "bedrooms",
         "941"
        ],
        [
         "bathrooms",
         "948"
        ],
        [
         "land_area",
         "604"
        ],
        [
         "thumbnail_url",
         "0"
        ],
        [
         "thumbnail_urls",
         "0"
        ],
        [
         "location",
         "0"
        ],
        [
         "address_subdivision",
         "0"
        ],
        [
         "address_locality",
         "0"
        ],
        [
         "address_line_2",
         "9"
        ],
        [
         "address_line_1",
         "148"
        ],
        [
         "category_name",
         "0"
        ],
        [
         "is_parent",
         "0"
        ],
        [
         "type",
         "0"
        ],
        [
         "information",
         "38"
        ],
        [
         "source_url",
         "0"
        ],
        [
         "language",
         "0"
        ],
        [
         "latitude",
         "0"
        ],
        [
         "longitude",
         "0"
        ]
       ],
       "shape": {
        "columns": 1,
        "rows": 23
       }
      },
      "text/plain": [
       "Unnamed: 0                0\n",
       "id                        0\n",
       "headline                  0\n",
       "price_display            13\n",
       "rent_display           3514\n",
       "bedrooms                941\n",
       "bathrooms               948\n",
       "land_area               604\n",
       "thumbnail_url             0\n",
       "thumbnail_urls            0\n",
       "location                  0\n",
       "address_subdivision       0\n",
       "address_locality          0\n",
       "address_line_2            9\n",
       "address_line_1          148\n",
       "category_name             0\n",
       "is_parent                 0\n",
       "type                      0\n",
       "information              38\n",
       "source_url                0\n",
       "language                  0\n",
       "latitude                  0\n",
       "longitude                 0\n",
       "dtype: int64"
      ]
     },
     "execution_count": 150,
     "metadata": {},
     "output_type": "execute_result"
    }
   ],
   "source": [
    "df.isnull().sum()"
   ]
  },
  {
   "cell_type": "code",
   "execution_count": 159,
   "id": "811bdbf6",
   "metadata": {},
   "outputs": [],
   "source": [
    "df.to_csv('../../data/processed/realestates_kh_v2_3.csv', index=False)"
   ]
  }
 ],
 "metadata": {
  "kernelspec": {
   "display_name": "env_v3.10",
   "language": "python",
   "name": "python3"
  },
  "language_info": {
   "codemirror_mode": {
    "name": "ipython",
    "version": 3
   },
   "file_extension": ".py",
   "mimetype": "text/x-python",
   "name": "python",
   "nbconvert_exporter": "python",
   "pygments_lexer": "ipython3",
   "version": "3.10.16"
  }
 },
 "nbformat": 4,
 "nbformat_minor": 5
}
