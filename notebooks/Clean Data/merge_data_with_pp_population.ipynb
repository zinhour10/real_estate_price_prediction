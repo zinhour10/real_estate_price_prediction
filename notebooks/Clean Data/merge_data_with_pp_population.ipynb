{
 "cells": [
  {
   "cell_type": "code",
   "execution_count": 4,
   "id": "57028653",
   "metadata": {},
   "outputs": [],
   "source": [
    "import pandas as pd"
   ]
  },
  {
   "cell_type": "code",
   "execution_count": 5,
   "id": "3ccd33ed",
   "metadata": {},
   "outputs": [],
   "source": [
    "# Load real estate data\n",
    "df_realestate = pd.read_csv('../../data/processed/realestates_kh_v2_3_7.csv', encoding='latin1')"
   ]
  },
  {
   "cell_type": "code",
   "execution_count": 6,
   "id": "c3665cea",
   "metadata": {},
   "outputs": [],
   "source": [
    "\n",
    "# Load population data (already saved to CSV)\n",
    "df_population = pd.read_csv('../../data/raw/population_phnom_penh.csv')\n"
   ]
  },
  {
   "cell_type": "code",
   "execution_count": 7,
   "id": "6b6bb715",
   "metadata": {},
   "outputs": [
    {
     "name": "stdout",
     "output_type": "stream",
     "text": [
      "df_realestate          id  price_display  bedrooms  bathrooms  land_area  \\\n",
      "0  235560.0       114000.0       4.0        5.0       71.4   \n",
      "1  248374.0    188343000.0       NaN        NaN   104635.0   \n",
      "2  248290.0     58800000.0       NaN        NaN    84000.0   \n",
      "3  248489.0        90000.0       1.0        1.0    76000.0   \n",
      "4  235239.0    276264450.0       NaN        NaN    55811.0   \n",
      "\n",
      "  address_subdivision address_locality   address_line_2     category_name  \\\n",
      "0          Phnom Penh   Chroy Changvar      Preaek Lieb              Unit   \n",
      "1          Phnom Penh       Russey Keo   Tuol Sangkae 1  Land/Development   \n",
      "2          Phnom Penh     Por Sen Chey          Kantaok  Land/Development   \n",
      "3          Phnom Penh         Meanchey  Chak Angrae Leu             Condo   \n",
      "4          Phnom Penh        Daun Penh        Srah Chak  Land/Development   \n",
      "\n",
      "   is_parent         type   latitude   longitude  \n",
      "0      False  residential  11.589674  104.925654  \n",
      "1      False  residential  11.587810  104.902234  \n",
      "2      False  residential  11.537783  104.920232  \n",
      "3      False  residential  11.537783  104.920232  \n",
      "4      False  residential  11.579202  104.908613  \n"
     ]
    }
   ],
   "source": [
    "print(\"df_realestate\",df_realestate.head())"
   ]
  },
  {
   "cell_type": "code",
   "execution_count": 8,
   "id": "0dfa9971",
   "metadata": {},
   "outputs": [
    {
     "name": "stdout",
     "output_type": "stream",
     "text": [
      "df_population                 h3  population  \\\n",
      "0  886586a6ebfffff       255.0   \n",
      "1  886586a6ddfffff      1337.0   \n",
      "2  886586a6dbfffff       125.0   \n",
      "3  886586a6d9fffff       764.0   \n",
      "4  886586a6d7fffff       323.0   \n",
      "\n",
      "                                            geometry  index_right  Shape_Leng  \\\n",
      "0  MULTIPOLYGON (((104.97555292017218 11.70869197...          466    0.209855   \n",
      "1  MULTIPOLYGON (((104.95959051419976 11.68686180...          466    0.209855   \n",
      "2  MULTIPOLYGON (((104.94522418806201 11.68053577...          466    0.209855   \n",
      "3  MULTIPOLYGON (((104.95426989678246 11.67958437...          466    0.209855   \n",
      "4  MULTIPOLYGON (((104.94681957690541 11.69604271...          466    0.209855   \n",
      "\n",
      "   Shape_Area    ADM3_EN ADM3_PCODE ADM3_REF  ADM3ALT1EN  ADM3ALT2EN  \\\n",
      "0    0.001835  Kaoh Dach   KH121004      NaN         NaN         NaN   \n",
      "1    0.001835  Kaoh Dach   KH121004      NaN         NaN         NaN   \n",
      "2    0.001835  Kaoh Dach   KH121004      NaN         NaN         NaN   \n",
      "3    0.001835  Kaoh Dach   KH121004      NaN         NaN         NaN   \n",
      "4    0.001835  Kaoh Dach   KH121004      NaN         NaN         NaN   \n",
      "\n",
      "           ADM2_EN ADM2_PCODE     ADM1_EN ADM1_PCODE   ADM0_EN ADM0_PCODE  \\\n",
      "0  Chraoy Chongvar     KH1210  Phnom Penh       KH12  Cambodia         KH   \n",
      "1  Chraoy Chongvar     KH1210  Phnom Penh       KH12  Cambodia         KH   \n",
      "2  Chraoy Chongvar     KH1210  Phnom Penh       KH12  Cambodia         KH   \n",
      "3  Chraoy Chongvar     KH1210  Phnom Penh       KH12  Cambodia         KH   \n",
      "4  Chraoy Chongvar     KH1210  Phnom Penh       KH12  Cambodia         KH   \n",
      "\n",
      "         date     validOn  \n",
      "0  2014-10-14  2018-10-04  \n",
      "1  2014-10-14  2018-10-04  \n",
      "2  2014-10-14  2018-10-04  \n",
      "3  2014-10-14  2018-10-04  \n",
      "4  2014-10-14  2018-10-04  \n"
     ]
    }
   ],
   "source": [
    "print(\"df_population\",df_population.head())"
   ]
  }
 ],
 "metadata": {
  "kernelspec": {
   "display_name": "env_v3.10",
   "language": "python",
   "name": "python3"
  },
  "language_info": {
   "codemirror_mode": {
    "name": "ipython",
    "version": 3
   },
   "file_extension": ".py",
   "mimetype": "text/x-python",
   "name": "python",
   "nbconvert_exporter": "python",
   "pygments_lexer": "ipython3",
   "version": "3.10.16"
  }
 },
 "nbformat": 4,
 "nbformat_minor": 5
}
