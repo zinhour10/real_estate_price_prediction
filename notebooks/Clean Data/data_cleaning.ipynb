{
 "cells": [
  {
   "cell_type": "code",
   "execution_count": 1,
   "id": "1aa587a0",
   "metadata": {},
   "outputs": [],
   "source": [
    "import pandas as pd"
   ]
  },
  {
   "cell_type": "code",
   "execution_count": 11,
   "id": "57675785",
   "metadata": {},
   "outputs": [],
   "source": [
    "df_realestate = pd.read_csv(\"../../data/raw/realestates_kh_v2.csv\")"
   ]
  },
  {
   "cell_type": "code",
   "execution_count": 14,
   "id": "9af2fd16",
   "metadata": {},
   "outputs": [],
   "source": [
    "df = pd.read_csv(\"../../data/raw/ambodia_hex_data_combined.csv\")"
   ]
  },
  {
   "cell_type": "code",
   "execution_count": 12,
   "id": "f0c6005c",
   "metadata": {},
   "outputs": [
    {
     "data": {
      "text/plain": [
       "(6190, 21)"
      ]
     },
     "execution_count": 12,
     "metadata": {},
     "output_type": "execute_result"
    }
   ],
   "source": [
    "df_realestate.shape"
   ]
  },
  {
   "cell_type": "code",
   "execution_count": 13,
   "id": "a9348023",
   "metadata": {},
   "outputs": [
    {
     "data": {
      "application/vnd.microsoft.datawrangler.viewer.v0+json": {
       "columns": [
        {
         "name": "index",
         "rawType": "object",
         "type": "string"
        },
        {
         "name": "0",
         "rawType": "int64",
         "type": "integer"
        }
       ],
       "ref": "0eae3b71-245f-425f-9ce3-141933676d4a",
       "rows": [
        [
         "id",
         "0"
        ],
        [
         "headline",
         "0"
        ],
        [
         "price_display",
         "13"
        ],
        [
         "rent_display",
         "5516"
        ],
        [
         "bedrooms",
         "2219"
        ],
        [
         "bathrooms",
         "2262"
        ],
        [
         "land_area",
         "3098"
        ],
        [
         "thumbnail_url",
         "0"
        ],
        [
         "thumbnail_urls",
         "0"
        ],
        [
         "garages",
         "4844"
        ],
        [
         "location",
         "0"
        ],
        [
         "address_subdivision",
         "0"
        ],
        [
         "address_locality",
         "0"
        ],
        [
         "address_line_2",
         "10"
        ],
        [
         "address_line_1",
         "204"
        ],
        [
         "category_name",
         "0"
        ],
        [
         "is_parent",
         "0"
        ],
        [
         "type",
         "0"
        ],
        [
         "information",
         "196"
        ],
        [
         "lat",
         "0"
        ],
        [
         "lng",
         "0"
        ]
       ],
       "shape": {
        "columns": 1,
        "rows": 21
       }
      },
      "text/plain": [
       "id                        0\n",
       "headline                  0\n",
       "price_display            13\n",
       "rent_display           5516\n",
       "bedrooms               2219\n",
       "bathrooms              2262\n",
       "land_area              3098\n",
       "thumbnail_url             0\n",
       "thumbnail_urls            0\n",
       "garages                4844\n",
       "location                  0\n",
       "address_subdivision       0\n",
       "address_locality          0\n",
       "address_line_2           10\n",
       "address_line_1          204\n",
       "category_name             0\n",
       "is_parent                 0\n",
       "type                      0\n",
       "information             196\n",
       "lat                       0\n",
       "lng                       0\n",
       "dtype: int64"
      ]
     },
     "execution_count": 13,
     "metadata": {},
     "output_type": "execute_result"
    }
   ],
   "source": [
    "df_realestate.isnull().sum()"
   ]
  },
  {
   "cell_type": "code",
   "execution_count": 15,
   "id": "ed2b5454",
   "metadata": {},
   "outputs": [
    {
     "data": {
      "application/vnd.microsoft.datawrangler.viewer.v0+json": {
       "columns": [
        {
         "name": "index",
         "rawType": "object",
         "type": "string"
        },
        {
         "name": "0",
         "rawType": "int64",
         "type": "integer"
        }
       ],
       "ref": "cddc4545-ce81-439f-96e0-16b38655bcd1",
       "rows": [
        [
         "id",
         "0"
        ],
        [
         "left",
         "0"
        ],
        [
         "top",
         "0"
        ],
        [
         "right",
         "0"
        ],
        [
         "bottom",
         "0"
        ],
        [
         "row_index",
         "0"
        ],
        [
         "col_index",
         "0"
        ],
        [
         "cambodia_h",
         "0"
        ],
        [
         "cambodia_1",
         "0"
        ],
        [
         "cambodia_2",
         "6"
        ],
        [
         "cambodia_3",
         "6"
        ],
        [
         "cambodia_4",
         "0"
        ],
        [
         "Lon",
         "0"
        ],
        [
         "lat",
         "0"
        ]
       ],
       "shape": {
        "columns": 1,
        "rows": 14
       }
      },
      "text/plain": [
       "id            0\n",
       "left          0\n",
       "top           0\n",
       "right         0\n",
       "bottom        0\n",
       "row_index     0\n",
       "col_index     0\n",
       "cambodia_h    0\n",
       "cambodia_1    0\n",
       "cambodia_2    6\n",
       "cambodia_3    6\n",
       "cambodia_4    0\n",
       "Lon           0\n",
       "lat           0\n",
       "dtype: int64"
      ]
     },
     "execution_count": 15,
     "metadata": {},
     "output_type": "execute_result"
    }
   ],
   "source": [
    "df.isnull().sum()"
   ]
  },
  {
   "cell_type": "code",
   "execution_count": 16,
   "id": "25b25672",
   "metadata": {},
   "outputs": [
    {
     "data": {
      "text/plain": [
       "(2258, 14)"
      ]
     },
     "execution_count": 16,
     "metadata": {},
     "output_type": "execute_result"
    }
   ],
   "source": [
    "df.shape"
   ]
  },
  {
   "cell_type": "code",
   "execution_count": 17,
   "id": "339b3709",
   "metadata": {},
   "outputs": [
    {
     "data": {
      "application/vnd.microsoft.datawrangler.viewer.v0+json": {
       "columns": [
        {
         "name": "index",
         "rawType": "int64",
         "type": "integer"
        },
        {
         "name": "id",
         "rawType": "int64",
         "type": "integer"
        },
        {
         "name": "left",
         "rawType": "float64",
         "type": "float"
        },
        {
         "name": "top",
         "rawType": "float64",
         "type": "float"
        },
        {
         "name": "right",
         "rawType": "float64",
         "type": "float"
        },
        {
         "name": "bottom",
         "rawType": "float64",
         "type": "float"
        },
        {
         "name": "row_index",
         "rawType": "int64",
         "type": "integer"
        },
        {
         "name": "col_index",
         "rawType": "int64",
         "type": "integer"
        },
        {
         "name": "cambodia_h",
         "rawType": "float64",
         "type": "float"
        },
        {
         "name": "cambodia_1",
         "rawType": "float64",
         "type": "float"
        },
        {
         "name": "cambodia_2",
         "rawType": "float64",
         "type": "float"
        },
        {
         "name": "cambodia_3",
         "rawType": "float64",
         "type": "float"
        },
        {
         "name": "cambodia_4",
         "rawType": "float64",
         "type": "float"
        },
        {
         "name": "Lon",
         "rawType": "float64",
         "type": "float"
        },
        {
         "name": "lat",
         "rawType": "float64",
         "type": "float"
        }
       ],
       "ref": "bc065e21-d1d4-4e6e-b2e3-680d76bccea0",
       "rows": [
        [
         "0",
         "13",
         "208177.09928908065",
         "1505651.9353452115",
         "219724.1046728732",
         "1495651.9353452115",
         "12",
         "0",
         "22558.31077996083",
         "945762.0",
         "25561.135135135137",
         "11.0",
         "345748.35271203774",
         "102.3712906",
         "13.54585069"
        ],
        [
         "1",
         "14",
         "208177.09928908065",
         "1495651.9353452115",
         "219724.1046728732",
         "1485651.9353452115",
         "13",
         "0",
         "76494.23691136995",
         "960193.0",
         "24004.825",
         "11.0",
         "339378.3007955455",
         "102.379103",
         "13.46966883"
        ],
        [
         "2",
         "15",
         "208177.09928908065",
         "1485651.9353452115",
         "219724.1046728732",
         "1475651.9353452115",
         "14",
         "0",
         "29370.96993077267",
         "498893.0",
         "10181.489795918367",
         "11.0",
         "333458.82152868184",
         "102.3768305",
         "13.37698966"
        ],
        [
         "3",
         "16",
         "208177.09928908065",
         "1475651.9353452115",
         "219724.1046728732",
         "1465651.9353452115",
         "15",
         "0",
         "7540.21848733537",
         "366498.0",
         "8144.399999999999",
         "11.0",
         "327076.5355824408",
         "102.378995",
         "13.29155815"
        ],
        [
         "4",
         "17",
         "208177.09928908065",
         "1465651.9353452115",
         "219724.1046728732",
         "1455651.9353452115",
         "16",
         "0",
         "56001.01411985792",
         "627248.0",
         "48249.84615384616",
         "21.0",
         "320752.0521042111",
         "102.393667",
         "13.21265431"
        ]
       ],
       "shape": {
        "columns": 14,
        "rows": 5
       }
      },
      "text/html": [
       "<div>\n",
       "<style scoped>\n",
       "    .dataframe tbody tr th:only-of-type {\n",
       "        vertical-align: middle;\n",
       "    }\n",
       "\n",
       "    .dataframe tbody tr th {\n",
       "        vertical-align: top;\n",
       "    }\n",
       "\n",
       "    .dataframe thead th {\n",
       "        text-align: right;\n",
       "    }\n",
       "</style>\n",
       "<table border=\"1\" class=\"dataframe\">\n",
       "  <thead>\n",
       "    <tr style=\"text-align: right;\">\n",
       "      <th></th>\n",
       "      <th>id</th>\n",
       "      <th>left</th>\n",
       "      <th>top</th>\n",
       "      <th>right</th>\n",
       "      <th>bottom</th>\n",
       "      <th>row_index</th>\n",
       "      <th>col_index</th>\n",
       "      <th>cambodia_h</th>\n",
       "      <th>cambodia_1</th>\n",
       "      <th>cambodia_2</th>\n",
       "      <th>cambodia_3</th>\n",
       "      <th>cambodia_4</th>\n",
       "      <th>Lon</th>\n",
       "      <th>lat</th>\n",
       "    </tr>\n",
       "  </thead>\n",
       "  <tbody>\n",
       "    <tr>\n",
       "      <th>0</th>\n",
       "      <td>13</td>\n",
       "      <td>208177.099289</td>\n",
       "      <td>1.505652e+06</td>\n",
       "      <td>219724.104673</td>\n",
       "      <td>1.495652e+06</td>\n",
       "      <td>12</td>\n",
       "      <td>0</td>\n",
       "      <td>22558.310780</td>\n",
       "      <td>945762.0</td>\n",
       "      <td>25561.135135</td>\n",
       "      <td>11.0</td>\n",
       "      <td>345748.352712</td>\n",
       "      <td>102.371291</td>\n",
       "      <td>13.545851</td>\n",
       "    </tr>\n",
       "    <tr>\n",
       "      <th>1</th>\n",
       "      <td>14</td>\n",
       "      <td>208177.099289</td>\n",
       "      <td>1.495652e+06</td>\n",
       "      <td>219724.104673</td>\n",
       "      <td>1.485652e+06</td>\n",
       "      <td>13</td>\n",
       "      <td>0</td>\n",
       "      <td>76494.236911</td>\n",
       "      <td>960193.0</td>\n",
       "      <td>24004.825000</td>\n",
       "      <td>11.0</td>\n",
       "      <td>339378.300796</td>\n",
       "      <td>102.379103</td>\n",
       "      <td>13.469669</td>\n",
       "    </tr>\n",
       "    <tr>\n",
       "      <th>2</th>\n",
       "      <td>15</td>\n",
       "      <td>208177.099289</td>\n",
       "      <td>1.485652e+06</td>\n",
       "      <td>219724.104673</td>\n",
       "      <td>1.475652e+06</td>\n",
       "      <td>14</td>\n",
       "      <td>0</td>\n",
       "      <td>29370.969931</td>\n",
       "      <td>498893.0</td>\n",
       "      <td>10181.489796</td>\n",
       "      <td>11.0</td>\n",
       "      <td>333458.821529</td>\n",
       "      <td>102.376830</td>\n",
       "      <td>13.376990</td>\n",
       "    </tr>\n",
       "    <tr>\n",
       "      <th>3</th>\n",
       "      <td>16</td>\n",
       "      <td>208177.099289</td>\n",
       "      <td>1.475652e+06</td>\n",
       "      <td>219724.104673</td>\n",
       "      <td>1.465652e+06</td>\n",
       "      <td>15</td>\n",
       "      <td>0</td>\n",
       "      <td>7540.218487</td>\n",
       "      <td>366498.0</td>\n",
       "      <td>8144.400000</td>\n",
       "      <td>11.0</td>\n",
       "      <td>327076.535582</td>\n",
       "      <td>102.378995</td>\n",
       "      <td>13.291558</td>\n",
       "    </tr>\n",
       "    <tr>\n",
       "      <th>4</th>\n",
       "      <td>17</td>\n",
       "      <td>208177.099289</td>\n",
       "      <td>1.465652e+06</td>\n",
       "      <td>219724.104673</td>\n",
       "      <td>1.455652e+06</td>\n",
       "      <td>16</td>\n",
       "      <td>0</td>\n",
       "      <td>56001.014120</td>\n",
       "      <td>627248.0</td>\n",
       "      <td>48249.846154</td>\n",
       "      <td>21.0</td>\n",
       "      <td>320752.052104</td>\n",
       "      <td>102.393667</td>\n",
       "      <td>13.212654</td>\n",
       "    </tr>\n",
       "  </tbody>\n",
       "</table>\n",
       "</div>"
      ],
      "text/plain": [
       "   id           left           top          right        bottom  row_index  \\\n",
       "0  13  208177.099289  1.505652e+06  219724.104673  1.495652e+06         12   \n",
       "1  14  208177.099289  1.495652e+06  219724.104673  1.485652e+06         13   \n",
       "2  15  208177.099289  1.485652e+06  219724.104673  1.475652e+06         14   \n",
       "3  16  208177.099289  1.475652e+06  219724.104673  1.465652e+06         15   \n",
       "4  17  208177.099289  1.465652e+06  219724.104673  1.455652e+06         16   \n",
       "\n",
       "   col_index    cambodia_h  cambodia_1    cambodia_2  cambodia_3  \\\n",
       "0          0  22558.310780    945762.0  25561.135135        11.0   \n",
       "1          0  76494.236911    960193.0  24004.825000        11.0   \n",
       "2          0  29370.969931    498893.0  10181.489796        11.0   \n",
       "3          0   7540.218487    366498.0   8144.400000        11.0   \n",
       "4          0  56001.014120    627248.0  48249.846154        21.0   \n",
       "\n",
       "      cambodia_4         Lon        lat  \n",
       "0  345748.352712  102.371291  13.545851  \n",
       "1  339378.300796  102.379103  13.469669  \n",
       "2  333458.821529  102.376830  13.376990  \n",
       "3  327076.535582  102.378995  13.291558  \n",
       "4  320752.052104  102.393667  13.212654  "
      ]
     },
     "execution_count": 17,
     "metadata": {},
     "output_type": "execute_result"
    }
   ],
   "source": [
    "df.head()"
   ]
  }
 ],
 "metadata": {
  "kernelspec": {
   "display_name": "env_v3.10",
   "language": "python",
   "name": "python3"
  },
  "language_info": {
   "codemirror_mode": {
    "name": "ipython",
    "version": 3
   },
   "file_extension": ".py",
   "mimetype": "text/x-python",
   "name": "python",
   "nbconvert_exporter": "python",
   "pygments_lexer": "ipython3",
   "version": "3.10.16"
  }
 },
 "nbformat": 4,
 "nbformat_minor": 5
}
