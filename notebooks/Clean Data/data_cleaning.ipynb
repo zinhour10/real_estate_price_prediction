{
 "cells": [
  {
   "cell_type": "code",
   "execution_count": 33,
   "id": "1aa587a0",
   "metadata": {},
   "outputs": [],
   "source": [
    "import pandas as pd"
   ]
  },
  {
   "cell_type": "code",
   "execution_count": 34,
   "id": "9675d985",
   "metadata": {},
   "outputs": [],
   "source": [
    "df = pd.read_csv('../../data/raw/realestates_kh_v2.csv')"
   ]
  },
  {
   "cell_type": "code",
   "execution_count": 35,
   "id": "b4e9cadc",
   "metadata": {},
   "outputs": [
    {
     "data": {
      "application/vnd.microsoft.datawrangler.viewer.v0+json": {
       "columns": [
        {
         "name": "index",
         "rawType": "int64",
         "type": "integer"
        },
        {
         "name": "Unnamed: 0",
         "rawType": "int64",
         "type": "integer"
        },
        {
         "name": "id",
         "rawType": "int64",
         "type": "integer"
        },
        {
         "name": "headline",
         "rawType": "object",
         "type": "string"
        },
        {
         "name": "price_display",
         "rawType": "object",
         "type": "string"
        },
        {
         "name": "rent_display",
         "rawType": "object",
         "type": "unknown"
        },
        {
         "name": "bedrooms",
         "rawType": "float64",
         "type": "float"
        },
        {
         "name": "bathrooms",
         "rawType": "float64",
         "type": "float"
        },
        {
         "name": "land_area",
         "rawType": "float64",
         "type": "float"
        },
        {
         "name": "thumbnail_url",
         "rawType": "object",
         "type": "string"
        },
        {
         "name": "thumbnail_urls",
         "rawType": "object",
         "type": "string"
        },
        {
         "name": "garages",
         "rawType": "float64",
         "type": "float"
        },
        {
         "name": "location",
         "rawType": "object",
         "type": "string"
        },
        {
         "name": "address_subdivision",
         "rawType": "object",
         "type": "string"
        },
        {
         "name": "address_locality",
         "rawType": "object",
         "type": "string"
        },
        {
         "name": "address_line_2",
         "rawType": "object",
         "type": "string"
        },
        {
         "name": "address_line_1",
         "rawType": "object",
         "type": "string"
        },
        {
         "name": "category_name",
         "rawType": "object",
         "type": "string"
        },
        {
         "name": "is_parent",
         "rawType": "bool",
         "type": "boolean"
        },
        {
         "name": "type",
         "rawType": "object",
         "type": "string"
        },
        {
         "name": "information",
         "rawType": "object",
         "type": "string"
        },
        {
         "name": "source_url",
         "rawType": "object",
         "type": "string"
        },
        {
         "name": "language",
         "rawType": "object",
         "type": "string"
        },
        {
         "name": "latitude",
         "rawType": "float64",
         "type": "float"
        },
        {
         "name": "longitude",
         "rawType": "float64",
         "type": "float"
        }
       ],
       "ref": "fd9e0661-25a3-435f-8b65-3256e7e043ac",
       "rows": [
        [
         "0",
         "0",
         "204942",
         "A flat (2 floors) near Hengly market and near Monk hospital. Need to sell urgently.",
         "$150,000",
         null,
         "6.0",
         "4.0",
         null,
         "https://images.realestate.com.kh/__sized__/listings/2022-03/275612238_1977874659069151_1688445343481934852_n_oOIBcGU-thumbnail-750x562-70.jpeg",
         "['https://images.realestate.com.kh/__sized__/listings/2022-03/275612238_1977874659069151_1688445343481934852_n_oOIBcGU-thumbnail-400x300-70.jpeg', 'https://images.realestate.com.kh/__sized__/listings/2022-03/275785102_1977874729069144_7707145322245422804_n_UVt8vW4-thumbnail-400x300-70.jpeg', 'https://images.realestate.com.kh/__sized__/listings/2022-03/275803618_1977807722409178_3992051717002296032_n-thumbnail-400x300-70.jpeg']",
         null,
         "[104.91, 11.53]",
         "Phnom Penh",
         "Meanchey",
         "Stueng Mean chey",
         " ",
         "Flat",
         "False",
         "residential",
         "A flat (2 floors) near Hengly market and near Monk hospital. Need to sell urgently. * Price only: 150,000 dollars (negotiable) *this price plus transfer of title ownership *Land size: 4m x 22.5m * House size: 4m x 16m * There are 5m of the front land and 1.5m of the back land * 6 bedrooms and 4 bathrooms * House turning towards: north - Location: 350m from Hengly Market, 350m from Samakki Primary School, 700m from Monk Hospital and 100m from Road 271. - Bank installment for 20 years but require 30% of the house upfront.",
         "https://www.realestate.com.kh/204942/",
         "en",
         "11.53",
         "104.91"
        ],
        [
         "1",
         "1",
         "211997",
         "Twin Villa (Twin Villa) in Borey Highland 2005 Khan Sen Sok ",
         "$269,000",
         null,
         "4.0",
         "7.0",
         null,
         "https://images.realestate.com.kh/__sized__/listings/2022-06/285548414_2039368896253060_2778217814423508144_n-thumbnail-750x562-70.jpeg",
         "['https://images.realestate.com.kh/__sized__/listings/2022-06/285548414_2039368896253060_2778217814423508144_n-thumbnail-400x300-70.jpeg', 'https://images.realestate.com.kh/__sized__/listings/2022-06/285471288_2039369039586379_2213562277761024630_n-thumbnail-400x300-70.jpeg', 'https://images.realestate.com.kh/__sized__/listings/2022-06/285447312_2039369002919716_8954150624074044497_n-thumbnail-400x300-70.jpeg']",
         null,
         "[104.89, 11.55]",
         "Phnom Penh",
         "Sen Sok",
         "Khmuonh",
         " ",
         "Twin Villa",
         "False",
         "residential",
         "Twin Villa (Twin Villa) in Borey Highland 2005 Khan Sen Sok need to sell urgently * Price only: $ 369,000 (negotiable) *this price includes a hard title cut * Land size: 7.5m x 17m * House size: 6m x 12m * 4m left front land, 1m back land and 1.5m left side * 4 Bedrooms & 7 Bathrooms * home facing : south * Provides materials such as: Air conditioner, 4 cabinets, bed and curtains - Civilized, safe, comfortable lifestyle - Can pay installment through bank for 20 years but need to pay 30% of the house price in advance.",
         "https://www.realestate.com.kh/211997/",
         "en",
         "11.55",
         "104.89"
        ],
        [
         "2",
         "2",
         "212595",
         "house for sale",
         "$85,000",
         null,
         "2.0",
         "2.0",
         null,
         "https://images.realestate.com.kh/__sized__/listings/2022-06/4eeaaff8-c4c8-4a01-9e1b-ab84e9b5ac41-thumbnail-750x562-70.jpeg",
         "['https://images.realestate.com.kh/__sized__/listings/2022-06/4eeaaff8-c4c8-4a01-9e1b-ab84e9b5ac41-thumbnail-400x300-70.jpeg', 'https://images.realestate.com.kh/__sized__/listings/2022-06/0ead08ba-ded1-4de6-85fe-f2d38d6c1304-thumbnail-400x300-70.jpeg', 'https://images.realestate.com.kh/__sized__/listings/2022-06/22983657-3fa2-4909-aa9b-6983b20b2366-thumbnail-400x300-70.jpeg']",
         null,
         "[104.91713589328344, 11.554793367229314]",
         "Phnom Penh",
         "Chamkarmon",
         "BKK 2",
         "117 117",
         "House",
         "False",
         "residential",
         "There are 3 floors 2 bedrooms, 2 bathrooms can put up 4 * 4 bedrooms: Road 117 Today: Boeung Kang Pir, Boeng Kang Penh",
         "https://www.realestate.com.kh/212595/",
         "km",
         "11.554793367229314",
         "104.91713589328344"
        ],
        [
         "3",
         "3",
         "211987",
         "House for sale in Meanchey Area",
         "$450,000",
         null,
         "8.0",
         "6.0",
         "0.0",
         "https://images.realestate.com.kh/__sized__/listings/2022-06/818568bb-e0ae-4cec-ae87-4a4341551b01-thumbnail-750x562-70.jpeg",
         "['https://images.realestate.com.kh/__sized__/listings/2022-06/818568bb-e0ae-4cec-ae87-4a4341551b01-thumbnail-400x300-70.jpeg', 'https://images.realestate.com.kh/__sized__/listings/2022-06/342e7845-8216-4feb-876c-70142c0aa4d9-thumbnail-400x300-70.jpeg', 'https://images.realestate.com.kh/__sized__/listings/2022-06/1f6aeeeb-6632-44b2-9854-151fc4975198-thumbnail-400x300-70.jpeg']",
         "3.0",
         "[104.88632789999997, 11.539647799999969]",
         "Phnom Penh",
         "Meanchey",
         "Stueng Mean chey 3",
         "1 ផ្លូវលូប្រាំ(82c)",
         "Flat",
         "False",
         "residential",
         "I have a business house, I want to sell a house size 5x18, the rest of the back is 6 meters, the front is 7 meters, the rest is on the side, the hanger is 7 shirts, the price is 45 thousand, negotiable, if you are interested",
         "https://www.realestate.com.kh/211987/",
         "en",
         "11.539647799999967",
         "104.88632789999996"
        ],
        [
         "4",
         "4",
         "212653",
         "House for Sale Urgently | Extra Space and Stair next to the House| Negotiable",
         "$85,000",
         null,
         "2.0",
         "2.0",
         null,
         "https://images.realestate.com.kh/__sized__/listings/2022-06/photo_2022-06-13_18-09-41-thumbnail-750x562-70.jpeg",
         "['https://images.realestate.com.kh/__sized__/listings/2022-06/photo_2022-06-13_18-09-41-thumbnail-400x300-70.jpeg', 'https://images.realestate.com.kh/__sized__/listings/2022-06/photo_2022-06-13_18-09-44-thumbnail-400x300-70.jpeg', 'https://images.realestate.com.kh/__sized__/listings/2022-06/photo_2022-06-13_18-09-46-copy-thumbnail-400x300-70.jpeg']",
         null,
         "[104.93, 11.55]",
         "Phnom Penh",
         "Meanchey",
         "Boeung Tumpun",
         "ST. 45BT #4C, ST. 45BT #4C,",
         "Flat",
         "False",
         "residential",
         "Apartment Instast 4M * 15.5m There are 45M kitchen stitches, 45BT, Sangkat Boeung Tumpun, safe houses, safe houses Flat House 4m * 15.5M | Include Side Walk and Stair Next to The House | Huge Kitchen | NICE Road | No Flooding | PRICE: $ 85,000 (Ngotiable) Large Side Windows | Safe and Great Environment",
         "https://www.realestate.com.kh/212653/",
         "km",
         "11.55",
         "104.93"
        ]
       ],
       "shape": {
        "columns": 24,
        "rows": 5
       }
      },
      "text/html": [
       "<div>\n",
       "<style scoped>\n",
       "    .dataframe tbody tr th:only-of-type {\n",
       "        vertical-align: middle;\n",
       "    }\n",
       "\n",
       "    .dataframe tbody tr th {\n",
       "        vertical-align: top;\n",
       "    }\n",
       "\n",
       "    .dataframe thead th {\n",
       "        text-align: right;\n",
       "    }\n",
       "</style>\n",
       "<table border=\"1\" class=\"dataframe\">\n",
       "  <thead>\n",
       "    <tr style=\"text-align: right;\">\n",
       "      <th></th>\n",
       "      <th>Unnamed: 0</th>\n",
       "      <th>id</th>\n",
       "      <th>headline</th>\n",
       "      <th>price_display</th>\n",
       "      <th>rent_display</th>\n",
       "      <th>bedrooms</th>\n",
       "      <th>bathrooms</th>\n",
       "      <th>land_area</th>\n",
       "      <th>thumbnail_url</th>\n",
       "      <th>thumbnail_urls</th>\n",
       "      <th>...</th>\n",
       "      <th>address_line_2</th>\n",
       "      <th>address_line_1</th>\n",
       "      <th>category_name</th>\n",
       "      <th>is_parent</th>\n",
       "      <th>type</th>\n",
       "      <th>information</th>\n",
       "      <th>source_url</th>\n",
       "      <th>language</th>\n",
       "      <th>latitude</th>\n",
       "      <th>longitude</th>\n",
       "    </tr>\n",
       "  </thead>\n",
       "  <tbody>\n",
       "    <tr>\n",
       "      <th>0</th>\n",
       "      <td>0</td>\n",
       "      <td>204942</td>\n",
       "      <td>A flat (2 floors) near Hengly market and near ...</td>\n",
       "      <td>$150,000</td>\n",
       "      <td>NaN</td>\n",
       "      <td>6.0</td>\n",
       "      <td>4.0</td>\n",
       "      <td>NaN</td>\n",
       "      <td>https://images.realestate.com.kh/__sized__/lis...</td>\n",
       "      <td>['https://images.realestate.com.kh/__sized__/l...</td>\n",
       "      <td>...</td>\n",
       "      <td>Stueng Mean chey</td>\n",
       "      <td></td>\n",
       "      <td>Flat</td>\n",
       "      <td>False</td>\n",
       "      <td>residential</td>\n",
       "      <td>A flat (2 floors) near Hengly market and near ...</td>\n",
       "      <td>https://www.realestate.com.kh/204942/</td>\n",
       "      <td>en</td>\n",
       "      <td>11.530000</td>\n",
       "      <td>104.910000</td>\n",
       "    </tr>\n",
       "    <tr>\n",
       "      <th>1</th>\n",
       "      <td>1</td>\n",
       "      <td>211997</td>\n",
       "      <td>Twin Villa (Twin Villa) in Borey Highland 2005...</td>\n",
       "      <td>$269,000</td>\n",
       "      <td>NaN</td>\n",
       "      <td>4.0</td>\n",
       "      <td>7.0</td>\n",
       "      <td>NaN</td>\n",
       "      <td>https://images.realestate.com.kh/__sized__/lis...</td>\n",
       "      <td>['https://images.realestate.com.kh/__sized__/l...</td>\n",
       "      <td>...</td>\n",
       "      <td>Khmuonh</td>\n",
       "      <td></td>\n",
       "      <td>Twin Villa</td>\n",
       "      <td>False</td>\n",
       "      <td>residential</td>\n",
       "      <td>Twin Villa (Twin Villa) in Borey Highland 2005...</td>\n",
       "      <td>https://www.realestate.com.kh/211997/</td>\n",
       "      <td>en</td>\n",
       "      <td>11.550000</td>\n",
       "      <td>104.890000</td>\n",
       "    </tr>\n",
       "    <tr>\n",
       "      <th>2</th>\n",
       "      <td>2</td>\n",
       "      <td>212595</td>\n",
       "      <td>house for sale</td>\n",
       "      <td>$85,000</td>\n",
       "      <td>NaN</td>\n",
       "      <td>2.0</td>\n",
       "      <td>2.0</td>\n",
       "      <td>NaN</td>\n",
       "      <td>https://images.realestate.com.kh/__sized__/lis...</td>\n",
       "      <td>['https://images.realestate.com.kh/__sized__/l...</td>\n",
       "      <td>...</td>\n",
       "      <td>BKK 2</td>\n",
       "      <td>117 117</td>\n",
       "      <td>House</td>\n",
       "      <td>False</td>\n",
       "      <td>residential</td>\n",
       "      <td>There are 3 floors 2 bedrooms, 2 bathrooms can...</td>\n",
       "      <td>https://www.realestate.com.kh/212595/</td>\n",
       "      <td>km</td>\n",
       "      <td>11.554793</td>\n",
       "      <td>104.917136</td>\n",
       "    </tr>\n",
       "    <tr>\n",
       "      <th>3</th>\n",
       "      <td>3</td>\n",
       "      <td>211987</td>\n",
       "      <td>House for sale in Meanchey Area</td>\n",
       "      <td>$450,000</td>\n",
       "      <td>NaN</td>\n",
       "      <td>8.0</td>\n",
       "      <td>6.0</td>\n",
       "      <td>0.0</td>\n",
       "      <td>https://images.realestate.com.kh/__sized__/lis...</td>\n",
       "      <td>['https://images.realestate.com.kh/__sized__/l...</td>\n",
       "      <td>...</td>\n",
       "      <td>Stueng Mean chey 3</td>\n",
       "      <td>1 ផ្លូវលូប្រាំ(82c)</td>\n",
       "      <td>Flat</td>\n",
       "      <td>False</td>\n",
       "      <td>residential</td>\n",
       "      <td>I have a business house, I want to sell a hous...</td>\n",
       "      <td>https://www.realestate.com.kh/211987/</td>\n",
       "      <td>en</td>\n",
       "      <td>11.539648</td>\n",
       "      <td>104.886328</td>\n",
       "    </tr>\n",
       "    <tr>\n",
       "      <th>4</th>\n",
       "      <td>4</td>\n",
       "      <td>212653</td>\n",
       "      <td>House for Sale Urgently | Extra Space and Stai...</td>\n",
       "      <td>$85,000</td>\n",
       "      <td>NaN</td>\n",
       "      <td>2.0</td>\n",
       "      <td>2.0</td>\n",
       "      <td>NaN</td>\n",
       "      <td>https://images.realestate.com.kh/__sized__/lis...</td>\n",
       "      <td>['https://images.realestate.com.kh/__sized__/l...</td>\n",
       "      <td>...</td>\n",
       "      <td>Boeung Tumpun</td>\n",
       "      <td>ST. 45BT #4C, ST. 45BT #4C,</td>\n",
       "      <td>Flat</td>\n",
       "      <td>False</td>\n",
       "      <td>residential</td>\n",
       "      <td>Apartment Instast 4M * 15.5m There are 45M kit...</td>\n",
       "      <td>https://www.realestate.com.kh/212653/</td>\n",
       "      <td>km</td>\n",
       "      <td>11.550000</td>\n",
       "      <td>104.930000</td>\n",
       "    </tr>\n",
       "  </tbody>\n",
       "</table>\n",
       "<p>5 rows × 24 columns</p>\n",
       "</div>"
      ],
      "text/plain": [
       "   Unnamed: 0      id                                           headline  \\\n",
       "0           0  204942  A flat (2 floors) near Hengly market and near ...   \n",
       "1           1  211997  Twin Villa (Twin Villa) in Borey Highland 2005...   \n",
       "2           2  212595                                     house for sale   \n",
       "3           3  211987                    House for sale in Meanchey Area   \n",
       "4           4  212653  House for Sale Urgently | Extra Space and Stai...   \n",
       "\n",
       "  price_display rent_display  bedrooms  bathrooms  land_area  \\\n",
       "0      $150,000          NaN       6.0        4.0        NaN   \n",
       "1      $269,000          NaN       4.0        7.0        NaN   \n",
       "2       $85,000          NaN       2.0        2.0        NaN   \n",
       "3      $450,000          NaN       8.0        6.0        0.0   \n",
       "4       $85,000          NaN       2.0        2.0        NaN   \n",
       "\n",
       "                                       thumbnail_url  \\\n",
       "0  https://images.realestate.com.kh/__sized__/lis...   \n",
       "1  https://images.realestate.com.kh/__sized__/lis...   \n",
       "2  https://images.realestate.com.kh/__sized__/lis...   \n",
       "3  https://images.realestate.com.kh/__sized__/lis...   \n",
       "4  https://images.realestate.com.kh/__sized__/lis...   \n",
       "\n",
       "                                      thumbnail_urls  ...      address_line_2  \\\n",
       "0  ['https://images.realestate.com.kh/__sized__/l...  ...    Stueng Mean chey   \n",
       "1  ['https://images.realestate.com.kh/__sized__/l...  ...             Khmuonh   \n",
       "2  ['https://images.realestate.com.kh/__sized__/l...  ...               BKK 2   \n",
       "3  ['https://images.realestate.com.kh/__sized__/l...  ...  Stueng Mean chey 3   \n",
       "4  ['https://images.realestate.com.kh/__sized__/l...  ...       Boeung Tumpun   \n",
       "\n",
       "                address_line_1 category_name is_parent         type  \\\n",
       "0                                       Flat     False  residential   \n",
       "1                                 Twin Villa     False  residential   \n",
       "2                      117 117         House     False  residential   \n",
       "3          1 ផ្លូវលូប្រាំ(82c)          Flat     False  residential   \n",
       "4  ST. 45BT #4C, ST. 45BT #4C,          Flat     False  residential   \n",
       "\n",
       "                                         information  \\\n",
       "0  A flat (2 floors) near Hengly market and near ...   \n",
       "1  Twin Villa (Twin Villa) in Borey Highland 2005...   \n",
       "2  There are 3 floors 2 bedrooms, 2 bathrooms can...   \n",
       "3  I have a business house, I want to sell a hous...   \n",
       "4  Apartment Instast 4M * 15.5m There are 45M kit...   \n",
       "\n",
       "                              source_url  language   latitude   longitude  \n",
       "0  https://www.realestate.com.kh/204942/        en  11.530000  104.910000  \n",
       "1  https://www.realestate.com.kh/211997/        en  11.550000  104.890000  \n",
       "2  https://www.realestate.com.kh/212595/        km  11.554793  104.917136  \n",
       "3  https://www.realestate.com.kh/211987/        en  11.539648  104.886328  \n",
       "4  https://www.realestate.com.kh/212653/        km  11.550000  104.930000  \n",
       "\n",
       "[5 rows x 24 columns]"
      ]
     },
     "execution_count": 35,
     "metadata": {},
     "output_type": "execute_result"
    }
   ],
   "source": [
    "df.head()"
   ]
  },
  {
   "cell_type": "code",
   "execution_count": 36,
   "id": "778e59b7",
   "metadata": {},
   "outputs": [],
   "source": [
    "df = df[df['address_subdivision'] == 'Phnom Penh']"
   ]
  },
  {
   "cell_type": "code",
   "execution_count": 37,
   "id": "977a5a42",
   "metadata": {},
   "outputs": [
    {
     "data": {
      "application/vnd.microsoft.datawrangler.viewer.v0+json": {
       "columns": [
        {
         "name": "index",
         "rawType": "int64",
         "type": "integer"
        },
        {
         "name": "Unnamed: 0",
         "rawType": "int64",
         "type": "integer"
        },
        {
         "name": "id",
         "rawType": "int64",
         "type": "integer"
        },
        {
         "name": "headline",
         "rawType": "object",
         "type": "string"
        },
        {
         "name": "price_display",
         "rawType": "object",
         "type": "string"
        },
        {
         "name": "rent_display",
         "rawType": "object",
         "type": "unknown"
        },
        {
         "name": "bedrooms",
         "rawType": "float64",
         "type": "float"
        },
        {
         "name": "bathrooms",
         "rawType": "float64",
         "type": "float"
        },
        {
         "name": "land_area",
         "rawType": "float64",
         "type": "float"
        },
        {
         "name": "thumbnail_url",
         "rawType": "object",
         "type": "string"
        },
        {
         "name": "thumbnail_urls",
         "rawType": "object",
         "type": "string"
        },
        {
         "name": "garages",
         "rawType": "float64",
         "type": "float"
        },
        {
         "name": "location",
         "rawType": "object",
         "type": "string"
        },
        {
         "name": "address_subdivision",
         "rawType": "object",
         "type": "string"
        },
        {
         "name": "address_locality",
         "rawType": "object",
         "type": "string"
        },
        {
         "name": "address_line_2",
         "rawType": "object",
         "type": "string"
        },
        {
         "name": "address_line_1",
         "rawType": "object",
         "type": "string"
        },
        {
         "name": "category_name",
         "rawType": "object",
         "type": "string"
        },
        {
         "name": "is_parent",
         "rawType": "bool",
         "type": "boolean"
        },
        {
         "name": "type",
         "rawType": "object",
         "type": "string"
        },
        {
         "name": "information",
         "rawType": "object",
         "type": "string"
        },
        {
         "name": "source_url",
         "rawType": "object",
         "type": "string"
        },
        {
         "name": "language",
         "rawType": "object",
         "type": "string"
        },
        {
         "name": "latitude",
         "rawType": "float64",
         "type": "float"
        },
        {
         "name": "longitude",
         "rawType": "float64",
         "type": "float"
        }
       ],
       "ref": "3dac47f6-a232-44b8-9c96-d604211a01a1",
       "rows": [
        [
         "0",
         "0",
         "204942",
         "A flat (2 floors) near Hengly market and near Monk hospital. Need to sell urgently.",
         "$150,000",
         null,
         "6.0",
         "4.0",
         null,
         "https://images.realestate.com.kh/__sized__/listings/2022-03/275612238_1977874659069151_1688445343481934852_n_oOIBcGU-thumbnail-750x562-70.jpeg",
         "['https://images.realestate.com.kh/__sized__/listings/2022-03/275612238_1977874659069151_1688445343481934852_n_oOIBcGU-thumbnail-400x300-70.jpeg', 'https://images.realestate.com.kh/__sized__/listings/2022-03/275785102_1977874729069144_7707145322245422804_n_UVt8vW4-thumbnail-400x300-70.jpeg', 'https://images.realestate.com.kh/__sized__/listings/2022-03/275803618_1977807722409178_3992051717002296032_n-thumbnail-400x300-70.jpeg']",
         null,
         "[104.91, 11.53]",
         "Phnom Penh",
         "Meanchey",
         "Stueng Mean chey",
         " ",
         "Flat",
         "False",
         "residential",
         "A flat (2 floors) near Hengly market and near Monk hospital. Need to sell urgently. * Price only: 150,000 dollars (negotiable) *this price plus transfer of title ownership *Land size: 4m x 22.5m * House size: 4m x 16m * There are 5m of the front land and 1.5m of the back land * 6 bedrooms and 4 bathrooms * House turning towards: north - Location: 350m from Hengly Market, 350m from Samakki Primary School, 700m from Monk Hospital and 100m from Road 271. - Bank installment for 20 years but require 30% of the house upfront.",
         "https://www.realestate.com.kh/204942/",
         "en",
         "11.53",
         "104.91"
        ],
        [
         "1",
         "1",
         "211997",
         "Twin Villa (Twin Villa) in Borey Highland 2005 Khan Sen Sok ",
         "$269,000",
         null,
         "4.0",
         "7.0",
         null,
         "https://images.realestate.com.kh/__sized__/listings/2022-06/285548414_2039368896253060_2778217814423508144_n-thumbnail-750x562-70.jpeg",
         "['https://images.realestate.com.kh/__sized__/listings/2022-06/285548414_2039368896253060_2778217814423508144_n-thumbnail-400x300-70.jpeg', 'https://images.realestate.com.kh/__sized__/listings/2022-06/285471288_2039369039586379_2213562277761024630_n-thumbnail-400x300-70.jpeg', 'https://images.realestate.com.kh/__sized__/listings/2022-06/285447312_2039369002919716_8954150624074044497_n-thumbnail-400x300-70.jpeg']",
         null,
         "[104.89, 11.55]",
         "Phnom Penh",
         "Sen Sok",
         "Khmuonh",
         " ",
         "Twin Villa",
         "False",
         "residential",
         "Twin Villa (Twin Villa) in Borey Highland 2005 Khan Sen Sok need to sell urgently * Price only: $ 369,000 (negotiable) *this price includes a hard title cut * Land size: 7.5m x 17m * House size: 6m x 12m * 4m left front land, 1m back land and 1.5m left side * 4 Bedrooms & 7 Bathrooms * home facing : south * Provides materials such as: Air conditioner, 4 cabinets, bed and curtains - Civilized, safe, comfortable lifestyle - Can pay installment through bank for 20 years but need to pay 30% of the house price in advance.",
         "https://www.realestate.com.kh/211997/",
         "en",
         "11.55",
         "104.89"
        ],
        [
         "2",
         "2",
         "212595",
         "house for sale",
         "$85,000",
         null,
         "2.0",
         "2.0",
         null,
         "https://images.realestate.com.kh/__sized__/listings/2022-06/4eeaaff8-c4c8-4a01-9e1b-ab84e9b5ac41-thumbnail-750x562-70.jpeg",
         "['https://images.realestate.com.kh/__sized__/listings/2022-06/4eeaaff8-c4c8-4a01-9e1b-ab84e9b5ac41-thumbnail-400x300-70.jpeg', 'https://images.realestate.com.kh/__sized__/listings/2022-06/0ead08ba-ded1-4de6-85fe-f2d38d6c1304-thumbnail-400x300-70.jpeg', 'https://images.realestate.com.kh/__sized__/listings/2022-06/22983657-3fa2-4909-aa9b-6983b20b2366-thumbnail-400x300-70.jpeg']",
         null,
         "[104.91713589328344, 11.554793367229314]",
         "Phnom Penh",
         "Chamkarmon",
         "BKK 2",
         "117 117",
         "House",
         "False",
         "residential",
         "There are 3 floors 2 bedrooms, 2 bathrooms can put up 4 * 4 bedrooms: Road 117 Today: Boeung Kang Pir, Boeng Kang Penh",
         "https://www.realestate.com.kh/212595/",
         "km",
         "11.554793367229314",
         "104.91713589328344"
        ],
        [
         "3",
         "3",
         "211987",
         "House for sale in Meanchey Area",
         "$450,000",
         null,
         "8.0",
         "6.0",
         "0.0",
         "https://images.realestate.com.kh/__sized__/listings/2022-06/818568bb-e0ae-4cec-ae87-4a4341551b01-thumbnail-750x562-70.jpeg",
         "['https://images.realestate.com.kh/__sized__/listings/2022-06/818568bb-e0ae-4cec-ae87-4a4341551b01-thumbnail-400x300-70.jpeg', 'https://images.realestate.com.kh/__sized__/listings/2022-06/342e7845-8216-4feb-876c-70142c0aa4d9-thumbnail-400x300-70.jpeg', 'https://images.realestate.com.kh/__sized__/listings/2022-06/1f6aeeeb-6632-44b2-9854-151fc4975198-thumbnail-400x300-70.jpeg']",
         "3.0",
         "[104.88632789999997, 11.539647799999969]",
         "Phnom Penh",
         "Meanchey",
         "Stueng Mean chey 3",
         "1 ផ្លូវលូប្រាំ(82c)",
         "Flat",
         "False",
         "residential",
         "I have a business house, I want to sell a house size 5x18, the rest of the back is 6 meters, the front is 7 meters, the rest is on the side, the hanger is 7 shirts, the price is 45 thousand, negotiable, if you are interested",
         "https://www.realestate.com.kh/211987/",
         "en",
         "11.539647799999967",
         "104.88632789999996"
        ],
        [
         "4",
         "4",
         "212653",
         "House for Sale Urgently | Extra Space and Stair next to the House| Negotiable",
         "$85,000",
         null,
         "2.0",
         "2.0",
         null,
         "https://images.realestate.com.kh/__sized__/listings/2022-06/photo_2022-06-13_18-09-41-thumbnail-750x562-70.jpeg",
         "['https://images.realestate.com.kh/__sized__/listings/2022-06/photo_2022-06-13_18-09-41-thumbnail-400x300-70.jpeg', 'https://images.realestate.com.kh/__sized__/listings/2022-06/photo_2022-06-13_18-09-44-thumbnail-400x300-70.jpeg', 'https://images.realestate.com.kh/__sized__/listings/2022-06/photo_2022-06-13_18-09-46-copy-thumbnail-400x300-70.jpeg']",
         null,
         "[104.93, 11.55]",
         "Phnom Penh",
         "Meanchey",
         "Boeung Tumpun",
         "ST. 45BT #4C, ST. 45BT #4C,",
         "Flat",
         "False",
         "residential",
         "Apartment Instast 4M * 15.5m There are 45M kitchen stitches, 45BT, Sangkat Boeung Tumpun, safe houses, safe houses Flat House 4m * 15.5M | Include Side Walk and Stair Next to The House | Huge Kitchen | NICE Road | No Flooding | PRICE: $ 85,000 (Ngotiable) Large Side Windows | Safe and Great Environment",
         "https://www.realestate.com.kh/212653/",
         "km",
         "11.55",
         "104.93"
        ]
       ],
       "shape": {
        "columns": 24,
        "rows": 5
       }
      },
      "text/html": [
       "<div>\n",
       "<style scoped>\n",
       "    .dataframe tbody tr th:only-of-type {\n",
       "        vertical-align: middle;\n",
       "    }\n",
       "\n",
       "    .dataframe tbody tr th {\n",
       "        vertical-align: top;\n",
       "    }\n",
       "\n",
       "    .dataframe thead th {\n",
       "        text-align: right;\n",
       "    }\n",
       "</style>\n",
       "<table border=\"1\" class=\"dataframe\">\n",
       "  <thead>\n",
       "    <tr style=\"text-align: right;\">\n",
       "      <th></th>\n",
       "      <th>Unnamed: 0</th>\n",
       "      <th>id</th>\n",
       "      <th>headline</th>\n",
       "      <th>price_display</th>\n",
       "      <th>rent_display</th>\n",
       "      <th>bedrooms</th>\n",
       "      <th>bathrooms</th>\n",
       "      <th>land_area</th>\n",
       "      <th>thumbnail_url</th>\n",
       "      <th>thumbnail_urls</th>\n",
       "      <th>...</th>\n",
       "      <th>address_line_2</th>\n",
       "      <th>address_line_1</th>\n",
       "      <th>category_name</th>\n",
       "      <th>is_parent</th>\n",
       "      <th>type</th>\n",
       "      <th>information</th>\n",
       "      <th>source_url</th>\n",
       "      <th>language</th>\n",
       "      <th>latitude</th>\n",
       "      <th>longitude</th>\n",
       "    </tr>\n",
       "  </thead>\n",
       "  <tbody>\n",
       "    <tr>\n",
       "      <th>0</th>\n",
       "      <td>0</td>\n",
       "      <td>204942</td>\n",
       "      <td>A flat (2 floors) near Hengly market and near ...</td>\n",
       "      <td>$150,000</td>\n",
       "      <td>NaN</td>\n",
       "      <td>6.0</td>\n",
       "      <td>4.0</td>\n",
       "      <td>NaN</td>\n",
       "      <td>https://images.realestate.com.kh/__sized__/lis...</td>\n",
       "      <td>['https://images.realestate.com.kh/__sized__/l...</td>\n",
       "      <td>...</td>\n",
       "      <td>Stueng Mean chey</td>\n",
       "      <td></td>\n",
       "      <td>Flat</td>\n",
       "      <td>False</td>\n",
       "      <td>residential</td>\n",
       "      <td>A flat (2 floors) near Hengly market and near ...</td>\n",
       "      <td>https://www.realestate.com.kh/204942/</td>\n",
       "      <td>en</td>\n",
       "      <td>11.530000</td>\n",
       "      <td>104.910000</td>\n",
       "    </tr>\n",
       "    <tr>\n",
       "      <th>1</th>\n",
       "      <td>1</td>\n",
       "      <td>211997</td>\n",
       "      <td>Twin Villa (Twin Villa) in Borey Highland 2005...</td>\n",
       "      <td>$269,000</td>\n",
       "      <td>NaN</td>\n",
       "      <td>4.0</td>\n",
       "      <td>7.0</td>\n",
       "      <td>NaN</td>\n",
       "      <td>https://images.realestate.com.kh/__sized__/lis...</td>\n",
       "      <td>['https://images.realestate.com.kh/__sized__/l...</td>\n",
       "      <td>...</td>\n",
       "      <td>Khmuonh</td>\n",
       "      <td></td>\n",
       "      <td>Twin Villa</td>\n",
       "      <td>False</td>\n",
       "      <td>residential</td>\n",
       "      <td>Twin Villa (Twin Villa) in Borey Highland 2005...</td>\n",
       "      <td>https://www.realestate.com.kh/211997/</td>\n",
       "      <td>en</td>\n",
       "      <td>11.550000</td>\n",
       "      <td>104.890000</td>\n",
       "    </tr>\n",
       "    <tr>\n",
       "      <th>2</th>\n",
       "      <td>2</td>\n",
       "      <td>212595</td>\n",
       "      <td>house for sale</td>\n",
       "      <td>$85,000</td>\n",
       "      <td>NaN</td>\n",
       "      <td>2.0</td>\n",
       "      <td>2.0</td>\n",
       "      <td>NaN</td>\n",
       "      <td>https://images.realestate.com.kh/__sized__/lis...</td>\n",
       "      <td>['https://images.realestate.com.kh/__sized__/l...</td>\n",
       "      <td>...</td>\n",
       "      <td>BKK 2</td>\n",
       "      <td>117 117</td>\n",
       "      <td>House</td>\n",
       "      <td>False</td>\n",
       "      <td>residential</td>\n",
       "      <td>There are 3 floors 2 bedrooms, 2 bathrooms can...</td>\n",
       "      <td>https://www.realestate.com.kh/212595/</td>\n",
       "      <td>km</td>\n",
       "      <td>11.554793</td>\n",
       "      <td>104.917136</td>\n",
       "    </tr>\n",
       "    <tr>\n",
       "      <th>3</th>\n",
       "      <td>3</td>\n",
       "      <td>211987</td>\n",
       "      <td>House for sale in Meanchey Area</td>\n",
       "      <td>$450,000</td>\n",
       "      <td>NaN</td>\n",
       "      <td>8.0</td>\n",
       "      <td>6.0</td>\n",
       "      <td>0.0</td>\n",
       "      <td>https://images.realestate.com.kh/__sized__/lis...</td>\n",
       "      <td>['https://images.realestate.com.kh/__sized__/l...</td>\n",
       "      <td>...</td>\n",
       "      <td>Stueng Mean chey 3</td>\n",
       "      <td>1 ផ្លូវលូប្រាំ(82c)</td>\n",
       "      <td>Flat</td>\n",
       "      <td>False</td>\n",
       "      <td>residential</td>\n",
       "      <td>I have a business house, I want to sell a hous...</td>\n",
       "      <td>https://www.realestate.com.kh/211987/</td>\n",
       "      <td>en</td>\n",
       "      <td>11.539648</td>\n",
       "      <td>104.886328</td>\n",
       "    </tr>\n",
       "    <tr>\n",
       "      <th>4</th>\n",
       "      <td>4</td>\n",
       "      <td>212653</td>\n",
       "      <td>House for Sale Urgently | Extra Space and Stai...</td>\n",
       "      <td>$85,000</td>\n",
       "      <td>NaN</td>\n",
       "      <td>2.0</td>\n",
       "      <td>2.0</td>\n",
       "      <td>NaN</td>\n",
       "      <td>https://images.realestate.com.kh/__sized__/lis...</td>\n",
       "      <td>['https://images.realestate.com.kh/__sized__/l...</td>\n",
       "      <td>...</td>\n",
       "      <td>Boeung Tumpun</td>\n",
       "      <td>ST. 45BT #4C, ST. 45BT #4C,</td>\n",
       "      <td>Flat</td>\n",
       "      <td>False</td>\n",
       "      <td>residential</td>\n",
       "      <td>Apartment Instast 4M * 15.5m There are 45M kit...</td>\n",
       "      <td>https://www.realestate.com.kh/212653/</td>\n",
       "      <td>km</td>\n",
       "      <td>11.550000</td>\n",
       "      <td>104.930000</td>\n",
       "    </tr>\n",
       "  </tbody>\n",
       "</table>\n",
       "<p>5 rows × 24 columns</p>\n",
       "</div>"
      ],
      "text/plain": [
       "   Unnamed: 0      id                                           headline  \\\n",
       "0           0  204942  A flat (2 floors) near Hengly market and near ...   \n",
       "1           1  211997  Twin Villa (Twin Villa) in Borey Highland 2005...   \n",
       "2           2  212595                                     house for sale   \n",
       "3           3  211987                    House for sale in Meanchey Area   \n",
       "4           4  212653  House for Sale Urgently | Extra Space and Stai...   \n",
       "\n",
       "  price_display rent_display  bedrooms  bathrooms  land_area  \\\n",
       "0      $150,000          NaN       6.0        4.0        NaN   \n",
       "1      $269,000          NaN       4.0        7.0        NaN   \n",
       "2       $85,000          NaN       2.0        2.0        NaN   \n",
       "3      $450,000          NaN       8.0        6.0        0.0   \n",
       "4       $85,000          NaN       2.0        2.0        NaN   \n",
       "\n",
       "                                       thumbnail_url  \\\n",
       "0  https://images.realestate.com.kh/__sized__/lis...   \n",
       "1  https://images.realestate.com.kh/__sized__/lis...   \n",
       "2  https://images.realestate.com.kh/__sized__/lis...   \n",
       "3  https://images.realestate.com.kh/__sized__/lis...   \n",
       "4  https://images.realestate.com.kh/__sized__/lis...   \n",
       "\n",
       "                                      thumbnail_urls  ...      address_line_2  \\\n",
       "0  ['https://images.realestate.com.kh/__sized__/l...  ...    Stueng Mean chey   \n",
       "1  ['https://images.realestate.com.kh/__sized__/l...  ...             Khmuonh   \n",
       "2  ['https://images.realestate.com.kh/__sized__/l...  ...               BKK 2   \n",
       "3  ['https://images.realestate.com.kh/__sized__/l...  ...  Stueng Mean chey 3   \n",
       "4  ['https://images.realestate.com.kh/__sized__/l...  ...       Boeung Tumpun   \n",
       "\n",
       "                address_line_1 category_name is_parent         type  \\\n",
       "0                                       Flat     False  residential   \n",
       "1                                 Twin Villa     False  residential   \n",
       "2                      117 117         House     False  residential   \n",
       "3          1 ផ្លូវលូប្រាំ(82c)          Flat     False  residential   \n",
       "4  ST. 45BT #4C, ST. 45BT #4C,          Flat     False  residential   \n",
       "\n",
       "                                         information  \\\n",
       "0  A flat (2 floors) near Hengly market and near ...   \n",
       "1  Twin Villa (Twin Villa) in Borey Highland 2005...   \n",
       "2  There are 3 floors 2 bedrooms, 2 bathrooms can...   \n",
       "3  I have a business house, I want to sell a hous...   \n",
       "4  Apartment Instast 4M * 15.5m There are 45M kit...   \n",
       "\n",
       "                              source_url  language   latitude   longitude  \n",
       "0  https://www.realestate.com.kh/204942/        en  11.530000  104.910000  \n",
       "1  https://www.realestate.com.kh/211997/        en  11.550000  104.890000  \n",
       "2  https://www.realestate.com.kh/212595/        km  11.554793  104.917136  \n",
       "3  https://www.realestate.com.kh/211987/        en  11.539648  104.886328  \n",
       "4  https://www.realestate.com.kh/212653/        km  11.550000  104.930000  \n",
       "\n",
       "[5 rows x 24 columns]"
      ]
     },
     "execution_count": 37,
     "metadata": {},
     "output_type": "execute_result"
    }
   ],
   "source": [
    "df.head()"
   ]
  },
  {
   "cell_type": "code",
   "execution_count": 38,
   "id": "0431c564",
   "metadata": {},
   "outputs": [
    {
     "data": {
      "text/plain": [
       "(4210, 24)"
      ]
     },
     "execution_count": 38,
     "metadata": {},
     "output_type": "execute_result"
    }
   ],
   "source": [
    "df.shape"
   ]
  },
  {
   "cell_type": "code",
   "execution_count": 39,
   "id": "c4cd38ec",
   "metadata": {},
   "outputs": [
    {
     "data": {
      "application/vnd.microsoft.datawrangler.viewer.v0+json": {
       "columns": [
        {
         "name": "index",
         "rawType": "object",
         "type": "string"
        },
        {
         "name": "0",
         "rawType": "int64",
         "type": "integer"
        }
       ],
       "ref": "c5152a52-4219-467e-9dd8-c9ddf21b8a0d",
       "rows": [
        [
         "Unnamed: 0",
         "0"
        ],
        [
         "id",
         "0"
        ],
        [
         "headline",
         "0"
        ],
        [
         "price_display",
         "13"
        ],
        [
         "rent_display",
         "3597"
        ],
        [
         "bedrooms",
         "1028"
        ],
        [
         "bathrooms",
         "1035"
        ],
        [
         "land_area",
         "2194"
        ],
        [
         "thumbnail_url",
         "0"
        ],
        [
         "thumbnail_urls",
         "0"
        ],
        [
         "garages",
         "3175"
        ],
        [
         "location",
         "0"
        ],
        [
         "address_subdivision",
         "0"
        ],
        [
         "address_locality",
         "0"
        ],
        [
         "address_line_2",
         "9"
        ],
        [
         "address_line_1",
         "148"
        ],
        [
         "category_name",
         "0"
        ],
        [
         "is_parent",
         "0"
        ],
        [
         "type",
         "0"
        ],
        [
         "information",
         "38"
        ],
        [
         "source_url",
         "0"
        ],
        [
         "language",
         "0"
        ],
        [
         "latitude",
         "0"
        ],
        [
         "longitude",
         "0"
        ]
       ],
       "shape": {
        "columns": 1,
        "rows": 24
       }
      },
      "text/plain": [
       "Unnamed: 0                0\n",
       "id                        0\n",
       "headline                  0\n",
       "price_display            13\n",
       "rent_display           3597\n",
       "bedrooms               1028\n",
       "bathrooms              1035\n",
       "land_area              2194\n",
       "thumbnail_url             0\n",
       "thumbnail_urls            0\n",
       "garages                3175\n",
       "location                  0\n",
       "address_subdivision       0\n",
       "address_locality          0\n",
       "address_line_2            9\n",
       "address_line_1          148\n",
       "category_name             0\n",
       "is_parent                 0\n",
       "type                      0\n",
       "information              38\n",
       "source_url                0\n",
       "language                  0\n",
       "latitude                  0\n",
       "longitude                 0\n",
       "dtype: int64"
      ]
     },
     "execution_count": 39,
     "metadata": {},
     "output_type": "execute_result"
    }
   ],
   "source": [
    "df.isnull().sum()"
   ]
  },
  {
   "cell_type": "code",
   "execution_count": null,
   "id": "3f23f6f6",
   "metadata": {},
   "outputs": [],
   "source": [
    "mask = False\n",
    "for col in df.columns: \n",
    "    mask = mask | df[col].isnull()\n",
    "dfnulls = df[mask]"
   ]
  },
  {
   "cell_type": "code",
   "execution_count": 42,
   "id": "2757fba4",
   "metadata": {},
   "outputs": [
    {
     "data": {
      "text/plain": [
       "(4142, 24)"
      ]
     },
     "execution_count": 42,
     "metadata": {},
     "output_type": "execute_result"
    }
   ],
   "source": [
    "dfnulls.shape"
   ]
  },
  {
   "cell_type": "code",
   "execution_count": 43,
   "id": "dfbe9f21",
   "metadata": {},
   "outputs": [
    {
     "name": "stdout",
     "output_type": "stream",
     "text": [
      "   Unnamed: 0      id                                           headline  \\\n",
      "0           0  204942  A flat (2 floors) near Hengly market and near ...   \n",
      "1           1  211997  Twin Villa (Twin Villa) in Borey Highland 2005...   \n",
      "2           2  212595                                     house for sale   \n",
      "3           3  211987                    House for sale in Meanchey Area   \n",
      "4           4  212653  House for Sale Urgently | Extra Space and Stai...   \n",
      "\n",
      "  price_display rent_display  bedrooms  bathrooms  land_area  \\\n",
      "0      $150,000          NaN       6.0        4.0        NaN   \n",
      "1      $269,000          NaN       4.0        7.0        NaN   \n",
      "2       $85,000          NaN       2.0        2.0        NaN   \n",
      "3      $450,000          NaN       8.0        6.0        0.0   \n",
      "4       $85,000          NaN       2.0        2.0        NaN   \n",
      "\n",
      "                                       thumbnail_url  \\\n",
      "0  https://images.realestate.com.kh/__sized__/lis...   \n",
      "1  https://images.realestate.com.kh/__sized__/lis...   \n",
      "2  https://images.realestate.com.kh/__sized__/lis...   \n",
      "3  https://images.realestate.com.kh/__sized__/lis...   \n",
      "4  https://images.realestate.com.kh/__sized__/lis...   \n",
      "\n",
      "                                      thumbnail_urls  ...      address_line_2  \\\n",
      "0  ['https://images.realestate.com.kh/__sized__/l...  ...    Stueng Mean chey   \n",
      "1  ['https://images.realestate.com.kh/__sized__/l...  ...             Khmuonh   \n",
      "2  ['https://images.realestate.com.kh/__sized__/l...  ...               BKK 2   \n",
      "3  ['https://images.realestate.com.kh/__sized__/l...  ...  Stueng Mean chey 3   \n",
      "4  ['https://images.realestate.com.kh/__sized__/l...  ...       Boeung Tumpun   \n",
      "\n",
      "                address_line_1 category_name is_parent         type  \\\n",
      "0                                       Flat     False  residential   \n",
      "1                                 Twin Villa     False  residential   \n",
      "2                      117 117         House     False  residential   \n",
      "3          1 ផ្លូវលូប្រាំ(82c)          Flat     False  residential   \n",
      "4  ST. 45BT #4C, ST. 45BT #4C,          Flat     False  residential   \n",
      "\n",
      "                                         information  \\\n",
      "0  A flat (2 floors) near Hengly market and near ...   \n",
      "1  Twin Villa (Twin Villa) in Borey Highland 2005...   \n",
      "2  There are 3 floors 2 bedrooms, 2 bathrooms can...   \n",
      "3  I have a business house, I want to sell a hous...   \n",
      "4  Apartment Instast 4M * 15.5m There are 45M kit...   \n",
      "\n",
      "                              source_url  language   latitude   longitude  \n",
      "0  https://www.realestate.com.kh/204942/        en  11.530000  104.910000  \n",
      "1  https://www.realestate.com.kh/211997/        en  11.550000  104.890000  \n",
      "2  https://www.realestate.com.kh/212595/        km  11.554793  104.917136  \n",
      "3  https://www.realestate.com.kh/211987/        en  11.539648  104.886328  \n",
      "4  https://www.realestate.com.kh/212653/        km  11.550000  104.930000  \n",
      "\n",
      "[5 rows x 24 columns]\n"
     ]
    }
   ],
   "source": [
    "print(dfnulls.head())"
   ]
  },
  {
   "cell_type": "code",
   "execution_count": null,
   "id": "92970ef8",
   "metadata": {},
   "outputs": [],
   "source": []
  }
 ],
 "metadata": {
  "kernelspec": {
   "display_name": "env_v3.10",
   "language": "python",
   "name": "python3"
  },
  "language_info": {
   "codemirror_mode": {
    "name": "ipython",
    "version": 3
   },
   "file_extension": ".py",
   "mimetype": "text/x-python",
   "name": "python",
   "nbconvert_exporter": "python",
   "pygments_lexer": "ipython3",
   "version": "3.10.16"
  }
 },
 "nbformat": 4,
 "nbformat_minor": 5
}
