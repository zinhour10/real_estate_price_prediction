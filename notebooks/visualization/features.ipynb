{
 "cells": [
  {
   "cell_type": "code",
   "execution_count": 1,
   "id": "02174e75",
   "metadata": {},
   "outputs": [],
   "source": [
    "import joblib"
   ]
  },
  {
   "cell_type": "code",
   "execution_count": 2,
   "id": "ab6a4262",
   "metadata": {},
   "outputs": [],
   "source": [
    "MODEL_PATH = r\"D:\\CADT\\Internship\\Internship-I\\real_estate_price_prediction\\models\\linear_regression\\linear_regression_model_v1.joblib\"\n",
    "model = joblib.load(MODEL_PATH)"
   ]
  },
  {
   "cell_type": "code",
   "execution_count": 4,
   "id": "3e17547b",
   "metadata": {},
   "outputs": [
    {
     "data": {
      "text/plain": [
       "array(['near_Koh_Pich_in_km', 'near_Russian_Market_in_km',\n",
       "       'near_Boeng_Keng_Kang_1_in_km', 'n_cafe_5km',\n",
       "       'n_cafe_in_3km_to_5km', 'n_hospital_in_1km_to_2km',\n",
       "       'nearest_hotel', 'n_hotel_in_1km_to_2km', 'n_hotel_in_3km_to_5km',\n",
       "       'n_mart_in_3km_to_5km', 'n_pre_school_5km',\n",
       "       'n_pre_school_in_1km_to_2km', 'n_primary_school_in_2km_to_3km',\n",
       "       'n_primary_school_in_3km_to_5km', 'n_university_5km',\n",
       "       'n_university_in_3km_to_5km', 'n_seven_eleven_5km',\n",
       "       'n_resturant_in_1km', 'n_resturant_in_3km_to_5km',\n",
       "       'n_super_market_in_1km', 'n_super_market_in_1km_to_2km',\n",
       "       'n_super_market_in_2km_to_3km', 'n_super_market_in_3km_to_5km',\n",
       "       'nearest_atm', 'n_atm_in_1km', 'n_atm_in_1km_to_2km',\n",
       "       'h_id_price_mean', 'h_id_price_max', 'h_id_price_median',\n",
       "       'address_line_2_Bak Kaeng', 'address_line_2_Boeng Kak Ti Muoy',\n",
       "       'address_line_2_Boeng Kak Ti Pir',\n",
       "       'address_line_2_Boeng Keng Kang Ti Bei',\n",
       "       'address_line_2_Boeng Keng Kang Ti Muoy',\n",
       "       'address_line_2_Boeng Keng Kang Ti Pir',\n",
       "       'address_line_2_Boeng Proluet', 'address_line_2_Boeng Reang',\n",
       "       'address_line_2_Boeng Salang', 'address_line_2_Boeng Thum',\n",
       "       'address_line_2_Boeng Trabaek', 'address_line_2_Boeng Tumpun',\n",
       "       'address_line_2_Chak Angrae Kraom',\n",
       "       'address_line_2_Chak Angrae Leu', 'address_line_2_Chakto Mukh',\n",
       "       'address_line_2_Chaom Chau', 'address_line_2_Chbar Ampov Ti Pir',\n",
       "       'address_line_2_Cheung Aek', 'address_line_2_Chey Chummeah',\n",
       "       'address_line_2_Chhbar Ampov Ti Muoy',\n",
       "       'address_line_2_Chrang Chamreh Ti Muoy',\n",
       "       'address_line_2_Chrang Chamreh Ti Pir',\n",
       "       'address_line_2_Chrouy Changvar', 'address_line_2_Dangkao',\n",
       "       'address_line_2_Kakab', 'address_line_2_Kamboul',\n",
       "       'address_line_2_Kantaok', 'address_line_2_Kaoh Dach',\n",
       "       'address_line_2_Kbal Kaoh', 'address_line_2_Khmuonh',\n",
       "       'address_line_2_Kilomaetr Lekh Prammuoy',\n",
       "       'address_line_2_Kong Noy', 'address_line_2_Kouk Roka',\n",
       "       'address_line_2_Krang Thnong', 'address_line_2_Mittapheap',\n",
       "       'address_line_2_Monourom', 'address_line_2_Nirouth',\n",
       "       'address_line_2_Olympic', 'address_line_2_Ou Ruessei Ti Bei',\n",
       "       'address_line_2_Ou Ruessei Ti Buon',\n",
       "       'address_line_2_Ou Ruessei Ti Muoy',\n",
       "       'address_line_2_Ou Ruessei Ti Pir', 'address_line_2_Ovlaok',\n",
       "       'address_line_2_Phleung Chheh Roteh',\n",
       "       'address_line_2_Phnom Penh Thmei', 'address_line_2_Phsar Chas',\n",
       "       'address_line_2_Phsar Daeum Kor',\n",
       "       'address_line_2_Phsar Daeum Thkov',\n",
       "       'address_line_2_Phsar Depou Ti Bei',\n",
       "       'address_line_2_Phsar Depou Ti Muoy',\n",
       "       'address_line_2_Phsar Depou Ti Pir',\n",
       "       'address_line_2_Phsar Kandal Ti Muoy',\n",
       "       'address_line_2_Phsar Kandal Ti Pir',\n",
       "       'address_line_2_Phsar Thmei Ti Bei',\n",
       "       'address_line_2_Phsar Thmei Ti Muoy',\n",
       "       'address_line_2_Phsar Thmei Ti Pir', 'address_line_2_Pong Tuek',\n",
       "       'address_line_2_Ponhea Pon', 'address_line_2_Ponsang',\n",
       "       'address_line_2_Preaek Aeng', 'address_line_2_Preaek Kampues',\n",
       "       'address_line_2_Preaek Lieb', 'address_line_2_Preaek Phnov',\n",
       "       'address_line_2_Preaek Pra', 'address_line_2_Preaek Ta Sek',\n",
       "       'address_line_2_Preaek Thmei', 'address_line_2_Prey Sa',\n",
       "       'address_line_2_Prey Veaeng', 'address_line_2_Roluos',\n",
       "       'address_line_2_Ruessei Kaev', 'address_line_2_Sak Sampov',\n",
       "       'address_line_2_Samraong Kraom', 'address_line_2_Snaor',\n",
       "       'address_line_2_Spean Thma', 'address_line_2_Srah Chak',\n",
       "       'address_line_2_Stueng Mean Chey', 'address_line_2_Svay Pak',\n",
       "       'address_line_2_Tien', 'address_line_2_Tonle Basak',\n",
       "       'address_line_2_Trapeang Krasang',\n",
       "       \"address_line_2_Tuek L'ak Ti Bei\",\n",
       "       \"address_line_2_Tuek L'ak Ti Muoy\",\n",
       "       \"address_line_2_Tuek L'ak Ti Pir\", 'address_line_2_Tuek Thla',\n",
       "       'address_line_2_Tumnob Tuek', 'address_line_2_Tuol Sangke',\n",
       "       'address_line_2_Tuol Svay Prey Ti Muoy',\n",
       "       'address_line_2_Tuol Svay Prey Ti Pir',\n",
       "       'address_line_2_Tuol Tumpung Ti Muoy',\n",
       "       'address_line_2_Tuol Tumpung Ti Pir', 'address_line_2_Veal Sbov',\n",
       "       'address_line_2_Veal Vong', 'address_line_2_Voat Phnum'],\n",
       "      dtype=object)"
      ]
     },
     "execution_count": 4,
     "metadata": {},
     "output_type": "execute_result"
    }
   ],
   "source": [
    "model.feature_names_in_\n"
   ]
  }
 ],
 "metadata": {
  "kernelspec": {
   "display_name": "env_v3.10",
   "language": "python",
   "name": "python3"
  },
  "language_info": {
   "codemirror_mode": {
    "name": "ipython",
    "version": 3
   },
   "file_extension": ".py",
   "mimetype": "text/x-python",
   "name": "python",
   "nbconvert_exporter": "python",
   "pygments_lexer": "ipython3",
   "version": "3.10.16"
  }
 },
 "nbformat": 4,
 "nbformat_minor": 5
}
