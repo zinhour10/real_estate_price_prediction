{
 "cells": [
  {
   "cell_type": "code",
   "execution_count": null,
   "id": "05396026",
   "metadata": {},
   "outputs": [],
   "source": [
    "\n",
    "import pandas as pd\n",
    "import time\n",
    "import os\n",
    "from llama_cpp import Llama"
   ]
  },
  {
   "cell_type": "code",
   "execution_count": null,
   "id": "fd541baa",
   "metadata": {},
   "outputs": [],
   "source": [
    "llm = Llama(\n",
    "    model_path=\"D:/Ollama/models/mistral/mistral-7b-instruct-v0.2.Q2_K.gguf\",\n",
    "    n_ctx=2048,\n",
    "    n_threads=4,\n",
    "    verbose=True,\n",
    ")"
   ]
  },
  {
   "cell_type": "code",
   "execution_count": null,
   "id": "a6658074",
   "metadata": {},
   "outputs": [],
   "source": [
    "# csv_file_path = '../../../data/raw/realestates_kh_v2_1.csv'\n",
    "csv_file_path = '../../../data/processed/realestates_kh_filled_test.csv'\n",
    "\n",
    "output_file = '../../../data/processed/realestates_kh_filled_test.csv'"
   ]
  },
  {
   "cell_type": "code",
   "execution_count": null,
   "id": "26f71b1d",
   "metadata": {},
   "outputs": [],
   "source": [
    "# === Cell 2: Load Data and Prepare ===\n",
    "try:\n",
    "    df = pd.read_csv(csv_file_path, encoding='utf-8')\n",
    "    print(f\"Loaded '{csv_file_path}' with utf-8 encoding.\")\n",
    "except UnicodeDecodeError:\n",
    "    df = pd.read_csv(csv_file_path, encoding='latin1')\n",
    "    print(f\"Loaded '{csv_file_path}' with latin1 encoding.\")\n",
    "\n",
    "# Make sure land_area column is numeric\n",
    "df['land_area'] = pd.to_numeric(df['land_area'], errors='coerce')\n",
    "\n",
    "# Filter rows where land_area is missing or zero\n",
    "rows_to_process = df[(df['land_area'].isna()) | (df['land_area'] == 0)]\n",
    "print(f\"Found {len(rows_to_process)} rows with missing or zero land_area.\")\n"
   ]
  },
  {
   "cell_type": "code",
   "execution_count": null,
   "id": "20c5ae0d",
   "metadata": {},
   "outputs": [],
   "source": [
    "import re\n",
    "\n",
    "def extract_land_area_from_text(text):\n",
    "    prompt = f\"\"\"Extract only the land size in square meters (sqm) from the text below. \n",
    "If it mentions dimensions (e.g., \"20m x 30m\", \"8.4 x 18 meters\"), multiply to get sqm. \n",
    "If it says \"98,514 sqm\", return that number.\n",
    "If no land size is present, respond only with: N/A\n",
    "\n",
    "Text:\n",
    "{text}\n",
    "Answer:\"\"\"\n",
    "\n",
    "    try:\n",
    "        response = llm(prompt=prompt, max_tokens=32, stop=[\"\\n\"])\n",
    "        result = response[\"choices\"][0][\"text\"].strip()\n",
    "\n",
    "        if result.lower() == 'n/a':\n",
    "            return None\n",
    "\n",
    "        # Use regex to find all valid numbers (ignore malformed)\n",
    "        numbers = re.findall(r\"\\d+(?:\\.\\d+)?\", result)\n",
    "        if not numbers:\n",
    "            return None\n",
    "\n",
    "        # Pick the largest plausible value as land area (heuristic)\n",
    "        land_area = max(float(n) for n in numbers)\n",
    "        return land_area\n",
    "\n",
    "    except Exception as e:\n",
    "        print(f\"❌ AI extraction failed: {e}\")\n",
    "        return None\n"
   ]
  },
  {
   "cell_type": "code",
   "execution_count": 6,
   "id": "7a6e2133",
   "metadata": {},
   "outputs": [
    {
     "name": "stdout",
     "output_type": "stream",
     "text": [
      "✅ Extracted land_area: 285.0\n",
      "💾 File '../../../data/processed/realestates_kh_filled_test.csv' saved with updated index 5916.\n",
      "\n",
      "🔄 Processing [1124/1433] index 5917...\n"
     ]
    },
    {
     "name": "stderr",
     "output_type": "stream",
     "text": [
      "Llama.generate: prefix-match hit\n"
     ]
    },
    {
     "name": "stdout",
     "output_type": "stream",
     "text": [
      "✅ Extracted land_area: 336.0\n",
      "💾 File '../../../data/processed/realestates_kh_filled_test.csv' saved with updated index 5917.\n",
      "\n",
      "🔄 Processing [1125/1433] index 5918...\n"
     ]
    },
    {
     "name": "stderr",
     "output_type": "stream",
     "text": [
      "Llama.generate: prefix-match hit\n"
     ]
    },
    {
     "name": "stdout",
     "output_type": "stream",
     "text": [
      "✅ Extracted land_area: 260.0\n",
      "💾 File '../../../data/processed/realestates_kh_filled_test.csv' saved with updated index 5918.\n",
      "\n",
      "🔄 Processing [1126/1433] index 5919...\n"
     ]
    },
    {
     "name": "stderr",
     "output_type": "stream",
     "text": [
      "Llama.generate: prefix-match hit\n"
     ]
    },
    {
     "name": "stdout",
     "output_type": "stream",
     "text": [
      "⚠️ No land area found.\n",
      "💾 File '../../../data/processed/realestates_kh_filled_test.csv' saved with updated index 5919.\n",
      "\n",
      "🔄 Processing [1127/1433] index 5920...\n"
     ]
    },
    {
     "name": "stderr",
     "output_type": "stream",
     "text": [
      "Llama.generate: prefix-match hit\n"
     ]
    },
    {
     "name": "stdout",
     "output_type": "stream",
     "text": [
      "✅ Extracted land_area: 630.0\n",
      "💾 File '../../../data/processed/realestates_kh_filled_test.csv' saved with updated index 5920.\n",
      "\n",
      "🔄 Processing [1128/1433] index 5921...\n"
     ]
    },
    {
     "name": "stderr",
     "output_type": "stream",
     "text": [
      "Llama.generate: prefix-match hit\n"
     ]
    },
    {
     "name": "stdout",
     "output_type": "stream",
     "text": [
      "✅ Extracted land_area: 535.0\n",
      "💾 File '../../../data/processed/realestates_kh_filled_test.csv' saved with updated index 5921.\n",
      "\n",
      "🔄 Processing [1129/1433] index 5922...\n"
     ]
    },
    {
     "name": "stderr",
     "output_type": "stream",
     "text": [
      "Llama.generate: prefix-match hit\n"
     ]
    },
    {
     "name": "stdout",
     "output_type": "stream",
     "text": [
      "✅ Extracted land_area: 402.0\n",
      "💾 File '../../../data/processed/realestates_kh_filled_test.csv' saved with updated index 5922.\n",
      "\n",
      "🔄 Processing [1130/1433] index 5923...\n"
     ]
    },
    {
     "name": "stderr",
     "output_type": "stream",
     "text": [
      "Llama.generate: prefix-match hit\n"
     ]
    },
    {
     "name": "stdout",
     "output_type": "stream",
     "text": [
      "✅ Extracted land_area: 520.0\n",
      "💾 File '../../../data/processed/realestates_kh_filled_test.csv' saved with updated index 5923.\n",
      "\n",
      "🔄 Processing [1131/1433] index 5924...\n"
     ]
    },
    {
     "name": "stderr",
     "output_type": "stream",
     "text": [
      "Llama.generate: prefix-match hit\n"
     ]
    },
    {
     "name": "stdout",
     "output_type": "stream",
     "text": [
      "✅ Extracted land_area: 252.0\n",
      "💾 File '../../../data/processed/realestates_kh_filled_test.csv' saved with updated index 5924.\n",
      "\n",
      "🔄 Processing [1132/1433] index 5925...\n"
     ]
    },
    {
     "name": "stderr",
     "output_type": "stream",
     "text": [
      "Llama.generate: prefix-match hit\n"
     ]
    },
    {
     "name": "stdout",
     "output_type": "stream",
     "text": [
      "✅ Extracted land_area: 1123.0\n",
      "💾 File '../../../data/processed/realestates_kh_filled_test.csv' saved with updated index 5925.\n",
      "\n",
      "🔄 Processing [1133/1433] index 5926...\n"
     ]
    },
    {
     "name": "stderr",
     "output_type": "stream",
     "text": [
      "Llama.generate: prefix-match hit\n"
     ]
    },
    {
     "name": "stdout",
     "output_type": "stream",
     "text": [
      "✅ Extracted land_area: 3900.0\n",
      "💾 File '../../../data/processed/realestates_kh_filled_test.csv' saved with updated index 5926.\n",
      "\n",
      "🔄 Processing [1134/1433] index 5927...\n"
     ]
    },
    {
     "name": "stderr",
     "output_type": "stream",
     "text": [
      "Llama.generate: prefix-match hit\n"
     ]
    },
    {
     "name": "stdout",
     "output_type": "stream",
     "text": [
      "✅ Extracted land_area: 2000000.0\n",
      "💾 File '../../../data/processed/realestates_kh_filled_test.csv' saved with updated index 5927.\n",
      "\n",
      "🔄 Processing [1135/1433] index 5928...\n"
     ]
    },
    {
     "name": "stderr",
     "output_type": "stream",
     "text": [
      "Llama.generate: prefix-match hit\n"
     ]
    },
    {
     "name": "stdout",
     "output_type": "stream",
     "text": [
      "✅ Extracted land_area: 56800000.0\n",
      "💾 File '../../../data/processed/realestates_kh_filled_test.csv' saved with updated index 5928.\n",
      "\n",
      "🔄 Processing [1136/1433] index 5929...\n"
     ]
    },
    {
     "name": "stderr",
     "output_type": "stream",
     "text": [
      "Llama.generate: prefix-match hit\n"
     ]
    },
    {
     "name": "stdout",
     "output_type": "stream",
     "text": [
      "✅ Extracted land_area: 150.0\n",
      "💾 File '../../../data/processed/realestates_kh_filled_test.csv' saved with updated index 5929.\n",
      "\n",
      "🔄 Processing [1137/1433] index 5930...\n"
     ]
    },
    {
     "name": "stderr",
     "output_type": "stream",
     "text": [
      "Llama.generate: prefix-match hit\n"
     ]
    },
    {
     "name": "stdout",
     "output_type": "stream",
     "text": [
      "✅ Extracted land_area: 239.0\n",
      "💾 File '../../../data/processed/realestates_kh_filled_test.csv' saved with updated index 5930.\n",
      "\n",
      "🔄 Processing [1138/1433] index 5931...\n"
     ]
    },
    {
     "name": "stderr",
     "output_type": "stream",
     "text": [
      "Llama.generate: prefix-match hit\n"
     ]
    },
    {
     "name": "stdout",
     "output_type": "stream",
     "text": [
      "✅ Extracted land_area: 957.0\n",
      "💾 File '../../../data/processed/realestates_kh_filled_test.csv' saved with updated index 5931.\n",
      "\n",
      "🔄 Processing [1139/1433] index 5932...\n"
     ]
    },
    {
     "name": "stderr",
     "output_type": "stream",
     "text": [
      "Llama.generate: prefix-match hit\n"
     ]
    },
    {
     "name": "stdout",
     "output_type": "stream",
     "text": [
      "✅ Extracted land_area: 356.0\n",
      "💾 File '../../../data/processed/realestates_kh_filled_test.csv' saved with updated index 5932.\n",
      "\n",
      "🔄 Processing [1140/1433] index 5933...\n"
     ]
    },
    {
     "name": "stderr",
     "output_type": "stream",
     "text": [
      "Llama.generate: prefix-match hit\n"
     ]
    },
    {
     "name": "stdout",
     "output_type": "stream",
     "text": [
      "✅ Extracted land_area: 10950.0\n",
      "💾 File '../../../data/processed/realestates_kh_filled_test.csv' saved with updated index 5933.\n",
      "\n",
      "🔄 Processing [1141/1433] index 5934...\n"
     ]
    },
    {
     "name": "stderr",
     "output_type": "stream",
     "text": [
      "Llama.generate: prefix-match hit\n"
     ]
    },
    {
     "name": "stdout",
     "output_type": "stream",
     "text": [
      "✅ Extracted land_area: 1000.0\n",
      "💾 File '../../../data/processed/realestates_kh_filled_test.csv' saved with updated index 5934.\n",
      "\n",
      "🔄 Processing [1142/1433] index 5935...\n"
     ]
    },
    {
     "name": "stderr",
     "output_type": "stream",
     "text": [
      "Llama.generate: prefix-match hit\n"
     ]
    },
    {
     "name": "stdout",
     "output_type": "stream",
     "text": [
      "⚠️ No land area found.\n",
      "💾 File '../../../data/processed/realestates_kh_filled_test.csv' saved with updated index 5935.\n",
      "\n",
      "🔄 Processing [1143/1433] index 5936...\n"
     ]
    },
    {
     "name": "stderr",
     "output_type": "stream",
     "text": [
      "Llama.generate: prefix-match hit\n"
     ]
    },
    {
     "name": "stdout",
     "output_type": "stream",
     "text": [
      "✅ Extracted land_area: 650.0\n",
      "💾 File '../../../data/processed/realestates_kh_filled_test.csv' saved with updated index 5936.\n",
      "\n",
      "🔄 Processing [1144/1433] index 5937...\n"
     ]
    },
    {
     "name": "stderr",
     "output_type": "stream",
     "text": [
      "Llama.generate: prefix-match hit\n"
     ]
    },
    {
     "name": "stdout",
     "output_type": "stream",
     "text": [
      "✅ Extracted land_area: 689.0\n",
      "💾 File '../../../data/processed/realestates_kh_filled_test.csv' saved with updated index 5937.\n",
      "\n",
      "🔄 Processing [1145/1433] index 5938...\n"
     ]
    },
    {
     "name": "stderr",
     "output_type": "stream",
     "text": [
      "Llama.generate: prefix-match hit\n"
     ]
    },
    {
     "name": "stdout",
     "output_type": "stream",
     "text": [
      "✅ Extracted land_area: 161.0\n",
      "💾 File '../../../data/processed/realestates_kh_filled_test.csv' saved with updated index 5938.\n",
      "\n",
      "🔄 Processing [1146/1433] index 5939...\n"
     ]
    },
    {
     "name": "stderr",
     "output_type": "stream",
     "text": [
      "Llama.generate: prefix-match hit\n"
     ]
    },
    {
     "name": "stdout",
     "output_type": "stream",
     "text": [
      "✅ Extracted land_area: 20000.0\n",
      "💾 File '../../../data/processed/realestates_kh_filled_test.csv' saved with updated index 5939.\n",
      "\n",
      "🔄 Processing [1147/1433] index 5940...\n"
     ]
    },
    {
     "name": "stderr",
     "output_type": "stream",
     "text": [
      "Llama.generate: prefix-match hit\n"
     ]
    },
    {
     "name": "stdout",
     "output_type": "stream",
     "text": [
      "⚠️ No land area found.\n",
      "💾 File '../../../data/processed/realestates_kh_filled_test.csv' saved with updated index 5940.\n",
      "\n",
      "🔄 Processing [1148/1433] index 5941...\n"
     ]
    },
    {
     "name": "stderr",
     "output_type": "stream",
     "text": [
      "Llama.generate: prefix-match hit\n"
     ]
    },
    {
     "name": "stdout",
     "output_type": "stream",
     "text": [
      "✅ Extracted land_area: 20.0\n",
      "💾 File '../../../data/processed/realestates_kh_filled_test.csv' saved with updated index 5941.\n",
      "\n",
      "🔄 Processing [1149/1433] index 5942...\n"
     ]
    },
    {
     "name": "stderr",
     "output_type": "stream",
     "text": [
      "Llama.generate: prefix-match hit\n"
     ]
    },
    {
     "name": "stdout",
     "output_type": "stream",
     "text": [
      "✅ Extracted land_area: 264.0\n",
      "💾 File '../../../data/processed/realestates_kh_filled_test.csv' saved with updated index 5942.\n",
      "\n",
      "🔄 Processing [1150/1433] index 5943...\n"
     ]
    },
    {
     "name": "stderr",
     "output_type": "stream",
     "text": [
      "Llama.generate: prefix-match hit\n"
     ]
    },
    {
     "name": "stdout",
     "output_type": "stream",
     "text": [
      "✅ Extracted land_area: 387.5\n",
      "💾 File '../../../data/processed/realestates_kh_filled_test.csv' saved with updated index 5943.\n",
      "\n",
      "🔄 Processing [1151/1433] index 5944...\n"
     ]
    },
    {
     "name": "stderr",
     "output_type": "stream",
     "text": [
      "Llama.generate: prefix-match hit\n"
     ]
    },
    {
     "name": "stdout",
     "output_type": "stream",
     "text": [
      "✅ Extracted land_area: 4067.0\n",
      "💾 File '../../../data/processed/realestates_kh_filled_test.csv' saved with updated index 5944.\n",
      "\n",
      "🔄 Processing [1152/1433] index 5945...\n"
     ]
    },
    {
     "name": "stderr",
     "output_type": "stream",
     "text": [
      "Llama.generate: prefix-match hit\n"
     ]
    },
    {
     "name": "stdout",
     "output_type": "stream",
     "text": [
      "✅ Extracted land_area: 542.0\n",
      "💾 File '../../../data/processed/realestates_kh_filled_test.csv' saved with updated index 5945.\n",
      "\n",
      "🔄 Processing [1153/1433] index 5946...\n"
     ]
    },
    {
     "name": "stderr",
     "output_type": "stream",
     "text": [
      "Llama.generate: prefix-match hit\n"
     ]
    },
    {
     "name": "stdout",
     "output_type": "stream",
     "text": [
      "✅ Extracted land_area: 373.0\n",
      "💾 File '../../../data/processed/realestates_kh_filled_test.csv' saved with updated index 5946.\n",
      "\n",
      "🔄 Processing [1154/1433] index 5947...\n"
     ]
    },
    {
     "name": "stderr",
     "output_type": "stream",
     "text": [
      "Llama.generate: prefix-match hit\n"
     ]
    },
    {
     "name": "stdout",
     "output_type": "stream",
     "text": [
      "✅ Extracted land_area: 252.0\n",
      "💾 File '../../../data/processed/realestates_kh_filled_test.csv' saved with updated index 5947.\n",
      "\n",
      "🔄 Processing [1155/1433] index 5948...\n"
     ]
    },
    {
     "name": "stderr",
     "output_type": "stream",
     "text": [
      "Llama.generate: prefix-match hit\n"
     ]
    },
    {
     "name": "stdout",
     "output_type": "stream",
     "text": [
      "⚠️ No land area found.\n",
      "💾 File '../../../data/processed/realestates_kh_filled_test.csv' saved with updated index 5948.\n",
      "\n",
      "🔄 Processing [1156/1433] index 5949...\n"
     ]
    },
    {
     "name": "stderr",
     "output_type": "stream",
     "text": [
      "Llama.generate: prefix-match hit\n"
     ]
    },
    {
     "name": "stdout",
     "output_type": "stream",
     "text": [
      "✅ Extracted land_area: 100.0\n",
      "💾 File '../../../data/processed/realestates_kh_filled_test.csv' saved with updated index 5949.\n",
      "\n",
      "🔄 Processing [1157/1433] index 5950...\n"
     ]
    },
    {
     "name": "stderr",
     "output_type": "stream",
     "text": [
      "Llama.generate: prefix-match hit\n"
     ]
    },
    {
     "name": "stdout",
     "output_type": "stream",
     "text": [
      "✅ Extracted land_area: 682.0\n",
      "💾 File '../../../data/processed/realestates_kh_filled_test.csv' saved with updated index 5950.\n",
      "\n",
      "🔄 Processing [1158/1433] index 5951...\n"
     ]
    },
    {
     "name": "stderr",
     "output_type": "stream",
     "text": [
      "Llama.generate: prefix-match hit\n"
     ]
    },
    {
     "name": "stdout",
     "output_type": "stream",
     "text": [
      "✅ Extracted land_area: 300.0\n",
      "💾 File '../../../data/processed/realestates_kh_filled_test.csv' saved with updated index 5951.\n",
      "\n",
      "🔄 Processing [1159/1433] index 5952...\n"
     ]
    },
    {
     "name": "stderr",
     "output_type": "stream",
     "text": [
      "Llama.generate: prefix-match hit\n"
     ]
    },
    {
     "name": "stdout",
     "output_type": "stream",
     "text": [
      "✅ Extracted land_area: 357.0\n",
      "💾 File '../../../data/processed/realestates_kh_filled_test.csv' saved with updated index 5952.\n",
      "\n",
      "🔄 Processing [1160/1433] index 5953...\n"
     ]
    },
    {
     "name": "stderr",
     "output_type": "stream",
     "text": [
      "Llama.generate: prefix-match hit\n"
     ]
    },
    {
     "name": "stdout",
     "output_type": "stream",
     "text": [
      "✅ Extracted land_area: 266.0\n",
      "💾 File '../../../data/processed/realestates_kh_filled_test.csv' saved with updated index 5953.\n",
      "\n",
      "🔄 Processing [1161/1433] index 5954...\n"
     ]
    },
    {
     "name": "stderr",
     "output_type": "stream",
     "text": [
      "Llama.generate: prefix-match hit\n"
     ]
    },
    {
     "name": "stdout",
     "output_type": "stream",
     "text": [
      "✅ Extracted land_area: 2042.0\n",
      "💾 File '../../../data/processed/realestates_kh_filled_test.csv' saved with updated index 5954.\n",
      "\n",
      "🔄 Processing [1162/1433] index 5955...\n"
     ]
    },
    {
     "name": "stderr",
     "output_type": "stream",
     "text": [
      "Llama.generate: prefix-match hit\n"
     ]
    },
    {
     "name": "stdout",
     "output_type": "stream",
     "text": [
      "✅ Extracted land_area: 39.0\n",
      "💾 File '../../../data/processed/realestates_kh_filled_test.csv' saved with updated index 5955.\n",
      "\n",
      "🔄 Processing [1163/1433] index 5956...\n"
     ]
    },
    {
     "name": "stderr",
     "output_type": "stream",
     "text": [
      "Llama.generate: prefix-match hit\n"
     ]
    },
    {
     "name": "stdout",
     "output_type": "stream",
     "text": [
      "✅ Extracted land_area: 2547.0\n",
      "💾 File '../../../data/processed/realestates_kh_filled_test.csv' saved with updated index 5956.\n",
      "\n",
      "🔄 Processing [1164/1433] index 5957...\n"
     ]
    },
    {
     "name": "stderr",
     "output_type": "stream",
     "text": [
      "Llama.generate: prefix-match hit\n"
     ]
    },
    {
     "name": "stdout",
     "output_type": "stream",
     "text": [
      "⚠️ No land area found.\n",
      "💾 File '../../../data/processed/realestates_kh_filled_test.csv' saved with updated index 5957.\n",
      "\n",
      "🔄 Processing [1165/1433] index 5958...\n"
     ]
    },
    {
     "name": "stderr",
     "output_type": "stream",
     "text": [
      "Llama.generate: prefix-match hit\n"
     ]
    },
    {
     "name": "stdout",
     "output_type": "stream",
     "text": [
      "⚠️ No land area found.\n",
      "💾 File '../../../data/processed/realestates_kh_filled_test.csv' saved with updated index 5958.\n",
      "\n",
      "🔄 Processing [1166/1433] index 5959...\n"
     ]
    },
    {
     "name": "stderr",
     "output_type": "stream",
     "text": [
      "Llama.generate: prefix-match hit\n"
     ]
    },
    {
     "name": "stdout",
     "output_type": "stream",
     "text": [
      "✅ Extracted land_area: 1120.0\n",
      "💾 File '../../../data/processed/realestates_kh_filled_test.csv' saved with updated index 5959.\n",
      "\n",
      "🔄 Processing [1167/1433] index 5960...\n"
     ]
    },
    {
     "name": "stderr",
     "output_type": "stream",
     "text": [
      "Llama.generate: prefix-match hit\n"
     ]
    },
    {
     "name": "stdout",
     "output_type": "stream",
     "text": [
      "✅ Extracted land_area: 374.0\n",
      "💾 File '../../../data/processed/realestates_kh_filled_test.csv' saved with updated index 5960.\n",
      "\n",
      "🔄 Processing [1168/1433] index 5961...\n"
     ]
    },
    {
     "name": "stderr",
     "output_type": "stream",
     "text": [
      "Llama.generate: prefix-match hit\n"
     ]
    },
    {
     "name": "stdout",
     "output_type": "stream",
     "text": [
      "✅ Extracted land_area: 655.0\n",
      "💾 File '../../../data/processed/realestates_kh_filled_test.csv' saved with updated index 5961.\n",
      "\n",
      "🔄 Processing [1169/1433] index 5962...\n"
     ]
    },
    {
     "name": "stderr",
     "output_type": "stream",
     "text": [
      "Llama.generate: prefix-match hit\n"
     ]
    },
    {
     "name": "stdout",
     "output_type": "stream",
     "text": [
      "✅ Extracted land_area: 442.0\n",
      "💾 File '../../../data/processed/realestates_kh_filled_test.csv' saved with updated index 5962.\n",
      "\n",
      "🔄 Processing [1170/1433] index 5963...\n"
     ]
    },
    {
     "name": "stderr",
     "output_type": "stream",
     "text": [
      "Llama.generate: prefix-match hit\n"
     ]
    },
    {
     "name": "stdout",
     "output_type": "stream",
     "text": [
      "✅ Extracted land_area: 9000.0\n",
      "💾 File '../../../data/processed/realestates_kh_filled_test.csv' saved with updated index 5963.\n",
      "\n",
      "🔄 Processing [1171/1433] index 5964...\n"
     ]
    },
    {
     "name": "stderr",
     "output_type": "stream",
     "text": [
      "Llama.generate: prefix-match hit\n"
     ]
    },
    {
     "name": "stdout",
     "output_type": "stream",
     "text": [
      "⚠️ No land area found.\n",
      "💾 File '../../../data/processed/realestates_kh_filled_test.csv' saved with updated index 5964.\n",
      "\n",
      "🔄 Processing [1172/1433] index 5965...\n"
     ]
    },
    {
     "name": "stderr",
     "output_type": "stream",
     "text": [
      "Llama.generate: prefix-match hit\n"
     ]
    },
    {
     "name": "stdout",
     "output_type": "stream",
     "text": [
      "✅ Extracted land_area: 477.0\n",
      "💾 File '../../../data/processed/realestates_kh_filled_test.csv' saved with updated index 5965.\n",
      "\n",
      "🔄 Processing [1173/1433] index 5966...\n"
     ]
    },
    {
     "name": "stderr",
     "output_type": "stream",
     "text": [
      "Llama.generate: prefix-match hit\n"
     ]
    },
    {
     "name": "stdout",
     "output_type": "stream",
     "text": [
      "✅ Extracted land_area: 605.0\n",
      "💾 File '../../../data/processed/realestates_kh_filled_test.csv' saved with updated index 5966.\n",
      "\n",
      "🔄 Processing [1174/1433] index 5967...\n"
     ]
    },
    {
     "name": "stderr",
     "output_type": "stream",
     "text": [
      "Llama.generate: prefix-match hit\n"
     ]
    },
    {
     "name": "stdout",
     "output_type": "stream",
     "text": [
      "✅ Extracted land_area: 135.0\n",
      "💾 File '../../../data/processed/realestates_kh_filled_test.csv' saved with updated index 5967.\n",
      "\n",
      "🔄 Processing [1175/1433] index 5968...\n"
     ]
    },
    {
     "name": "stderr",
     "output_type": "stream",
     "text": [
      "Llama.generate: prefix-match hit\n"
     ]
    },
    {
     "name": "stdout",
     "output_type": "stream",
     "text": [
      "✅ Extracted land_area: 512.0\n",
      "💾 File '../../../data/processed/realestates_kh_filled_test.csv' saved with updated index 5968.\n",
      "\n",
      "🔄 Processing [1176/1433] index 5969...\n"
     ]
    },
    {
     "name": "stderr",
     "output_type": "stream",
     "text": [
      "Llama.generate: prefix-match hit\n"
     ]
    },
    {
     "name": "stdout",
     "output_type": "stream",
     "text": [
      "✅ Extracted land_area: 937.0\n",
      "💾 File '../../../data/processed/realestates_kh_filled_test.csv' saved with updated index 5969.\n",
      "\n",
      "🔄 Processing [1177/1433] index 5970...\n"
     ]
    },
    {
     "name": "stderr",
     "output_type": "stream",
     "text": [
      "Llama.generate: prefix-match hit\n"
     ]
    },
    {
     "name": "stdout",
     "output_type": "stream",
     "text": [
      "✅ Extracted land_area: 726.0\n",
      "💾 File '../../../data/processed/realestates_kh_filled_test.csv' saved with updated index 5970.\n",
      "\n",
      "🔄 Processing [1178/1433] index 5971...\n"
     ]
    },
    {
     "name": "stderr",
     "output_type": "stream",
     "text": [
      "Llama.generate: prefix-match hit\n"
     ]
    },
    {
     "name": "stdout",
     "output_type": "stream",
     "text": [
      "✅ Extracted land_area: 420.0\n",
      "💾 File '../../../data/processed/realestates_kh_filled_test.csv' saved with updated index 5971.\n",
      "\n",
      "🔄 Processing [1179/1433] index 5972...\n"
     ]
    },
    {
     "name": "stderr",
     "output_type": "stream",
     "text": [
      "Llama.generate: prefix-match hit\n"
     ]
    },
    {
     "name": "stdout",
     "output_type": "stream",
     "text": [
      "✅ Extracted land_area: 600.0\n",
      "💾 File '../../../data/processed/realestates_kh_filled_test.csv' saved with updated index 5972.\n",
      "\n",
      "🔄 Processing [1180/1433] index 5973...\n"
     ]
    },
    {
     "name": "stderr",
     "output_type": "stream",
     "text": [
      "Llama.generate: prefix-match hit\n"
     ]
    },
    {
     "name": "stdout",
     "output_type": "stream",
     "text": [
      "✅ Extracted land_area: 927.0\n",
      "💾 File '../../../data/processed/realestates_kh_filled_test.csv' saved with updated index 5973.\n",
      "\n",
      "🔄 Processing [1181/1433] index 5974...\n"
     ]
    },
    {
     "name": "stderr",
     "output_type": "stream",
     "text": [
      "Llama.generate: prefix-match hit\n"
     ]
    },
    {
     "name": "stdout",
     "output_type": "stream",
     "text": [
      "✅ Extracted land_area: 196.84\n",
      "💾 File '../../../data/processed/realestates_kh_filled_test.csv' saved with updated index 5974.\n",
      "\n",
      "🔄 Processing [1182/1433] index 5975...\n"
     ]
    },
    {
     "name": "stderr",
     "output_type": "stream",
     "text": [
      "Llama.generate: prefix-match hit\n"
     ]
    },
    {
     "name": "stdout",
     "output_type": "stream",
     "text": [
      "✅ Extracted land_area: 837.0\n",
      "💾 File '../../../data/processed/realestates_kh_filled_test.csv' saved with updated index 5975.\n",
      "\n",
      "🔄 Processing [1183/1433] index 5976...\n"
     ]
    },
    {
     "name": "stderr",
     "output_type": "stream",
     "text": [
      "Llama.generate: prefix-match hit\n"
     ]
    },
    {
     "name": "stdout",
     "output_type": "stream",
     "text": [
      "✅ Extracted land_area: 1136.0\n",
      "💾 File '../../../data/processed/realestates_kh_filled_test.csv' saved with updated index 5976.\n",
      "\n",
      "🔄 Processing [1184/1433] index 5977...\n"
     ]
    },
    {
     "name": "stderr",
     "output_type": "stream",
     "text": [
      "Llama.generate: prefix-match hit\n"
     ]
    },
    {
     "name": "stdout",
     "output_type": "stream",
     "text": [
      "✅ Extracted land_area: 1250.0\n",
      "💾 File '../../../data/processed/realestates_kh_filled_test.csv' saved with updated index 5977.\n",
      "\n",
      "🔄 Processing [1185/1433] index 5978...\n"
     ]
    },
    {
     "name": "stderr",
     "output_type": "stream",
     "text": [
      "Llama.generate: prefix-match hit\n"
     ]
    },
    {
     "name": "stdout",
     "output_type": "stream",
     "text": [
      "✅ Extracted land_area: 837.0\n",
      "💾 File '../../../data/processed/realestates_kh_filled_test.csv' saved with updated index 5978.\n",
      "\n",
      "🔄 Processing [1186/1433] index 5979...\n"
     ]
    },
    {
     "name": "stderr",
     "output_type": "stream",
     "text": [
      "Llama.generate: prefix-match hit\n"
     ]
    },
    {
     "name": "stdout",
     "output_type": "stream",
     "text": [
      "✅ Extracted land_area: 8555.0\n",
      "💾 File '../../../data/processed/realestates_kh_filled_test.csv' saved with updated index 5979.\n",
      "\n",
      "🔄 Processing [1187/1433] index 5980...\n"
     ]
    },
    {
     "name": "stderr",
     "output_type": "stream",
     "text": [
      "Llama.generate: prefix-match hit\n"
     ]
    },
    {
     "name": "stdout",
     "output_type": "stream",
     "text": [
      "✅ Extracted land_area: 397.0\n",
      "💾 File '../../../data/processed/realestates_kh_filled_test.csv' saved with updated index 5980.\n",
      "\n",
      "🔄 Processing [1188/1433] index 5981...\n"
     ]
    },
    {
     "name": "stderr",
     "output_type": "stream",
     "text": [
      "Llama.generate: prefix-match hit\n"
     ]
    },
    {
     "name": "stdout",
     "output_type": "stream",
     "text": [
      "✅ Extracted land_area: 22.0\n",
      "💾 File '../../../data/processed/realestates_kh_filled_test.csv' saved with updated index 5981.\n",
      "\n",
      "🔄 Processing [1189/1433] index 5982...\n"
     ]
    },
    {
     "name": "stderr",
     "output_type": "stream",
     "text": [
      "Llama.generate: prefix-match hit\n"
     ]
    },
    {
     "name": "stdout",
     "output_type": "stream",
     "text": [
      "✅ Extracted land_area: 365.0\n",
      "💾 File '../../../data/processed/realestates_kh_filled_test.csv' saved with updated index 5982.\n",
      "\n",
      "🔄 Processing [1190/1433] index 5983...\n"
     ]
    },
    {
     "name": "stderr",
     "output_type": "stream",
     "text": [
      "Llama.generate: prefix-match hit\n"
     ]
    },
    {
     "name": "stdout",
     "output_type": "stream",
     "text": [
      "✅ Extracted land_area: 1148.0\n",
      "💾 File '../../../data/processed/realestates_kh_filled_test.csv' saved with updated index 5983.\n",
      "\n",
      "🔄 Processing [1191/1433] index 5984...\n"
     ]
    },
    {
     "name": "stderr",
     "output_type": "stream",
     "text": [
      "Llama.generate: prefix-match hit\n"
     ]
    },
    {
     "name": "stdout",
     "output_type": "stream",
     "text": [
      "✅ Extracted land_area: 1077.0\n",
      "💾 File '../../../data/processed/realestates_kh_filled_test.csv' saved with updated index 5984.\n",
      "\n",
      "🔄 Processing [1192/1433] index 5985...\n"
     ]
    },
    {
     "name": "stderr",
     "output_type": "stream",
     "text": [
      "Llama.generate: prefix-match hit\n"
     ]
    },
    {
     "name": "stdout",
     "output_type": "stream",
     "text": [
      "✅ Extracted land_area: 357.0\n",
      "💾 File '../../../data/processed/realestates_kh_filled_test.csv' saved with updated index 5985.\n",
      "\n",
      "🔄 Processing [1193/1433] index 5986...\n"
     ]
    },
    {
     "name": "stderr",
     "output_type": "stream",
     "text": [
      "Llama.generate: prefix-match hit\n"
     ]
    },
    {
     "name": "stdout",
     "output_type": "stream",
     "text": [
      "✅ Extracted land_area: 76.0\n",
      "💾 File '../../../data/processed/realestates_kh_filled_test.csv' saved with updated index 5986.\n",
      "\n",
      "🔄 Processing [1194/1433] index 5987...\n"
     ]
    },
    {
     "name": "stderr",
     "output_type": "stream",
     "text": [
      "Llama.generate: prefix-match hit\n"
     ]
    },
    {
     "name": "stdout",
     "output_type": "stream",
     "text": [
      "⚠️ No land area found.\n",
      "💾 File '../../../data/processed/realestates_kh_filled_test.csv' saved with updated index 5987.\n",
      "\n",
      "🔄 Processing [1195/1433] index 5988...\n"
     ]
    },
    {
     "name": "stderr",
     "output_type": "stream",
     "text": [
      "Llama.generate: prefix-match hit\n"
     ]
    },
    {
     "name": "stdout",
     "output_type": "stream",
     "text": [
      "✅ Extracted land_area: 474.0\n",
      "💾 File '../../../data/processed/realestates_kh_filled_test.csv' saved with updated index 5988.\n",
      "\n",
      "🔄 Processing [1196/1433] index 5989...\n"
     ]
    },
    {
     "name": "stderr",
     "output_type": "stream",
     "text": [
      "Llama.generate: prefix-match hit\n"
     ]
    },
    {
     "name": "stdout",
     "output_type": "stream",
     "text": [
      "✅ Extracted land_area: 11243.0\n",
      "💾 File '../../../data/processed/realestates_kh_filled_test.csv' saved with updated index 5989.\n",
      "\n",
      "🔄 Processing [1197/1433] index 5990...\n"
     ]
    },
    {
     "name": "stderr",
     "output_type": "stream",
     "text": [
      "Llama.generate: prefix-match hit\n"
     ]
    },
    {
     "name": "stdout",
     "output_type": "stream",
     "text": [
      "✅ Extracted land_area: 210.0\n",
      "💾 File '../../../data/processed/realestates_kh_filled_test.csv' saved with updated index 5990.\n",
      "\n",
      "🔄 Processing [1198/1433] index 5991...\n"
     ]
    },
    {
     "name": "stderr",
     "output_type": "stream",
     "text": [
      "Llama.generate: prefix-match hit\n"
     ]
    },
    {
     "name": "stdout",
     "output_type": "stream",
     "text": [
      "✅ Extracted land_area: 348.0\n",
      "💾 File '../../../data/processed/realestates_kh_filled_test.csv' saved with updated index 5991.\n",
      "\n",
      "🔄 Processing [1199/1433] index 5992...\n"
     ]
    },
    {
     "name": "stderr",
     "output_type": "stream",
     "text": [
      "Llama.generate: prefix-match hit\n"
     ]
    },
    {
     "name": "stdout",
     "output_type": "stream",
     "text": [
      "✅ Extracted land_area: 342.0\n",
      "💾 File '../../../data/processed/realestates_kh_filled_test.csv' saved with updated index 5992.\n",
      "\n",
      "🔄 Processing [1200/1433] index 5993...\n"
     ]
    },
    {
     "name": "stderr",
     "output_type": "stream",
     "text": [
      "Llama.generate: prefix-match hit\n"
     ]
    },
    {
     "name": "stdout",
     "output_type": "stream",
     "text": [
      "✅ Extracted land_area: 180.0\n",
      "💾 File '../../../data/processed/realestates_kh_filled_test.csv' saved with updated index 5993.\n",
      "\n",
      "🔄 Processing [1201/1433] index 5994...\n"
     ]
    },
    {
     "name": "stderr",
     "output_type": "stream",
     "text": [
      "Llama.generate: prefix-match hit\n"
     ]
    },
    {
     "name": "stdout",
     "output_type": "stream",
     "text": [
      "✅ Extracted land_area: 162.0\n",
      "💾 File '../../../data/processed/realestates_kh_filled_test.csv' saved with updated index 5994.\n",
      "\n",
      "🔄 Processing [1202/1433] index 5995...\n"
     ]
    },
    {
     "name": "stderr",
     "output_type": "stream",
     "text": [
      "Llama.generate: prefix-match hit\n"
     ]
    },
    {
     "name": "stdout",
     "output_type": "stream",
     "text": [
      "✅ Extracted land_area: 100.0\n",
      "💾 File '../../../data/processed/realestates_kh_filled_test.csv' saved with updated index 5995.\n",
      "\n",
      "🔄 Processing [1203/1433] index 5996...\n"
     ]
    },
    {
     "name": "stderr",
     "output_type": "stream",
     "text": [
      "Llama.generate: prefix-match hit\n"
     ]
    },
    {
     "name": "stdout",
     "output_type": "stream",
     "text": [
      "✅ Extracted land_area: 504.2\n",
      "💾 File '../../../data/processed/realestates_kh_filled_test.csv' saved with updated index 5996.\n",
      "\n",
      "🔄 Processing [1204/1433] index 5997...\n"
     ]
    },
    {
     "name": "stderr",
     "output_type": "stream",
     "text": [
      "Llama.generate: prefix-match hit\n"
     ]
    },
    {
     "name": "stdout",
     "output_type": "stream",
     "text": [
      "✅ Extracted land_area: 293.0\n",
      "💾 File '../../../data/processed/realestates_kh_filled_test.csv' saved with updated index 5997.\n",
      "\n",
      "🔄 Processing [1205/1433] index 5998...\n"
     ]
    },
    {
     "name": "stderr",
     "output_type": "stream",
     "text": [
      "Llama.generate: prefix-match hit\n"
     ]
    },
    {
     "name": "stdout",
     "output_type": "stream",
     "text": [
      "✅ Extracted land_area: 824.0\n",
      "💾 File '../../../data/processed/realestates_kh_filled_test.csv' saved with updated index 5998.\n",
      "\n",
      "🔄 Processing [1206/1433] index 5999...\n"
     ]
    },
    {
     "name": "stderr",
     "output_type": "stream",
     "text": [
      "Llama.generate: prefix-match hit\n"
     ]
    },
    {
     "name": "stdout",
     "output_type": "stream",
     "text": [
      "✅ Extracted land_area: 492.0\n",
      "💾 File '../../../data/processed/realestates_kh_filled_test.csv' saved with updated index 5999.\n",
      "\n",
      "🔄 Processing [1207/1433] index 6000...\n"
     ]
    },
    {
     "name": "stderr",
     "output_type": "stream",
     "text": [
      "Llama.generate: prefix-match hit\n"
     ]
    },
    {
     "name": "stdout",
     "output_type": "stream",
     "text": [
      "✅ Extracted land_area: 468.0\n",
      "💾 File '../../../data/processed/realestates_kh_filled_test.csv' saved with updated index 6000.\n",
      "\n",
      "🔄 Processing [1208/1433] index 6001...\n"
     ]
    },
    {
     "name": "stderr",
     "output_type": "stream",
     "text": [
      "Llama.generate: prefix-match hit\n"
     ]
    },
    {
     "name": "stdout",
     "output_type": "stream",
     "text": [
      "✅ Extracted land_area: 178.0\n",
      "💾 File '../../../data/processed/realestates_kh_filled_test.csv' saved with updated index 6001.\n",
      "\n",
      "🔄 Processing [1209/1433] index 6002...\n"
     ]
    },
    {
     "name": "stderr",
     "output_type": "stream",
     "text": [
      "Llama.generate: prefix-match hit\n"
     ]
    },
    {
     "name": "stdout",
     "output_type": "stream",
     "text": [
      "✅ Extracted land_area: 290.0\n",
      "💾 File '../../../data/processed/realestates_kh_filled_test.csv' saved with updated index 6002.\n",
      "\n",
      "🔄 Processing [1210/1433] index 6003...\n"
     ]
    },
    {
     "name": "stderr",
     "output_type": "stream",
     "text": [
      "Llama.generate: prefix-match hit\n"
     ]
    },
    {
     "name": "stdout",
     "output_type": "stream",
     "text": [
      "✅ Extracted land_area: 220.0\n",
      "💾 File '../../../data/processed/realestates_kh_filled_test.csv' saved with updated index 6003.\n",
      "\n",
      "🔄 Processing [1211/1433] index 6004...\n"
     ]
    },
    {
     "name": "stderr",
     "output_type": "stream",
     "text": [
      "Llama.generate: prefix-match hit\n"
     ]
    },
    {
     "name": "stdout",
     "output_type": "stream",
     "text": [
      "✅ Extracted land_area: 975.0\n",
      "💾 File '../../../data/processed/realestates_kh_filled_test.csv' saved with updated index 6004.\n",
      "\n",
      "🔄 Processing [1212/1433] index 6005...\n"
     ]
    },
    {
     "name": "stderr",
     "output_type": "stream",
     "text": [
      "Llama.generate: prefix-match hit\n"
     ]
    },
    {
     "name": "stdout",
     "output_type": "stream",
     "text": [
      "✅ Extracted land_area: 286.0\n",
      "💾 File '../../../data/processed/realestates_kh_filled_test.csv' saved with updated index 6005.\n",
      "\n",
      "🔄 Processing [1213/1433] index 6006...\n"
     ]
    },
    {
     "name": "stderr",
     "output_type": "stream",
     "text": [
      "Llama.generate: prefix-match hit\n"
     ]
    },
    {
     "name": "stdout",
     "output_type": "stream",
     "text": [
      "⚠️ No land area found.\n",
      "💾 File '../../../data/processed/realestates_kh_filled_test.csv' saved with updated index 6006.\n",
      "\n",
      "🔄 Processing [1214/1433] index 6007...\n"
     ]
    },
    {
     "name": "stderr",
     "output_type": "stream",
     "text": [
      "Llama.generate: prefix-match hit\n"
     ]
    },
    {
     "name": "stdout",
     "output_type": "stream",
     "text": [
      "✅ Extracted land_area: 67.52\n",
      "💾 File '../../../data/processed/realestates_kh_filled_test.csv' saved with updated index 6007.\n",
      "\n",
      "🔄 Processing [1215/1433] index 6008...\n"
     ]
    },
    {
     "name": "stderr",
     "output_type": "stream",
     "text": [
      "Llama.generate: prefix-match hit\n"
     ]
    },
    {
     "name": "stdout",
     "output_type": "stream",
     "text": [
      "✅ Extracted land_area: 196.41\n",
      "💾 File '../../../data/processed/realestates_kh_filled_test.csv' saved with updated index 6008.\n",
      "\n",
      "🔄 Processing [1216/1433] index 6009...\n"
     ]
    },
    {
     "name": "stderr",
     "output_type": "stream",
     "text": [
      "Llama.generate: prefix-match hit\n"
     ]
    },
    {
     "name": "stdout",
     "output_type": "stream",
     "text": [
      "✅ Extracted land_area: 120.0\n",
      "💾 File '../../../data/processed/realestates_kh_filled_test.csv' saved with updated index 6009.\n",
      "\n",
      "🔄 Processing [1217/1433] index 6010...\n"
     ]
    },
    {
     "name": "stderr",
     "output_type": "stream",
     "text": [
      "Llama.generate: prefix-match hit\n"
     ]
    },
    {
     "name": "stdout",
     "output_type": "stream",
     "text": [
      "✅ Extracted land_area: 300.0\n",
      "💾 File '../../../data/processed/realestates_kh_filled_test.csv' saved with updated index 6010.\n",
      "\n",
      "🔄 Processing [1218/1433] index 6011...\n"
     ]
    },
    {
     "name": "stderr",
     "output_type": "stream",
     "text": [
      "Llama.generate: prefix-match hit\n"
     ]
    },
    {
     "name": "stdout",
     "output_type": "stream",
     "text": [
      "✅ Extracted land_area: 141.0\n",
      "💾 File '../../../data/processed/realestates_kh_filled_test.csv' saved with updated index 6011.\n",
      "\n",
      "🔄 Processing [1219/1433] index 6012...\n"
     ]
    },
    {
     "name": "stderr",
     "output_type": "stream",
     "text": [
      "Llama.generate: prefix-match hit\n"
     ]
    },
    {
     "name": "stdout",
     "output_type": "stream",
     "text": [
      "⚠️ No land area found.\n",
      "💾 File '../../../data/processed/realestates_kh_filled_test.csv' saved with updated index 6012.\n",
      "\n",
      "🔄 Processing [1220/1433] index 6013...\n"
     ]
    },
    {
     "name": "stderr",
     "output_type": "stream",
     "text": [
      "Llama.generate: prefix-match hit\n"
     ]
    },
    {
     "name": "stdout",
     "output_type": "stream",
     "text": [
      "✅ Extracted land_area: 301.0\n",
      "💾 File '../../../data/processed/realestates_kh_filled_test.csv' saved with updated index 6013.\n",
      "\n",
      "🔄 Processing [1221/1433] index 6014...\n"
     ]
    },
    {
     "name": "stderr",
     "output_type": "stream",
     "text": [
      "Llama.generate: prefix-match hit\n"
     ]
    },
    {
     "name": "stdout",
     "output_type": "stream",
     "text": [
      "✅ Extracted land_area: 950.0\n",
      "💾 File '../../../data/processed/realestates_kh_filled_test.csv' saved with updated index 6014.\n",
      "\n",
      "🔄 Processing [1222/1433] index 6015...\n"
     ]
    },
    {
     "name": "stderr",
     "output_type": "stream",
     "text": [
      "Llama.generate: prefix-match hit\n"
     ]
    },
    {
     "name": "stdout",
     "output_type": "stream",
     "text": [
      "⚠️ No land area found.\n",
      "💾 File '../../../data/processed/realestates_kh_filled_test.csv' saved with updated index 6015.\n",
      "\n",
      "🔄 Processing [1223/1433] index 6016...\n"
     ]
    },
    {
     "name": "stderr",
     "output_type": "stream",
     "text": [
      "Llama.generate: prefix-match hit\n"
     ]
    },
    {
     "name": "stdout",
     "output_type": "stream",
     "text": [
      "✅ Extracted land_area: 266.0\n",
      "💾 File '../../../data/processed/realestates_kh_filled_test.csv' saved with updated index 6016.\n",
      "\n",
      "🔄 Processing [1224/1433] index 6017...\n"
     ]
    },
    {
     "name": "stderr",
     "output_type": "stream",
     "text": [
      "Llama.generate: prefix-match hit\n"
     ]
    },
    {
     "name": "stdout",
     "output_type": "stream",
     "text": [
      "✅ Extracted land_area: 455.0\n",
      "💾 File '../../../data/processed/realestates_kh_filled_test.csv' saved with updated index 6017.\n",
      "\n",
      "🔄 Processing [1225/1433] index 6018...\n"
     ]
    },
    {
     "name": "stderr",
     "output_type": "stream",
     "text": [
      "Llama.generate: prefix-match hit\n"
     ]
    },
    {
     "name": "stdout",
     "output_type": "stream",
     "text": [
      "✅ Extracted land_area: 667.0\n",
      "💾 File '../../../data/processed/realestates_kh_filled_test.csv' saved with updated index 6018.\n",
      "\n",
      "🔄 Processing [1226/1433] index 6019...\n"
     ]
    },
    {
     "name": "stderr",
     "output_type": "stream",
     "text": [
      "Llama.generate: prefix-match hit\n"
     ]
    },
    {
     "name": "stdout",
     "output_type": "stream",
     "text": [
      "✅ Extracted land_area: 620.0\n",
      "💾 File '../../../data/processed/realestates_kh_filled_test.csv' saved with updated index 6019.\n",
      "\n",
      "🔄 Processing [1227/1433] index 6020...\n"
     ]
    },
    {
     "name": "stderr",
     "output_type": "stream",
     "text": [
      "Llama.generate: prefix-match hit\n"
     ]
    },
    {
     "name": "stdout",
     "output_type": "stream",
     "text": [
      "✅ Extracted land_area: 898.0\n",
      "💾 File '../../../data/processed/realestates_kh_filled_test.csv' saved with updated index 6020.\n",
      "\n",
      "🔄 Processing [1228/1433] index 6021...\n"
     ]
    },
    {
     "name": "stderr",
     "output_type": "stream",
     "text": [
      "Llama.generate: prefix-match hit\n"
     ]
    },
    {
     "name": "stdout",
     "output_type": "stream",
     "text": [
      "✅ Extracted land_area: 326.0\n",
      "💾 File '../../../data/processed/realestates_kh_filled_test.csv' saved with updated index 6021.\n",
      "\n",
      "🔄 Processing [1229/1433] index 6022...\n"
     ]
    },
    {
     "name": "stderr",
     "output_type": "stream",
     "text": [
      "Llama.generate: prefix-match hit\n"
     ]
    },
    {
     "name": "stdout",
     "output_type": "stream",
     "text": [
      "✅ Extracted land_area: 400.0\n",
      "💾 File '../../../data/processed/realestates_kh_filled_test.csv' saved with updated index 6022.\n",
      "\n",
      "🔄 Processing [1230/1433] index 6023...\n"
     ]
    },
    {
     "name": "stderr",
     "output_type": "stream",
     "text": [
      "Llama.generate: prefix-match hit\n"
     ]
    },
    {
     "name": "stdout",
     "output_type": "stream",
     "text": [
      "✅ Extracted land_area: 894.0\n",
      "💾 File '../../../data/processed/realestates_kh_filled_test.csv' saved with updated index 6023.\n",
      "\n",
      "🔄 Processing [1231/1433] index 6024...\n"
     ]
    },
    {
     "name": "stderr",
     "output_type": "stream",
     "text": [
      "Llama.generate: prefix-match hit\n"
     ]
    },
    {
     "name": "stdout",
     "output_type": "stream",
     "text": [
      "✅ Extracted land_area: 593.0\n",
      "💾 File '../../../data/processed/realestates_kh_filled_test.csv' saved with updated index 6024.\n",
      "\n",
      "🔄 Processing [1232/1433] index 6025...\n"
     ]
    },
    {
     "name": "stderr",
     "output_type": "stream",
     "text": [
      "Llama.generate: prefix-match hit\n"
     ]
    },
    {
     "name": "stdout",
     "output_type": "stream",
     "text": [
      "✅ Extracted land_area: 183.0\n",
      "💾 File '../../../data/processed/realestates_kh_filled_test.csv' saved with updated index 6025.\n",
      "\n",
      "🔄 Processing [1233/1433] index 6026...\n"
     ]
    },
    {
     "name": "stderr",
     "output_type": "stream",
     "text": [
      "Llama.generate: prefix-match hit\n"
     ]
    },
    {
     "name": "stdout",
     "output_type": "stream",
     "text": [
      "✅ Extracted land_area: 517.0\n",
      "💾 File '../../../data/processed/realestates_kh_filled_test.csv' saved with updated index 6026.\n",
      "\n",
      "🔄 Processing [1234/1433] index 6027...\n"
     ]
    },
    {
     "name": "stderr",
     "output_type": "stream",
     "text": [
      "Llama.generate: prefix-match hit\n"
     ]
    },
    {
     "name": "stdout",
     "output_type": "stream",
     "text": [
      "✅ Extracted land_area: 96.0\n",
      "💾 File '../../../data/processed/realestates_kh_filled_test.csv' saved with updated index 6027.\n",
      "\n",
      "🔄 Processing [1235/1433] index 6028...\n"
     ]
    },
    {
     "name": "stderr",
     "output_type": "stream",
     "text": [
      "Llama.generate: prefix-match hit\n"
     ]
    },
    {
     "name": "stdout",
     "output_type": "stream",
     "text": [
      "✅ Extracted land_area: 203.0\n",
      "💾 File '../../../data/processed/realestates_kh_filled_test.csv' saved with updated index 6028.\n",
      "\n",
      "🔄 Processing [1236/1433] index 6029...\n"
     ]
    },
    {
     "name": "stderr",
     "output_type": "stream",
     "text": [
      "Llama.generate: prefix-match hit\n"
     ]
    },
    {
     "name": "stdout",
     "output_type": "stream",
     "text": [
      "✅ Extracted land_area: 984.0\n",
      "💾 File '../../../data/processed/realestates_kh_filled_test.csv' saved with updated index 6029.\n",
      "\n",
      "🔄 Processing [1237/1433] index 6030...\n"
     ]
    },
    {
     "name": "stderr",
     "output_type": "stream",
     "text": [
      "Llama.generate: prefix-match hit\n"
     ]
    },
    {
     "name": "stdout",
     "output_type": "stream",
     "text": [
      "✅ Extracted land_area: 9.0\n",
      "💾 File '../../../data/processed/realestates_kh_filled_test.csv' saved with updated index 6030.\n",
      "\n",
      "🔄 Processing [1238/1433] index 6031...\n"
     ]
    },
    {
     "name": "stderr",
     "output_type": "stream",
     "text": [
      "Llama.generate: prefix-match hit\n"
     ]
    },
    {
     "name": "stdout",
     "output_type": "stream",
     "text": [
      "✅ Extracted land_area: 418.0\n",
      "💾 File '../../../data/processed/realestates_kh_filled_test.csv' saved with updated index 6031.\n",
      "\n",
      "🔄 Processing [1239/1433] index 6032...\n"
     ]
    },
    {
     "name": "stderr",
     "output_type": "stream",
     "text": [
      "Llama.generate: prefix-match hit\n"
     ]
    },
    {
     "name": "stdout",
     "output_type": "stream",
     "text": [
      "✅ Extracted land_area: 245.0\n",
      "💾 File '../../../data/processed/realestates_kh_filled_test.csv' saved with updated index 6032.\n",
      "\n",
      "🔄 Processing [1240/1433] index 6033...\n"
     ]
    },
    {
     "name": "stderr",
     "output_type": "stream",
     "text": [
      "Llama.generate: prefix-match hit\n"
     ]
    },
    {
     "name": "stdout",
     "output_type": "stream",
     "text": [
      "✅ Extracted land_area: 145.0\n",
      "💾 File '../../../data/processed/realestates_kh_filled_test.csv' saved with updated index 6033.\n",
      "\n",
      "🔄 Processing [1241/1433] index 6034...\n"
     ]
    },
    {
     "name": "stderr",
     "output_type": "stream",
     "text": [
      "Llama.generate: prefix-match hit\n"
     ]
    },
    {
     "name": "stdout",
     "output_type": "stream",
     "text": [
      "✅ Extracted land_area: 167.0\n",
      "💾 File '../../../data/processed/realestates_kh_filled_test.csv' saved with updated index 6034.\n",
      "\n",
      "🔄 Processing [1242/1433] index 6035...\n"
     ]
    },
    {
     "name": "stderr",
     "output_type": "stream",
     "text": [
      "Llama.generate: prefix-match hit\n"
     ]
    },
    {
     "name": "stdout",
     "output_type": "stream",
     "text": [
      "✅ Extracted land_area: 149.0\n",
      "💾 File '../../../data/processed/realestates_kh_filled_test.csv' saved with updated index 6035.\n",
      "\n",
      "🔄 Processing [1243/1433] index 6036...\n"
     ]
    },
    {
     "name": "stderr",
     "output_type": "stream",
     "text": [
      "Llama.generate: prefix-match hit\n"
     ]
    },
    {
     "name": "stdout",
     "output_type": "stream",
     "text": [
      "✅ Extracted land_area: 237.06\n",
      "💾 File '../../../data/processed/realestates_kh_filled_test.csv' saved with updated index 6036.\n",
      "\n",
      "🔄 Processing [1244/1433] index 6037...\n"
     ]
    },
    {
     "name": "stderr",
     "output_type": "stream",
     "text": [
      "Llama.generate: prefix-match hit\n"
     ]
    },
    {
     "name": "stdout",
     "output_type": "stream",
     "text": [
      "⚠️ No land area found.\n",
      "💾 File '../../../data/processed/realestates_kh_filled_test.csv' saved with updated index 6037.\n",
      "\n",
      "🔄 Processing [1245/1433] index 6038...\n"
     ]
    },
    {
     "name": "stderr",
     "output_type": "stream",
     "text": [
      "Llama.generate: prefix-match hit\n"
     ]
    },
    {
     "name": "stdout",
     "output_type": "stream",
     "text": [
      "✅ Extracted land_area: 384.0\n",
      "💾 File '../../../data/processed/realestates_kh_filled_test.csv' saved with updated index 6038.\n",
      "\n",
      "🔄 Processing [1246/1433] index 6039...\n"
     ]
    },
    {
     "name": "stderr",
     "output_type": "stream",
     "text": [
      "Llama.generate: prefix-match hit\n"
     ]
    },
    {
     "name": "stdout",
     "output_type": "stream",
     "text": [
      "✅ Extracted land_area: 7500.0\n",
      "💾 File '../../../data/processed/realestates_kh_filled_test.csv' saved with updated index 6039.\n",
      "\n",
      "🔄 Processing [1247/1433] index 6040...\n"
     ]
    },
    {
     "name": "stderr",
     "output_type": "stream",
     "text": [
      "Llama.generate: prefix-match hit\n"
     ]
    },
    {
     "name": "stdout",
     "output_type": "stream",
     "text": [
      "✅ Extracted land_area: 303.0\n",
      "💾 File '../../../data/processed/realestates_kh_filled_test.csv' saved with updated index 6040.\n",
      "\n",
      "🔄 Processing [1248/1433] index 6041...\n"
     ]
    },
    {
     "name": "stderr",
     "output_type": "stream",
     "text": [
      "Llama.generate: prefix-match hit\n"
     ]
    },
    {
     "name": "stdout",
     "output_type": "stream",
     "text": [
      "✅ Extracted land_area: 800.0\n",
      "💾 File '../../../data/processed/realestates_kh_filled_test.csv' saved with updated index 6041.\n",
      "\n",
      "🔄 Processing [1249/1433] index 6042...\n"
     ]
    },
    {
     "name": "stderr",
     "output_type": "stream",
     "text": [
      "Llama.generate: prefix-match hit\n"
     ]
    },
    {
     "name": "stdout",
     "output_type": "stream",
     "text": [
      "✅ Extracted land_area: 600.0\n",
      "💾 File '../../../data/processed/realestates_kh_filled_test.csv' saved with updated index 6042.\n",
      "\n",
      "🔄 Processing [1250/1433] index 6043...\n"
     ]
    },
    {
     "name": "stderr",
     "output_type": "stream",
     "text": [
      "Llama.generate: prefix-match hit\n"
     ]
    },
    {
     "name": "stdout",
     "output_type": "stream",
     "text": [
      "✅ Extracted land_area: 160.0\n",
      "💾 File '../../../data/processed/realestates_kh_filled_test.csv' saved with updated index 6043.\n",
      "\n",
      "🔄 Processing [1251/1433] index 6044...\n"
     ]
    },
    {
     "name": "stderr",
     "output_type": "stream",
     "text": [
      "Llama.generate: prefix-match hit\n"
     ]
    },
    {
     "name": "stdout",
     "output_type": "stream",
     "text": [
      "✅ Extracted land_area: 923.0\n",
      "💾 File '../../../data/processed/realestates_kh_filled_test.csv' saved with updated index 6044.\n",
      "\n",
      "🔄 Processing [1252/1433] index 6045...\n"
     ]
    },
    {
     "name": "stderr",
     "output_type": "stream",
     "text": [
      "Llama.generate: prefix-match hit\n"
     ]
    },
    {
     "name": "stdout",
     "output_type": "stream",
     "text": [
      "✅ Extracted land_area: 190.0\n",
      "💾 File '../../../data/processed/realestates_kh_filled_test.csv' saved with updated index 6045.\n",
      "\n",
      "🔄 Processing [1253/1433] index 6046...\n"
     ]
    },
    {
     "name": "stderr",
     "output_type": "stream",
     "text": [
      "Llama.generate: prefix-match hit\n"
     ]
    },
    {
     "name": "stdout",
     "output_type": "stream",
     "text": [
      "✅ Extracted land_area: 769.0\n",
      "💾 File '../../../data/processed/realestates_kh_filled_test.csv' saved with updated index 6046.\n",
      "\n",
      "🔄 Processing [1254/1433] index 6047...\n"
     ]
    },
    {
     "name": "stderr",
     "output_type": "stream",
     "text": [
      "Llama.generate: prefix-match hit\n"
     ]
    },
    {
     "name": "stdout",
     "output_type": "stream",
     "text": [
      "✅ Extracted land_area: 557.0\n",
      "💾 File '../../../data/processed/realestates_kh_filled_test.csv' saved with updated index 6047.\n",
      "\n",
      "🔄 Processing [1255/1433] index 6048...\n"
     ]
    },
    {
     "name": "stderr",
     "output_type": "stream",
     "text": [
      "Llama.generate: prefix-match hit\n"
     ]
    },
    {
     "name": "stdout",
     "output_type": "stream",
     "text": [
      "✅ Extracted land_area: 600.0\n",
      "💾 File '../../../data/processed/realestates_kh_filled_test.csv' saved with updated index 6048.\n",
      "\n",
      "🔄 Processing [1256/1433] index 6049...\n"
     ]
    },
    {
     "name": "stderr",
     "output_type": "stream",
     "text": [
      "Llama.generate: prefix-match hit\n"
     ]
    },
    {
     "name": "stdout",
     "output_type": "stream",
     "text": [
      "✅ Extracted land_area: 855.0\n",
      "💾 File '../../../data/processed/realestates_kh_filled_test.csv' saved with updated index 6049.\n",
      "\n",
      "🔄 Processing [1257/1433] index 6050...\n"
     ]
    },
    {
     "name": "stderr",
     "output_type": "stream",
     "text": [
      "Llama.generate: prefix-match hit\n"
     ]
    },
    {
     "name": "stdout",
     "output_type": "stream",
     "text": [
      "✅ Extracted land_area: 1052.89\n",
      "💾 File '../../../data/processed/realestates_kh_filled_test.csv' saved with updated index 6050.\n",
      "\n",
      "🔄 Processing [1258/1433] index 6051...\n"
     ]
    },
    {
     "name": "stderr",
     "output_type": "stream",
     "text": [
      "Llama.generate: prefix-match hit\n"
     ]
    },
    {
     "name": "stdout",
     "output_type": "stream",
     "text": [
      "⚠️ No land area found.\n",
      "💾 File '../../../data/processed/realestates_kh_filled_test.csv' saved with updated index 6051.\n",
      "\n",
      "🔄 Processing [1259/1433] index 6052...\n"
     ]
    },
    {
     "name": "stderr",
     "output_type": "stream",
     "text": [
      "Llama.generate: prefix-match hit\n"
     ]
    },
    {
     "name": "stdout",
     "output_type": "stream",
     "text": [
      "⚠️ No land area found.\n",
      "💾 File '../../../data/processed/realestates_kh_filled_test.csv' saved with updated index 6052.\n",
      "\n",
      "🔄 Processing [1260/1433] index 6053...\n"
     ]
    },
    {
     "name": "stderr",
     "output_type": "stream",
     "text": [
      "Llama.generate: prefix-match hit\n"
     ]
    },
    {
     "name": "stdout",
     "output_type": "stream",
     "text": [
      "✅ Extracted land_area: 2098.0\n",
      "💾 File '../../../data/processed/realestates_kh_filled_test.csv' saved with updated index 6053.\n",
      "\n",
      "🔄 Processing [1261/1433] index 6054...\n"
     ]
    },
    {
     "name": "stderr",
     "output_type": "stream",
     "text": [
      "Llama.generate: prefix-match hit\n"
     ]
    },
    {
     "name": "stdout",
     "output_type": "stream",
     "text": [
      "✅ Extracted land_area: 400.0\n",
      "💾 File '../../../data/processed/realestates_kh_filled_test.csv' saved with updated index 6054.\n",
      "\n",
      "🔄 Processing [1262/1433] index 6055...\n"
     ]
    },
    {
     "name": "stderr",
     "output_type": "stream",
     "text": [
      "Llama.generate: prefix-match hit\n"
     ]
    },
    {
     "name": "stdout",
     "output_type": "stream",
     "text": [
      "✅ Extracted land_area: 300.0\n",
      "💾 File '../../../data/processed/realestates_kh_filled_test.csv' saved with updated index 6055.\n",
      "\n",
      "🔄 Processing [1263/1433] index 6056...\n"
     ]
    },
    {
     "name": "stderr",
     "output_type": "stream",
     "text": [
      "Llama.generate: prefix-match hit\n"
     ]
    },
    {
     "name": "stdout",
     "output_type": "stream",
     "text": [
      "✅ Extracted land_area: 79.0\n",
      "💾 File '../../../data/processed/realestates_kh_filled_test.csv' saved with updated index 6056.\n",
      "\n",
      "🔄 Processing [1264/1433] index 6057...\n"
     ]
    },
    {
     "name": "stderr",
     "output_type": "stream",
     "text": [
      "Llama.generate: prefix-match hit\n"
     ]
    },
    {
     "name": "stdout",
     "output_type": "stream",
     "text": [
      "✅ Extracted land_area: 250.0\n",
      "💾 File '../../../data/processed/realestates_kh_filled_test.csv' saved with updated index 6057.\n",
      "\n",
      "🔄 Processing [1265/1433] index 6058...\n"
     ]
    },
    {
     "name": "stderr",
     "output_type": "stream",
     "text": [
      "Llama.generate: prefix-match hit\n"
     ]
    },
    {
     "name": "stdout",
     "output_type": "stream",
     "text": [
      "⚠️ No land area found.\n",
      "💾 File '../../../data/processed/realestates_kh_filled_test.csv' saved with updated index 6058.\n",
      "\n",
      "🔄 Processing [1266/1433] index 6059...\n"
     ]
    },
    {
     "name": "stderr",
     "output_type": "stream",
     "text": [
      "Llama.generate: prefix-match hit\n"
     ]
    },
    {
     "name": "stdout",
     "output_type": "stream",
     "text": [
      "✅ Extracted land_area: 242.0\n",
      "💾 File '../../../data/processed/realestates_kh_filled_test.csv' saved with updated index 6059.\n",
      "\n",
      "🔄 Processing [1267/1433] index 6060...\n"
     ]
    },
    {
     "name": "stderr",
     "output_type": "stream",
     "text": [
      "Llama.generate: prefix-match hit\n"
     ]
    },
    {
     "name": "stdout",
     "output_type": "stream",
     "text": [
      "✅ Extracted land_area: 450.0\n",
      "💾 File '../../../data/processed/realestates_kh_filled_test.csv' saved with updated index 6060.\n",
      "\n",
      "🔄 Processing [1268/1433] index 6061...\n"
     ]
    },
    {
     "name": "stderr",
     "output_type": "stream",
     "text": [
      "Llama.generate: prefix-match hit\n"
     ]
    },
    {
     "name": "stdout",
     "output_type": "stream",
     "text": [
      "✅ Extracted land_area: 800.0\n",
      "💾 File '../../../data/processed/realestates_kh_filled_test.csv' saved with updated index 6061.\n",
      "\n",
      "🔄 Processing [1269/1433] index 6062...\n"
     ]
    },
    {
     "name": "stderr",
     "output_type": "stream",
     "text": [
      "Llama.generate: prefix-match hit\n"
     ]
    },
    {
     "name": "stdout",
     "output_type": "stream",
     "text": [
      "✅ Extracted land_area: 106.0\n",
      "💾 File '../../../data/processed/realestates_kh_filled_test.csv' saved with updated index 6062.\n",
      "\n",
      "🔄 Processing [1270/1433] index 6063...\n"
     ]
    },
    {
     "name": "stderr",
     "output_type": "stream",
     "text": [
      "Llama.generate: prefix-match hit\n"
     ]
    },
    {
     "name": "stdout",
     "output_type": "stream",
     "text": [
      "✅ Extracted land_area: 477.0\n",
      "💾 File '../../../data/processed/realestates_kh_filled_test.csv' saved with updated index 6063.\n",
      "\n",
      "🔄 Processing [1271/1433] index 6064...\n"
     ]
    },
    {
     "name": "stderr",
     "output_type": "stream",
     "text": [
      "Llama.generate: prefix-match hit\n"
     ]
    },
    {
     "name": "stdout",
     "output_type": "stream",
     "text": [
      "✅ Extracted land_area: 436.0\n",
      "💾 File '../../../data/processed/realestates_kh_filled_test.csv' saved with updated index 6064.\n",
      "\n",
      "🔄 Processing [1272/1433] index 6065...\n"
     ]
    },
    {
     "name": "stderr",
     "output_type": "stream",
     "text": [
      "Llama.generate: prefix-match hit\n"
     ]
    },
    {
     "name": "stdout",
     "output_type": "stream",
     "text": [
      "✅ Extracted land_area: 1195.0\n",
      "💾 File '../../../data/processed/realestates_kh_filled_test.csv' saved with updated index 6065.\n",
      "\n",
      "🔄 Processing [1273/1433] index 6066...\n"
     ]
    },
    {
     "name": "stderr",
     "output_type": "stream",
     "text": [
      "Llama.generate: prefix-match hit\n"
     ]
    },
    {
     "name": "stdout",
     "output_type": "stream",
     "text": [
      "✅ Extracted land_area: 605.0\n",
      "💾 File '../../../data/processed/realestates_kh_filled_test.csv' saved with updated index 6066.\n",
      "\n",
      "🔄 Processing [1274/1433] index 6067...\n"
     ]
    },
    {
     "name": "stderr",
     "output_type": "stream",
     "text": [
      "Llama.generate: prefix-match hit\n"
     ]
    },
    {
     "name": "stdout",
     "output_type": "stream",
     "text": [
      "✅ Extracted land_area: 209.0\n",
      "💾 File '../../../data/processed/realestates_kh_filled_test.csv' saved with updated index 6067.\n",
      "\n",
      "🔄 Processing [1275/1433] index 6068...\n"
     ]
    },
    {
     "name": "stderr",
     "output_type": "stream",
     "text": [
      "Llama.generate: prefix-match hit\n"
     ]
    },
    {
     "name": "stdout",
     "output_type": "stream",
     "text": [
      "✅ Extracted land_area: 55.0\n",
      "💾 File '../../../data/processed/realestates_kh_filled_test.csv' saved with updated index 6068.\n",
      "\n",
      "🔄 Processing [1276/1433] index 6069...\n"
     ]
    },
    {
     "name": "stderr",
     "output_type": "stream",
     "text": [
      "Llama.generate: prefix-match hit\n"
     ]
    },
    {
     "name": "stdout",
     "output_type": "stream",
     "text": [
      "✅ Extracted land_area: 160.0\n",
      "💾 File '../../../data/processed/realestates_kh_filled_test.csv' saved with updated index 6069.\n",
      "\n",
      "🔄 Processing [1277/1433] index 6070...\n"
     ]
    },
    {
     "name": "stderr",
     "output_type": "stream",
     "text": [
      "Llama.generate: prefix-match hit\n"
     ]
    },
    {
     "name": "stdout",
     "output_type": "stream",
     "text": [
      "✅ Extracted land_area: 839.0\n",
      "💾 File '../../../data/processed/realestates_kh_filled_test.csv' saved with updated index 6070.\n",
      "\n",
      "🔄 Processing [1278/1433] index 6071...\n"
     ]
    },
    {
     "name": "stderr",
     "output_type": "stream",
     "text": [
      "Llama.generate: prefix-match hit\n"
     ]
    },
    {
     "name": "stdout",
     "output_type": "stream",
     "text": [
      "✅ Extracted land_area: 129.0\n",
      "💾 File '../../../data/processed/realestates_kh_filled_test.csv' saved with updated index 6071.\n",
      "\n",
      "🔄 Processing [1279/1433] index 6072...\n"
     ]
    },
    {
     "name": "stderr",
     "output_type": "stream",
     "text": [
      "Llama.generate: prefix-match hit\n"
     ]
    },
    {
     "name": "stdout",
     "output_type": "stream",
     "text": [
      "✅ Extracted land_area: 496.5\n",
      "💾 File '../../../data/processed/realestates_kh_filled_test.csv' saved with updated index 6072.\n",
      "\n",
      "🔄 Processing [1280/1433] index 6073...\n"
     ]
    },
    {
     "name": "stderr",
     "output_type": "stream",
     "text": [
      "Llama.generate: prefix-match hit\n"
     ]
    },
    {
     "name": "stdout",
     "output_type": "stream",
     "text": [
      "✅ Extracted land_area: 84.208\n",
      "💾 File '../../../data/processed/realestates_kh_filled_test.csv' saved with updated index 6073.\n",
      "\n",
      "🔄 Processing [1281/1433] index 6074...\n"
     ]
    },
    {
     "name": "stderr",
     "output_type": "stream",
     "text": [
      "Llama.generate: prefix-match hit\n"
     ]
    },
    {
     "name": "stdout",
     "output_type": "stream",
     "text": [
      "✅ Extracted land_area: 200.0\n",
      "💾 File '../../../data/processed/realestates_kh_filled_test.csv' saved with updated index 6074.\n",
      "\n",
      "🔄 Processing [1282/1433] index 6075...\n"
     ]
    },
    {
     "name": "stderr",
     "output_type": "stream",
     "text": [
      "Llama.generate: prefix-match hit\n"
     ]
    },
    {
     "name": "stdout",
     "output_type": "stream",
     "text": [
      "✅ Extracted land_area: 772.0\n",
      "💾 File '../../../data/processed/realestates_kh_filled_test.csv' saved with updated index 6075.\n",
      "\n",
      "🔄 Processing [1283/1433] index 6076...\n"
     ]
    },
    {
     "name": "stderr",
     "output_type": "stream",
     "text": [
      "Llama.generate: prefix-match hit\n"
     ]
    },
    {
     "name": "stdout",
     "output_type": "stream",
     "text": [
      "✅ Extracted land_area: 248.0\n",
      "💾 File '../../../data/processed/realestates_kh_filled_test.csv' saved with updated index 6076.\n",
      "\n",
      "🔄 Processing [1284/1433] index 6077...\n"
     ]
    },
    {
     "name": "stderr",
     "output_type": "stream",
     "text": [
      "Llama.generate: prefix-match hit\n"
     ]
    },
    {
     "name": "stdout",
     "output_type": "stream",
     "text": [
      "✅ Extracted land_area: 378.0\n",
      "💾 File '../../../data/processed/realestates_kh_filled_test.csv' saved with updated index 6077.\n",
      "\n",
      "🔄 Processing [1285/1433] index 6078...\n"
     ]
    },
    {
     "name": "stderr",
     "output_type": "stream",
     "text": [
      "Llama.generate: prefix-match hit\n"
     ]
    },
    {
     "name": "stdout",
     "output_type": "stream",
     "text": [
      "✅ Extracted land_area: 536.94\n",
      "💾 File '../../../data/processed/realestates_kh_filled_test.csv' saved with updated index 6078.\n",
      "\n",
      "🔄 Processing [1286/1433] index 6079...\n"
     ]
    },
    {
     "name": "stderr",
     "output_type": "stream",
     "text": [
      "Llama.generate: prefix-match hit\n"
     ]
    },
    {
     "name": "stdout",
     "output_type": "stream",
     "text": [
      "✅ Extracted land_area: 716.0\n",
      "💾 File '../../../data/processed/realestates_kh_filled_test.csv' saved with updated index 6079.\n",
      "\n",
      "🔄 Processing [1287/1433] index 6080...\n"
     ]
    },
    {
     "name": "stderr",
     "output_type": "stream",
     "text": [
      "Llama.generate: prefix-match hit\n"
     ]
    },
    {
     "name": "stdout",
     "output_type": "stream",
     "text": [
      "✅ Extracted land_area: 109.0\n",
      "💾 File '../../../data/processed/realestates_kh_filled_test.csv' saved with updated index 6080.\n",
      "\n",
      "🔄 Processing [1288/1433] index 6081...\n"
     ]
    },
    {
     "name": "stderr",
     "output_type": "stream",
     "text": [
      "Llama.generate: prefix-match hit\n"
     ]
    },
    {
     "name": "stdout",
     "output_type": "stream",
     "text": [
      "✅ Extracted land_area: 8000.0\n",
      "💾 File '../../../data/processed/realestates_kh_filled_test.csv' saved with updated index 6081.\n",
      "\n",
      "🔄 Processing [1289/1433] index 6082...\n"
     ]
    },
    {
     "name": "stderr",
     "output_type": "stream",
     "text": [
      "Llama.generate: prefix-match hit\n"
     ]
    },
    {
     "name": "stdout",
     "output_type": "stream",
     "text": [
      "✅ Extracted land_area: 220.0\n",
      "💾 File '../../../data/processed/realestates_kh_filled_test.csv' saved with updated index 6082.\n",
      "\n",
      "🔄 Processing [1290/1433] index 6083...\n"
     ]
    },
    {
     "name": "stderr",
     "output_type": "stream",
     "text": [
      "Llama.generate: prefix-match hit\n"
     ]
    },
    {
     "name": "stdout",
     "output_type": "stream",
     "text": [
      "✅ Extracted land_area: 132.0\n",
      "💾 File '../../../data/processed/realestates_kh_filled_test.csv' saved with updated index 6083.\n",
      "\n",
      "🔄 Processing [1291/1433] index 6084...\n"
     ]
    },
    {
     "name": "stderr",
     "output_type": "stream",
     "text": [
      "Llama.generate: prefix-match hit\n"
     ]
    },
    {
     "name": "stdout",
     "output_type": "stream",
     "text": [
      "✅ Extracted land_area: 593.0\n",
      "💾 File '../../../data/processed/realestates_kh_filled_test.csv' saved with updated index 6084.\n",
      "\n",
      "🔄 Processing [1292/1433] index 6085...\n"
     ]
    },
    {
     "name": "stderr",
     "output_type": "stream",
     "text": [
      "Llama.generate: prefix-match hit\n"
     ]
    },
    {
     "name": "stdout",
     "output_type": "stream",
     "text": [
      "✅ Extracted land_area: 475.0\n",
      "💾 File '../../../data/processed/realestates_kh_filled_test.csv' saved with updated index 6085.\n",
      "\n",
      "🔄 Processing [1293/1433] index 6086...\n"
     ]
    },
    {
     "name": "stderr",
     "output_type": "stream",
     "text": [
      "Llama.generate: prefix-match hit\n"
     ]
    },
    {
     "name": "stdout",
     "output_type": "stream",
     "text": [
      "✅ Extracted land_area: 983.0\n",
      "💾 File '../../../data/processed/realestates_kh_filled_test.csv' saved with updated index 6086.\n",
      "\n",
      "🔄 Processing [1294/1433] index 6087...\n"
     ]
    },
    {
     "name": "stderr",
     "output_type": "stream",
     "text": [
      "Llama.generate: prefix-match hit\n"
     ]
    },
    {
     "name": "stdout",
     "output_type": "stream",
     "text": [
      "✅ Extracted land_area: 250.0\n",
      "💾 File '../../../data/processed/realestates_kh_filled_test.csv' saved with updated index 6087.\n",
      "\n",
      "🔄 Processing [1295/1433] index 6088...\n"
     ]
    },
    {
     "name": "stderr",
     "output_type": "stream",
     "text": [
      "Llama.generate: prefix-match hit\n"
     ]
    },
    {
     "name": "stdout",
     "output_type": "stream",
     "text": [
      "✅ Extracted land_area: 6000.0\n",
      "💾 File '../../../data/processed/realestates_kh_filled_test.csv' saved with updated index 6088.\n",
      "\n",
      "🔄 Processing [1296/1433] index 6089...\n"
     ]
    },
    {
     "name": "stderr",
     "output_type": "stream",
     "text": [
      "Llama.generate: prefix-match hit\n"
     ]
    },
    {
     "name": "stdout",
     "output_type": "stream",
     "text": [
      "✅ Extracted land_area: 266.0\n",
      "💾 File '../../../data/processed/realestates_kh_filled_test.csv' saved with updated index 6089.\n",
      "\n",
      "🔄 Processing [1297/1433] index 6090...\n"
     ]
    },
    {
     "name": "stderr",
     "output_type": "stream",
     "text": [
      "Llama.generate: prefix-match hit\n"
     ]
    },
    {
     "name": "stdout",
     "output_type": "stream",
     "text": [
      "✅ Extracted land_area: 594.0\n",
      "💾 File '../../../data/processed/realestates_kh_filled_test.csv' saved with updated index 6090.\n",
      "\n",
      "🔄 Processing [1298/1433] index 6091...\n"
     ]
    },
    {
     "name": "stderr",
     "output_type": "stream",
     "text": [
      "Llama.generate: prefix-match hit\n"
     ]
    },
    {
     "name": "stdout",
     "output_type": "stream",
     "text": [
      "✅ Extracted land_area: 1200.0\n",
      "💾 File '../../../data/processed/realestates_kh_filled_test.csv' saved with updated index 6091.\n",
      "\n",
      "🔄 Processing [1299/1433] index 6092...\n"
     ]
    },
    {
     "name": "stderr",
     "output_type": "stream",
     "text": [
      "Llama.generate: prefix-match hit\n"
     ]
    },
    {
     "name": "stdout",
     "output_type": "stream",
     "text": [
      "⚠️ No land area found.\n",
      "💾 File '../../../data/processed/realestates_kh_filled_test.csv' saved with updated index 6092.\n",
      "\n",
      "🔄 Processing [1300/1433] index 6093...\n"
     ]
    },
    {
     "name": "stderr",
     "output_type": "stream",
     "text": [
      "Llama.generate: prefix-match hit\n"
     ]
    },
    {
     "name": "stdout",
     "output_type": "stream",
     "text": [
      "✅ Extracted land_area: 2500.0\n",
      "💾 File '../../../data/processed/realestates_kh_filled_test.csv' saved with updated index 6093.\n",
      "\n",
      "🔄 Processing [1301/1433] index 6094...\n"
     ]
    },
    {
     "name": "stderr",
     "output_type": "stream",
     "text": [
      "Llama.generate: prefix-match hit\n"
     ]
    },
    {
     "name": "stdout",
     "output_type": "stream",
     "text": [
      "⚠️ No land area found.\n",
      "💾 File '../../../data/processed/realestates_kh_filled_test.csv' saved with updated index 6094.\n",
      "\n",
      "🔄 Processing [1302/1433] index 6095...\n"
     ]
    },
    {
     "name": "stderr",
     "output_type": "stream",
     "text": [
      "Llama.generate: prefix-match hit\n"
     ]
    },
    {
     "name": "stdout",
     "output_type": "stream",
     "text": [
      "✅ Extracted land_area: 386.0\n",
      "💾 File '../../../data/processed/realestates_kh_filled_test.csv' saved with updated index 6095.\n",
      "\n",
      "🔄 Processing [1303/1433] index 6096...\n"
     ]
    },
    {
     "name": "stderr",
     "output_type": "stream",
     "text": [
      "Llama.generate: prefix-match hit\n"
     ]
    },
    {
     "name": "stdout",
     "output_type": "stream",
     "text": [
      "⚠️ No land area found.\n",
      "💾 File '../../../data/processed/realestates_kh_filled_test.csv' saved with updated index 6096.\n",
      "\n",
      "🔄 Processing [1304/1433] index 6097...\n"
     ]
    },
    {
     "name": "stderr",
     "output_type": "stream",
     "text": [
      "Llama.generate: prefix-match hit\n"
     ]
    },
    {
     "name": "stdout",
     "output_type": "stream",
     "text": [
      "✅ Extracted land_area: 400.0\n",
      "💾 File '../../../data/processed/realestates_kh_filled_test.csv' saved with updated index 6097.\n",
      "\n",
      "🔄 Processing [1305/1433] index 6098...\n"
     ]
    },
    {
     "name": "stderr",
     "output_type": "stream",
     "text": [
      "Llama.generate: prefix-match hit\n"
     ]
    },
    {
     "name": "stdout",
     "output_type": "stream",
     "text": [
      "✅ Extracted land_area: 464.0\n",
      "💾 File '../../../data/processed/realestates_kh_filled_test.csv' saved with updated index 6098.\n",
      "\n",
      "🔄 Processing [1306/1433] index 6099...\n"
     ]
    },
    {
     "name": "stderr",
     "output_type": "stream",
     "text": [
      "Llama.generate: prefix-match hit\n"
     ]
    },
    {
     "name": "stdout",
     "output_type": "stream",
     "text": [
      "✅ Extracted land_area: 605.0\n",
      "💾 File '../../../data/processed/realestates_kh_filled_test.csv' saved with updated index 6099.\n",
      "\n",
      "🔄 Processing [1307/1433] index 6100...\n"
     ]
    },
    {
     "name": "stderr",
     "output_type": "stream",
     "text": [
      "Llama.generate: prefix-match hit\n"
     ]
    },
    {
     "name": "stdout",
     "output_type": "stream",
     "text": [
      "✅ Extracted land_area: 170.0\n",
      "💾 File '../../../data/processed/realestates_kh_filled_test.csv' saved with updated index 6100.\n",
      "\n",
      "🔄 Processing [1308/1433] index 6101...\n"
     ]
    },
    {
     "name": "stderr",
     "output_type": "stream",
     "text": [
      "Llama.generate: prefix-match hit\n"
     ]
    },
    {
     "name": "stdout",
     "output_type": "stream",
     "text": [
      "✅ Extracted land_area: 157.0\n",
      "💾 File '../../../data/processed/realestates_kh_filled_test.csv' saved with updated index 6101.\n",
      "\n",
      "🔄 Processing [1309/1433] index 6102...\n"
     ]
    },
    {
     "name": "stderr",
     "output_type": "stream",
     "text": [
      "Llama.generate: prefix-match hit\n"
     ]
    },
    {
     "name": "stdout",
     "output_type": "stream",
     "text": [
      "✅ Extracted land_area: 520.0\n",
      "💾 File '../../../data/processed/realestates_kh_filled_test.csv' saved with updated index 6102.\n",
      "\n",
      "🔄 Processing [1310/1433] index 6103...\n"
     ]
    },
    {
     "name": "stderr",
     "output_type": "stream",
     "text": [
      "Llama.generate: prefix-match hit\n"
     ]
    },
    {
     "name": "stdout",
     "output_type": "stream",
     "text": [
      "⚠️ No land area found.\n",
      "💾 File '../../../data/processed/realestates_kh_filled_test.csv' saved with updated index 6103.\n",
      "\n",
      "🔄 Processing [1311/1433] index 6104...\n"
     ]
    },
    {
     "name": "stderr",
     "output_type": "stream",
     "text": [
      "Llama.generate: prefix-match hit\n"
     ]
    },
    {
     "name": "stdout",
     "output_type": "stream",
     "text": [
      "✅ Extracted land_area: 21000.0\n",
      "💾 File '../../../data/processed/realestates_kh_filled_test.csv' saved with updated index 6104.\n",
      "\n",
      "🔄 Processing [1312/1433] index 6105...\n"
     ]
    },
    {
     "name": "stderr",
     "output_type": "stream",
     "text": [
      "Llama.generate: prefix-match hit\n"
     ]
    },
    {
     "name": "stdout",
     "output_type": "stream",
     "text": [
      "✅ Extracted land_area: 155.0\n",
      "💾 File '../../../data/processed/realestates_kh_filled_test.csv' saved with updated index 6105.\n",
      "\n",
      "🔄 Processing [1313/1433] index 6106...\n"
     ]
    },
    {
     "name": "stderr",
     "output_type": "stream",
     "text": [
      "Llama.generate: prefix-match hit\n"
     ]
    },
    {
     "name": "stdout",
     "output_type": "stream",
     "text": [
      "✅ Extracted land_area: 543.0\n",
      "💾 File '../../../data/processed/realestates_kh_filled_test.csv' saved with updated index 6106.\n",
      "\n",
      "🔄 Processing [1314/1433] index 6107...\n"
     ]
    },
    {
     "name": "stderr",
     "output_type": "stream",
     "text": [
      "Llama.generate: prefix-match hit\n"
     ]
    },
    {
     "name": "stdout",
     "output_type": "stream",
     "text": [
      "✅ Extracted land_area: 275.64\n",
      "💾 File '../../../data/processed/realestates_kh_filled_test.csv' saved with updated index 6107.\n",
      "\n",
      "🔄 Processing [1315/1433] index 6108...\n"
     ]
    },
    {
     "name": "stderr",
     "output_type": "stream",
     "text": [
      "Llama.generate: prefix-match hit\n"
     ]
    },
    {
     "name": "stdout",
     "output_type": "stream",
     "text": [
      "✅ Extracted land_area: 804.0\n",
      "💾 File '../../../data/processed/realestates_kh_filled_test.csv' saved with updated index 6108.\n",
      "\n",
      "🔄 Processing [1316/1433] index 6109...\n"
     ]
    },
    {
     "name": "stderr",
     "output_type": "stream",
     "text": [
      "Llama.generate: prefix-match hit\n"
     ]
    },
    {
     "name": "stdout",
     "output_type": "stream",
     "text": [
      "✅ Extracted land_area: 908.0\n",
      "💾 File '../../../data/processed/realestates_kh_filled_test.csv' saved with updated index 6109.\n",
      "\n",
      "🔄 Processing [1317/1433] index 6110...\n"
     ]
    },
    {
     "name": "stderr",
     "output_type": "stream",
     "text": [
      "Llama.generate: prefix-match hit\n"
     ]
    },
    {
     "name": "stdout",
     "output_type": "stream",
     "text": [
      "✅ Extracted land_area: 292.0\n",
      "💾 File '../../../data/processed/realestates_kh_filled_test.csv' saved with updated index 6110.\n",
      "\n",
      "🔄 Processing [1318/1433] index 6111...\n"
     ]
    },
    {
     "name": "stderr",
     "output_type": "stream",
     "text": [
      "Llama.generate: prefix-match hit\n"
     ]
    },
    {
     "name": "stdout",
     "output_type": "stream",
     "text": [
      "✅ Extracted land_area: 208.0\n",
      "💾 File '../../../data/processed/realestates_kh_filled_test.csv' saved with updated index 6111.\n",
      "\n",
      "🔄 Processing [1319/1433] index 6112...\n"
     ]
    },
    {
     "name": "stderr",
     "output_type": "stream",
     "text": [
      "Llama.generate: prefix-match hit\n"
     ]
    },
    {
     "name": "stdout",
     "output_type": "stream",
     "text": [
      "✅ Extracted land_area: 411.0\n",
      "💾 File '../../../data/processed/realestates_kh_filled_test.csv' saved with updated index 6112.\n",
      "\n",
      "🔄 Processing [1320/1433] index 6113...\n"
     ]
    },
    {
     "name": "stderr",
     "output_type": "stream",
     "text": [
      "Llama.generate: prefix-match hit\n"
     ]
    },
    {
     "name": "stdout",
     "output_type": "stream",
     "text": [
      "✅ Extracted land_area: 240.0\n",
      "💾 File '../../../data/processed/realestates_kh_filled_test.csv' saved with updated index 6113.\n",
      "\n",
      "🔄 Processing [1321/1433] index 6114...\n"
     ]
    },
    {
     "name": "stderr",
     "output_type": "stream",
     "text": [
      "Llama.generate: prefix-match hit\n"
     ]
    },
    {
     "name": "stdout",
     "output_type": "stream",
     "text": [
      "⚠️ No land area found.\n",
      "💾 File '../../../data/processed/realestates_kh_filled_test.csv' saved with updated index 6114.\n",
      "\n",
      "🔄 Processing [1322/1433] index 6115...\n"
     ]
    },
    {
     "name": "stderr",
     "output_type": "stream",
     "text": [
      "Llama.generate: prefix-match hit\n"
     ]
    },
    {
     "name": "stdout",
     "output_type": "stream",
     "text": [
      "✅ Extracted land_area: 261.0\n",
      "💾 File '../../../data/processed/realestates_kh_filled_test.csv' saved with updated index 6115.\n",
      "\n",
      "🔄 Processing [1323/1433] index 6116...\n"
     ]
    },
    {
     "name": "stderr",
     "output_type": "stream",
     "text": [
      "Llama.generate: prefix-match hit\n"
     ]
    },
    {
     "name": "stdout",
     "output_type": "stream",
     "text": [
      "✅ Extracted land_area: 152.0\n",
      "💾 File '../../../data/processed/realestates_kh_filled_test.csv' saved with updated index 6116.\n",
      "\n",
      "🔄 Processing [1324/1433] index 6117...\n"
     ]
    },
    {
     "name": "stderr",
     "output_type": "stream",
     "text": [
      "Llama.generate: prefix-match hit\n"
     ]
    },
    {
     "name": "stdout",
     "output_type": "stream",
     "text": [
      "✅ Extracted land_area: 900.0\n",
      "💾 File '../../../data/processed/realestates_kh_filled_test.csv' saved with updated index 6117.\n",
      "\n",
      "🔄 Processing [1325/1433] index 6118...\n"
     ]
    },
    {
     "name": "stderr",
     "output_type": "stream",
     "text": [
      "Llama.generate: prefix-match hit\n"
     ]
    },
    {
     "name": "stdout",
     "output_type": "stream",
     "text": [
      "✅ Extracted land_area: 599.0\n",
      "💾 File '../../../data/processed/realestates_kh_filled_test.csv' saved with updated index 6118.\n",
      "\n",
      "🔄 Processing [1326/1433] index 6119...\n"
     ]
    },
    {
     "name": "stderr",
     "output_type": "stream",
     "text": [
      "Llama.generate: prefix-match hit\n"
     ]
    },
    {
     "name": "stdout",
     "output_type": "stream",
     "text": [
      "✅ Extracted land_area: 350.0\n",
      "💾 File '../../../data/processed/realestates_kh_filled_test.csv' saved with updated index 6119.\n",
      "\n",
      "🔄 Processing [1327/1433] index 6120...\n"
     ]
    },
    {
     "name": "stderr",
     "output_type": "stream",
     "text": [
      "Llama.generate: prefix-match hit\n"
     ]
    },
    {
     "name": "stdout",
     "output_type": "stream",
     "text": [
      "✅ Extracted land_area: 137.0\n",
      "💾 File '../../../data/processed/realestates_kh_filled_test.csv' saved with updated index 6120.\n",
      "\n",
      "🔄 Processing [1328/1433] index 6121...\n"
     ]
    },
    {
     "name": "stderr",
     "output_type": "stream",
     "text": [
      "Llama.generate: prefix-match hit\n"
     ]
    },
    {
     "name": "stdout",
     "output_type": "stream",
     "text": [
      "✅ Extracted land_area: 643.0\n",
      "💾 File '../../../data/processed/realestates_kh_filled_test.csv' saved with updated index 6121.\n",
      "\n",
      "🔄 Processing [1329/1433] index 6122...\n"
     ]
    },
    {
     "name": "stderr",
     "output_type": "stream",
     "text": [
      "Llama.generate: prefix-match hit\n"
     ]
    },
    {
     "name": "stdout",
     "output_type": "stream",
     "text": [
      "✅ Extracted land_area: 64.0\n",
      "💾 File '../../../data/processed/realestates_kh_filled_test.csv' saved with updated index 6122.\n",
      "\n",
      "🔄 Processing [1330/1433] index 6123...\n"
     ]
    },
    {
     "name": "stderr",
     "output_type": "stream",
     "text": [
      "Llama.generate: prefix-match hit\n"
     ]
    },
    {
     "name": "stdout",
     "output_type": "stream",
     "text": [
      "✅ Extracted land_area: 400.016\n",
      "💾 File '../../../data/processed/realestates_kh_filled_test.csv' saved with updated index 6123.\n",
      "\n",
      "🔄 Processing [1331/1433] index 6124...\n"
     ]
    },
    {
     "name": "stderr",
     "output_type": "stream",
     "text": [
      "Llama.generate: prefix-match hit\n"
     ]
    },
    {
     "name": "stdout",
     "output_type": "stream",
     "text": [
      "✅ Extracted land_area: 942.56\n",
      "💾 File '../../../data/processed/realestates_kh_filled_test.csv' saved with updated index 6124.\n",
      "\n",
      "🔄 Processing [1332/1433] index 6125...\n"
     ]
    },
    {
     "name": "stderr",
     "output_type": "stream",
     "text": [
      "Llama.generate: prefix-match hit\n"
     ]
    },
    {
     "name": "stdout",
     "output_type": "stream",
     "text": [
      "✅ Extracted land_area: 430.0\n",
      "💾 File '../../../data/processed/realestates_kh_filled_test.csv' saved with updated index 6125.\n",
      "\n",
      "🔄 Processing [1333/1433] index 6126...\n"
     ]
    },
    {
     "name": "stderr",
     "output_type": "stream",
     "text": [
      "Llama.generate: prefix-match hit\n"
     ]
    },
    {
     "name": "stdout",
     "output_type": "stream",
     "text": [
      "✅ Extracted land_area: 928.0\n",
      "💾 File '../../../data/processed/realestates_kh_filled_test.csv' saved with updated index 6126.\n",
      "\n",
      "🔄 Processing [1334/1433] index 6127...\n"
     ]
    },
    {
     "name": "stderr",
     "output_type": "stream",
     "text": [
      "Llama.generate: prefix-match hit\n"
     ]
    },
    {
     "name": "stdout",
     "output_type": "stream",
     "text": [
      "⚠️ No land area found.\n",
      "💾 File '../../../data/processed/realestates_kh_filled_test.csv' saved with updated index 6127.\n",
      "\n",
      "🔄 Processing [1335/1433] index 6128...\n"
     ]
    },
    {
     "name": "stderr",
     "output_type": "stream",
     "text": [
      "Llama.generate: prefix-match hit\n"
     ]
    },
    {
     "name": "stdout",
     "output_type": "stream",
     "text": [
      "✅ Extracted land_area: 254.0\n",
      "💾 File '../../../data/processed/realestates_kh_filled_test.csv' saved with updated index 6128.\n",
      "\n",
      "🔄 Processing [1336/1433] index 6129...\n"
     ]
    },
    {
     "name": "stderr",
     "output_type": "stream",
     "text": [
      "Llama.generate: prefix-match hit\n"
     ]
    },
    {
     "name": "stdout",
     "output_type": "stream",
     "text": [
      "✅ Extracted land_area: 131.0\n",
      "💾 File '../../../data/processed/realestates_kh_filled_test.csv' saved with updated index 6129.\n",
      "\n",
      "🔄 Processing [1337/1433] index 6130...\n"
     ]
    },
    {
     "name": "stderr",
     "output_type": "stream",
     "text": [
      "Llama.generate: prefix-match hit\n"
     ]
    },
    {
     "name": "stdout",
     "output_type": "stream",
     "text": [
      "✅ Extracted land_area: 1350.0\n",
      "💾 File '../../../data/processed/realestates_kh_filled_test.csv' saved with updated index 6130.\n",
      "\n",
      "🔄 Processing [1338/1433] index 6131...\n"
     ]
    },
    {
     "name": "stderr",
     "output_type": "stream",
     "text": [
      "Llama.generate: prefix-match hit\n"
     ]
    },
    {
     "name": "stdout",
     "output_type": "stream",
     "text": [
      "⚠️ No land area found.\n",
      "💾 File '../../../data/processed/realestates_kh_filled_test.csv' saved with updated index 6131.\n",
      "\n",
      "🔄 Processing [1339/1433] index 6132...\n"
     ]
    },
    {
     "name": "stderr",
     "output_type": "stream",
     "text": [
      "Llama.generate: prefix-match hit\n"
     ]
    },
    {
     "name": "stdout",
     "output_type": "stream",
     "text": [
      "✅ Extracted land_area: 91.4884\n",
      "💾 File '../../../data/processed/realestates_kh_filled_test.csv' saved with updated index 6132.\n",
      "\n",
      "🔄 Processing [1340/1433] index 6133...\n"
     ]
    },
    {
     "name": "stderr",
     "output_type": "stream",
     "text": [
      "Llama.generate: prefix-match hit\n"
     ]
    },
    {
     "name": "stdout",
     "output_type": "stream",
     "text": [
      "⚠️ No land area found.\n",
      "💾 File '../../../data/processed/realestates_kh_filled_test.csv' saved with updated index 6133.\n",
      "\n",
      "🔄 Processing [1341/1433] index 6134...\n"
     ]
    },
    {
     "name": "stderr",
     "output_type": "stream",
     "text": [
      "Llama.generate: prefix-match hit\n"
     ]
    },
    {
     "name": "stdout",
     "output_type": "stream",
     "text": [
      "⚠️ No land area found.\n",
      "💾 File '../../../data/processed/realestates_kh_filled_test.csv' saved with updated index 6134.\n",
      "\n",
      "🔄 Processing [1342/1433] index 6135...\n"
     ]
    },
    {
     "name": "stderr",
     "output_type": "stream",
     "text": [
      "Llama.generate: prefix-match hit\n"
     ]
    },
    {
     "name": "stdout",
     "output_type": "stream",
     "text": [
      "⚠️ No land area found.\n",
      "💾 File '../../../data/processed/realestates_kh_filled_test.csv' saved with updated index 6135.\n",
      "\n",
      "🔄 Processing [1343/1433] index 6136...\n"
     ]
    },
    {
     "name": "stderr",
     "output_type": "stream",
     "text": [
      "Llama.generate: prefix-match hit\n"
     ]
    },
    {
     "name": "stdout",
     "output_type": "stream",
     "text": [
      "⚠️ No land area found.\n",
      "💾 File '../../../data/processed/realestates_kh_filled_test.csv' saved with updated index 6136.\n",
      "\n",
      "🔄 Processing [1344/1433] index 6137...\n"
     ]
    },
    {
     "name": "stderr",
     "output_type": "stream",
     "text": [
      "Llama.generate: prefix-match hit\n"
     ]
    },
    {
     "name": "stdout",
     "output_type": "stream",
     "text": [
      "✅ Extracted land_area: 4085.0\n",
      "💾 File '../../../data/processed/realestates_kh_filled_test.csv' saved with updated index 6137.\n",
      "\n",
      "🔄 Processing [1345/1433] index 6138...\n"
     ]
    },
    {
     "name": "stderr",
     "output_type": "stream",
     "text": [
      "Llama.generate: prefix-match hit\n"
     ]
    },
    {
     "name": "stdout",
     "output_type": "stream",
     "text": [
      "⚠️ No land area found.\n",
      "💾 File '../../../data/processed/realestates_kh_filled_test.csv' saved with updated index 6138.\n",
      "\n",
      "🔄 Processing [1346/1433] index 6139...\n"
     ]
    },
    {
     "name": "stderr",
     "output_type": "stream",
     "text": [
      "Llama.generate: prefix-match hit\n"
     ]
    },
    {
     "name": "stdout",
     "output_type": "stream",
     "text": [
      "✅ Extracted land_area: 998.0\n",
      "💾 File '../../../data/processed/realestates_kh_filled_test.csv' saved with updated index 6139.\n",
      "\n",
      "🔄 Processing [1347/1433] index 6140...\n"
     ]
    },
    {
     "name": "stderr",
     "output_type": "stream",
     "text": [
      "Llama.generate: prefix-match hit\n"
     ]
    },
    {
     "name": "stdout",
     "output_type": "stream",
     "text": [
      "✅ Extracted land_area: 106.0\n",
      "💾 File '../../../data/processed/realestates_kh_filled_test.csv' saved with updated index 6140.\n",
      "\n",
      "🔄 Processing [1348/1433] index 6141...\n"
     ]
    },
    {
     "name": "stderr",
     "output_type": "stream",
     "text": [
      "Llama.generate: prefix-match hit\n"
     ]
    },
    {
     "name": "stdout",
     "output_type": "stream",
     "text": [
      "✅ Extracted land_area: 300.0\n",
      "💾 File '../../../data/processed/realestates_kh_filled_test.csv' saved with updated index 6141.\n",
      "\n",
      "🔄 Processing [1349/1433] index 6142...\n"
     ]
    },
    {
     "name": "stderr",
     "output_type": "stream",
     "text": [
      "Llama.generate: prefix-match hit\n"
     ]
    },
    {
     "name": "stdout",
     "output_type": "stream",
     "text": [
      "⚠️ No land area found.\n",
      "💾 File '../../../data/processed/realestates_kh_filled_test.csv' saved with updated index 6142.\n",
      "\n",
      "🔄 Processing [1350/1433] index 6143...\n"
     ]
    },
    {
     "name": "stderr",
     "output_type": "stream",
     "text": [
      "Llama.generate: prefix-match hit\n"
     ]
    },
    {
     "name": "stdout",
     "output_type": "stream",
     "text": [
      "✅ Extracted land_area: 325.0\n",
      "💾 File '../../../data/processed/realestates_kh_filled_test.csv' saved with updated index 6143.\n",
      "\n",
      "🔄 Processing [1351/1433] index 6144...\n"
     ]
    },
    {
     "name": "stderr",
     "output_type": "stream",
     "text": [
      "Llama.generate: prefix-match hit\n"
     ]
    },
    {
     "name": "stdout",
     "output_type": "stream",
     "text": [
      "✅ Extracted land_area: 632.0\n",
      "💾 File '../../../data/processed/realestates_kh_filled_test.csv' saved with updated index 6144.\n",
      "\n",
      "🔄 Processing [1352/1433] index 6145...\n"
     ]
    },
    {
     "name": "stderr",
     "output_type": "stream",
     "text": [
      "Llama.generate: prefix-match hit\n"
     ]
    },
    {
     "name": "stdout",
     "output_type": "stream",
     "text": [
      "⚠️ No land area found.\n",
      "💾 File '../../../data/processed/realestates_kh_filled_test.csv' saved with updated index 6145.\n",
      "\n",
      "🔄 Processing [1353/1433] index 6146...\n"
     ]
    },
    {
     "name": "stderr",
     "output_type": "stream",
     "text": [
      "Llama.generate: prefix-match hit\n"
     ]
    },
    {
     "name": "stdout",
     "output_type": "stream",
     "text": [
      "✅ Extracted land_area: 9125.0\n",
      "💾 File '../../../data/processed/realestates_kh_filled_test.csv' saved with updated index 6146.\n",
      "\n",
      "🔄 Processing [1354/1433] index 6147...\n"
     ]
    },
    {
     "name": "stderr",
     "output_type": "stream",
     "text": [
      "Llama.generate: prefix-match hit\n"
     ]
    },
    {
     "name": "stdout",
     "output_type": "stream",
     "text": [
      "✅ Extracted land_area: 90.0\n",
      "💾 File '../../../data/processed/realestates_kh_filled_test.csv' saved with updated index 6147.\n",
      "\n",
      "🔄 Processing [1355/1433] index 6148...\n"
     ]
    },
    {
     "name": "stderr",
     "output_type": "stream",
     "text": [
      "Llama.generate: prefix-match hit\n"
     ]
    },
    {
     "name": "stdout",
     "output_type": "stream",
     "text": [
      "✅ Extracted land_area: 154.0\n",
      "💾 File '../../../data/processed/realestates_kh_filled_test.csv' saved with updated index 6148.\n",
      "\n",
      "🔄 Processing [1356/1433] index 6149...\n"
     ]
    },
    {
     "name": "stderr",
     "output_type": "stream",
     "text": [
      "Llama.generate: prefix-match hit\n"
     ]
    },
    {
     "name": "stdout",
     "output_type": "stream",
     "text": [
      "✅ Extracted land_area: 230.0\n",
      "💾 File '../../../data/processed/realestates_kh_filled_test.csv' saved with updated index 6149.\n",
      "\n",
      "🔄 Processing [1357/1433] index 6150...\n"
     ]
    },
    {
     "name": "stderr",
     "output_type": "stream",
     "text": [
      "Llama.generate: prefix-match hit\n"
     ]
    },
    {
     "name": "stdout",
     "output_type": "stream",
     "text": [
      "✅ Extracted land_area: 103.87\n",
      "💾 File '../../../data/processed/realestates_kh_filled_test.csv' saved with updated index 6150.\n",
      "\n",
      "🔄 Processing [1358/1433] index 6151...\n"
     ]
    },
    {
     "name": "stderr",
     "output_type": "stream",
     "text": [
      "Llama.generate: prefix-match hit\n"
     ]
    },
    {
     "name": "stdout",
     "output_type": "stream",
     "text": [
      "✅ Extracted land_area: 5600.0\n",
      "💾 File '../../../data/processed/realestates_kh_filled_test.csv' saved with updated index 6151.\n",
      "\n",
      "🔄 Processing [1359/1433] index 6152...\n"
     ]
    },
    {
     "name": "stderr",
     "output_type": "stream",
     "text": [
      "Llama.generate: prefix-match hit\n"
     ]
    },
    {
     "name": "stdout",
     "output_type": "stream",
     "text": [
      "⚠️ No land area found.\n",
      "💾 File '../../../data/processed/realestates_kh_filled_test.csv' saved with updated index 6152.\n",
      "\n",
      "🔄 Processing [1360/1433] index 6153...\n"
     ]
    },
    {
     "name": "stderr",
     "output_type": "stream",
     "text": [
      "Llama.generate: prefix-match hit\n"
     ]
    },
    {
     "name": "stdout",
     "output_type": "stream",
     "text": [
      "✅ Extracted land_area: 555.0\n",
      "💾 File '../../../data/processed/realestates_kh_filled_test.csv' saved with updated index 6153.\n",
      "\n",
      "🔄 Processing [1361/1433] index 6154...\n"
     ]
    },
    {
     "name": "stderr",
     "output_type": "stream",
     "text": [
      "Llama.generate: prefix-match hit\n"
     ]
    },
    {
     "name": "stdout",
     "output_type": "stream",
     "text": [
      "✅ Extracted land_area: 793.0\n",
      "💾 File '../../../data/processed/realestates_kh_filled_test.csv' saved with updated index 6154.\n",
      "\n",
      "🔄 Processing [1362/1433] index 6155...\n"
     ]
    },
    {
     "name": "stderr",
     "output_type": "stream",
     "text": [
      "Llama.generate: prefix-match hit\n"
     ]
    },
    {
     "name": "stdout",
     "output_type": "stream",
     "text": [
      "✅ Extracted land_area: 556.0\n",
      "💾 File '../../../data/processed/realestates_kh_filled_test.csv' saved with updated index 6155.\n",
      "\n",
      "🔄 Processing [1363/1433] index 6156...\n"
     ]
    },
    {
     "name": "stderr",
     "output_type": "stream",
     "text": [
      "Llama.generate: prefix-match hit\n"
     ]
    },
    {
     "name": "stdout",
     "output_type": "stream",
     "text": [
      "✅ Extracted land_area: 250.0\n",
      "💾 File '../../../data/processed/realestates_kh_filled_test.csv' saved with updated index 6156.\n",
      "\n",
      "🔄 Processing [1364/1433] index 6157...\n"
     ]
    },
    {
     "name": "stderr",
     "output_type": "stream",
     "text": [
      "Llama.generate: prefix-match hit\n"
     ]
    },
    {
     "name": "stdout",
     "output_type": "stream",
     "text": [
      "✅ Extracted land_area: 231.31\n",
      "💾 File '../../../data/processed/realestates_kh_filled_test.csv' saved with updated index 6157.\n",
      "\n",
      "🔄 Processing [1365/1433] index 6163...\n"
     ]
    },
    {
     "name": "stderr",
     "output_type": "stream",
     "text": [
      "Llama.generate: prefix-match hit\n"
     ]
    },
    {
     "name": "stdout",
     "output_type": "stream",
     "text": [
      "✅ Extracted land_area: 76.84\n",
      "💾 File '../../../data/processed/realestates_kh_filled_test.csv' saved with updated index 6163.\n",
      "\n",
      "🔄 Processing [1366/1433] index 6168...\n"
     ]
    },
    {
     "name": "stderr",
     "output_type": "stream",
     "text": [
      "Llama.generate: prefix-match hit\n"
     ]
    },
    {
     "name": "stdout",
     "output_type": "stream",
     "text": [
      "⚠️ No land area found.\n",
      "💾 File '../../../data/processed/realestates_kh_filled_test.csv' saved with updated index 6168.\n",
      "\n",
      "🔄 Processing [1367/1433] index 6176...\n"
     ]
    },
    {
     "name": "stderr",
     "output_type": "stream",
     "text": [
      "Llama.generate: prefix-match hit\n"
     ]
    },
    {
     "name": "stdout",
     "output_type": "stream",
     "text": [
      "⚠️ No land area found.\n",
      "💾 File '../../../data/processed/realestates_kh_filled_test.csv' saved with updated index 6176.\n",
      "\n",
      "🔄 Processing [1368/1433] index 6180...\n"
     ]
    },
    {
     "name": "stderr",
     "output_type": "stream",
     "text": [
      "Llama.generate: prefix-match hit\n"
     ]
    },
    {
     "name": "stdout",
     "output_type": "stream",
     "text": [
      "⚠️ No land area found.\n",
      "💾 File '../../../data/processed/realestates_kh_filled_test.csv' saved with updated index 6180.\n",
      "\n",
      "🔄 Processing [1369/1433] index 6202...\n"
     ]
    },
    {
     "name": "stderr",
     "output_type": "stream",
     "text": [
      "Llama.generate: prefix-match hit\n"
     ]
    },
    {
     "name": "stdout",
     "output_type": "stream",
     "text": [
      "⚠️ No land area found.\n",
      "💾 File '../../../data/processed/realestates_kh_filled_test.csv' saved with updated index 6202.\n",
      "\n",
      "🔄 Processing [1370/1433] index 6209...\n"
     ]
    },
    {
     "name": "stderr",
     "output_type": "stream",
     "text": [
      "Llama.generate: prefix-match hit\n"
     ]
    },
    {
     "name": "stdout",
     "output_type": "stream",
     "text": [
      "✅ Extracted land_area: 120.0\n",
      "💾 File '../../../data/processed/realestates_kh_filled_test.csv' saved with updated index 6209.\n",
      "\n",
      "🔄 Processing [1371/1433] index 6210...\n"
     ]
    },
    {
     "name": "stderr",
     "output_type": "stream",
     "text": [
      "Llama.generate: prefix-match hit\n"
     ]
    },
    {
     "name": "stdout",
     "output_type": "stream",
     "text": [
      "⚠️ No land area found.\n",
      "💾 File '../../../data/processed/realestates_kh_filled_test.csv' saved with updated index 6210.\n",
      "\n",
      "🔄 Processing [1372/1433] index 6211...\n"
     ]
    },
    {
     "name": "stderr",
     "output_type": "stream",
     "text": [
      "Llama.generate: prefix-match hit\n"
     ]
    },
    {
     "name": "stdout",
     "output_type": "stream",
     "text": [
      "⚠️ No land area found.\n",
      "💾 File '../../../data/processed/realestates_kh_filled_test.csv' saved with updated index 6211.\n",
      "\n",
      "🔄 Processing [1373/1433] index 6214...\n"
     ]
    },
    {
     "name": "stderr",
     "output_type": "stream",
     "text": [
      "Llama.generate: prefix-match hit\n"
     ]
    },
    {
     "name": "stdout",
     "output_type": "stream",
     "text": [
      "✅ Extracted land_area: 288.0\n",
      "💾 File '../../../data/processed/realestates_kh_filled_test.csv' saved with updated index 6214.\n",
      "\n",
      "🔄 Processing [1374/1433] index 6238...\n"
     ]
    },
    {
     "name": "stderr",
     "output_type": "stream",
     "text": [
      "Llama.generate: prefix-match hit\n"
     ]
    },
    {
     "name": "stdout",
     "output_type": "stream",
     "text": [
      "⚠️ No land area found.\n",
      "💾 File '../../../data/processed/realestates_kh_filled_test.csv' saved with updated index 6238.\n",
      "\n",
      "🔄 Processing [1375/1433] index 6244...\n"
     ]
    },
    {
     "name": "stderr",
     "output_type": "stream",
     "text": [
      "Llama.generate: prefix-match hit\n"
     ]
    },
    {
     "name": "stdout",
     "output_type": "stream",
     "text": [
      "⚠️ No land area found.\n",
      "💾 File '../../../data/processed/realestates_kh_filled_test.csv' saved with updated index 6244.\n",
      "\n",
      "🔄 Processing [1376/1433] index 6245...\n"
     ]
    },
    {
     "name": "stderr",
     "output_type": "stream",
     "text": [
      "Llama.generate: prefix-match hit\n"
     ]
    },
    {
     "name": "stdout",
     "output_type": "stream",
     "text": [
      "✅ Extracted land_area: 636.0\n",
      "💾 File '../../../data/processed/realestates_kh_filled_test.csv' saved with updated index 6245.\n",
      "\n",
      "🔄 Processing [1377/1433] index 6256...\n"
     ]
    },
    {
     "name": "stderr",
     "output_type": "stream",
     "text": [
      "Llama.generate: prefix-match hit\n"
     ]
    },
    {
     "name": "stdout",
     "output_type": "stream",
     "text": [
      "⚠️ No land area found.\n",
      "💾 File '../../../data/processed/realestates_kh_filled_test.csv' saved with updated index 6256.\n",
      "\n",
      "🔄 Processing [1378/1433] index 6258...\n"
     ]
    },
    {
     "name": "stderr",
     "output_type": "stream",
     "text": [
      "Llama.generate: prefix-match hit\n"
     ]
    },
    {
     "name": "stdout",
     "output_type": "stream",
     "text": [
      "✅ Extracted land_area: 144.0\n",
      "💾 File '../../../data/processed/realestates_kh_filled_test.csv' saved with updated index 6258.\n",
      "\n",
      "🔄 Processing [1379/1433] index 6259...\n"
     ]
    },
    {
     "name": "stderr",
     "output_type": "stream",
     "text": [
      "Llama.generate: prefix-match hit\n"
     ]
    },
    {
     "name": "stdout",
     "output_type": "stream",
     "text": [
      "⚠️ No land area found.\n",
      "💾 File '../../../data/processed/realestates_kh_filled_test.csv' saved with updated index 6259.\n",
      "\n",
      "🔄 Processing [1380/1433] index 6264...\n"
     ]
    },
    {
     "name": "stderr",
     "output_type": "stream",
     "text": [
      "Llama.generate: prefix-match hit\n"
     ]
    },
    {
     "name": "stdout",
     "output_type": "stream",
     "text": [
      "⚠️ No land area found.\n",
      "💾 File '../../../data/processed/realestates_kh_filled_test.csv' saved with updated index 6264.\n",
      "\n",
      "🔄 Processing [1381/1433] index 6265...\n"
     ]
    },
    {
     "name": "stderr",
     "output_type": "stream",
     "text": [
      "Llama.generate: prefix-match hit\n"
     ]
    },
    {
     "name": "stdout",
     "output_type": "stream",
     "text": [
      "✅ Extracted land_area: 431.0\n",
      "💾 File '../../../data/processed/realestates_kh_filled_test.csv' saved with updated index 6265.\n",
      "\n",
      "🔄 Processing [1382/1433] index 6266...\n"
     ]
    },
    {
     "name": "stderr",
     "output_type": "stream",
     "text": [
      "Llama.generate: prefix-match hit\n"
     ]
    },
    {
     "name": "stdout",
     "output_type": "stream",
     "text": [
      "⚠️ No land area found.\n",
      "💾 File '../../../data/processed/realestates_kh_filled_test.csv' saved with updated index 6266.\n",
      "\n",
      "🔄 Processing [1383/1433] index 6267...\n"
     ]
    },
    {
     "name": "stderr",
     "output_type": "stream",
     "text": [
      "Llama.generate: prefix-match hit\n"
     ]
    },
    {
     "name": "stdout",
     "output_type": "stream",
     "text": [
      "⚠️ No land area found.\n",
      "💾 File '../../../data/processed/realestates_kh_filled_test.csv' saved with updated index 6267.\n",
      "\n",
      "🔄 Processing [1384/1433] index 6269...\n"
     ]
    },
    {
     "name": "stderr",
     "output_type": "stream",
     "text": [
      "Llama.generate: prefix-match hit\n"
     ]
    },
    {
     "name": "stdout",
     "output_type": "stream",
     "text": [
      "⚠️ No land area found.\n",
      "💾 File '../../../data/processed/realestates_kh_filled_test.csv' saved with updated index 6269.\n",
      "\n",
      "🔄 Processing [1385/1433] index 6270...\n"
     ]
    },
    {
     "name": "stderr",
     "output_type": "stream",
     "text": [
      "Llama.generate: prefix-match hit\n"
     ]
    },
    {
     "name": "stdout",
     "output_type": "stream",
     "text": [
      "⚠️ No land area found.\n",
      "💾 File '../../../data/processed/realestates_kh_filled_test.csv' saved with updated index 6270.\n",
      "\n",
      "🔄 Processing [1386/1433] index 6274...\n"
     ]
    },
    {
     "name": "stderr",
     "output_type": "stream",
     "text": [
      "Llama.generate: prefix-match hit\n"
     ]
    },
    {
     "name": "stdout",
     "output_type": "stream",
     "text": [
      "⚠️ No land area found.\n",
      "💾 File '../../../data/processed/realestates_kh_filled_test.csv' saved with updated index 6274.\n",
      "\n",
      "🔄 Processing [1387/1433] index 6280...\n"
     ]
    },
    {
     "name": "stderr",
     "output_type": "stream",
     "text": [
      "Llama.generate: prefix-match hit\n"
     ]
    },
    {
     "name": "stdout",
     "output_type": "stream",
     "text": [
      "⚠️ No land area found.\n",
      "💾 File '../../../data/processed/realestates_kh_filled_test.csv' saved with updated index 6280.\n",
      "\n",
      "🔄 Processing [1388/1433] index 6282...\n"
     ]
    },
    {
     "name": "stderr",
     "output_type": "stream",
     "text": [
      "Llama.generate: prefix-match hit\n"
     ]
    },
    {
     "name": "stdout",
     "output_type": "stream",
     "text": [
      "✅ Extracted land_area: 1040.0\n",
      "💾 File '../../../data/processed/realestates_kh_filled_test.csv' saved with updated index 6282.\n",
      "\n",
      "🔄 Processing [1389/1433] index 6284...\n"
     ]
    },
    {
     "name": "stderr",
     "output_type": "stream",
     "text": [
      "Llama.generate: prefix-match hit\n"
     ]
    },
    {
     "name": "stdout",
     "output_type": "stream",
     "text": [
      "⚠️ No land area found.\n",
      "💾 File '../../../data/processed/realestates_kh_filled_test.csv' saved with updated index 6284.\n",
      "\n",
      "🔄 Processing [1390/1433] index 6287...\n"
     ]
    },
    {
     "name": "stderr",
     "output_type": "stream",
     "text": [
      "Llama.generate: prefix-match hit\n"
     ]
    },
    {
     "name": "stdout",
     "output_type": "stream",
     "text": [
      "✅ Extracted land_area: 240.0\n",
      "💾 File '../../../data/processed/realestates_kh_filled_test.csv' saved with updated index 6287.\n",
      "\n",
      "🔄 Processing [1391/1433] index 6289...\n"
     ]
    },
    {
     "name": "stderr",
     "output_type": "stream",
     "text": [
      "Llama.generate: prefix-match hit\n"
     ]
    },
    {
     "name": "stdout",
     "output_type": "stream",
     "text": [
      "✅ Extracted land_area: 220.0\n",
      "💾 File '../../../data/processed/realestates_kh_filled_test.csv' saved with updated index 6289.\n",
      "\n",
      "🔄 Processing [1392/1433] index 6292...\n"
     ]
    },
    {
     "name": "stderr",
     "output_type": "stream",
     "text": [
      "Llama.generate: prefix-match hit\n"
     ]
    },
    {
     "name": "stdout",
     "output_type": "stream",
     "text": [
      "✅ Extracted land_area: 3329.0\n",
      "💾 File '../../../data/processed/realestates_kh_filled_test.csv' saved with updated index 6292.\n",
      "\n",
      "🔄 Processing [1393/1433] index 6294...\n"
     ]
    },
    {
     "name": "stderr",
     "output_type": "stream",
     "text": [
      "Llama.generate: prefix-match hit\n"
     ]
    },
    {
     "name": "stdout",
     "output_type": "stream",
     "text": [
      "✅ Extracted land_area: 141.0\n",
      "💾 File '../../../data/processed/realestates_kh_filled_test.csv' saved with updated index 6294.\n",
      "\n",
      "🔄 Processing [1394/1433] index 6296...\n"
     ]
    },
    {
     "name": "stderr",
     "output_type": "stream",
     "text": [
      "Llama.generate: prefix-match hit\n"
     ]
    },
    {
     "name": "stdout",
     "output_type": "stream",
     "text": [
      "✅ Extracted land_area: 510.0\n",
      "💾 File '../../../data/processed/realestates_kh_filled_test.csv' saved with updated index 6296.\n",
      "\n",
      "🔄 Processing [1395/1433] index 6310...\n"
     ]
    },
    {
     "name": "stderr",
     "output_type": "stream",
     "text": [
      "Llama.generate: prefix-match hit\n"
     ]
    },
    {
     "name": "stdout",
     "output_type": "stream",
     "text": [
      "✅ Extracted land_area: 210.0\n",
      "💾 File '../../../data/processed/realestates_kh_filled_test.csv' saved with updated index 6310.\n",
      "\n",
      "🔄 Processing [1396/1433] index 6312...\n"
     ]
    },
    {
     "name": "stderr",
     "output_type": "stream",
     "text": [
      "Llama.generate: prefix-match hit\n"
     ]
    },
    {
     "name": "stdout",
     "output_type": "stream",
     "text": [
      "✅ Extracted land_area: 3200.0\n",
      "💾 File '../../../data/processed/realestates_kh_filled_test.csv' saved with updated index 6312.\n",
      "\n",
      "🔄 Processing [1397/1433] index 6315...\n"
     ]
    },
    {
     "name": "stderr",
     "output_type": "stream",
     "text": [
      "Llama.generate: prefix-match hit\n"
     ]
    },
    {
     "name": "stdout",
     "output_type": "stream",
     "text": [
      "✅ Extracted land_area: 1916.0\n",
      "💾 File '../../../data/processed/realestates_kh_filled_test.csv' saved with updated index 6315.\n",
      "\n",
      "🔄 Processing [1398/1433] index 6317...\n"
     ]
    },
    {
     "name": "stderr",
     "output_type": "stream",
     "text": [
      "Llama.generate: prefix-match hit\n"
     ]
    },
    {
     "name": "stdout",
     "output_type": "stream",
     "text": [
      "⚠️ No land area found.\n",
      "💾 File '../../../data/processed/realestates_kh_filled_test.csv' saved with updated index 6317.\n",
      "\n",
      "🔄 Processing [1399/1433] index 6319...\n"
     ]
    },
    {
     "name": "stderr",
     "output_type": "stream",
     "text": [
      "Llama.generate: prefix-match hit\n"
     ]
    },
    {
     "name": "stdout",
     "output_type": "stream",
     "text": [
      "⚠️ No land area found.\n",
      "💾 File '../../../data/processed/realestates_kh_filled_test.csv' saved with updated index 6319.\n",
      "\n",
      "🔄 Processing [1400/1433] index 6323...\n"
     ]
    },
    {
     "name": "stderr",
     "output_type": "stream",
     "text": [
      "Llama.generate: prefix-match hit\n"
     ]
    },
    {
     "name": "stdout",
     "output_type": "stream",
     "text": [
      "⚠️ No land area found.\n",
      "💾 File '../../../data/processed/realestates_kh_filled_test.csv' saved with updated index 6323.\n",
      "\n",
      "🔄 Processing [1401/1433] index 6325...\n"
     ]
    },
    {
     "name": "stderr",
     "output_type": "stream",
     "text": [
      "Llama.generate: prefix-match hit\n"
     ]
    },
    {
     "name": "stdout",
     "output_type": "stream",
     "text": [
      "✅ Extracted land_area: 1000.0\n",
      "💾 File '../../../data/processed/realestates_kh_filled_test.csv' saved with updated index 6325.\n",
      "\n",
      "🔄 Processing [1402/1433] index 6327...\n"
     ]
    },
    {
     "name": "stderr",
     "output_type": "stream",
     "text": [
      "Llama.generate: prefix-match hit\n"
     ]
    },
    {
     "name": "stdout",
     "output_type": "stream",
     "text": [
      "⚠️ No land area found.\n",
      "💾 File '../../../data/processed/realestates_kh_filled_test.csv' saved with updated index 6327.\n",
      "\n",
      "🔄 Processing [1403/1433] index 6334...\n"
     ]
    },
    {
     "name": "stderr",
     "output_type": "stream",
     "text": [
      "Llama.generate: prefix-match hit\n"
     ]
    },
    {
     "name": "stdout",
     "output_type": "stream",
     "text": [
      "✅ Extracted land_area: 250.0\n",
      "💾 File '../../../data/processed/realestates_kh_filled_test.csv' saved with updated index 6334.\n",
      "\n",
      "🔄 Processing [1404/1433] index 6336...\n"
     ]
    },
    {
     "name": "stderr",
     "output_type": "stream",
     "text": [
      "Llama.generate: prefix-match hit\n"
     ]
    },
    {
     "name": "stdout",
     "output_type": "stream",
     "text": [
      "✅ Extracted land_area: 7380.0\n",
      "💾 File '../../../data/processed/realestates_kh_filled_test.csv' saved with updated index 6336.\n",
      "\n",
      "🔄 Processing [1405/1433] index 6342...\n"
     ]
    },
    {
     "name": "stderr",
     "output_type": "stream",
     "text": [
      "Llama.generate: prefix-match hit\n"
     ]
    },
    {
     "name": "stdout",
     "output_type": "stream",
     "text": [
      "⚠️ No land area found.\n",
      "💾 File '../../../data/processed/realestates_kh_filled_test.csv' saved with updated index 6342.\n",
      "\n",
      "🔄 Processing [1406/1433] index 6343...\n"
     ]
    },
    {
     "name": "stderr",
     "output_type": "stream",
     "text": [
      "Llama.generate: prefix-match hit\n"
     ]
    },
    {
     "name": "stdout",
     "output_type": "stream",
     "text": [
      "⚠️ No land area found.\n",
      "💾 File '../../../data/processed/realestates_kh_filled_test.csv' saved with updated index 6343.\n",
      "\n",
      "🔄 Processing [1407/1433] index 6344...\n"
     ]
    },
    {
     "name": "stderr",
     "output_type": "stream",
     "text": [
      "Llama.generate: prefix-match hit\n"
     ]
    },
    {
     "name": "stdout",
     "output_type": "stream",
     "text": [
      "⚠️ No land area found.\n",
      "💾 File '../../../data/processed/realestates_kh_filled_test.csv' saved with updated index 6344.\n",
      "\n",
      "🔄 Processing [1408/1433] index 6345...\n"
     ]
    },
    {
     "name": "stderr",
     "output_type": "stream",
     "text": [
      "Llama.generate: prefix-match hit\n"
     ]
    },
    {
     "name": "stdout",
     "output_type": "stream",
     "text": [
      "⚠️ No land area found.\n",
      "💾 File '../../../data/processed/realestates_kh_filled_test.csv' saved with updated index 6345.\n",
      "\n",
      "🔄 Processing [1409/1433] index 6346...\n"
     ]
    },
    {
     "name": "stderr",
     "output_type": "stream",
     "text": [
      "Llama.generate: prefix-match hit\n"
     ]
    },
    {
     "name": "stdout",
     "output_type": "stream",
     "text": [
      "⚠️ No land area found.\n",
      "💾 File '../../../data/processed/realestates_kh_filled_test.csv' saved with updated index 6346.\n",
      "\n",
      "🔄 Processing [1410/1433] index 6347...\n"
     ]
    },
    {
     "name": "stderr",
     "output_type": "stream",
     "text": [
      "Llama.generate: prefix-match hit\n"
     ]
    },
    {
     "name": "stdout",
     "output_type": "stream",
     "text": [
      "⚠️ No land area found.\n",
      "💾 File '../../../data/processed/realestates_kh_filled_test.csv' saved with updated index 6347.\n",
      "\n",
      "🔄 Processing [1411/1433] index 6348...\n"
     ]
    },
    {
     "name": "stderr",
     "output_type": "stream",
     "text": [
      "Llama.generate: prefix-match hit\n"
     ]
    },
    {
     "name": "stdout",
     "output_type": "stream",
     "text": [
      "⚠️ No land area found.\n",
      "💾 File '../../../data/processed/realestates_kh_filled_test.csv' saved with updated index 6348.\n",
      "\n",
      "🔄 Processing [1412/1433] index 6349...\n"
     ]
    },
    {
     "name": "stderr",
     "output_type": "stream",
     "text": [
      "Llama.generate: prefix-match hit\n"
     ]
    },
    {
     "name": "stdout",
     "output_type": "stream",
     "text": [
      "⚠️ No land area found.\n",
      "💾 File '../../../data/processed/realestates_kh_filled_test.csv' saved with updated index 6349.\n",
      "\n",
      "🔄 Processing [1413/1433] index 6350...\n"
     ]
    },
    {
     "name": "stderr",
     "output_type": "stream",
     "text": [
      "Llama.generate: prefix-match hit\n"
     ]
    },
    {
     "name": "stdout",
     "output_type": "stream",
     "text": [
      "⚠️ No land area found.\n",
      "💾 File '../../../data/processed/realestates_kh_filled_test.csv' saved with updated index 6350.\n",
      "\n",
      "🔄 Processing [1414/1433] index 6351...\n"
     ]
    },
    {
     "name": "stderr",
     "output_type": "stream",
     "text": [
      "Llama.generate: prefix-match hit\n"
     ]
    },
    {
     "name": "stdout",
     "output_type": "stream",
     "text": [
      "⚠️ No land area found.\n",
      "💾 File '../../../data/processed/realestates_kh_filled_test.csv' saved with updated index 6351.\n",
      "\n",
      "🔄 Processing [1415/1433] index 6352...\n"
     ]
    },
    {
     "name": "stderr",
     "output_type": "stream",
     "text": [
      "Llama.generate: prefix-match hit\n"
     ]
    },
    {
     "name": "stdout",
     "output_type": "stream",
     "text": [
      "⚠️ No land area found.\n",
      "💾 File '../../../data/processed/realestates_kh_filled_test.csv' saved with updated index 6352.\n",
      "\n",
      "🔄 Processing [1416/1433] index 6353...\n"
     ]
    },
    {
     "name": "stderr",
     "output_type": "stream",
     "text": [
      "Llama.generate: prefix-match hit\n"
     ]
    },
    {
     "name": "stdout",
     "output_type": "stream",
     "text": [
      "⚠️ No land area found.\n",
      "💾 File '../../../data/processed/realestates_kh_filled_test.csv' saved with updated index 6353.\n",
      "\n",
      "🔄 Processing [1417/1433] index 6354...\n"
     ]
    },
    {
     "name": "stderr",
     "output_type": "stream",
     "text": [
      "Llama.generate: prefix-match hit\n"
     ]
    },
    {
     "name": "stdout",
     "output_type": "stream",
     "text": [
      "⚠️ No land area found.\n",
      "💾 File '../../../data/processed/realestates_kh_filled_test.csv' saved with updated index 6354.\n",
      "\n",
      "🔄 Processing [1418/1433] index 6355...\n"
     ]
    },
    {
     "name": "stderr",
     "output_type": "stream",
     "text": [
      "Llama.generate: prefix-match hit\n"
     ]
    },
    {
     "name": "stdout",
     "output_type": "stream",
     "text": [
      "⚠️ No land area found.\n",
      "💾 File '../../../data/processed/realestates_kh_filled_test.csv' saved with updated index 6355.\n",
      "\n",
      "🔄 Processing [1419/1433] index 6356...\n"
     ]
    },
    {
     "name": "stderr",
     "output_type": "stream",
     "text": [
      "Llama.generate: prefix-match hit\n"
     ]
    },
    {
     "name": "stdout",
     "output_type": "stream",
     "text": [
      "⚠️ No land area found.\n",
      "💾 File '../../../data/processed/realestates_kh_filled_test.csv' saved with updated index 6356.\n",
      "\n",
      "🔄 Processing [1420/1433] index 6357...\n"
     ]
    },
    {
     "name": "stderr",
     "output_type": "stream",
     "text": [
      "Llama.generate: prefix-match hit\n"
     ]
    },
    {
     "name": "stdout",
     "output_type": "stream",
     "text": [
      "⚠️ No land area found.\n",
      "💾 File '../../../data/processed/realestates_kh_filled_test.csv' saved with updated index 6357.\n",
      "\n",
      "🔄 Processing [1421/1433] index 6358...\n"
     ]
    },
    {
     "name": "stderr",
     "output_type": "stream",
     "text": [
      "Llama.generate: prefix-match hit\n"
     ]
    },
    {
     "name": "stdout",
     "output_type": "stream",
     "text": [
      "⚠️ No land area found.\n",
      "💾 File '../../../data/processed/realestates_kh_filled_test.csv' saved with updated index 6358.\n",
      "\n",
      "🔄 Processing [1422/1433] index 6359...\n"
     ]
    },
    {
     "name": "stderr",
     "output_type": "stream",
     "text": [
      "Llama.generate: prefix-match hit\n"
     ]
    },
    {
     "name": "stdout",
     "output_type": "stream",
     "text": [
      "⚠️ No land area found.\n",
      "💾 File '../../../data/processed/realestates_kh_filled_test.csv' saved with updated index 6359.\n",
      "\n",
      "🔄 Processing [1423/1433] index 6360...\n"
     ]
    },
    {
     "name": "stderr",
     "output_type": "stream",
     "text": [
      "Llama.generate: prefix-match hit\n"
     ]
    },
    {
     "name": "stdout",
     "output_type": "stream",
     "text": [
      "⚠️ No land area found.\n",
      "💾 File '../../../data/processed/realestates_kh_filled_test.csv' saved with updated index 6360.\n",
      "\n",
      "🔄 Processing [1424/1433] index 6361...\n"
     ]
    },
    {
     "name": "stderr",
     "output_type": "stream",
     "text": [
      "Llama.generate: prefix-match hit\n"
     ]
    },
    {
     "name": "stdout",
     "output_type": "stream",
     "text": [
      "⚠️ No land area found.\n",
      "💾 File '../../../data/processed/realestates_kh_filled_test.csv' saved with updated index 6361.\n",
      "\n",
      "🔄 Processing [1425/1433] index 6362...\n"
     ]
    },
    {
     "name": "stderr",
     "output_type": "stream",
     "text": [
      "Llama.generate: prefix-match hit\n"
     ]
    },
    {
     "name": "stdout",
     "output_type": "stream",
     "text": [
      "⚠️ No land area found.\n",
      "💾 File '../../../data/processed/realestates_kh_filled_test.csv' saved with updated index 6362.\n",
      "\n",
      "🔄 Processing [1426/1433] index 6363...\n"
     ]
    },
    {
     "name": "stderr",
     "output_type": "stream",
     "text": [
      "Llama.generate: prefix-match hit\n"
     ]
    },
    {
     "name": "stdout",
     "output_type": "stream",
     "text": [
      "⚠️ No land area found.\n",
      "💾 File '../../../data/processed/realestates_kh_filled_test.csv' saved with updated index 6363.\n",
      "\n",
      "🔄 Processing [1427/1433] index 6364...\n"
     ]
    },
    {
     "name": "stderr",
     "output_type": "stream",
     "text": [
      "Llama.generate: prefix-match hit\n"
     ]
    },
    {
     "name": "stdout",
     "output_type": "stream",
     "text": [
      "⚠️ No land area found.\n",
      "💾 File '../../../data/processed/realestates_kh_filled_test.csv' saved with updated index 6364.\n",
      "\n",
      "🔄 Processing [1428/1433] index 6365...\n"
     ]
    },
    {
     "name": "stderr",
     "output_type": "stream",
     "text": [
      "Llama.generate: prefix-match hit\n"
     ]
    },
    {
     "name": "stdout",
     "output_type": "stream",
     "text": [
      "⚠️ No land area found.\n",
      "💾 File '../../../data/processed/realestates_kh_filled_test.csv' saved with updated index 6365.\n",
      "\n",
      "🔄 Processing [1429/1433] index 6366...\n"
     ]
    },
    {
     "name": "stderr",
     "output_type": "stream",
     "text": [
      "Llama.generate: prefix-match hit\n"
     ]
    },
    {
     "name": "stdout",
     "output_type": "stream",
     "text": [
      "⚠️ No land area found.\n",
      "💾 File '../../../data/processed/realestates_kh_filled_test.csv' saved with updated index 6366.\n",
      "\n",
      "🔄 Processing [1430/1433] index 6367...\n"
     ]
    },
    {
     "name": "stderr",
     "output_type": "stream",
     "text": [
      "Llama.generate: prefix-match hit\n"
     ]
    },
    {
     "name": "stdout",
     "output_type": "stream",
     "text": [
      "⚠️ No land area found.\n",
      "💾 File '../../../data/processed/realestates_kh_filled_test.csv' saved with updated index 6367.\n",
      "\n",
      "🔄 Processing [1431/1433] index 6368...\n"
     ]
    },
    {
     "name": "stderr",
     "output_type": "stream",
     "text": [
      "Llama.generate: prefix-match hit\n"
     ]
    },
    {
     "name": "stdout",
     "output_type": "stream",
     "text": [
      "⚠️ No land area found.\n",
      "💾 File '../../../data/processed/realestates_kh_filled_test.csv' saved with updated index 6368.\n",
      "\n",
      "🔄 Processing [1432/1433] index 6369...\n"
     ]
    },
    {
     "name": "stderr",
     "output_type": "stream",
     "text": [
      "Llama.generate: prefix-match hit\n"
     ]
    },
    {
     "name": "stdout",
     "output_type": "stream",
     "text": [
      "⚠️ No land area found.\n",
      "💾 File '../../../data/processed/realestates_kh_filled_test.csv' saved with updated index 6369.\n",
      "\n",
      "🔄 Processing [1433/1433] index 6370...\n"
     ]
    },
    {
     "name": "stderr",
     "output_type": "stream",
     "text": [
      "Llama.generate: prefix-match hit\n"
     ]
    },
    {
     "name": "stdout",
     "output_type": "stream",
     "text": [
      "⚠️ No land area found.\n",
      "💾 File '../../../data/processed/realestates_kh_filled_test.csv' saved with updated index 6370.\n",
      "\n",
      "✅ Finished! Total updated rows this run: 489\n"
     ]
    }
   ],
   "source": [
    "\n",
    "# --- Process Rows ---\n",
    "updated_count = 0\n",
    "\n",
    "for i, (idx, row) in enumerate(rows_to_process.iterrows(), 1):\n",
    "    print(f\"\\n🔄 Processing [{i}/{len(rows_to_process)}] index {idx}...\")\n",
    "\n",
    "    info_text = row['information']\n",
    "    land_area = extract_land_area_from_text(info_text)\n",
    "\n",
    "    if land_area is not None:\n",
    "        df.at[idx, 'land_area'] = land_area\n",
    "        updated_count += 1\n",
    "        print(f\"✅ Extracted land_area: {land_area}\")\n",
    "    else:\n",
    "        print(\"⚠️ No land area found.\")\n",
    "\n",
    "    # Rewrite full output file with updated df\n",
    "    df.to_csv(output_file, index=False)\n",
    "    print(f\"💾 File '{output_file}' saved with updated index {idx}.\")\n",
    "\n",
    "    time.sleep(0.05)\n",
    "\n",
    "print(f\"\\n✅ Finished! Total updated rows this run: {updated_count}\")"
   ]
  }
 ],
 "metadata": {
  "kernelspec": {
   "display_name": "env_v3.10",
   "language": "python",
   "name": "python3"
  },
  "language_info": {
   "codemirror_mode": {
    "name": "ipython",
    "version": 3
   },
   "file_extension": ".py",
   "mimetype": "text/x-python",
   "name": "python",
   "nbconvert_exporter": "python",
   "pygments_lexer": "ipython3",
   "version": "3.10.16"
  }
 },
 "nbformat": 4,
 "nbformat_minor": 5
}
