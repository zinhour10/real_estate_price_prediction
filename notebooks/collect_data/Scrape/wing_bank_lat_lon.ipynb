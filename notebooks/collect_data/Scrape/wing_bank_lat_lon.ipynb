{
 "cells": [
  {
   "cell_type": "code",
   "execution_count": 1,
   "metadata": {},
   "outputs": [
    {
     "name": "stdout",
     "output_type": "stream",
     "text": [
      "{'name': 'ធនាគារ វីង', 'url': 'https://www.google.com/maps/place/%E1%9E%92%E1%9E%93%E1%9E%B6%E1%9E%82%E1%9E%B6%E1%9E%9A+%E1%9E%9C%E1%9E%B8%E1%9E%84/data=!4m7!3m6!1s0x310951b4a7932771:0x92b91cedd6a051c9!8m2!3d11.5450455!4d104.9220433!16s%2Fg%2F11s8qvl8f9!19sChIJcSeTp7RRCTERyVGg1u0cuZI?authuser=0&hl=km&rclk=1'}\n",
      "{'name': 'Wing Bank Beoung Trobek Branch', 'url': 'https://www.google.com/maps/place/Wing+Bank+Beoung+Trobek+Branch/data=!4m7!3m6!1s0x310951009dc466f7:0x981af35d8cfcf099!8m2!3d11.5417205!4d104.9225463!16s%2Fg%2F11tnxlz535!19sChIJ92bEnQBRCTERmfD8jF3zGpg?authuser=0&hl=km&rclk=1'}\n",
      "{'name': 'Wing Bank Independence Monument Branch', 'url': 'https://www.google.com/maps/place/Wing+Bank+Independence+Monument+Branch/data=!4m7!3m6!1s0x310951a3c4fe5457:0x623848438f3274e6!8m2!3d11.5557996!4d104.9240568!16s%2Fg%2F11v0bzfllr!19sChIJV1T-xKNRCTER5nQyj0NIOGI?authuser=0&hl=km&rclk=1'}\n",
      "{'name': 'Wing Bank Wat Phnom Branch', 'url': 'https://www.google.com/maps/place/Wing+Bank+Wat+Phnom+Branch/data=!4m7!3m6!1s0x31095131508281ff:0xb4240066f0b2607c!8m2!3d11.5712454!4d104.9202109!16s%2Fg%2F11kpth7p4g!19sChIJ_4GCUDFRCTERfGCy8GYAJLQ?authuser=0&hl=km&rclk=1'}\n",
      "{'name': 'Wing Bank Preah Yukunthor Branch', 'url': 'https://www.google.com/maps/place/Wing+Bank+Preah+Yukunthor+Branch/data=!4m7!3m6!1s0x31095162b559430d:0x73711473098147cd!8m2!3d11.5560078!4d104.9191052!16s%2Fg%2F11kqg4007q!19sChIJDUNZtWJRCTERzUeBCXMUcXM?authuser=0&hl=km&rclk=1'}\n",
      "{'name': 'Wing Prum SAMBAT 310', 'url': 'https://www.google.com/maps/place/Wing+Prum+SAMBAT+310/data=!4m7!3m6!1s0x31095168ad7a034f:0x320e909d5427c372!8m2!3d11.5507223!4d104.9188757!16s%2Fg%2F11f62mgx3k!19sChIJTwN6rWhRCTERcsMnVJ2QDjI?authuser=0&hl=km&rclk=1'}\n",
      "{'name': 'អាគារ\\u200bធនាគារ\\u200bវីង', 'url': 'https://www.google.com/maps/place/%E1%9E%A2%E1%9E%B6%E1%9E%82%E1%9E%B6%E1%9E%9A%E2%80%8B%E1%9E%92%E1%9E%93%E1%9E%B6%E1%9E%82%E1%9E%B6%E1%9E%9A%E2%80%8B%E1%9E%9C%E1%9E%B8%E1%9E%84/data=!4m7!3m6!1s0x3109514d44a17f07:0xb4fb91fb850f4003!8m2!3d11.5690947!4d104.9184667!16s%2Fg%2F11stpst42c!19sChIJB3-hRE1RCTERA0APhfuR-7Q?authuser=0&hl=km&rclk=1'}\n",
      "{'name': 'វិប ខេមបូឌាវីង Web Cambodia Wing', 'url': 'https://www.google.com/maps/place/%E1%9E%9C%E1%9E%B7%E1%9E%94+%E1%9E%81%E1%9F%81%E1%9E%98%E1%9E%94%E1%9E%BC%E1%9E%8C%E1%9E%B6%E1%9E%9C%E1%9E%B8%E1%9E%84+Web+Cambodia+Wing/data=!4m7!3m6!1s0x3109514a8d4d6d65:0xe8bce1e0f178cd3a!8m2!3d11.5664007!4d104.9188569!16s%2Fg%2F11gsbqhd9z!19sChIJZW1NjUpRCTEROs148eDhvOg?authuser=0&hl=km&rclk=1'}\n",
      "{'name': 'Wing Money (លឹមសុង\\u200b \\u200b88)', 'url': 'https://www.google.com/maps/place/Wing+Money+%28%E1%9E%9B%E1%9E%B9%E1%9E%98%E1%9E%9F%E1%9E%BB%E1%9E%84%E2%80%8B+%E2%80%8B88%29/data=!4m7!3m6!1s0x310951c6cf57de9b:0x5bea7de9e516a6fa!8m2!3d11.5510763!4d104.9208951!16s%2Fg%2F11m2q8pp29!19sChIJm95Xz8ZRCTER-qYW5el96ls?authuser=0&hl=km&rclk=1'}\n",
      "{'name': 'Wing sokleap', 'url': 'https://www.google.com/maps/place/Wing+sokleap/data=!4m7!3m6!1s0x3109517d4748b783:0x8c75902d353ee786!8m2!3d11.5517591!4d104.9113595!16s%2Fg%2F11h5rwk3z9!19sChIJg7dIR31RCTERhuc-NS2QdYw?authuser=0&hl=km&rclk=1'}\n",
      "{'name': 'Ie Meynea Wing Agency', 'url': 'https://www.google.com/maps/place/Ie+Meynea+Wing+Agency/data=!4m7!3m6!1s0x310951ddc683e239:0xcb5a38c3b9a90d98!8m2!3d11.5538534!4d104.9090214!16s%2Fg%2F11gkslnprc!19sChIJOeKDxt1RCTERmA2pucM4Wss?authuser=0&hl=km&rclk=1'}\n",
      "{'name': 'Wing Bank Tuol Kouk Branch', 'url': 'https://www.google.com/maps/place/Wing+Bank+Tuol+Kouk+Branch/data=!4m7!3m6!1s0x310953b3dfcfda03:0xfcfe33f917dec344!8m2!3d11.5784337!4d104.899991!16s%2Fg%2F11st_y9_7q!19sChIJA9rP37NTCTERRMPeF_kz_vw?authuser=0&hl=km&rclk=1'}\n",
      "{'name': 'LomOr Wing', 'url': 'https://www.google.com/maps/place/LomOr+Wing/data=!4m7!3m6!1s0x310951c7358c74bf:0xee6b2f2a9793b2f3!8m2!3d11.5388821!4d104.9203244!16s%2Fg%2F11gyyxgkc6!19sChIJv3SMNcdRCTER87KTlyova-4?authuser=0&hl=km&rclk=1'}\n",
      "{'name': 'Wing Bank by Dina Sereyvuth', 'url': 'https://www.google.com/maps/place/Wing+Bank+by+Dina+Sereyvuth/data=!4m7!3m6!1s0x3109511a55965c79:0x9c0371427ad5f21d!8m2!3d11.5405807!4d104.9139429!16s%2Fg%2F11m_h0x511!19sChIJeVyWVRpRCTERHfLVekJxA5w?authuser=0&hl=km&rclk=1'}\n",
      "{'name': 'ជីប ស្រេង ហាង\\u200bលក់\\u200bទូរស័ព្ទ (Wing )', 'url': 'https://www.google.com/maps/place/%E1%9E%87%E1%9E%B8%E1%9E%94+%E1%9E%9F%E1%9F%92%E1%9E%9A%E1%9F%81%E1%9E%84+%E1%9E%A0%E1%9E%B6%E1%9E%84%E2%80%8B%E1%9E%9B%E1%9E%80%E1%9F%8B%E2%80%8B%E1%9E%91%E1%9E%BC%E1%9E%9A%E1%9E%9F%E1%9F%90%E1%9E%96%E1%9F%92%E1%9E%91+%28Wing+%29/data=!4m7!3m6!1s0x3109514171bb8061:0x92dc6c93ac32376d!8m2!3d11.5677421!4d104.9208168!16s%2Fg%2F11p9m00dmn!19sChIJYYC7cUFRCTERbTcyrJNs3JI?authuser=0&hl=km&rclk=1'}\n",
      "{'name': 'Wing', 'url': 'https://www.google.com/maps/place/Wing/data=!4m7!3m6!1s0x3109510cb181499f:0xaa288ef267ff09d7!8m2!3d11.5798666!4d104.9207572!16s%2Fg%2F11f5vb3y86!19sChIJn0mBsQxRCTER1wn_Z_KOKKo?authuser=0&hl=km&rclk=1'}\n",
      "{'name': 'Wing Bank Orkide 2004 Branch', 'url': 'https://www.google.com/maps/place/Wing+Bank+Orkide+2004+Branch/data=!4m7!3m6!1s0x3109515aa7782f19:0x93e257f757c6c738!8m2!3d11.5519805!4d104.8763838!16s%2Fg%2F11khs4bk70!19sChIJGS94p1pRCTEROMfGV_dX4pM?authuser=0&hl=km&rclk=1'}\n",
      "{'name': 'សាមុំ WING', 'url': 'https://www.google.com/maps/place/%E1%9E%9F%E1%9E%B6%E1%9E%98%E1%9E%BB%E1%9F%86+WING/data=!4m7!3m6!1s0x310951b16bd5004d:0xc14ef5e84eaf299!8m2!3d11.5368914!4d104.9107376!16s%2Fg%2F11jt3l8p6x!19sChIJTQDVa7FRCTERmfLqhF7vFAw?authuser=0&hl=km&rclk=1'}\n",
      "{'name': 'វីង', 'url': 'https://www.google.com/maps/place/%E1%9E%9C%E1%9E%B8%E1%9E%84/data=!4m7!3m6!1s0x3109513fce12f83f:0xdf626737c9860f73!8m2!3d11.5633622!4d104.9163346!16s%2Fg%2F11h0vz690c!19sChIJP_gSzj9RCTERcw-GyTdnYt8?authuser=0&hl=km&rclk=1'}\n",
      "{'name': 'Wing Lucky Shop', 'url': 'https://www.google.com/maps/place/Wing+Lucky+Shop/data=!4m7!3m6!1s0x3109513b312fed87:0xfd61540e8ff89515!8m2!3d11.5547171!4d104.9231109!16s%2Fg%2F11gbl4c2_j!19sChIJh-0vMTtRCTERFZX4jw5UYf0?authuser=0&hl=km&rclk=1'}\n",
      "{'name': 'Wing Kim Chetha', 'url': 'https://www.google.com/maps/place/Wing+Kim+Chetha/data=!4m7!3m6!1s0x310951fce24833ab:0x7fa7088bdf1f8aab!8m2!3d11.5630693!4d104.9146718!16s%2Fg%2F11fndvsb3q!19sChIJqzNI4vxRCTERq4of34sIp38?authuser=0&hl=km&rclk=1'}\n",
      "{'name': 'Wing', 'url': 'https://www.google.com/maps/place/Wing/data=!4m7!3m6!1s0x3109510cb181499f:0xaa288ef267ff09d7!8m2!3d11.5798666!4d104.9207572!16s%2Fg%2F11f5vb3y86!19sChIJn0mBsQxRCTER1wn_Z_KOKKo?authuser=0&hl=km&rclk=1'}\n",
      "{'name': 'Monika Wings & Beverage', 'url': 'https://www.google.com/maps/place/Monika+Wings+%26+Beverage/data=!4m7!3m6!1s0x31095131e91c8177:0x9b663279c685356c!8m2!3d11.5547425!4d104.9317498!16s%2Fg%2F11f2wc4ryd!19sChIJd4Ec6TFRCTERbDWFxnkyZps?authuser=0&hl=km&rclk=1'}\n",
      "{'name': 'Wing Bank Saensokh Branch', 'url': 'https://www.google.com/maps/place/Wing+Bank+Saensokh+Branch/data=!4m7!3m6!1s0x310953cab27ab3af:0x3f340632f1e0ba6b!8m2!3d11.603237!4d104.8856922!16s%2Fg%2F11sv38n_dr!19sChIJr7N6sspTCTERa7rg8TIGND8?authuser=0&hl=km&rclk=1'}\n",
      "{'name': 'Kim Cheng Wing Money Transfer', 'url': 'https://www.google.com/maps/place/Kim+Cheng+Wing+Money+Transfer/data=!4m7!3m6!1s0x310951d1556588e3:0x61ca423c095674a0!8m2!3d11.562538!4d104.9176193!16s%2Fg%2F11h1y5c1qx!19sChIJ44hlVdFRCTERoHRWCTxCymE?authuser=0&hl=km&rclk=1'}\n",
      "{'name': 'Wcx Kaing Kimsan', 'url': 'https://www.google.com/maps/place/Wcx+Kaing+Kimsan/data=!4m7!3m6!1s0x3109517f04869929:0xd16fc88ba0f3240d!8m2!3d11.5566811!4d104.9072282!16s%2Fg%2F11hyflcbyd!19sChIJKZmGBH9RCTERDSTzoIvIb9E?authuser=0&hl=km&rclk=1'}\n",
      "{'name': 'សំណាង និមល (360)', 'url': 'https://www.google.com/maps/place/%E1%9E%9F%E1%9F%86%E1%9E%8E%E1%9E%B6%E1%9E%84+%E1%9E%93%E1%9E%B7%E1%9E%98%E1%9E%9B+%28360%29/data=!4m7!3m6!1s0x310951489f28e235:0x67b797c6a5b1f872!8m2!3d11.5691385!4d104.9275326!16s%2Fg%2F11fk54jcnr!19sChIJNeIon0hRCTERcvixpcaXt2c?authuser=0&hl=km&rclk=1'}\n",
      "{'name': 'Wing TK', 'url': 'https://www.google.com/maps/place/Wing+TK/data=!4m7!3m6!1s0x3109517c11a9ff4d:0x46b493e729fcbc2e!8m2!3d11.5840813!4d104.8989252!16s%2Fg%2F11f2drpmzt!19sChIJTf-pEXxRCTERLrz8KeeTtEY?authuser=0&hl=km&rclk=1'}\n",
      "{'name': 'វីនរម្យនា', 'url': 'https://www.google.com/maps/place/%E1%9E%9C%E1%9E%B8%E1%9E%93%E1%9E%9A%E1%9E%98%E1%9F%92%E1%9E%99%E1%9E%93%E1%9E%B6/data=!4m7!3m6!1s0x3109510bebf16fa5:0x331927cf8982ca42!8m2!3d11.5623154!4d104.8968802!16s%2Fg%2F11fkp_y7yh!19sChIJpW_x6wtRCTERQsqCic8nGTM?authuser=0&hl=km&rclk=1'}\n",
      "{'name': 'HengHuy Wing', 'url': 'https://www.google.com/maps/place/HengHuy+Wing/data=!4m7!3m6!1s0x9c6e50f70eddd93:0xb72b743cdf13c22!8m2!3d11.5575011!4d104.905114!16s%2Fg%2F11m68mdkn7!19sChIJk93tcA_lxgkRIjzxzUO3cgs?authuser=0&hl=km&rclk=1'}\n",
      "{'name': 'ធនាគារ\\u200bស្ថាបនា\\u200b', 'url': 'https://www.google.com/maps/place/%E1%9E%92%E1%9E%93%E1%9E%B6%E1%9E%82%E1%9E%B6%E1%9E%9A%E2%80%8B%E1%9E%9F%E1%9F%92%E1%9E%90%E1%9E%B6%E1%9E%94%E1%9E%93%E1%9E%B6%E2%80%8B/data=!4m7!3m6!1s0x3109513831186ef3:0x274621ea6bdaa137!8m2!3d11.5661322!4d104.9252393!16s%2Fg%2F1tf6ttzg!19sChIJ824YMThRCTERN6Haa-ohRic?authuser=0&hl=km&rclk=1'}\n",
      "{'name': 'វីង', 'url': 'https://www.google.com/maps/place/%E1%9E%9C%E1%9E%B8%E1%9E%84/data=!4m7!3m6!1s0x310953d67e363773:0xfe54cd9cd277e6bd!8m2!3d11.5914498!4d104.8982422!16s%2Fg%2F11h6d6314c!19sChIJczc2ftZTCTERveZ30pzNVP4?authuser=0&hl=km&rclk=1'}\n",
      "{'name': 'ផ្ទះលេខ ០៩ Wing', 'url': 'https://www.google.com/maps/place/%E1%9E%95%E1%9F%92%E1%9E%91%E1%9F%87%E1%9E%9B%E1%9F%81%E1%9E%81+%E1%9F%A0%E1%9F%A9+Wing/data=!4m7!3m6!1s0x3109517167ae7011:0x86b7b5c9a7ccda3e!8m2!3d11.5727522!4d104.8996345!16s%2Fg%2F11h080jzrn!19sChIJEXCuZ3FRCTERPtrMp8m1t4Y?authuser=0&hl=km&rclk=1'}\n",
      "{'name': 'វីង-សូ ដានី-លក់ភេសជ្ជ:', 'url': 'https://www.google.com/maps/place/%E1%9E%9C%E1%9E%B8%E1%9E%84-%E1%9E%9F%E1%9E%BC+%E1%9E%8A%E1%9E%B6%E1%9E%93%E1%9E%B8-%E1%9E%9B%E1%9E%80%E1%9F%8B%E1%9E%97%E1%9F%81%E1%9E%9F%E1%9E%87%E1%9F%92%E1%9E%87:/data=!4m7!3m6!1s0x44f1641065d83fb7:0xef581ec6ebbbaa33!8m2!3d11.5413126!4d104.9153897!16s%2Fg%2F11rd8rlh8j!19sChIJtz_YZRBk8UQRM6q768YeWO8?authuser=0&hl=km&rclk=1'}\n",
      "{'name': 'Wing Keo Somonin', 'url': 'https://www.google.com/maps/place/Wing+Keo+Somonin/data=!4m7!3m6!1s0x310951ca90aec6a9:0xa71601fb9de7d287!8m2!3d11.5745731!4d104.9000055!16s%2Fg%2F11t1f97csl!19sChIJqcaukMpRCTERh9LnnfsBFqc?authuser=0&hl=km&rclk=1'}\n",
      "{'name': 'គឹម ហៀកវីងវេរប្រាក់/Kim Heak Wing Agent', 'url': 'https://www.google.com/maps/place/%E1%9E%82%E1%9E%B9%E1%9E%98+%E1%9E%A0%E1%9F%80%E1%9E%80%E1%9E%9C%E1%9E%B8%E1%9E%84%E1%9E%9C%E1%9F%81%E1%9E%9A%E1%9E%94%E1%9F%92%E1%9E%9A%E1%9E%B6%E1%9E%80%E1%9F%8B%2FKim+Heak+Wing+Agent/data=!4m7!3m6!1s0x310951764800c893:0xd69655770cab0932!8m2!3d11.5291331!4d104.9284335!16s%2Fg%2F11n73k241k!19sChIJk8gASHZRCTERMgmrDHdVltY?authuser=0&hl=km&rclk=1'}\n",
      "{'name': 'ភ្នាក់ងារវីង ធារ៉ូ', 'url': 'https://www.google.com/maps/place/%E1%9E%97%E1%9F%92%E1%9E%93%E1%9E%B6%E1%9E%80%E1%9F%8B%E1%9E%84%E1%9E%B6%E1%9E%9A%E1%9E%9C%E1%9E%B8%E1%9E%84+%E1%9E%92%E1%9E%B6%E1%9E%9A%E1%9F%89%E1%9E%BC/data=!4m7!3m6!1s0x310951005af60827:0x206f0b65ba0b8001!8m2!3d11.5469211!4d104.8942496!16s%2Fg%2F11cn946lk3!19sChIJJwj2WgBRCTERAYALumULbyA?authuser=0&hl=km&rclk=1'}\n",
      "{'name': 'វីង', 'url': 'https://www.google.com/maps/place/%E1%9E%9C%E1%9E%B8%E1%9E%84/data=!4m7!3m6!1s0x310953e8787ca597:0x3de7fc15fad314e!8m2!3d11.5970432!4d104.9184346!16s%2Fg%2F11g_rdyk31!19sChIJl6V8eOhTCTERTjGtX8F_3gM?authuser=0&hl=km&rclk=1'}\n",
      "{'name': 'Wing យ៉ា សម្បត្តិ', 'url': 'https://www.google.com/maps/place/Wing+%E1%9E%99%E1%9F%89%E1%9E%B6+%E1%9E%9F%E1%9E%98%E1%9F%92%E1%9E%94%E1%9E%8F%E1%9F%92%E1%9E%8F%E1%9E%B7/data=!4m7!3m6!1s0x310951101fa6b441:0xf6395206d1f23098!8m2!3d11.5569605!4d104.9039556!16s%2Fg%2F11h6fm4jrd!19sChIJQbSmHxBRCTERmDDy0QZSOfY?authuser=0&hl=km&rclk=1'}\n",
      "{'name': 'កូននាថ វីងវេរលុយ', 'url': 'https://www.google.com/maps/place/%E1%9E%80%E1%9E%BC%E1%9E%93%E1%9E%93%E1%9E%B6%E1%9E%90+%E1%9E%9C%E1%9E%B8%E1%9E%84%E1%9E%9C%E1%9F%81%E1%9E%9A%E1%9E%9B%E1%9E%BB%E1%9E%99/data=!4m7!3m6!1s0x310953fc23c3ea23:0x40a948f364c400b4!8m2!3d11.5872568!4d104.9357794!16s%2Fg%2F11fprfj83n!19sChIJI-rDI_xTCTERtADEZPNIqUA?authuser=0&hl=km&rclk=1'}\n",
      "{'name': 'Wing Intraktevi', 'url': 'https://www.google.com/maps/place/Wing+Intraktevi/data=!4m7!3m6!1s0x310951ac81207ad5:0x81cfd933116e946c!8m2!3d11.5772356!4d104.8906957!16s%2Fg%2F11fszjbn5p!19sChIJ1XoggaxRCTERbJRuETPZz4E?authuser=0&hl=km&rclk=1'}\n",
      "{'name': 'Wing TSR', 'url': 'https://www.google.com/maps/place/Wing+TSR/data=!4m7!3m6!1s0x310951d781fe6ead:0x7e2f7cd203411ca!8m2!3d11.5648711!4d104.8871371!16s%2Fg%2F11k3rk2rp4!19sChIJrW7-gddRCTERyhE0IM334gc?authuser=0&hl=km&rclk=1'}\n",
      "{'name': 'វីង', 'url': 'https://www.google.com/maps/place/%E1%9E%9C%E1%9E%B8%E1%9E%84/data=!4m7!3m6!1s0x310950cb22191425:0x9a126d9153753a2b!8m2!3d11.523531!4d104.9375006!16s%2Fg%2F11h5s2rwnq!19sChIJJRQZIstQCTERKzp1U5FtEpo?authuser=0&hl=km&rclk=1'}\n",
      "{'name': 'ABA 24/7 - Phsar Thmey 2', 'url': 'https://www.google.com/maps/place/ABA+24%2F7+-+Phsar+Thmey+2/data=!4m7!3m6!1s0x310951bbf594710d:0x451e28f3db757fea!8m2!3d11.5691358!4d104.9187285!16s%2Fg%2F11vdr_m2fw!19sChIJDXGU9btRCTER6n912_MoHkU?authuser=0&hl=km&rclk=1'}\n",
      "{'name': 'Wing', 'url': 'https://www.google.com/maps/place/Wing/data=!4m7!3m6!1s0x310951a648e72d33:0x79c2974be780aed1!8m2!3d11.578445!4d104.8743782!16s%2Fg%2F11s892z5jy!19sChIJMy3nSKZRCTER0a6A50uXwnk?authuser=0&hl=km&rclk=1'}\n",
      "{'name': '1253', 'url': 'https://www.google.com/maps/place/1253/data=!4m7!3m6!1s0x310950b5ff285599:0x5c9e09b4f76c6e31!8m2!3d11.5204566!4d104.9334396!16s%2Fg%2F11fkc82ydw!19sChIJmVUo_7VQCTERMW5s97QJnlw?authuser=0&hl=km&rclk=1'}\n",
      "{'name': 'Soriya Wing', 'url': 'https://www.google.com/maps/place/Soriya+Wing/data=!4m7!3m6!1s0x310951232730bcd5:0x10bb28d93924316b!8m2!3d11.5350355!4d104.9279013!16s%2Fg%2F11jvhdc8lz!19sChIJ1bwwJyNRCTERazEkOdkouxA?authuser=0&hl=km&rclk=1'}\n",
      "{'name': 'ម៉ា លីនី (វីង)', 'url': 'https://www.google.com/maps/place/%E1%9E%98%E1%9F%89%E1%9E%B6+%E1%9E%9B%E1%9E%B8%E1%9E%93%E1%9E%B8+%28%E1%9E%9C%E1%9E%B8%E1%9E%84%29/data=!4m7!3m6!1s0x310950fd44a85dc1:0xe1a95338000d5ee1!8m2!3d11.5435918!4d104.9027599!16s%2Fg%2F11gwmsqx3d!19sChIJwV2oRP1QCTER4V4NADhTqeE?authuser=0&hl=km&rclk=1'}\n",
      "{'name': 'លី\\u200bលី វេលុយ', 'url': 'https://www.google.com/maps/place/%E1%9E%9B%E1%9E%B8%E2%80%8B%E1%9E%9B%E1%9E%B8+%E1%9E%9C%E1%9F%81%E1%9E%9B%E1%9E%BB%E1%9E%99/data=!4m7!3m6!1s0x310951147751d97f:0xdaf59345be67c0eb!8m2!3d11.5664049!4d104.9084271!16s%2Fg%2F11xhrrz3l!19sChIJf9lRdxRRCTER68BnvkWT9do?authuser=0&hl=km&rclk=1'}\n",
      "{'name': \"EANG SOVANN's Wing\", 'url': 'https://www.google.com/maps/place/EANG+SOVANN%27s+Wing/data=!4m7!3m6!1s0x3109519b9cc6efa7:0x61cd0dff502207e1!8m2!3d11.5608239!4d104.8728301!16s%2Fg%2F11sh79t943!19sChIJp-_GnJtRCTER4QciUP8NzWE?authuser=0&hl=km&rclk=1'}\n",
      "{'name': 'Wing', 'url': 'https://www.google.com/maps/place/Wing/data=!4m7!3m6!1s0x3109534e896af53d:0x222962fed6a8eccf!8m2!3d11.5960983!4d104.9136629!16s%2Fg%2F11rn78_yjh!19sChIJPfVqiU5TCTERz-yo1v5iKSI?authuser=0&hl=km&rclk=1'}\n",
      "{'name': 'សៀវ ហុង', 'url': 'https://www.google.com/maps/place/%E1%9E%9F%E1%9F%80%E1%9E%9C+%E1%9E%A0%E1%9E%BB%E1%9E%84/data=!4m7!3m6!1s0x31095717b619d97f:0xdd067c5eca52d8ee!8m2!3d11.52773!4d104.9637544!16s%2Fg%2F11h04lf7tx!19sChIJf9kZthdXCTER7thSyl58Bt0?authuser=0&hl=km&rclk=1'}\n",
      "{'name': 'EVA Wing', 'url': 'https://www.google.com/maps/place/EVA+Wing/data=!4m7!3m6!1s0x310951d2be2c1353:0xf07cd81d241df723!8m2!3d11.5810163!4d104.9191843!16s%2Fg%2F11fs7t3kv9!19sChIJUxMsvtJRCTERI_cdJB3YfPA?authuser=0&hl=km&rclk=1'}\n",
      "{'name': 'Wing Sokunthea', 'url': 'https://www.google.com/maps/place/Wing+Sokunthea/data=!4m7!3m6!1s0x310957d8da185e63:0xafec5bdecca3c1af!8m2!3d11.5343873!4d104.956315!16s%2Fg%2F11jgngww87!19sChIJY14Y2thXCTERr8GjzN5b7K8?authuser=0&hl=km&rclk=1'}\n",
      "{'name': 'Wing Kong Danet', 'url': 'https://www.google.com/maps/place/Wing+Kong+Danet/data=!4m7!3m6!1s0x310959f9ca3fe609:0x92715c9689f71610!8m2!3d11.48829!4d104.9420838!16s%2Fg%2F11c6cpyb_c!19sChIJCeY_yvlZCTEREBb3iZZccZI?authuser=0&hl=km&rclk=1'}\n",
      "{'name': 'ដាសុរះពជ', 'url': 'https://www.google.com/maps/place/%E1%9E%8A%E1%9E%B6%E1%9E%9F%E1%9E%BB%E1%9E%9A%E1%9F%87%E1%9E%96%E1%9E%87/data=!4m7!3m6!1s0x3109507aaa16e29b:0xa15b93e9fb32adbf!8m2!3d11.5124242!4d104.8822425!16s%2Fg%2F11h2lpn5dh!19sChIJm-IWqnpQCTERv60y--mTW6E?authuser=0&hl=km&rclk=1'}\n",
      "{'name': 'HongMeng Money Exchange, Wing', 'url': 'https://www.google.com/maps/place/HongMeng+Money+Exchange,+Wing/data=!4m7!3m6!1s0x3109513c07907b0b:0x99fa112eb1572bfa!8m2!3d11.5304192!4d104.90823!16s%2Fg%2F11rxncljk4!19sChIJC3uQBzxRCTER-itXsS4R-pk?authuser=0&hl=km&rclk=1'}\n",
      "{'name': 'មុយ លីម', 'url': 'https://www.google.com/maps/place/%E1%9E%98%E1%9E%BB%E1%9E%99+%E1%9E%9B%E1%9E%B8%E1%9E%98/data=!4m7!3m6!1s0x310950d2830f268b:0x8b7e9e421067c0c!8m2!3d11.5316199!4d104.9366667!16s%2Fg%2F11f03hkn3s!19sChIJiyYPg9JQCTERDHwGIeTptwg?authuser=0&hl=km&rclk=1'}\n",
      "{'name': 'Wing វីងម៉ាក់អូនមូន', 'url': 'https://www.google.com/maps/place/Wing+%E1%9E%9C%E1%9E%B8%E1%9E%84%E1%9E%98%E1%9F%89%E1%9E%B6%E1%9E%80%E1%9F%8B%E1%9E%A2%E1%9E%BC%E1%9E%93%E1%9E%98%E1%9E%BC%E1%9E%93/data=!4m7!3m6!1s0x31095167f9d6ec9b:0x7ac3e2d2621d16a4!8m2!3d11.5094215!4d104.851333!16s%2Fg%2F11lgknb1b9!19sChIJm-zW-WdRCTERpBYdYtLiw3o?authuser=0&hl=km&rclk=1'}\n",
      "{'name': 'Wing 215', 'url': 'https://www.google.com/maps/place/Wing+215/data=!4m7!3m6!1s0x310951d6e6bf84d5:0xa22c0947d11bfb60!8m2!3d11.5838776!4d104.8876563!16s%2Fg%2F11h7dsrxpn!19sChIJ1YS_5tZRCTERYPsb0UcJLKI?authuser=0&hl=km&rclk=1'}\n",
      "{'name': 'សួន សុផានី', 'url': 'https://www.google.com/maps/place/%E1%9E%9F%E1%9E%BD%E1%9E%93+%E1%9E%9F%E1%9E%BB%E1%9E%95%E1%9E%B6%E1%9E%93%E1%9E%B8/data=!4m7!3m6!1s0x3109571bf81fff6f:0x3cf685372375aee0!8m2!3d11.5356078!4d104.9689651!16s%2Fg%2F11fkc5fq4j!19sChIJb_8f-BtXCTER4K51IzeF9jw?authuser=0&hl=km&rclk=1'}\n",
      "{'name': 'Wing ថៃ ស្រេង', 'url': 'https://www.google.com/maps/place/Wing+%E1%9E%90%E1%9F%83+%E1%9E%9F%E1%9F%92%E1%9E%9A%E1%9F%81%E1%9E%84/data=!4m7!3m6!1s0x310950eff8db89e7:0x21f37993ff6af159!8m2!3d11.5330691!4d104.9042784!16s%2Fg%2F11h04f8t40!19sChIJ54nb-O9QCTERWfFq_5N58yE?authuser=0&hl=km&rclk=1'}\n",
      "{'name': 'Wing Pagna 99', 'url': 'https://www.google.com/maps/place/Wing+Pagna+99/data=!4m7!3m6!1s0x3109539c9c62d139:0x47f6904aa28e9cf1!8m2!3d11.6109146!4d104.8963136!16s%2Fg%2F11h3x4jqxh!19sChIJOdFinJxTCTER8ZyOokqQ9kc?authuser=0&hl=km&rclk=1'}\n",
      "{'name': 'Wing Bank RGPPSEZ Branch', 'url': 'https://www.google.com/maps/place/Wing+Bank+RGPPSEZ+Branch/data=!4m7!3m6!1s0x31094f22d20b9e7f:0xef0f197363e347da!8m2!3d11.5174559!4d104.7797186!16s%2Fg%2F11sjzrnd1f!19sChIJf54L0iJPCTER2kfjY3MZD-8?authuser=0&hl=km&rclk=1'}\n",
      "{'name': 'វុឌ្ឍី វឌ្ឍនៈពេជ្រ Wing', 'url': 'https://www.google.com/maps/place/%E1%9E%9C%E1%9E%BB%E1%9E%8C%E1%9F%92%E1%9E%8D%E1%9E%B8+%E1%9E%9C%E1%9E%8C%E1%9F%92%E1%9E%8D%E1%9E%93%E1%9F%88%E1%9E%96%E1%9F%81%E1%9E%87%E1%9F%92%E1%9E%9A+Wing/data=!4m7!3m6!1s0x310951ac4ca7e023:0xb1ac0903f370ad2a!8m2!3d11.5525979!4d104.8988705!16s%2Fg%2F11fkdnlfg2!19sChIJI-CnTKxRCTERKq1w8wMJrLE?authuser=0&hl=km&rclk=1'}\n"
     ]
    }
   ],
   "source": [
    "from selenium import webdriver\n",
    "from selenium.webdriver.chrome.service import Service\n",
    "from selenium.webdriver.chrome.options import Options\n",
    "from selenium.webdriver.common.by import By\n",
    "from selenium.webdriver.common.keys import Keys\n",
    "from webdriver_manager.chrome import ChromeDriverManager\n",
    "from bs4 import BeautifulSoup\n",
    "import time\n",
    "\n",
    "# Set up the webdriver\n",
    "options = Options()\n",
    "options.add_argument(\"--headless\")  # Run in headless mode\n",
    "options.add_argument(\"--disable-gpu\")\n",
    "options.add_argument(\"--window-size=1920,1080\")\n",
    "\n",
    "driver = webdriver.Chrome(service=Service(ChromeDriverManager().install()), options=options)\n",
    "\n",
    "# Open the Google Maps search URL\n",
    "initial_url = 'https://www.google.com/maps/search/wing+bank/@11.5448396,104.9172591,16z/data=!3m1!4b1?entry=ttu&g_ep=EgoyMDI1MDYwOC4wIKXMDSoASAFQAw%3D%3D'\n",
    "driver.get(initial_url)\n",
    "time.sleep(5)  # Allow the page to load\n",
    "\n",
    "# Scroll to load more locations\n",
    "scrollable_div = driver.find_element(By.CSS_SELECTOR, 'div[role=\"feed\"]')\n",
    "\n",
    "last_height = driver.execute_script(\"return arguments[0].scrollHeight;\", scrollable_div)\n",
    "\n",
    "while True:\n",
    "    driver.execute_script(\"arguments[0].scrollTop = arguments[0].scrollHeight;\", scrollable_div)\n",
    "    time.sleep(5)  # Wait for new data to load\n",
    "\n",
    "    new_height = driver.execute_script(\"return arguments[0].scrollHeight;\", scrollable_div)\n",
    "    if new_height == last_height:  # Stop when no new data loads\n",
    "        break\n",
    "    last_height = new_height\n",
    "\n",
    "# Parse the final loaded page with BeautifulSoup\n",
    "soup = BeautifulSoup(driver.page_source, \"html.parser\")\n",
    "\n",
    "# Extract branch details from <a> elements\n",
    "branch_data = []\n",
    "branches = soup.find_all(\"a\", class_=\"hfpxzc\")\n",
    "\n",
    "for branch in branches:\n",
    "    name = branch.get(\"aria-label\", \"\").strip()\n",
    "    url = branch.get(\"href\", \"\").strip()\n",
    "\n",
    "    if name and url:\n",
    "        branch_data.append({\"name\": name, \"url\": url})\n",
    "\n",
    "# Print extracted data\n",
    "for branch in branch_data:\n",
    "    print(branch)\n",
    "\n",
    "# Close the browser\n",
    "driver.quit()\n"
   ]
  },
  {
   "cell_type": "code",
   "execution_count": 2,
   "metadata": {},
   "outputs": [
    {
     "name": "stdout",
     "output_type": "stream",
     "text": [
      "Final URL: https://www.google.com/maps/place/%E1%9E%92%E1%9E%93%E1%9E%B6%E1%9E%82%E1%9E%B6%E1%9E%9A+%E1%9E%9C%E1%9E%B8%E1%9E%84/@11.5450455,104.9220433,17z/data=!3m1!4b1!4m6!3m5!1s0x310951b4a7932771:0x92b91cedd6a051c9!8m2!3d11.5450455!4d104.9220433!16s%2Fg%2F11s8qvl8f9?authuser=0&hl=km&entry=ttu&g_ep=EgoyMDI1MDYwOC4wIKXMDSoASAFQAw%3D%3D\n",
      "Final URL: https://www.google.com/maps/place/Wing+Bank+Beoung+Trobek+Branch/@11.5417205,104.9225463,17z/data=!3m1!4b1!4m6!3m5!1s0x310951009dc466f7:0x981af35d8cfcf099!8m2!3d11.5417205!4d104.9225463!16s%2Fg%2F11tnxlz535?authuser=0&hl=km&entry=ttu&g_ep=EgoyMDI1MDYwOC4wIKXMDSoASAFQAw%3D%3D\n",
      "Final URL: https://www.google.com/maps/place/Wing+Bank+Independence+Monument+Branch/@11.5557996,104.9240568,17z/data=!4m6!3m5!1s0x310951a3c4fe5457:0x623848438f3274e6!8m2!3d11.5557996!4d104.9240568!16s%2Fg%2F11v0bzfllr?authuser=0&hl=km&entry=ttu&g_ep=EgoyMDI1MDYwOC4wIKXMDSoASAFQAw%3D%3D\n",
      "Final URL: https://www.google.com/maps/place/Wing+Bank+Wat+Phnom+Branch/@11.5712454,104.9202109,17z/data=!4m6!3m5!1s0x31095131508281ff:0xb4240066f0b2607c!8m2!3d11.5712454!4d104.9202109!16s%2Fg%2F11kpth7p4g?authuser=0&hl=km&entry=ttu&g_ep=EgoyMDI1MDYwOC4wIKXMDSoASAFQAw%3D%3D\n",
      "Final URL: https://www.google.com/maps/place/Wing+Bank+Preah+Yukunthor+Branch/@11.5560078,104.9191052,17z/data=!4m6!3m5!1s0x31095162b559430d:0x73711473098147cd!8m2!3d11.5560078!4d104.9191052!16s%2Fg%2F11kqg4007q?authuser=0&hl=km&entry=ttu&g_ep=EgoyMDI1MDYwOC4wIKXMDSoASAFQAw%3D%3D\n",
      "Final URL: https://www.google.com/maps/place/Wing+Prum+SAMBAT+310/@11.5507223,104.9188757,17z/data=!4m6!3m5!1s0x31095168ad7a034f:0x320e909d5427c372!8m2!3d11.5507223!4d104.9188757!16s%2Fg%2F11f62mgx3k?authuser=0&hl=km&entry=ttu&g_ep=EgoyMDI1MDYwOC4wIKXMDSoASAFQAw%3D%3D\n",
      "Final URL: https://www.google.com/maps/place/%E1%9E%A2%E1%9E%B6%E1%9E%82%E1%9E%B6%E1%9E%9A%E2%80%8B%E1%9E%92%E1%9E%93%E1%9E%B6%E1%9E%82%E1%9E%B6%E1%9E%9A%E2%80%8B%E1%9E%9C%E1%9E%B8%E1%9E%84/@11.5690947,104.9184667,17z/data=!4m6!3m5!1s0x3109514d44a17f07:0xb4fb91fb850f4003!8m2!3d11.5690947!4d104.9184667!16s%2Fg%2F11stpst42c?authuser=0&hl=km&entry=ttu&g_ep=EgoyMDI1MDYwOC4wIKXMDSoASAFQAw%3D%3D\n",
      "Final URL: https://www.google.com/maps/place/%E1%9E%9C%E1%9E%B7%E1%9E%94+%E1%9E%81%E1%9F%81%E1%9E%98%E1%9E%94%E1%9E%BC%E1%9E%8C%E1%9E%B6%E1%9E%9C%E1%9E%B8%E1%9E%84+Web+Cambodia+Wing/@11.5664007,104.9188569,17z/data=!4m6!3m5!1s0x3109514a8d4d6d65:0xe8bce1e0f178cd3a!8m2!3d11.5664007!4d104.9188569!16s%2Fg%2F11gsbqhd9z?authuser=0&hl=km&entry=ttu&g_ep=EgoyMDI1MDYwOC4wIKXMDSoASAFQAw%3D%3D\n",
      "Final URL: https://www.google.com/maps/place/Wing+Money+(%E1%9E%9B%E1%9E%B9%E1%9E%98%E1%9E%9F%E1%9E%BB%E1%9E%84%E2%80%8B+%E2%80%8B88)/@11.5510763,104.9208951,17z/data=!4m6!3m5!1s0x310951c6cf57de9b:0x5bea7de9e516a6fa!8m2!3d11.5510763!4d104.9208951!16s%2Fg%2F11m2q8pp29?authuser=0&hl=km&entry=ttu&g_ep=EgoyMDI1MDYwOC4wIKXMDSoASAFQAw%3D%3D\n",
      "Final URL: https://www.google.com/maps/place/Wing+sokleap/@11.5517591,104.9113595,17z/data=!4m6!3m5!1s0x3109517d4748b783:0x8c75902d353ee786!8m2!3d11.5517591!4d104.9113595!16s%2Fg%2F11h5rwk3z9?authuser=0&hl=km&entry=ttu&g_ep=EgoyMDI1MDYwOC4wIKXMDSoASAFQAw%3D%3D\n",
      "Final URL: https://www.google.com/maps/place/Ie+Meynea+Wing+Agency/@11.5538534,104.9090214,17z/data=!3m1!4b1!4m6!3m5!1s0x310951ddc683e239:0xcb5a38c3b9a90d98!8m2!3d11.5538534!4d104.9090214!16s%2Fg%2F11gkslnprc?authuser=0&hl=km&entry=ttu&g_ep=EgoyMDI1MDYwOC4wIKXMDSoASAFQAw%3D%3D\n",
      "Final URL: https://www.google.com/maps/place/Wing+Bank+Tuol+Kouk+Branch/@11.5784337,104.899991,17z/data=!4m6!3m5!1s0x310953b3dfcfda03:0xfcfe33f917dec344!8m2!3d11.5784337!4d104.899991!16s%2Fg%2F11st_y9_7q?authuser=0&hl=km&entry=ttu&g_ep=EgoyMDI1MDYwOC4wIKXMDSoASAFQAw%3D%3D\n",
      "Final URL: https://www.google.com/maps/place/LomOr+Wing/@11.5388821,104.9203244,17z/data=!3m1!4b1!4m6!3m5!1s0x310951c7358c74bf:0xee6b2f2a9793b2f3!8m2!3d11.5388821!4d104.9203244!16s%2Fg%2F11gyyxgkc6?authuser=0&hl=km&entry=ttu&g_ep=EgoyMDI1MDYwOC4wIKXMDSoASAFQAw%3D%3D\n",
      "Final URL: https://www.google.com/maps/place/Wing+Bank+by+Dina+Sereyvuth/@11.5405807,104.9139429,17z/data=!3m1!4b1!4m6!3m5!1s0x3109511a55965c79:0x9c0371427ad5f21d!8m2!3d11.5405807!4d104.9139429!16s%2Fg%2F11m_h0x511?authuser=0&hl=km&entry=ttu&g_ep=EgoyMDI1MDYwOC4wIKXMDSoASAFQAw%3D%3D\n",
      "Final URL: https://www.google.com/maps/place/%E1%9E%87%E1%9E%B8%E1%9E%94+%E1%9E%9F%E1%9F%92%E1%9E%9A%E1%9F%81%E1%9E%84+%E1%9E%A0%E1%9E%B6%E1%9E%84%E2%80%8B%E1%9E%9B%E1%9E%80%E1%9F%8B%E2%80%8B%E1%9E%91%E1%9E%BC%E1%9E%9A%E1%9E%9F%E1%9F%90%E1%9E%96%E1%9F%92%E1%9E%91+(Wing+)/@11.5677421,104.9208168,17z/data=!3m1!4b1!4m6!3m5!1s0x3109514171bb8061:0x92dc6c93ac32376d!8m2!3d11.5677421!4d104.9208168!16s%2Fg%2F11p9m00dmn?authuser=0&hl=km&entry=ttu&g_ep=EgoyMDI1MDYwOC4wIKXMDSoASAFQAw%3D%3D\n",
      "Final URL: https://www.google.com/maps/place/Wing/@11.5798666,104.9207572,17z/data=!4m6!3m5!1s0x3109510cb181499f:0xaa288ef267ff09d7!8m2!3d11.5798666!4d104.9207572!16s%2Fg%2F11f5vb3y86?authuser=0&hl=km&entry=ttu&g_ep=EgoyMDI1MDYwOC4wIKXMDSoASAFQAw%3D%3D\n",
      "Final URL: https://www.google.com/maps/place/Wing+Bank+Orkide+2004+Branch/@11.5519805,104.8763838,17z/data=!4m6!3m5!1s0x3109515aa7782f19:0x93e257f757c6c738!8m2!3d11.5519805!4d104.8763838!16s%2Fg%2F11khs4bk70?authuser=0&hl=km&entry=ttu&g_ep=EgoyMDI1MDYwOC4wIKXMDSoASAFQAw%3D%3D\n",
      "Final URL: https://www.google.com/maps/place/%E1%9E%9F%E1%9E%B6%E1%9E%98%E1%9E%BB%E1%9F%86+WING/@11.5368914,104.9107376,17z/data=!4m6!3m5!1s0x310951b16bd5004d:0xc14ef5e84eaf299!8m2!3d11.5368914!4d104.9107376!16s%2Fg%2F11jt3l8p6x?authuser=0&hl=km&entry=ttu&g_ep=EgoyMDI1MDYwOC4wIKXMDSoASAFQAw%3D%3D\n",
      "Final URL: https://www.google.com/maps/place/%E1%9E%9C%E1%9E%B8%E1%9E%84/@11.5633622,104.9163346,17z/data=!4m6!3m5!1s0x3109513fce12f83f:0xdf626737c9860f73!8m2!3d11.5633622!4d104.9163346!16s%2Fg%2F11h0vz690c?authuser=0&hl=km&entry=ttu&g_ep=EgoyMDI1MDYwOC4wIKXMDSoASAFQAw%3D%3D\n",
      "Final URL: https://www.google.com/maps/place/Wing+Lucky+Shop/@11.5547171,104.9231109,17z/data=!4m6!3m5!1s0x3109513b312fed87:0xfd61540e8ff89515!8m2!3d11.5547171!4d104.9231109!16s%2Fg%2F11gbl4c2_j?authuser=0&hl=km&entry=ttu&g_ep=EgoyMDI1MDYwOC4wIKXMDSoASAFQAw%3D%3D\n",
      "Final URL: https://www.google.com/maps/place/Wing+Kim+Chetha/@11.5630693,104.9146718,17z/data=!4m6!3m5!1s0x310951fce24833ab:0x7fa7088bdf1f8aab!8m2!3d11.5630693!4d104.9146718!16s%2Fg%2F11fndvsb3q?authuser=0&hl=km&entry=ttu&g_ep=EgoyMDI1MDYwOC4wIKXMDSoASAFQAw%3D%3D\n",
      "Final URL: https://www.google.com/maps/place/Wing/@11.5798666,104.9207572,17z/data=!3m1!4b1!4m6!3m5!1s0x3109510cb181499f:0xaa288ef267ff09d7!8m2!3d11.5798666!4d104.9207572!16s%2Fg%2F11f5vb3y86?authuser=0&hl=km&entry=ttu&g_ep=EgoyMDI1MDYwOC4wIKXMDSoASAFQAw%3D%3D\n",
      "Final URL: https://www.google.com/maps/place/Monika+Wings+%26+Beverage/@11.5547425,104.9317498,17z/data=!4m6!3m5!1s0x31095131e91c8177:0x9b663279c685356c!8m2!3d11.5547425!4d104.9317498!16s%2Fg%2F11f2wc4ryd?authuser=0&hl=km&entry=ttu&g_ep=EgoyMDI1MDYwOC4wIKXMDSoASAFQAw%3D%3D\n",
      "Final URL: https://www.google.com/maps/place/Wing+Bank+Saensokh+Branch/@11.603237,104.8856922,17z/data=!4m6!3m5!1s0x310953cab27ab3af:0x3f340632f1e0ba6b!8m2!3d11.603237!4d104.8856922!16s%2Fg%2F11sv38n_dr?authuser=0&hl=km&entry=ttu&g_ep=EgoyMDI1MDYwOC4wIKXMDSoASAFQAw%3D%3D\n",
      "Final URL: https://www.google.com/maps/place/Kim+Cheng+Wing+Money+Transfer/@11.562538,104.9176193,17z/data=!3m1!4b1!4m6!3m5!1s0x310951d1556588e3:0x61ca423c095674a0!8m2!3d11.562538!4d104.9176193!16s%2Fg%2F11h1y5c1qx?authuser=0&hl=km&entry=ttu&g_ep=EgoyMDI1MDYwOC4wIKXMDSoASAFQAw%3D%3D\n",
      "Final URL: https://www.google.com/maps/place/Wcx+Kaing+Kimsan/@11.5566811,104.9072282,17z/data=!4m6!3m5!1s0x3109517f04869929:0xd16fc88ba0f3240d!8m2!3d11.5566811!4d104.9072282!16s%2Fg%2F11hyflcbyd?authuser=0&hl=km&entry=ttu&g_ep=EgoyMDI1MDYwOC4wIKXMDSoASAFQAw%3D%3D\n",
      "Final URL: https://www.google.com/maps/place/%E1%9E%9F%E1%9F%86%E1%9E%8E%E1%9E%B6%E1%9E%84+%E1%9E%93%E1%9E%B7%E1%9E%98%E1%9E%9B+(360)/@11.5691385,104.9275326,17z/data=!4m6!3m5!1s0x310951489f28e235:0x67b797c6a5b1f872!8m2!3d11.5691385!4d104.9275326!16s%2Fg%2F11fk54jcnr?authuser=0&hl=km&entry=ttu&g_ep=EgoyMDI1MDYwOC4wIKXMDSoASAFQAw%3D%3D\n",
      "Final URL: https://www.google.com/maps/place/Wing+TK/@11.5840813,104.8989252,17z/data=!3m1!4b1!4m6!3m5!1s0x3109517c11a9ff4d:0x46b493e729fcbc2e!8m2!3d11.5840813!4d104.8989252!16s%2Fg%2F11f2drpmzt?authuser=0&hl=km&entry=ttu&g_ep=EgoyMDI1MDYwOC4wIKXMDSoASAFQAw%3D%3D\n",
      "Final URL: https://www.google.com/maps/place/%E1%9E%9C%E1%9E%B8%E1%9E%93%E1%9E%9A%E1%9E%98%E1%9F%92%E1%9E%99%E1%9E%93%E1%9E%B6/@11.5623154,104.8968802,17z/data=!3m1!4b1!4m6!3m5!1s0x3109510bebf16fa5:0x331927cf8982ca42!8m2!3d11.5623154!4d104.8968802!16s%2Fg%2F11fkp_y7yh?authuser=0&hl=km&entry=ttu&g_ep=EgoyMDI1MDYwOC4wIKXMDSoASAFQAw%3D%3D\n",
      "Final URL: https://www.google.com/maps/place/HengHuy+Wing/@11.5575011,104.905114,17z/data=!3m1!4b1!4m6!3m5!1s0x9c6e50f70eddd93:0xb72b743cdf13c22!8m2!3d11.5575011!4d104.905114!16s%2Fg%2F11m68mdkn7?authuser=0&hl=km&entry=ttu&g_ep=EgoyMDI1MDYwOC4wIKXMDSoASAFQAw%3D%3D\n",
      "Final URL: https://www.google.com/maps/place/%E1%9E%92%E1%9E%93%E1%9E%B6%E1%9E%82%E1%9E%B6%E1%9E%9A%E2%80%8B%E1%9E%9F%E1%9F%92%E1%9E%90%E1%9E%B6%E1%9E%94%E1%9E%93%E1%9E%B6%E2%80%8B/@11.5661322,104.9252393,17z/data=!4m6!3m5!1s0x3109513831186ef3:0x274621ea6bdaa137!8m2!3d11.5661322!4d104.9252393!16s%2Fg%2F1tf6ttzg?authuser=0&hl=km&entry=ttu&g_ep=EgoyMDI1MDYwOC4wIKXMDSoASAFQAw%3D%3D\n",
      "Final URL: https://www.google.com/maps/place/%E1%9E%9C%E1%9E%B8%E1%9E%84/@11.5914498,104.8982422,17z/data=!3m1!4b1!4m6!3m5!1s0x310953d67e363773:0xfe54cd9cd277e6bd!8m2!3d11.5914498!4d104.8982422!16s%2Fg%2F11h6d6314c?authuser=0&hl=km&entry=ttu&g_ep=EgoyMDI1MDYwOC4wIKXMDSoASAFQAw%3D%3D\n",
      "Final URL: https://www.google.com/maps/place/%E1%9E%95%E1%9F%92%E1%9E%91%E1%9F%87%E1%9E%9B%E1%9F%81%E1%9E%81+%E1%9F%A0%E1%9F%A9+Wing/@11.5727522,104.8996345,17z/data=!3m1!4b1!4m6!3m5!1s0x3109517167ae7011:0x86b7b5c9a7ccda3e!8m2!3d11.5727522!4d104.8996345!16s%2Fg%2F11h080jzrn?authuser=0&hl=km&entry=ttu&g_ep=EgoyMDI1MDYwOC4wIKXMDSoASAFQAw%3D%3D\n",
      "Final URL: https://www.google.com/maps/place/%E1%9E%9C%E1%9E%B8%E1%9E%84-%E1%9E%9F%E1%9E%BC+%E1%9E%8A%E1%9E%B6%E1%9E%93%E1%9E%B8-%E1%9E%9B%E1%9E%80%E1%9F%8B%E1%9E%97%E1%9F%81%E1%9E%9F%E1%9E%87%E1%9F%92%E1%9E%87:/@11.5413126,104.9153897,17z/data=!3m1!4b1!4m6!3m5!1s0x44f1641065d83fb7:0xef581ec6ebbbaa33!8m2!3d11.5413126!4d104.9153897!16s%2Fg%2F11rd8rlh8j?authuser=0&hl=km&entry=ttu&g_ep=EgoyMDI1MDYwOC4wIKXMDSoASAFQAw%3D%3D\n",
      "Final URL: https://www.google.com/maps/place/Wing+Keo+Somonin/@11.5745731,104.9000055,17z/data=!4m6!3m5!1s0x310951ca90aec6a9:0xa71601fb9de7d287!8m2!3d11.5745731!4d104.9000055!16s%2Fg%2F11t1f97csl?authuser=0&hl=km&entry=ttu&g_ep=EgoyMDI1MDYwOC4wIKXMDSoASAFQAw%3D%3D\n",
      "Final URL: https://www.google.com/maps/place/%E1%9E%82%E1%9E%B9%E1%9E%98+%E1%9E%A0%E1%9F%80%E1%9E%80%E1%9E%9C%E1%9E%B8%E1%9E%84%E1%9E%9C%E1%9F%81%E1%9E%9A%E1%9E%94%E1%9F%92%E1%9E%9A%E1%9E%B6%E1%9E%80%E1%9F%8B%2FKim+Heak+Wing+Agent/@11.5291331,104.9284335,17z/data=!4m6!3m5!1s0x310951764800c893:0xd69655770cab0932!8m2!3d11.5291331!4d104.9284335!16s%2Fg%2F11n73k241k?authuser=0&hl=km&entry=ttu&g_ep=EgoyMDI1MDYwOC4wIKXMDSoASAFQAw%3D%3D\n",
      "Final URL: https://www.google.com/maps/place/%E1%9E%97%E1%9F%92%E1%9E%93%E1%9E%B6%E1%9E%80%E1%9F%8B%E1%9E%84%E1%9E%B6%E1%9E%9A%E1%9E%9C%E1%9E%B8%E1%9E%84+%E1%9E%92%E1%9E%B6%E1%9E%9A%E1%9F%89%E1%9E%BC/@11.5469211,104.8942496,17z/data=!4m6!3m5!1s0x310951005af60827:0x206f0b65ba0b8001!8m2!3d11.5469211!4d104.8942496!16s%2Fg%2F11cn946lk3?authuser=0&hl=km&entry=ttu&g_ep=EgoyMDI1MDYwOC4wIKXMDSoASAFQAw%3D%3D\n",
      "Final URL: https://www.google.com/maps/place/%E1%9E%9C%E1%9E%B8%E1%9E%84/@11.5970432,104.9184346,17z/data=!4m6!3m5!1s0x310953e8787ca597:0x3de7fc15fad314e!8m2!3d11.5970432!4d104.9184346!16s%2Fg%2F11g_rdyk31?authuser=0&hl=km&entry=ttu&g_ep=EgoyMDI1MDYwOC4wIKXMDSoASAFQAw%3D%3D\n",
      "Final URL: https://www.google.com/maps/place/Wing+%E1%9E%99%E1%9F%89%E1%9E%B6+%E1%9E%9F%E1%9E%98%E1%9F%92%E1%9E%94%E1%9E%8F%E1%9F%92%E1%9E%8F%E1%9E%B7/@11.5569605,104.9039556,17z/data=!4m6!3m5!1s0x310951101fa6b441:0xf6395206d1f23098!8m2!3d11.5569605!4d104.9039556!16s%2Fg%2F11h6fm4jrd?authuser=0&hl=km&entry=ttu&g_ep=EgoyMDI1MDYwOC4wIKXMDSoASAFQAw%3D%3D\n",
      "Final URL: https://www.google.com/maps/place/%E1%9E%80%E1%9E%BC%E1%9E%93%E1%9E%93%E1%9E%B6%E1%9E%90+%E1%9E%9C%E1%9E%B8%E1%9E%84%E1%9E%9C%E1%9F%81%E1%9E%9A%E1%9E%9B%E1%9E%BB%E1%9E%99/@11.5872568,104.9357794,17z/data=!4m6!3m5!1s0x310953fc23c3ea23:0x40a948f364c400b4!8m2!3d11.5872568!4d104.9357794!16s%2Fg%2F11fprfj83n?authuser=0&hl=km&entry=ttu&g_ep=EgoyMDI1MDYwOC4wIKXMDSoASAFQAw%3D%3D\n",
      "Final URL: https://www.google.com/maps/place/Wing+Intraktevi/@11.5772356,104.8906957,17z/data=!4m6!3m5!1s0x310951ac81207ad5:0x81cfd933116e946c!8m2!3d11.5772356!4d104.8906957!16s%2Fg%2F11fszjbn5p?authuser=0&hl=km&entry=ttu&g_ep=EgoyMDI1MDYwOC4wIKXMDSoASAFQAw%3D%3D\n",
      "Final URL: https://www.google.com/maps/place/Wing+TSR/@11.5648711,104.8871371,17z/data=!4m6!3m5!1s0x310951d781fe6ead:0x7e2f7cd203411ca!8m2!3d11.5648711!4d104.8871371!16s%2Fg%2F11k3rk2rp4?authuser=0&hl=km&entry=ttu&g_ep=EgoyMDI1MDYwOC4wIKXMDSoASAFQAw%3D%3D\n",
      "Final URL: https://www.google.com/maps/place/%E1%9E%9C%E1%9E%B8%E1%9E%84/@11.523531,104.9375006,17z/data=!4m6!3m5!1s0x310950cb22191425:0x9a126d9153753a2b!8m2!3d11.523531!4d104.9375006!16s%2Fg%2F11h5s2rwnq?authuser=0&hl=km&entry=ttu&g_ep=EgoyMDI1MDYwOC4wIKXMDSoASAFQAw%3D%3D\n",
      "Final URL: https://www.google.com/maps/place/ABA+24%2F7+-+Phsar+Thmey+2/@11.5691358,104.9187285,17z/data=!4m6!3m5!1s0x310951bbf594710d:0x451e28f3db757fea!8m2!3d11.5691358!4d104.9187285!16s%2Fg%2F11vdr_m2fw?authuser=0&hl=km&entry=ttu&g_ep=EgoyMDI1MDYwOC4wIKXMDSoASAFQAw%3D%3D\n",
      "Final URL: https://www.google.com/maps/place/Wing/@11.578445,104.8743782,17z/data=!4m6!3m5!1s0x310951a648e72d33:0x79c2974be780aed1!8m2!3d11.578445!4d104.8743782!16s%2Fg%2F11s892z5jy?authuser=0&hl=km&entry=ttu&g_ep=EgoyMDI1MDYwOC4wIKXMDSoASAFQAw%3D%3D\n",
      "Final URL: https://www.google.com/maps/place/1253/@11.5204566,104.9334396,17z/data=!4m6!3m5!1s0x310950b5ff285599:0x5c9e09b4f76c6e31!8m2!3d11.5204566!4d104.9334396!16s%2Fg%2F11fkc82ydw?authuser=0&hl=km&entry=ttu&g_ep=EgoyMDI1MDYwOC4wIKXMDSoASAFQAw%3D%3D\n",
      "Final URL: https://www.google.com/maps/place/Soriya+Wing/@11.5350355,104.9279013,17z/data=!4m6!3m5!1s0x310951232730bcd5:0x10bb28d93924316b!8m2!3d11.5350355!4d104.9279013!16s%2Fg%2F11jvhdc8lz?authuser=0&hl=km&entry=ttu&g_ep=EgoyMDI1MDYwOC4wIKXMDSoASAFQAw%3D%3D\n",
      "Final URL: https://www.google.com/maps/place/%E1%9E%98%E1%9F%89%E1%9E%B6+%E1%9E%9B%E1%9E%B8%E1%9E%93%E1%9E%B8+(%E1%9E%9C%E1%9E%B8%E1%9E%84)/@11.5435918,104.9027599,17z/data=!4m6!3m5!1s0x310950fd44a85dc1:0xe1a95338000d5ee1!8m2!3d11.5435918!4d104.9027599!16s%2Fg%2F11gwmsqx3d?authuser=0&hl=km&entry=ttu&g_ep=EgoyMDI1MDYwOC4wIKXMDSoASAFQAw%3D%3D\n",
      "Final URL: https://www.google.com/maps/place/%E1%9E%9B%E1%9E%B8%E2%80%8B%E1%9E%9B%E1%9E%B8+%E1%9E%9C%E1%9F%81%E1%9E%9B%E1%9E%BB%E1%9E%99/@11.5664049,104.9084271,17z/data=!4m6!3m5!1s0x310951147751d97f:0xdaf59345be67c0eb!8m2!3d11.5664049!4d104.9084271!16s%2Fg%2F11xhrrz3l?authuser=0&hl=km&entry=ttu&g_ep=EgoyMDI1MDYwOC4wIKXMDSoASAFQAw%3D%3D\n",
      "Final URL: https://www.google.com/maps/place/EANG+SOVANN's+Wing/@11.5608239,104.8728301,17z/data=!4m6!3m5!1s0x3109519b9cc6efa7:0x61cd0dff502207e1!8m2!3d11.5608239!4d104.8728301!16s%2Fg%2F11sh79t943?authuser=0&hl=km&entry=ttu&g_ep=EgoyMDI1MDYwOC4wIKXMDSoASAFQAw%3D%3D\n",
      "Final URL: https://www.google.com/maps/place/Wing/@11.5960983,104.9136629,17z/data=!4m6!3m5!1s0x3109534e896af53d:0x222962fed6a8eccf!8m2!3d11.5960983!4d104.9136629!16s%2Fg%2F11rn78_yjh?authuser=0&hl=km&entry=ttu&g_ep=EgoyMDI1MDYwOC4wIKXMDSoASAFQAw%3D%3D\n",
      "Final URL: https://www.google.com/maps/place/%E1%9E%9F%E1%9F%80%E1%9E%9C+%E1%9E%A0%E1%9E%BB%E1%9E%84/@11.52773,104.9637544,17z/data=!3m1!4b1!4m6!3m5!1s0x31095717b619d97f:0xdd067c5eca52d8ee!8m2!3d11.52773!4d104.9637544!16s%2Fg%2F11h04lf7tx?authuser=0&hl=km&entry=ttu&g_ep=EgoyMDI1MDYwOC4wIKXMDSoASAFQAw%3D%3D\n",
      "Final URL: https://www.google.com/maps/place/EVA+Wing/@11.5810163,104.9191843,17z/data=!4m6!3m5!1s0x310951d2be2c1353:0xf07cd81d241df723!8m2!3d11.5810163!4d104.9191843!16s%2Fg%2F11fs7t3kv9?authuser=0&hl=km&entry=ttu&g_ep=EgoyMDI1MDYwOC4wIKXMDSoASAFQAw%3D%3D\n",
      "Final URL: https://www.google.com/maps/place/Wing+Sokunthea/@11.5343873,104.956315,17z/data=!4m6!3m5!1s0x310957d8da185e63:0xafec5bdecca3c1af!8m2!3d11.5343873!4d104.956315!16s%2Fg%2F11jgngww87?authuser=0&hl=km&entry=ttu&g_ep=EgoyMDI1MDYwOC4wIKXMDSoASAFQAw%3D%3D\n",
      "Final URL: https://www.google.com/maps/place/Wing+Kong+Danet/@11.48829,104.9420838,17z/data=!4m6!3m5!1s0x310959f9ca3fe609:0x92715c9689f71610!8m2!3d11.48829!4d104.9420838!16s%2Fg%2F11c6cpyb_c?authuser=0&hl=km&entry=ttu&g_ep=EgoyMDI1MDYwOC4wIKXMDSoASAFQAw%3D%3D\n",
      "Final URL: https://www.google.com/maps/place/%E1%9E%8A%E1%9E%B6%E1%9E%9F%E1%9E%BB%E1%9E%9A%E1%9F%87%E1%9E%96%E1%9E%87/@11.5124242,104.8822425,17z/data=!4m6!3m5!1s0x3109507aaa16e29b:0xa15b93e9fb32adbf!8m2!3d11.5124242!4d104.8822425!16s%2Fg%2F11h2lpn5dh?authuser=0&hl=km&entry=ttu&g_ep=EgoyMDI1MDYwOC4wIKXMDSoASAFQAw%3D%3D\n",
      "Final URL: https://www.google.com/maps/place/HongMeng+Money+Exchange,+Wing/@11.5304192,104.90823,17z/data=!4m6!3m5!1s0x3109513c07907b0b:0x99fa112eb1572bfa!8m2!3d11.5304192!4d104.90823!16s%2Fg%2F11rxncljk4?authuser=0&hl=km&entry=ttu&g_ep=EgoyMDI1MDYwOC4wIKXMDSoASAFQAw%3D%3D\n",
      "Final URL: https://www.google.com/maps/place/%E1%9E%98%E1%9E%BB%E1%9E%99+%E1%9E%9B%E1%9E%B8%E1%9E%98/@11.5316199,104.9366667,17z/data=!4m6!3m5!1s0x310950d2830f268b:0x8b7e9e421067c0c!8m2!3d11.5316199!4d104.9366667!16s%2Fg%2F11f03hkn3s?authuser=0&hl=km&entry=ttu&g_ep=EgoyMDI1MDYwOC4wIKXMDSoASAFQAw%3D%3D\n",
      "Final URL: https://www.google.com/maps/place/Wing+%E1%9E%9C%E1%9E%B8%E1%9E%84%E1%9E%98%E1%9F%89%E1%9E%B6%E1%9E%80%E1%9F%8B%E1%9E%A2%E1%9E%BC%E1%9E%93%E1%9E%98%E1%9E%BC%E1%9E%93/@11.5094215,104.851333,17z/data=!4m6!3m5!1s0x31095167f9d6ec9b:0x7ac3e2d2621d16a4!8m2!3d11.5094215!4d104.851333!16s%2Fg%2F11lgknb1b9?authuser=0&hl=km&entry=ttu&g_ep=EgoyMDI1MDYwOC4wIKXMDSoASAFQAw%3D%3D\n",
      "Final URL: https://www.google.com/maps/place/Wing+215/@11.5838776,104.8876563,17z/data=!3m1!4b1!4m6!3m5!1s0x310951d6e6bf84d5:0xa22c0947d11bfb60!8m2!3d11.5838776!4d104.8876563!16s%2Fg%2F11h7dsrxpn?authuser=0&hl=km&entry=ttu&g_ep=EgoyMDI1MDYwOC4wIKXMDSoASAFQAw%3D%3D\n",
      "Final URL: https://www.google.com/maps/place/%E1%9E%9F%E1%9E%BD%E1%9E%93+%E1%9E%9F%E1%9E%BB%E1%9E%95%E1%9E%B6%E1%9E%93%E1%9E%B8/@11.5356078,104.9689651,17z/data=!4m6!3m5!1s0x3109571bf81fff6f:0x3cf685372375aee0!8m2!3d11.5356078!4d104.9689651!16s%2Fg%2F11fkc5fq4j?authuser=0&hl=km&entry=ttu&g_ep=EgoyMDI1MDYwOC4wIKXMDSoASAFQAw%3D%3D\n",
      "Final URL: https://www.google.com/maps/place/Wing+%E1%9E%90%E1%9F%83+%E1%9E%9F%E1%9F%92%E1%9E%9A%E1%9F%81%E1%9E%84/@11.5330691,104.9042784,17z/data=!4m6!3m5!1s0x310950eff8db89e7:0x21f37993ff6af159!8m2!3d11.5330691!4d104.9042784!16s%2Fg%2F11h04f8t40?authuser=0&hl=km&entry=ttu&g_ep=EgoyMDI1MDYwOC4wIKXMDSoASAFQAw%3D%3D\n",
      "Final URL: https://www.google.com/maps/place/Wing+Pagna+99/@11.6109146,104.8963136,17z/data=!4m6!3m5!1s0x3109539c9c62d139:0x47f6904aa28e9cf1!8m2!3d11.6109146!4d104.8963136!16s%2Fg%2F11h3x4jqxh?authuser=0&hl=km&entry=ttu&g_ep=EgoyMDI1MDYwOC4wIKXMDSoASAFQAw%3D%3D\n",
      "Final URL: https://www.google.com/maps/place/Wing+Bank+RGPPSEZ+Branch/@11.5174559,104.7797186,17z/data=!4m6!3m5!1s0x31094f22d20b9e7f:0xef0f197363e347da!8m2!3d11.5174559!4d104.7797186!16s%2Fg%2F11sjzrnd1f?authuser=0&hl=km&entry=ttu&g_ep=EgoyMDI1MDYwOC4wIKXMDSoASAFQAw%3D%3D\n",
      "Final URL: https://www.google.com/maps/place/%E1%9E%9C%E1%9E%BB%E1%9E%8C%E1%9F%92%E1%9E%8D%E1%9E%B8+%E1%9E%9C%E1%9E%8C%E1%9F%92%E1%9E%8D%E1%9E%93%E1%9F%88%E1%9E%96%E1%9F%81%E1%9E%87%E1%9F%92%E1%9E%9A+Wing/@11.5525979,104.8988705,17z/data=!4m6!3m5!1s0x310951ac4ca7e023:0xb1ac0903f370ad2a!8m2!3d11.5525979!4d104.8988705!16s%2Fg%2F11fkdnlfg2?authuser=0&hl=km&entry=ttu&g_ep=EgoyMDI1MDYwOC4wIKXMDSoASAFQAw%3D%3D\n"
     ]
    }
   ],
   "source": [
    "# Set up the webdriver\n",
    "options = webdriver.ChromeOptions()\n",
    "options.add_argument(\"--headless\")  # Run in headless mode (without opening the browser window)\n",
    "driver = webdriver.Chrome(service=Service(ChromeDriverManager().install()), options=options)\n",
    "\n",
    "for i in range(len(branch_data)):\n",
    "    # Open the initial Google Maps link\n",
    "    initial_url = branch_data[i]['url']\n",
    "    driver.get(initial_url)\n",
    "\n",
    "    # Wait for the page to load and the URL to change\n",
    "    time.sleep(5)  # You can adjust this based on your network speed or use WebDriverWait\n",
    "\n",
    "    # Get the final URL\n",
    "    final_url = driver.current_url\n",
    "    print(f'Final URL: {final_url}')\n",
    "\n",
    "    branch_data[i]['name'] = branch_data[i]['name']\n",
    "    branch_data[i]['url'] = final_url\n",
    "\n",
    "# Close the browser\n",
    "driver.quit()\n"
   ]
  },
  {
   "cell_type": "code",
   "execution_count": 3,
   "metadata": {},
   "outputs": [],
   "source": [
    "result = []"
   ]
  },
  {
   "cell_type": "code",
   "execution_count": 4,
   "metadata": {},
   "outputs": [],
   "source": [
    "temp = {}\n",
    "for i in range(len(branch_data) - 1):\n",
    "    # print(i)\n",
    "    temp = {}\n",
    "    temp['name'] = branch_data[i]['name']\n",
    "    temp['lat'] = branch_data[i]['url'].split('/')[-2][1:].split(',')[:-1][0]\n",
    "    temp['lon'] = branch_data[i]['url'].split('/')[-2][1:].split(',')[:-1][1]\n",
    "    # print(result_data[i]['direction'].split('/')[-2][1:].split(',')[:-1])\n",
    "    result.append(temp)\n"
   ]
  },
  {
   "cell_type": "code",
   "execution_count": 5,
   "metadata": {},
   "outputs": [
    {
     "data": {
      "text/plain": [
       "[{'name': 'ធនាគារ វីង', 'lat': '11.5450455', 'lon': '104.9220433'},\n",
       " {'name': 'Wing Bank Beoung Trobek Branch',\n",
       "  'lat': '11.5417205',\n",
       "  'lon': '104.9225463'},\n",
       " {'name': 'Wing Bank Independence Monument Branch',\n",
       "  'lat': '11.5557996',\n",
       "  'lon': '104.9240568'},\n",
       " {'name': 'Wing Bank Wat Phnom Branch',\n",
       "  'lat': '11.5712454',\n",
       "  'lon': '104.9202109'},\n",
       " {'name': 'Wing Bank Preah Yukunthor Branch',\n",
       "  'lat': '11.5560078',\n",
       "  'lon': '104.9191052'},\n",
       " {'name': 'Wing Prum SAMBAT 310', 'lat': '11.5507223', 'lon': '104.9188757'},\n",
       " {'name': 'អាគារ\\u200bធនាគារ\\u200bវីង',\n",
       "  'lat': '11.5690947',\n",
       "  'lon': '104.9184667'},\n",
       " {'name': 'វិប ខេមបូឌាវីង Web Cambodia Wing',\n",
       "  'lat': '11.5664007',\n",
       "  'lon': '104.9188569'},\n",
       " {'name': 'Wing Money (លឹមសុង\\u200b \\u200b88)',\n",
       "  'lat': '11.5510763',\n",
       "  'lon': '104.9208951'},\n",
       " {'name': 'Wing sokleap', 'lat': '11.5517591', 'lon': '104.9113595'},\n",
       " {'name': 'Ie Meynea Wing Agency', 'lat': '11.5538534', 'lon': '104.9090214'},\n",
       " {'name': 'Wing Bank Tuol Kouk Branch',\n",
       "  'lat': '11.5784337',\n",
       "  'lon': '104.899991'},\n",
       " {'name': 'LomOr Wing', 'lat': '11.5388821', 'lon': '104.9203244'},\n",
       " {'name': 'Wing Bank by Dina Sereyvuth',\n",
       "  'lat': '11.5405807',\n",
       "  'lon': '104.9139429'},\n",
       " {'name': 'ជីប ស្រេង ហាង\\u200bលក់\\u200bទូរស័ព្ទ (Wing )',\n",
       "  'lat': '11.5677421',\n",
       "  'lon': '104.9208168'},\n",
       " {'name': 'Wing', 'lat': '11.5798666', 'lon': '104.9207572'},\n",
       " {'name': 'Wing Bank Orkide 2004 Branch',\n",
       "  'lat': '11.5519805',\n",
       "  'lon': '104.8763838'},\n",
       " {'name': 'សាមុំ WING', 'lat': '11.5368914', 'lon': '104.9107376'},\n",
       " {'name': 'វីង', 'lat': '11.5633622', 'lon': '104.9163346'},\n",
       " {'name': 'Wing Lucky Shop', 'lat': '11.5547171', 'lon': '104.9231109'},\n",
       " {'name': 'Wing Kim Chetha', 'lat': '11.5630693', 'lon': '104.9146718'},\n",
       " {'name': 'Wing', 'lat': '11.5798666', 'lon': '104.9207572'},\n",
       " {'name': 'Monika Wings & Beverage',\n",
       "  'lat': '11.5547425',\n",
       "  'lon': '104.9317498'},\n",
       " {'name': 'Wing Bank Saensokh Branch',\n",
       "  'lat': '11.603237',\n",
       "  'lon': '104.8856922'},\n",
       " {'name': 'Kim Cheng Wing Money Transfer',\n",
       "  'lat': '11.562538',\n",
       "  'lon': '104.9176193'},\n",
       " {'name': 'Wcx Kaing Kimsan', 'lat': '11.5566811', 'lon': '104.9072282'},\n",
       " {'name': 'សំណាង និមល (360)', 'lat': '11.5691385', 'lon': '104.9275326'},\n",
       " {'name': 'Wing TK', 'lat': '11.5840813', 'lon': '104.8989252'},\n",
       " {'name': 'វីនរម្យនា', 'lat': '11.5623154', 'lon': '104.8968802'},\n",
       " {'name': 'HengHuy Wing', 'lat': '11.5575011', 'lon': '104.905114'},\n",
       " {'name': 'ធនាគារ\\u200bស្ថាបនា\\u200b',\n",
       "  'lat': '11.5661322',\n",
       "  'lon': '104.9252393'},\n",
       " {'name': 'វីង', 'lat': '11.5914498', 'lon': '104.8982422'},\n",
       " {'name': 'ផ្ទះលេខ ០៩ Wing', 'lat': '11.5727522', 'lon': '104.8996345'},\n",
       " {'name': 'វីង-សូ ដានី-លក់ភេសជ្ជ:', 'lat': '11.5413126', 'lon': '104.9153897'},\n",
       " {'name': 'Wing Keo Somonin', 'lat': '11.5745731', 'lon': '104.9000055'},\n",
       " {'name': 'គឹម ហៀកវីងវេរប្រាក់/Kim Heak Wing Agent',\n",
       "  'lat': '11.5291331',\n",
       "  'lon': '104.9284335'},\n",
       " {'name': 'ភ្នាក់ងារវីង ធារ៉ូ', 'lat': '11.5469211', 'lon': '104.8942496'},\n",
       " {'name': 'វីង', 'lat': '11.5970432', 'lon': '104.9184346'},\n",
       " {'name': 'Wing យ៉ា សម្បត្តិ', 'lat': '11.5569605', 'lon': '104.9039556'},\n",
       " {'name': 'កូននាថ វីងវេរលុយ', 'lat': '11.5872568', 'lon': '104.9357794'},\n",
       " {'name': 'Wing Intraktevi', 'lat': '11.5772356', 'lon': '104.8906957'},\n",
       " {'name': 'Wing TSR', 'lat': '11.5648711', 'lon': '104.8871371'},\n",
       " {'name': 'វីង', 'lat': '11.523531', 'lon': '104.9375006'},\n",
       " {'name': 'ABA 24/7 - Phsar Thmey 2',\n",
       "  'lat': '11.5691358',\n",
       "  'lon': '104.9187285'},\n",
       " {'name': 'Wing', 'lat': '11.578445', 'lon': '104.8743782'},\n",
       " {'name': '1253', 'lat': '11.5204566', 'lon': '104.9334396'},\n",
       " {'name': 'Soriya Wing', 'lat': '11.5350355', 'lon': '104.9279013'},\n",
       " {'name': 'ម៉ា លីនី (វីង)', 'lat': '11.5435918', 'lon': '104.9027599'},\n",
       " {'name': 'លី\\u200bលី វេលុយ', 'lat': '11.5664049', 'lon': '104.9084271'},\n",
       " {'name': \"EANG SOVANN's Wing\", 'lat': '11.5608239', 'lon': '104.8728301'},\n",
       " {'name': 'Wing', 'lat': '11.5960983', 'lon': '104.9136629'},\n",
       " {'name': 'សៀវ ហុង', 'lat': '11.52773', 'lon': '104.9637544'},\n",
       " {'name': 'EVA Wing', 'lat': '11.5810163', 'lon': '104.9191843'},\n",
       " {'name': 'Wing Sokunthea', 'lat': '11.5343873', 'lon': '104.956315'},\n",
       " {'name': 'Wing Kong Danet', 'lat': '11.48829', 'lon': '104.9420838'},\n",
       " {'name': 'ដាសុរះពជ', 'lat': '11.5124242', 'lon': '104.8822425'},\n",
       " {'name': 'HongMeng Money Exchange, Wing',\n",
       "  'lat': '11.5304192',\n",
       "  'lon': '104.90823'},\n",
       " {'name': 'មុយ លីម', 'lat': '11.5316199', 'lon': '104.9366667'},\n",
       " {'name': 'Wing វីងម៉ាក់អូនមូន', 'lat': '11.5094215', 'lon': '104.851333'},\n",
       " {'name': 'Wing 215', 'lat': '11.5838776', 'lon': '104.8876563'},\n",
       " {'name': 'សួន សុផានី', 'lat': '11.5356078', 'lon': '104.9689651'},\n",
       " {'name': 'Wing ថៃ ស្រេង', 'lat': '11.5330691', 'lon': '104.9042784'},\n",
       " {'name': 'Wing Pagna 99', 'lat': '11.6109146', 'lon': '104.8963136'},\n",
       " {'name': 'Wing Bank RGPPSEZ Branch',\n",
       "  'lat': '11.5174559',\n",
       "  'lon': '104.7797186'}]"
      ]
     },
     "execution_count": 5,
     "metadata": {},
     "output_type": "execute_result"
    }
   ],
   "source": [
    "result"
   ]
  },
  {
   "cell_type": "code",
   "execution_count": 6,
   "metadata": {},
   "outputs": [
    {
     "name": "stdout",
     "output_type": "stream",
     "text": [
      "[{'name': 'ធនាគារ វីង', 'lat': '11.5450455', 'lon': '104.9220433'}, {'name': 'Wing Bank Beoung Trobek Branch', 'lat': '11.5417205', 'lon': '104.9225463'}, {'name': 'Wing Bank Independence Monument Branch', 'lat': '11.5557996', 'lon': '104.9240568'}, {'name': 'Wing Bank Wat Phnom Branch', 'lat': '11.5712454', 'lon': '104.9202109'}, {'name': 'Wing Bank Preah Yukunthor Branch', 'lat': '11.5560078', 'lon': '104.9191052'}, {'name': 'Wing Prum SAMBAT 310', 'lat': '11.5507223', 'lon': '104.9188757'}, {'name': 'អាគារ\\u200bធនាគារ\\u200bវីង', 'lat': '11.5690947', 'lon': '104.9184667'}, {'name': 'វិប ខេមបូឌាវីង Web Cambodia Wing', 'lat': '11.5664007', 'lon': '104.9188569'}, {'name': 'Wing Money (លឹមសុង\\u200b \\u200b88)', 'lat': '11.5510763', 'lon': '104.9208951'}, {'name': 'Wing sokleap', 'lat': '11.5517591', 'lon': '104.9113595'}, {'name': 'Ie Meynea Wing Agency', 'lat': '11.5538534', 'lon': '104.9090214'}, {'name': 'Wing Bank Tuol Kouk Branch', 'lat': '11.5784337', 'lon': '104.899991'}, {'name': 'LomOr Wing', 'lat': '11.5388821', 'lon': '104.9203244'}, {'name': 'Wing Bank by Dina Sereyvuth', 'lat': '11.5405807', 'lon': '104.9139429'}, {'name': 'ជីប ស្រេង ហាង\\u200bលក់\\u200bទូរស័ព្ទ (Wing )', 'lat': '11.5677421', 'lon': '104.9208168'}, {'name': 'Wing', 'lat': '11.5798666', 'lon': '104.9207572'}, {'name': 'Wing Bank Orkide 2004 Branch', 'lat': '11.5519805', 'lon': '104.8763838'}, {'name': 'សាមុំ WING', 'lat': '11.5368914', 'lon': '104.9107376'}, {'name': 'វីង', 'lat': '11.5633622', 'lon': '104.9163346'}, {'name': 'Wing Lucky Shop', 'lat': '11.5547171', 'lon': '104.9231109'}, {'name': 'Wing Kim Chetha', 'lat': '11.5630693', 'lon': '104.9146718'}, {'name': 'Monika Wings & Beverage', 'lat': '11.5547425', 'lon': '104.9317498'}, {'name': 'Wing Bank Saensokh Branch', 'lat': '11.603237', 'lon': '104.8856922'}, {'name': 'Kim Cheng Wing Money Transfer', 'lat': '11.562538', 'lon': '104.9176193'}, {'name': 'Wcx Kaing Kimsan', 'lat': '11.5566811', 'lon': '104.9072282'}, {'name': 'សំណាង និមល (360)', 'lat': '11.5691385', 'lon': '104.9275326'}, {'name': 'Wing TK', 'lat': '11.5840813', 'lon': '104.8989252'}, {'name': 'វីនរម្យនា', 'lat': '11.5623154', 'lon': '104.8968802'}, {'name': 'HengHuy Wing', 'lat': '11.5575011', 'lon': '104.905114'}, {'name': 'ធនាគារ\\u200bស្ថាបនា\\u200b', 'lat': '11.5661322', 'lon': '104.9252393'}, {'name': 'វីង', 'lat': '11.5914498', 'lon': '104.8982422'}, {'name': 'ផ្ទះលេខ ០៩ Wing', 'lat': '11.5727522', 'lon': '104.8996345'}, {'name': 'វីង-សូ ដានី-លក់ភេសជ្ជ:', 'lat': '11.5413126', 'lon': '104.9153897'}, {'name': 'Wing Keo Somonin', 'lat': '11.5745731', 'lon': '104.9000055'}, {'name': 'គឹម ហៀកវីងវេរប្រាក់/Kim Heak Wing Agent', 'lat': '11.5291331', 'lon': '104.9284335'}, {'name': 'ភ្នាក់ងារវីង ធារ៉ូ', 'lat': '11.5469211', 'lon': '104.8942496'}, {'name': 'វីង', 'lat': '11.5970432', 'lon': '104.9184346'}, {'name': 'Wing យ៉ា សម្បត្តិ', 'lat': '11.5569605', 'lon': '104.9039556'}, {'name': 'កូននាថ វីងវេរលុយ', 'lat': '11.5872568', 'lon': '104.9357794'}, {'name': 'Wing Intraktevi', 'lat': '11.5772356', 'lon': '104.8906957'}, {'name': 'Wing TSR', 'lat': '11.5648711', 'lon': '104.8871371'}, {'name': 'វីង', 'lat': '11.523531', 'lon': '104.9375006'}, {'name': 'ABA 24/7 - Phsar Thmey 2', 'lat': '11.5691358', 'lon': '104.9187285'}, {'name': 'Wing', 'lat': '11.578445', 'lon': '104.8743782'}, {'name': '1253', 'lat': '11.5204566', 'lon': '104.9334396'}, {'name': 'Soriya Wing', 'lat': '11.5350355', 'lon': '104.9279013'}, {'name': 'ម៉ា លីនី (វីង)', 'lat': '11.5435918', 'lon': '104.9027599'}, {'name': 'លី\\u200bលី វេលុយ', 'lat': '11.5664049', 'lon': '104.9084271'}, {'name': \"EANG SOVANN's Wing\", 'lat': '11.5608239', 'lon': '104.8728301'}, {'name': 'Wing', 'lat': '11.5960983', 'lon': '104.9136629'}, {'name': 'សៀវ ហុង', 'lat': '11.52773', 'lon': '104.9637544'}, {'name': 'EVA Wing', 'lat': '11.5810163', 'lon': '104.9191843'}, {'name': 'Wing Sokunthea', 'lat': '11.5343873', 'lon': '104.956315'}, {'name': 'Wing Kong Danet', 'lat': '11.48829', 'lon': '104.9420838'}, {'name': 'ដាសុរះពជ', 'lat': '11.5124242', 'lon': '104.8822425'}, {'name': 'HongMeng Money Exchange, Wing', 'lat': '11.5304192', 'lon': '104.90823'}, {'name': 'មុយ លីម', 'lat': '11.5316199', 'lon': '104.9366667'}, {'name': 'Wing វីងម៉ាក់អូនមូន', 'lat': '11.5094215', 'lon': '104.851333'}, {'name': 'Wing 215', 'lat': '11.5838776', 'lon': '104.8876563'}, {'name': 'សួន សុផានី', 'lat': '11.5356078', 'lon': '104.9689651'}, {'name': 'Wing ថៃ ស្រេង', 'lat': '11.5330691', 'lon': '104.9042784'}, {'name': 'Wing Pagna 99', 'lat': '11.6109146', 'lon': '104.8963136'}, {'name': 'Wing Bank RGPPSEZ Branch', 'lat': '11.5174559', 'lon': '104.7797186'}]\n"
     ]
    }
   ],
   "source": [
    "unique_data = []\n",
    "seen_coords = set()\n",
    "\n",
    "for item in result:\n",
    "    coord_tuple = (item['lat'], item['lon'])\n",
    "    if coord_tuple not in seen_coords:\n",
    "        unique_data.append(item)\n",
    "        seen_coords.add(coord_tuple)\n",
    "\n",
    "print(unique_data)\n"
   ]
  },
  {
   "cell_type": "code",
   "execution_count": 7,
   "metadata": {},
   "outputs": [],
   "source": [
    "import pandas as pd"
   ]
  },
  {
   "cell_type": "code",
   "execution_count": 8,
   "metadata": {},
   "outputs": [
    {
     "data": {
      "application/vnd.microsoft.datawrangler.viewer.v0+json": {
       "columns": [
        {
         "name": "index",
         "rawType": "int64",
         "type": "integer"
        },
        {
         "name": "name",
         "rawType": "object",
         "type": "string"
        },
        {
         "name": "lat",
         "rawType": "object",
         "type": "string"
        },
        {
         "name": "lon",
         "rawType": "object",
         "type": "string"
        }
       ],
       "ref": "8650eb24-bb02-432a-95db-b2b207c71a83",
       "rows": [
        [
         "0",
         "ធនាគារ វីង",
         "11.5450455",
         "104.9220433"
        ],
        [
         "1",
         "Wing Bank Beoung Trobek Branch",
         "11.5417205",
         "104.9225463"
        ],
        [
         "2",
         "Wing Bank Independence Monument Branch",
         "11.5557996",
         "104.9240568"
        ],
        [
         "3",
         "Wing Bank Wat Phnom Branch",
         "11.5712454",
         "104.9202109"
        ],
        [
         "4",
         "Wing Bank Preah Yukunthor Branch",
         "11.5560078",
         "104.9191052"
        ],
        [
         "5",
         "Wing Prum SAMBAT 310",
         "11.5507223",
         "104.9188757"
        ],
        [
         "6",
         "អាគារ​ធនាគារ​វីង",
         "11.5690947",
         "104.9184667"
        ],
        [
         "7",
         "វិប ខេមបូឌាវីង Web Cambodia Wing",
         "11.5664007",
         "104.9188569"
        ],
        [
         "8",
         "Wing Money (លឹមសុង​ ​88)",
         "11.5510763",
         "104.9208951"
        ],
        [
         "9",
         "Wing sokleap",
         "11.5517591",
         "104.9113595"
        ],
        [
         "10",
         "Ie Meynea Wing Agency",
         "11.5538534",
         "104.9090214"
        ],
        [
         "11",
         "Wing Bank Tuol Kouk Branch",
         "11.5784337",
         "104.899991"
        ],
        [
         "12",
         "LomOr Wing",
         "11.5388821",
         "104.9203244"
        ],
        [
         "13",
         "Wing Bank by Dina Sereyvuth",
         "11.5405807",
         "104.9139429"
        ],
        [
         "14",
         "ជីប ស្រេង ហាង​លក់​ទូរស័ព្ទ (Wing )",
         "11.5677421",
         "104.9208168"
        ],
        [
         "15",
         "Wing",
         "11.5798666",
         "104.9207572"
        ],
        [
         "16",
         "Wing Bank Orkide 2004 Branch",
         "11.5519805",
         "104.8763838"
        ],
        [
         "17",
         "សាមុំ WING",
         "11.5368914",
         "104.9107376"
        ],
        [
         "18",
         "វីង",
         "11.5633622",
         "104.9163346"
        ],
        [
         "19",
         "Wing Lucky Shop",
         "11.5547171",
         "104.9231109"
        ],
        [
         "20",
         "Wing Kim Chetha",
         "11.5630693",
         "104.9146718"
        ],
        [
         "21",
         "Monika Wings & Beverage",
         "11.5547425",
         "104.9317498"
        ],
        [
         "22",
         "Wing Bank Saensokh Branch",
         "11.603237",
         "104.8856922"
        ],
        [
         "23",
         "Kim Cheng Wing Money Transfer",
         "11.562538",
         "104.9176193"
        ],
        [
         "24",
         "Wcx Kaing Kimsan",
         "11.5566811",
         "104.9072282"
        ],
        [
         "25",
         "សំណាង និមល (360)",
         "11.5691385",
         "104.9275326"
        ],
        [
         "26",
         "Wing TK",
         "11.5840813",
         "104.8989252"
        ],
        [
         "27",
         "វីនរម្យនា",
         "11.5623154",
         "104.8968802"
        ],
        [
         "28",
         "HengHuy Wing",
         "11.5575011",
         "104.905114"
        ],
        [
         "29",
         "ធនាគារ​ស្ថាបនា​",
         "11.5661322",
         "104.9252393"
        ],
        [
         "30",
         "វីង",
         "11.5914498",
         "104.8982422"
        ],
        [
         "31",
         "ផ្ទះលេខ ០៩ Wing",
         "11.5727522",
         "104.8996345"
        ],
        [
         "32",
         "វីង-សូ ដានី-លក់ភេសជ្ជ:",
         "11.5413126",
         "104.9153897"
        ],
        [
         "33",
         "Wing Keo Somonin",
         "11.5745731",
         "104.9000055"
        ],
        [
         "34",
         "គឹម ហៀកវីងវេរប្រាក់/Kim Heak Wing Agent",
         "11.5291331",
         "104.9284335"
        ],
        [
         "35",
         "ភ្នាក់ងារវីង ធារ៉ូ",
         "11.5469211",
         "104.8942496"
        ],
        [
         "36",
         "វីង",
         "11.5970432",
         "104.9184346"
        ],
        [
         "37",
         "Wing យ៉ា សម្បត្តិ",
         "11.5569605",
         "104.9039556"
        ],
        [
         "38",
         "កូននាថ វីងវេរលុយ",
         "11.5872568",
         "104.9357794"
        ],
        [
         "39",
         "Wing Intraktevi",
         "11.5772356",
         "104.8906957"
        ],
        [
         "40",
         "Wing TSR",
         "11.5648711",
         "104.8871371"
        ],
        [
         "41",
         "វីង",
         "11.523531",
         "104.9375006"
        ],
        [
         "42",
         "ABA 24/7 - Phsar Thmey 2",
         "11.5691358",
         "104.9187285"
        ],
        [
         "43",
         "Wing",
         "11.578445",
         "104.8743782"
        ],
        [
         "44",
         "1253",
         "11.5204566",
         "104.9334396"
        ],
        [
         "45",
         "Soriya Wing",
         "11.5350355",
         "104.9279013"
        ],
        [
         "46",
         "ម៉ា លីនី (វីង)",
         "11.5435918",
         "104.9027599"
        ],
        [
         "47",
         "លី​លី វេលុយ",
         "11.5664049",
         "104.9084271"
        ],
        [
         "48",
         "EANG SOVANN's Wing",
         "11.5608239",
         "104.8728301"
        ],
        [
         "49",
         "Wing",
         "11.5960983",
         "104.9136629"
        ]
       ],
       "shape": {
        "columns": 3,
        "rows": 63
       }
      },
      "text/html": [
       "<div>\n",
       "<style scoped>\n",
       "    .dataframe tbody tr th:only-of-type {\n",
       "        vertical-align: middle;\n",
       "    }\n",
       "\n",
       "    .dataframe tbody tr th {\n",
       "        vertical-align: top;\n",
       "    }\n",
       "\n",
       "    .dataframe thead th {\n",
       "        text-align: right;\n",
       "    }\n",
       "</style>\n",
       "<table border=\"1\" class=\"dataframe\">\n",
       "  <thead>\n",
       "    <tr style=\"text-align: right;\">\n",
       "      <th></th>\n",
       "      <th>name</th>\n",
       "      <th>lat</th>\n",
       "      <th>lon</th>\n",
       "    </tr>\n",
       "  </thead>\n",
       "  <tbody>\n",
       "    <tr>\n",
       "      <th>0</th>\n",
       "      <td>ធនាគារ វីង</td>\n",
       "      <td>11.5450455</td>\n",
       "      <td>104.9220433</td>\n",
       "    </tr>\n",
       "    <tr>\n",
       "      <th>1</th>\n",
       "      <td>Wing Bank Beoung Trobek Branch</td>\n",
       "      <td>11.5417205</td>\n",
       "      <td>104.9225463</td>\n",
       "    </tr>\n",
       "    <tr>\n",
       "      <th>2</th>\n",
       "      <td>Wing Bank Independence Monument Branch</td>\n",
       "      <td>11.5557996</td>\n",
       "      <td>104.9240568</td>\n",
       "    </tr>\n",
       "    <tr>\n",
       "      <th>3</th>\n",
       "      <td>Wing Bank Wat Phnom Branch</td>\n",
       "      <td>11.5712454</td>\n",
       "      <td>104.9202109</td>\n",
       "    </tr>\n",
       "    <tr>\n",
       "      <th>4</th>\n",
       "      <td>Wing Bank Preah Yukunthor Branch</td>\n",
       "      <td>11.5560078</td>\n",
       "      <td>104.9191052</td>\n",
       "    </tr>\n",
       "    <tr>\n",
       "      <th>...</th>\n",
       "      <td>...</td>\n",
       "      <td>...</td>\n",
       "      <td>...</td>\n",
       "    </tr>\n",
       "    <tr>\n",
       "      <th>58</th>\n",
       "      <td>Wing 215</td>\n",
       "      <td>11.5838776</td>\n",
       "      <td>104.8876563</td>\n",
       "    </tr>\n",
       "    <tr>\n",
       "      <th>59</th>\n",
       "      <td>សួន សុផានី</td>\n",
       "      <td>11.5356078</td>\n",
       "      <td>104.9689651</td>\n",
       "    </tr>\n",
       "    <tr>\n",
       "      <th>60</th>\n",
       "      <td>Wing ថៃ ស្រេង</td>\n",
       "      <td>11.5330691</td>\n",
       "      <td>104.9042784</td>\n",
       "    </tr>\n",
       "    <tr>\n",
       "      <th>61</th>\n",
       "      <td>Wing Pagna 99</td>\n",
       "      <td>11.6109146</td>\n",
       "      <td>104.8963136</td>\n",
       "    </tr>\n",
       "    <tr>\n",
       "      <th>62</th>\n",
       "      <td>Wing Bank RGPPSEZ Branch</td>\n",
       "      <td>11.5174559</td>\n",
       "      <td>104.7797186</td>\n",
       "    </tr>\n",
       "  </tbody>\n",
       "</table>\n",
       "<p>63 rows × 3 columns</p>\n",
       "</div>"
      ],
      "text/plain": [
       "                                      name         lat          lon\n",
       "0                               ធនាគារ វីង  11.5450455  104.9220433\n",
       "1           Wing Bank Beoung Trobek Branch  11.5417205  104.9225463\n",
       "2   Wing Bank Independence Monument Branch  11.5557996  104.9240568\n",
       "3               Wing Bank Wat Phnom Branch  11.5712454  104.9202109\n",
       "4         Wing Bank Preah Yukunthor Branch  11.5560078  104.9191052\n",
       "..                                     ...         ...          ...\n",
       "58                                Wing 215  11.5838776  104.8876563\n",
       "59                              សួន សុផានី  11.5356078  104.9689651\n",
       "60                           Wing ថៃ ស្រេង  11.5330691  104.9042784\n",
       "61                           Wing Pagna 99  11.6109146  104.8963136\n",
       "62                Wing Bank RGPPSEZ Branch  11.5174559  104.7797186\n",
       "\n",
       "[63 rows x 3 columns]"
      ]
     },
     "execution_count": 8,
     "metadata": {},
     "output_type": "execute_result"
    }
   ],
   "source": [
    "df = pd.DataFrame(unique_data)\n",
    "df"
   ]
  },
  {
   "cell_type": "code",
   "execution_count": 9,
   "metadata": {},
   "outputs": [],
   "source": [
    "df.to_csv('../../../data/raw/wing_bank_lat_lon.csv', index=False)"
   ]
  }
 ],
 "metadata": {
  "kernelspec": {
   "display_name": "env_v3.10",
   "language": "python",
   "name": "python3"
  },
  "language_info": {
   "codemirror_mode": {
    "name": "ipython",
    "version": 3
   },
   "file_extension": ".py",
   "mimetype": "text/x-python",
   "name": "python",
   "nbconvert_exporter": "python",
   "pygments_lexer": "ipython3",
   "version": "3.10.16"
  }
 },
 "nbformat": 4,
 "nbformat_minor": 2
}
