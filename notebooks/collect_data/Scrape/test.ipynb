{
 "cells": [
  {
   "cell_type": "code",
   "execution_count": 5,
   "id": "63d3fa3a",
   "metadata": {},
   "outputs": [
    {
     "name": "stderr",
     "output_type": "stream",
     "text": [
      "AVX = 1 | AVX2 = 1 | AVX512 = 0 | AVX512_VBMI = 0 | AVX512_VNNI = 0 | FMA = 1 | NEON = 0 | ARM_FMA = 0 | F16C = 1 | FP16_VA = 0 | WASM_SIMD = 0 | BLAS = 1 | SSE3 = 1 | SSSE3 = 0 | VSX = 0 | \n"
     ]
    },
    {
     "name": "stdout",
     "output_type": "stream",
     "text": [
      "The text provides the land size which is 98,514 sqm.\n"
     ]
    }
   ],
   "source": [
    "from llama_cpp import Llama\n",
    "\n",
    "llm = Llama(\n",
    "    model_path=\"D:/Ollama/models/mistral/mistral-7b-instruct-v0.2.Q2_K.gguf\",\n",
    "    n_ctx=2048,\n",
    "    n_threads=4,  # Adjust based on your CPU\n",
    "    verbose=True\n",
    ")\n",
    "\n",
    "prompt = \"\"\"Extract the land size in square meters (sqm) from this text. \n",
    "If dimensions like '20m x 30m' are mentioned, multiply them. \n",
    "If area like '98,514 sqm' is mentioned, extract that.\n",
    "If no info, respond only: N/A\n",
    "\n",
    "Text:\n",
    "Now available for sale, 98,514 Sqm of land in Kompong Cham province.\n",
    "Answer:\"\"\"\n",
    "\n",
    "response = llm(prompt=prompt, max_tokens=32, stop=[\"\\n\"])\n",
    "print(response[\"choices\"][0][\"text\"].strip())"
   ]
  }
 ],
 "metadata": {
  "kernelspec": {
   "display_name": "env_v3.10",
   "language": "python",
   "name": "python3"
  },
  "language_info": {
   "codemirror_mode": {
    "name": "ipython",
    "version": 3
   },
   "file_extension": ".py",
   "mimetype": "text/x-python",
   "name": "python",
   "nbconvert_exporter": "python",
   "pygments_lexer": "ipython3",
   "version": "3.10.16"
  }
 },
 "nbformat": 4,
 "nbformat_minor": 5
}
