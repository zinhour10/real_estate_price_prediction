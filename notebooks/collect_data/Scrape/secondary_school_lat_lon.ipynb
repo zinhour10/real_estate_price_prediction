{
 "cells": [
  {
   "cell_type": "code",
   "execution_count": 2,
   "metadata": {},
   "outputs": [
    {
     "name": "stdout",
     "output_type": "stream",
     "text": [
      "{'name': 'អនុវិទ្យាល័យ\\u200bចតុមុខ', 'url': 'https://www.google.com/maps/place/%E1%9E%A2%E1%9E%93%E1%9E%BB%E1%9E%9C%E1%9E%B7%E1%9E%91%E1%9F%92%E1%9E%99%E1%9E%B6%E1%9E%9B%E1%9F%90%E1%9E%99%E2%80%8B%E1%9E%85%E1%9E%8F%E1%9E%BB%E1%9E%98%E1%9E%BB%E1%9E%81/data=!4m7!3m6!1s0x31095137804ef337:0xb765faa50dc0d7e!8m2!3d11.562718!4d104.926858!16s%2Fg%2F1td45dz7!19sChIJN_NOgDdRCTERfg3cUKpfdgs?authuser=0&hl=km&rclk=1'}\n",
      "{'name': 'សាលា\\u200b\\u200b\\u200bអ៊ី\\u200bអិល\\u200bធី', 'url': 'https://www.google.com/maps/place/%E1%9E%9F%E1%9E%B6%E1%9E%9B%E1%9E%B6%E2%80%8B%E2%80%8B%E2%80%8B%E1%9E%A2%E1%9F%8A%E1%9E%B8%E2%80%8B%E1%9E%A2%E1%9E%B7%E1%9E%9B%E2%80%8B%E1%9E%92%E1%9E%B8/data=!4m7!3m6!1s0x3109514665ca193b:0x4ac6efbdde0d0ddd!8m2!3d11.5698307!4d104.9248972!16s%2Fg%2F12hl0t8yj!19sChIJOxnKZUZRCTER3Q0N3r3vxko?authuser=0&hl=km&rclk=1'}\n",
      "{'name': 'វិទ្យាល័យវត្តកោះ', 'url': 'https://www.google.com/maps/place/%E1%9E%9C%E1%9E%B7%E1%9E%91%E1%9F%92%E1%9E%99%E1%9E%B6%E1%9E%9B%E1%9F%90%E1%9E%99%E1%9E%9C%E1%9E%8F%E1%9F%92%E1%9E%8F%E1%9E%80%E1%9F%84%E1%9F%87/data=!4m7!3m6!1s0x3109513f44f72805:0xc63dafeeb694b002!8m2!3d11.5650687!4d104.9206865!16s%2Fg%2F1tjdtc91!19sChIJBSj3RD9RCTERArCUtu6vPcY?authuser=0&hl=km&rclk=1'}\n",
      "{'name': 'វិទ្យាល័យ\\u200bជ្រោយ\\u200bចង្វារ (ជា ស៊ីម)', 'url': 'https://www.google.com/maps/place/%E1%9E%9C%E1%9E%B7%E1%9E%91%E1%9F%92%E1%9E%99%E1%9E%B6%E1%9E%9B%E1%9F%90%E1%9E%99%E2%80%8B%E1%9E%87%E1%9F%92%E1%9E%9A%E1%9F%84%E1%9E%99%E2%80%8B%E1%9E%85%E1%9E%84%E1%9F%92%E1%9E%9C%E1%9E%B6%E1%9E%9A+%28%E1%9E%87%E1%9E%B6+%E1%9E%9F%E1%9F%8A%E1%9E%B8%E1%9E%98%29/data=!4m7!3m6!1s0x31095157c29ed7d5:0xcc48ea1fc1e1ef02!8m2!3d11.5864515!4d104.9285923!16s%2Fg%2F1td5ckv8!19sChIJ1deewldRCTERAu_hwR_qSMw?authuser=0&hl=km&rclk=1'}\n",
      "{'name': 'សាលា\\u200bរៀន\\u200bអេ\\u200bយូ\\u200bភី\\u200bភី', 'url': 'https://www.google.com/maps/place/%E1%9E%9F%E1%9E%B6%E1%9E%9B%E1%9E%B6%E2%80%8B%E1%9E%9A%E1%9F%80%E1%9E%93%E2%80%8B%E1%9E%A2%E1%9F%81%E2%80%8B%E1%9E%99%E1%9E%BC%E2%80%8B%E1%9E%97%E1%9E%B8%E2%80%8B%E1%9E%97%E1%9E%B8/data=!4m7!3m6!1s0x310951994b2ba821:0xe067f3ef10d95820!8m2!3d11.5770471!4d104.9180878!16s%2Fg%2F11vhs2svft!19sChIJIagrS5lRCTERIFjZEO_zZ-A?authuser=0&hl=km&rclk=1'}\n",
      "{'name': 'វិទ្យាល័យ ហ៊ុន សែន ប៊ុន រ៉ានី វត្តភ្នំ', 'url': 'https://www.google.com/maps/place/%E1%9E%9C%E1%9E%B7%E1%9E%91%E1%9F%92%E1%9E%99%E1%9E%B6%E1%9E%9B%E1%9F%90%E1%9E%99+%E1%9E%A0%E1%9F%8A%E1%9E%BB%E1%9E%93+%E1%9E%9F%E1%9F%82%E1%9E%93+%E1%9E%94%E1%9F%8A%E1%9E%BB%E1%9E%93+%E1%9E%9A%E1%9F%89%E1%9E%B6%E1%9E%93%E1%9E%B8+%E1%9E%9C%E1%9E%8F%E1%9F%92%E1%9E%8F%E1%9E%97%E1%9F%92%E1%9E%93%E1%9F%86/data=!4m7!3m6!1s0x3109515fb4e21d4f:0xdfebb8c328cd580e!8m2!3d11.5849992!4d104.9181062!16s%2Fg%2F1tz6zvx2!19sChIJTx3itF9RCTERDljNKMO4698?authuser=0&hl=km&rclk=1'}\n",
      "{'name': 'វិទ្យាល័យ\\u200bព្រះ\\u200bស៊ីសុវត្ថិ', 'url': 'https://www.google.com/maps/place/%E1%9E%9C%E1%9E%B7%E1%9E%91%E1%9F%92%E1%9E%99%E1%9E%B6%E1%9E%9B%E1%9F%90%E1%9E%99%E2%80%8B%E1%9E%96%E1%9F%92%E1%9E%9A%E1%9F%87%E2%80%8B%E1%9E%9F%E1%9F%8A%E1%9E%B8%E1%9E%9F%E1%9E%BB%E1%9E%9C%E1%9E%8F%E1%9F%92%E1%9E%90%E1%9E%B7/data=!4m7!3m6!1s0x3109513867f0862f:0x63cda0c959ad3f4d!8m2!3d11.5640126!4d104.9252101!16s%2Fm%2F0479z7m!19sChIJL4bwZzhRCTERTT-tWcmgzWM?authuser=0&hl=km&rclk=1'}\n",
      "{'name': 'វិទ្យាល័យ \\u200bជាស៊ីម សន្ធរម៉ុក', 'url': 'https://www.google.com/maps/place/%E1%9E%9C%E1%9E%B7%E1%9E%91%E1%9F%92%E1%9E%99%E1%9E%B6%E1%9E%9B%E1%9F%90%E1%9E%99+%E2%80%8B%E1%9E%87%E1%9E%B6%E1%9E%9F%E1%9F%8A%E1%9E%B8%E1%9E%98+%E1%9E%9F%E1%9E%93%E1%9F%92%E1%9E%92%E1%9E%9A%E1%9E%98%E1%9F%89%E1%9E%BB%E1%9E%80/data=!4m7!3m6!1s0x3109510cb1937b17:0x7bc5974410cf6a23!8m2!3d11.5662572!4d104.8987544!16s%2Fg%2F11clw39l6s!19sChIJF3uTsQxRCTERI2rPEESXxXs?authuser=0&hl=km&rclk=1'}\n",
      "{'name': 'វិទ្យាល័យ\\u200bព្រះយុគន្ធរ', 'url': 'https://www.google.com/maps/place/%E1%9E%9C%E1%9E%B7%E1%9E%91%E1%9F%92%E1%9E%99%E1%9E%B6%E1%9E%9B%E1%9F%90%E1%9E%99%E2%80%8B%E1%9E%96%E1%9F%92%E1%9E%9A%E1%9F%87%E1%9E%99%E1%9E%BB%E1%9E%82%E1%9E%93%E1%9F%92%E1%9E%92%E1%9E%9A/data=!4m7!3m6!1s0x3109513cb819fcab:0x50be0d065faf6168!8m2!3d11.5551993!4d104.919911!16s%2Fg%2F1td8wkst!19sChIJq_wZuDxRCTERaGGvXwYNvlA?authuser=0&hl=km&rclk=1'}\n",
      "{'name': 'សាលា\\u200bមធ្យមវិចិត្រ\\u200bសិល្បៈ', 'url': 'https://www.google.com/maps/place/%E1%9E%9F%E1%9E%B6%E1%9E%9B%E1%9E%B6%E2%80%8B%E1%9E%98%E1%9E%92%E1%9F%92%E1%9E%99%E1%9E%98%E1%9E%9C%E1%9E%B7%E1%9E%85%E1%9E%B7%E1%9E%8F%E1%9F%92%E1%9E%9A%E2%80%8B%E1%9E%9F%E1%9E%B7%E1%9E%9B%E1%9F%92%E1%9E%94%E1%9F%88/data=!4m7!3m6!1s0x31095189eab597e9:0xfb23335d311c2180!8m2!3d11.5877385!4d104.8764971!16s%2Fg%2F1q65_wf30!19sChIJ6Ze16olRCTERgCEcMV0zI_s?authuser=0&hl=km&rclk=1'}\n",
      "{'name': 'សាលា\\u200bអន្តរជាតិ\\u200bផារ៉ាហ្កន', 'url': 'https://www.google.com/maps/place/%E1%9E%9F%E1%9E%B6%E1%9E%9B%E1%9E%B6%E2%80%8B%E1%9E%A2%E1%9E%93%E1%9F%92%E1%9E%8F%E1%9E%9A%E1%9E%87%E1%9E%B6%E1%9E%8F%E1%9E%B7%E2%80%8B%E1%9E%95%E1%9E%B6%E1%9E%9A%E1%9F%89%E1%9E%B6%E1%9E%A0%E1%9F%92%E1%9E%80%E1%9E%93/data=!4m7!3m6!1s0x3109512c0509c0e9:0x4d5aa98e64cbe04c!8m2!3d11.548769!4d104.933654!16s%2Fm%2F02762qt!19sChIJ6cAJBSxRCTERTODLZI6pWk0?authuser=0&hl=km&rclk=1'}\n",
      "{'name': 'វិទ្យាល័យបាក់ទូក', 'url': 'https://www.google.com/maps/place/%E1%9E%9C%E1%9E%B7%E1%9E%91%E1%9F%92%E1%9E%99%E1%9E%B6%E1%9E%9B%E1%9F%90%E1%9E%99%E1%9E%94%E1%9E%B6%E1%9E%80%E1%9F%8B%E1%9E%91%E1%9E%BC%E1%9E%80/data=!4m7!3m6!1s0x31095114e0475261:0x5317f6f03032c1d9!8m2!3d11.5646016!4d104.9126194!16s%2Fg%2F1tgmsqv7!19sChIJYVJH4BRRCTER2cEyMPD2F1M?authuser=0&hl=km&rclk=1'}\n",
      "{'name': 'វិទ្យាល័យទួលទំពូង', 'url': 'https://www.google.com/maps/place/%E1%9E%9C%E1%9E%B7%E1%9E%91%E1%9F%92%E1%9E%99%E1%9E%B6%E1%9E%9B%E1%9F%90%E1%9E%99%E1%9E%91%E1%9E%BD%E1%9E%9B%E1%9E%91%E1%9F%86%E1%9E%96%E1%9E%BC%E1%9E%84/data=!4m7!3m6!1s0x310950dfe4f31c53:0xccdf9c9b6104603e!8m2!3d11.5421567!4d104.9159011!16s%2Fg%2F1tfzzjg4!19sChIJUxzz5N9QCTERPmAEYZuc38w?authuser=0&hl=km&rclk=1'}\n",
      "{'name': 'វិទ្យាល័យទឹកល្អក់', 'url': 'https://www.google.com/maps/place/%E1%9E%9C%E1%9E%B7%E1%9E%91%E1%9F%92%E1%9E%99%E1%9E%B6%E1%9E%9B%E1%9F%90%E1%9E%99%E1%9E%91%E1%9E%B9%E1%9E%80%E1%9E%9B%E1%9F%92%E1%9E%A2%E1%9E%80%E1%9F%8B/data=!4m7!3m6!1s0x310951094e7834ed:0x8cc1aa230ccc71ac!8m2!3d11.5603564!4d104.8979296!16s%2Fg%2F1q65_1z3x!19sChIJ7TR4TglRCTERrHHMDCOqwYw?authuser=0&hl=km&rclk=1'}\n",
      "{'name': 'វិទ្យាល័យបឹងត្របែក', 'url': 'https://www.google.com/maps/place/%E1%9E%9C%E1%9E%B7%E1%9E%91%E1%9F%92%E1%9E%99%E1%9E%B6%E1%9E%9B%E1%9F%90%E1%9E%99%E1%9E%94%E1%9E%B9%E1%9E%84%E1%9E%8F%E1%9F%92%E1%9E%9A%E1%9E%94%E1%9F%82%E1%9E%80/data=!4m7!3m6!1s0x310951ee86a4e6e5:0x6c68cb76f0a6b610!8m2!3d11.5347335!4d104.9239472!16s%2Fg%2F11sqt017q6!19sChIJ5eakhu5RCTERELam8HbLaGw?authuser=0&hl=km&rclk=1'}\n",
      "{'name': 'សាលា សុធារស', 'url': 'https://www.google.com/maps/place/%E1%9E%9F%E1%9E%B6%E1%9E%9B%E1%9E%B6+%E1%9E%9F%E1%9E%BB%E1%9E%92%E1%9E%B6%E1%9E%9A%E1%9E%9F/data=!4m7!3m6!1s0x3109519fd35212eb:0xdc454166576c9c95!8m2!3d11.5520176!4d104.9319074!16s%2Fg%2F11gxwnn986!19sChIJ6xJS059RCTERlZxsV2ZBRdw?authuser=0&hl=km&rclk=1'}\n",
      "{'name': 'អនុវិទ្យាល័យ ចាក់អង្រែក្រោម', 'url': 'https://www.google.com/maps/place/%E1%9E%A2%E1%9E%93%E1%9E%BB%E1%9E%9C%E1%9E%B7%E1%9E%91%E1%9F%92%E1%9E%99%E1%9E%B6%E1%9E%9B%E1%9F%90%E1%9E%99+%E1%9E%85%E1%9E%B6%E1%9E%80%E1%9F%8B%E1%9E%A2%E1%9E%84%E1%9F%92%E1%9E%9A%E1%9F%82%E1%9E%80%E1%9F%92%E1%9E%9A%E1%9F%84%E1%9E%98/data=!4m7!3m6!1s0x310950acc6517a37:0xda53186a5f130353!8m2!3d11.512683!4d104.9354832!16s%2Fg%2F12q4r94lf!19sChIJN3pRxqxQCTERUwMTX2oYU9o?authuser=0&hl=km&rclk=1'}\n",
      "{'name': 'Kdey Takoy Primary and Secondary School', 'url': 'https://www.google.com/maps/place/Kdey+Takoy+Primary+and+Secondary+School/data=!4m7!3m6!1s0x31095186f7c962bf:0xc02b34689c0ec6d1!8m2!3d11.5563738!4d104.9282099!16s%2Fg%2F11v9n39xm1!19sChIJv2LJ94ZRCTER0cYOnGg0K8A?authuser=0&hl=km&rclk=1'}\n",
      "{'name': 'អនុវិទ្យាល័យ \\u200bអរិយក្សត្រ', 'url': 'https://www.google.com/maps/place/%E1%9E%A2%E1%9E%93%E1%9E%BB%E1%9E%9C%E1%9E%B7%E1%9E%91%E1%9F%92%E1%9E%99%E1%9E%B6%E1%9E%9B%E1%9F%90%E1%9E%99+%E2%80%8B%E1%9E%A2%E1%9E%9A%E1%9E%B7%E1%9E%99%E1%9E%80%E1%9F%92%E1%9E%9F%E1%9E%8F%E1%9F%92%E1%9E%9A/data=!4m7!3m6!1s0x310956a3dbd8f37d:0xaf68849ce68e5d17!8m2!3d11.580554!4d104.9585616!16s%2Fg%2F11dxbm96t_!19sChIJffPY26NWCTERF12O5pyEaK8?authuser=0&hl=km&rclk=1'}\n",
      "{'name': 'វិទ្យាល័យព្រះស៊ីសុវត្ថិ អគារ H', 'url': 'https://www.google.com/maps/place/%E1%9E%9C%E1%9E%B7%E1%9E%91%E1%9F%92%E1%9E%99%E1%9E%B6%E1%9E%9B%E1%9F%90%E1%9E%99%E1%9E%96%E1%9F%92%E1%9E%9A%E1%9F%87%E1%9E%9F%E1%9F%8A%E1%9E%B8%E1%9E%9F%E1%9E%BB%E1%9E%9C%E1%9E%8F%E1%9F%92%E1%9E%90%E1%9E%B7+%E1%9E%A2%E1%9E%82%E1%9E%B6%E1%9E%9A+H/data=!4m7!3m6!1s0x3109511442321dd9:0x4e386ad4a493833a!8m2!3d11.5634355!4d104.9247836!16s%2Fg%2F11v5d70ny1!19sChIJ2R0yQhRRCTEROoOTpNRqOE4?authuser=0&hl=km&rclk=1'}\n",
      "{'name': 'អនុវិទ្យាល៍យអូរបែកក្អម', 'url': 'https://www.google.com/maps/place/%E1%9E%A2%E1%9E%93%E1%9E%BB%E1%9E%9C%E1%9E%B7%E1%9E%91%E1%9F%92%E1%9E%99%E1%9E%B6%E1%9E%9B%E1%9F%8D%E1%9E%99%E1%9E%A2%E1%9E%BC%E1%9E%9A%E1%9E%94%E1%9F%82%E1%9E%80%E1%9E%80%E1%9F%92%E1%9E%A2%E1%9E%98/data=!4m7!3m6!1s0x310951a7d4b5ae05:0x8047ee8ce8d1a7ce!8m2!3d11.556224!4d104.8897324!16s%2Fg%2F12hk6968p!19sChIJBa611KdRCTERzqfR6IzuR4A?authuser=0&hl=km&rclk=1'}\n",
      "{'name': 'School Office', 'url': 'https://www.google.com/maps/place/School+Office/data=!4m7!3m6!1s0x3109515014971727:0xe1b14ffc652319fb!8m2!3d11.5647951!4d104.9121283!16s%2Fg%2F11t2_j5m9f!19sChIJJxeXFFBRCTER-xkjZfxPseE?authuser=0&hl=km&rclk=1'}\n",
      "{'name': 'Harrods International Academy (C5)', 'url': 'https://www.google.com/maps/place/Harrods+International+Academy+%28C5%29/data=!4m7!3m6!1s0x310951892ea276c1:0x5f4f60f037335188!8m2!3d11.551781!4d104.927381!16s%2Fg%2F11tmflp1hg!19sChIJwXaiLolRCTERiFEzN_BgT18?authuser=0&hl=km&rclk=1'}\n",
      "{'name': 'Seven76', 'url': 'https://www.google.com/maps/place/Seven76/data=!4m7!3m6!1s0x3109511ecb622a17:0xaa999827b18d5fec!8m2!3d11.580483!4d104.9186278!16s%2Fg%2F11j34v9dxg!19sChIJFypiyx5RCTER7F-NsSeYmao?authuser=0&hl=km&rclk=1'}\n",
      "{'name': 'សាលាអាមេរិកាំង ស្ទេនហ្វដ', 'url': 'https://www.google.com/maps/place/%E1%9E%9F%E1%9E%B6%E1%9E%9B%E1%9E%B6%E1%9E%A2%E1%9E%B6%E1%9E%98%E1%9F%81%E1%9E%9A%E1%9E%B7%E1%9E%80%E1%9E%B6%E1%9F%86%E1%9E%84+%E1%9E%9F%E1%9F%92%E1%9E%91%E1%9F%81%E1%9E%93%E1%9E%A0%E1%9F%92%E1%9E%9C%E1%9E%8A/data=!4m7!3m6!1s0x310951205c74b441:0x406bef9eee2c1a2!8m2!3d11.5649894!4d104.8997674!16s%2Fg%2F1hm27wvk6!19sChIJQbR0XCBRCTERosHi7vm-BgQ?authuser=0&hl=km&rclk=1'}\n",
      "{'name': 'សាលារៀន អន្តរទ្វីប អាមេរិកាំង សាខាទួលគោក', 'url': 'https://www.google.com/maps/place/%E1%9E%9F%E1%9E%B6%E1%9E%9B%E1%9E%B6%E1%9E%9A%E1%9F%80%E1%9E%93+%E1%9E%A2%E1%9E%93%E1%9F%92%E1%9E%8F%E1%9E%9A%E1%9E%91%E1%9F%92%E1%9E%9C%E1%9E%B8%E1%9E%94+%E1%9E%A2%E1%9E%B6%E1%9E%98%E1%9F%81%E1%9E%9A%E1%9E%B7%E1%9E%80%E1%9E%B6%E1%9F%86%E1%9E%84+%E1%9E%9F%E1%9E%B6%E1%9E%81%E1%9E%B6%E1%9E%91%E1%9E%BD%E1%9E%9B%E1%9E%82%E1%9F%84%E1%9E%80/data=!4m7!3m6!1s0x31095164b8532da5:0x8b61dfd63b1050d0!8m2!3d11.5817239!4d104.9047967!16s%2Fg%2F11b7l7b2_0!19sChIJpS1TuGRRCTER0FAQO9bfYYs?authuser=0&hl=km&rclk=1'}\n",
      "{'name': 'ពុទ្ធិក\\u200bវិទ្យាល័យព្រះសុរាម្រឹត', 'url': 'https://www.google.com/maps/place/%E1%9E%96%E1%9E%BB%E1%9E%91%E1%9F%92%E1%9E%92%E1%9E%B7%E1%9E%80%E2%80%8B%E1%9E%9C%E1%9E%B7%E1%9E%91%E1%9F%92%E1%9E%99%E1%9E%B6%E1%9E%9B%E1%9F%90%E1%9E%99%E1%9E%96%E1%9F%92%E1%9E%9A%E1%9F%87%E1%9E%9F%E1%9E%BB%E1%9E%9A%E1%9E%B6%E1%9E%98%E1%9F%92%E1%9E%9A%E1%9E%B9%E1%9E%8F/data=!4m7!3m6!1s0x31095134340691db:0xc0fdfab12ad470a4!8m2!3d11.5614961!4d104.934169!16s%2Fg%2F11b66jgvz3!19sChIJ25EGNDRRCTERpHDUKrH6_cA?authuser=0&hl=km&rclk=1'}\n",
      "{'name': 'Ruessei Srok Primary and Secondary School', 'url': 'https://www.google.com/maps/place/Ruessei+Srok+Primary+and+Secondary+School/data=!4m7!3m6!1s0x3109587506722887:0x863ca2de4317e25f!8m2!3d11.4690051!4d105.0300292!16s%2Fg%2F1hf1bm6ck!19sChIJhyhyBnVYCTERX-IXQ96iPIY?authuser=0&hl=km&rclk=1'}\n",
      "{'name': 'Russey Keo High School', 'url': 'https://www.google.com/maps/place/Russey+Keo+High+School/data=!4m7!3m6!1s0x310953004fcac0ed:0xac2abda1c503dbeb!8m2!3d11.6121376!4d104.9138571!16s%2Fg%2F11y5tjsqqj!19sChIJ7cDKTwBTCTER69sDxaG9Kqw?authuser=0&hl=km&rclk=1'}\n",
      "{'name': 'វិទ្យាល័យ\\u200bច្បារ\\u200bអំពៅ', 'url': 'https://www.google.com/maps/place/%E1%9E%9C%E1%9E%B7%E1%9E%91%E1%9F%92%E1%9E%99%E1%9E%B6%E1%9E%9B%E1%9F%90%E1%9E%99%E2%80%8B%E1%9E%85%E1%9F%92%E1%9E%94%E1%9E%B6%E1%9E%9A%E2%80%8B%E1%9E%A2%E1%9F%86%E1%9E%96%E1%9F%85/data=!4m7!3m6!1s0x310957301a9d2341:0x48e8a5f3d335776d!8m2!3d11.5298706!4d104.9490822!16s%2Fg%2F11c0rm5mm8!19sChIJQSOdGjBXCTERbXc10_Ol6Eg?authuser=0&hl=km&rclk=1'}\n",
      "{'name': 'សាលា\\u200bអន្តរជាតិ Invictus ភ្នំពេញ', 'url': 'https://www.google.com/maps/place/%E1%9E%9F%E1%9E%B6%E1%9E%9B%E1%9E%B6%E2%80%8B%E1%9E%A2%E1%9E%93%E1%9F%92%E1%9E%8F%E1%9E%9A%E1%9E%87%E1%9E%B6%E1%9E%8F%E1%9E%B7+Invictus+%E1%9E%97%E1%9F%92%E1%9E%93%E1%9F%86%E1%9E%96%E1%9F%81%E1%9E%89/data=!4m7!3m6!1s0x310951fb4b72de1d:0xd44c8447b48f3780!8m2!3d11.5514921!4d104.9287144!16s%2Fg%2F11h9h3m81n!19sChIJHd5yS_tRCTERgDePtEeETNQ?authuser=0&hl=km&rclk=1'}\n",
      "{'name': 'វិទ្យាល័យជាស៊ីមសាមគ្គី', 'url': 'https://www.google.com/maps/place/%E1%9E%9C%E1%9E%B7%E1%9E%91%E1%9F%92%E1%9E%99%E1%9E%B6%E1%9E%9B%E1%9F%90%E1%9E%99%E1%9E%87%E1%9E%B6%E1%9E%9F%E1%9F%8A%E1%9E%B8%E1%9E%98%E1%9E%9F%E1%9E%B6%E1%9E%98%E1%9E%82%E1%9F%92%E1%9E%82%E1%9E%B8/data=!4m7!3m6!1s0x31095116d7858053:0x3e67830863a26593!8m2!3d11.5496961!4d104.8916123!16s%2Fg%2F11s8t7g6dd!19sChIJU4CF1xZRCTERk2WiYwiDZz4?authuser=0&hl=km&rclk=1'}\n",
      "{'name': 'វិវិវិត', 'url': 'https://www.google.com/maps/place/%E1%9E%9C%E1%9E%B7%E1%9E%9C%E1%9E%B7%E1%9E%9C%E1%9E%B7%E1%9E%8F/data=!4m7!3m6!1s0x310951002e89fd3b:0xccbefa1acc38cea!8m2!3d11.5646324!4d104.929463!16s%2Fg%2F11wb84_wgl!19sChIJO_2JLgBRCTER6ozDrKHvyww?authuser=0&hl=km&rclk=1'}\n",
      "{'name': 'សាលាអន្តរជាតិញូវយ៉ក', 'url': 'https://www.google.com/maps/place/%E1%9E%9F%E1%9E%B6%E1%9E%9B%E1%9E%B6%E1%9E%A2%E1%9E%93%E1%9F%92%E1%9E%8F%E1%9E%9A%E1%9E%87%E1%9E%B6%E1%9E%8F%E1%9E%B7%E1%9E%89%E1%9E%BC%E1%9E%9C%E1%9E%99%E1%9F%89%E1%9E%80/data=!4m7!3m6!1s0x310953bdfca485bb:0x49a59da4d6937d4c!8m2!3d11.6157623!4d104.9147688!16s%2Fg%2F11b75k01ct!19sChIJu4Wk_L1TCTERTH2T1qSdpUk?authuser=0&hl=km&rclk=1'}\n",
      "{'name': 'Building A', 'url': 'https://www.google.com/maps/place/Building+A/data=!4m7!3m6!1s0x310951d5785aef3f:0x6738fa39374973dd!8m2!3d11.5651025!4d104.9125527!16s%2Fg%2F11t3fc0d28!19sChIJP-9aeNVRCTER3XNJNzn6OGc?authuser=0&hl=km&rclk=1'}\n",
      "{'name': 'វិទ្យាល័យឥន្ទ្រទេវី', 'url': 'https://www.google.com/maps/place/%E1%9E%9C%E1%9E%B7%E1%9E%91%E1%9F%92%E1%9E%99%E1%9E%B6%E1%9E%9B%E1%9F%90%E1%9E%99%E1%9E%A5%E1%9E%93%E1%9F%92%E1%9E%91%E1%9F%92%E1%9E%9A%E1%9E%91%E1%9F%81%E1%9E%9C%E1%9E%B8/data=!4m7!3m6!1s0x3109519d4c78b7ed:0x38ab077e1fc2e7aa!8m2!3d11.5776353!4d104.8914698!16s%2Fg%2F1v_vqcgq!19sChIJ7bd4TJ1RCTERqufCH34Hqzg?authuser=0&hl=km&rclk=1'}\n",
      "{'name': 'សាលា មត្តេយ្យ បឋម និងមធ្យមសិក្សា មីគីវ៉េ', 'url': 'https://www.google.com/maps/place/%E1%9E%9F%E1%9E%B6%E1%9E%9B%E1%9E%B6+%E1%9E%98%E1%9E%8F%E1%9F%92%E1%9E%8F%E1%9F%81%E1%9E%99%E1%9F%92%E1%9E%99+%E1%9E%94%E1%9E%8B%E1%9E%98+%E1%9E%93%E1%9E%B7%E1%9E%84%E1%9E%98%E1%9E%92%E1%9F%92%E1%9E%99%E1%9E%98%E1%9E%9F%E1%9E%B7%E1%9E%80%E1%9F%92%E1%9E%9F%E1%9E%B6+%E1%9E%98%E1%9E%B8%E1%9E%82%E1%9E%B8%E1%9E%9C%E1%9F%89%E1%9F%81/data=!4m7!3m6!1s0x310953d6cdc01793:0xcadd7c9142d0759e!8m2!3d11.5940027!4d104.9001094!16s%2Fg%2F11h0t0ggs1!19sChIJkxfAzdZTCTERnnXQQpF83co?authuser=0&hl=km&rclk=1'}\n",
      "{'name': 'Golden Bridge International School of Phnom Penh - Tuol Kork Campus', 'url': 'https://www.google.com/maps/place/Golden+Bridge+International+School+of+Phnom+Penh+-+Tuol+Kork+Campus/data=!4m7!3m6!1s0x3109515df2e7f70b:0x1c16db8ffd645f78!8m2!3d11.5821165!4d104.8942485!16s%2Fg%2F11jgyx_288!19sChIJC_fn8l1RCTEReF9k_Y_bFhw?authuser=0&hl=km&rclk=1'}\n",
      "{'name': 'វិទ្យាល័យ\\u200bហ៊ុន សែនបុរី\\u200b១០០ខ្នង', 'url': 'https://www.google.com/maps/place/%E1%9E%9C%E1%9E%B7%E1%9E%91%E1%9F%92%E1%9E%99%E1%9E%B6%E1%9E%9B%E1%9F%90%E1%9E%99%E2%80%8B%E1%9E%A0%E1%9F%8A%E1%9E%BB%E1%9E%93+%E1%9E%9F%E1%9F%82%E1%9E%93%E1%9E%94%E1%9E%BB%E1%9E%9A%E1%9E%B8%E2%80%8B%E1%9F%A1%E1%9F%A0%E1%9F%A0%E1%9E%81%E1%9F%92%E1%9E%93%E1%9E%84/data=!4m7!3m6!1s0x310951c0b0855f8b:0xfe9225025a8f9bf3!8m2!3d11.5632755!4d104.8679224!16s%2Fg%2F1q660tcsb!19sChIJi1-FsMBRCTER85uPWgIlkv4?authuser=0&hl=km&rclk=1'}\n",
      "{'name': 'សាលា\\u200bអង់គ្លេស\\u200bអន្តរជាតិ រាជធានី\\u200bភ្នំពេញ', 'url': 'https://www.google.com/maps/place/%E1%9E%9F%E1%9E%B6%E1%9E%9B%E1%9E%B6%E2%80%8B%E1%9E%A2%E1%9E%84%E1%9F%8B%E1%9E%82%E1%9F%92%E1%9E%9B%E1%9F%81%E1%9E%9F%E2%80%8B%E1%9E%A2%E1%9E%93%E1%9F%92%E1%9E%8F%E1%9E%9A%E1%9E%87%E1%9E%B6%E1%9E%8F%E1%9E%B7+%E1%9E%9A%E1%9E%B6%E1%9E%87%E1%9E%92%E1%9E%B6%E1%9E%93%E1%9E%B8%E2%80%8B%E1%9E%97%E1%9F%92%E1%9E%93%E1%9F%86%E1%9E%96%E1%9F%81%E1%9E%89/data=!4m7!3m6!1s0x3109512542cd8c45:0xae1903ef8ba39ca2!8m2!3d11.5130619!4d104.9829059!16s%2Fg%2F11c708x3lf!19sChIJRYzNQiVRCTERopyji-8DGa4?authuser=0&hl=km&rclk=1'}\n",
      "{'name': 'Toul Prasat Sen Sok High School', 'url': 'https://www.google.com/maps/place/Toul+Prasat+Sen+Sok+High+School/data=!4m7!3m6!1s0x310953b812817cc7:0x798bfacfbee8f965!8m2!3d11.5981087!4d104.8697436!16s%2Fg%2F11h3mvty02!19sChIJx3yBErhTCTERZfnovs_6i3k?authuser=0&hl=km&rclk=1'}\n",
      "{'name': 'សាលាបឋមសិក្សា និងអនុវិទ្យាល័យ ចំរើនជាតិ\\u200b', 'url': 'https://www.google.com/maps/place/%E1%9E%9F%E1%9E%B6%E1%9E%9B%E1%9E%B6%E1%9E%94%E1%9E%8B%E1%9E%98%E1%9E%9F%E1%9E%B7%E1%9E%80%E1%9F%92%E1%9E%9F%E1%9E%B6+%E1%9E%93%E1%9E%B7%E1%9E%84%E1%9E%A2%E1%9E%93%E1%9E%BB%E1%9E%9C%E1%9E%B7%E1%9E%91%E1%9F%92%E1%9E%99%E1%9E%B6%E1%9E%9B%E1%9F%90%E1%9E%99+%E1%9E%85%E1%9F%86%E1%9E%9A%E1%9E%BE%E1%9E%93%E1%9E%87%E1%9E%B6%E1%9E%8F%E1%9E%B7%E2%80%8B/data=!4m7!3m6!1s0x310953006d955555:0x9fce71a284d69fae!8m2!3d11.6340725!4d104.8939002!16s%2Fg%2F11sf10h14n!19sChIJVVWVbQBTCTERrp_WhKJxzp8?authuser=0&hl=km&rclk=1'}\n",
      "{'name': 'តារាងបាល់ទាត់វិទ្យាល័យព្រះស៊ីសុវត្ថិ(SisowatFootballPitc)', 'url': 'https://www.google.com/maps/place/%E1%9E%8F%E1%9E%B6%E1%9E%9A%E1%9E%B6%E1%9E%84%E1%9E%94%E1%9E%B6%E1%9E%9B%E1%9F%8B%E1%9E%91%E1%9E%B6%E1%9E%8F%E1%9F%8B%E1%9E%9C%E1%9E%B7%E1%9E%91%E1%9F%92%E1%9E%99%E1%9E%B6%E1%9E%9B%E1%9F%90%E1%9E%99%E1%9E%96%E1%9F%92%E1%9E%9A%E1%9F%87%E1%9E%9F%E1%9F%8A%E1%9E%B8%E1%9E%9F%E1%9E%BB%E1%9E%9C%E1%9E%8F%E1%9F%92%E1%9E%90%E1%9E%B7%28SisowatFootballPitc%29/data=!4m7!3m6!1s0x310951006ba1b2ff:0x510ebbbbc57ba7a2!8m2!3d11.5660435!4d104.9235543!16s%2Fg%2F11vx93gxdz!19sChIJ_7KhawBRCTERoqd7xbu7DlE?authuser=0&hl=km&rclk=1'}\n",
      "{'name': 'សាលា\\u200bអន្តរជាតិ Shrewsbury ភ្នំពេញ', 'url': 'https://www.google.com/maps/place/%E1%9E%9F%E1%9E%B6%E1%9E%9B%E1%9E%B6%E2%80%8B%E1%9E%A2%E1%9E%93%E1%9F%92%E1%9E%8F%E1%9E%9A%E1%9E%87%E1%9E%B6%E1%9E%8F%E1%9E%B7+Shrewsbury+%E1%9E%97%E1%9F%92%E1%9E%93%E1%9F%86%E1%9E%96%E1%9F%81%E1%9E%89/data=!4m7!3m6!1s0x3109518143bb7351:0x5c955f4d07c4e887!8m2!3d11.5934187!4d104.9364568!16s%2Fg%2F11s7zf__7r!19sChIJUXO7Q4FRCTERh-jEB01flVw?authuser=0&hl=km&rclk=1'}\n",
      "{'name': 'Math today School', 'url': 'https://www.google.com/maps/place/Math+today+School/data=!4m7!3m6!1s0x310951037c1d961d:0x4e4134ede2552f73!8m2!3d11.565523!4d104.9130806!16s%2Fg%2F11y20g_0xp!19sChIJHZYdfANRCTERcy9V4u00QU4?authuser=0&hl=km&rclk=1'}\n",
      "{'name': 'អនុវិទ្យាល័យ ហ៊ុនសែនពោធិ៍ចិនតុង', 'url': 'https://www.google.com/maps/place/%E1%9E%A2%E1%9E%93%E1%9E%BB%E1%9E%9C%E1%9E%B7%E1%9E%91%E1%9F%92%E1%9E%99%E1%9E%B6%E1%9E%9B%E1%9F%90%E1%9E%99+%E1%9E%A0%E1%9F%8A%E1%9E%BB%E1%9E%93%E1%9E%9F%E1%9F%82%E1%9E%93%E1%9E%96%E1%9F%84%E1%9E%92%E1%9E%B7%E1%9F%8D%E1%9E%85%E1%9E%B7%E1%9E%93%E1%9E%8F%E1%9E%BB%E1%9E%84/data=!4m7!3m6!1s0x310951c4abf415d7:0x7c3e5919f97a4aae!8m2!3d11.5630017!4d104.8590284!16s%2Fg%2F11xfy0cnl!19sChIJ1xX0q8RRCTERrkp6-RlZPnw?authuser=0&hl=km&rclk=1'}\n",
      "{'name': 'សាលារៀន អារីហ្សូន – ARIZON SCHOOL Orussey Campus', 'url': 'https://www.google.com/maps/place/%E1%9E%9F%E1%9E%B6%E1%9E%9B%E1%9E%B6%E1%9E%9A%E1%9F%80%E1%9E%93+%E1%9E%A2%E1%9E%B6%E1%9E%9A%E1%9E%B8%E1%9E%A0%E1%9F%92%E1%9E%9F%E1%9E%BC%E1%9E%93+%E2%80%93+ARIZON+SCHOOL+Orussey+Campus/data=!4m7!3m6!1s0x31095115ec4b4e41:0xbc9ea0b4abac25c!8m2!3d11.5614788!4d104.9147928!16s%2Fg%2F1hc3qmys2!19sChIJQU5L7BVRCTERXMK6SgvqyQs?authuser=0&hl=km&rclk=1'}\n",
      "{'name': 'The Camboland International School', 'url': 'https://www.google.com/maps/place/The+Camboland+International+School/data=!4m7!3m6!1s0x3109570074d628cb:0x4e32c0caa935df10!8m2!3d11.5095388!4d104.9435815!16s%2Fg%2F11vrwy_vty!19sChIJyyjWdABXCTEREN81qcrAMk4?authuser=0&hl=km&rclk=1'}\n",
      "{'name': 'វិទ្យាល័យ\\u200bអន្តរជាតិ CIA FIRST', 'url': 'https://www.google.com/maps/place/%E1%9E%9C%E1%9E%B7%E1%9E%91%E1%9F%92%E1%9E%99%E1%9E%B6%E1%9E%9B%E1%9F%90%E1%9E%99%E2%80%8B%E1%9E%A2%E1%9E%93%E1%9F%92%E1%9E%8F%E1%9E%9A%E1%9E%87%E1%9E%B6%E1%9E%8F%E1%9E%B7+CIA+FIRST/data=!4m7!3m6!1s0x310951f895a64d83:0x952f6b93a2ea10ac!8m2!3d11.5468016!4d104.8657474!16s%2Fg%2F11n5bnt8vk!19sChIJg02mlfhRCTERrBDqopNrL5U?authuser=0&hl=km&rclk=1'}\n",
      "{'name': 'Teok Laork High School Back Door', 'url': 'https://www.google.com/maps/place/Teok+Laork+High+School+Back+Door/data=!4m7!3m6!1s0x3109519641cdfc77:0x518ba8d3e967ffcc!8m2!3d11.5602152!4d104.8971452!16s%2Fg%2F11s8_8cttg!19sChIJd_zNQZZRCTERzP9n6dOoi1E?authuser=0&hl=km&rclk=1'}\n",
      "{'name': 'Western International School - Stadium (Main Campus)', 'url': 'https://www.google.com/maps/place/Western+International+School+-+Stadium+%28Main+Campus%29/data=!4m7!3m6!1s0x3109519e61e7251b:0x308b0c2e593ce8b8!8m2!3d11.5812811!4d104.8845226!16s%2Fg%2F11g5rr8zt0!19sChIJGyXnYZ5RCTERuOg8WS4MizA?authuser=0&hl=km&rclk=1'}\n",
      "{'name': 'Home Of English International School', 'url': 'https://www.google.com/maps/place/Home+Of+English+International+School/data=!4m7!3m6!1s0x3109513acd0f66eb:0x50807147b4e1d2f5!8m2!3d11.5478858!4d104.9148703!16s%2Fm%2F0g55ttn!19sChIJ62YPzTpRCTER9dLhtEdxgFA?authuser=0&hl=km&rclk=1'}\n",
      "{'name': 'វិទ្យាល័យ ទួលសង្កែ', 'url': 'https://www.google.com/maps/place/%E1%9E%9C%E1%9E%B7%E1%9E%91%E1%9F%92%E1%9E%99%E1%9E%B6%E1%9E%9B%E1%9F%90%E1%9E%99+%E1%9E%91%E1%9E%BD%E1%9E%9B%E1%9E%9F%E1%9E%84%E1%9F%92%E1%9E%80%E1%9F%82/data=!4m7!3m6!1s0x3109534e462049bf:0x41a5c33d73835b23!8m2!3d11.5889625!4d104.9105164!16s%2Fg%2F11q41whspz!19sChIJv0kgRk5TCTERI1uDcz3DpUE?authuser=0&hl=km&rclk=1'}\n",
      "{'name': 'អនុវិទ្យាល័យ រទាំង\\u200b\\u200b (Roteang Secondary School)', 'url': 'https://www.google.com/maps/place/%E1%9E%A2%E1%9E%93%E1%9E%BB%E1%9E%9C%E1%9E%B7%E1%9E%91%E1%9F%92%E1%9E%99%E1%9E%B6%E1%9E%9B%E1%9F%90%E1%9E%99+%E1%9E%9A%E1%9E%91%E1%9E%B6%E1%9F%86%E1%9E%84%E2%80%8B%E2%80%8B+%28Roteang+Secondary+School%29/data=!4m7!3m6!1s0x310bfd57e04a14d7:0x9c1ce1d3fdcb6bb5!8m2!3d11.5031915!4d105.0323971!16s%2Fg%2F11df1rg6t1!19sChIJ1xRK4Ff9CzERtWvL_dPhHJw?authuser=0&hl=km&rclk=1'}\n",
      "{'name': 'សាលា អន្តរជាតិ អុិសវ៉េស', 'url': 'https://www.google.com/maps/place/%E1%9E%9F%E1%9E%B6%E1%9E%9B%E1%9E%B6+%E1%9E%A2%E1%9E%93%E1%9F%92%E1%9E%8F%E1%9E%9A%E1%9E%87%E1%9E%B6%E1%9E%8F%E1%9E%B7+%E1%9E%A2%E1%9E%BB%E1%9E%B7%E1%9E%9F%E1%9E%9C%E1%9F%89%E1%9F%81%E1%9E%9F/data=!4m7!3m6!1s0x31095121ddd545af:0x5660967e28340a81!8m2!3d11.5477946!4d104.9159375!16s%2Fg%2F1tdhbgsr!19sChIJr0XV3SFRCTERgQo0KH6WYFY?authuser=0&hl=km&rclk=1'}\n",
      "{'name': 'វិទ្យាល័យអនុវត្ត', 'url': 'https://www.google.com/maps/place/%E1%9E%9C%E1%9E%B7%E1%9E%91%E1%9F%92%E1%9E%99%E1%9E%B6%E1%9E%9B%E1%9F%90%E1%9E%99%E1%9E%A2%E1%9E%93%E1%9E%BB%E1%9E%9C%E1%9E%8F%E1%9F%92%E1%9E%8F/data=!4m7!3m6!1s0x310951b43015b91b:0x9eebdaf43b725242!8m2!3d11.5572569!4d104.9261086!16s%2Fg%2F11nwww_kwx!19sChIJG7kVMLRRCTERQlJyO_Ta654?authuser=0&hl=km&rclk=1'}\n",
      "{'name': 'TVBឣចលនទ្រព្យគ្រប់ប្រភេទ015889958', 'url': 'https://www.google.com/maps/place/TVB%E1%9E%A3%E1%9E%85%E1%9E%9B%E1%9E%93%E1%9E%91%E1%9F%92%E1%9E%9A%E1%9E%96%E1%9F%92%E1%9E%99%E1%9E%82%E1%9F%92%E1%9E%9A%E1%9E%94%E1%9F%8B%E1%9E%94%E1%9F%92%E1%9E%9A%E1%9E%97%E1%9F%81%E1%9E%91015889958/data=!4m7!3m6!1s0x3109515a4e103a63:0x3d9c013f907df86f!8m2!3d11.5563738!4d104.9282099!16s%2Fg%2F11pckn6vqb!19sChIJYzoQTlpRCTERb_h9kD8BnD0?authuser=0&hl=km&rclk=1'}\n",
      "{'name': 'CPV High School', 'url': 'https://www.google.com/maps/place/CPV+High+School/data=!4m7!3m6!1s0x31094f970cef205d:0x6d59ab90a78fdd20!8m2!3d11.5318821!4d104.820731!16s%2Fg%2F11j0bsnszv!19sChIJXSDvDJdPCTERIN2Pp5CrWW0?authuser=0&hl=km&rclk=1'}\n",
      "{'name': 'CUS', 'url': 'https://www.google.com/maps/place/CUS/data=!4m7!3m6!1s0x310953cd82413029:0x1571e672a44b9c56!8m2!3d11.592918!4d104.8990651!16s%2Fg%2F11mqg0tk18!19sChIJKTBBgs1TCTERVpxLpHLmcRU?authuser=0&hl=km&rclk=1'}\n",
      "{'name': 'Beitel School', 'url': 'https://www.google.com/maps/place/Beitel+School/data=!4m7!3m6!1s0x3109510d4a41873f:0x7709ea445faf8ac9!8m2!3d11.5720348!4d104.8533295!16s%2Fg%2F11qnllqtqm!19sChIJP4dBSg1RCTERyYqvX0TqCXc?authuser=0&hl=km&rclk=1'}\n",
      "{'name': 'តាត់', 'url': 'https://www.google.com/maps/place/%E1%9E%8F%E1%9E%B6%E1%9E%8F%E1%9F%8B/data=!4m7!3m6!1s0x31095109a128774b:0xdbcae3f95660c114!8m2!3d11.582235!4d104.9221417!16s%2Fg%2F11v0wxqyj5!19sChIJS3cooQlRCTERFMFgVvnjyts?authuser=0&hl=km&rclk=1'}\n",
      "{'name': 'វិទ្យាល័យ បុសខ្នុរ', 'url': 'https://www.google.com/maps/place/%E1%9E%9C%E1%9E%B7%E1%9E%91%E1%9F%92%E1%9E%99%E1%9E%B6%E1%9E%9B%E1%9F%90%E1%9E%99+%E1%9E%94%E1%9E%BB%E1%9E%9F%E1%9E%81%E1%9F%92%E1%9E%93%E1%9E%BB%E1%9E%9A/data=!4m7!3m6!1s0x310c3756a33a5b55:0x457246fab9a39e3c!8m2!3d11.5308808!4d104.872791!16s%2Fg%2F1hd_cpzm9!19sChIJVVs6o1Y3DDERPJ6jufpGckU?authuser=0&hl=km&rclk=1'}\n",
      "{'name': 'Daun Penh', 'url': 'https://www.google.com/maps/place/Daun+Penh/data=!4m7!3m6!1s0x31095138eec7dc71:0xf44eaf040af99da7!8m2!3d11.5635477!4d104.9232368!16s%2Fg%2F11c6t9phwc!19sChIJcdzH7jhRCTERp535CgSvTvQ?authuser=0&hl=km&rclk=1'}\n",
      "{'name': 'វិទ្យាល័យ ទួលអំពិល', 'url': 'https://www.google.com/maps/place/%E1%9E%9C%E1%9E%B7%E1%9E%91%E1%9F%92%E1%9E%99%E1%9E%B6%E1%9E%9B%E1%9F%90%E1%9E%99+%E1%9E%91%E1%9E%BD%E1%9E%9B%E1%9E%A2%E1%9F%86%E1%9E%96%E1%9E%B7%E1%9E%9B/data=!4m7!3m6!1s0x31095a7fff407c9b:0x6b143b694706f85d!8m2!3d11.500573!4d104.892523!16s%2Fg%2F11ckvf5k6l!19sChIJm3xA_39aCTERXfgGR2k7FGs?authuser=0&hl=km&rclk=1'}\n",
      "{'name': 'Sala wp', 'url': 'https://www.google.com/maps/place/Sala+wp/data=!4m7!3m6!1s0x310951005ad4ff6b:0xcbe373c486d0ea40!8m2!3d11.5849593!4d104.9175319!16s%2Fg%2F11w3p7__3n!19sChIJa__UWgBRCTERQOrQhsRz48s?authuser=0&hl=km&rclk=1'}\n",
      "{'name': 'សាលា មត្តេយ្យ បឋម និងមធ្យមសិក្សា មីគីវ៉េ', 'url': 'https://www.google.com/maps/place/%E1%9E%9F%E1%9E%B6%E1%9E%9B%E1%9E%B6+%E1%9E%98%E1%9E%8F%E1%9F%92%E1%9E%8F%E1%9F%81%E1%9E%99%E1%9F%92%E1%9E%99+%E1%9E%94%E1%9E%8B%E1%9E%98+%E1%9E%93%E1%9E%B7%E1%9E%84%E1%9E%98%E1%9E%92%E1%9F%92%E1%9E%99%E1%9E%98%E1%9E%9F%E1%9E%B7%E1%9E%80%E1%9F%92%E1%9E%9F%E1%9E%B6+%E1%9E%98%E1%9E%B8%E1%9E%82%E1%9E%B8%E1%9E%9C%E1%9F%89%E1%9F%81/data=!4m7!3m6!1s0x310953de1e1c8877:0xba9264d41076ba87!8m2!3d11.5923378!4d104.9155044!16s%2Fg%2F11h2ff7b92!19sChIJd4gcHt5TCTERh7p2ENRkkro?authuser=0&hl=km&rclk=1'}\n",
      "{'name': '车', 'url': 'https://www.google.com/maps/place/%E8%BD%A6/data=!4m7!3m6!1s0x310953007c4f9d51:0xc8ae09b3fa7cd54f!8m2!3d11.5943629!4d104.9286303!16s%2Fg%2F11vzm32zdg!19sChIJUZ1PfABTCTERT9V8-rMJrsg?authuser=0&hl=km&rclk=1'}\n",
      "{'name': 'វិទ្យាល័យ ហ៊ុនសែន ប៊ុនរ៉ានី ផ្សារដើមថ្កូវ', 'url': 'https://www.google.com/maps/place/%E1%9E%9C%E1%9E%B7%E1%9E%91%E1%9F%92%E1%9E%99%E1%9E%B6%E1%9E%9B%E1%9F%90%E1%9E%99+%E1%9E%A0%E1%9F%8A%E1%9E%BB%E1%9E%93%E1%9E%9F%E1%9F%82%E1%9E%93+%E1%9E%94%E1%9F%8A%E1%9E%BB%E1%9E%93%E1%9E%9A%E1%9F%89%E1%9E%B6%E1%9E%93%E1%9E%B8+%E1%9E%95%E1%9F%92%E1%9E%9F%E1%9E%B6%E1%9E%9A%E1%9E%8A%E1%9E%BE%E1%9E%98%E1%9E%90%E1%9F%92%E1%9E%80%E1%9E%BC%E1%9E%9C/data=!4m7!3m6!1s0x310950e7e4557fdf:0x128c2089098ed87f!8m2!3d11.5329612!4d104.9143158!16s%2Fg%2F1q66sxx6n!19sChIJ339V5OdQCTERf9iOCYkgjBI?authuser=0&hl=km&rclk=1'}\n",
      "{'name': 'Duong Radet', 'url': 'https://www.google.com/maps/place/Duong+Radet/data=!4m7!3m6!1s0x310953ac019fa731:0x4618dd7bd1daa542!8m2!3d11.593767!4d104.91339!16s%2Fg%2F11tp0vzhjy!19sChIJMaefAaxTCTERQqXa0XvdGEY?authuser=0&hl=km&rclk=1'}\n",
      "{'name': 'ផន សម្ភស់', 'url': 'https://www.google.com/maps/place/%E1%9E%95%E1%9E%93+%E1%9E%9F%E1%9E%98%E1%9F%92%E1%9E%97%E1%9E%9F%E1%9F%8B/data=!4m7!3m6!1s0x310951ef821b122d:0x41e308a920eb4adf!8m2!3d11.5563738!4d104.9282099!16s%2Fg%2F11sqxgx1ry!19sChIJLRIbgu9RCTER30rrIKkI40E?authuser=0&hl=km&rclk=1'}\n",
      "{'name': 'សាលារៀនសុវណ្ណភូមិ សាខាដូន\\u200bពេញ', 'url': 'https://www.google.com/maps/place/%E1%9E%9F%E1%9E%B6%E1%9E%9B%E1%9E%B6%E1%9E%9A%E1%9F%80%E1%9E%93%E1%9E%9F%E1%9E%BB%E1%9E%9C%E1%9E%8E%E1%9F%92%E1%9E%8E%E1%9E%97%E1%9E%BC%E1%9E%98%E1%9E%B7+%E1%9E%9F%E1%9E%B6%E1%9E%81%E1%9E%B6%E1%9E%8A%E1%9E%BC%E1%9E%93%E2%80%8B%E1%9E%96%E1%9F%81%E1%9E%89/data=!4m7!3m6!1s0x310951a6192c1c79:0x8751e9ad496395e9!8m2!3d11.5625035!4d104.9247193!16s%2Fg%2F11f3_s9fnz!19sChIJeRwsGaZRCTER6ZVjSa3pUYc?authuser=0&hl=km&rclk=1'}\n",
      "{'name': 'វិទ្យាល័យចំរើនផល', 'url': 'https://www.google.com/maps/place/%E1%9E%9C%E1%9E%B7%E1%9E%91%E1%9F%92%E1%9E%99%E1%9E%B6%E1%9E%9B%E1%9F%90%E1%9E%99%E1%9E%85%E1%9F%86%E1%9E%9A%E1%9E%BE%E1%9E%93%E1%9E%95%E1%9E%9B/data=!4m7!3m6!1s0x310950fcd5204f1f:0xc149025fcc21ef15!8m2!3d11.5410724!4d104.9036515!16s%2Fg%2F11b6_nb53n!19sChIJH08g1fxQCTERFe8hzF8CScE?authuser=0&hl=km&rclk=1'}\n",
      "{'name': 'សាលាបឋមសិក្សា-អនុវិទ្យាល័យ ព្រែកប្រា', 'url': 'https://www.google.com/maps/place/%E1%9E%9F%E1%9E%B6%E1%9E%9B%E1%9E%B6%E1%9E%94%E1%9E%8B%E1%9E%98%E1%9E%9F%E1%9E%B7%E1%9E%80%E1%9F%92%E1%9E%9F%E1%9E%B6-%E1%9E%A2%E1%9E%93%E1%9E%BB%E1%9E%9C%E1%9E%B7%E1%9E%91%E1%9F%92%E1%9E%99%E1%9E%B6%E1%9E%9B%E1%9F%90%E1%9E%99+%E1%9E%96%E1%9F%92%E1%9E%9A%E1%9F%82%E1%9E%80%E1%9E%94%E1%9F%92%E1%9E%9A%E1%9E%B6/data=!4m7!3m6!1s0x3109574c4c7acf45:0xdb035c96ddd8f520!8m2!3d11.5120329!4d104.9428579!16s%2Fg%2F11b6c9pztk!19sChIJRc96TExXCTERIPXY3ZZcA9s?authuser=0&hl=km&rclk=1'}\n",
      "{'name': 'សាលាបឋមសិក្សា-អនុវិទ្យាល័យដង្កោ (Primary School - Secondary School)', 'url': 'https://www.google.com/maps/place/%E1%9E%9F%E1%9E%B6%E1%9E%9B%E1%9E%B6%E1%9E%94%E1%9E%8B%E1%9E%98%E1%9E%9F%E1%9E%B7%E1%9E%80%E1%9F%92%E1%9E%9F%E1%9E%B6-%E1%9E%A2%E1%9E%93%E1%9E%BB%E1%9E%9C%E1%9E%B7%E1%9E%91%E1%9F%92%E1%9E%99%E1%9E%B6%E1%9E%9B%E1%9F%90%E1%9E%99%E1%9E%8A%E1%9E%84%E1%9F%92%E1%9E%80%E1%9F%84+%28Primary+School+-+Secondary+School%29/data=!4m7!3m6!1s0x3109507d5e4734c7:0x2d615ce99e4bc8ec!8m2!3d11.5104251!4d104.8919161!16s%2Fg%2F11g6ntjs88!19sChIJxzRHXn1QCTER7MhLnulcYS0?authuser=0&hl=km&rclk=1'}\n",
      "{'name': 'ការិយាល័យសិក្សានៃសាលាមធ្យមវិចិត្រសិល្បៈ', 'url': 'https://www.google.com/maps/place/%E1%9E%80%E1%9E%B6%E1%9E%9A%E1%9E%B7%E1%9E%99%E1%9E%B6%E1%9E%9B%E1%9F%90%E1%9E%99%E1%9E%9F%E1%9E%B7%E1%9E%80%E1%9F%92%E1%9E%9F%E1%9E%B6%E1%9E%93%E1%9F%83%E1%9E%9F%E1%9E%B6%E1%9E%9B%E1%9E%B6%E1%9E%98%E1%9E%92%E1%9F%92%E1%9E%99%E1%9E%98%E1%9E%9C%E1%9E%B7%E1%9E%85%E1%9E%B7%E1%9E%8F%E1%9F%92%E1%9E%9A%E1%9E%9F%E1%9E%B7%E1%9E%9B%E1%9F%92%E1%9E%94%E1%9F%88/data=!4m7!3m6!1s0x3109512bacbeb0f1:0x687155270e01227f!8m2!3d11.5870983!4d104.8763751!16s%2Fg%2F11l24f_tvb!19sChIJ8bC-rCtRCTERfyIBDidVcWg?authuser=0&hl=km&rclk=1'}\n",
      "{'name': 'Glolink International School', 'url': 'https://www.google.com/maps/place/Glolink+International+School/data=!4m7!3m6!1s0x31095220b7c25069:0xaf27fb690e4a86f4!8m2!3d11.591651!4d104.8736046!16s%2Fg%2F11cn8_4581!19sChIJaVDCtyBSCTER9IZKDmn7J68?authuser=0&hl=km&rclk=1'}\n",
      "{'name': 'Extra class', 'url': 'https://www.google.com/maps/place/Extra+class/data=!4m7!3m6!1s0x310951007304ad51:0xee17dd8da7b920f3!8m2!3d11.5520516!4d104.8948051!16s%2Fg%2F11vpp9pww0!19sChIJUa0EcwBRCTER8yC5p43dF-4?authuser=0&hl=km&rclk=1'}\n",
      "{'name': 'អនុវិទ្យាល័យព្រែករាំង', 'url': 'https://www.google.com/maps/place/%E1%9E%A2%E1%9E%93%E1%9E%BB%E1%9E%9C%E1%9E%B7%E1%9E%91%E1%9F%92%E1%9E%99%E1%9E%B6%E1%9E%9B%E1%9F%90%E1%9E%99%E1%9E%96%E1%9F%92%E1%9E%9A%E1%9F%82%E1%9E%80%E1%9E%9A%E1%9E%B6%E1%9F%86%E1%9E%84/data=!4m7!3m6!1s0x31095327b00f0ed5:0xbf23a51b8e379652!8m2!3d11.6510025!4d104.8814577!16s%2Fg%2F11kz07xzr7!19sChIJ1Q4PsCdTCTERUpY3jhulI78?authuser=0&hl=km&rclk=1'}\n",
      "{'name': 'វិទ្យាល័យវ៉ារិន', 'url': 'https://www.google.com/maps/place/%E1%9E%9C%E1%9E%B7%E1%9E%91%E1%9F%92%E1%9E%99%E1%9E%B6%E1%9E%9B%E1%9F%90%E1%9E%99%E1%9E%9C%E1%9F%89%E1%9E%B6%E1%9E%9A%E1%9E%B7%E1%9E%93/data=!4m7!3m6!1s0x3109517cd5b4d7d3:0x77c3ef6d1a378184!8m2!3d11.5635373!4d104.8997059!16s%2Fg%2F11hvpq3wt2!19sChIJ09e01XxRCTERhIE3Gm3vw3c?authuser=0&hl=km&rclk=1'}\n",
      "{'name': 'អនវិទ្យាល័យប៊ុនរ៉ានីហ៊ុនសែន\\u200bព្រែក\\u200bថ្មី\\u200b', 'url': 'https://www.google.com/maps/place/%E1%9E%A2%E1%9E%93%E1%9E%9C%E1%9E%B7%E1%9E%91%E1%9F%92%E1%9E%99%E1%9E%B6%E1%9E%9B%E1%9F%90%E1%9E%99%E1%9E%94%E1%9F%8A%E1%9E%BB%E1%9E%93%E1%9E%9A%E1%9F%89%E1%9E%B6%E1%9E%93%E1%9E%B8%E1%9E%A0%E1%9F%8A%E1%9E%BB%E1%9E%93%E1%9E%9F%E1%9F%82%E1%9E%93%E2%80%8B%E1%9E%96%E1%9F%92%E1%9E%9A%E1%9F%82%E1%9E%80%E2%80%8B%E1%9E%90%E1%9F%92%E1%9E%98%E1%9E%B8%E2%80%8B/data=!4m7!3m6!1s0x3109592a4da17fff:0x7a3a4b1ba8bf31f5!8m2!3d11.470867!4d105.0041619!16s%2Fg%2F11gnp9_ckb!19sChIJ_3-hTSpZCTER9TG_qBtLOno?authuser=0&hl=km&rclk=1'}\n",
      "{'name': 'វិទ្យាល័យព្រែកលួង', 'url': 'https://www.google.com/maps/place/%E1%9E%9C%E1%9E%B7%E1%9E%91%E1%9F%92%E1%9E%99%E1%9E%B6%E1%9E%9B%E1%9F%90%E1%9E%99%E1%9E%96%E1%9F%92%E1%9E%9A%E1%9F%82%E1%9E%80%E1%9E%9B%E1%9E%BD%E1%9E%84/data=!4m7!3m6!1s0x310954885929768f:0x43a0d1527b11f309!8m2!3d11.6326133!4d104.9531137!16s%2Fg%2F11c3svvhtt!19sChIJj3YpWYhUCTERCfMRe1LRoEM?authuser=0&hl=km&rclk=1'}\n",
      "{'name': 'ស21', 'url': 'https://www.google.com/maps/place/%E1%9E%9F21/data=!4m7!3m6!1s0x3109511ebda31e25:0xec313d5f28a532fc!8m2!3d11.5427521!4d104.9082307!16s%2Fg%2F11vcx_ghgz!19sChIJJR6jvR5RCTER_DKlKF89Mew?authuser=0&hl=km&rclk=1'}\n",
      "{'name': 'សាលារៀនអន្តរជាតិ អាមេរិកាំងប្រ៊ីជ', 'url': 'https://www.google.com/maps/place/%E1%9E%9F%E1%9E%B6%E1%9E%9B%E1%9E%B6%E1%9E%9A%E1%9F%80%E1%9E%93%E1%9E%A2%E1%9E%93%E1%9F%92%E1%9E%8F%E1%9E%9A%E1%9E%87%E1%9E%B6%E1%9E%8F%E1%9E%B7+%E1%9E%A2%E1%9E%B6%E1%9E%98%E1%9F%81%E1%9E%9A%E1%9E%B7%E1%9E%80%E1%9E%B6%E1%9F%86%E1%9E%84%E1%9E%94%E1%9F%92%E1%9E%9A%E1%9F%8A%E1%9E%B8%E1%9E%87/data=!4m7!3m6!1s0x310953c0dbf08fcb:0xb9b6e9c61be79885!8m2!3d11.607901!4d104.9107479!16s%2Fg%2F11h2d6801t!19sChIJy4_w28BTCTERhZjnG8bptrk?authuser=0&hl=km&rclk=1'}\n",
      "{'name': 'School 2', 'url': 'https://www.google.com/maps/place/School+2/data=!4m7!3m6!1s0x3109515166636291:0x2b6ae2f461415d31!8m2!3d11.5718834!4d104.8538043!16s%2Fg%2F11rjv1fvqc!19sChIJkWJjZlFRCTERMV1BYfTiais?authuser=0&hl=km&rclk=1'}\n",
      "{'name': 'The Westline School, Tuol Tumpoung 2 Branch', 'url': 'https://www.google.com/maps/place/The+Westline+School,+Tuol+Tumpoung+2+Branch/data=!4m7!3m6!1s0x3109510067bc6a8d:0x938a6fb7b4fb1d32!8m2!3d11.5358373!4d104.9142905!16s%2Fg%2F11w1qjqrld!19sChIJjWq8ZwBRCTERMh37tLdvipM?authuser=0&hl=km&rclk=1'}\n",
      "{'name': 'Goldstone School of HOPE', 'url': 'https://www.google.com/maps/place/Goldstone+School+of+HOPE/data=!4m7!3m6!1s0x31095178114e58e3:0x87fb88f33c72208d!8m2!3d11.578529!4d104.8927959!16s%2Fg%2F11xckh242!19sChIJ41hOEXhRCTERjSByPPOI-4c?authuser=0&hl=km&rclk=1'}\n",
      "{'name': 'សាលាអន្តរជាតិ វើលដ៏ កម្ពុជា', 'url': 'https://www.google.com/maps/place/%E1%9E%9F%E1%9E%B6%E1%9E%9B%E1%9E%B6%E1%9E%A2%E1%9E%93%E1%9F%92%E1%9E%8F%E1%9E%9A%E1%9E%87%E1%9E%B6%E1%9E%8F%E1%9E%B7+%E1%9E%9C%E1%9E%BE%E1%9E%9B%E1%9E%8A%E1%9F%8F+%E1%9E%80%E1%9E%98%E1%9F%92%E1%9E%96%E1%9E%BB%E1%9E%87%E1%9E%B6/data=!4m7!3m6!1s0x31095164b418a63d:0x70dba7edb81c9645!8m2!3d11.5821574!4d104.9042133!16s%2Fg%2F11bztb0ssr!19sChIJPaYYtGRRCTERRZYcuO2n23A?authuser=0&hl=km&rclk=1'}\n",
      "{'name': 'លីសេ បារាំង រឺណេ ដេកាត', 'url': 'https://www.google.com/maps/place/%E1%9E%9B%E1%9E%B8%E1%9E%9F%E1%9F%81+%E1%9E%94%E1%9E%B6%E1%9E%9A%E1%9E%B6%E1%9F%86%E1%9E%84+%E1%9E%9A%E1%9E%BA%E1%9E%8E%E1%9F%81+%E1%9E%8A%E1%9F%81%E1%9E%80%E1%9E%B6%E1%9E%8F/data=!4m7!3m6!1s0x31095143131de7a7:0xf22302de8603938d!8m2!3d11.5747508!4d104.9197843!16zL20vMDJzcHY4!19sChIJp-cdE0NRCTERjZMDht4CI_I?authuser=0&hl=km&rclk=1'}\n",
      "{'name': 'អនុវិទ្យាល័យខ្មែរចិន ហ៊ុនសែន ហេងតុង', 'url': 'https://www.google.com/maps/place/%E1%9E%A2%E1%9E%93%E1%9E%BB%E1%9E%9C%E1%9E%B7%E1%9E%91%E1%9F%92%E1%9E%99%E1%9E%B6%E1%9E%9B%E1%9F%90%E1%9E%99%E1%9E%81%E1%9F%92%E1%9E%98%E1%9F%82%E1%9E%9A%E1%9E%85%E1%9E%B7%E1%9E%93+%E1%9E%A0%E1%9F%8A%E1%9E%BB%E1%9E%93%E1%9E%9F%E1%9F%82%E1%9E%93+%E1%9E%A0%E1%9F%81%E1%9E%84%E1%9E%8F%E1%9E%BB%E1%9E%84/data=!4m7!3m6!1s0x310959ed6122c1c9:0xf8d25a7321e5cc9!8m2!3d11.4768635!4d104.9505811!16s%2Fg%2F11b6ll7czb!19sChIJycEiYe1ZCTERyVweMqcljQ8?authuser=0&hl=km&rclk=1'}\n",
      "{'name': 'សាលារៀន អន្តរទ្វីប អាមេរិកាំង សាខាម៉ៅសេទុង', 'url': 'https://www.google.com/maps/place/%E1%9E%9F%E1%9E%B6%E1%9E%9B%E1%9E%B6%E1%9E%9A%E1%9F%80%E1%9E%93+%E1%9E%A2%E1%9E%93%E1%9F%92%E1%9E%8F%E1%9E%9A%E1%9E%91%E1%9F%92%E1%9E%9C%E1%9E%B8%E1%9E%94+%E1%9E%A2%E1%9E%B6%E1%9E%98%E1%9F%81%E1%9E%9A%E1%9E%B7%E1%9E%80%E1%9E%B6%E1%9F%86%E1%9E%84+%E1%9E%9F%E1%9E%B6%E1%9E%81%E1%9E%B6%E1%9E%98%E1%9F%89%E1%9F%85%E1%9E%9F%E1%9F%81%E1%9E%91%E1%9E%BB%E1%9E%84/data=!4m7!3m6!1s0x310951b755435dcb:0xfd95461b0839f532!8m2!3d11.5462913!4d104.9080977!16s%2Fg%2F11xfpx2_x!19sChIJy11DVbdRCTERMvU5CBtGlf0?authuser=0&hl=km&rclk=1'}\n",
      "{'name': 'ហ៊ុន', 'url': 'https://www.google.com/maps/place/%E1%9E%A0%E1%9F%8A%E1%9E%BB%E1%9E%93/data=!4m7!3m6!1s0x310951fa5f7c3a2f:0xaefa9bce81ce43cd!8m2!3d11.5563738!4d104.9282099!16s%2Fg%2F11kx3446w3!19sChIJLzp8X_pRCTERzUPOgc6b-q4?authuser=0&hl=km&rclk=1'}\n",
      "{'name': 'សាលាជប៉ុន', 'url': 'https://www.google.com/maps/place/%E1%9E%9F%E1%9E%B6%E1%9E%9B%E1%9E%B6%E1%9E%87%E1%9E%94%E1%9F%89%E1%9E%BB%E1%9E%93/data=!4m7!3m6!1s0x3109513933f39491:0xda459f10faa494f4!8m2!3d11.5404856!4d104.9017491!16s%2Fg%2F11q371f0zr!19sChIJkZTzMzlRCTER9JSk-hCfRdo?authuser=0&hl=km&rclk=1'}\n",
      "{'name': 'វិទ្យាល័យ ហ៊ុន សែន សេរីភាព', 'url': 'https://www.google.com/maps/place/%E1%9E%9C%E1%9E%B7%E1%9E%91%E1%9F%92%E1%9E%99%E1%9E%B6%E1%9E%9B%E1%9F%90%E1%9E%99+%E1%9E%A0%E1%9F%8A%E1%9E%BB%E1%9E%93+%E1%9E%9F%E1%9F%82%E1%9E%93+%E1%9E%9F%E1%9F%81%E1%9E%9A%E1%9E%B8%E1%9E%97%E1%9E%B6%E1%9E%96/data=!4m7!3m6!1s0x310959f3cf98a50d:0x974b90f4ad731246!8m2!3d11.4804234!4d104.9469964!16s%2Fg%2F119w9qw3q!19sChIJDaWYz_NZCTERRhJzrfSQS5c?authuser=0&hl=km&rclk=1'}\n",
      "{'name': 'វិទ្យាល័យចំណេះទូទៅ និងបច្ចេកទេសឯកជន អេសីុធី', 'url': 'https://www.google.com/maps/place/%E1%9E%9C%E1%9E%B7%E1%9E%91%E1%9F%92%E1%9E%99%E1%9E%B6%E1%9E%9B%E1%9F%90%E1%9E%99%E1%9E%85%E1%9F%86%E1%9E%8E%E1%9F%81%E1%9F%87%E1%9E%91%E1%9E%BC%E1%9E%91%E1%9F%85+%E1%9E%93%E1%9E%B7%E1%9E%84%E1%9E%94%E1%9E%85%E1%9F%92%E1%9E%85%E1%9F%81%E1%9E%80%E1%9E%91%E1%9F%81%E1%9E%9F%E1%9E%AF%E1%9E%80%E1%9E%87%E1%9E%93+%E1%9E%A2%E1%9F%81%E1%9E%9F%E1%9E%B8%E1%9E%BB%E1%9E%92%E1%9E%B8/data=!4m7!3m6!1s0x310950eab2c7545b:0x4dec1c977344cc22!8m2!3d11.521746!4d104.9141655!16s%2Fg%2F11c5s9jq_m!19sChIJW1THsupQCTERIsxEc5cc7E0?authuser=0&hl=km&rclk=1'}\n",
      "{'name': 'សាលាកាណាដាអន្តរជាតិ', 'url': 'https://www.google.com/maps/place/%E1%9E%9F%E1%9E%B6%E1%9E%9B%E1%9E%B6%E1%9E%80%E1%9E%B6%E1%9E%8E%E1%9E%B6%E1%9E%8A%E1%9E%B6%E1%9E%A2%E1%9E%93%E1%9F%92%E1%9E%8F%E1%9E%9A%E1%9E%87%E1%9E%B6%E1%9E%8F%E1%9E%B7/data=!4m7!3m6!1s0x3109512a423d771d:0x90f9c0837e6cdc97!8m2!3d11.5460745!4d104.9359311!16s%2Fg%2F1q5bmp_51!19sChIJHXc9QipRCTERl9xsfoPA-ZA?authuser=0&hl=km&rclk=1'}\n",
      "{'name': 'វិទ្យាល័យ ហាឆាន់ខាំ', 'url': 'https://www.google.com/maps/place/%E1%9E%9C%E1%9E%B7%E1%9E%91%E1%9F%92%E1%9E%99%E1%9E%B6%E1%9E%9B%E1%9F%90%E1%9E%99+%E1%9E%A0%E1%9E%B6%E1%9E%86%E1%9E%B6%E1%9E%93%E1%9F%8B%E1%9E%81%E1%9E%B6%E1%9F%86/data=!4m7!3m6!1s0x310951f55044a545:0xf9449e7f8652fab8!8m2!3d11.5516133!4d104.8711028!16s%2Fg%2F11l1mn9mfk!19sChIJRaVEUPVRCTERuPpShn-eRPk?authuser=0&hl=km&rclk=1'}\n",
      "{'name': 'Sambor Mean Chey Secondaryschool', 'url': 'https://www.google.com/maps/place/Sambor+Mean+Chey+Secondaryschool/data=!4m7!3m6!1s0x31095be3381a4649:0xf09ccd8a57dca21!8m2!3d11.4893607!4d104.8945617!16s%2Fg%2F11t4430syy!19sChIJSUYaOONbCTERIcp9pdjMCQ8?authuser=0&hl=km&rclk=1'}\n",
      "{'name': 'Greenfield International School', 'url': 'https://www.google.com/maps/place/Greenfield+International+School/data=!4m7!3m6!1s0x3109537f0356ea45:0xf67bf28ead95b1c2!8m2!3d11.6064782!4d104.905923!16s%2Fg%2F11sv8mmd4z!19sChIJRepWA39TCTERwrGVrY7ye_Y?authuser=0&hl=km&rclk=1'}\n",
      "{'name': 'Soklin teaching', 'url': 'https://www.google.com/maps/place/Soklin+teaching/data=!4m7!3m6!1s0x310951d8a5f5b073:0x440e543f4cf154f1!8m2!3d11.5214456!4d104.9044012!16s%2Fg%2F11t1hw13wt!19sChIJc7D1pdhRCTER8VTxTD9UDkQ?authuser=0&hl=km&rclk=1'}\n",
      "{'name': 'Millennium School I - សាលាមីលលេននៀម ១ - ការអប់រំទូទៅកម្រិតមត្តេយ្យ ដល់ វិទ្យាល័យ - (干禧年学校)', 'url': 'https://www.google.com/maps/place/Millennium+School+I+-+%E1%9E%9F%E1%9E%B6%E1%9E%9B%E1%9E%B6%E1%9E%98%E1%9E%B8%E1%9E%9B%E1%9E%9B%E1%9F%81%E1%9E%93%E1%9E%93%E1%9F%80%E1%9E%98+%E1%9F%A1+-+%E1%9E%80%E1%9E%B6%E1%9E%9A%E1%9E%A2%E1%9E%94%E1%9F%8B%E1%9E%9A%E1%9F%86%E1%9E%91%E1%9E%BC%E1%9E%91%E1%9F%85%E1%9E%80%E1%9E%98%E1%9F%92%E1%9E%9A%E1%9E%B7%E1%9E%8F%E1%9E%98%E1%9E%8F%E1%9F%92%E1%9E%8F%E1%9F%81%E1%9E%99%E1%9F%92%E1%9E%99+%E1%9E%8A%E1%9E%9B%E1%9F%8B+%E1%9E%9C%E1%9E%B7%E1%9E%91%E1%9F%92%E1%9E%99%E1%9E%B6%E1%9E%9B%E1%9F%90%E1%9E%99+-+%28%E5%B9%B2%E7%A6%A7%E5%B9%B4%E5%AD%A6%E6%A0%A1%29/data=!4m7!3m6!1s0x31095141fdbea343:0x427ec5b72ea7e465!8m2!3d11.5543425!4d104.9074396!16s%2Fg%2F11kq2dw0z_!19sChIJQ6O-_UFRCTERZeSnLrfFfkI?authuser=0&hl=km&rclk=1'}\n",
      "{'name': 'Center 14', 'url': 'https://www.google.com/maps/place/Center+14/data=!4m7!3m6!1s0x3109575a6f1411ed:0x984e8da02752422e!8m2!3d11.5343356!4d104.9416012!16s%2Fg%2F11v421nb1j!19sChIJ7REUb1pXCTERLkJSJ6CNTpg?authuser=0&hl=km&rclk=1'}\n",
      "{'name': 'សាលារៀនអន្តរជាតិអាល់រ៉ូសម៉ាន_ Al-Rahman International School', 'url': 'https://www.google.com/maps/place/%E1%9E%9F%E1%9E%B6%E1%9E%9B%E1%9E%B6%E1%9E%9A%E1%9F%80%E1%9E%93%E1%9E%A2%E1%9E%93%E1%9F%92%E1%9E%8F%E1%9E%9A%E1%9E%87%E1%9E%B6%E1%9E%8F%E1%9E%B7%E1%9E%A2%E1%9E%B6%E1%9E%9B%E1%9F%8B%E1%9E%9A%E1%9F%89%E1%9E%BC%E1%9E%9F%E1%9E%98%E1%9F%89%E1%9E%B6%E1%9E%93_+Al-Rahman+International+School/data=!4m7!3m6!1s0x31095353c2fbd171:0xa2f6430a894d0427!8m2!3d11.6321949!4d104.8914947!16s%2Fg%2F11l36cwsb0!19sChIJcdH7wlNTCTERJwRNiQpD9qI?authuser=0&hl=km&rclk=1'}\n",
      "{'name': 'Linda', 'url': 'https://www.google.com/maps/place/Linda/data=!4m7!3m6!1s0x3109514e2ef9fa7f:0x1d46a52fc3630012!8m2!3d11.559124!4d104.9084413!16s%2Fg%2F11rxp0_ppz!19sChIJf_r5Lk5RCTEREgBjwy-lRh0?authuser=0&hl=km&rclk=1'}\n",
      "{'name': 'អង្គទុល្លភ៍', 'url': 'https://www.google.com/maps/place/%E1%9E%A2%E1%9E%84%E1%9F%92%E1%9E%82%E1%9E%91%E1%9E%BB%E1%9E%9B%E1%9F%92%E1%9E%9B%E1%9E%97%E1%9F%8D/data=!4m7!3m6!1s0x3109510a6fbe0a91:0xfd228260fe890e25!8m2!3d11.532665!4d104.925482!16s%2Fg%2F11t0swyf9x!19sChIJkQq-bwpRCTERJQ6J_mCCIv0?authuser=0&hl=km&rclk=1'}\n",
      "{'name': 'សាលាប៊ែលធីអន្តរជាតិ ទី៤ (សាខាផ្សារដើមថ្កូវ)', 'url': 'https://www.google.com/maps/place/%E1%9E%9F%E1%9E%B6%E1%9E%9B%E1%9E%B6%E1%9E%94%E1%9F%8A%E1%9F%82%E1%9E%9B%E1%9E%92%E1%9E%B8%E1%9E%A2%E1%9E%93%E1%9F%92%E1%9E%8F%E1%9E%9A%E1%9E%87%E1%9E%B6%E1%9E%8F%E1%9E%B7+%E1%9E%91%E1%9E%B8%E1%9F%A4+%28%E1%9E%9F%E1%9E%B6%E1%9E%81%E1%9E%B6%E1%9E%95%E1%9F%92%E1%9E%9F%E1%9E%B6%E1%9E%9A%E1%9E%8A%E1%9E%BE%E1%9E%98%E1%9E%90%E1%9F%92%E1%9E%80%E1%9E%BC%E1%9E%9C%29/data=!4m7!3m6!1s0x310950dd161d4555:0x9e249e0c85fe856e!8m2!3d11.5338411!4d104.9174537!16s%2Fg%2F1hm4v8w77!19sChIJVUUdFt1QCTERboX-hQyeJJ4?authuser=0&hl=km&rclk=1'}\n",
      "{'name': 'Rong kerb', 'url': 'https://www.google.com/maps/place/Rong+kerb/data=!4m7!3m6!1s0x310951628ba0a983:0xdaa75a669bf39937!8m2!3d11.5712138!4d104.8506417!16s%2Fg%2F11k0m4bn_y!19sChIJg6mgi2JRCTERN5nzm2Zap9o?authuser=0&hl=km&rclk=1'}\n",
      "{'name': 'American Pacific International School - Daun Penh Campus', 'url': 'https://www.google.com/maps/place/American+Pacific+International+School+-+Daun+Penh+Campus/data=!4m7!3m6!1s0x3109513855104df1:0x616e11f1a27310a!8m2!3d11.5625474!4d104.924456!16s%2Fg%2F11h0pb5r1!19sChIJ8U0QVThRCTERCjEnGh_hFgY?authuser=0&hl=km&rclk=1'}\n",
      "{'name': 'សាលា មត្តេយ្យ បឋម និងមធ្យមសិក្សា មីគីវ៉េ', 'url': 'https://www.google.com/maps/place/%E1%9E%9F%E1%9E%B6%E1%9E%9B%E1%9E%B6+%E1%9E%98%E1%9E%8F%E1%9F%92%E1%9E%8F%E1%9F%81%E1%9E%99%E1%9F%92%E1%9E%99+%E1%9E%94%E1%9E%8B%E1%9E%98+%E1%9E%93%E1%9E%B7%E1%9E%84%E1%9E%98%E1%9E%92%E1%9F%92%E1%9E%99%E1%9E%98%E1%9E%9F%E1%9E%B7%E1%9E%80%E1%9F%92%E1%9E%9F%E1%9E%B6+%E1%9E%98%E1%9E%B8%E1%9E%82%E1%9E%B8%E1%9E%9C%E1%9F%89%E1%9F%81/data=!4m7!3m6!1s0x310950ff7c1741ed:0xa4e11eff8369432b!8m2!3d11.5417!4d104.8924579!16s%2Fg%2F11h1qlck0t!19sChIJ7UEXfP9QCTERK0Npg_8e4aQ?authuser=0&hl=km&rclk=1'}\n",
      "{'name': 'Bro Zeii', 'url': 'https://www.google.com/maps/place/Bro+Zeii/data=!4m7!3m6!1s0x310951f80bbd4d0f:0x57c0c3787019c645!8m2!3d11.5370542!4d104.887244!16s%2Fg%2F11hz3c93kv!19sChIJD029C_hRCTERRcYZcHjDwFc?authuser=0&hl=km&rclk=1'}\n",
      "{'name': 'Footprints International School (TTP Campus)', 'url': 'https://www.google.com/maps/place/Footprints+International+School+%28TTP+Campus%29/data=!4m7!3m6!1s0x310951ee5e511965:0xa7c79fba61a4674a!8m2!3d11.5366527!4d104.9170313!16s%2Fg%2F11ll5nsv_2!19sChIJZRlRXu5RCTERSmekYbqfx6c?authuser=0&hl=km&rclk=1'}\n",
      "{'name': 'Golden Gate American School, Campus 5', 'url': 'https://www.google.com/maps/place/Golden+Gate+American+School,+Campus+5/data=!4m7!3m6!1s0x31095179c8ed0937:0xc7a866115890b2aa!8m2!3d11.5758426!4d104.893041!16s%2Fg%2F11ycydt7t!19sChIJNwntyHlRCTERqrKQWBFmqMc?authuser=0&hl=km&rclk=1'}\n",
      "{'name': 'ran', 'url': 'https://www.google.com/maps/place/ran/data=!4m7!3m6!1s0x310951003c341d53:0x8f3f1e9251f15ca0!8m2!3d11.5638335!4d104.8903655!16s%2Fg%2F11vs_rs5zl!19sChIJUx00PABRCTERoFzxUZIeP48?authuser=0&hl=km&rclk=1'}\n",
      "{'name': 'សាកល្បង', 'url': 'https://www.google.com/maps/place/%E1%9E%9F%E1%9E%B6%E1%9E%80%E1%9E%9B%E1%9F%92%E1%9E%94%E1%9E%84/data=!4m7!3m6!1s0x310953752ad8c21b:0x16cdbcbc07e773e6!8m2!3d11.5893652!4d104.9092065!16s%2Fg%2F11rjyhd0v7!19sChIJG8LYKnVTCTER5nPnB7y8zRY?authuser=0&hl=km&rclk=1'}\n",
      "{'name': 'អនុវិទ្យាល័យ\\u200bទួល\\u200bសាលា', 'url': 'https://www.google.com/maps/place/%E1%9E%A2%E1%9E%93%E1%9E%BB%E1%9E%9C%E1%9E%B7%E1%9E%91%E1%9F%92%E1%9E%99%E1%9E%B6%E1%9E%9B%E1%9F%90%E1%9E%99%E2%80%8B%E1%9E%91%E1%9E%BD%E1%9E%9B%E2%80%8B%E1%9E%9F%E1%9E%B6%E1%9E%9B%E1%9E%B6/data=!4m7!3m6!1s0x3109447f03aaaaab:0xb57148480c6941c7!8m2!3d11.4198229!4d104.7953062!16s%2Fg%2F11tn9znwlv!19sChIJq6qqA39ECTERx0FpDEhIcbU?authuser=0&hl=km&rclk=1'}\n",
      "{'name': 'ភាស់', 'url': 'https://www.google.com/maps/place/%E1%9E%97%E1%9E%B6%E1%9E%9F%E1%9F%8B/data=!4m7!3m6!1s0x31095185ccc9eecd:0x540590d3d3f1bb66!8m2!3d11.5573585!4d104.904575!16s%2Fg%2F11vhfvm70n!19sChIJze7JzIVRCTERZrvx09OQBVQ?authuser=0&hl=km&rclk=1'}\n",
      "{'name': 'ការីម', 'url': 'https://www.google.com/maps/place/%E1%9E%80%E1%9E%B6%E1%9E%9A%E1%9E%B8%E1%9E%98/data=!4m7!3m6!1s0x310951e3c59ba56d:0x53918c6f9b94cd68!8m2!3d11.5563738!4d104.9282099!16s%2Fg%2F11l2wrjg3t!19sChIJbaWbxeNRCTERaM2Um2-MkVM?authuser=0&hl=km&rclk=1'}\n",
      "{'name': 'វិទ្យាល័យ កំបូល', 'url': 'https://www.google.com/maps/place/%E1%9E%9C%E1%9E%B7%E1%9E%91%E1%9F%92%E1%9E%99%E1%9E%B6%E1%9E%9B%E1%9F%90%E1%9E%99+%E1%9E%80%E1%9F%86%E1%9E%94%E1%9E%BC%E1%9E%9B/data=!4m7!3m6!1s0x31094fcbd008fdf7:0x13603bf72aef9112!8m2!3d11.5271236!4d104.7830919!16s%2Fg%2F11r7l2_yk0!19sChIJ9_0I0MtPCTEREpHvKvc7YBM?authuser=0&hl=km&rclk=1'}\n",
      "{'name': 'សាលាអន្តរជាតិឡូហ្គោស', 'url': 'https://www.google.com/maps/place/%E1%9E%9F%E1%9E%B6%E1%9E%9B%E1%9E%B6%E1%9E%A2%E1%9E%93%E1%9F%92%E1%9E%8F%E1%9E%9A%E1%9E%87%E1%9E%B6%E1%9E%8F%E1%9E%B7%E1%9E%A1%E1%9E%BC%E1%9E%A0%E1%9F%92%E1%9E%82%E1%9F%84%E1%9E%9F/data=!4m7!3m6!1s0x3109518ae27da8c1:0x4fe0eac621e4fd9d!8m2!3d11.5846513!4d104.8717684!16s%2Fg%2F1tqt73cj!19sChIJwah94opRCTERnf3kIcbq4E8?authuser=0&hl=km&rclk=1'}\n",
      "{'name': 'វិទ្យាល័យ ហ៊ុន សែន ជម្ពូវ័ន', 'url': 'https://www.google.com/maps/place/%E1%9E%9C%E1%9E%B7%E1%9E%91%E1%9F%92%E1%9E%99%E1%9E%B6%E1%9E%9B%E1%9F%90%E1%9E%99+%E1%9E%A0%E1%9F%8A%E1%9E%BB%E1%9E%93+%E1%9E%9F%E1%9F%82%E1%9E%93+%E1%9E%87%E1%9E%98%E1%9F%92%E1%9E%96%E1%9E%BC%E1%9E%9C%E1%9F%90%E1%9E%93/data=!4m7!3m6!1s0x31094fbf4ab0d23f:0x41a091826f5026a5!8m2!3d11.5317526!4d104.8207866!16s%2Fg%2F1hf2p9h2g!19sChIJP9KwSr9PCTERpSZQb4KRoEE?authuser=0&hl=km&rclk=1'}\n",
      "{'name': 'Bakheng Junior High School', 'url': 'https://www.google.com/maps/place/Bakheng+Junior+High+School/data=!4m7!3m6!1s0x31095349ff87074d:0x3cf8cf992d6f1706!8m2!3d11.6708975!4d104.9157173!16s%2Fg%2F11g6nkfw_x!19sChIJTQeH_0lTCTERBhdvLZnP-Dw?authuser=0&hl=km&rclk=1'}\n"
     ]
    }
   ],
   "source": [
    "from selenium import webdriver\n",
    "from selenium.webdriver.chrome.service import Service\n",
    "from selenium.webdriver.chrome.options import Options\n",
    "from selenium.webdriver.common.by import By\n",
    "from selenium.webdriver.common.keys import Keys\n",
    "from webdriver_manager.chrome import ChromeDriverManager\n",
    "from bs4 import BeautifulSoup\n",
    "import time\n",
    "\n",
    "# Set up the webdriver\n",
    "options = Options()\n",
    "options.add_argument(\"--headless\")  # Run in headless mode\n",
    "options.add_argument(\"--disable-gpu\")\n",
    "options.add_argument(\"--window-size=1920,1080\")\n",
    "\n",
    "driver = webdriver.Chrome(service=Service(ChromeDriverManager().install()), options=options)\n",
    "\n",
    "# Open the Google Maps search URL\n",
    "initial_url = 'https://www.google.com/maps/search/secondary+school/@11.540723,104.8717879,12z/data=!3m1!4b1?entry=ttu&g_ep=EgoyMDI1MDYwOC4wIKXMDSoASAFQAw%3D%3D'\n",
    "driver.get(initial_url)\n",
    "time.sleep(5)  # Allow the page to load\n",
    "\n",
    "# Scroll to load more locations\n",
    "scrollable_div = driver.find_element(By.CSS_SELECTOR, 'div[role=\"feed\"]')\n",
    "\n",
    "last_height = driver.execute_script(\"return arguments[0].scrollHeight;\", scrollable_div)\n",
    "\n",
    "while True:\n",
    "    driver.execute_script(\"arguments[0].scrollTop = arguments[0].scrollHeight;\", scrollable_div)\n",
    "    time.sleep(5)  # Wait for new data to load\n",
    "\n",
    "    new_height = driver.execute_script(\"return arguments[0].scrollHeight;\", scrollable_div)\n",
    "    if new_height == last_height:  # Stop when no new data loads\n",
    "        break\n",
    "    last_height = new_height\n",
    "\n",
    "# Parse the final loaded page with BeautifulSoup\n",
    "soup = BeautifulSoup(driver.page_source, \"html.parser\")\n",
    "\n",
    "# Extract branch details from <a> elements\n",
    "branch_data = []\n",
    "branches = soup.find_all(\"a\", class_=\"hfpxzc\")\n",
    "\n",
    "for branch in branches:\n",
    "    name = branch.get(\"aria-label\", \"\").strip()\n",
    "    url = branch.get(\"href\", \"\").strip()\n",
    "\n",
    "    if name and url:\n",
    "        branch_data.append({\"name\": name, \"url\": url})\n",
    "\n",
    "# Print extracted data\n",
    "for branch in branch_data:\n",
    "    print(branch)\n",
    "\n",
    "# Close the browser\n",
    "driver.quit()\n"
   ]
  },
  {
   "cell_type": "code",
   "execution_count": 3,
   "metadata": {},
   "outputs": [
    {
     "name": "stdout",
     "output_type": "stream",
     "text": [
      "Final URL: https://www.google.com/maps/place/%E1%9E%A2%E1%9E%93%E1%9E%BB%E1%9E%9C%E1%9E%B7%E1%9E%91%E1%9F%92%E1%9E%99%E1%9E%B6%E1%9E%9B%E1%9F%90%E1%9E%99%E2%80%8B%E1%9E%85%E1%9E%8F%E1%9E%BB%E1%9E%98%E1%9E%BB%E1%9E%81/@11.562718,104.926858,17z/data=!4m6!3m5!1s0x31095137804ef337:0xb765faa50dc0d7e!8m2!3d11.562718!4d104.926858!16s%2Fg%2F1td45dz7?authuser=0&hl=km&entry=ttu&g_ep=EgoyMDI1MDYwOC4wIKXMDSoASAFQAw%3D%3D\n",
      "Final URL: https://www.google.com/maps/place/%E1%9E%9F%E1%9E%B6%E1%9E%9B%E1%9E%B6%E2%80%8B%E2%80%8B%E2%80%8B%E1%9E%A2%E1%9F%8A%E1%9E%B8%E2%80%8B%E1%9E%A2%E1%9E%B7%E1%9E%9B%E2%80%8B%E1%9E%92%E1%9E%B8/data=!4m7!3m6!1s0x3109514665ca193b:0x4ac6efbdde0d0ddd!8m2!3d11.5698307!4d104.9248972!16s%2Fg%2F12hl0t8yj!19sChIJOxnKZUZRCTER3Q0N3r3vxko?authuser=0&hl=km&rclk=1\n",
      "Final URL: https://www.google.com/maps/place/%E1%9E%9C%E1%9E%B7%E1%9E%91%E1%9F%92%E1%9E%99%E1%9E%B6%E1%9E%9B%E1%9F%90%E1%9E%99%E1%9E%9C%E1%9E%8F%E1%9F%92%E1%9E%8F%E1%9E%80%E1%9F%84%E1%9F%87/@11.5650687,104.9206865,17z/data=!4m6!3m5!1s0x3109513f44f72805:0xc63dafeeb694b002!8m2!3d11.5650687!4d104.9206865!16s%2Fg%2F1tjdtc91?authuser=0&hl=km&entry=ttu&g_ep=EgoyMDI1MDYwOC4wIKXMDSoASAFQAw%3D%3D\n",
      "Final URL: https://www.google.com/maps/place/%E1%9E%9C%E1%9E%B7%E1%9E%91%E1%9F%92%E1%9E%99%E1%9E%B6%E1%9E%9B%E1%9F%90%E1%9E%99%E2%80%8B%E1%9E%87%E1%9F%92%E1%9E%9A%E1%9F%84%E1%9E%99%E2%80%8B%E1%9E%85%E1%9E%84%E1%9F%92%E1%9E%9C%E1%9E%B6%E1%9E%9A+(%E1%9E%87%E1%9E%B6+%E1%9E%9F%E1%9F%8A%E1%9E%B8%E1%9E%98)/@11.5864515,104.9285923,17z/data=!4m6!3m5!1s0x31095157c29ed7d5:0xcc48ea1fc1e1ef02!8m2!3d11.5864515!4d104.9285923!16s%2Fg%2F1td5ckv8?authuser=0&hl=km&entry=ttu&g_ep=EgoyMDI1MDYwOC4wIKXMDSoASAFQAw%3D%3D\n",
      "Final URL: https://www.google.com/maps/place/%E1%9E%9F%E1%9E%B6%E1%9E%9B%E1%9E%B6%E2%80%8B%E1%9E%9A%E1%9F%80%E1%9E%93%E2%80%8B%E1%9E%A2%E1%9F%81%E2%80%8B%E1%9E%99%E1%9E%BC%E2%80%8B%E1%9E%97%E1%9E%B8%E2%80%8B%E1%9E%97%E1%9E%B8/@11.5770471,104.9180878,17z/data=!4m6!3m5!1s0x310951994b2ba821:0xe067f3ef10d95820!8m2!3d11.5770471!4d104.9180878!16s%2Fg%2F11vhs2svft?authuser=0&hl=km&entry=ttu&g_ep=EgoyMDI1MDYwOC4wIKXMDSoASAFQAw%3D%3D\n",
      "Final URL: https://www.google.com/maps/place/%E1%9E%9C%E1%9E%B7%E1%9E%91%E1%9F%92%E1%9E%99%E1%9E%B6%E1%9E%9B%E1%9F%90%E1%9E%99+%E1%9E%A0%E1%9F%8A%E1%9E%BB%E1%9E%93+%E1%9E%9F%E1%9F%82%E1%9E%93+%E1%9E%94%E1%9F%8A%E1%9E%BB%E1%9E%93+%E1%9E%9A%E1%9F%89%E1%9E%B6%E1%9E%93%E1%9E%B8+%E1%9E%9C%E1%9E%8F%E1%9F%92%E1%9E%8F%E1%9E%97%E1%9F%92%E1%9E%93%E1%9F%86/@11.5849992,104.9181062,17z/data=!4m6!3m5!1s0x3109515fb4e21d4f:0xdfebb8c328cd580e!8m2!3d11.5849992!4d104.9181062!16s%2Fg%2F1tz6zvx2?authuser=0&hl=km&entry=ttu&g_ep=EgoyMDI1MDYwOC4wIKXMDSoASAFQAw%3D%3D\n",
      "Final URL: https://www.google.com/maps/place/%E1%9E%9C%E1%9E%B7%E1%9E%91%E1%9F%92%E1%9E%99%E1%9E%B6%E1%9E%9B%E1%9F%90%E1%9E%99%E2%80%8B%E1%9E%96%E1%9F%92%E1%9E%9A%E1%9F%87%E2%80%8B%E1%9E%9F%E1%9F%8A%E1%9E%B8%E1%9E%9F%E1%9E%BB%E1%9E%9C%E1%9E%8F%E1%9F%92%E1%9E%90%E1%9E%B7/@11.5640126,104.9252101,17z/data=!4m6!3m5!1s0x3109513867f0862f:0x63cda0c959ad3f4d!8m2!3d11.5640126!4d104.9252101!16s%2Fm%2F0479z7m?authuser=0&hl=km&entry=ttu&g_ep=EgoyMDI1MDYwOC4wIKXMDSoASAFQAw%3D%3D\n",
      "Final URL: https://www.google.com/maps/place/%E1%9E%9C%E1%9E%B7%E1%9E%91%E1%9F%92%E1%9E%99%E1%9E%B6%E1%9E%9B%E1%9F%90%E1%9E%99+%E2%80%8B%E1%9E%87%E1%9E%B6%E1%9E%9F%E1%9F%8A%E1%9E%B8%E1%9E%98+%E1%9E%9F%E1%9E%93%E1%9F%92%E1%9E%92%E1%9E%9A%E1%9E%98%E1%9F%89%E1%9E%BB%E1%9E%80/@11.5662572,104.8987544,17z/data=!3m1!4b1!4m6!3m5!1s0x3109510cb1937b17:0x7bc5974410cf6a23!8m2!3d11.5662572!4d104.8987544!16s%2Fg%2F11clw39l6s?authuser=0&hl=km&entry=ttu&g_ep=EgoyMDI1MDYwOC4wIKXMDSoASAFQAw%3D%3D\n",
      "Final URL: https://www.google.com/maps/place/%E1%9E%9C%E1%9E%B7%E1%9E%91%E1%9F%92%E1%9E%99%E1%9E%B6%E1%9E%9B%E1%9F%90%E1%9E%99%E2%80%8B%E1%9E%96%E1%9F%92%E1%9E%9A%E1%9F%87%E1%9E%99%E1%9E%BB%E1%9E%82%E1%9E%93%E1%9F%92%E1%9E%92%E1%9E%9A/@11.5551993,104.919911,17z/data=!4m6!3m5!1s0x3109513cb819fcab:0x50be0d065faf6168!8m2!3d11.5551993!4d104.919911!16s%2Fg%2F1td8wkst?authuser=0&hl=km&entry=ttu&g_ep=EgoyMDI1MDYwOC4wIKXMDSoASAFQAw%3D%3D\n",
      "Final URL: https://www.google.com/maps/place/%E1%9E%9F%E1%9E%B6%E1%9E%9B%E1%9E%B6%E2%80%8B%E1%9E%98%E1%9E%92%E1%9F%92%E1%9E%99%E1%9E%98%E1%9E%9C%E1%9E%B7%E1%9E%85%E1%9E%B7%E1%9E%8F%E1%9F%92%E1%9E%9A%E2%80%8B%E1%9E%9F%E1%9E%B7%E1%9E%9B%E1%9F%92%E1%9E%94%E1%9F%88/@11.5877385,104.8764971,17z/data=!4m6!3m5!1s0x31095189eab597e9:0xfb23335d311c2180!8m2!3d11.5877385!4d104.8764971!16s%2Fg%2F1q65_wf30?authuser=0&hl=km&entry=ttu&g_ep=EgoyMDI1MDYwOC4wIKXMDSoASAFQAw%3D%3D\n",
      "Final URL: https://www.google.com/maps/place/%E1%9E%9F%E1%9E%B6%E1%9E%9B%E1%9E%B6%E2%80%8B%E1%9E%A2%E1%9E%93%E1%9F%92%E1%9E%8F%E1%9E%9A%E1%9E%87%E1%9E%B6%E1%9E%8F%E1%9E%B7%E2%80%8B%E1%9E%95%E1%9E%B6%E1%9E%9A%E1%9F%89%E1%9E%B6%E1%9E%A0%E1%9F%92%E1%9E%80%E1%9E%93/@11.548769,104.933654,17z/data=!4m6!3m5!1s0x3109512c0509c0e9:0x4d5aa98e64cbe04c!8m2!3d11.548769!4d104.933654!16s%2Fm%2F02762qt?authuser=0&hl=km&entry=ttu&g_ep=EgoyMDI1MDYwOC4wIKXMDSoASAFQAw%3D%3D\n",
      "Final URL: https://www.google.com/maps/place/%E1%9E%9C%E1%9E%B7%E1%9E%91%E1%9F%92%E1%9E%99%E1%9E%B6%E1%9E%9B%E1%9F%90%E1%9E%99%E1%9E%94%E1%9E%B6%E1%9E%80%E1%9F%8B%E1%9E%91%E1%9E%BC%E1%9E%80/@11.5646016,104.9126194,17z/data=!4m6!3m5!1s0x31095114e0475261:0x5317f6f03032c1d9!8m2!3d11.5646016!4d104.9126194!16s%2Fg%2F1tgmsqv7?authuser=0&hl=km&entry=ttu&g_ep=EgoyMDI1MDYwOC4wIKXMDSoASAFQAw%3D%3D\n",
      "Final URL: https://www.google.com/maps/place/%E1%9E%9C%E1%9E%B7%E1%9E%91%E1%9F%92%E1%9E%99%E1%9E%B6%E1%9E%9B%E1%9F%90%E1%9E%99%E1%9E%91%E1%9E%BD%E1%9E%9B%E1%9E%91%E1%9F%86%E1%9E%96%E1%9E%BC%E1%9E%84/@11.5421567,104.9159011,17z/data=!4m6!3m5!1s0x310950dfe4f31c53:0xccdf9c9b6104603e!8m2!3d11.5421567!4d104.9159011!16s%2Fg%2F1tfzzjg4?authuser=0&hl=km&entry=ttu&g_ep=EgoyMDI1MDYwOC4wIKXMDSoASAFQAw%3D%3D\n",
      "Final URL: https://www.google.com/maps/place/%E1%9E%9C%E1%9E%B7%E1%9E%91%E1%9F%92%E1%9E%99%E1%9E%B6%E1%9E%9B%E1%9F%90%E1%9E%99%E1%9E%91%E1%9E%B9%E1%9E%80%E1%9E%9B%E1%9F%92%E1%9E%A2%E1%9E%80%E1%9F%8B/@11.5603564,104.8979296,17z/data=!4m6!3m5!1s0x310951094e7834ed:0x8cc1aa230ccc71ac!8m2!3d11.5603564!4d104.8979296!16s%2Fg%2F1q65_1z3x?authuser=0&hl=km&entry=ttu&g_ep=EgoyMDI1MDYwOC4wIKXMDSoASAFQAw%3D%3D\n",
      "Final URL: https://www.google.com/maps/place/%E1%9E%9C%E1%9E%B7%E1%9E%91%E1%9F%92%E1%9E%99%E1%9E%B6%E1%9E%9B%E1%9F%90%E1%9E%99%E1%9E%94%E1%9E%B9%E1%9E%84%E1%9E%8F%E1%9F%92%E1%9E%9A%E1%9E%94%E1%9F%82%E1%9E%80/@11.5347335,104.9239472,17z/data=!4m6!3m5!1s0x310951ee86a4e6e5:0x6c68cb76f0a6b610!8m2!3d11.5347335!4d104.9239472!16s%2Fg%2F11sqt017q6?authuser=0&hl=km&entry=ttu&g_ep=EgoyMDI1MDYwOC4wIKXMDSoASAFQAw%3D%3D\n",
      "Final URL: https://www.google.com/maps/place/%E1%9E%9F%E1%9E%B6%E1%9E%9B%E1%9E%B6+%E1%9E%9F%E1%9E%BB%E1%9E%92%E1%9E%B6%E1%9E%9A%E1%9E%9F/@11.5520176,104.9319074,17z/data=!4m6!3m5!1s0x3109519fd35212eb:0xdc454166576c9c95!8m2!3d11.5520176!4d104.9319074!16s%2Fg%2F11gxwnn986?authuser=0&hl=km&entry=ttu&g_ep=EgoyMDI1MDYwOC4wIKXMDSoASAFQAw%3D%3D\n",
      "Final URL: https://www.google.com/maps/place/%E1%9E%A2%E1%9E%93%E1%9E%BB%E1%9E%9C%E1%9E%B7%E1%9E%91%E1%9F%92%E1%9E%99%E1%9E%B6%E1%9E%9B%E1%9F%90%E1%9E%99+%E1%9E%85%E1%9E%B6%E1%9E%80%E1%9F%8B%E1%9E%A2%E1%9E%84%E1%9F%92%E1%9E%9A%E1%9F%82%E1%9E%80%E1%9F%92%E1%9E%9A%E1%9F%84%E1%9E%98/@11.512683,104.9354832,17z/data=!4m6!3m5!1s0x310950acc6517a37:0xda53186a5f130353!8m2!3d11.512683!4d104.9354832!16s%2Fg%2F12q4r94lf?authuser=0&hl=km&entry=ttu&g_ep=EgoyMDI1MDYwOC4wIKXMDSoASAFQAw%3D%3D\n",
      "Final URL: https://www.google.com/maps/place/Kdey+Takoy+Primary+and+Secondary+School/@11.5563738,104.9282099,17z/data=!4m6!3m5!1s0x31095186f7c962bf:0xc02b34689c0ec6d1!8m2!3d11.5563738!4d104.9282099!16s%2Fg%2F11v9n39xm1?authuser=0&hl=km&entry=ttu&g_ep=EgoyMDI1MDYwOC4wIKXMDSoASAFQAw%3D%3D\n",
      "Final URL: https://www.google.com/maps/place/%E1%9E%A2%E1%9E%93%E1%9E%BB%E1%9E%9C%E1%9E%B7%E1%9E%91%E1%9F%92%E1%9E%99%E1%9E%B6%E1%9E%9B%E1%9F%90%E1%9E%99+%E2%80%8B%E1%9E%A2%E1%9E%9A%E1%9E%B7%E1%9E%99%E1%9E%80%E1%9F%92%E1%9E%9F%E1%9E%8F%E1%9F%92%E1%9E%9A/@11.580554,104.9585616,17z/data=!4m6!3m5!1s0x310956a3dbd8f37d:0xaf68849ce68e5d17!8m2!3d11.580554!4d104.9585616!16s%2Fg%2F11dxbm96t_?authuser=0&hl=km&entry=ttu&g_ep=EgoyMDI1MDYwOC4wIKXMDSoASAFQAw%3D%3D\n",
      "Final URL: https://www.google.com/maps/place/%E1%9E%9C%E1%9E%B7%E1%9E%91%E1%9F%92%E1%9E%99%E1%9E%B6%E1%9E%9B%E1%9F%90%E1%9E%99%E1%9E%96%E1%9F%92%E1%9E%9A%E1%9F%87%E1%9E%9F%E1%9F%8A%E1%9E%B8%E1%9E%9F%E1%9E%BB%E1%9E%9C%E1%9E%8F%E1%9F%92%E1%9E%90%E1%9E%B7+%E1%9E%A2%E1%9E%82%E1%9E%B6%E1%9E%9A+H/@11.5634355,104.9247836,17z/data=!4m6!3m5!1s0x3109511442321dd9:0x4e386ad4a493833a!8m2!3d11.5634355!4d104.9247836!16s%2Fg%2F11v5d70ny1?authuser=0&hl=km&entry=ttu&g_ep=EgoyMDI1MDYwOC4wIKXMDSoASAFQAw%3D%3D\n",
      "Final URL: https://www.google.com/maps/place/%E1%9E%A2%E1%9E%93%E1%9E%BB%E1%9E%9C%E1%9E%B7%E1%9E%91%E1%9F%92%E1%9E%99%E1%9E%B6%E1%9E%9B%E1%9F%8D%E1%9E%99%E1%9E%A2%E1%9E%BC%E1%9E%9A%E1%9E%94%E1%9F%82%E1%9E%80%E1%9E%80%E1%9F%92%E1%9E%A2%E1%9E%98/@11.556224,104.8897324,17z/data=!4m6!3m5!1s0x310951a7d4b5ae05:0x8047ee8ce8d1a7ce!8m2!3d11.556224!4d104.8897324!16s%2Fg%2F12hk6968p?authuser=0&hl=km&entry=ttu&g_ep=EgoyMDI1MDYwOC4wIKXMDSoASAFQAw%3D%3D\n",
      "Final URL: https://www.google.com/maps/place/School+Office/@11.5647951,104.9121283,17z/data=!4m6!3m5!1s0x3109515014971727:0xe1b14ffc652319fb!8m2!3d11.5647951!4d104.9121283!16s%2Fg%2F11t2_j5m9f?authuser=0&hl=km&entry=ttu&g_ep=EgoyMDI1MDYwOC4wIKXMDSoASAFQAw%3D%3D\n",
      "Final URL: https://www.google.com/maps/place/Harrods+International+Academy+(C5)/@11.551781,104.927381,17z/data=!4m6!3m5!1s0x310951892ea276c1:0x5f4f60f037335188!8m2!3d11.551781!4d104.927381!16s%2Fg%2F11tmflp1hg?authuser=0&hl=km&entry=ttu&g_ep=EgoyMDI1MDYwOC4wIKXMDSoASAFQAw%3D%3D\n",
      "Final URL: https://www.google.com/maps/place/Seven76/@11.580483,104.9186278,17z/data=!4m6!3m5!1s0x3109511ecb622a17:0xaa999827b18d5fec!8m2!3d11.580483!4d104.9186278!16s%2Fg%2F11j34v9dxg?authuser=0&hl=km&entry=ttu&g_ep=EgoyMDI1MDYwOC4wIKXMDSoASAFQAw%3D%3D\n",
      "Final URL: https://www.google.com/maps/place/%E1%9E%9F%E1%9E%B6%E1%9E%9B%E1%9E%B6%E1%9E%A2%E1%9E%B6%E1%9E%98%E1%9F%81%E1%9E%9A%E1%9E%B7%E1%9E%80%E1%9E%B6%E1%9F%86%E1%9E%84+%E1%9E%9F%E1%9F%92%E1%9E%91%E1%9F%81%E1%9E%93%E1%9E%A0%E1%9F%92%E1%9E%9C%E1%9E%8A/@11.5649894,104.8997674,17z/data=!4m6!3m5!1s0x310951205c74b441:0x406bef9eee2c1a2!8m2!3d11.5649894!4d104.8997674!16s%2Fg%2F1hm27wvk6?authuser=0&hl=km&entry=ttu&g_ep=EgoyMDI1MDYwOC4wIKXMDSoASAFQAw%3D%3D\n",
      "Final URL: https://www.google.com/maps/place/%E1%9E%9F%E1%9E%B6%E1%9E%9B%E1%9E%B6%E1%9E%9A%E1%9F%80%E1%9E%93+%E1%9E%A2%E1%9E%93%E1%9F%92%E1%9E%8F%E1%9E%9A%E1%9E%91%E1%9F%92%E1%9E%9C%E1%9E%B8%E1%9E%94+%E1%9E%A2%E1%9E%B6%E1%9E%98%E1%9F%81%E1%9E%9A%E1%9E%B7%E1%9E%80%E1%9E%B6%E1%9F%86%E1%9E%84+%E1%9E%9F%E1%9E%B6%E1%9E%81%E1%9E%B6%E1%9E%91%E1%9E%BD%E1%9E%9B%E1%9E%82%E1%9F%84%E1%9E%80/@11.5817239,104.9047967,17z/data=!4m6!3m5!1s0x31095164b8532da5:0x8b61dfd63b1050d0!8m2!3d11.5817239!4d104.9047967!16s%2Fg%2F11b7l7b2_0?authuser=0&hl=km&entry=ttu&g_ep=EgoyMDI1MDYwOC4wIKXMDSoASAFQAw%3D%3D\n",
      "Final URL: https://www.google.com/maps/place/%E1%9E%96%E1%9E%BB%E1%9E%91%E1%9F%92%E1%9E%92%E1%9E%B7%E1%9E%80%E2%80%8B%E1%9E%9C%E1%9E%B7%E1%9E%91%E1%9F%92%E1%9E%99%E1%9E%B6%E1%9E%9B%E1%9F%90%E1%9E%99%E1%9E%96%E1%9F%92%E1%9E%9A%E1%9F%87%E1%9E%9F%E1%9E%BB%E1%9E%9A%E1%9E%B6%E1%9E%98%E1%9F%92%E1%9E%9A%E1%9E%B9%E1%9E%8F/@11.5614961,104.934169,17z/data=!4m6!3m5!1s0x31095134340691db:0xc0fdfab12ad470a4!8m2!3d11.5614961!4d104.934169!16s%2Fg%2F11b66jgvz3?authuser=0&hl=km&entry=ttu&g_ep=EgoyMDI1MDYwOC4wIKXMDSoASAFQAw%3D%3D\n",
      "Final URL: https://www.google.com/maps/place/Ruessei+Srok+Primary+and+Secondary+School/@11.4690051,105.0300292,17z/data=!4m6!3m5!1s0x3109587506722887:0x863ca2de4317e25f!8m2!3d11.4690051!4d105.0300292!16s%2Fg%2F1hf1bm6ck?authuser=0&hl=km&entry=ttu&g_ep=EgoyMDI1MDYwOC4wIKXMDSoASAFQAw%3D%3D\n",
      "Final URL: https://www.google.com/maps/place/Russey+Keo+High+School/@11.6121376,104.9138571,17z/data=!4m6!3m5!1s0x310953004fcac0ed:0xac2abda1c503dbeb!8m2!3d11.6121376!4d104.9138571!16s%2Fg%2F11y5tjsqqj?authuser=0&hl=km&entry=ttu&g_ep=EgoyMDI1MDYwOC4wIKXMDSoASAFQAw%3D%3D\n",
      "Final URL: https://www.google.com/maps/place/%E1%9E%9C%E1%9E%B7%E1%9E%91%E1%9F%92%E1%9E%99%E1%9E%B6%E1%9E%9B%E1%9F%90%E1%9E%99%E2%80%8B%E1%9E%85%E1%9F%92%E1%9E%94%E1%9E%B6%E1%9E%9A%E2%80%8B%E1%9E%A2%E1%9F%86%E1%9E%96%E1%9F%85/@11.5298706,104.9490822,17z/data=!4m6!3m5!1s0x310957301a9d2341:0x48e8a5f3d335776d!8m2!3d11.5298706!4d104.9490822!16s%2Fg%2F11c0rm5mm8?authuser=0&hl=km&entry=ttu&g_ep=EgoyMDI1MDYwOC4wIKXMDSoASAFQAw%3D%3D\n",
      "Final URL: https://www.google.com/maps/place/%E1%9E%9F%E1%9E%B6%E1%9E%9B%E1%9E%B6%E2%80%8B%E1%9E%A2%E1%9E%93%E1%9F%92%E1%9E%8F%E1%9E%9A%E1%9E%87%E1%9E%B6%E1%9E%8F%E1%9E%B7+Invictus+%E1%9E%97%E1%9F%92%E1%9E%93%E1%9F%86%E1%9E%96%E1%9F%81%E1%9E%89/@11.5514921,104.9287144,17z/data=!4m6!3m5!1s0x310951fb4b72de1d:0xd44c8447b48f3780!8m2!3d11.5514921!4d104.9287144!16s%2Fg%2F11h9h3m81n?authuser=0&hl=km&entry=ttu&g_ep=EgoyMDI1MDYwOC4wIKXMDSoASAFQAw%3D%3D\n",
      "Final URL: https://www.google.com/maps/place/%E1%9E%9C%E1%9E%B7%E1%9E%91%E1%9F%92%E1%9E%99%E1%9E%B6%E1%9E%9B%E1%9F%90%E1%9E%99%E1%9E%87%E1%9E%B6%E1%9E%9F%E1%9F%8A%E1%9E%B8%E1%9E%98%E1%9E%9F%E1%9E%B6%E1%9E%98%E1%9E%82%E1%9F%92%E1%9E%82%E1%9E%B8/@11.5496961,104.8916123,17z/data=!4m6!3m5!1s0x31095116d7858053:0x3e67830863a26593!8m2!3d11.5496961!4d104.8916123!16s%2Fg%2F11s8t7g6dd?authuser=0&hl=km&entry=ttu&g_ep=EgoyMDI1MDYwOC4wIKXMDSoASAFQAw%3D%3D\n",
      "Final URL: https://www.google.com/maps/place/%E1%9E%9C%E1%9E%B7%E1%9E%9C%E1%9E%B7%E1%9E%9C%E1%9E%B7%E1%9E%8F/@11.5646324,104.929463,17z/data=!3m1!4b1!4m6!3m5!1s0x310951002e89fd3b:0xccbefa1acc38cea!8m2!3d11.5646324!4d104.929463!16s%2Fg%2F11wb84_wgl?authuser=0&hl=km&entry=ttu&g_ep=EgoyMDI1MDYwOC4wIKXMDSoASAFQAw%3D%3D\n",
      "Final URL: https://www.google.com/maps/place/%E1%9E%9F%E1%9E%B6%E1%9E%9B%E1%9E%B6%E1%9E%A2%E1%9E%93%E1%9F%92%E1%9E%8F%E1%9E%9A%E1%9E%87%E1%9E%B6%E1%9E%8F%E1%9E%B7%E1%9E%89%E1%9E%BC%E1%9E%9C%E1%9E%99%E1%9F%89%E1%9E%80/@11.6157623,104.9147688,17z/data=!3m1!4b1!4m6!3m5!1s0x310953bdfca485bb:0x49a59da4d6937d4c!8m2!3d11.6157623!4d104.9147688!16s%2Fg%2F11b75k01ct?authuser=0&hl=km&entry=ttu&g_ep=EgoyMDI1MDYwOC4wIKXMDSoASAFQAw%3D%3D\n",
      "Final URL: https://www.google.com/maps/place/Building+A/@11.5651025,104.9125527,17z/data=!4m6!3m5!1s0x310951d5785aef3f:0x6738fa39374973dd!8m2!3d11.5651025!4d104.9125527!16s%2Fg%2F11t3fc0d28?authuser=0&hl=km&entry=ttu&g_ep=EgoyMDI1MDYwOC4wIKXMDSoASAFQAw%3D%3D\n",
      "Final URL: https://www.google.com/maps/place/%E1%9E%9C%E1%9E%B7%E1%9E%91%E1%9F%92%E1%9E%99%E1%9E%B6%E1%9E%9B%E1%9F%90%E1%9E%99%E1%9E%A5%E1%9E%93%E1%9F%92%E1%9E%91%E1%9F%92%E1%9E%9A%E1%9E%91%E1%9F%81%E1%9E%9C%E1%9E%B8/@11.5776353,104.8914698,17z/data=!4m6!3m5!1s0x3109519d4c78b7ed:0x38ab077e1fc2e7aa!8m2!3d11.5776353!4d104.8914698!16s%2Fg%2F1v_vqcgq?authuser=0&hl=km&entry=ttu&g_ep=EgoyMDI1MDYwOC4wIKXMDSoASAFQAw%3D%3D\n",
      "Final URL: https://www.google.com/maps/place/%E1%9E%9F%E1%9E%B6%E1%9E%9B%E1%9E%B6+%E1%9E%98%E1%9E%8F%E1%9F%92%E1%9E%8F%E1%9F%81%E1%9E%99%E1%9F%92%E1%9E%99+%E1%9E%94%E1%9E%8B%E1%9E%98+%E1%9E%93%E1%9E%B7%E1%9E%84%E1%9E%98%E1%9E%92%E1%9F%92%E1%9E%99%E1%9E%98%E1%9E%9F%E1%9E%B7%E1%9E%80%E1%9F%92%E1%9E%9F%E1%9E%B6+%E1%9E%98%E1%9E%B8%E1%9E%82%E1%9E%B8%E1%9E%9C%E1%9F%89%E1%9F%81/@11.5940027,104.9001094,17z/data=!4m6!3m5!1s0x310953d6cdc01793:0xcadd7c9142d0759e!8m2!3d11.5940027!4d104.9001094!16s%2Fg%2F11h0t0ggs1?authuser=0&hl=km&entry=ttu&g_ep=EgoyMDI1MDYwOC4wIKXMDSoASAFQAw%3D%3D\n",
      "Final URL: https://www.google.com/maps/place/Golden+Bridge+International+School+of+Phnom+Penh+-+Tuol+Kork+Campus/@11.5821165,104.8942485,17z/data=!4m6!3m5!1s0x3109515df2e7f70b:0x1c16db8ffd645f78!8m2!3d11.5821165!4d104.8942485!16s%2Fg%2F11jgyx_288?authuser=0&hl=km&entry=ttu&g_ep=EgoyMDI1MDYwOC4wIKXMDSoASAFQAw%3D%3D\n",
      "Final URL: https://www.google.com/maps/place/%E1%9E%9C%E1%9E%B7%E1%9E%91%E1%9F%92%E1%9E%99%E1%9E%B6%E1%9E%9B%E1%9F%90%E1%9E%99%E2%80%8B%E1%9E%A0%E1%9F%8A%E1%9E%BB%E1%9E%93+%E1%9E%9F%E1%9F%82%E1%9E%93%E1%9E%94%E1%9E%BB%E1%9E%9A%E1%9E%B8%E2%80%8B%E1%9F%A1%E1%9F%A0%E1%9F%A0%E1%9E%81%E1%9F%92%E1%9E%93%E1%9E%84/@11.5632755,104.8679224,17z/data=!3m1!4b1!4m6!3m5!1s0x310951c0b0855f8b:0xfe9225025a8f9bf3!8m2!3d11.5632755!4d104.8679224!16s%2Fg%2F1q660tcsb?authuser=0&hl=km&entry=ttu&g_ep=EgoyMDI1MDYwOC4wIKXMDSoASAFQAw%3D%3D\n",
      "Final URL: https://www.google.com/maps/place/%E1%9E%9F%E1%9E%B6%E1%9E%9B%E1%9E%B6%E2%80%8B%E1%9E%A2%E1%9E%84%E1%9F%8B%E1%9E%82%E1%9F%92%E1%9E%9B%E1%9F%81%E1%9E%9F%E2%80%8B%E1%9E%A2%E1%9E%93%E1%9F%92%E1%9E%8F%E1%9E%9A%E1%9E%87%E1%9E%B6%E1%9E%8F%E1%9E%B7+%E1%9E%9A%E1%9E%B6%E1%9E%87%E1%9E%92%E1%9E%B6%E1%9E%93%E1%9E%B8%E2%80%8B%E1%9E%97%E1%9F%92%E1%9E%93%E1%9F%86%E1%9E%96%E1%9F%81%E1%9E%89/@11.5130619,104.9829059,17z/data=!3m1!4b1!4m6!3m5!1s0x3109512542cd8c45:0xae1903ef8ba39ca2!8m2!3d11.5130619!4d104.9829059!16s%2Fg%2F11c708x3lf?authuser=0&hl=km&entry=ttu&g_ep=EgoyMDI1MDYwOC4wIKXMDSoASAFQAw%3D%3D\n",
      "Final URL: https://www.google.com/maps/place/Toul+Prasat+Sen+Sok+High+School/@11.5981087,104.8697436,17z/data=!3m1!4b1!4m6!3m5!1s0x310953b812817cc7:0x798bfacfbee8f965!8m2!3d11.5981087!4d104.8697436!16s%2Fg%2F11h3mvty02?authuser=0&hl=km&entry=ttu&g_ep=EgoyMDI1MDYwOC4wIKXMDSoASAFQAw%3D%3D\n",
      "Final URL: https://www.google.com/maps/place/%E1%9E%9F%E1%9E%B6%E1%9E%9B%E1%9E%B6%E1%9E%94%E1%9E%8B%E1%9E%98%E1%9E%9F%E1%9E%B7%E1%9E%80%E1%9F%92%E1%9E%9F%E1%9E%B6+%E1%9E%93%E1%9E%B7%E1%9E%84%E1%9E%A2%E1%9E%93%E1%9E%BB%E1%9E%9C%E1%9E%B7%E1%9E%91%E1%9F%92%E1%9E%99%E1%9E%B6%E1%9E%9B%E1%9F%90%E1%9E%99+%E1%9E%85%E1%9F%86%E1%9E%9A%E1%9E%BE%E1%9E%93%E1%9E%87%E1%9E%B6%E1%9E%8F%E1%9E%B7%E2%80%8B/@11.6340725,104.8939002,17z/data=!3m1!4b1!4m6!3m5!1s0x310953006d955555:0x9fce71a284d69fae!8m2!3d11.6340725!4d104.8939002!16s%2Fg%2F11sf10h14n?authuser=0&hl=km&entry=ttu&g_ep=EgoyMDI1MDYwOC4wIKXMDSoASAFQAw%3D%3D\n",
      "Final URL: https://www.google.com/maps/place/%E1%9E%8F%E1%9E%B6%E1%9E%9A%E1%9E%B6%E1%9E%84%E1%9E%94%E1%9E%B6%E1%9E%9B%E1%9F%8B%E1%9E%91%E1%9E%B6%E1%9E%8F%E1%9F%8B%E1%9E%9C%E1%9E%B7%E1%9E%91%E1%9F%92%E1%9E%99%E1%9E%B6%E1%9E%9B%E1%9F%90%E1%9E%99%E1%9E%96%E1%9F%92%E1%9E%9A%E1%9F%87%E1%9E%9F%E1%9F%8A%E1%9E%B8%E1%9E%9F%E1%9E%BB%E1%9E%9C%E1%9E%8F%E1%9F%92%E1%9E%90%E1%9E%B7(SisowatFootballPitc)/@11.5660435,104.9235543,17z/data=!3m1!4b1!4m6!3m5!1s0x310951006ba1b2ff:0x510ebbbbc57ba7a2!8m2!3d11.5660435!4d104.9235543!16s%2Fg%2F11vx93gxdz?authuser=0&hl=km&entry=ttu&g_ep=EgoyMDI1MDYwOC4wIKXMDSoASAFQAw%3D%3D\n",
      "Final URL: https://www.google.com/maps/place/%E1%9E%9F%E1%9E%B6%E1%9E%9B%E1%9E%B6%E2%80%8B%E1%9E%A2%E1%9E%93%E1%9F%92%E1%9E%8F%E1%9E%9A%E1%9E%87%E1%9E%B6%E1%9E%8F%E1%9E%B7+Shrewsbury+%E1%9E%97%E1%9F%92%E1%9E%93%E1%9F%86%E1%9E%96%E1%9F%81%E1%9E%89/@11.5934187,104.9364568,17z/data=!3m1!4b1!4m6!3m5!1s0x3109518143bb7351:0x5c955f4d07c4e887!8m2!3d11.5934187!4d104.9364568!16s%2Fg%2F11s7zf__7r?authuser=0&hl=km&entry=ttu&g_ep=EgoyMDI1MDYwOC4wIKXMDSoASAFQAw%3D%3D\n",
      "Final URL: https://www.google.com/maps/place/Math+today+School/@11.565523,104.9130806,17z/data=!3m1!4b1!4m6!3m5!1s0x310951037c1d961d:0x4e4134ede2552f73!8m2!3d11.565523!4d104.9130806!16s%2Fg%2F11y20g_0xp?authuser=0&hl=km&entry=ttu&g_ep=EgoyMDI1MDYwOC4wIKXMDSoASAFQAw%3D%3D\n",
      "Final URL: https://www.google.com/maps/place/%E1%9E%A2%E1%9E%93%E1%9E%BB%E1%9E%9C%E1%9E%B7%E1%9E%91%E1%9F%92%E1%9E%99%E1%9E%B6%E1%9E%9B%E1%9F%90%E1%9E%99+%E1%9E%A0%E1%9F%8A%E1%9E%BB%E1%9E%93%E1%9E%9F%E1%9F%82%E1%9E%93%E1%9E%96%E1%9F%84%E1%9E%92%E1%9E%B7%E1%9F%8D%E1%9E%85%E1%9E%B7%E1%9E%93%E1%9E%8F%E1%9E%BB%E1%9E%84/@11.5630017,104.8590284,17z/data=!3m1!4b1!4m6!3m5!1s0x310951c4abf415d7:0x7c3e5919f97a4aae!8m2!3d11.5630017!4d104.8590284!16s%2Fg%2F11xfy0cnl?authuser=0&hl=km&entry=ttu&g_ep=EgoyMDI1MDYwOC4wIKXMDSoASAFQAw%3D%3D\n",
      "Final URL: https://www.google.com/maps/place/%E1%9E%9F%E1%9E%B6%E1%9E%9B%E1%9E%B6%E1%9E%9A%E1%9F%80%E1%9E%93+%E1%9E%A2%E1%9E%B6%E1%9E%9A%E1%9E%B8%E1%9E%A0%E1%9F%92%E1%9E%9F%E1%9E%BC%E1%9E%93+%E2%80%93+ARIZON+SCHOOL+Orussey+Campus/@11.5614788,104.9147928,17z/data=!3m1!4b1!4m6!3m5!1s0x31095115ec4b4e41:0xbc9ea0b4abac25c!8m2!3d11.5614788!4d104.9147928!16s%2Fg%2F1hc3qmys2?authuser=0&hl=km&entry=ttu&g_ep=EgoyMDI1MDYwOC4wIKXMDSoASAFQAw%3D%3D\n",
      "Final URL: https://www.google.com/maps/place/The+Camboland+International+School/@11.5095388,104.9435815,17z/data=!3m1!4b1!4m6!3m5!1s0x3109570074d628cb:0x4e32c0caa935df10!8m2!3d11.5095388!4d104.9435815!16s%2Fg%2F11vrwy_vty?authuser=0&hl=km&entry=ttu&g_ep=EgoyMDI1MDYwOC4wIKXMDSoASAFQAw%3D%3D\n",
      "Final URL: https://www.google.com/maps/place/%E1%9E%9C%E1%9E%B7%E1%9E%91%E1%9F%92%E1%9E%99%E1%9E%B6%E1%9E%9B%E1%9F%90%E1%9E%99%E2%80%8B%E1%9E%A2%E1%9E%93%E1%9F%92%E1%9E%8F%E1%9E%9A%E1%9E%87%E1%9E%B6%E1%9E%8F%E1%9E%B7+CIA+FIRST/@11.5468016,104.8657474,17z/data=!3m1!4b1!4m6!3m5!1s0x310951f895a64d83:0x952f6b93a2ea10ac!8m2!3d11.5468016!4d104.8657474!16s%2Fg%2F11n5bnt8vk?authuser=0&hl=km&entry=ttu&g_ep=EgoyMDI1MDYwOC4wIKXMDSoASAFQAw%3D%3D\n",
      "Final URL: https://www.google.com/maps/place/Teok+Laork+High+School+Back+Door/@11.5602152,104.8971452,17z/data=!3m1!4b1!4m6!3m5!1s0x3109519641cdfc77:0x518ba8d3e967ffcc!8m2!3d11.5602152!4d104.8971452!16s%2Fg%2F11s8_8cttg?authuser=0&hl=km&entry=ttu&g_ep=EgoyMDI1MDYwOC4wIKXMDSoASAFQAw%3D%3D\n",
      "Final URL: https://www.google.com/maps/place/Western+International+School+-+Stadium+(Main+Campus)/@11.5812811,104.8845226,17z/data=!3m1!4b1!4m6!3m5!1s0x3109519e61e7251b:0x308b0c2e593ce8b8!8m2!3d11.5812811!4d104.8845226!16s%2Fg%2F11g5rr8zt0?authuser=0&hl=km&entry=ttu&g_ep=EgoyMDI1MDYwOC4wIKXMDSoASAFQAw%3D%3D\n",
      "Final URL: https://www.google.com/maps/place/Home+Of+English+International+School/@11.5478858,104.9148703,17z/data=!3m1!4b1!4m6!3m5!1s0x3109513acd0f66eb:0x50807147b4e1d2f5!8m2!3d11.5478858!4d104.9148703!16s%2Fm%2F0g55ttn?authuser=0&hl=km&entry=ttu&g_ep=EgoyMDI1MDYwOC4wIKXMDSoASAFQAw%3D%3D\n",
      "Final URL: https://www.google.com/maps/place/%E1%9E%9C%E1%9E%B7%E1%9E%91%E1%9F%92%E1%9E%99%E1%9E%B6%E1%9E%9B%E1%9F%90%E1%9E%99+%E1%9E%91%E1%9E%BD%E1%9E%9B%E1%9E%9F%E1%9E%84%E1%9F%92%E1%9E%80%E1%9F%82/@11.5889625,104.9105164,17z/data=!3m1!4b1!4m6!3m5!1s0x3109534e462049bf:0x41a5c33d73835b23!8m2!3d11.5889625!4d104.9105164!16s%2Fg%2F11q41whspz?authuser=0&hl=km&entry=ttu&g_ep=EgoyMDI1MDYwOC4wIKXMDSoASAFQAw%3D%3D\n",
      "Final URL: https://www.google.com/maps/place/%E1%9E%A2%E1%9E%93%E1%9E%BB%E1%9E%9C%E1%9E%B7%E1%9E%91%E1%9F%92%E1%9E%99%E1%9E%B6%E1%9E%9B%E1%9F%90%E1%9E%99+%E1%9E%9A%E1%9E%91%E1%9E%B6%E1%9F%86%E1%9E%84%E2%80%8B%E2%80%8B+(Roteang+Secondary+School)/@11.5031915,105.0323971,17z/data=!3m1!4b1!4m6!3m5!1s0x310bfd57e04a14d7:0x9c1ce1d3fdcb6bb5!8m2!3d11.5031915!4d105.0323971!16s%2Fg%2F11df1rg6t1?authuser=0&hl=km&entry=ttu&g_ep=EgoyMDI1MDYwOC4wIKXMDSoASAFQAw%3D%3D\n",
      "Final URL: https://www.google.com/maps/place/%E1%9E%9F%E1%9E%B6%E1%9E%9B%E1%9E%B6+%E1%9E%A2%E1%9E%93%E1%9F%92%E1%9E%8F%E1%9E%9A%E1%9E%87%E1%9E%B6%E1%9E%8F%E1%9E%B7+%E1%9E%A2%E1%9E%BB%E1%9E%B7%E1%9E%9F%E1%9E%9C%E1%9F%89%E1%9F%81%E1%9E%9F/@11.5477946,104.9159375,17z/data=!3m1!4b1!4m6!3m5!1s0x31095121ddd545af:0x5660967e28340a81!8m2!3d11.5477946!4d104.9159375!16s%2Fg%2F1tdhbgsr?authuser=0&hl=km&entry=ttu&g_ep=EgoyMDI1MDYwOC4wIKXMDSoASAFQAw%3D%3D\n",
      "Final URL: https://www.google.com/maps/place/%E1%9E%9C%E1%9E%B7%E1%9E%91%E1%9F%92%E1%9E%99%E1%9E%B6%E1%9E%9B%E1%9F%90%E1%9E%99%E1%9E%A2%E1%9E%93%E1%9E%BB%E1%9E%9C%E1%9E%8F%E1%9F%92%E1%9E%8F/@11.5572569,104.9261086,17z/data=!4m6!3m5!1s0x310951b43015b91b:0x9eebdaf43b725242!8m2!3d11.5572569!4d104.9261086!16s%2Fg%2F11nwww_kwx?authuser=0&hl=km&entry=ttu&g_ep=EgoyMDI1MDYwOC4wIKXMDSoASAFQAw%3D%3D\n",
      "Final URL: https://www.google.com/maps/place/TVB%E1%9E%A3%E1%9E%85%E1%9E%9B%E1%9E%93%E1%9E%91%E1%9F%92%E1%9E%9A%E1%9E%96%E1%9F%92%E1%9E%99%E1%9E%82%E1%9F%92%E1%9E%9A%E1%9E%94%E1%9F%8B%E1%9E%94%E1%9F%92%E1%9E%9A%E1%9E%97%E1%9F%81%E1%9E%91015889958/@11.5563738,104.9282099,17z/data=!3m1!4b1!4m6!3m5!1s0x3109515a4e103a63:0x3d9c013f907df86f!8m2!3d11.5563738!4d104.9282099!16s%2Fg%2F11pckn6vqb?authuser=0&hl=km&entry=ttu&g_ep=EgoyMDI1MDYwOC4wIKXMDSoASAFQAw%3D%3D\n",
      "Final URL: https://www.google.com/maps/place/CPV+High+School/@11.5318821,104.820731,17z/data=!3m1!4b1!4m6!3m5!1s0x31094f970cef205d:0x6d59ab90a78fdd20!8m2!3d11.5318821!4d104.820731!16s%2Fg%2F11j0bsnszv?authuser=0&hl=km&entry=ttu&g_ep=EgoyMDI1MDYwOC4wIKXMDSoASAFQAw%3D%3D\n",
      "Final URL: https://www.google.com/maps/place/CUS/@11.592918,104.8990651,17z/data=!4m6!3m5!1s0x310953cd82413029:0x1571e672a44b9c56!8m2!3d11.592918!4d104.8990651!16s%2Fg%2F11mqg0tk18?authuser=0&hl=km&entry=ttu&g_ep=EgoyMDI1MDYwOC4wIKXMDSoASAFQAw%3D%3D\n",
      "Final URL: https://www.google.com/maps/place/Beitel+School/@11.5720348,104.8533295,17z/data=!3m1!4b1!4m6!3m5!1s0x3109510d4a41873f:0x7709ea445faf8ac9!8m2!3d11.5720348!4d104.8533295!16s%2Fg%2F11qnllqtqm?authuser=0&hl=km&entry=ttu&g_ep=EgoyMDI1MDYwOC4wIKXMDSoASAFQAw%3D%3D\n",
      "Final URL: https://www.google.com/maps/place/%E1%9E%8F%E1%9E%B6%E1%9E%8F%E1%9F%8B/@11.582235,104.9221417,17z/data=!3m1!4b1!4m6!3m5!1s0x31095109a128774b:0xdbcae3f95660c114!8m2!3d11.582235!4d104.9221417!16s%2Fg%2F11v0wxqyj5?authuser=0&hl=km&entry=ttu&g_ep=EgoyMDI1MDYwOC4wIKXMDSoASAFQAw%3D%3D\n",
      "Final URL: https://www.google.com/maps/place/%E1%9E%9C%E1%9E%B7%E1%9E%91%E1%9F%92%E1%9E%99%E1%9E%B6%E1%9E%9B%E1%9F%90%E1%9E%99+%E1%9E%94%E1%9E%BB%E1%9E%9F%E1%9E%81%E1%9F%92%E1%9E%93%E1%9E%BB%E1%9E%9A/@11.5308808,104.872791,17z/data=!3m1!4b1!4m6!3m5!1s0x310c3756a33a5b55:0x457246fab9a39e3c!8m2!3d11.5308808!4d104.872791!16s%2Fg%2F1hd_cpzm9?authuser=0&hl=km&entry=ttu&g_ep=EgoyMDI1MDYwOC4wIKXMDSoASAFQAw%3D%3D\n",
      "Final URL: https://www.google.com/maps/place/Daun+Penh/@11.5635477,104.9232368,17z/data=!3m1!4b1!4m6!3m5!1s0x31095138eec7dc71:0xf44eaf040af99da7!8m2!3d11.5635477!4d104.9232368!16s%2Fg%2F11c6t9phwc?authuser=0&hl=km&entry=ttu&g_ep=EgoyMDI1MDYwOC4wIKXMDSoASAFQAw%3D%3D\n",
      "Final URL: https://www.google.com/maps/place/%E1%9E%9C%E1%9E%B7%E1%9E%91%E1%9F%92%E1%9E%99%E1%9E%B6%E1%9E%9B%E1%9F%90%E1%9E%99+%E1%9E%91%E1%9E%BD%E1%9E%9B%E1%9E%A2%E1%9F%86%E1%9E%96%E1%9E%B7%E1%9E%9B/@11.500573,104.892523,17z/data=!3m1!4b1!4m6!3m5!1s0x31095a7fff407c9b:0x6b143b694706f85d!8m2!3d11.500573!4d104.892523!16s%2Fg%2F11ckvf5k6l?authuser=0&hl=km&entry=ttu&g_ep=EgoyMDI1MDYwOC4wIKXMDSoASAFQAw%3D%3D\n",
      "Final URL: https://www.google.com/maps/place/Sala+wp/@11.5849593,104.9175319,17z/data=!3m1!4b1!4m6!3m5!1s0x310951005ad4ff6b:0xcbe373c486d0ea40!8m2!3d11.5849593!4d104.9175319!16s%2Fg%2F11w3p7__3n?authuser=0&hl=km&entry=ttu&g_ep=EgoyMDI1MDYwOC4wIKXMDSoASAFQAw%3D%3D\n",
      "Final URL: https://www.google.com/maps/place/%E1%9E%9F%E1%9E%B6%E1%9E%9B%E1%9E%B6+%E1%9E%98%E1%9E%8F%E1%9F%92%E1%9E%8F%E1%9F%81%E1%9E%99%E1%9F%92%E1%9E%99+%E1%9E%94%E1%9E%8B%E1%9E%98+%E1%9E%93%E1%9E%B7%E1%9E%84%E1%9E%98%E1%9E%92%E1%9F%92%E1%9E%99%E1%9E%98%E1%9E%9F%E1%9E%B7%E1%9E%80%E1%9F%92%E1%9E%9F%E1%9E%B6+%E1%9E%98%E1%9E%B8%E1%9E%82%E1%9E%B8%E1%9E%9C%E1%9F%89%E1%9F%81/@11.5923378,104.9155044,17z/data=!4m6!3m5!1s0x310953de1e1c8877:0xba9264d41076ba87!8m2!3d11.5923378!4d104.9155044!16s%2Fg%2F11h2ff7b92?authuser=0&hl=km&entry=ttu&g_ep=EgoyMDI1MDYwOC4wIKXMDSoASAFQAw%3D%3D\n",
      "Final URL: https://www.google.com/maps/place/%E8%BD%A6/@11.5943629,104.9286303,17z/data=!3m1!4b1!4m6!3m5!1s0x310953007c4f9d51:0xc8ae09b3fa7cd54f!8m2!3d11.5943629!4d104.9286303!16s%2Fg%2F11vzm32zdg?authuser=0&hl=km&entry=ttu&g_ep=EgoyMDI1MDYwOC4wIKXMDSoASAFQAw%3D%3D\n",
      "Final URL: https://www.google.com/maps/place/%E1%9E%9C%E1%9E%B7%E1%9E%91%E1%9F%92%E1%9E%99%E1%9E%B6%E1%9E%9B%E1%9F%90%E1%9E%99+%E1%9E%A0%E1%9F%8A%E1%9E%BB%E1%9E%93%E1%9E%9F%E1%9F%82%E1%9E%93+%E1%9E%94%E1%9F%8A%E1%9E%BB%E1%9E%93%E1%9E%9A%E1%9F%89%E1%9E%B6%E1%9E%93%E1%9E%B8+%E1%9E%95%E1%9F%92%E1%9E%9F%E1%9E%B6%E1%9E%9A%E1%9E%8A%E1%9E%BE%E1%9E%98%E1%9E%90%E1%9F%92%E1%9E%80%E1%9E%BC%E1%9E%9C/@11.5329612,104.9143158,17z/data=!4m6!3m5!1s0x310950e7e4557fdf:0x128c2089098ed87f!8m2!3d11.5329612!4d104.9143158!16s%2Fg%2F1q66sxx6n?authuser=0&hl=km&entry=ttu&g_ep=EgoyMDI1MDYwOC4wIKXMDSoASAFQAw%3D%3D\n",
      "Final URL: https://www.google.com/maps/place/Duong+Radet/@11.593767,104.91339,17z/data=!3m1!4b1!4m6!3m5!1s0x310953ac019fa731:0x4618dd7bd1daa542!8m2!3d11.593767!4d104.91339!16s%2Fg%2F11tp0vzhjy?authuser=0&hl=km&entry=ttu&g_ep=EgoyMDI1MDYwOC4wIKXMDSoASAFQAw%3D%3D\n",
      "Final URL: https://www.google.com/maps/place/%E1%9E%95%E1%9E%93+%E1%9E%9F%E1%9E%98%E1%9F%92%E1%9E%97%E1%9E%9F%E1%9F%8B/@11.5563738,104.9282099,17z/data=!4m6!3m5!1s0x310951ef821b122d:0x41e308a920eb4adf!8m2!3d11.5563738!4d104.9282099!16s%2Fg%2F11sqxgx1ry?authuser=0&hl=km&entry=ttu&g_ep=EgoyMDI1MDYwOC4wIKXMDSoASAFQAw%3D%3D\n",
      "Final URL: https://www.google.com/maps/place/%E1%9E%9F%E1%9E%B6%E1%9E%9B%E1%9E%B6%E1%9E%9A%E1%9F%80%E1%9E%93%E1%9E%9F%E1%9E%BB%E1%9E%9C%E1%9E%8E%E1%9F%92%E1%9E%8E%E1%9E%97%E1%9E%BC%E1%9E%98%E1%9E%B7+%E1%9E%9F%E1%9E%B6%E1%9E%81%E1%9E%B6%E1%9E%8A%E1%9E%BC%E1%9E%93%E2%80%8B%E1%9E%96%E1%9F%81%E1%9E%89/@11.5625035,104.9247193,17z/data=!3m1!4b1!4m6!3m5!1s0x310951a6192c1c79:0x8751e9ad496395e9!8m2!3d11.5625035!4d104.9247193!16s%2Fg%2F11f3_s9fnz?authuser=0&hl=km&entry=ttu&g_ep=EgoyMDI1MDYwOC4wIKXMDSoASAFQAw%3D%3D\n",
      "Final URL: https://www.google.com/maps/place/%E1%9E%9C%E1%9E%B7%E1%9E%91%E1%9F%92%E1%9E%99%E1%9E%B6%E1%9E%9B%E1%9F%90%E1%9E%99%E1%9E%85%E1%9F%86%E1%9E%9A%E1%9E%BE%E1%9E%93%E1%9E%95%E1%9E%9B/@11.5410724,104.9036515,17z/data=!4m6!3m5!1s0x310950fcd5204f1f:0xc149025fcc21ef15!8m2!3d11.5410724!4d104.9036515!16s%2Fg%2F11b6_nb53n?authuser=0&hl=km&entry=ttu&g_ep=EgoyMDI1MDYwOC4wIKXMDSoASAFQAw%3D%3D\n",
      "Final URL: https://www.google.com/maps/place/%E1%9E%9F%E1%9E%B6%E1%9E%9B%E1%9E%B6%E1%9E%94%E1%9E%8B%E1%9E%98%E1%9E%9F%E1%9E%B7%E1%9E%80%E1%9F%92%E1%9E%9F%E1%9E%B6-%E1%9E%A2%E1%9E%93%E1%9E%BB%E1%9E%9C%E1%9E%B7%E1%9E%91%E1%9F%92%E1%9E%99%E1%9E%B6%E1%9E%9B%E1%9F%90%E1%9E%99+%E1%9E%96%E1%9F%92%E1%9E%9A%E1%9F%82%E1%9E%80%E1%9E%94%E1%9F%92%E1%9E%9A%E1%9E%B6/@11.5120329,104.9428579,17z/data=!3m1!4b1!4m6!3m5!1s0x3109574c4c7acf45:0xdb035c96ddd8f520!8m2!3d11.5120329!4d104.9428579!16s%2Fg%2F11b6c9pztk?authuser=0&hl=km&entry=ttu&g_ep=EgoyMDI1MDYwOC4wIKXMDSoASAFQAw%3D%3D\n",
      "Final URL: https://www.google.com/maps/place/%E1%9E%9F%E1%9E%B6%E1%9E%9B%E1%9E%B6%E1%9E%94%E1%9E%8B%E1%9E%98%E1%9E%9F%E1%9E%B7%E1%9E%80%E1%9F%92%E1%9E%9F%E1%9E%B6-%E1%9E%A2%E1%9E%93%E1%9E%BB%E1%9E%9C%E1%9E%B7%E1%9E%91%E1%9F%92%E1%9E%99%E1%9E%B6%E1%9E%9B%E1%9F%90%E1%9E%99%E1%9E%8A%E1%9E%84%E1%9F%92%E1%9E%80%E1%9F%84+(Primary+School+-+Secondary+School)/@11.5104251,104.8919161,17z/data=!3m1!4b1!4m6!3m5!1s0x3109507d5e4734c7:0x2d615ce99e4bc8ec!8m2!3d11.5104251!4d104.8919161!16s%2Fg%2F11g6ntjs88?authuser=0&hl=km&entry=ttu&g_ep=EgoyMDI1MDYwOC4wIKXMDSoASAFQAw%3D%3D\n",
      "Final URL: https://www.google.com/maps/place/%E1%9E%80%E1%9E%B6%E1%9E%9A%E1%9E%B7%E1%9E%99%E1%9E%B6%E1%9E%9B%E1%9F%90%E1%9E%99%E1%9E%9F%E1%9E%B7%E1%9E%80%E1%9F%92%E1%9E%9F%E1%9E%B6%E1%9E%93%E1%9F%83%E1%9E%9F%E1%9E%B6%E1%9E%9B%E1%9E%B6%E1%9E%98%E1%9E%92%E1%9F%92%E1%9E%99%E1%9E%98%E1%9E%9C%E1%9E%B7%E1%9E%85%E1%9E%B7%E1%9E%8F%E1%9F%92%E1%9E%9A%E1%9E%9F%E1%9E%B7%E1%9E%9B%E1%9F%92%E1%9E%94%E1%9F%88/@11.5870983,104.8763751,17z/data=!3m1!4b1!4m6!3m5!1s0x3109512bacbeb0f1:0x687155270e01227f!8m2!3d11.5870983!4d104.8763751!16s%2Fg%2F11l24f_tvb?authuser=0&hl=km&entry=ttu&g_ep=EgoyMDI1MDYwOC4wIKXMDSoASAFQAw%3D%3D\n",
      "Final URL: https://www.google.com/maps/place/Glolink+International+School/@11.591651,104.8736046,17z/data=!3m1!4b1!4m6!3m5!1s0x31095220b7c25069:0xaf27fb690e4a86f4!8m2!3d11.591651!4d104.8736046!16s%2Fg%2F11cn8_4581?authuser=0&hl=km&entry=ttu&g_ep=EgoyMDI1MDYwOC4wIKXMDSoASAFQAw%3D%3D\n",
      "Final URL: https://www.google.com/maps/place/Extra+class/@11.5520516,104.8948051,17z/data=!4m6!3m5!1s0x310951007304ad51:0xee17dd8da7b920f3!8m2!3d11.5520516!4d104.8948051!16s%2Fg%2F11vpp9pww0?authuser=0&hl=km&entry=ttu&g_ep=EgoyMDI1MDYwOC4wIKXMDSoASAFQAw%3D%3D\n",
      "Final URL: https://www.google.com/maps/place/%E1%9E%A2%E1%9E%93%E1%9E%BB%E1%9E%9C%E1%9E%B7%E1%9E%91%E1%9F%92%E1%9E%99%E1%9E%B6%E1%9E%9B%E1%9F%90%E1%9E%99%E1%9E%96%E1%9F%92%E1%9E%9A%E1%9F%82%E1%9E%80%E1%9E%9A%E1%9E%B6%E1%9F%86%E1%9E%84/@11.6510025,104.8814577,17z/data=!4m6!3m5!1s0x31095327b00f0ed5:0xbf23a51b8e379652!8m2!3d11.6510025!4d104.8814577!16s%2Fg%2F11kz07xzr7?authuser=0&hl=km&entry=ttu&g_ep=EgoyMDI1MDYwOC4wIKXMDSoASAFQAw%3D%3D\n",
      "Final URL: https://www.google.com/maps/place/%E1%9E%9C%E1%9E%B7%E1%9E%91%E1%9F%92%E1%9E%99%E1%9E%B6%E1%9E%9B%E1%9F%90%E1%9E%99%E1%9E%9C%E1%9F%89%E1%9E%B6%E1%9E%9A%E1%9E%B7%E1%9E%93/@11.5635373,104.8997059,17z/data=!3m1!4b1!4m6!3m5!1s0x3109517cd5b4d7d3:0x77c3ef6d1a378184!8m2!3d11.5635373!4d104.8997059!16s%2Fg%2F11hvpq3wt2?authuser=0&hl=km&entry=ttu&g_ep=EgoyMDI1MDYwOC4wIKXMDSoASAFQAw%3D%3D\n",
      "Final URL: https://www.google.com/maps/place/%E1%9E%A2%E1%9E%93%E1%9E%9C%E1%9E%B7%E1%9E%91%E1%9F%92%E1%9E%99%E1%9E%B6%E1%9E%9B%E1%9F%90%E1%9E%99%E1%9E%94%E1%9F%8A%E1%9E%BB%E1%9E%93%E1%9E%9A%E1%9F%89%E1%9E%B6%E1%9E%93%E1%9E%B8%E1%9E%A0%E1%9F%8A%E1%9E%BB%E1%9E%93%E1%9E%9F%E1%9F%82%E1%9E%93%E2%80%8B%E1%9E%96%E1%9F%92%E1%9E%9A%E1%9F%82%E1%9E%80%E2%80%8B%E1%9E%90%E1%9F%92%E1%9E%98%E1%9E%B8%E2%80%8B/@11.470867,105.0041619,17z/data=!4m6!3m5!1s0x3109592a4da17fff:0x7a3a4b1ba8bf31f5!8m2!3d11.470867!4d105.0041619!16s%2Fg%2F11gnp9_ckb?authuser=0&hl=km&entry=ttu&g_ep=EgoyMDI1MDYwOC4wIKXMDSoASAFQAw%3D%3D\n",
      "Final URL: https://www.google.com/maps/place/%E1%9E%9C%E1%9E%B7%E1%9E%91%E1%9F%92%E1%9E%99%E1%9E%B6%E1%9E%9B%E1%9F%90%E1%9E%99%E1%9E%96%E1%9F%92%E1%9E%9A%E1%9F%82%E1%9E%80%E1%9E%9B%E1%9E%BD%E1%9E%84/@11.6326133,104.9531137,17z/data=!3m1!4b1!4m6!3m5!1s0x310954885929768f:0x43a0d1527b11f309!8m2!3d11.6326133!4d104.9531137!16s%2Fg%2F11c3svvhtt?authuser=0&hl=km&entry=ttu&g_ep=EgoyMDI1MDYwOC4wIKXMDSoASAFQAw%3D%3D\n",
      "Final URL: https://www.google.com/maps/place/%E1%9E%9F21/@11.5427521,104.9082307,17z/data=!3m1!4b1!4m6!3m5!1s0x3109511ebda31e25:0xec313d5f28a532fc!8m2!3d11.5427521!4d104.9082307!16s%2Fg%2F11vcx_ghgz?authuser=0&hl=km&entry=ttu&g_ep=EgoyMDI1MDYwOC4wIKXMDSoASAFQAw%3D%3D\n",
      "Final URL: https://www.google.com/maps/place/%E1%9E%9F%E1%9E%B6%E1%9E%9B%E1%9E%B6%E1%9E%9A%E1%9F%80%E1%9E%93%E1%9E%A2%E1%9E%93%E1%9F%92%E1%9E%8F%E1%9E%9A%E1%9E%87%E1%9E%B6%E1%9E%8F%E1%9E%B7+%E1%9E%A2%E1%9E%B6%E1%9E%98%E1%9F%81%E1%9E%9A%E1%9E%B7%E1%9E%80%E1%9E%B6%E1%9F%86%E1%9E%84%E1%9E%94%E1%9F%92%E1%9E%9A%E1%9F%8A%E1%9E%B8%E1%9E%87/@11.607901,104.9107479,17z/data=!3m1!4b1!4m6!3m5!1s0x310953c0dbf08fcb:0xb9b6e9c61be79885!8m2!3d11.607901!4d104.9107479!16s%2Fg%2F11h2d6801t?authuser=0&hl=km&entry=ttu&g_ep=EgoyMDI1MDYwOC4wIKXMDSoASAFQAw%3D%3D\n",
      "Final URL: https://www.google.com/maps/place/School+2/@11.5718834,104.8538043,17z/data=!4m6!3m5!1s0x3109515166636291:0x2b6ae2f461415d31!8m2!3d11.5718834!4d104.8538043!16s%2Fg%2F11rjv1fvqc?authuser=0&hl=km&entry=ttu&g_ep=EgoyMDI1MDYwOC4wIKXMDSoASAFQAw%3D%3D\n",
      "Final URL: https://www.google.com/maps/place/The+Westline+School,+Tuol+Tumpoung+2+Branch/@11.5358373,104.9142905,17z/data=!4m6!3m5!1s0x3109510067bc6a8d:0x938a6fb7b4fb1d32!8m2!3d11.5358373!4d104.9142905!16s%2Fg%2F11w1qjqrld?authuser=0&hl=km&entry=ttu&g_ep=EgoyMDI1MDYwOC4wIKXMDSoASAFQAw%3D%3D\n",
      "Final URL: https://www.google.com/maps/place/Goldstone+School+of+HOPE/@11.578529,104.8927959,17z/data=!4m6!3m5!1s0x31095178114e58e3:0x87fb88f33c72208d!8m2!3d11.578529!4d104.8927959!16s%2Fg%2F11xckh242?authuser=0&hl=km&entry=ttu&g_ep=EgoyMDI1MDYwOC4wIKXMDSoASAFQAw%3D%3D\n",
      "Final URL: https://www.google.com/maps/place/%E1%9E%9F%E1%9E%B6%E1%9E%9B%E1%9E%B6%E1%9E%A2%E1%9E%93%E1%9F%92%E1%9E%8F%E1%9E%9A%E1%9E%87%E1%9E%B6%E1%9E%8F%E1%9E%B7+%E1%9E%9C%E1%9E%BE%E1%9E%9B%E1%9E%8A%E1%9F%8F+%E1%9E%80%E1%9E%98%E1%9F%92%E1%9E%96%E1%9E%BB%E1%9E%87%E1%9E%B6/@11.5821574,104.9042133,17z/data=!4m6!3m5!1s0x31095164b418a63d:0x70dba7edb81c9645!8m2!3d11.5821574!4d104.9042133!16s%2Fg%2F11bztb0ssr?authuser=0&hl=km&entry=ttu&g_ep=EgoyMDI1MDYwOC4wIKXMDSoASAFQAw%3D%3D\n",
      "Final URL: https://www.google.com/maps/place/%E1%9E%9B%E1%9E%B8%E1%9E%9F%E1%9F%81+%E1%9E%94%E1%9E%B6%E1%9E%9A%E1%9E%B6%E1%9F%86%E1%9E%84+%E1%9E%9A%E1%9E%BA%E1%9E%8E%E1%9F%81+%E1%9E%8A%E1%9F%81%E1%9E%80%E1%9E%B6%E1%9E%8F/@11.5747508,104.9197843,17z/data=!4m6!3m5!1s0x31095143131de7a7:0xf22302de8603938d!8m2!3d11.5747508!4d104.9197843!16zL20vMDJzcHY4?authuser=0&hl=km&entry=ttu&g_ep=EgoyMDI1MDYwOC4wIKXMDSoASAFQAw%3D%3D\n",
      "Final URL: https://www.google.com/maps/place/%E1%9E%A2%E1%9E%93%E1%9E%BB%E1%9E%9C%E1%9E%B7%E1%9E%91%E1%9F%92%E1%9E%99%E1%9E%B6%E1%9E%9B%E1%9F%90%E1%9E%99%E1%9E%81%E1%9F%92%E1%9E%98%E1%9F%82%E1%9E%9A%E1%9E%85%E1%9E%B7%E1%9E%93+%E1%9E%A0%E1%9F%8A%E1%9E%BB%E1%9E%93%E1%9E%9F%E1%9F%82%E1%9E%93+%E1%9E%A0%E1%9F%81%E1%9E%84%E1%9E%8F%E1%9E%BB%E1%9E%84/@11.4768635,104.9505811,17z/data=!4m6!3m5!1s0x310959ed6122c1c9:0xf8d25a7321e5cc9!8m2!3d11.4768635!4d104.9505811!16s%2Fg%2F11b6ll7czb?authuser=0&hl=km&entry=ttu&g_ep=EgoyMDI1MDYwOC4wIKXMDSoASAFQAw%3D%3D\n",
      "Final URL: https://www.google.com/maps/place/%E1%9E%9F%E1%9E%B6%E1%9E%9B%E1%9E%B6%E1%9E%9A%E1%9F%80%E1%9E%93+%E1%9E%A2%E1%9E%93%E1%9F%92%E1%9E%8F%E1%9E%9A%E1%9E%91%E1%9F%92%E1%9E%9C%E1%9E%B8%E1%9E%94+%E1%9E%A2%E1%9E%B6%E1%9E%98%E1%9F%81%E1%9E%9A%E1%9E%B7%E1%9E%80%E1%9E%B6%E1%9F%86%E1%9E%84+%E1%9E%9F%E1%9E%B6%E1%9E%81%E1%9E%B6%E1%9E%98%E1%9F%89%E1%9F%85%E1%9E%9F%E1%9F%81%E1%9E%91%E1%9E%BB%E1%9E%84/@11.5462913,104.9080977,17z/data=!3m1!4b1!4m6!3m5!1s0x310951b755435dcb:0xfd95461b0839f532!8m2!3d11.5462913!4d104.9080977!16s%2Fg%2F11xfpx2_x?authuser=0&hl=km&entry=ttu&g_ep=EgoyMDI1MDYwOC4wIKXMDSoASAFQAw%3D%3D\n",
      "Final URL: https://www.google.com/maps/place/%E1%9E%A0%E1%9F%8A%E1%9E%BB%E1%9E%93/@11.5563738,104.9282099,17z/data=!3m1!4b1!4m6!3m5!1s0x310951fa5f7c3a2f:0xaefa9bce81ce43cd!8m2!3d11.5563738!4d104.9282099!16s%2Fg%2F11kx3446w3?authuser=0&hl=km&entry=ttu&g_ep=EgoyMDI1MDYwOC4wIKXMDSoASAFQAw%3D%3D\n",
      "Final URL: https://www.google.com/maps/place/%E1%9E%9F%E1%9E%B6%E1%9E%9B%E1%9E%B6%E1%9E%87%E1%9E%94%E1%9F%89%E1%9E%BB%E1%9E%93/@11.5404856,104.9017491,17z/data=!3m1!4b1!4m6!3m5!1s0x3109513933f39491:0xda459f10faa494f4!8m2!3d11.5404856!4d104.9017491!16s%2Fg%2F11q371f0zr?authuser=0&hl=km&entry=ttu&g_ep=EgoyMDI1MDYwOC4wIKXMDSoASAFQAw%3D%3D\n",
      "Final URL: https://www.google.com/maps/place/%E1%9E%9C%E1%9E%B7%E1%9E%91%E1%9F%92%E1%9E%99%E1%9E%B6%E1%9E%9B%E1%9F%90%E1%9E%99+%E1%9E%A0%E1%9F%8A%E1%9E%BB%E1%9E%93+%E1%9E%9F%E1%9F%82%E1%9E%93+%E1%9E%9F%E1%9F%81%E1%9E%9A%E1%9E%B8%E1%9E%97%E1%9E%B6%E1%9E%96/@11.4804234,104.9469964,17z/data=!4m6!3m5!1s0x310959f3cf98a50d:0x974b90f4ad731246!8m2!3d11.4804234!4d104.9469964!16s%2Fg%2F119w9qw3q?authuser=0&hl=km&entry=ttu&g_ep=EgoyMDI1MDYwOC4wIKXMDSoASAFQAw%3D%3D\n",
      "Final URL: https://www.google.com/maps/place/%E1%9E%9C%E1%9E%B7%E1%9E%91%E1%9F%92%E1%9E%99%E1%9E%B6%E1%9E%9B%E1%9F%90%E1%9E%99%E1%9E%85%E1%9F%86%E1%9E%8E%E1%9F%81%E1%9F%87%E1%9E%91%E1%9E%BC%E1%9E%91%E1%9F%85+%E1%9E%93%E1%9E%B7%E1%9E%84%E1%9E%94%E1%9E%85%E1%9F%92%E1%9E%85%E1%9F%81%E1%9E%80%E1%9E%91%E1%9F%81%E1%9E%9F%E1%9E%AF%E1%9E%80%E1%9E%87%E1%9E%93+%E1%9E%A2%E1%9F%81%E1%9E%9F%E1%9E%B8%E1%9E%BB%E1%9E%92%E1%9E%B8/@11.521746,104.9141655,17z/data=!4m6!3m5!1s0x310950eab2c7545b:0x4dec1c977344cc22!8m2!3d11.521746!4d104.9141655!16s%2Fg%2F11c5s9jq_m?authuser=0&hl=km&entry=ttu&g_ep=EgoyMDI1MDYwOC4wIKXMDSoASAFQAw%3D%3D\n",
      "Final URL: https://www.google.com/maps/place/%E1%9E%9F%E1%9E%B6%E1%9E%9B%E1%9E%B6%E1%9E%80%E1%9E%B6%E1%9E%8E%E1%9E%B6%E1%9E%8A%E1%9E%B6%E1%9E%A2%E1%9E%93%E1%9F%92%E1%9E%8F%E1%9E%9A%E1%9E%87%E1%9E%B6%E1%9E%8F%E1%9E%B7/@11.5460745,104.9359311,17z/data=!4m6!3m5!1s0x3109512a423d771d:0x90f9c0837e6cdc97!8m2!3d11.5460745!4d104.9359311!16s%2Fg%2F1q5bmp_51?authuser=0&hl=km&entry=ttu&g_ep=EgoyMDI1MDYwOC4wIKXMDSoASAFQAw%3D%3D\n",
      "Final URL: https://www.google.com/maps/place/%E1%9E%9C%E1%9E%B7%E1%9E%91%E1%9F%92%E1%9E%99%E1%9E%B6%E1%9E%9B%E1%9F%90%E1%9E%99+%E1%9E%A0%E1%9E%B6%E1%9E%86%E1%9E%B6%E1%9E%93%E1%9F%8B%E1%9E%81%E1%9E%B6%E1%9F%86/@11.5516133,104.8711028,17z/data=!3m1!4b1!4m6!3m5!1s0x310951f55044a545:0xf9449e7f8652fab8!8m2!3d11.5516133!4d104.8711028!16s%2Fg%2F11l1mn9mfk?authuser=0&hl=km&entry=ttu&g_ep=EgoyMDI1MDYwOC4wIKXMDSoASAFQAw%3D%3D\n",
      "Final URL: https://www.google.com/maps/place/Sambor+Mean+Chey+Secondaryschool/@11.4893607,104.8945617,17z/data=!3m1!4b1!4m6!3m5!1s0x31095be3381a4649:0xf09ccd8a57dca21!8m2!3d11.4893607!4d104.8945617!16s%2Fg%2F11t4430syy?authuser=0&hl=km&entry=ttu&g_ep=EgoyMDI1MDYwOC4wIKXMDSoASAFQAw%3D%3D\n",
      "Final URL: https://www.google.com/maps/place/Greenfield+International+School/@11.6064782,104.905923,17z/data=!3m1!4b1!4m6!3m5!1s0x3109537f0356ea45:0xf67bf28ead95b1c2!8m2!3d11.6064782!4d104.905923!16s%2Fg%2F11sv8mmd4z?authuser=0&hl=km&entry=ttu&g_ep=EgoyMDI1MDYwOC4wIKXMDSoASAFQAw%3D%3D\n",
      "Final URL: https://www.google.com/maps/place/Soklin+teaching/@11.5214456,104.9044012,17z/data=!4m6!3m5!1s0x310951d8a5f5b073:0x440e543f4cf154f1!8m2!3d11.5214456!4d104.9044012!16s%2Fg%2F11t1hw13wt?authuser=0&hl=km&entry=ttu&g_ep=EgoyMDI1MDYwOC4wIKXMDSoASAFQAw%3D%3D\n",
      "Final URL: https://www.google.com/maps/place/Millennium+School+I+-+%E1%9E%9F%E1%9E%B6%E1%9E%9B%E1%9E%B6%E1%9E%98%E1%9E%B8%E1%9E%9B%E1%9E%9B%E1%9F%81%E1%9E%93%E1%9E%93%E1%9F%80%E1%9E%98+%E1%9F%A1+-+%E1%9E%80%E1%9E%B6%E1%9E%9A%E1%9E%A2%E1%9E%94%E1%9F%8B%E1%9E%9A%E1%9F%86%E1%9E%91%E1%9E%BC%E1%9E%91%E1%9F%85%E1%9E%80%E1%9E%98%E1%9F%92%E1%9E%9A%E1%9E%B7%E1%9E%8F%E1%9E%98%E1%9E%8F%E1%9F%92%E1%9E%8F%E1%9F%81%E1%9E%99%E1%9F%92%E1%9E%99+%E1%9E%8A%E1%9E%9B%E1%9F%8B+%E1%9E%9C%E1%9E%B7%E1%9E%91%E1%9F%92%E1%9E%99%E1%9E%B6%E1%9E%9B%E1%9F%90%E1%9E%99+-+(%E5%B9%B2%E7%A6%A7%E5%B9%B4%E5%AD%A6%E6%A0%A1)/@11.5543425,104.9074396,17z/data=!4m6!3m5!1s0x31095141fdbea343:0x427ec5b72ea7e465!8m2!3d11.5543425!4d104.9074396!16s%2Fg%2F11kq2dw0z_?authuser=0&hl=km&entry=ttu&g_ep=EgoyMDI1MDYwOC4wIKXMDSoASAFQAw%3D%3D\n",
      "Final URL: https://www.google.com/maps/place/Center+14/@11.5343356,104.9416012,17z/data=!4m6!3m5!1s0x3109575a6f1411ed:0x984e8da02752422e!8m2!3d11.5343356!4d104.9416012!16s%2Fg%2F11v421nb1j?authuser=0&hl=km&entry=ttu&g_ep=EgoyMDI1MDYwOC4wIKXMDSoASAFQAw%3D%3D\n",
      "Final URL: https://www.google.com/maps/place/%E1%9E%9F%E1%9E%B6%E1%9E%9B%E1%9E%B6%E1%9E%9A%E1%9F%80%E1%9E%93%E1%9E%A2%E1%9E%93%E1%9F%92%E1%9E%8F%E1%9E%9A%E1%9E%87%E1%9E%B6%E1%9E%8F%E1%9E%B7%E1%9E%A2%E1%9E%B6%E1%9E%9B%E1%9F%8B%E1%9E%9A%E1%9F%89%E1%9E%BC%E1%9E%9F%E1%9E%98%E1%9F%89%E1%9E%B6%E1%9E%93_+Al-Rahman+International+School/@11.6321949,104.8914947,17z/data=!4m6!3m5!1s0x31095353c2fbd171:0xa2f6430a894d0427!8m2!3d11.6321949!4d104.8914947!16s%2Fg%2F11l36cwsb0?authuser=0&hl=km&entry=ttu&g_ep=EgoyMDI1MDYwOC4wIKXMDSoASAFQAw%3D%3D\n",
      "Final URL: https://www.google.com/maps/place/Linda/@11.559124,104.9084413,17z/data=!3m1!4b1!4m6!3m5!1s0x3109514e2ef9fa7f:0x1d46a52fc3630012!8m2!3d11.559124!4d104.9084413!16s%2Fg%2F11rxp0_ppz?authuser=0&hl=km&entry=ttu&g_ep=EgoyMDI1MDYwOC4wIKXMDSoASAFQAw%3D%3D\n",
      "Final URL: https://www.google.com/maps/place/%E1%9E%A2%E1%9E%84%E1%9F%92%E1%9E%82%E1%9E%91%E1%9E%BB%E1%9E%9B%E1%9F%92%E1%9E%9B%E1%9E%97%E1%9F%8D/@11.532665,104.925482,17z/data=!4m6!3m5!1s0x3109510a6fbe0a91:0xfd228260fe890e25!8m2!3d11.532665!4d104.925482!16s%2Fg%2F11t0swyf9x?authuser=0&hl=km&entry=ttu&g_ep=EgoyMDI1MDYwOC4wIKXMDSoASAFQAw%3D%3D\n",
      "Final URL: https://www.google.com/maps/place/%E1%9E%9F%E1%9E%B6%E1%9E%9B%E1%9E%B6%E1%9E%94%E1%9F%8A%E1%9F%82%E1%9E%9B%E1%9E%92%E1%9E%B8%E1%9E%A2%E1%9E%93%E1%9F%92%E1%9E%8F%E1%9E%9A%E1%9E%87%E1%9E%B6%E1%9E%8F%E1%9E%B7+%E1%9E%91%E1%9E%B8%E1%9F%A4+(%E1%9E%9F%E1%9E%B6%E1%9E%81%E1%9E%B6%E1%9E%95%E1%9F%92%E1%9E%9F%E1%9E%B6%E1%9E%9A%E1%9E%8A%E1%9E%BE%E1%9E%98%E1%9E%90%E1%9F%92%E1%9E%80%E1%9E%BC%E1%9E%9C)/@11.5338411,104.9174537,17z/data=!3m1!4b1!4m6!3m5!1s0x310950dd161d4555:0x9e249e0c85fe856e!8m2!3d11.5338411!4d104.9174537!16s%2Fg%2F1hm4v8w77?authuser=0&hl=km&entry=ttu&g_ep=EgoyMDI1MDYwOC4wIKXMDSoASAFQAw%3D%3D\n",
      "Final URL: https://www.google.com/maps/place/Rong+kerb/@11.5712138,104.8506417,17z/data=!3m1!4b1!4m6!3m5!1s0x310951628ba0a983:0xdaa75a669bf39937!8m2!3d11.5712138!4d104.8506417!16s%2Fg%2F11k0m4bn_y?authuser=0&hl=km&entry=ttu&g_ep=EgoyMDI1MDYwOC4wIKXMDSoASAFQAw%3D%3D\n",
      "Final URL: https://www.google.com/maps/place/American+Pacific+International+School+-+Daun+Penh+Campus/@11.5625474,104.924456,17z/data=!4m6!3m5!1s0x3109513855104df1:0x616e11f1a27310a!8m2!3d11.5625474!4d104.924456!16s%2Fg%2F11h0pb5r1?authuser=0&hl=km&entry=ttu&g_ep=EgoyMDI1MDYwOC4wIKXMDSoASAFQAw%3D%3D\n",
      "Final URL: https://www.google.com/maps/place/%E1%9E%9F%E1%9E%B6%E1%9E%9B%E1%9E%B6+%E1%9E%98%E1%9E%8F%E1%9F%92%E1%9E%8F%E1%9F%81%E1%9E%99%E1%9F%92%E1%9E%99+%E1%9E%94%E1%9E%8B%E1%9E%98+%E1%9E%93%E1%9E%B7%E1%9E%84%E1%9E%98%E1%9E%92%E1%9F%92%E1%9E%99%E1%9E%98%E1%9E%9F%E1%9E%B7%E1%9E%80%E1%9F%92%E1%9E%9F%E1%9E%B6+%E1%9E%98%E1%9E%B8%E1%9E%82%E1%9E%B8%E1%9E%9C%E1%9F%89%E1%9F%81/@11.5417,104.8924579,17z/data=!3m1!4b1!4m6!3m5!1s0x310950ff7c1741ed:0xa4e11eff8369432b!8m2!3d11.5417!4d104.8924579!16s%2Fg%2F11h1qlck0t?authuser=0&hl=km&entry=ttu&g_ep=EgoyMDI1MDYwOC4wIKXMDSoASAFQAw%3D%3D\n",
      "Final URL: https://www.google.com/maps/place/Bro+Zeii/@11.5370542,104.887244,17z/data=!3m1!4b1!4m6!3m5!1s0x310951f80bbd4d0f:0x57c0c3787019c645!8m2!3d11.5370542!4d104.887244!16s%2Fg%2F11hz3c93kv?authuser=0&hl=km&entry=ttu&g_ep=EgoyMDI1MDYwOC4wIKXMDSoASAFQAw%3D%3D\n",
      "Final URL: https://www.google.com/maps/place/Footprints+International+School+(TTP+Campus)/@11.5366527,104.9170313,17z/data=!3m1!4b1!4m6!3m5!1s0x310951ee5e511965:0xa7c79fba61a4674a!8m2!3d11.5366527!4d104.9170313!16s%2Fg%2F11ll5nsv_2?authuser=0&hl=km&entry=ttu&g_ep=EgoyMDI1MDYwOC4wIKXMDSoASAFQAw%3D%3D\n",
      "Final URL: https://www.google.com/maps/place/Golden+Gate+American+School,+Campus+5/@11.5758426,104.893041,17z/data=!4m6!3m5!1s0x31095179c8ed0937:0xc7a866115890b2aa!8m2!3d11.5758426!4d104.893041!16s%2Fg%2F11ycydt7t?authuser=0&hl=km&entry=ttu&g_ep=EgoyMDI1MDYwOC4wIKXMDSoASAFQAw%3D%3D\n",
      "Final URL: https://www.google.com/maps/place/ran/@11.5638335,104.8903655,17z/data=!4m6!3m5!1s0x310951003c341d53:0x8f3f1e9251f15ca0!8m2!3d11.5638335!4d104.8903655!16s%2Fg%2F11vs_rs5zl?authuser=0&hl=km&entry=ttu&g_ep=EgoyMDI1MDYwOC4wIKXMDSoASAFQAw%3D%3D\n",
      "Final URL: https://www.google.com/maps/place/%E1%9E%9F%E1%9E%B6%E1%9E%80%E1%9E%9B%E1%9F%92%E1%9E%94%E1%9E%84/@11.5893652,104.9092065,17z/data=!3m1!4b1!4m6!3m5!1s0x310953752ad8c21b:0x16cdbcbc07e773e6!8m2!3d11.5893652!4d104.9092065!16s%2Fg%2F11rjyhd0v7?authuser=0&hl=km&entry=ttu&g_ep=EgoyMDI1MDYwOC4wIKXMDSoASAFQAw%3D%3D\n",
      "Final URL: https://www.google.com/maps/place/%E1%9E%A2%E1%9E%93%E1%9E%BB%E1%9E%9C%E1%9E%B7%E1%9E%91%E1%9F%92%E1%9E%99%E1%9E%B6%E1%9E%9B%E1%9F%90%E1%9E%99%E2%80%8B%E1%9E%91%E1%9E%BD%E1%9E%9B%E2%80%8B%E1%9E%9F%E1%9E%B6%E1%9E%9B%E1%9E%B6/@11.4198229,104.7953062,17z/data=!3m1!4b1!4m6!3m5!1s0x3109447f03aaaaab:0xb57148480c6941c7!8m2!3d11.4198229!4d104.7953062!16s%2Fg%2F11tn9znwlv?authuser=0&hl=km&entry=ttu&g_ep=EgoyMDI1MDYwOC4wIKXMDSoASAFQAw%3D%3D\n",
      "Final URL: https://www.google.com/maps/place/%E1%9E%97%E1%9E%B6%E1%9E%9F%E1%9F%8B/@11.5573585,104.904575,17z/data=!3m1!4b1!4m6!3m5!1s0x31095185ccc9eecd:0x540590d3d3f1bb66!8m2!3d11.5573585!4d104.904575!16s%2Fg%2F11vhfvm70n?authuser=0&hl=km&entry=ttu&g_ep=EgoyMDI1MDYwOC4wIKXMDSoASAFQAw%3D%3D\n",
      "Final URL: https://www.google.com/maps/place/%E1%9E%80%E1%9E%B6%E1%9E%9A%E1%9E%B8%E1%9E%98/@11.5563738,104.9282099,17z/data=!3m1!4b1!4m6!3m5!1s0x310951e3c59ba56d:0x53918c6f9b94cd68!8m2!3d11.5563738!4d104.9282099!16s%2Fg%2F11l2wrjg3t?authuser=0&hl=km&entry=ttu&g_ep=EgoyMDI1MDYwOC4wIKXMDSoASAFQAw%3D%3D\n",
      "Final URL: https://www.google.com/maps/place/%E1%9E%9C%E1%9E%B7%E1%9E%91%E1%9F%92%E1%9E%99%E1%9E%B6%E1%9E%9B%E1%9F%90%E1%9E%99+%E1%9E%80%E1%9F%86%E1%9E%94%E1%9E%BC%E1%9E%9B/@11.5271236,104.7830919,17z/data=!3m1!4b1!4m6!3m5!1s0x31094fcbd008fdf7:0x13603bf72aef9112!8m2!3d11.5271236!4d104.7830919!16s%2Fg%2F11r7l2_yk0?authuser=0&hl=km&entry=ttu&g_ep=EgoyMDI1MDYwOC4wIKXMDSoASAFQAw%3D%3D\n",
      "Final URL: https://www.google.com/maps/place/%E1%9E%9F%E1%9E%B6%E1%9E%9B%E1%9E%B6%E1%9E%A2%E1%9E%93%E1%9F%92%E1%9E%8F%E1%9E%9A%E1%9E%87%E1%9E%B6%E1%9E%8F%E1%9E%B7%E1%9E%A1%E1%9E%BC%E1%9E%A0%E1%9F%92%E1%9E%82%E1%9F%84%E1%9E%9F/@11.5846513,104.8717684,17z/data=!3m1!4b1!4m6!3m5!1s0x3109518ae27da8c1:0x4fe0eac621e4fd9d!8m2!3d11.5846513!4d104.8717684!16s%2Fg%2F1tqt73cj?authuser=0&hl=km&entry=ttu&g_ep=EgoyMDI1MDYwOC4wIKXMDSoASAFQAw%3D%3D\n",
      "Final URL: https://www.google.com/maps/place/%E1%9E%9C%E1%9E%B7%E1%9E%91%E1%9F%92%E1%9E%99%E1%9E%B6%E1%9E%9B%E1%9F%90%E1%9E%99+%E1%9E%A0%E1%9F%8A%E1%9E%BB%E1%9E%93+%E1%9E%9F%E1%9F%82%E1%9E%93+%E1%9E%87%E1%9E%98%E1%9F%92%E1%9E%96%E1%9E%BC%E1%9E%9C%E1%9F%90%E1%9E%93/@11.5317526,104.8207866,17z/data=!3m1!4b1!4m6!3m5!1s0x31094fbf4ab0d23f:0x41a091826f5026a5!8m2!3d11.5317526!4d104.8207866!16s%2Fg%2F1hf2p9h2g?authuser=0&hl=km&entry=ttu&g_ep=EgoyMDI1MDYwOC4wIKXMDSoASAFQAw%3D%3D\n",
      "Final URL: https://www.google.com/maps/place/Bakheng+Junior+High+School/@11.6708975,104.9157173,17z/data=!3m1!4b1!4m6!3m5!1s0x31095349ff87074d:0x3cf8cf992d6f1706!8m2!3d11.6708975!4d104.9157173!16s%2Fg%2F11g6nkfw_x?authuser=0&hl=km&entry=ttu&g_ep=EgoyMDI1MDYwOC4wIKXMDSoASAFQAw%3D%3D\n"
     ]
    }
   ],
   "source": [
    "# Set up the webdriver\n",
    "options = webdriver.ChromeOptions()\n",
    "options.add_argument(\"--headless\")  # Run in headless mode (without opening the browser window)\n",
    "driver = webdriver.Chrome(service=Service(ChromeDriverManager().install()), options=options)\n",
    "\n",
    "for i in range(len(branch_data)):\n",
    "    # Open the initial Google Maps link\n",
    "    initial_url = branch_data[i]['url']\n",
    "    driver.get(initial_url)\n",
    "\n",
    "    # Wait for the page to load and the URL to change\n",
    "    time.sleep(5)  # You can adjust this based on your network speed or use WebDriverWait\n",
    "\n",
    "    # Get the final URL\n",
    "    final_url = driver.current_url\n",
    "    print(f'Final URL: {final_url}')\n",
    "\n",
    "    branch_data[i]['name'] = branch_data[i]['name']\n",
    "    branch_data[i]['url'] = final_url\n",
    "\n",
    "# Close the browser\n",
    "driver.quit()\n"
   ]
  },
  {
   "cell_type": "code",
   "execution_count": 4,
   "metadata": {},
   "outputs": [],
   "source": [
    "result = []"
   ]
  },
  {
   "cell_type": "code",
   "execution_count": 6,
   "metadata": {},
   "outputs": [],
   "source": [
    "import re\n",
    "\n",
    "for i in range(len(branch_data) - 1):\n",
    "    temp = {}\n",
    "    temp['name'] = branch_data[i]['name']\n",
    "    # Try to find the @lat,lon in the URL\n",
    "    match = re.search(r'@(-?\\d+\\.\\d+),(-?\\d+\\.\\d+)', branch_data[i]['url'])\n",
    "    if match:\n",
    "        temp['lat'] = match.group(1)\n",
    "        temp['lon'] = match.group(2)\n",
    "    else:\n",
    "        temp['lat'] = None\n",
    "        temp['lon'] = None\n",
    "    result.append(temp)"
   ]
  },
  {
   "cell_type": "code",
   "execution_count": 7,
   "metadata": {},
   "outputs": [
    {
     "data": {
      "text/plain": [
       "[{'name': 'អនុវិទ្យាល័យ\\u200bចតុមុខ', 'lat': '11.562718', 'lon': '104.926858'},\n",
       " {'name': 'អនុវិទ្យាល័យ\\u200bចតុមុខ', 'lat': '11.562718', 'lon': '104.926858'},\n",
       " {'name': 'សាលា\\u200b\\u200b\\u200bអ៊ី\\u200bអិល\\u200bធី',\n",
       "  'lat': None,\n",
       "  'lon': None},\n",
       " {'name': 'វិទ្យាល័យវត្តកោះ', 'lat': '11.5650687', 'lon': '104.9206865'},\n",
       " {'name': 'វិទ្យាល័យ\\u200bជ្រោយ\\u200bចង្វារ (ជា ស៊ីម)',\n",
       "  'lat': '11.5864515',\n",
       "  'lon': '104.9285923'},\n",
       " {'name': 'សាលា\\u200bរៀន\\u200bអេ\\u200bយូ\\u200bភី\\u200bភី',\n",
       "  'lat': '11.5770471',\n",
       "  'lon': '104.9180878'},\n",
       " {'name': 'វិទ្យាល័យ ហ៊ុន សែន ប៊ុន រ៉ានី វត្តភ្នំ',\n",
       "  'lat': '11.5849992',\n",
       "  'lon': '104.9181062'},\n",
       " {'name': 'វិទ្យាល័យ\\u200bព្រះ\\u200bស៊ីសុវត្ថិ',\n",
       "  'lat': '11.5640126',\n",
       "  'lon': '104.9252101'},\n",
       " {'name': 'វិទ្យាល័យ \\u200bជាស៊ីម សន្ធរម៉ុក',\n",
       "  'lat': '11.5662572',\n",
       "  'lon': '104.8987544'},\n",
       " {'name': 'វិទ្យាល័យ\\u200bព្រះយុគន្ធរ',\n",
       "  'lat': '11.5551993',\n",
       "  'lon': '104.919911'},\n",
       " {'name': 'សាលា\\u200bមធ្យមវិចិត្រ\\u200bសិល្បៈ',\n",
       "  'lat': '11.5877385',\n",
       "  'lon': '104.8764971'},\n",
       " {'name': 'សាលា\\u200bអន្តរជាតិ\\u200bផារ៉ាហ្កន',\n",
       "  'lat': '11.548769',\n",
       "  'lon': '104.933654'},\n",
       " {'name': 'វិទ្យាល័យបាក់ទូក', 'lat': '11.5646016', 'lon': '104.9126194'},\n",
       " {'name': 'វិទ្យាល័យទួលទំពូង', 'lat': '11.5421567', 'lon': '104.9159011'},\n",
       " {'name': 'វិទ្យាល័យទឹកល្អក់', 'lat': '11.5603564', 'lon': '104.8979296'},\n",
       " {'name': 'វិទ្យាល័យបឹងត្របែក', 'lat': '11.5347335', 'lon': '104.9239472'},\n",
       " {'name': 'សាលា សុធារស', 'lat': '11.5520176', 'lon': '104.9319074'},\n",
       " {'name': 'អនុវិទ្យាល័យ ចាក់អង្រែក្រោម',\n",
       "  'lat': '11.512683',\n",
       "  'lon': '104.9354832'},\n",
       " {'name': 'Kdey Takoy Primary and Secondary School',\n",
       "  'lat': '11.5563738',\n",
       "  'lon': '104.9282099'},\n",
       " {'name': 'អនុវិទ្យាល័យ \\u200bអរិយក្សត្រ',\n",
       "  'lat': '11.580554',\n",
       "  'lon': '104.9585616'},\n",
       " {'name': 'វិទ្យាល័យព្រះស៊ីសុវត្ថិ អគារ H',\n",
       "  'lat': '11.5634355',\n",
       "  'lon': '104.9247836'},\n",
       " {'name': 'អនុវិទ្យាល៍យអូរបែកក្អម', 'lat': '11.556224', 'lon': '104.8897324'},\n",
       " {'name': 'School Office', 'lat': '11.5647951', 'lon': '104.9121283'},\n",
       " {'name': 'Harrods International Academy (C5)',\n",
       "  'lat': '11.551781',\n",
       "  'lon': '104.927381'},\n",
       " {'name': 'Seven76', 'lat': '11.580483', 'lon': '104.9186278'},\n",
       " {'name': 'សាលាអាមេរិកាំង ស្ទេនហ្វដ',\n",
       "  'lat': '11.5649894',\n",
       "  'lon': '104.8997674'},\n",
       " {'name': 'សាលារៀន អន្តរទ្វីប អាមេរិកាំង សាខាទួលគោក',\n",
       "  'lat': '11.5817239',\n",
       "  'lon': '104.9047967'},\n",
       " {'name': 'ពុទ្ធិក\\u200bវិទ្យាល័យព្រះសុរាម្រឹត',\n",
       "  'lat': '11.5614961',\n",
       "  'lon': '104.934169'},\n",
       " {'name': 'Ruessei Srok Primary and Secondary School',\n",
       "  'lat': '11.4690051',\n",
       "  'lon': '105.0300292'},\n",
       " {'name': 'Russey Keo High School', 'lat': '11.6121376', 'lon': '104.9138571'},\n",
       " {'name': 'វិទ្យាល័យ\\u200bច្បារ\\u200bអំពៅ',\n",
       "  'lat': '11.5298706',\n",
       "  'lon': '104.9490822'},\n",
       " {'name': 'សាលា\\u200bអន្តរជាតិ Invictus ភ្នំពេញ',\n",
       "  'lat': '11.5514921',\n",
       "  'lon': '104.9287144'},\n",
       " {'name': 'វិទ្យាល័យជាស៊ីមសាមគ្គី', 'lat': '11.5496961', 'lon': '104.8916123'},\n",
       " {'name': 'វិវិវិត', 'lat': '11.5646324', 'lon': '104.929463'},\n",
       " {'name': 'សាលាអន្តរជាតិញូវយ៉ក', 'lat': '11.6157623', 'lon': '104.9147688'},\n",
       " {'name': 'Building A', 'lat': '11.5651025', 'lon': '104.9125527'},\n",
       " {'name': 'វិទ្យាល័យឥន្ទ្រទេវី', 'lat': '11.5776353', 'lon': '104.8914698'},\n",
       " {'name': 'សាលា មត្តេយ្យ បឋម និងមធ្យមសិក្សា មីគីវ៉េ',\n",
       "  'lat': '11.5940027',\n",
       "  'lon': '104.9001094'},\n",
       " {'name': 'Golden Bridge International School of Phnom Penh - Tuol Kork Campus',\n",
       "  'lat': '11.5821165',\n",
       "  'lon': '104.8942485'},\n",
       " {'name': 'វិទ្យាល័យ\\u200bហ៊ុន សែនបុរី\\u200b១០០ខ្នង',\n",
       "  'lat': '11.5632755',\n",
       "  'lon': '104.8679224'},\n",
       " {'name': 'សាលា\\u200bអង់គ្លេស\\u200bអន្តរជាតិ រាជធានី\\u200bភ្នំពេញ',\n",
       "  'lat': '11.5130619',\n",
       "  'lon': '104.9829059'},\n",
       " {'name': 'Toul Prasat Sen Sok High School',\n",
       "  'lat': '11.5981087',\n",
       "  'lon': '104.8697436'},\n",
       " {'name': 'សាលាបឋមសិក្សា និងអនុវិទ្យាល័យ ចំរើនជាតិ\\u200b',\n",
       "  'lat': '11.6340725',\n",
       "  'lon': '104.8939002'},\n",
       " {'name': 'តារាងបាល់ទាត់វិទ្យាល័យព្រះស៊ីសុវត្ថិ(SisowatFootballPitc)',\n",
       "  'lat': '11.5660435',\n",
       "  'lon': '104.9235543'},\n",
       " {'name': 'សាលា\\u200bអន្តរជាតិ Shrewsbury ភ្នំពេញ',\n",
       "  'lat': '11.5934187',\n",
       "  'lon': '104.9364568'},\n",
       " {'name': 'Math today School', 'lat': '11.565523', 'lon': '104.9130806'},\n",
       " {'name': 'អនុវិទ្យាល័យ ហ៊ុនសែនពោធិ៍ចិនតុង',\n",
       "  'lat': '11.5630017',\n",
       "  'lon': '104.8590284'},\n",
       " {'name': 'សាលារៀន អារីហ្សូន – ARIZON SCHOOL Orussey Campus',\n",
       "  'lat': '11.5614788',\n",
       "  'lon': '104.9147928'},\n",
       " {'name': 'The Camboland International School',\n",
       "  'lat': '11.5095388',\n",
       "  'lon': '104.9435815'},\n",
       " {'name': 'វិទ្យាល័យ\\u200bអន្តរជាតិ CIA FIRST',\n",
       "  'lat': '11.5468016',\n",
       "  'lon': '104.8657474'},\n",
       " {'name': 'Teok Laork High School Back Door',\n",
       "  'lat': '11.5602152',\n",
       "  'lon': '104.8971452'},\n",
       " {'name': 'Western International School - Stadium (Main Campus)',\n",
       "  'lat': '11.5812811',\n",
       "  'lon': '104.8845226'},\n",
       " {'name': 'Home Of English International School',\n",
       "  'lat': '11.5478858',\n",
       "  'lon': '104.9148703'},\n",
       " {'name': 'វិទ្យាល័យ ទួលសង្កែ', 'lat': '11.5889625', 'lon': '104.9105164'},\n",
       " {'name': 'អនុវិទ្យាល័យ រទាំង\\u200b\\u200b (Roteang Secondary School)',\n",
       "  'lat': '11.5031915',\n",
       "  'lon': '105.0323971'},\n",
       " {'name': 'សាលា អន្តរជាតិ អុិសវ៉េស',\n",
       "  'lat': '11.5477946',\n",
       "  'lon': '104.9159375'},\n",
       " {'name': 'វិទ្យាល័យអនុវត្ត', 'lat': '11.5572569', 'lon': '104.9261086'},\n",
       " {'name': 'TVBឣចលនទ្រព្យគ្រប់ប្រភេទ015889958',\n",
       "  'lat': '11.5563738',\n",
       "  'lon': '104.9282099'},\n",
       " {'name': 'CPV High School', 'lat': '11.5318821', 'lon': '104.820731'},\n",
       " {'name': 'CUS', 'lat': '11.592918', 'lon': '104.8990651'},\n",
       " {'name': 'Beitel School', 'lat': '11.5720348', 'lon': '104.8533295'},\n",
       " {'name': 'តាត់', 'lat': '11.582235', 'lon': '104.9221417'},\n",
       " {'name': 'វិទ្យាល័យ បុសខ្នុរ', 'lat': '11.5308808', 'lon': '104.872791'},\n",
       " {'name': 'Daun Penh', 'lat': '11.5635477', 'lon': '104.9232368'},\n",
       " {'name': 'វិទ្យាល័យ ទួលអំពិល', 'lat': '11.500573', 'lon': '104.892523'},\n",
       " {'name': 'Sala wp', 'lat': '11.5849593', 'lon': '104.9175319'},\n",
       " {'name': 'សាលា មត្តេយ្យ បឋម និងមធ្យមសិក្សា មីគីវ៉េ',\n",
       "  'lat': '11.5923378',\n",
       "  'lon': '104.9155044'},\n",
       " {'name': '车', 'lat': '11.5943629', 'lon': '104.9286303'},\n",
       " {'name': 'វិទ្យាល័យ ហ៊ុនសែន ប៊ុនរ៉ានី ផ្សារដើមថ្កូវ',\n",
       "  'lat': '11.5329612',\n",
       "  'lon': '104.9143158'},\n",
       " {'name': 'Duong Radet', 'lat': '11.593767', 'lon': '104.91339'},\n",
       " {'name': 'ផន សម្ភស់', 'lat': '11.5563738', 'lon': '104.9282099'},\n",
       " {'name': 'សាលារៀនសុវណ្ណភូមិ សាខាដូន\\u200bពេញ',\n",
       "  'lat': '11.5625035',\n",
       "  'lon': '104.9247193'},\n",
       " {'name': 'វិទ្យាល័យចំរើនផល', 'lat': '11.5410724', 'lon': '104.9036515'},\n",
       " {'name': 'សាលាបឋមសិក្សា-អនុវិទ្យាល័យ ព្រែកប្រា',\n",
       "  'lat': '11.5120329',\n",
       "  'lon': '104.9428579'},\n",
       " {'name': 'សាលាបឋមសិក្សា-អនុវិទ្យាល័យដង្កោ (Primary School - Secondary School)',\n",
       "  'lat': '11.5104251',\n",
       "  'lon': '104.8919161'},\n",
       " {'name': 'ការិយាល័យសិក្សានៃសាលាមធ្យមវិចិត្រសិល្បៈ',\n",
       "  'lat': '11.5870983',\n",
       "  'lon': '104.8763751'},\n",
       " {'name': 'Glolink International School',\n",
       "  'lat': '11.591651',\n",
       "  'lon': '104.8736046'},\n",
       " {'name': 'Extra class', 'lat': '11.5520516', 'lon': '104.8948051'},\n",
       " {'name': 'អនុវិទ្យាល័យព្រែករាំង', 'lat': '11.6510025', 'lon': '104.8814577'},\n",
       " {'name': 'វិទ្យាល័យវ៉ារិន', 'lat': '11.5635373', 'lon': '104.8997059'},\n",
       " {'name': 'អនវិទ្យាល័យប៊ុនរ៉ានីហ៊ុនសែន\\u200bព្រែក\\u200bថ្មី\\u200b',\n",
       "  'lat': '11.470867',\n",
       "  'lon': '105.0041619'},\n",
       " {'name': 'វិទ្យាល័យព្រែកលួង', 'lat': '11.6326133', 'lon': '104.9531137'},\n",
       " {'name': 'ស21', 'lat': '11.5427521', 'lon': '104.9082307'},\n",
       " {'name': 'សាលារៀនអន្តរជាតិ អាមេរិកាំងប្រ៊ីជ',\n",
       "  'lat': '11.607901',\n",
       "  'lon': '104.9107479'},\n",
       " {'name': 'School 2', 'lat': '11.5718834', 'lon': '104.8538043'},\n",
       " {'name': 'The Westline School, Tuol Tumpoung 2 Branch',\n",
       "  'lat': '11.5358373',\n",
       "  'lon': '104.9142905'},\n",
       " {'name': 'Goldstone School of HOPE',\n",
       "  'lat': '11.578529',\n",
       "  'lon': '104.8927959'},\n",
       " {'name': 'សាលាអន្តរជាតិ វើលដ៏ កម្ពុជា',\n",
       "  'lat': '11.5821574',\n",
       "  'lon': '104.9042133'},\n",
       " {'name': 'លីសេ បារាំង រឺណេ ដេកាត', 'lat': '11.5747508', 'lon': '104.9197843'},\n",
       " {'name': 'អនុវិទ្យាល័យខ្មែរចិន ហ៊ុនសែន ហេងតុង',\n",
       "  'lat': '11.4768635',\n",
       "  'lon': '104.9505811'},\n",
       " {'name': 'សាលារៀន អន្តរទ្វីប អាមេរិកាំង សាខាម៉ៅសេទុង',\n",
       "  'lat': '11.5462913',\n",
       "  'lon': '104.9080977'},\n",
       " {'name': 'ហ៊ុន', 'lat': '11.5563738', 'lon': '104.9282099'},\n",
       " {'name': 'សាលាជប៉ុន', 'lat': '11.5404856', 'lon': '104.9017491'},\n",
       " {'name': 'វិទ្យាល័យ ហ៊ុន សែន សេរីភាព',\n",
       "  'lat': '11.4804234',\n",
       "  'lon': '104.9469964'},\n",
       " {'name': 'វិទ្យាល័យចំណេះទូទៅ និងបច្ចេកទេសឯកជន អេសីុធី',\n",
       "  'lat': '11.521746',\n",
       "  'lon': '104.9141655'},\n",
       " {'name': 'សាលាកាណាដាអន្តរជាតិ', 'lat': '11.5460745', 'lon': '104.9359311'},\n",
       " {'name': 'វិទ្យាល័យ ហាឆាន់ខាំ', 'lat': '11.5516133', 'lon': '104.8711028'},\n",
       " {'name': 'Sambor Mean Chey Secondaryschool',\n",
       "  'lat': '11.4893607',\n",
       "  'lon': '104.8945617'},\n",
       " {'name': 'Greenfield International School',\n",
       "  'lat': '11.6064782',\n",
       "  'lon': '104.905923'},\n",
       " {'name': 'Soklin teaching', 'lat': '11.5214456', 'lon': '104.9044012'},\n",
       " {'name': 'Millennium School I - សាលាមីលលេននៀម ១ - ការអប់រំទូទៅកម្រិតមត្តេយ្យ ដល់ វិទ្យាល័យ - (干禧年学校)',\n",
       "  'lat': '11.5543425',\n",
       "  'lon': '104.9074396'},\n",
       " {'name': 'Center 14', 'lat': '11.5343356', 'lon': '104.9416012'},\n",
       " {'name': 'សាលារៀនអន្តរជាតិអាល់រ៉ូសម៉ាន_ Al-Rahman International School',\n",
       "  'lat': '11.6321949',\n",
       "  'lon': '104.8914947'},\n",
       " {'name': 'Linda', 'lat': '11.559124', 'lon': '104.9084413'},\n",
       " {'name': 'អង្គទុល្លភ៍', 'lat': '11.532665', 'lon': '104.925482'},\n",
       " {'name': 'សាលាប៊ែលធីអន្តរជាតិ ទី៤ (សាខាផ្សារដើមថ្កូវ)',\n",
       "  'lat': '11.5338411',\n",
       "  'lon': '104.9174537'},\n",
       " {'name': 'Rong kerb', 'lat': '11.5712138', 'lon': '104.8506417'},\n",
       " {'name': 'American Pacific International School - Daun Penh Campus',\n",
       "  'lat': '11.5625474',\n",
       "  'lon': '104.924456'},\n",
       " {'name': 'សាលា មត្តេយ្យ បឋម និងមធ្យមសិក្សា មីគីវ៉េ',\n",
       "  'lat': '11.5417',\n",
       "  'lon': '104.8924579'},\n",
       " {'name': 'Bro Zeii', 'lat': '11.5370542', 'lon': '104.887244'},\n",
       " {'name': 'Footprints International School (TTP Campus)',\n",
       "  'lat': '11.5366527',\n",
       "  'lon': '104.9170313'},\n",
       " {'name': 'Golden Gate American School, Campus 5',\n",
       "  'lat': '11.5758426',\n",
       "  'lon': '104.893041'},\n",
       " {'name': 'ran', 'lat': '11.5638335', 'lon': '104.8903655'},\n",
       " {'name': 'សាកល្បង', 'lat': '11.5893652', 'lon': '104.9092065'},\n",
       " {'name': 'អនុវិទ្យាល័យ\\u200bទួល\\u200bសាលា',\n",
       "  'lat': '11.4198229',\n",
       "  'lon': '104.7953062'},\n",
       " {'name': 'ភាស់', 'lat': '11.5573585', 'lon': '104.904575'},\n",
       " {'name': 'ការីម', 'lat': '11.5563738', 'lon': '104.9282099'},\n",
       " {'name': 'វិទ្យាល័យ កំបូល', 'lat': '11.5271236', 'lon': '104.7830919'},\n",
       " {'name': 'សាលាអន្តរជាតិឡូហ្គោស', 'lat': '11.5846513', 'lon': '104.8717684'},\n",
       " {'name': 'វិទ្យាល័យ ហ៊ុន សែន ជម្ពូវ័ន',\n",
       "  'lat': '11.5317526',\n",
       "  'lon': '104.8207866'}]"
      ]
     },
     "execution_count": 7,
     "metadata": {},
     "output_type": "execute_result"
    }
   ],
   "source": [
    "result"
   ]
  },
  {
   "cell_type": "code",
   "execution_count": 8,
   "metadata": {},
   "outputs": [
    {
     "name": "stdout",
     "output_type": "stream",
     "text": [
      "[{'name': 'អនុវិទ្យាល័យ\\u200bចតុមុខ', 'lat': '11.562718', 'lon': '104.926858'}, {'name': 'សាលា\\u200b\\u200b\\u200bអ៊ី\\u200bអិល\\u200bធី', 'lat': None, 'lon': None}, {'name': 'វិទ្យាល័យវត្តកោះ', 'lat': '11.5650687', 'lon': '104.9206865'}, {'name': 'វិទ្យាល័យ\\u200bជ្រោយ\\u200bចង្វារ (ជា ស៊ីម)', 'lat': '11.5864515', 'lon': '104.9285923'}, {'name': 'សាលា\\u200bរៀន\\u200bអេ\\u200bយូ\\u200bភី\\u200bភី', 'lat': '11.5770471', 'lon': '104.9180878'}, {'name': 'វិទ្យាល័យ ហ៊ុន សែន ប៊ុន រ៉ានី វត្តភ្នំ', 'lat': '11.5849992', 'lon': '104.9181062'}, {'name': 'វិទ្យាល័យ\\u200bព្រះ\\u200bស៊ីសុវត្ថិ', 'lat': '11.5640126', 'lon': '104.9252101'}, {'name': 'វិទ្យាល័យ \\u200bជាស៊ីម សន្ធរម៉ុក', 'lat': '11.5662572', 'lon': '104.8987544'}, {'name': 'វិទ្យាល័យ\\u200bព្រះយុគន្ធរ', 'lat': '11.5551993', 'lon': '104.919911'}, {'name': 'សាលា\\u200bមធ្យមវិចិត្រ\\u200bសិល្បៈ', 'lat': '11.5877385', 'lon': '104.8764971'}, {'name': 'សាលា\\u200bអន្តរជាតិ\\u200bផារ៉ាហ្កន', 'lat': '11.548769', 'lon': '104.933654'}, {'name': 'វិទ្យាល័យបាក់ទូក', 'lat': '11.5646016', 'lon': '104.9126194'}, {'name': 'វិទ្យាល័យទួលទំពូង', 'lat': '11.5421567', 'lon': '104.9159011'}, {'name': 'វិទ្យាល័យទឹកល្អក់', 'lat': '11.5603564', 'lon': '104.8979296'}, {'name': 'វិទ្យាល័យបឹងត្របែក', 'lat': '11.5347335', 'lon': '104.9239472'}, {'name': 'សាលា សុធារស', 'lat': '11.5520176', 'lon': '104.9319074'}, {'name': 'អនុវិទ្យាល័យ ចាក់អង្រែក្រោម', 'lat': '11.512683', 'lon': '104.9354832'}, {'name': 'Kdey Takoy Primary and Secondary School', 'lat': '11.5563738', 'lon': '104.9282099'}, {'name': 'អនុវិទ្យាល័យ \\u200bអរិយក្សត្រ', 'lat': '11.580554', 'lon': '104.9585616'}, {'name': 'វិទ្យាល័យព្រះស៊ីសុវត្ថិ អគារ H', 'lat': '11.5634355', 'lon': '104.9247836'}, {'name': 'អនុវិទ្យាល៍យអូរបែកក្អម', 'lat': '11.556224', 'lon': '104.8897324'}, {'name': 'School Office', 'lat': '11.5647951', 'lon': '104.9121283'}, {'name': 'Harrods International Academy (C5)', 'lat': '11.551781', 'lon': '104.927381'}, {'name': 'Seven76', 'lat': '11.580483', 'lon': '104.9186278'}, {'name': 'សាលាអាមេរិកាំង ស្ទេនហ្វដ', 'lat': '11.5649894', 'lon': '104.8997674'}, {'name': 'សាលារៀន អន្តរទ្វីប អាមេរិកាំង សាខាទួលគោក', 'lat': '11.5817239', 'lon': '104.9047967'}, {'name': 'ពុទ្ធិក\\u200bវិទ្យាល័យព្រះសុរាម្រឹត', 'lat': '11.5614961', 'lon': '104.934169'}, {'name': 'Ruessei Srok Primary and Secondary School', 'lat': '11.4690051', 'lon': '105.0300292'}, {'name': 'Russey Keo High School', 'lat': '11.6121376', 'lon': '104.9138571'}, {'name': 'វិទ្យាល័យ\\u200bច្បារ\\u200bអំពៅ', 'lat': '11.5298706', 'lon': '104.9490822'}, {'name': 'សាលា\\u200bអន្តរជាតិ Invictus ភ្នំពេញ', 'lat': '11.5514921', 'lon': '104.9287144'}, {'name': 'វិទ្យាល័យជាស៊ីមសាមគ្គី', 'lat': '11.5496961', 'lon': '104.8916123'}, {'name': 'វិវិវិត', 'lat': '11.5646324', 'lon': '104.929463'}, {'name': 'សាលាអន្តរជាតិញូវយ៉ក', 'lat': '11.6157623', 'lon': '104.9147688'}, {'name': 'Building A', 'lat': '11.5651025', 'lon': '104.9125527'}, {'name': 'វិទ្យាល័យឥន្ទ្រទេវី', 'lat': '11.5776353', 'lon': '104.8914698'}, {'name': 'សាលា មត្តេយ្យ បឋម និងមធ្យមសិក្សា មីគីវ៉េ', 'lat': '11.5940027', 'lon': '104.9001094'}, {'name': 'Golden Bridge International School of Phnom Penh - Tuol Kork Campus', 'lat': '11.5821165', 'lon': '104.8942485'}, {'name': 'វិទ្យាល័យ\\u200bហ៊ុន សែនបុរី\\u200b១០០ខ្នង', 'lat': '11.5632755', 'lon': '104.8679224'}, {'name': 'សាលា\\u200bអង់គ្លេស\\u200bអន្តរជាតិ រាជធានី\\u200bភ្នំពេញ', 'lat': '11.5130619', 'lon': '104.9829059'}, {'name': 'Toul Prasat Sen Sok High School', 'lat': '11.5981087', 'lon': '104.8697436'}, {'name': 'សាលាបឋមសិក្សា និងអនុវិទ្យាល័យ ចំរើនជាតិ\\u200b', 'lat': '11.6340725', 'lon': '104.8939002'}, {'name': 'តារាងបាល់ទាត់វិទ្យាល័យព្រះស៊ីសុវត្ថិ(SisowatFootballPitc)', 'lat': '11.5660435', 'lon': '104.9235543'}, {'name': 'សាលា\\u200bអន្តរជាតិ Shrewsbury ភ្នំពេញ', 'lat': '11.5934187', 'lon': '104.9364568'}, {'name': 'Math today School', 'lat': '11.565523', 'lon': '104.9130806'}, {'name': 'អនុវិទ្យាល័យ ហ៊ុនសែនពោធិ៍ចិនតុង', 'lat': '11.5630017', 'lon': '104.8590284'}, {'name': 'សាលារៀន អារីហ្សូន – ARIZON SCHOOL Orussey Campus', 'lat': '11.5614788', 'lon': '104.9147928'}, {'name': 'The Camboland International School', 'lat': '11.5095388', 'lon': '104.9435815'}, {'name': 'វិទ្យាល័យ\\u200bអន្តរជាតិ CIA FIRST', 'lat': '11.5468016', 'lon': '104.8657474'}, {'name': 'Teok Laork High School Back Door', 'lat': '11.5602152', 'lon': '104.8971452'}, {'name': 'Western International School - Stadium (Main Campus)', 'lat': '11.5812811', 'lon': '104.8845226'}, {'name': 'Home Of English International School', 'lat': '11.5478858', 'lon': '104.9148703'}, {'name': 'វិទ្យាល័យ ទួលសង្កែ', 'lat': '11.5889625', 'lon': '104.9105164'}, {'name': 'អនុវិទ្យាល័យ រទាំង\\u200b\\u200b (Roteang Secondary School)', 'lat': '11.5031915', 'lon': '105.0323971'}, {'name': 'សាលា អន្តរជាតិ អុិសវ៉េស', 'lat': '11.5477946', 'lon': '104.9159375'}, {'name': 'វិទ្យាល័យអនុវត្ត', 'lat': '11.5572569', 'lon': '104.9261086'}, {'name': 'CPV High School', 'lat': '11.5318821', 'lon': '104.820731'}, {'name': 'CUS', 'lat': '11.592918', 'lon': '104.8990651'}, {'name': 'Beitel School', 'lat': '11.5720348', 'lon': '104.8533295'}, {'name': 'តាត់', 'lat': '11.582235', 'lon': '104.9221417'}, {'name': 'វិទ្យាល័យ បុសខ្នុរ', 'lat': '11.5308808', 'lon': '104.872791'}, {'name': 'Daun Penh', 'lat': '11.5635477', 'lon': '104.9232368'}, {'name': 'វិទ្យាល័យ ទួលអំពិល', 'lat': '11.500573', 'lon': '104.892523'}, {'name': 'Sala wp', 'lat': '11.5849593', 'lon': '104.9175319'}, {'name': 'សាលា មត្តេយ្យ បឋម និងមធ្យមសិក្សា មីគីវ៉េ', 'lat': '11.5923378', 'lon': '104.9155044'}, {'name': '车', 'lat': '11.5943629', 'lon': '104.9286303'}, {'name': 'វិទ្យាល័យ ហ៊ុនសែន ប៊ុនរ៉ានី ផ្សារដើមថ្កូវ', 'lat': '11.5329612', 'lon': '104.9143158'}, {'name': 'Duong Radet', 'lat': '11.593767', 'lon': '104.91339'}, {'name': 'សាលារៀនសុវណ្ណភូមិ សាខាដូន\\u200bពេញ', 'lat': '11.5625035', 'lon': '104.9247193'}, {'name': 'វិទ្យាល័យចំរើនផល', 'lat': '11.5410724', 'lon': '104.9036515'}, {'name': 'សាលាបឋមសិក្សា-អនុវិទ្យាល័យ ព្រែកប្រា', 'lat': '11.5120329', 'lon': '104.9428579'}, {'name': 'សាលាបឋមសិក្សា-អនុវិទ្យាល័យដង្កោ (Primary School - Secondary School)', 'lat': '11.5104251', 'lon': '104.8919161'}, {'name': 'ការិយាល័យសិក្សានៃសាលាមធ្យមវិចិត្រសិល្បៈ', 'lat': '11.5870983', 'lon': '104.8763751'}, {'name': 'Glolink International School', 'lat': '11.591651', 'lon': '104.8736046'}, {'name': 'Extra class', 'lat': '11.5520516', 'lon': '104.8948051'}, {'name': 'អនុវិទ្យាល័យព្រែករាំង', 'lat': '11.6510025', 'lon': '104.8814577'}, {'name': 'វិទ្យាល័យវ៉ារិន', 'lat': '11.5635373', 'lon': '104.8997059'}, {'name': 'អនវិទ្យាល័យប៊ុនរ៉ានីហ៊ុនសែន\\u200bព្រែក\\u200bថ្មី\\u200b', 'lat': '11.470867', 'lon': '105.0041619'}, {'name': 'វិទ្យាល័យព្រែកលួង', 'lat': '11.6326133', 'lon': '104.9531137'}, {'name': 'ស21', 'lat': '11.5427521', 'lon': '104.9082307'}, {'name': 'សាលារៀនអន្តរជាតិ អាមេរិកាំងប្រ៊ីជ', 'lat': '11.607901', 'lon': '104.9107479'}, {'name': 'School 2', 'lat': '11.5718834', 'lon': '104.8538043'}, {'name': 'The Westline School, Tuol Tumpoung 2 Branch', 'lat': '11.5358373', 'lon': '104.9142905'}, {'name': 'Goldstone School of HOPE', 'lat': '11.578529', 'lon': '104.8927959'}, {'name': 'សាលាអន្តរជាតិ វើលដ៏ កម្ពុជា', 'lat': '11.5821574', 'lon': '104.9042133'}, {'name': 'លីសេ បារាំង រឺណេ ដេកាត', 'lat': '11.5747508', 'lon': '104.9197843'}, {'name': 'អនុវិទ្យាល័យខ្មែរចិន ហ៊ុនសែន ហេងតុង', 'lat': '11.4768635', 'lon': '104.9505811'}, {'name': 'សាលារៀន អន្តរទ្វីប អាមេរិកាំង សាខាម៉ៅសេទុង', 'lat': '11.5462913', 'lon': '104.9080977'}, {'name': 'សាលាជប៉ុន', 'lat': '11.5404856', 'lon': '104.9017491'}, {'name': 'វិទ្យាល័យ ហ៊ុន សែន សេរីភាព', 'lat': '11.4804234', 'lon': '104.9469964'}, {'name': 'វិទ្យាល័យចំណេះទូទៅ និងបច្ចេកទេសឯកជន អេសីុធី', 'lat': '11.521746', 'lon': '104.9141655'}, {'name': 'សាលាកាណាដាអន្តរជាតិ', 'lat': '11.5460745', 'lon': '104.9359311'}, {'name': 'វិទ្យាល័យ ហាឆាន់ខាំ', 'lat': '11.5516133', 'lon': '104.8711028'}, {'name': 'Sambor Mean Chey Secondaryschool', 'lat': '11.4893607', 'lon': '104.8945617'}, {'name': 'Greenfield International School', 'lat': '11.6064782', 'lon': '104.905923'}, {'name': 'Soklin teaching', 'lat': '11.5214456', 'lon': '104.9044012'}, {'name': 'Millennium School I - សាលាមីលលេននៀម ១ - ការអប់រំទូទៅកម្រិតមត្តេយ្យ ដល់ វិទ្យាល័យ - (干禧年学校)', 'lat': '11.5543425', 'lon': '104.9074396'}, {'name': 'Center 14', 'lat': '11.5343356', 'lon': '104.9416012'}, {'name': 'សាលារៀនអន្តរជាតិអាល់រ៉ូសម៉ាន_ Al-Rahman International School', 'lat': '11.6321949', 'lon': '104.8914947'}, {'name': 'Linda', 'lat': '11.559124', 'lon': '104.9084413'}, {'name': 'អង្គទុល្លភ៍', 'lat': '11.532665', 'lon': '104.925482'}, {'name': 'សាលាប៊ែលធីអន្តរជាតិ ទី៤ (សាខាផ្សារដើមថ្កូវ)', 'lat': '11.5338411', 'lon': '104.9174537'}, {'name': 'Rong kerb', 'lat': '11.5712138', 'lon': '104.8506417'}, {'name': 'American Pacific International School - Daun Penh Campus', 'lat': '11.5625474', 'lon': '104.924456'}, {'name': 'សាលា មត្តេយ្យ បឋម និងមធ្យមសិក្សា មីគីវ៉េ', 'lat': '11.5417', 'lon': '104.8924579'}, {'name': 'Bro Zeii', 'lat': '11.5370542', 'lon': '104.887244'}, {'name': 'Footprints International School (TTP Campus)', 'lat': '11.5366527', 'lon': '104.9170313'}, {'name': 'Golden Gate American School, Campus 5', 'lat': '11.5758426', 'lon': '104.893041'}, {'name': 'ran', 'lat': '11.5638335', 'lon': '104.8903655'}, {'name': 'សាកល្បង', 'lat': '11.5893652', 'lon': '104.9092065'}, {'name': 'អនុវិទ្យាល័យ\\u200bទួល\\u200bសាលា', 'lat': '11.4198229', 'lon': '104.7953062'}, {'name': 'ភាស់', 'lat': '11.5573585', 'lon': '104.904575'}, {'name': 'វិទ្យាល័យ កំបូល', 'lat': '11.5271236', 'lon': '104.7830919'}, {'name': 'សាលាអន្តរជាតិឡូហ្គោស', 'lat': '11.5846513', 'lon': '104.8717684'}, {'name': 'វិទ្យាល័យ ហ៊ុន សែន ជម្ពូវ័ន', 'lat': '11.5317526', 'lon': '104.8207866'}]\n"
     ]
    }
   ],
   "source": [
    "unique_data = []\n",
    "seen_coords = set()\n",
    "\n",
    "for item in result:\n",
    "    coord_tuple = (item['lat'], item['lon'])\n",
    "    if coord_tuple not in seen_coords:\n",
    "        unique_data.append(item)\n",
    "        seen_coords.add(coord_tuple)\n",
    "\n",
    "print(unique_data)\n"
   ]
  },
  {
   "cell_type": "code",
   "execution_count": 9,
   "metadata": {},
   "outputs": [],
   "source": [
    "import pandas as pd"
   ]
  },
  {
   "cell_type": "code",
   "execution_count": 10,
   "metadata": {},
   "outputs": [
    {
     "data": {
      "application/vnd.microsoft.datawrangler.viewer.v0+json": {
       "columns": [
        {
         "name": "index",
         "rawType": "int64",
         "type": "integer"
        },
        {
         "name": "name",
         "rawType": "object",
         "type": "string"
        },
        {
         "name": "lat",
         "rawType": "object",
         "type": "unknown"
        },
        {
         "name": "lon",
         "rawType": "object",
         "type": "unknown"
        }
       ],
       "ref": "8b53e0ad-3b36-4446-b39f-d07e61246fca",
       "rows": [
        [
         "0",
         "អនុវិទ្យាល័យ​ចតុមុខ",
         "11.562718",
         "104.926858"
        ],
        [
         "1",
         "សាលា​​​អ៊ី​អិល​ធី",
         null,
         null
        ],
        [
         "2",
         "វិទ្យាល័យវត្តកោះ",
         "11.5650687",
         "104.9206865"
        ],
        [
         "3",
         "វិទ្យាល័យ​ជ្រោយ​ចង្វារ (ជា ស៊ីម)",
         "11.5864515",
         "104.9285923"
        ],
        [
         "4",
         "សាលា​រៀន​អេ​យូ​ភី​ភី",
         "11.5770471",
         "104.9180878"
        ],
        [
         "5",
         "វិទ្យាល័យ ហ៊ុន សែន ប៊ុន រ៉ានី វត្តភ្នំ",
         "11.5849992",
         "104.9181062"
        ],
        [
         "6",
         "វិទ្យាល័យ​ព្រះ​ស៊ីសុវត្ថិ",
         "11.5640126",
         "104.9252101"
        ],
        [
         "7",
         "វិទ្យាល័យ ​ជាស៊ីម សន្ធរម៉ុក",
         "11.5662572",
         "104.8987544"
        ],
        [
         "8",
         "វិទ្យាល័យ​ព្រះយុគន្ធរ",
         "11.5551993",
         "104.919911"
        ],
        [
         "9",
         "សាលា​មធ្យមវិចិត្រ​សិល្បៈ",
         "11.5877385",
         "104.8764971"
        ],
        [
         "10",
         "សាលា​អន្តរជាតិ​ផារ៉ាហ្កន",
         "11.548769",
         "104.933654"
        ],
        [
         "11",
         "វិទ្យាល័យបាក់ទូក",
         "11.5646016",
         "104.9126194"
        ],
        [
         "12",
         "វិទ្យាល័យទួលទំពូង",
         "11.5421567",
         "104.9159011"
        ],
        [
         "13",
         "វិទ្យាល័យទឹកល្អក់",
         "11.5603564",
         "104.8979296"
        ],
        [
         "14",
         "វិទ្យាល័យបឹងត្របែក",
         "11.5347335",
         "104.9239472"
        ],
        [
         "15",
         "សាលា សុធារស",
         "11.5520176",
         "104.9319074"
        ],
        [
         "16",
         "អនុវិទ្យាល័យ ចាក់អង្រែក្រោម",
         "11.512683",
         "104.9354832"
        ],
        [
         "17",
         "Kdey Takoy Primary and Secondary School",
         "11.5563738",
         "104.9282099"
        ],
        [
         "18",
         "អនុវិទ្យាល័យ ​អរិយក្សត្រ",
         "11.580554",
         "104.9585616"
        ],
        [
         "19",
         "វិទ្យាល័យព្រះស៊ីសុវត្ថិ អគារ H",
         "11.5634355",
         "104.9247836"
        ],
        [
         "20",
         "អនុវិទ្យាល៍យអូរបែកក្អម",
         "11.556224",
         "104.8897324"
        ],
        [
         "21",
         "School Office",
         "11.5647951",
         "104.9121283"
        ],
        [
         "22",
         "Harrods International Academy (C5)",
         "11.551781",
         "104.927381"
        ],
        [
         "23",
         "Seven76",
         "11.580483",
         "104.9186278"
        ],
        [
         "24",
         "សាលាអាមេរិកាំង ស្ទេនហ្វដ",
         "11.5649894",
         "104.8997674"
        ],
        [
         "25",
         "សាលារៀន អន្តរទ្វីប អាមេរិកាំង សាខាទួលគោក",
         "11.5817239",
         "104.9047967"
        ],
        [
         "26",
         "ពុទ្ធិក​វិទ្យាល័យព្រះសុរាម្រឹត",
         "11.5614961",
         "104.934169"
        ],
        [
         "27",
         "Ruessei Srok Primary and Secondary School",
         "11.4690051",
         "105.0300292"
        ],
        [
         "28",
         "Russey Keo High School",
         "11.6121376",
         "104.9138571"
        ],
        [
         "29",
         "វិទ្យាល័យ​ច្បារ​អំពៅ",
         "11.5298706",
         "104.9490822"
        ],
        [
         "30",
         "សាលា​អន្តរជាតិ Invictus ភ្នំពេញ",
         "11.5514921",
         "104.9287144"
        ],
        [
         "31",
         "វិទ្យាល័យជាស៊ីមសាមគ្គី",
         "11.5496961",
         "104.8916123"
        ],
        [
         "32",
         "វិវិវិត",
         "11.5646324",
         "104.929463"
        ],
        [
         "33",
         "សាលាអន្តរជាតិញូវយ៉ក",
         "11.6157623",
         "104.9147688"
        ],
        [
         "34",
         "Building A",
         "11.5651025",
         "104.9125527"
        ],
        [
         "35",
         "វិទ្យាល័យឥន្ទ្រទេវី",
         "11.5776353",
         "104.8914698"
        ],
        [
         "36",
         "សាលា មត្តេយ្យ បឋម និងមធ្យមសិក្សា មីគីវ៉េ",
         "11.5940027",
         "104.9001094"
        ],
        [
         "37",
         "Golden Bridge International School of Phnom Penh - Tuol Kork Campus",
         "11.5821165",
         "104.8942485"
        ],
        [
         "38",
         "វិទ្យាល័យ​ហ៊ុន សែនបុរី​១០០ខ្នង",
         "11.5632755",
         "104.8679224"
        ],
        [
         "39",
         "សាលា​អង់គ្លេស​អន្តរជាតិ រាជធានី​ភ្នំពេញ",
         "11.5130619",
         "104.9829059"
        ],
        [
         "40",
         "Toul Prasat Sen Sok High School",
         "11.5981087",
         "104.8697436"
        ],
        [
         "41",
         "សាលាបឋមសិក្សា និងអនុវិទ្យាល័យ ចំរើនជាតិ​",
         "11.6340725",
         "104.8939002"
        ],
        [
         "42",
         "តារាងបាល់ទាត់វិទ្យាល័យព្រះស៊ីសុវត្ថិ(SisowatFootballPitc)",
         "11.5660435",
         "104.9235543"
        ],
        [
         "43",
         "សាលា​អន្តរជាតិ Shrewsbury ភ្នំពេញ",
         "11.5934187",
         "104.9364568"
        ],
        [
         "44",
         "Math today School",
         "11.565523",
         "104.9130806"
        ],
        [
         "45",
         "អនុវិទ្យាល័យ ហ៊ុនសែនពោធិ៍ចិនតុង",
         "11.5630017",
         "104.8590284"
        ],
        [
         "46",
         "សាលារៀន អារីហ្សូន – ARIZON SCHOOL Orussey Campus",
         "11.5614788",
         "104.9147928"
        ],
        [
         "47",
         "The Camboland International School",
         "11.5095388",
         "104.9435815"
        ],
        [
         "48",
         "វិទ្យាល័យ​អន្តរជាតិ CIA FIRST",
         "11.5468016",
         "104.8657474"
        ],
        [
         "49",
         "Teok Laork High School Back Door",
         "11.5602152",
         "104.8971452"
        ]
       ],
       "shape": {
        "columns": 3,
        "rows": 115
       }
      },
      "text/html": [
       "<div>\n",
       "<style scoped>\n",
       "    .dataframe tbody tr th:only-of-type {\n",
       "        vertical-align: middle;\n",
       "    }\n",
       "\n",
       "    .dataframe tbody tr th {\n",
       "        vertical-align: top;\n",
       "    }\n",
       "\n",
       "    .dataframe thead th {\n",
       "        text-align: right;\n",
       "    }\n",
       "</style>\n",
       "<table border=\"1\" class=\"dataframe\">\n",
       "  <thead>\n",
       "    <tr style=\"text-align: right;\">\n",
       "      <th></th>\n",
       "      <th>name</th>\n",
       "      <th>lat</th>\n",
       "      <th>lon</th>\n",
       "    </tr>\n",
       "  </thead>\n",
       "  <tbody>\n",
       "    <tr>\n",
       "      <th>0</th>\n",
       "      <td>អនុវិទ្យាល័យ​ចតុមុខ</td>\n",
       "      <td>11.562718</td>\n",
       "      <td>104.926858</td>\n",
       "    </tr>\n",
       "    <tr>\n",
       "      <th>1</th>\n",
       "      <td>សាលា​​​អ៊ី​អិល​ធី</td>\n",
       "      <td>None</td>\n",
       "      <td>None</td>\n",
       "    </tr>\n",
       "    <tr>\n",
       "      <th>2</th>\n",
       "      <td>វិទ្យាល័យវត្តកោះ</td>\n",
       "      <td>11.5650687</td>\n",
       "      <td>104.9206865</td>\n",
       "    </tr>\n",
       "    <tr>\n",
       "      <th>3</th>\n",
       "      <td>វិទ្យាល័យ​ជ្រោយ​ចង្វារ (ជា ស៊ីម)</td>\n",
       "      <td>11.5864515</td>\n",
       "      <td>104.9285923</td>\n",
       "    </tr>\n",
       "    <tr>\n",
       "      <th>4</th>\n",
       "      <td>សាលា​រៀន​អេ​យូ​ភី​ភី</td>\n",
       "      <td>11.5770471</td>\n",
       "      <td>104.9180878</td>\n",
       "    </tr>\n",
       "    <tr>\n",
       "      <th>...</th>\n",
       "      <td>...</td>\n",
       "      <td>...</td>\n",
       "      <td>...</td>\n",
       "    </tr>\n",
       "    <tr>\n",
       "      <th>110</th>\n",
       "      <td>អនុវិទ្យាល័យ​ទួល​សាលា</td>\n",
       "      <td>11.4198229</td>\n",
       "      <td>104.7953062</td>\n",
       "    </tr>\n",
       "    <tr>\n",
       "      <th>111</th>\n",
       "      <td>ភាស់</td>\n",
       "      <td>11.5573585</td>\n",
       "      <td>104.904575</td>\n",
       "    </tr>\n",
       "    <tr>\n",
       "      <th>112</th>\n",
       "      <td>វិទ្យាល័យ កំបូល</td>\n",
       "      <td>11.5271236</td>\n",
       "      <td>104.7830919</td>\n",
       "    </tr>\n",
       "    <tr>\n",
       "      <th>113</th>\n",
       "      <td>សាលាអន្តរជាតិឡូហ្គោស</td>\n",
       "      <td>11.5846513</td>\n",
       "      <td>104.8717684</td>\n",
       "    </tr>\n",
       "    <tr>\n",
       "      <th>114</th>\n",
       "      <td>វិទ្យាល័យ ហ៊ុន សែន ជម្ពូវ័ន</td>\n",
       "      <td>11.5317526</td>\n",
       "      <td>104.8207866</td>\n",
       "    </tr>\n",
       "  </tbody>\n",
       "</table>\n",
       "<p>115 rows × 3 columns</p>\n",
       "</div>"
      ],
      "text/plain": [
       "                                 name         lat          lon\n",
       "0                 អនុវិទ្យាល័យ​ចតុមុខ   11.562718   104.926858\n",
       "1                   សាលា​​​អ៊ី​អិល​ធី        None         None\n",
       "2                    វិទ្យាល័យវត្តកោះ  11.5650687  104.9206865\n",
       "3    វិទ្យាល័យ​ជ្រោយ​ចង្វារ (ជា ស៊ីម)  11.5864515  104.9285923\n",
       "4                សាលា​រៀន​អេ​យូ​ភី​ភី  11.5770471  104.9180878\n",
       "..                                ...         ...          ...\n",
       "110             អនុវិទ្យាល័យ​ទួល​សាលា  11.4198229  104.7953062\n",
       "111                              ភាស់  11.5573585   104.904575\n",
       "112                   វិទ្យាល័យ កំបូល  11.5271236  104.7830919\n",
       "113              សាលាអន្តរជាតិឡូហ្គោស  11.5846513  104.8717684\n",
       "114       វិទ្យាល័យ ហ៊ុន សែន ជម្ពូវ័ន  11.5317526  104.8207866\n",
       "\n",
       "[115 rows x 3 columns]"
      ]
     },
     "execution_count": 10,
     "metadata": {},
     "output_type": "execute_result"
    }
   ],
   "source": [
    "df = pd.DataFrame(unique_data)\n",
    "df"
   ]
  },
  {
   "cell_type": "code",
   "execution_count": 11,
   "metadata": {},
   "outputs": [],
   "source": [
    "\n",
    "# Remove rows with missing lat/lon\n",
    "df = df[df['lat'].notnull() & df['lon'].notnull()]\n",
    "\n",
    "# Remove duplicates based on lat/lon\n",
    "df = df.drop_duplicates(subset=['lat', 'lon'])\n",
    "\n",
    "# Convert lat/lon to float\n",
    "df['lat'] = df['lat'].astype(float)\n",
    "df['lon'] = df['lon'].astype(float)\n",
    "\n",
    "# Reset index\n",
    "df = df.reset_index(drop=True)\n"
   ]
  },
  {
   "cell_type": "code",
   "execution_count": 13,
   "metadata": {},
   "outputs": [
    {
     "data": {
      "application/vnd.microsoft.datawrangler.viewer.v0+json": {
       "columns": [
        {
         "name": "index",
         "rawType": "int64",
         "type": "integer"
        },
        {
         "name": "name",
         "rawType": "object",
         "type": "string"
        },
        {
         "name": "lat",
         "rawType": "float64",
         "type": "float"
        },
        {
         "name": "lon",
         "rawType": "float64",
         "type": "float"
        }
       ],
       "ref": "5deb3c57-cc18-4501-94f5-c8d090e9e014",
       "rows": [
        [
         "0",
         "អនុវិទ្យាល័យ​ចតុមុខ",
         "11.562718",
         "104.926858"
        ],
        [
         "1",
         "វិទ្យាល័យវត្តកោះ",
         "11.5650687",
         "104.9206865"
        ],
        [
         "2",
         "វិទ្យាល័យ​ជ្រោយ​ចង្វារ (ជា ស៊ីម)",
         "11.5864515",
         "104.9285923"
        ],
        [
         "3",
         "សាលា​រៀន​អេ​យូ​ភី​ភី",
         "11.5770471",
         "104.9180878"
        ],
        [
         "4",
         "វិទ្យាល័យ ហ៊ុន សែន ប៊ុន រ៉ានី វត្តភ្នំ",
         "11.5849992",
         "104.9181062"
        ],
        [
         "5",
         "វិទ្យាល័យ​ព្រះ​ស៊ីសុវត្ថិ",
         "11.5640126",
         "104.9252101"
        ],
        [
         "6",
         "វិទ្យាល័យ ​ជាស៊ីម សន្ធរម៉ុក",
         "11.5662572",
         "104.8987544"
        ],
        [
         "7",
         "វិទ្យាល័យ​ព្រះយុគន្ធរ",
         "11.5551993",
         "104.919911"
        ],
        [
         "8",
         "សាលា​មធ្យមវិចិត្រ​សិល្បៈ",
         "11.5877385",
         "104.8764971"
        ],
        [
         "9",
         "សាលា​អន្តរជាតិ​ផារ៉ាហ្កន",
         "11.548769",
         "104.933654"
        ],
        [
         "10",
         "វិទ្យាល័យបាក់ទូក",
         "11.5646016",
         "104.9126194"
        ],
        [
         "11",
         "វិទ្យាល័យទួលទំពូង",
         "11.5421567",
         "104.9159011"
        ],
        [
         "12",
         "វិទ្យាល័យទឹកល្អក់",
         "11.5603564",
         "104.8979296"
        ],
        [
         "13",
         "វិទ្យាល័យបឹងត្របែក",
         "11.5347335",
         "104.9239472"
        ],
        [
         "14",
         "សាលា សុធារស",
         "11.5520176",
         "104.9319074"
        ],
        [
         "15",
         "អនុវិទ្យាល័យ ចាក់អង្រែក្រោម",
         "11.512683",
         "104.9354832"
        ],
        [
         "16",
         "Kdey Takoy Primary and Secondary School",
         "11.5563738",
         "104.9282099"
        ],
        [
         "17",
         "អនុវិទ្យាល័យ ​អរិយក្សត្រ",
         "11.580554",
         "104.9585616"
        ],
        [
         "18",
         "វិទ្យាល័យព្រះស៊ីសុវត្ថិ អគារ H",
         "11.5634355",
         "104.9247836"
        ],
        [
         "19",
         "អនុវិទ្យាល៍យអូរបែកក្អម",
         "11.556224",
         "104.8897324"
        ],
        [
         "20",
         "School Office",
         "11.5647951",
         "104.9121283"
        ],
        [
         "21",
         "Harrods International Academy (C5)",
         "11.551781",
         "104.927381"
        ],
        [
         "22",
         "Seven76",
         "11.580483",
         "104.9186278"
        ],
        [
         "23",
         "សាលាអាមេរិកាំង ស្ទេនហ្វដ",
         "11.5649894",
         "104.8997674"
        ],
        [
         "24",
         "សាលារៀន អន្តរទ្វីប អាមេរិកាំង សាខាទួលគោក",
         "11.5817239",
         "104.9047967"
        ],
        [
         "25",
         "ពុទ្ធិក​វិទ្យាល័យព្រះសុរាម្រឹត",
         "11.5614961",
         "104.934169"
        ],
        [
         "26",
         "Ruessei Srok Primary and Secondary School",
         "11.4690051",
         "105.0300292"
        ],
        [
         "27",
         "Russey Keo High School",
         "11.6121376",
         "104.9138571"
        ],
        [
         "28",
         "វិទ្យាល័យ​ច្បារ​អំពៅ",
         "11.5298706",
         "104.9490822"
        ],
        [
         "29",
         "សាលា​អន្តរជាតិ Invictus ភ្នំពេញ",
         "11.5514921",
         "104.9287144"
        ],
        [
         "30",
         "វិទ្យាល័យជាស៊ីមសាមគ្គី",
         "11.5496961",
         "104.8916123"
        ],
        [
         "31",
         "វិវិវិត",
         "11.5646324",
         "104.929463"
        ],
        [
         "32",
         "សាលាអន្តរជាតិញូវយ៉ក",
         "11.6157623",
         "104.9147688"
        ],
        [
         "33",
         "Building A",
         "11.5651025",
         "104.9125527"
        ],
        [
         "34",
         "វិទ្យាល័យឥន្ទ្រទេវី",
         "11.5776353",
         "104.8914698"
        ],
        [
         "35",
         "សាលា មត្តេយ្យ បឋម និងមធ្យមសិក្សា មីគីវ៉េ",
         "11.5940027",
         "104.9001094"
        ],
        [
         "36",
         "Golden Bridge International School of Phnom Penh - Tuol Kork Campus",
         "11.5821165",
         "104.8942485"
        ],
        [
         "37",
         "វិទ្យាល័យ​ហ៊ុន សែនបុរី​១០០ខ្នង",
         "11.5632755",
         "104.8679224"
        ],
        [
         "38",
         "សាលា​អង់គ្លេស​អន្តរជាតិ រាជធានី​ភ្នំពេញ",
         "11.5130619",
         "104.9829059"
        ],
        [
         "39",
         "Toul Prasat Sen Sok High School",
         "11.5981087",
         "104.8697436"
        ],
        [
         "40",
         "សាលាបឋមសិក្សា និងអនុវិទ្យាល័យ ចំរើនជាតិ​",
         "11.6340725",
         "104.8939002"
        ],
        [
         "41",
         "តារាងបាល់ទាត់វិទ្យាល័យព្រះស៊ីសុវត្ថិ(SisowatFootballPitc)",
         "11.5660435",
         "104.9235543"
        ],
        [
         "42",
         "សាលា​អន្តរជាតិ Shrewsbury ភ្នំពេញ",
         "11.5934187",
         "104.9364568"
        ],
        [
         "43",
         "Math today School",
         "11.565523",
         "104.9130806"
        ],
        [
         "44",
         "អនុវិទ្យាល័យ ហ៊ុនសែនពោធិ៍ចិនតុង",
         "11.5630017",
         "104.8590284"
        ],
        [
         "45",
         "សាលារៀន អារីហ្សូន – ARIZON SCHOOL Orussey Campus",
         "11.5614788",
         "104.9147928"
        ],
        [
         "46",
         "The Camboland International School",
         "11.5095388",
         "104.9435815"
        ],
        [
         "47",
         "វិទ្យាល័យ​អន្តរជាតិ CIA FIRST",
         "11.5468016",
         "104.8657474"
        ],
        [
         "48",
         "Teok Laork High School Back Door",
         "11.5602152",
         "104.8971452"
        ],
        [
         "49",
         "Western International School - Stadium (Main Campus)",
         "11.5812811",
         "104.8845226"
        ]
       ],
       "shape": {
        "columns": 3,
        "rows": 114
       }
      },
      "text/html": [
       "<div>\n",
       "<style scoped>\n",
       "    .dataframe tbody tr th:only-of-type {\n",
       "        vertical-align: middle;\n",
       "    }\n",
       "\n",
       "    .dataframe tbody tr th {\n",
       "        vertical-align: top;\n",
       "    }\n",
       "\n",
       "    .dataframe thead th {\n",
       "        text-align: right;\n",
       "    }\n",
       "</style>\n",
       "<table border=\"1\" class=\"dataframe\">\n",
       "  <thead>\n",
       "    <tr style=\"text-align: right;\">\n",
       "      <th></th>\n",
       "      <th>name</th>\n",
       "      <th>lat</th>\n",
       "      <th>lon</th>\n",
       "    </tr>\n",
       "  </thead>\n",
       "  <tbody>\n",
       "    <tr>\n",
       "      <th>0</th>\n",
       "      <td>អនុវិទ្យាល័យ​ចតុមុខ</td>\n",
       "      <td>11.562718</td>\n",
       "      <td>104.926858</td>\n",
       "    </tr>\n",
       "    <tr>\n",
       "      <th>1</th>\n",
       "      <td>វិទ្យាល័យវត្តកោះ</td>\n",
       "      <td>11.565069</td>\n",
       "      <td>104.920687</td>\n",
       "    </tr>\n",
       "    <tr>\n",
       "      <th>2</th>\n",
       "      <td>វិទ្យាល័យ​ជ្រោយ​ចង្វារ (ជា ស៊ីម)</td>\n",
       "      <td>11.586452</td>\n",
       "      <td>104.928592</td>\n",
       "    </tr>\n",
       "    <tr>\n",
       "      <th>3</th>\n",
       "      <td>សាលា​រៀន​អេ​យូ​ភី​ភី</td>\n",
       "      <td>11.577047</td>\n",
       "      <td>104.918088</td>\n",
       "    </tr>\n",
       "    <tr>\n",
       "      <th>4</th>\n",
       "      <td>វិទ្យាល័យ ហ៊ុន សែន ប៊ុន រ៉ានី វត្តភ្នំ</td>\n",
       "      <td>11.584999</td>\n",
       "      <td>104.918106</td>\n",
       "    </tr>\n",
       "    <tr>\n",
       "      <th>...</th>\n",
       "      <td>...</td>\n",
       "      <td>...</td>\n",
       "      <td>...</td>\n",
       "    </tr>\n",
       "    <tr>\n",
       "      <th>109</th>\n",
       "      <td>អនុវិទ្យាល័យ​ទួល​សាលា</td>\n",
       "      <td>11.419823</td>\n",
       "      <td>104.795306</td>\n",
       "    </tr>\n",
       "    <tr>\n",
       "      <th>110</th>\n",
       "      <td>ភាស់</td>\n",
       "      <td>11.557358</td>\n",
       "      <td>104.904575</td>\n",
       "    </tr>\n",
       "    <tr>\n",
       "      <th>111</th>\n",
       "      <td>វិទ្យាល័យ កំបូល</td>\n",
       "      <td>11.527124</td>\n",
       "      <td>104.783092</td>\n",
       "    </tr>\n",
       "    <tr>\n",
       "      <th>112</th>\n",
       "      <td>សាលាអន្តរជាតិឡូហ្គោស</td>\n",
       "      <td>11.584651</td>\n",
       "      <td>104.871768</td>\n",
       "    </tr>\n",
       "    <tr>\n",
       "      <th>113</th>\n",
       "      <td>វិទ្យាល័យ ហ៊ុន សែន ជម្ពូវ័ន</td>\n",
       "      <td>11.531753</td>\n",
       "      <td>104.820787</td>\n",
       "    </tr>\n",
       "  </tbody>\n",
       "</table>\n",
       "<p>114 rows × 3 columns</p>\n",
       "</div>"
      ],
      "text/plain": [
       "                                       name        lat         lon\n",
       "0                       អនុវិទ្យាល័យ​ចតុមុខ  11.562718  104.926858\n",
       "1                          វិទ្យាល័យវត្តកោះ  11.565069  104.920687\n",
       "2          វិទ្យាល័យ​ជ្រោយ​ចង្វារ (ជា ស៊ីម)  11.586452  104.928592\n",
       "3                      សាលា​រៀន​អេ​យូ​ភី​ភី  11.577047  104.918088\n",
       "4    វិទ្យាល័យ ហ៊ុន សែន ប៊ុន រ៉ានី វត្តភ្នំ  11.584999  104.918106\n",
       "..                                      ...        ...         ...\n",
       "109                   អនុវិទ្យាល័យ​ទួល​សាលា  11.419823  104.795306\n",
       "110                                    ភាស់  11.557358  104.904575\n",
       "111                         វិទ្យាល័យ កំបូល  11.527124  104.783092\n",
       "112                    សាលាអន្តរជាតិឡូហ្គោស  11.584651  104.871768\n",
       "113             វិទ្យាល័យ ហ៊ុន សែន ជម្ពូវ័ន  11.531753  104.820787\n",
       "\n",
       "[114 rows x 3 columns]"
      ]
     },
     "execution_count": 13,
     "metadata": {},
     "output_type": "execute_result"
    }
   ],
   "source": [
    "df"
   ]
  },
  {
   "cell_type": "code",
   "execution_count": 14,
   "metadata": {},
   "outputs": [],
   "source": [
    "df.to_csv('../../../data/raw/secondary_school_lat_lon.csv', index=False)"
   ]
  }
 ],
 "metadata": {
  "kernelspec": {
   "display_name": "env_v3.10",
   "language": "python",
   "name": "python3"
  },
  "language_info": {
   "codemirror_mode": {
    "name": "ipython",
    "version": 3
   },
   "file_extension": ".py",
   "mimetype": "text/x-python",
   "name": "python",
   "nbconvert_exporter": "python",
   "pygments_lexer": "ipython3",
   "version": "3.10.16"
  }
 },
 "nbformat": 4,
 "nbformat_minor": 2
}
