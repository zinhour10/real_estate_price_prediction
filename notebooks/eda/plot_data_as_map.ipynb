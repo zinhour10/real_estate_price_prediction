{
 "cells": [
  {
   "cell_type": "code",
   "execution_count": 38,
   "id": "f3d9bc63",
   "metadata": {},
   "outputs": [],
   "source": [
    "import pandas as pd\n",
    "import geopandas as gpd\n",
    "import matplotlib.pyplot as plt\n",
    "from matplotlib.colors import LinearSegmentedColormap\n",
    "import folium\n",
    "from shapely.wkt import loads\n",
    "import numpy as np"
   ]
  },
  {
   "cell_type": "code",
   "execution_count": 48,
   "id": "d4691811",
   "metadata": {},
   "outputs": [],
   "source": [
    "df = pd.read_csv('../../data/raw/mockup/test.csv')"
   ]
  },
  {
   "cell_type": "code",
   "execution_count": 49,
   "id": "23b1e9bb",
   "metadata": {},
   "outputs": [
    {
     "data": {
      "text/plain": [
       "(7571, 9)"
      ]
     },
     "execution_count": 49,
     "metadata": {},
     "output_type": "execute_result"
    }
   ],
   "source": [
    "df.shape"
   ]
  },
  {
   "cell_type": "code",
   "execution_count": 40,
   "id": "bec2e8f5",
   "metadata": {},
   "outputs": [],
   "source": [
    "df.dropna(inplace=True)"
   ]
  },
  {
   "cell_type": "code",
   "execution_count": 41,
   "id": "adca9b3f",
   "metadata": {},
   "outputs": [
    {
     "data": {
      "application/vnd.microsoft.datawrangler.viewer.v0+json": {
       "columns": [
        {
         "name": "index",
         "rawType": "int64",
         "type": "integer"
        },
        {
         "name": "Unnamed: 0",
         "rawType": "int64",
         "type": "integer"
        },
        {
         "name": "address_subdivision",
         "rawType": "object",
         "type": "string"
        },
        {
         "name": "address_locality",
         "rawType": "object",
         "type": "string"
        },
        {
         "name": "address_line_2",
         "rawType": "object",
         "type": "string"
        },
        {
         "name": "h_id",
         "rawType": "object",
         "type": "string"
        },
        {
         "name": "price_per_m2",
         "rawType": "int64",
         "type": "integer"
        },
        {
         "name": "land_area",
         "rawType": "int64",
         "type": "integer"
        },
        {
         "name": "price",
         "rawType": "int64",
         "type": "integer"
        },
        {
         "name": "longitude",
         "rawType": "float64",
         "type": "float"
        },
        {
         "name": "latitude",
         "rawType": "float64",
         "type": "float"
        }
       ],
       "ref": "18f5152b-7e38-4e6a-97a6-5348f679b9bc",
       "rows": [
        [
         "0",
         "0",
         "Phnom Penh",
         "Tuol Kouk",
         "Phsar Depou Ti Muoy",
         "8865846aa3fffff",
         "1",
         "188",
         "188",
         "104.90347329602275",
         "11.580320514203706"
        ],
        [
         "1",
         "1",
         "Phnom Penh",
         "Chraoy Chongvar",
         "Bak Kaeng",
         "886586a6b5fffff",
         "1",
         "164",
         "164",
         "104.9410498214956",
         "11.73700867578606"
        ],
        [
         "2",
         "2",
         "Phnom Penh",
         "Chraoy Chongvar",
         "Chrouy Changvar",
         "886584680bfffff",
         "1",
         "126",
         "126",
         "104.93829884053812",
         "11.599740249017843"
        ],
        [
         "3",
         "3",
         "Phnom Penh",
         "Chraoy Chongvar",
         "Preaek Lieb",
         "8865846831fffff",
         "1",
         "204",
         "204",
         "104.92905896493714",
         "11.619525086846265"
        ],
        [
         "4",
         "4",
         "Phnom Penh",
         "Prampir Meakkakra",
         "Veal Vong",
         "8865846a85fffff",
         "1",
         "172",
         "172",
         "104.9089039423688",
         "11.56171067963246"
        ],
        [
         "5",
         "5",
         "Phnom Penh",
         "Dangkao",
         "Sak Sampov",
         "88658460c7fffff",
         "1",
         "126",
         "126",
         "104.8388571652155",
         "11.440578997161715"
        ],
        [
         "6",
         "6",
         "Phnom Penh",
         "Pur SenChey",
         "Samraong Kraom",
         "8865846c69fffff",
         "1",
         "136",
         "136",
         "104.80351199470653",
         "11.567502527194083"
        ],
        [
         "7",
         "7",
         "Phnom Penh",
         "Russey Keo",
         "Ruessei Kaev",
         "88658468c7fffff",
         "1",
         "82",
         "82",
         "104.8888091616684",
         "11.600754354865256"
        ],
        [
         "8",
         "8",
         "Phnom Penh",
         "Pur SenChey",
         "Kamboul",
         "8865846ee5fffff",
         "1",
         "234",
         "234",
         "104.76769902968137",
         "11.528794680859727"
        ],
        [
         "9",
         "9",
         "Phnom Penh",
         "Russey Keo",
         "Kilomaetr Lekh Prammuoy",
         "88658468e1fffff",
         "1",
         "236",
         "236",
         "104.90255632078554",
         "11.619050069611433"
        ],
        [
         "10",
         "10",
         "Phnom Penh",
         "Chraoy Chongvar",
         "Bak Kaeng",
         "886580d369fffff",
         "1",
         "108",
         "108",
         "104.91954963855557",
         "11.714269685916754"
        ],
        [
         "11",
         "11",
         "Phnom Penh",
         "Doun Penh",
         "Chakto Mukh",
         "8865846aebfffff",
         "1",
         "178",
         "178",
         "104.92440685144182",
         "11.55079498990666"
        ],
        [
         "12",
         "12",
         "Phnom Penh",
         "Praek Pnov",
         "Ponsang",
         "8865846dcbfffff",
         "1",
         "222",
         "222",
         "104.76073042111832",
         "11.602423561753522"
        ],
        [
         "13",
         "13",
         "Phnom Penh",
         "Dangkao",
         "Prey Sa",
         "8865846191fffff",
         "1",
         "192",
         "192",
         "104.84231867017924",
         "11.500009840606165"
        ],
        [
         "14",
         "14",
         "Phnom Penh",
         "Pur SenChey",
         "Kamboul",
         "8865846c53fffff",
         "1",
         "84",
         "84",
         "104.76068183799104",
         "11.549465763197851"
        ],
        [
         "15",
         "15",
         "Phnom Penh",
         "Russey Keo",
         "Chrang Chamreh Ti Pir",
         "88658468adfffff",
         "1",
         "180",
         "180",
         "104.89116432006202",
         "11.63354674948742"
        ],
        [
         "16",
         "16",
         "Phnom Penh",
         "Chbar Ampov",
         "Preaek Thmei",
         "88658478cdfffff",
         "1",
         "230",
         "230",
         "105.02289439396326",
         "11.468874408521136"
        ],
        [
         "17",
         "17",
         "Phnom Penh",
         "Mean Chey",
         "Stueng Mean Chey",
         "8865846f49fffff",
         "1",
         "246",
         "246",
         "104.86242690399388",
         "11.534569192990237"
        ],
        [
         "18",
         "18",
         "Phnom Penh",
         "Dangkao",
         "Prey Sa",
         "88658461d5fffff",
         "1",
         "114",
         "114",
         "104.86167457552487",
         "11.486564963044955"
        ],
        [
         "19",
         "19",
         "Phnom Penh",
         "Pur SenChey",
         "Kakab",
         "8865846f09fffff",
         "1",
         "142",
         "142",
         "104.8463887860882",
         "11.555707542728882"
        ],
        [
         "20",
         "20",
         "Phnom Penh",
         "Praek Pnov",
         "Ponhea Pon",
         "886580d253fffff",
         "1",
         "216",
         "216",
         "104.83265599903316",
         "11.64880709172475"
        ],
        [
         "21",
         "21",
         "Phnom Penh",
         "Chbar Ampov",
         "Preaek Aeng",
         "88658478b5fffff",
         "1",
         "94",
         "94",
         "104.9837749349826",
         "11.510867683953991"
        ],
        [
         "22",
         "22",
         "Phnom Penh",
         "Praek Pnov",
         "Preaek Phnov",
         "886580d209fffff",
         "1",
         "240",
         "240",
         "104.85935562706578",
         "11.66106097429202"
        ],
        [
         "23",
         "23",
         "Phnom Penh",
         "Praek Pnov",
         "Kouk Roka",
         "8865846d57fffff",
         "1",
         "114",
         "114",
         "104.80327363156358",
         "11.60097279145769"
        ],
        [
         "24",
         "24",
         "Phnom Penh",
         "Tuol Kouk",
         "Boeng Kak Ti Pir",
         "8865846ab5fffff",
         "1",
         "122",
         "122",
         "104.89663594107328",
         "11.576848346437934"
        ],
        [
         "25",
         "25",
         "Phnom Penh",
         "Praek Pnov",
         "Ponsang",
         "8865846dd7fffff",
         "1",
         "204",
         "204",
         "104.7435811828264",
         "11.609688340861716"
        ],
        [
         "26",
         "26",
         "Phnom Penh",
         "Saensokh",
         "Khmuonh",
         "88658468b1fffff",
         "1",
         "232",
         "232",
         "104.86366490399128",
         "11.631472203622998"
        ],
        [
         "27",
         "27",
         "Phnom Penh",
         "Mean Chey",
         "Stueng Mean Chey",
         "8865846f4dfffff",
         "1",
         "226",
         "226",
         "104.8658971524854",
         "11.538728740582831"
        ],
        [
         "28",
         "28",
         "Phnom Penh",
         "Tuol Kouk",
         "Phsar Depou Ti Pir",
         "8865846a87fffff",
         "1",
         "178",
         "178",
         "104.8972980024815",
         "11.56355301838985"
        ],
        [
         "29",
         "29",
         "Phnom Penh",
         "Dangkao",
         "Pong Tuek",
         "8865846193fffff",
         "1",
         "140",
         "140",
         "104.83132394874552",
         "11.495964762021089"
        ],
        [
         "30",
         "30",
         "Phnom Penh",
         "Pur SenChey",
         "Phleung Chheh Roteh",
         "8865846e57fffff",
         "1",
         "226",
         "226",
         "104.7928013093884",
         "11.493873597769891"
        ],
        [
         "31",
         "31",
         "Phnom Penh",
         "Russey Keo",
         "Svay Pak",
         "88658468a5fffff",
         "1",
         "36",
         "36",
         "104.8890876493969",
         "11.6408535568937"
        ],
        [
         "32",
         "32",
         "Phnom Penh",
         "Dangkao",
         "Prey Sa",
         "88658461ddfffff",
         "1",
         "116",
         "116",
         "104.87070804321284",
         "11.478810057415838"
        ],
        [
         "33",
         "33",
         "Phnom Penh",
         "Praek Pnov",
         "Samraong",
         "886580d041fffff",
         "1",
         "32",
         "32",
         "104.83975928603412",
         "11.70862455082181"
        ],
        [
         "34",
         "34",
         "Phnom Penh",
         "Chbar Ampov",
         "Preaek Aeng",
         "88658478b9fffff",
         "1",
         "92",
         "92",
         "104.9836278856074",
         "11.502365440977597"
        ],
        [
         "35",
         "35",
         "Phnom Penh",
         "Saensokh",
         "Khmuonh",
         "8865846d67fffff",
         "1",
         "206",
         "206",
         "104.83842199182614",
         "11.6351330168946"
        ],
        [
         "36",
         "36",
         "Phnom Penh",
         "Saensokh",
         "Phnom Penh Thmei",
         "8865846f23fffff",
         "1",
         "220",
         "220",
         "104.83570829361445",
         "11.586245874079992"
        ],
        [
         "37",
         "37",
         "Phnom Penh",
         "Chraoy Chongvar",
         "Preaek Ta Sek",
         "886580d26dfffff",
         "1",
         "154",
         "154",
         "104.884410124224",
         "11.67622217182612"
        ],
        [
         "38",
         "38",
         "Phnom Penh",
         "Mean Chey",
         "Chak Angrae Kraom",
         "8865846105fffff",
         "1",
         "200",
         "200",
         "104.93466667829269",
         "11.50189805590883"
        ],
        [
         "39",
         "39",
         "Phnom Penh",
         "Dangkao",
         "Pong Tuek",
         "88658460a3fffff",
         "1",
         "122",
         "122",
         "104.8301977966915",
         "11.478684511646724"
        ],
        [
         "40",
         "40",
         "Phnom Penh",
         "Dangkao",
         "Cheung Aek",
         "8865846025fffff",
         "1",
         "228",
         "228",
         "104.90280804741208",
         "11.473580852190768"
        ],
        [
         "41",
         "41",
         "Phnom Penh",
         "Chamkar Mon",
         "Boeng Keng Kang Ti Bei",
         "8865846ac7fffff",
         "1",
         "30",
         "30",
         "104.91802898395484",
         "11.544659935102398"
        ],
        [
         "42",
         "42",
         "Phnom Penh",
         "Saensokh",
         "Phnom Penh Thmei",
         "8865846f07fffff",
         "1",
         "122",
         "122",
         "104.84058481216525",
         "11.5691122475156"
        ],
        [
         "43",
         "43",
         "Phnom Penh",
         "Pur SenChey",
         "Chaom Chau",
         "8865846e63fffff",
         "1",
         "222",
         "222",
         "104.8143625070152",
         "11.518467190816008"
        ],
        [
         "44",
         "44",
         "Phnom Penh",
         "Dangkao",
         "Cheung Aek",
         "886584611bfffff",
         "1",
         "146",
         "146",
         "104.89801505909104",
         "11.484498437705982"
        ],
        [
         "45",
         "45",
         "Phnom Penh",
         "Chbar Ampov",
         "Preaek Thmei",
         "88658478e9fffff",
         "1",
         "212",
         "212",
         "105.01941961621556",
         "11.487005422849442"
        ],
        [
         "46",
         "46",
         "Phnom Penh",
         "Dangkao",
         "Pong Tuek",
         "8865846e4bfffff",
         "1",
         "246",
         "246",
         "104.81875151480916",
         "11.486010020911372"
        ],
        [
         "47",
         "47",
         "Phnom Penh",
         "Dangkao",
         "Pong Tuek",
         "88658460b7fffff",
         "1",
         "98",
         "98",
         "104.81026778363804",
         "11.478241242931624"
        ],
        [
         "48",
         "48",
         "Phnom Penh",
         "Chbar Ampov",
         "Preaek Thmei",
         "88658478d1fffff",
         "1",
         "98",
         "98",
         "104.98580291727043",
         "11.469301847444704"
        ],
        [
         "49",
         "49",
         "Phnom Penh",
         "Chbar Ampov",
         "Preaek Aeng",
         "886584799bfffff",
         "1",
         "76",
         "76",
         "104.99958532925736",
         "11.526711166205436"
        ]
       ],
       "shape": {
        "columns": 10,
        "rows": 8567
       }
      },
      "text/html": [
       "<div>\n",
       "<style scoped>\n",
       "    .dataframe tbody tr th:only-of-type {\n",
       "        vertical-align: middle;\n",
       "    }\n",
       "\n",
       "    .dataframe tbody tr th {\n",
       "        vertical-align: top;\n",
       "    }\n",
       "\n",
       "    .dataframe thead th {\n",
       "        text-align: right;\n",
       "    }\n",
       "</style>\n",
       "<table border=\"1\" class=\"dataframe\">\n",
       "  <thead>\n",
       "    <tr style=\"text-align: right;\">\n",
       "      <th></th>\n",
       "      <th>Unnamed: 0</th>\n",
       "      <th>address_subdivision</th>\n",
       "      <th>address_locality</th>\n",
       "      <th>address_line_2</th>\n",
       "      <th>h_id</th>\n",
       "      <th>price_per_m2</th>\n",
       "      <th>land_area</th>\n",
       "      <th>price</th>\n",
       "      <th>longitude</th>\n",
       "      <th>latitude</th>\n",
       "    </tr>\n",
       "  </thead>\n",
       "  <tbody>\n",
       "    <tr>\n",
       "      <th>0</th>\n",
       "      <td>0</td>\n",
       "      <td>Phnom Penh</td>\n",
       "      <td>Tuol Kouk</td>\n",
       "      <td>Phsar Depou Ti Muoy</td>\n",
       "      <td>8865846aa3fffff</td>\n",
       "      <td>1</td>\n",
       "      <td>188</td>\n",
       "      <td>188</td>\n",
       "      <td>104.903473</td>\n",
       "      <td>11.580321</td>\n",
       "    </tr>\n",
       "    <tr>\n",
       "      <th>1</th>\n",
       "      <td>1</td>\n",
       "      <td>Phnom Penh</td>\n",
       "      <td>Chraoy Chongvar</td>\n",
       "      <td>Bak Kaeng</td>\n",
       "      <td>886586a6b5fffff</td>\n",
       "      <td>1</td>\n",
       "      <td>164</td>\n",
       "      <td>164</td>\n",
       "      <td>104.941050</td>\n",
       "      <td>11.737009</td>\n",
       "    </tr>\n",
       "    <tr>\n",
       "      <th>2</th>\n",
       "      <td>2</td>\n",
       "      <td>Phnom Penh</td>\n",
       "      <td>Chraoy Chongvar</td>\n",
       "      <td>Chrouy Changvar</td>\n",
       "      <td>886584680bfffff</td>\n",
       "      <td>1</td>\n",
       "      <td>126</td>\n",
       "      <td>126</td>\n",
       "      <td>104.938299</td>\n",
       "      <td>11.599740</td>\n",
       "    </tr>\n",
       "    <tr>\n",
       "      <th>3</th>\n",
       "      <td>3</td>\n",
       "      <td>Phnom Penh</td>\n",
       "      <td>Chraoy Chongvar</td>\n",
       "      <td>Preaek Lieb</td>\n",
       "      <td>8865846831fffff</td>\n",
       "      <td>1</td>\n",
       "      <td>204</td>\n",
       "      <td>204</td>\n",
       "      <td>104.929059</td>\n",
       "      <td>11.619525</td>\n",
       "    </tr>\n",
       "    <tr>\n",
       "      <th>4</th>\n",
       "      <td>4</td>\n",
       "      <td>Phnom Penh</td>\n",
       "      <td>Prampir Meakkakra</td>\n",
       "      <td>Veal Vong</td>\n",
       "      <td>8865846a85fffff</td>\n",
       "      <td>1</td>\n",
       "      <td>172</td>\n",
       "      <td>172</td>\n",
       "      <td>104.908904</td>\n",
       "      <td>11.561711</td>\n",
       "    </tr>\n",
       "    <tr>\n",
       "      <th>...</th>\n",
       "      <td>...</td>\n",
       "      <td>...</td>\n",
       "      <td>...</td>\n",
       "      <td>...</td>\n",
       "      <td>...</td>\n",
       "      <td>...</td>\n",
       "      <td>...</td>\n",
       "      <td>...</td>\n",
       "      <td>...</td>\n",
       "      <td>...</td>\n",
       "    </tr>\n",
       "    <tr>\n",
       "      <th>8562</th>\n",
       "      <td>8562</td>\n",
       "      <td>Phnom Penh</td>\n",
       "      <td>Chraoy Chongvar</td>\n",
       "      <td>Bak Kaeng</td>\n",
       "      <td>886586a699fffff</td>\n",
       "      <td>1</td>\n",
       "      <td>182</td>\n",
       "      <td>182</td>\n",
       "      <td>104.929226</td>\n",
       "      <td>11.701893</td>\n",
       "    </tr>\n",
       "    <tr>\n",
       "      <th>8563</th>\n",
       "      <td>8563</td>\n",
       "      <td>Phnom Penh</td>\n",
       "      <td>Chraoy Chongvar</td>\n",
       "      <td>Preaek Ta Sek</td>\n",
       "      <td>8865846995fffff</td>\n",
       "      <td>1</td>\n",
       "      <td>212</td>\n",
       "      <td>212</td>\n",
       "      <td>104.899855</td>\n",
       "      <td>11.667508</td>\n",
       "    </tr>\n",
       "    <tr>\n",
       "      <th>8564</th>\n",
       "      <td>8564</td>\n",
       "      <td>Phnom Penh</td>\n",
       "      <td>Praek Pnov</td>\n",
       "      <td>Ponsang</td>\n",
       "      <td>8865846d85fffff</td>\n",
       "      <td>1</td>\n",
       "      <td>134</td>\n",
       "      <td>134</td>\n",
       "      <td>104.756877</td>\n",
       "      <td>11.633307</td>\n",
       "    </tr>\n",
       "    <tr>\n",
       "      <th>8565</th>\n",
       "      <td>8565</td>\n",
       "      <td>Phnom Penh</td>\n",
       "      <td>Pur SenChey</td>\n",
       "      <td>Kantaok</td>\n",
       "      <td>8865846e31fffff</td>\n",
       "      <td>1</td>\n",
       "      <td>230</td>\n",
       "      <td>230</td>\n",
       "      <td>104.785133</td>\n",
       "      <td>11.523526</td>\n",
       "    </tr>\n",
       "    <tr>\n",
       "      <th>8566</th>\n",
       "      <td>8566</td>\n",
       "      <td>Phnom Penh</td>\n",
       "      <td>Praek Pnov</td>\n",
       "      <td>Samraong</td>\n",
       "      <td>886580d00bfffff</td>\n",
       "      <td>1</td>\n",
       "      <td>150</td>\n",
       "      <td>150</td>\n",
       "      <td>104.818512</td>\n",
       "      <td>11.719658</td>\n",
       "    </tr>\n",
       "  </tbody>\n",
       "</table>\n",
       "<p>8567 rows × 10 columns</p>\n",
       "</div>"
      ],
      "text/plain": [
       "      Unnamed: 0 address_subdivision   address_locality       address_line_2  \\\n",
       "0              0          Phnom Penh          Tuol Kouk  Phsar Depou Ti Muoy   \n",
       "1              1          Phnom Penh    Chraoy Chongvar            Bak Kaeng   \n",
       "2              2          Phnom Penh    Chraoy Chongvar      Chrouy Changvar   \n",
       "3              3          Phnom Penh    Chraoy Chongvar          Preaek Lieb   \n",
       "4              4          Phnom Penh  Prampir Meakkakra            Veal Vong   \n",
       "...          ...                 ...                ...                  ...   \n",
       "8562        8562          Phnom Penh    Chraoy Chongvar            Bak Kaeng   \n",
       "8563        8563          Phnom Penh    Chraoy Chongvar        Preaek Ta Sek   \n",
       "8564        8564          Phnom Penh         Praek Pnov              Ponsang   \n",
       "8565        8565          Phnom Penh        Pur SenChey              Kantaok   \n",
       "8566        8566          Phnom Penh         Praek Pnov             Samraong   \n",
       "\n",
       "                 h_id  price_per_m2  land_area  price   longitude   latitude  \n",
       "0     8865846aa3fffff             1        188    188  104.903473  11.580321  \n",
       "1     886586a6b5fffff             1        164    164  104.941050  11.737009  \n",
       "2     886584680bfffff             1        126    126  104.938299  11.599740  \n",
       "3     8865846831fffff             1        204    204  104.929059  11.619525  \n",
       "4     8865846a85fffff             1        172    172  104.908904  11.561711  \n",
       "...               ...           ...        ...    ...         ...        ...  \n",
       "8562  886586a699fffff             1        182    182  104.929226  11.701893  \n",
       "8563  8865846995fffff             1        212    212  104.899855  11.667508  \n",
       "8564  8865846d85fffff             1        134    134  104.756877  11.633307  \n",
       "8565  8865846e31fffff             1        230    230  104.785133  11.523526  \n",
       "8566  886580d00bfffff             1        150    150  104.818512  11.719658  \n",
       "\n",
       "[8567 rows x 10 columns]"
      ]
     },
     "execution_count": 41,
     "metadata": {},
     "output_type": "execute_result"
    }
   ],
   "source": [
    "df"
   ]
  },
  {
   "cell_type": "code",
   "execution_count": 42,
   "id": "5d1b1a62",
   "metadata": {},
   "outputs": [
    {
     "data": {
      "application/vnd.microsoft.datawrangler.viewer.v0+json": {
       "columns": [
        {
         "name": "index",
         "rawType": "int64",
         "type": "integer"
        },
        {
         "name": "Unnamed: 0",
         "rawType": "int64",
         "type": "integer"
        },
        {
         "name": "address_subdivision",
         "rawType": "object",
         "type": "string"
        },
        {
         "name": "address_locality",
         "rawType": "object",
         "type": "string"
        },
        {
         "name": "address_line_2",
         "rawType": "object",
         "type": "string"
        },
        {
         "name": "h_id",
         "rawType": "object",
         "type": "string"
        },
        {
         "name": "price_per_m2",
         "rawType": "int64",
         "type": "integer"
        },
        {
         "name": "land_area",
         "rawType": "int64",
         "type": "integer"
        },
        {
         "name": "price",
         "rawType": "int64",
         "type": "integer"
        },
        {
         "name": "longitude",
         "rawType": "float64",
         "type": "float"
        },
        {
         "name": "latitude",
         "rawType": "float64",
         "type": "float"
        }
       ],
       "ref": "242cd1e7-9874-4410-a721-90f6bec12337",
       "rows": [
        [
         "0",
         "0",
         "Phnom Penh",
         "Tuol Kouk",
         "Phsar Depou Ti Muoy",
         "8865846aa3fffff",
         "1",
         "188",
         "188",
         "104.90347329602275",
         "11.580320514203706"
        ],
        [
         "1",
         "1",
         "Phnom Penh",
         "Chraoy Chongvar",
         "Bak Kaeng",
         "886586a6b5fffff",
         "1",
         "164",
         "164",
         "104.9410498214956",
         "11.73700867578606"
        ],
        [
         "2",
         "2",
         "Phnom Penh",
         "Chraoy Chongvar",
         "Chrouy Changvar",
         "886584680bfffff",
         "1",
         "126",
         "126",
         "104.93829884053812",
         "11.599740249017843"
        ],
        [
         "3",
         "3",
         "Phnom Penh",
         "Chraoy Chongvar",
         "Preaek Lieb",
         "8865846831fffff",
         "1",
         "204",
         "204",
         "104.92905896493714",
         "11.619525086846265"
        ],
        [
         "4",
         "4",
         "Phnom Penh",
         "Prampir Meakkakra",
         "Veal Vong",
         "8865846a85fffff",
         "1",
         "172",
         "172",
         "104.9089039423688",
         "11.56171067963246"
        ],
        [
         "5",
         "5",
         "Phnom Penh",
         "Dangkao",
         "Sak Sampov",
         "88658460c7fffff",
         "1",
         "126",
         "126",
         "104.8388571652155",
         "11.440578997161715"
        ],
        [
         "6",
         "6",
         "Phnom Penh",
         "Pur SenChey",
         "Samraong Kraom",
         "8865846c69fffff",
         "1",
         "136",
         "136",
         "104.80351199470653",
         "11.567502527194083"
        ],
        [
         "7",
         "7",
         "Phnom Penh",
         "Russey Keo",
         "Ruessei Kaev",
         "88658468c7fffff",
         "1",
         "82",
         "82",
         "104.8888091616684",
         "11.600754354865256"
        ],
        [
         "8",
         "8",
         "Phnom Penh",
         "Pur SenChey",
         "Kamboul",
         "8865846ee5fffff",
         "1",
         "234",
         "234",
         "104.76769902968137",
         "11.528794680859727"
        ],
        [
         "9",
         "9",
         "Phnom Penh",
         "Russey Keo",
         "Kilomaetr Lekh Prammuoy",
         "88658468e1fffff",
         "1",
         "236",
         "236",
         "104.90255632078554",
         "11.619050069611433"
        ],
        [
         "10",
         "10",
         "Phnom Penh",
         "Chraoy Chongvar",
         "Bak Kaeng",
         "886580d369fffff",
         "1",
         "108",
         "108",
         "104.91954963855557",
         "11.714269685916754"
        ],
        [
         "11",
         "11",
         "Phnom Penh",
         "Doun Penh",
         "Chakto Mukh",
         "8865846aebfffff",
         "1",
         "178",
         "178",
         "104.92440685144182",
         "11.55079498990666"
        ],
        [
         "12",
         "12",
         "Phnom Penh",
         "Praek Pnov",
         "Ponsang",
         "8865846dcbfffff",
         "1",
         "222",
         "222",
         "104.76073042111832",
         "11.602423561753522"
        ],
        [
         "13",
         "13",
         "Phnom Penh",
         "Dangkao",
         "Prey Sa",
         "8865846191fffff",
         "1",
         "192",
         "192",
         "104.84231867017924",
         "11.500009840606165"
        ],
        [
         "14",
         "14",
         "Phnom Penh",
         "Pur SenChey",
         "Kamboul",
         "8865846c53fffff",
         "1",
         "84",
         "84",
         "104.76068183799104",
         "11.549465763197851"
        ],
        [
         "15",
         "15",
         "Phnom Penh",
         "Russey Keo",
         "Chrang Chamreh Ti Pir",
         "88658468adfffff",
         "1",
         "180",
         "180",
         "104.89116432006202",
         "11.63354674948742"
        ],
        [
         "16",
         "16",
         "Phnom Penh",
         "Chbar Ampov",
         "Preaek Thmei",
         "88658478cdfffff",
         "1",
         "230",
         "230",
         "105.02289439396326",
         "11.468874408521136"
        ],
        [
         "17",
         "17",
         "Phnom Penh",
         "Mean Chey",
         "Stueng Mean Chey",
         "8865846f49fffff",
         "1",
         "246",
         "246",
         "104.86242690399388",
         "11.534569192990237"
        ],
        [
         "18",
         "18",
         "Phnom Penh",
         "Dangkao",
         "Prey Sa",
         "88658461d5fffff",
         "1",
         "114",
         "114",
         "104.86167457552487",
         "11.486564963044955"
        ],
        [
         "19",
         "19",
         "Phnom Penh",
         "Pur SenChey",
         "Kakab",
         "8865846f09fffff",
         "1",
         "142",
         "142",
         "104.8463887860882",
         "11.555707542728882"
        ],
        [
         "20",
         "20",
         "Phnom Penh",
         "Praek Pnov",
         "Ponhea Pon",
         "886580d253fffff",
         "1",
         "216",
         "216",
         "104.83265599903316",
         "11.64880709172475"
        ],
        [
         "21",
         "21",
         "Phnom Penh",
         "Chbar Ampov",
         "Preaek Aeng",
         "88658478b5fffff",
         "1",
         "94",
         "94",
         "104.9837749349826",
         "11.510867683953991"
        ],
        [
         "22",
         "22",
         "Phnom Penh",
         "Praek Pnov",
         "Preaek Phnov",
         "886580d209fffff",
         "1",
         "240",
         "240",
         "104.85935562706578",
         "11.66106097429202"
        ],
        [
         "23",
         "23",
         "Phnom Penh",
         "Praek Pnov",
         "Kouk Roka",
         "8865846d57fffff",
         "1",
         "114",
         "114",
         "104.80327363156358",
         "11.60097279145769"
        ],
        [
         "24",
         "24",
         "Phnom Penh",
         "Tuol Kouk",
         "Boeng Kak Ti Pir",
         "8865846ab5fffff",
         "1",
         "122",
         "122",
         "104.89663594107328",
         "11.576848346437934"
        ],
        [
         "25",
         "25",
         "Phnom Penh",
         "Praek Pnov",
         "Ponsang",
         "8865846dd7fffff",
         "1",
         "204",
         "204",
         "104.7435811828264",
         "11.609688340861716"
        ],
        [
         "26",
         "26",
         "Phnom Penh",
         "Saensokh",
         "Khmuonh",
         "88658468b1fffff",
         "1",
         "232",
         "232",
         "104.86366490399128",
         "11.631472203622998"
        ],
        [
         "27",
         "27",
         "Phnom Penh",
         "Mean Chey",
         "Stueng Mean Chey",
         "8865846f4dfffff",
         "1",
         "226",
         "226",
         "104.8658971524854",
         "11.538728740582831"
        ],
        [
         "28",
         "28",
         "Phnom Penh",
         "Tuol Kouk",
         "Phsar Depou Ti Pir",
         "8865846a87fffff",
         "1",
         "178",
         "178",
         "104.8972980024815",
         "11.56355301838985"
        ],
        [
         "29",
         "29",
         "Phnom Penh",
         "Dangkao",
         "Pong Tuek",
         "8865846193fffff",
         "1",
         "140",
         "140",
         "104.83132394874552",
         "11.495964762021089"
        ],
        [
         "30",
         "30",
         "Phnom Penh",
         "Pur SenChey",
         "Phleung Chheh Roteh",
         "8865846e57fffff",
         "1",
         "226",
         "226",
         "104.7928013093884",
         "11.493873597769891"
        ],
        [
         "31",
         "31",
         "Phnom Penh",
         "Russey Keo",
         "Svay Pak",
         "88658468a5fffff",
         "1",
         "36",
         "36",
         "104.8890876493969",
         "11.6408535568937"
        ],
        [
         "32",
         "32",
         "Phnom Penh",
         "Dangkao",
         "Prey Sa",
         "88658461ddfffff",
         "1",
         "116",
         "116",
         "104.87070804321284",
         "11.478810057415838"
        ],
        [
         "33",
         "33",
         "Phnom Penh",
         "Praek Pnov",
         "Samraong",
         "886580d041fffff",
         "1",
         "32",
         "32",
         "104.83975928603412",
         "11.70862455082181"
        ],
        [
         "34",
         "34",
         "Phnom Penh",
         "Chbar Ampov",
         "Preaek Aeng",
         "88658478b9fffff",
         "1",
         "92",
         "92",
         "104.9836278856074",
         "11.502365440977597"
        ],
        [
         "35",
         "35",
         "Phnom Penh",
         "Saensokh",
         "Khmuonh",
         "8865846d67fffff",
         "1",
         "206",
         "206",
         "104.83842199182614",
         "11.6351330168946"
        ],
        [
         "36",
         "36",
         "Phnom Penh",
         "Saensokh",
         "Phnom Penh Thmei",
         "8865846f23fffff",
         "1",
         "220",
         "220",
         "104.83570829361445",
         "11.586245874079992"
        ],
        [
         "37",
         "37",
         "Phnom Penh",
         "Chraoy Chongvar",
         "Preaek Ta Sek",
         "886580d26dfffff",
         "1",
         "154",
         "154",
         "104.884410124224",
         "11.67622217182612"
        ],
        [
         "38",
         "38",
         "Phnom Penh",
         "Mean Chey",
         "Chak Angrae Kraom",
         "8865846105fffff",
         "1",
         "200",
         "200",
         "104.93466667829269",
         "11.50189805590883"
        ],
        [
         "39",
         "39",
         "Phnom Penh",
         "Dangkao",
         "Pong Tuek",
         "88658460a3fffff",
         "1",
         "122",
         "122",
         "104.8301977966915",
         "11.478684511646724"
        ],
        [
         "40",
         "40",
         "Phnom Penh",
         "Dangkao",
         "Cheung Aek",
         "8865846025fffff",
         "1",
         "228",
         "228",
         "104.90280804741208",
         "11.473580852190768"
        ],
        [
         "41",
         "41",
         "Phnom Penh",
         "Chamkar Mon",
         "Boeng Keng Kang Ti Bei",
         "8865846ac7fffff",
         "1",
         "30",
         "30",
         "104.91802898395484",
         "11.544659935102398"
        ],
        [
         "42",
         "42",
         "Phnom Penh",
         "Saensokh",
         "Phnom Penh Thmei",
         "8865846f07fffff",
         "1",
         "122",
         "122",
         "104.84058481216525",
         "11.5691122475156"
        ],
        [
         "43",
         "43",
         "Phnom Penh",
         "Pur SenChey",
         "Chaom Chau",
         "8865846e63fffff",
         "1",
         "222",
         "222",
         "104.8143625070152",
         "11.518467190816008"
        ],
        [
         "44",
         "44",
         "Phnom Penh",
         "Dangkao",
         "Cheung Aek",
         "886584611bfffff",
         "1",
         "146",
         "146",
         "104.89801505909104",
         "11.484498437705982"
        ],
        [
         "45",
         "45",
         "Phnom Penh",
         "Chbar Ampov",
         "Preaek Thmei",
         "88658478e9fffff",
         "1",
         "212",
         "212",
         "105.01941961621556",
         "11.487005422849442"
        ],
        [
         "46",
         "46",
         "Phnom Penh",
         "Dangkao",
         "Pong Tuek",
         "8865846e4bfffff",
         "1",
         "246",
         "246",
         "104.81875151480916",
         "11.486010020911372"
        ],
        [
         "47",
         "47",
         "Phnom Penh",
         "Dangkao",
         "Pong Tuek",
         "88658460b7fffff",
         "1",
         "98",
         "98",
         "104.81026778363804",
         "11.478241242931624"
        ],
        [
         "48",
         "48",
         "Phnom Penh",
         "Chbar Ampov",
         "Preaek Thmei",
         "88658478d1fffff",
         "1",
         "98",
         "98",
         "104.98580291727043",
         "11.469301847444704"
        ],
        [
         "49",
         "49",
         "Phnom Penh",
         "Chbar Ampov",
         "Preaek Aeng",
         "886584799bfffff",
         "1",
         "76",
         "76",
         "104.99958532925736",
         "11.526711166205436"
        ]
       ],
       "shape": {
        "columns": 10,
        "rows": 8567
       }
      },
      "text/html": [
       "<div>\n",
       "<style scoped>\n",
       "    .dataframe tbody tr th:only-of-type {\n",
       "        vertical-align: middle;\n",
       "    }\n",
       "\n",
       "    .dataframe tbody tr th {\n",
       "        vertical-align: top;\n",
       "    }\n",
       "\n",
       "    .dataframe thead th {\n",
       "        text-align: right;\n",
       "    }\n",
       "</style>\n",
       "<table border=\"1\" class=\"dataframe\">\n",
       "  <thead>\n",
       "    <tr style=\"text-align: right;\">\n",
       "      <th></th>\n",
       "      <th>Unnamed: 0</th>\n",
       "      <th>address_subdivision</th>\n",
       "      <th>address_locality</th>\n",
       "      <th>address_line_2</th>\n",
       "      <th>h_id</th>\n",
       "      <th>price_per_m2</th>\n",
       "      <th>land_area</th>\n",
       "      <th>price</th>\n",
       "      <th>longitude</th>\n",
       "      <th>latitude</th>\n",
       "    </tr>\n",
       "  </thead>\n",
       "  <tbody>\n",
       "    <tr>\n",
       "      <th>0</th>\n",
       "      <td>0</td>\n",
       "      <td>Phnom Penh</td>\n",
       "      <td>Tuol Kouk</td>\n",
       "      <td>Phsar Depou Ti Muoy</td>\n",
       "      <td>8865846aa3fffff</td>\n",
       "      <td>1</td>\n",
       "      <td>188</td>\n",
       "      <td>188</td>\n",
       "      <td>104.903473</td>\n",
       "      <td>11.580321</td>\n",
       "    </tr>\n",
       "    <tr>\n",
       "      <th>1</th>\n",
       "      <td>1</td>\n",
       "      <td>Phnom Penh</td>\n",
       "      <td>Chraoy Chongvar</td>\n",
       "      <td>Bak Kaeng</td>\n",
       "      <td>886586a6b5fffff</td>\n",
       "      <td>1</td>\n",
       "      <td>164</td>\n",
       "      <td>164</td>\n",
       "      <td>104.941050</td>\n",
       "      <td>11.737009</td>\n",
       "    </tr>\n",
       "    <tr>\n",
       "      <th>2</th>\n",
       "      <td>2</td>\n",
       "      <td>Phnom Penh</td>\n",
       "      <td>Chraoy Chongvar</td>\n",
       "      <td>Chrouy Changvar</td>\n",
       "      <td>886584680bfffff</td>\n",
       "      <td>1</td>\n",
       "      <td>126</td>\n",
       "      <td>126</td>\n",
       "      <td>104.938299</td>\n",
       "      <td>11.599740</td>\n",
       "    </tr>\n",
       "    <tr>\n",
       "      <th>3</th>\n",
       "      <td>3</td>\n",
       "      <td>Phnom Penh</td>\n",
       "      <td>Chraoy Chongvar</td>\n",
       "      <td>Preaek Lieb</td>\n",
       "      <td>8865846831fffff</td>\n",
       "      <td>1</td>\n",
       "      <td>204</td>\n",
       "      <td>204</td>\n",
       "      <td>104.929059</td>\n",
       "      <td>11.619525</td>\n",
       "    </tr>\n",
       "    <tr>\n",
       "      <th>4</th>\n",
       "      <td>4</td>\n",
       "      <td>Phnom Penh</td>\n",
       "      <td>Prampir Meakkakra</td>\n",
       "      <td>Veal Vong</td>\n",
       "      <td>8865846a85fffff</td>\n",
       "      <td>1</td>\n",
       "      <td>172</td>\n",
       "      <td>172</td>\n",
       "      <td>104.908904</td>\n",
       "      <td>11.561711</td>\n",
       "    </tr>\n",
       "    <tr>\n",
       "      <th>...</th>\n",
       "      <td>...</td>\n",
       "      <td>...</td>\n",
       "      <td>...</td>\n",
       "      <td>...</td>\n",
       "      <td>...</td>\n",
       "      <td>...</td>\n",
       "      <td>...</td>\n",
       "      <td>...</td>\n",
       "      <td>...</td>\n",
       "      <td>...</td>\n",
       "    </tr>\n",
       "    <tr>\n",
       "      <th>8562</th>\n",
       "      <td>8562</td>\n",
       "      <td>Phnom Penh</td>\n",
       "      <td>Chraoy Chongvar</td>\n",
       "      <td>Bak Kaeng</td>\n",
       "      <td>886586a699fffff</td>\n",
       "      <td>1</td>\n",
       "      <td>182</td>\n",
       "      <td>182</td>\n",
       "      <td>104.929226</td>\n",
       "      <td>11.701893</td>\n",
       "    </tr>\n",
       "    <tr>\n",
       "      <th>8563</th>\n",
       "      <td>8563</td>\n",
       "      <td>Phnom Penh</td>\n",
       "      <td>Chraoy Chongvar</td>\n",
       "      <td>Preaek Ta Sek</td>\n",
       "      <td>8865846995fffff</td>\n",
       "      <td>1</td>\n",
       "      <td>212</td>\n",
       "      <td>212</td>\n",
       "      <td>104.899855</td>\n",
       "      <td>11.667508</td>\n",
       "    </tr>\n",
       "    <tr>\n",
       "      <th>8564</th>\n",
       "      <td>8564</td>\n",
       "      <td>Phnom Penh</td>\n",
       "      <td>Praek Pnov</td>\n",
       "      <td>Ponsang</td>\n",
       "      <td>8865846d85fffff</td>\n",
       "      <td>1</td>\n",
       "      <td>134</td>\n",
       "      <td>134</td>\n",
       "      <td>104.756877</td>\n",
       "      <td>11.633307</td>\n",
       "    </tr>\n",
       "    <tr>\n",
       "      <th>8565</th>\n",
       "      <td>8565</td>\n",
       "      <td>Phnom Penh</td>\n",
       "      <td>Pur SenChey</td>\n",
       "      <td>Kantaok</td>\n",
       "      <td>8865846e31fffff</td>\n",
       "      <td>1</td>\n",
       "      <td>230</td>\n",
       "      <td>230</td>\n",
       "      <td>104.785133</td>\n",
       "      <td>11.523526</td>\n",
       "    </tr>\n",
       "    <tr>\n",
       "      <th>8566</th>\n",
       "      <td>8566</td>\n",
       "      <td>Phnom Penh</td>\n",
       "      <td>Praek Pnov</td>\n",
       "      <td>Samraong</td>\n",
       "      <td>886580d00bfffff</td>\n",
       "      <td>1</td>\n",
       "      <td>150</td>\n",
       "      <td>150</td>\n",
       "      <td>104.818512</td>\n",
       "      <td>11.719658</td>\n",
       "    </tr>\n",
       "  </tbody>\n",
       "</table>\n",
       "<p>8567 rows × 10 columns</p>\n",
       "</div>"
      ],
      "text/plain": [
       "      Unnamed: 0 address_subdivision   address_locality       address_line_2  \\\n",
       "0              0          Phnom Penh          Tuol Kouk  Phsar Depou Ti Muoy   \n",
       "1              1          Phnom Penh    Chraoy Chongvar            Bak Kaeng   \n",
       "2              2          Phnom Penh    Chraoy Chongvar      Chrouy Changvar   \n",
       "3              3          Phnom Penh    Chraoy Chongvar          Preaek Lieb   \n",
       "4              4          Phnom Penh  Prampir Meakkakra            Veal Vong   \n",
       "...          ...                 ...                ...                  ...   \n",
       "8562        8562          Phnom Penh    Chraoy Chongvar            Bak Kaeng   \n",
       "8563        8563          Phnom Penh    Chraoy Chongvar        Preaek Ta Sek   \n",
       "8564        8564          Phnom Penh         Praek Pnov              Ponsang   \n",
       "8565        8565          Phnom Penh        Pur SenChey              Kantaok   \n",
       "8566        8566          Phnom Penh         Praek Pnov             Samraong   \n",
       "\n",
       "                 h_id  price_per_m2  land_area  price   longitude   latitude  \n",
       "0     8865846aa3fffff             1        188    188  104.903473  11.580321  \n",
       "1     886586a6b5fffff             1        164    164  104.941050  11.737009  \n",
       "2     886584680bfffff             1        126    126  104.938299  11.599740  \n",
       "3     8865846831fffff             1        204    204  104.929059  11.619525  \n",
       "4     8865846a85fffff             1        172    172  104.908904  11.561711  \n",
       "...               ...           ...        ...    ...         ...        ...  \n",
       "8562  886586a699fffff             1        182    182  104.929226  11.701893  \n",
       "8563  8865846995fffff             1        212    212  104.899855  11.667508  \n",
       "8564  8865846d85fffff             1        134    134  104.756877  11.633307  \n",
       "8565  8865846e31fffff             1        230    230  104.785133  11.523526  \n",
       "8566  886580d00bfffff             1        150    150  104.818512  11.719658  \n",
       "\n",
       "[8567 rows x 10 columns]"
      ]
     },
     "execution_count": 42,
     "metadata": {},
     "output_type": "execute_result"
    }
   ],
   "source": [
    "df"
   ]
  },
  {
   "cell_type": "code",
   "execution_count": 43,
   "id": "f72730be",
   "metadata": {},
   "outputs": [
    {
     "name": "stderr",
     "output_type": "stream",
     "text": [
      "C:\\Users\\User\\AppData\\Local\\Temp\\ipykernel_23324\\1498732564.py:10: MatplotlibDeprecationWarning:\n",
      "\n",
      "The get_cmap function was deprecated in Matplotlib 3.7 and will be removed in 3.11. Use ``matplotlib.colormaps[name]`` or ``matplotlib.colormaps.get_cmap()`` or ``pyplot.get_cmap()`` instead.\n",
      "\n"
     ]
    }
   ],
   "source": [
    "import folium\n",
    "from folium.plugins import MarkerCluster\n",
    "\n",
    "# Center map on Phnom Penh (or your area of interest)\n",
    "m = folium.Map(location=[df['latitude'].mean(), df['longitude'].mean()], zoom_start=12)\n",
    "\n",
    "# Normalize price_per_m2 for color scaling\n",
    "import matplotlib\n",
    "norm = matplotlib.colors.Normalize(vmin=df['price_per_m2'].min(), vmax=df['price_per_m2'].max())\n",
    "cmap = matplotlib.cm.get_cmap('viridis')\n",
    "\n",
    "# Add points to map\n",
    "for _, row in df.iterrows():\n",
    "    color = matplotlib.colors.rgb2hex(cmap(norm(row['price_per_m2'])))\n",
    "    folium.CircleMarker(\n",
    "        location=[row['latitude'], row['longitude']],\n",
    "        radius=4,\n",
    "        color=color,\n",
    "        fill=True,\n",
    "        fill_color=color,\n",
    "        fill_opacity=0.7,\n",
    "        popup=f\"Price/m²: {row['price_per_m2']:.2f}\"\n",
    "    ).add_to(m)\n",
    "\n",
    "m.save('realestate_price_map.html')"
   ]
  },
  {
   "cell_type": "code",
   "execution_count": 44,
   "id": "26eca1b5",
   "metadata": {},
   "outputs": [],
   "source": [
    "df['id'] = range(1, len(df) + 1)"
   ]
  },
  {
   "cell_type": "code",
   "execution_count": 45,
   "id": "75f49232",
   "metadata": {},
   "outputs": [
    {
     "name": "stderr",
     "output_type": "stream",
     "text": [
      "C:\\Users\\User\\AppData\\Local\\Temp\\ipykernel_23324\\1151482528.py:3: DeprecationWarning:\n",
      "\n",
      "*scatter_mapbox* is deprecated! Use *scatter_map* instead. Learn more at: https://plotly.com/python/mapbox-to-maplibre/\n",
      "\n"
     ]
    },
    {
     "data": {
      "application/vnd.plotly.v1+json": {
       "config": {
        "plotlyServerURL": "https://plot.ly"
       },
       "data": [
        {
         "customdata": {
          "bdata": "AQEBAQEBAQEBAQEBAQEBAQEBAQEBAQEBAQEBAQEBAQEBAQEBAQEBAQEBAQEBAQEBAQEBAQEBAQEBAQEBAQEBAQEBAQEBAQEBAQEBAQEBAQEBAQEBAQEBAQEBAQEBAQEBAQEBAQEBAQEBAQEBAQEBAQEBAQEBAQEBAQEBAQEBAQEBAQEBAQEBAQEBAQEBAQEBAQEBAQEBAQEBAQEBAQEBAQEBAQEBAQEBAQEBAQEBAQEBAQEBAQEBAQEBAQEBAQEBAQEBAQEBAQEBAQEBAQEBAQEBAQEBAQEBAQEBAQEBAQEBAQEBAQEBAQEBAQEBAQEBAQEBAQEBAQEBAQEBAQEBAQEBAQEBAQEBAQEBAQEBAQEBAQEBAQEBAQEBAQEBAQEBAQEBAQEBAQEBAQEBAQEBAQEBAQEBAQEBAQEBAQEBAQEBAQEBAQEBAQEBAQEBAQEBAQEBAQEBAQEBAQEBAQEBAQEBAQEBAQEBAQEBAQEBAQEBAQEBAQEBAQEBAQEBAQEBAQEBAQEBAQEBAQEBAQEBAQEBAQEBAQEBAQEBAQEBAQEBAQEBAQEBAQEBAQEBAQEBAQEBAQEBAQEBAQEBAQEBAQEBAQEBAQEBAQEBAQEBAQEBAQEBAQEBAQEBAQEBAQEBAQEBAQEBAQEBAQEBAQEBAQEBAQEBAQEBAQEBAQEBAQEBAQEBAQEBAQEBAQEBAQEBAQEBAQEBAQEBAQEBAQEBAQEBAQEBAQEBAQEBAQEBAQEBAQEBAQEBAQEBAQEBAQEBAQEBAQEBAQEBAQEBAQEBAQEBAQEBAQEBAQEBAQEBAQEBAQEBAQEBAQEBAQEBAQEBAQEBAQEBAQEBAQEBAQEBAQEBAQEBAQEBAQEBAQEBAQEBAQEBAQEBAQEBAQEBAQEBAQEBAQEBAQEBAQEBAQEBAQEBAQEBAQEBAQEBAQEBAQEBAQEBAQEBAQEBAQEBAQEBAQEBAQEBAQEBAQEBAQEBAQEBAQEBAQEBAQEBAQEBAQEBAQEBAQEBAQEBAQEBAQEBAQEBAQEBAQEBAQEBAQEBAQEBAQEBAQEBAQEBAQEBAQEBAQEBAQEBAQEBAQEBAQEBAQEBAQEBAQEBAQEBAQEBAQEBAQEBAQEBAQEBAQEBAQEBAQEBAQEBAQEBAQEBAQEBAQEBAQEBAQEBAQEBAQEBAQEBAQEBAQEBAQEBAQEBAQEBAQEBAQEBAQEBAQEBAQEBAQEBAQEBAQEBAQEBAQEBAQEBAQEBAQEBAQEBAQEBAQEBAQEBAQEBAQEBAQEBAQEBAQEBAQEBAQEBAQEBAQEBAQEBAQEBAQEBAQEBAQEBAQEBAQEBAQEBAQEBAQEBAQEBAQEBAQEBAQEBAQEBAQEBAQEBAQEBAQEBAQEBAQEBAQEBAQEBAQEBAQEBAQEBAQEBAQEBAQEBAQEBAQEBAQEBAQEBAQEBAQEBAQEBAQEBAQEBAQEBAQEBAQEBAQEBAQEBAQEBAQEBAQEBAQEBAQEBAQEBAQEBAQEBAQEBAQEBAQEBAQEBAQEBAQEBAQEBAQEBAQEBAQEBAQEBAQEBAQEBAQEBAQEBAQEBAQEBAQEBAQEBAQEBAQEBAQEBAQEBAQEBAQEBAQEBAQEBAQEBAQEBAQEBAQEBAQEBAQEBAQEBAQEBAQEBAQEBAQEBAQEBAQEBAQEBAQEBAQEBAQEBAQEBAQEBAQEBAQEBAQEBAQEBAQEBAQEBAQEBAQEBAQEBAQEBAQEBAQEBAQEBAQEBAQEBAQEBAQEBAQEBAQEBAQEBAQEBAQEBAQEBAQEBAQEBAQEBAQEBAQEBAQEBAQEBAQEBAQEBAQEBAQEBAQEBAQEBAQEBAQEBAQEBAQEBAQEBAQEBAQEBAQEBAQEBAQEBAQEBAQEBAQEBAQEBAQEBAQEBAQEBAQEBAQEBAQEBAQEBAQEBAQEBAQEBAQEBAQEBAQEBAQEBAQEBAQEBAQEBAQEBAQEBAQEBAQEBAQEBAQEBAQEBAQEBAQEBAQEBAQEBAQEBAQEBAQEBAQEBAQEBAQEBAQEBAQEBAQEBAQEBAQEBAQEBAQEBAQEBAQEBAQEBAQEBAQEBAQEBAQEBAQEBAQEBAQEBAQEBAQEBAQEBAQEBAQEBAQEBAQEBAQEBAQEBAQEBAQEBAQEBAQEBAQEBAQEBAQEBAQEBAQEBAQEBAQEBAQEBAQEBAQEBAQEBAQEBAQEBAQEBAQEBAQEBAQEBAQEBAQEBAQEBAQEBAQEBAQEBAQEBAQEBAQEBAQEBAQEBAQEBAQEBAQEBAQEBAQEBAQEBAQEBAQEBAQEBAQEBAQEBAQEBAQEBAQEBAQEBAQEBAQEBAQEBAQEBAQEBAQEBAQEBAQEBAQEBAQEBAQEBAQEBAQEBAQEBAQEBAQEBAQEBAQEBAQEBAQEBAQEBAQEBAQEBAQEBAQEBAQEBAQEBAQEBAQEBAQEBAQEBAQEBAQEBAQEBAQEBAQEBAQEBAQEBAQEBAQEBAQEBAQEBAQEBAQEBAQEBAQEBAQEBAQEBAQEBAQEBAQEBAQEBAQEBAQEBAQEBAQEBAQEBAQEBAQEBAQEBAQEBAQEBAQEBAQEBAQEBAQEBAQEBAQEBAQEBAQEBAQEBAQEBAQEBAQEBAQEBAQEBAQEBAQEBAQEBAQEBAQEBAQEBAQEBAQEBAQEBAQEBAQEBAQEBAQEBAQEBAQEBAQEBAQEBAQEBAQEBAQEBAQEBAQEBAQEBAQEBAQEBAQEBAQEBAQEBAQEBAQEBAQEBAQEBAQEBAQEBAQEBAQEBAQEBAQEBAQEBAQEBAQEBAQEBAQEBAQEBAQEBAQEBAQEBAQEBAQEBAQEBAQEBAQEBAQEBAQEBAQEBAQEBAQEBAQEBAQEBAQEBAQEBAQEBAQEBAQEBAQEBAQEBAQEBAQEBAQEBAQEBAQEBAQEBAQEBAQEBAQEBAQEBAQEBAQEBAQEBAQEBAQEBAQEBAQEBAQEBAQEBAQEBAQEBAQEBAQEBAQEBAQEBAQEBAQEBAQEBAQEBAQEBAQEBAQEBAQEBAQEBAQEBAQEBAQEBAQEBAQEBAQEBAQEBAQEBAQEBAQEBAQEBAQEBAQEBAQEBAQEBAQEBAQEBAQEBAQEBAQEBAQEBAQEBAQEBAQEBAQEBAQEBAQEBAQEBAQEBAQEBAQEBAQEBAQEBAQEBAQEBAQEBAQEBAQEBAQEBAQEBAQEBAQEBAQEBAQEBAQEBAQEBAQEBAQEBAQEBAQEBAQEBAQEBAQEBAQEBAQEBAQEBAQEBAQEBAQEBAQEBAQEBAQEBAQEBAQEBAQEBAQEBAQEBAQEBAQEBAQEBAQEBAQEBAQEBAQEBAQEBAQEBAQEBAQEBAQEBAQEBAQEBAQEBAQEBAQEBAQEBAQEBAQEBAQEBAQEBAQEBAQEBAQEBAQEBAQEBAQEBAQEBAQEBAQEBAQEBAQEBAQEBAQEBAQEBAQEBAQEBAQEBAQEBAQEBAQEBAQEBAQEBAQEBAQEBAQEBAQEBAQEBAQEBAQEBAQEBAQEBAQEBAQEBAQEBAQEBAQEBAQEBAQEBAQEBAQEBAQEBAQEBAQEBAQEBAQEBAQEBAQEBAQEBAQEBAQEBAQEBAQEBAQEBAQEBAQEBAQEBAQEBAQEBAQEBAQEBAQEBAQEBAQEBAQEBAQEBAQEBAQEBAQEBAQEBAQEBAQEBAQEBAQEBAQEBAQEBAQEBAQEBAQEBAQEBAQEBAQEBAQEBAQEBAQEBAQEBAQEBAQEBAQEBAQEBAQEBAQEBAQEBAQEBAQEBAQEBAQEBAQEBAQEBAQEBAQEBAQEBAQEBAQEBAQEBAQEBAQEBAQEBAQEBAQEBAQEBAQEBAQEBAQEBAQEBAQEBAQEBAQEBAQEBAQEBAQEBAQEBAQEBAQEBAQEBAQEBAQEBAQEBAQEBAQEBAQEBAQEBAQEBAQEBAQEBAQEBAQEBAQEBAQEBAQEBAQEBAQEBAQEBAQEBAQEBAQEBAQEBAQEBAQEBAQEBAQEBAQEBAQEBAQEBAQEBAQEBAQEBAQEBAQEBAQEBAQEBAQEBAQEBAQEBAQEBAQEBAQEBAQEBAQEBAQEBAQEBAQEBAQEBAQEBAQEBAQEBAQEBAQEBAQEBAQEBAQEBAQEBAQEBAQEBAQEBAQEBAQEBAQEBAQEBAQEBAQEBAQEBAQEBAQEBAQEBAQEBAQEBAQEBAQEBAQEBAQEBAQEBAQEBAQEBAQEBAQEBAQEBAQEBAQEBAQEBAQEBAQEBAQEBAQEBAQEBAQEBAQEBAQEBAQEBAQEBAQEBAQEBAQEBAQEBAQEBAQEBAQEBAQEBAQEBAQEBAQEBAQEBAQEBAQEBAQEBAQEBAQEBAQEBAQEBAQEBAQEBAQEBAQEBAQEBAQEBAQEBAQEBAQEBAQEBAQEBAQEBAQEBAQEBAQEBAQEBAQEBAQEBAQEBAQEBAQEBAQEBAQEBAQEBAQEBAQEBAQEBAQEBAQEBAQEBAQEBAQEBAQEBAQEBAQEBAQEBAQEBAQEBAQEBAQEBAQEBAQEBAQEBAQEBAQEBAQEBAQEBAQEBAQEBAQEBAQEBAQEBAQEBAQEBAQEBAQEBAQEBAQEBAQEBAQEBAQEBAQEBAQEBAQEBAQEBAQEBAQEBAQEBAQEBAQEBAQEBAQEBAQEBAQEBAQEBAQEBAQEBAQEBAQEBAQEBAQEBAQEBAQEBAQEBAQEBAQEBAQEBAQEBAQEBAQEBAQEBAQEBAQEBAQEBAQEBAQEBAQEBAQEBAQEBAQEBAQEBAQEBAQEBAQEBAQEBAQEBAQEBAQEBAQEBAQEBAQEBAQEBAQEBAQEBAQEBAQEBAQEBAQEBAQEBAQEBAQEBAQEBAQEBAQEBAQEBAQEBAQEBAQEBAQEBAQEBAQEBAQEBAQEBAQEBAQEBAQEBAQEBAQEBAQEBAQEBAQEBAQEBAQEBAQEBAQEBAQEBAQEBAQEBAQEBAQEBAQEBAQEBAQEBAQEBAQEBAQEBAQEBAQEBAQEBAQEBAQEBAQEBAQEBAQEBAQEBAQEBAQEBAQEBAQEBAQEBAQEBAQEBAQEBAQEBAQEBAQEBAQEBAQEBAQEBAQEBAQEBAQEBAQEBAQEBAQEBAQEBAQEBAQEBAQEBAQEBAQEBAQEBAQEBAQEBAQEBAQEBAQEBAQEBAQEBAQEBAQEBAQEBAQEBAQEBAQEBAQEBAQEBAQEBAQEBAQEBAQEBAQEBAQEBAQEBAQEBAQEBAQEBAQEBAQEBAQEBAQEBAQEBAQEBAQEBAQEBAQEBAQEBAQEBAQEBAQEBAQEBAQEBAQEBAQEBAQEBAQEBAQEBAQEBAQEBAQEBAQEBAQEBAQEBAQEBAQEBAQEBAQEBAQEBAQEBAQEBAQEBAQEBAQEBAQEBAQEBAQEBAQEBAQEBAQEBAQEBAQEBAQEBAQEBAQEBAQEBAQEBAQEBAQEBAQEBAQEBAQEBAQEBAQEBAQEBAQEBAQEBAQEBAQEBAQEBAQEBAQEBAQEBAQEBAQEBAQEBAQEBAQEBAQEBAQEBAQEBAQEBAQEBAQEBAQEBAQEBAQEBAQEBAQEBAQEBAQEBAQEBAQEBAQEBAQEBAQEBAQEBAQEBAQEBAQEBAQEBAQEBAQEBAQEBAQEBAQEBAQEBAQEBAQEBAQEBAQEBAQEBAQEBAQEBAQEBAQEBAQEBAQEBAQEBAQEBAQEBAQEBAQEBAQEBAQEBAQEBAQEBAQEBAQEBAQEBAQEBAQEBAQEBAQEBAQEBAQEBAQEBAQEBAQEBAQEBAQEBAQEBAQEBAQEBAQEBAQEBAQEBAQEBAQEBAQEBAQEBAQEBAQEBAQEBAQEBAQEBAQEBAQEBAQEBAQEBAQEBAQEBAQEBAQEBAQEBAQEBAQEBAQEBAQEBAQEBAQEBAQEBAQEBAQEBAQEBAQEBAQEBAQEBAQEBAQEBAQEBAQEBAQEBAQEBAQEBAQEBAQEBAQEBAQEBAQEBAQEBAQEBAQEBAQEBAQEBAQEBAQEBAQEBAQEBAQEBAQEBAQEBAQEBAQEBAQEBAQEBAQEBAQEBAQEBAQEBAQEBAQEBAQEBAQEBAQEBAQEBAQEBAQEBAQEBAQEBAQEBAQEBAQEBAQEBAQEBAQEBAQEBAQEBAQEBAQEBAQEBAQEBAQEBAQEBAQEBAQEBAQEBAQEBAQEBAQEBAQEBAQEBAQEBAQEBAQEBAQEBAQEBAQEBAQEBAQEBAQEBAQEBAQEBAQEBAQEBAQEBAQEBAQEBAQEBAQEBAQEBAQEBAQEBAQEBAQEBAQEBAQEBAQEBAQEBAQEBAQEBAQEBAQEBAQEBAQEBAQEBAQEBAQEBAQEBAQEBAQEBAQEBAQEBAQEBAQEBAQEBAQEBAQEBAQEBAQEBAQEBAQEBAQEBAQEBAQEBAQEBAQEBAQEBAQEBAQEBAQEBAQEBAQEBAQEBAQEBAQEBAQEBAQEBAQEBAQEBAQEBAQEBAQEBAQEBAQEBAQEBAQEBAQEBAQEBAQEBAQEBAQEBAQEBAQEBAQEBAQEBAQEBAQEBAQEBAQEBAQEBAQEBAQEBAQEBAQEBAQEBAQEBAQEBAQEBAQEBAQEBAQEBAQEBAQEBAQEBAQEBAQEBAQEBAQEBAQEBAQEBAQEBAQEBAQEBAQEBAQEBAQEBAQEBAQEBAQEBAQEBAQEBAQEBAQEBAQEBAQEBAQEBAQEBAQEBAQEBAQEBAQEBAQEBAQEBAQEBAQEBAQEBAQEBAQEBAQEBAQEBAQEBAQEBAQEBAQEBAQEBAQEBAQEBAQEBAQEBAQEBAQEBAQEBAQEBAQEBAQEBAQEBAQEBAQEBAQEBAQEBAQEBAQEBAQEBAQEBAQEBAQEBAQEBAQEBAQEBAQEBAQEBAQEBAQEBAQEBAQEBAQEBAQEBAQEBAQEBAQEBAQEBAQEBAQEBAQEBAQEBAQEBAQEBAQEBAQEBAQEBAQEBAQEBAQEBAQEBAQEBAQEBAQEBAQEBAQEBAQEBAQEBAQEBAQEBAQEBAQEBAQEBAQEBAQEBAQEBAQEBAQEBAQEBAQEBAQEBAQEBAQEBAQEBAQEBAQEBAQEBAQEBAQEBAQEBAQEBAQEBAQEBAQEBAQEBAQEBAQEBAQEBAQEBAQEBAQEBAQEBAQEBAQEBAQEBAQEBAQEBAQEBAQEBAQEBAQEBAQEBAQEBAQEBAQEBAQEBAQEBAQEBAQEBAQEBAQEBAQEBAQEBAQEBAQEBAQEBAQEBAQEBAQEBAQEBAQEBAQEBAQEBAQEBAQEBAQEBAQEBAQEBAQEBAQEBAQEBAQEBAQEBAQEBAQEBAQEBAQEBAQEBAQEBAQEBAQEBAQEBAQEBAQEBAQEBAQEBAQEBAQEBAQEBAQEBAQEBAQEBAQEBAQEBAQEBAQEBAQEBAQEBAQEBAQEBAQEBAQEBAQEBAQEBAQEBAQEBAQEBAQEBAQEBAQEBAQEBAQEBAQEBAQEBAQEBAQEBAQEBAQEBAQEBAQEBAQEBAQEBAQEBAQEBAQEBAQEBAQEBAQEBAQEBAQEBAQEBAQEBAQEBAQEBAQEBAQEBAQEBAQEBAQEBAQEBAQEBAQEBAQEBAQEBAQEBAQEBAQEBAQEBAQEBAQEBAQEBAQEBAQEBAQEBAQEBAQEBAQEBAQEBAQEBAQEBAQEBAQEBAQEBAQEBAQEBAQEBAQEBAQEBAQEBAQEBAQEBAQEBAQEBAQEBAQEBAQEBAQEBAQEBAQEBAQEBAQEBAQEBAQEBAQEBAQEBAQEBAQEBAQEBAQEBAQEBAQEBAQEBAQEBAQEBAQEBAQEBAQEBAQEBAQEBAQEBAQEBAQEBAQEBAQEBAQEBAQEBAQEBAQEBAQEBAQEBAQEBAQEBAQEBAQEBAQEBAQEBAQEBAQEBAQEBAQEBAQEBAQEBAQEBAQEBAQEBAQEBAQEBAQEBAQEBAQEBAQEBAQEBAQEBAQEBAQEBAQEBAQEBAQEBAQEBAQEBAQEBAQEBAQEBAQEBAQEBAQEBAQEBAQEBAQEBAQEBAQEBAQEBAQEBAQEBAQEBAQEBAQEBAQEBAQEBAQEBAQEBAQEBAQEBAQEBAQEBAQEBAQEBAQEBAQEBAQEBAQEBAQEBAQEBAQEBAQEBAQEBAQEBAQEBAQEBAQEBAQEBAQEBAQEBAQEBAQEBAQEBAQEBAQEBAQEBAQEBAQEBAQEBAQEBAQEBAQEBAQEBAQEBAQEBAQEBAQEBAQEBAQEBAQEBAQEBAQEBAQEBAQEBAQEBAQEBAQEBAQEBAQEBAQEBAQEBAQEBAQEBAQEBAQEBAQEBAQEBAQEBAQEBAQEBAQEBAQEBAQEBAQEBAQEBAQEBAQEBAQEBAQEBAQEBAQEBAQEBAQEBAQEBAQEBAQEBAQEBAQEBAQEBAQEBAQEBAQEBAQEBAQEBAQEBAQEBAQEBAQEBAQEBAQEBAQEBAQEBAQEBAQEBAQEBAQEBAQEBAQEBAQEBAQEBAQEBAQEBAQEBAQEBAQEBAQEBAQEBAQEBAQEBAQEBAQEBAQEBAQEBAQEBAQEBAQEBAQEBAQEBAQEBAQEBAQEBAQEBAQEBAQEBAQEBAQEBAQEBAQEBAQEBAQEBAQEBAQEBAQEBAQEBAQEBAQEBAQEBAQEBAQEBAQEBAQEBAQEBAQEBAQEBAQEBAQEBAQEBAQEBAQEBAQEBAQEBAQEBAQEBAQEBAQEBAQEBAQEBAQEBAQEBAQEBAQEBAQEBAQEBAQEBAQEBAQEBAQEBAQEBAQEBAQEBAQEBAQEBAQEBAQEBAQEBAQEBAQEBAQEBAQEBAQEBAQEBAQEBAQEBAQEBAQEBAQEBAQEBAQEBAQEBAQEBAQEBAQEBAQEBAQEBAQEBAQEBAQEBAQEBAQEBAQEBAQEBAQEBAQEBAQEBAQEBAQEBAQEBAQEBAQEBAQEBAQEBAQEBAQEBAQEBAQEBAQEBAQEBAQEBAQEBAQEBAQEBAQEBAQEBAQEBAQEBAQEBAQEBAQEBAQEBAQEBAQEBAQEBAQEBAQEBAQEBAQEBAQEBAQEBAQEBAQEBAQEBAQEBAQEBAQEBAQEBAQEBAQEBAQEBAQEBAQEBAQEBAQEBAQEBAQEBAQEBAQEBAQEBAQEBAQEBAQEBAQEBAQEBAQEBAQEBAQEBAQEBAQEBAQEBAQEBAQEBAQEBAQEBAQEBAQEBAQEBAQEBAQEBAQEBAQEBAQEBAQEBAQEBAQEBAQEBAQEBAQEBAQEBAQEBAQEBAQEBAQEBAQEBAQEBAQEBAQEBAQEBAQEBAQEBAQEBAQEBAQEBAQEBAQEBAQEBAQEBAQEBAQEBAQEBAQEBAQEBAQEBAQEBAQEBAQEBAQEBAQEBAQEBAQEBAQEBAQEBAQEBAQEBAQEBAQEBAQEBAQEBAQEBAQEBAQEBAQEBAQEBAQEBAQEBAQEBAQEBAQEBAQEBAQEBAQEBAQEBAQEBAQEBAQEBAQEBAQEBAQEBAQEBAQEBAQEBAQEBAQEBAQEBAQEBAQEBAQEBAQEBAQEBAQEBAQEBAQEBAQEBAQEBAQEBAQEBAQEBAQEBAQEBAQEBAQEBAQEBAQEBAQEBAQEBAQEBAQEBAQEBAQEBAQEBAQEBAQEBAQEBAQEBAQEBAQEBAQEBAQEBAQEBAQEBAQEBAQEBAQEBAQEBAQEBAQEBAQEBAQEBAQEBAQEBAQEBAQEBAQEBAQEBAQEBAQEBAQEBAQEBAQEBAQEBAQEBAQEBAQEBAQEBAQEBAQEBAQEBAQEBAQEBAQEBAQEBAQEBAQEBAQEBAQEBAQEBAQEBAQEBAQEBAQEBAQEBAQEBAQEBAQEBAQEBAQEBAQEBAQEBAQEBAQEBAQEBAQEBAQEBAQEBAQEBAQEBAQEBAQEBAQEBAQEBAQEBAQEBAQEBAQEBAQEBAQEBAQEBAQEBAQEBAQEBAQEBAQEBAQEBAQEBAQEBAQEBAQEBAQEBAQEBAQEBAQEBAQEBAQEBAQEBAQEBAQEBAQEBAQEBAQEBAQEBAQEBAQEBAQEBAQEBAQEBAQEBAQEBAQEBAQEBAQEBAQEBAQEBAQEBAQEBAQEBAQEBAQEBAQEBAQEBAQEBAQEBAQEBAQEBAQEBAQEBAQEBAQEBAQEBAQEBAQEBAQEBAQEBAQEBAQEBAQEBAQEBAQEBAQEBAQEBAQEBAQEBAQEBAQEBAQEBAQEBAQEBAQEBAQEBAQEBAQEBAQEBAQEBAQEBAQEBAQEBAQEBAQEBAQEBAQEBAQEBAQEBAQEBAQEBAQEBAQEBAQEBAQEBAQEBAQEBAQEBAQEBAQEBAQEBAQEBAQEBAQEBAQEBAQEBAQEBAQEBAQEBAQEBAQEBAQEBAQEBAQEBAQEBAQEBAQEBAQEBAQEBAQEBAQEBAQEBAQEBAQEBAQEBAQEBAQEBAQEBAQEBAQEBAQEBAQEBAQEBAQEBAQEBAQEBAQEBAQEBAQEBAQEBAQEBAQEBAQEBAQEBAQEBAQEBAQEBAQEBAQEBAQEBAQEBAQEBAQEBAQEBAQEBAQEBAQEBAQEBAQEBAQEBAQEBAQEBAQEBAQEBAQEBAQEBAQEBAQEBAQEBAQEBAQEBAQEBAQEBAQEBAQEBAQEBAQEBAQEBAQEBAQEBAQEBAQEBAQEBAQEBAQEBAQEBAQEBAQEBAQEBAQEBAQEBAQEBAQEBAQEBAQEBAQEBAQEBAQEBAQEBAQEBAQEBAQEBAQEBAQEBAQEBAQEBAQEBAQEBAQEBAQEBAQEBAQEBAQEBAQEBAQEBAQEBAQEBAQEBAQEBAQEBAQEBAQEBAQEBAQEBAQEBAQEBAQEBAQEBAQEBAQEBAQEBAQEBAQEBAQEBAQEBAQEBAQEBAQEBAQEBAQEBAQEBAQEBAQEBAQEBAQEBAQEBAQEBAQEBAQEBAQEBAQEBAQEBAQEBAQEBAQEBAQEBAQEBAQEBAQEBAQEBAQEBAQEBAQEBAQEBAQEBAQEBAQEBAQEBAQEBAQEBAQEBAQEBAQEBAQEBAQEBAQEBAQEBAQEBAQEBAQEBAQEBAQEBAQEBAQEBAQEBAQEBAQEBAQEBAQEBAQEBAQEBAQEBAQEBAQEBAQEBAQEBAQEBAQEBAQEBAQEBAQEBAQEBAQEBAQEBAQEBAQEBAQEBAQEBAQEBAQEBAQEBAQEBAQEBAQEBAQEBAQEBAQEBAQEBAQEBAQEBAQEBAQEBAQEBAQEBAQEBAQEBAQEBAQEBAQEBAQEBAQEBAQEBAQEBAQEBAQEBAQEBAQEBAQEBAQEBAQEBAQEBAQEBAQEBAQEBAQEBAQEBAQEBAQEBAQEBAQEBAQEBAQEBAQEBAQEBAQEBAQEBAQEBAQEBAQEBAQEBAQEBAQEBAQEBAQEBAQEBAQEBAQEBAQEBAQEBAQEBAQEBAQEBAQEBAQEBAQEBAQEBAQEBAQEBAQEBAQEBAQEBAQEBAQEBAQEBAQEBAQEBAQEBAQEBAQEBAQEBAQEBAQEBAQEBAQEBAQEBAQEBAQEBAQEBAQEBAQEBAQEBAQEBAQEBAQEBAQEBAQEBAQEBAQE=",
          "dtype": "i1",
          "shape": "8567, 1"
         },
         "hovertemplate": "latitude=%{lat}<br>longitude=%{lon}<br>price_per_m2=%{marker.color}<extra></extra>",
         "lat": {
          "bdata": "2Gc7xR8pJ0AhvX4zWXknQMlAZycRMydAzxxmZDI9J0Czq82KmB8nQGQ6AJKT4SZAUmT1sI8iJ0DWJiYTljMnQL0uKS2+DidAoCJ3IfQ8J0DEEpvBtG0nQEbmCM0BGidAdiRw3HA0J0DOKTJKAQAnQLRplpNTGSdANxJTPWBEJ0ArD3VOEPAmQDKvog2zESdAqFD3Ch/5JkB4UvSyhRwnQMm9cHEwTCdA0VT2cpAFJ0AEfoKVdlInQHYxqrSyMydAvGedqlgnJ0DUgfkRKTgnQKTJHVNQQydA42/kQNQTJ0DOF28FiiAnQLCy4Rfv/SZAII8NAN38JkB3xBj1HUgnQJ4xg5cm9SZAQNhN1tBqJ0BfRwcLNgEnQCBYoCcwRSdAUC1RaygsJ0CFpeHKOVonQNsbMMj4ACdAsz/lIhb1JkCiV4AwefImQJ5pwardFidARao1rmIjJ0AeNRmIdAknQBHS4S0Q+CZA3DlYxlj5JkBsrzJO1vgmQLz6Qwnc9CZAbHTtVEjwJkCrlAIWrQ0nQFQZ+3uDVydAzyL6aXnlJkCuGE7eQxgnQJKANN2UHidAxiG7kM0eJ0CpR0+6fxInQLdcRES2DydAOjiThggkJ0BpKCqALDQnQG17wujiMydAIjXvmB8XJ0D4wW7wURwnQOzM0GRPHydAx7bnINL0JkAiuJQVuFknQGHlOtUoICdAEmn9WRM3J0CkN7SbnfgmQN1FMjGoTydAfI/uUNT2JkBceEBP6ywnQJnLkQNM4CZA1Pyez/FRJ0ChHmMLp/YmQFA2aFzvASdAJQkv43weJ0Dk42EONi4nQODL8zhjTCdAPtlRinIQJ0Aws97DhQ4nQAJRy9NWXidAdrmE8LoFJ0C5ZfvIOiInQE/86YhvDSdAFuonwopLJ0CwQ9hDwh8nQEPq6jfYASdAdtAhLSkcJ0AoGAswHBYnQL9Ck5GTZCdA06ZutGYdJ0CoSrvrcewmQHoAaQL4MydAZWjDE+R4J0BDuFMkeDonQPPqXVpgXSdA5LxnkV4aJ0CO+RXJKRgnQCSdp0c0ISdAtQ5ScVwHJ0BDQ1cn2QAnQPkvSoq8XydA2haZDQkMJ0D4Q3ZAww0nQEeiiwKeCSdARif31DT+JkD1NFiPLTYnQN7rI96gKCdA5Rc1AVEqJ0BBFyTpGesmQG5tPkbiJSdAjZ0R3akXJ0AnuGGZUwwnQFTXokl8LidAaaQaCvBIJ0DdaEs0xO8mQJ6JajE7HCdA/poW2ztAJ0AIWS2yPUsnQKOLkMr5/SZAWieqBTUUJ0BtG9wTi/AmQC50F3OlJCdAPTI4ESxLJ0BVSpu9qFknQIEPxVP35SZAUgtzOYlQJ0BgtfG7hEknQIDgSsik/iZArIqdCCQ5J0AMo9HEVB4nQCrIT7iVBydASMrI6ARjJ0CAcctCTAQnQCBu0G2gGydA5VJ7OtopJ0DFSPrTYBQnQILBWIUNPCdAVWmnk18zJ0CkmwTZvHInQG0RqieWTidA/2qipFjxJkAn9mrRWy0nQGjQKLPo6yZALZ9Bo/k+J0ADdFEikR0nQHiyx4vp/yZARriPs9tHJ0ApIgED7DUnQCvK/zfj9yZAst9aVkAiJ0Ajw207rv8mQKtN9paJHidAGi46bfX7JkByxf+sqB0nQAAIIvnhBidADD7G3/cxJ0BpG5fgoRsnQPhcGcSMdSdAH6EPQ4lMJ0BIvUT5+CInQP1Wo5s0EydA+KzGnmhMJ0AnSyOtV/8mQMuD8IEnGSdAoHh9YGJAJ0B8HvCW6gsnQBzDC1uc7SZAyjGiGanqJkDjWIisTR8nQELJ7Wx3HydAwCCGTzwcJ0AvQ4pLrQAnQGYxPWg7GidAMuJC/z4nJ0BlRBLwxVAnQI8EPsnv+SZAuufkuz9DJ0ADoUO4mGonQMmPyfs9DSdAjCv2p4QKJ0DwOOI67AQnQAabPwRt7iZAiZjtGor7JkDvqFniz/4mQIIDFybD2SZA/aHRpVsBJ0BH6ncorVUnQIeOkHi0+iZA9fCHvoFGJ0Dm0jf18jQnQCgeSQ5VFydA/pD1WxcaJ0Bj9kHcJB8nQFMc+CnZHSdAWLasEmbiJkA2LODyQSMnQDK12hk38SZAWhPaTHPmJkCxe3vNcfkmQAZJlEdoIidA65/V5LYHJ0A05elEDWEnQIVme8TL/yZAjhOJrUBiJ0A/pGfJuxgnQD7wnt0NGCdALitSu1zrJkAVjdDTIEcnQPSgJbwAJidAM0osPiA8J0AaYH/YmxUnQNYL+S2nNSdAgjnOou/tJkBJ07H7SeEmQMFjb595ICdARgIJO6TmJkBD8VZDzxsnQJYNMQhqGSdAscn1ZJLnJkA7GEAhBT8nQNHEs2lpFydAYofUyFP0JkB3y2/0sFInQERKWoKs7SZAzrTRq9cyJ0Csm+QLbl0nQIGQfpi9FidAlnLftNAuJ0Ansbn1b00nQHn30gCAFidARCBOjb5SJ0CUT6/RgBAnQIln4vJFBydAO1qi3RVZJ0D54IX1xEYnQAqxx8v6HCdA4dLJOPsfJ0AcOPr1qhAnQA53qoC4BSdADSrMWQ/1JkDBnQ3DxSQnQGSbxVGuJSdAJff2IDIWJ0DL5LyDmBcnQPCzqZhQ9CZApPQ1JPoeJ0Cfy8lK9R0nQK0S/67wKCdApocNYSQBJ0AwM+GhzxMnQPYrECrx/yZAmxWTXrgRJ0AAUCF4qignQFEhrgCR7CZA76eh1TocJ0C7mrHZmBMnQFB48rDv/CZAmfHCNcElJ0A9H+7O4wQnQMzT5feQ+yZA3nWpkcoPJ0D53dgC9RwnQJJxeqXXFSdA7sEIy0H8JkCIE7K+OfEmQG08F8rxGidA4FpEJbAUJ0CALoU5kCknQBVM8k8+9CZAgh8BEtMnJ0Bd8xEQX2snQJrFv7bUESdAUdHhRzNCJ0AZgmwSavsmQPiRHp8e5yZAUVJWqtL9JkCdB01a1uImQPJoL2pOCCdANkQxWhg5J0DEt7eYU+cmQG4FiRHnUSdAdCGnTDtXJ0CRap21e+UmQK2e4SVdJydAhTasnKYdJ0BHIc+8gRInQNpvy6tc9SZAPlFxS1EHJ0Bux+kOdwUnQDOg4wkzQydAlJla3TMLJ0Bu7deO1h0nQGSuZscHUCdA7U9palojJ0D0BACzGgknQPc3TS2tFCdAflB9xeA9J0DpYUX3dAknQBHDF8B/GCdAMdBBrrJGJ0BmSX5f4SQnQJTpuQeeIidA/nkt4TH+JkA/hbtV40cnQHugEFwOHSdAcrRRALUUJ0DIMysnJe0mQClFkXJR6CZATPXS02oSJ0AzqmADMvcmQAsn9X+6/iZA58boJdbzJkAxI5mYbQsnQH31d+dQQCdAjmIjM8koJ0A4UmGOtyUnQJIBn1wF6SZAl+9LCGfvJkDGpQsuywcnQN6/cLGc7SZACOwUG3EeJ0D6wP0kEgAnQNRLVqHe+yZA7EeT9J8VJ0CvHrPO9hEnQM1Fzusa7SZAZwSqvFs0J0ARLtevTyknQMo9x6lOFCdAdBrbskn3JkDLMdWL2ewmQFwHueGjBidAyFiwO1MSJ0CLKRujK3QnQFJ9X6d0EidAl0/akcUYJ0A/lbjHlu4mQIvAYMaSGidA3NfkUnAfJ0CS/qLxSfYmQEV6N/mvJSdAYkU0E7MmJ0BytYoZJPcmQGn/4dshAydA/SSjAj5PJ0DSLmMzYyYnQCrGsGotWSdAJ+wgh5IYJ0CLf+hr6SQnQCMnUugFJCdAdg5dY2gCJ0CVpADUckUnQJvy4wBIFydAA9uYYf0zJ0Cwk7VAvUMnQFjMVRaYWidA6mhCgBgXJ0BJRv5tAjsnQM1YOw4wQCdApZhOFDVIJ0D0Wt3TaSgnQBjfKO2CHCdAaTU2378rJ0D04JXU+d8mQOdFvVVmLydAmggw3Ur9JkCACyp4+jYnQLEIpj9jXCdAxbLgRyxMJ0DHIazROR8nQNeCect97SZAD9qbIMYVJ0AOyjVRj/MmQCLwbRTB+yZAbPwEFcgVJ0Dxel+fHxUnQDD/SIkM/iZAqZkP3gUPJ0ARqtdsSO0mQK+YFPay+CZAHWm0vK/xJkDWMnTdHRknQNw6AvlE4SZAJldxxIMOJ0BvV+5lCx0nQP7QPtPLBCdAaBJT87tnJ0DN0pyj+w4nQAfvfOQRJidAqUTRPyMjJ0B5ZOFqSAwnQI9sbO+6KCdAois2cNQgJ0B3qa8wJjUnQCO5Q2BeDSdAj+VXKowzJ0BOyjS9sCAnQAu/Oz8O9iZABC8yHR8yJ0C3Q3aWsAYnQAaMeXgDSidAvl4oxdPkJkDIbRGSDjEnQCCUUOl8UidARKh+Rv/6JkAXahsL9TMnQDvIQ6Qu5iZANFdxYZnzJkD8bAjRBf4mQA+7V0fr/CZAlVlTTvAIJ0BSXbh+6fImQGxzFSTr8CZA2sLA15QEJ0BCMwNhcQEnQHn3kcNBQSdAJiPdd8VcJ0AwEd30Iy8nQNFIy+BgIidAGcxS8MQoJ0AMIz961TknQBtulg0RICdAabJprBQwJ0CoaEU0MvQmQP/SNjZJWSdAvO28ndkIJ0Dcd2zJLwknQJrKaGC+4yZAEWrbJTb6JkCx3BWHPB8nQDnXWClGIydAXHR0nlIbJ0BG1kRgNQInQNAdpouhLSdAu6BNNQdVJ0D1BiCwguomQKjkIMY0MidA81HJBVgEJ0BHEcsXYuYmQIer2PHh8iZA0zJQFYY3J0CRQ1hM2hYnQFG3OPwrUSdAt7QPqsRRJ0DlZprasywnQMUgo4IOMidAGqs7dJ38JkDNA/jmH+0mQKzwtmrkLSdAfI8gMEIBJ0B63ZgQsQ4nQGI8jbLBKydAGUjY8GdIJ0DUa40mwFwnQJ680qIiNydAPsW4GWAdJ0DyhPz3tDQnQDGa6bMpFCdA3N/2R/0KJ0Ch0oL6DQUnQKA7qDEkRidAAr84vS3vJkCBXdOK+uomQJ/CajVXEydA5nx3dlkVJ0CgZM98gx4nQIIv1l6lCydAflg87NAEJ0B2DvmExHgnQJC45lEvDSdAYiIcw3cMJ0C0C+x2BRsnQDKmV7HG8iZAhrux1QUlJ0DB2eZbmxcnQADHFkigQSdAJN0yFic9J0ASyXM2sxQnQBSKL1P2DidAXtZyT6j5JkDI/sGkRyUnQCNDYJxu5yZABviJcL73JkAz+B6AiPgmQN8HqkQ+TydA719qYzADJ0DnUhgBdR4nQIRWRIpdECdAZXjhUOlRJ0Dy8CdFfRQnQNx+6Tvv/SZAs5bNtjwUJ0AB74i1WAgnQHimyf8tMCdAreeR3TQyJ0DIIjV30WwnQGxA9ey16SZAtW0ybBY1J0BHGtjhqi4nQP0zzESSbidAVC8UrfYsJ0CeAbIHhW4nQAcmDXeqaCdA/a3V/aAjJ0BeG1V/GTYnQHVgXbWi6CZAVhgj/SwtJ0D8g7bUxiAnQBa0KvWV6SZAnArbZP8fJ0AbAILvHUknQHb2HwO0OCdAmxNF+/b8JkDG840wSzsnQBNsrGmLCCdALKZykSQLJ0AX0+/5huYmQGKGsVSYJidAaweNrgQwJ0Aoefs4RvomQHetAZhs8SZA8mcpO2cHJ0DRYV5W9DknQIvfbfaSCCdAOyF2LsEeJ0Bn8uR4VisnQKzPII71HCdAp9V6LVVSJ0ADLLfidw8nQLo4kIQ3TCdA/IDgSJD5JkAgzb0x9t0mQFviF8gM4CZATkNgP3MvJ0C4BgdtVukmQHVfCAFn8CZAU4ry1Zr6JkCDpvncnConQFSiK3qWOydA0QhZBtUBJ0Be+iMRag4nQIcy2mTQ7yZAeWcSKBgNJ0ADgmu+iBMnQI99ejEg+CZATcXoub5cJ0C6ESrSPvAmQE95e786YCdA4ZLRR7zkJkCYzxq0WugmQL9bPQCWIydALUadzbAPJ0BNVVeVA0cnQOa3wlHoCidATO0EOQ0+J0B4vxskw/MmQFMzV8f09yZAZh2wIhMxJ0BNRrqfjiEnQL3dL2o+8iZAIAkcor3dJkA4DGpPGBknQIeB97RLUydAnFjPNrX/JkCD+Smdm/smQOrpcPuJ7SZAiUD2HGonJ0BvmACYsOEmQJU6FeSyIidADD/7lkNGJ0CP2Y7T3BQnQAyEGQXRFydAr1CspDppJ0BkzkwNLtwmQCnXzvRfFydAnZrbG8JhJ0Aw+wUTnh4nQPllCWZWGidAoUDccDHdJkD07iU5mVEnQHqNjSrA9SZAjO5sj2NPJ0A6YsFReAwnQMIJSGOs9SZAHIgitgUgJ0CWWaoC4RwnQJaAieFIZydAc/KN5cUnJ0C4HzYaEhonQJHNcP0b3SZAC+smcM/eJkAo/2AWEhAnQJuza9+a9iZAAa8WaivxJkC9EQmfmvkmQA2/wXLSbydAeu8VvZP/JkD/2XZWmPEmQARGWhu5BydAYQNaBcAcJ0D/y/JWcWYnQPCngIbtHidAE44oBq42J0AEvWn4igcnQN3WI3QQ6yZAvfqqV69RJ0BoV/zhYkAnQMBTCQZoXSdA9NATO6v0JkDfBaRPGTInQHKYdGsaAydAbkBGwFj2JkCTzOYW8jAnQAA8cjvQTidAqh5gqjdtJ0AdVR1i4HAnQPOS5nPXGidALEFQtPr4JkDX8PDC3fEmQHEncug2GSdAqolg2j7xJkDUcBAkmwAnQEsNJEnqVydAVYAqIXccJ0DpmNA2N2InQG/Upax7HCdAqf6IVMQjJ0CRC0Ir81wnQLw2rQ80UydAdyuCddY+J0AJZOg2Mg0nQK/TYPFmXydApy+MVGw/J0AedX61s/wmQJUofu1fWidAiotIfIQiJ0CGbo8iBSAnQC+rpud77CZAlPrpYP/6JkD1rhgSwfEmQOWZaiFV5CZAJBM0BHYMJ0CWHbfiHPcmQCsDO4mqVSdAQyjRC4MQJ0Bx3W1w2FMnQLXe1mjeNydA3aRPUDt4J0CDqmTU9xknQL/sXqBSHidA2hAg1yI+J0D08eKruREnQMgJnKn38yZAbnQXVS3+JkAOHhEM2ekmQBxPgESoDidA1LLpJwAiJ0CrbYZxMu0mQEz8Dxxh6CZABBjfNBdHJ0A7sjYShQEnQLSWtFWyOSdApcwG+DH8JkD5xPOHUi0nQDPuwuxnVCdAHBtm+8BMJ0Cv4t5ozPQmQIDKjh19PidAFgIPeM8nJ0B9yrpSX1AnQC6aa3dxJCdALXfpMj5QJ0CojO8cmDUnQI98nR/J9iZAIsIMBG87J0B5Fq3Q0UUnQK0A80g/IidA24/KSjzyJkAfLPfrZywnQCMnQafnbidAhjBQpYsWJ0CtaG3sqNgmQFNPk/2uGCdAojMZfrPhJkCghUYtOgAnQOd3wBUx5iZATmA4fioqJ0DX3t9ClEknQKvoSX94+iZAiTQiq/hWJ0AFAyjyWyAnQAHkfFa0HSdAIovdQHgaJ0D44I2T/OsmQG7f/Ry+6CZAajRYBlPmJkAVwbuOjzInQCSg8XRPCSdAseetmZYZJ0AjvChISP4mQFRRJLx2DidAyfLPbCkBJ0D1ue0KQ/UmQCVCztIq8iZAZcU3lHIAJ0B26BrtvhUnQHR+/WSEDSdACIcjPPT0JkDzmEvKS0QnQOpCyFMnFydAGO5aPeYVJ0BaJlZB9kwnQEGYQCLKSidA4E3GGVccJ0AZEm53yxgnQIkGF8B2ASdA+v75x+sbJ0DfpOXGyCUnQD6KAdwCJCdAHUnjq5/8JkApejXYYkMnQFfbeSygGydA6I8dqw0fJ0C1i4f2FBQnQILC5vyRbydANiD6QGUnJ0CKRp5o5iQnQOMR6gBY1iZAAGrfgDXpJkCeBE+Ro+0mQItyBGTh9SZAFJRk1XYtJ0A3M2HiROUmQE10UvHlFydAec4WKfJSJ0CbF0XCDO0mQOpfKexK4CZAsOvpCfwPJ0B9lvZNGSQnQNyJirDn8iZAw8v3emAjJ0BdmSzcchsnQMT0K3TrKidANz3E9kDqJkDcntqEHTEnQM8eCtHe/iZA5pr9k8wjJ0BQ13Wy6FAnQBswHzuVNCdA2XX9rFkUJ0DtWPOEjRgnQJq4Uzq/9iZAIDHHlv8hJ0B5DbCYdB4nQAgXYJrhJydA0+7WfmUcJ0DA3qUWBfcmQJZ3OASH4CZAkZXqt8oEJ0CLfw4sWRInQPEgo0atFidAh9fPd6MnJ0CaRa6HmfgmQMxvCtBiACdAfHJg2nY4J0CLkY9E9GEnQIc/94nQBCdAzPyCNqHaJkB8ll1S8fAmQNim6i9N7CZADCIodNDoJkBTwYPNrQ4nQJsRKhlKGydAueL+oIn4JkBJOhdLsO8mQFqdVgs65SZAjt+CgNQ1J0CGp8gVnTEnQJXm/jWjJCdAlW+7ImYQJ0A0lulHVm4nQJ1qhY8i6CZAnOLORo0tJ0CO8nyzAR4nQCiv6UxpFCdAAAIRrfwfJ0AIqArdzlAnQBZAbVySASdA5lvrcbJvJ0Cq5P76d+QmQNUv3E9PDSdA8dciUrtDJ0CR3k/aU0wnQMdpkVnuDidAPXfzdi4OJ0COAMWmnEwnQCg4PEXh/iZAxrzreXJOJ0C67JX8RDEnQC38YoUHFCdAeRO47NsfJ0Avpc4n0jMnQGdQtZRQTSdAStuM8KITJ0BIqlvRlf4mQKbx5nnuHydA+15imdMOJ0D59d2l9RAnQAty9ft5KSdAisB665MAJ0A0vurXdlcnQI99giKUcSdAwPaobBIzJ0A3YtnqyEonQObSntGR/yZACv9teSohJ0Cm5kJvAkonQNtdFvoE9CZAuk4s/M7zJkCO87MWr+8mQJoa5F+mQydARs78LxtsJ0AJANuVZ08nQGe4iXmh7SZATZqflfUsJ0DGKZ7kqhUnQByQpZrgXydAPHfPntsZJ0Am1CotjB0nQMLQ5kOP+yZAAEJywGT+JkCPm38aROEmQBPeAzKb2iZAtL3qStYPJ0BfsZppkDUnQK9Y1aHgEidA345FTLfvJkAtB/pYIPwmQPpLcfIK7CZAeCF8pt8EJ0DiFZxZfAYnQKkMF31g8yZAIkDHYO0QJ0AgiBOmHe0mQB5/TeCnLSdAAr3xoAwoJ0BUlRuE2V8nQHgUzTCGISdAY6hpGCI/J0DqYf5CiRonQFCKTaPm5yZAFHp2ZC0oJ0AXcW5XgRInQBXHp0qV/yZAE6D8EcnoJkC9ZGxCaBEnQLFYMt8xESdA8YemR+oBJ0BBrCVOEU0nQGDv/oVhNydASuJsRLFLJ0BuOojDpQsnQCDUhdHW5SZAp32E4ztEJ0DcBLhUd0UnQO9EKqHwaSdAZjdcvP8yJ0BveFLUoBsnQJo7nPVZ9yZAmKSfrhEtJ0B8ThMWTC8nQNZ8/xMhKCdAsoa0WacoJ0ALOr0/lFAnQMQKnGl1JidA+JckYR8EJ0A0sOKe9vEmQOuxfgo1NSdArT3jdhT2JkBzk0JVjhEnQPXuTKWENidAUTD4/dQxJ0DB5o7qjTYnQCNQ7nQHISdA6aH+/SbuJkAlE9qUBQcnQO4TTleAXCdA10RzWSIdJ0DPFQEegfgmQIkmBp1MAidAgAFB890FJ0C1xEC7yiwnQIwXOMn+GCdAYgtyHpEhJ0B32tlf2PAmQNdYrNHp5SZAhA8niI4gJ0D0bCY10RQnQG4OAUXTJidAsLEam8r7JkBkwS0msP4mQOOSyaEZBydAeHclMboGJ0DNUs4ellAnQIXaGBh6UydA4TcJrBT8JkAsRe/MWzQnQJosybf6DydAq3fUj8AaJ0A/YSba6E0nQFBd0ph0JSdAVsitnW8hJ0CuiHP1GiAnQPfVuagqLSdATPmfaCnvJkBN96CTPhknQO+fCoxMACdAl811D0MlJ0D2SimRrF8nQFvBBbmmOCdAdCjBvojtJkAH78CnxecmQKO9UYH35CZArDEzJwoeJ0D1zD2YJuImQNf0CoekJidAmz4/MedHJ0CSRH3qmxUnQEL8z2GTIidAZOOdG4AiJ0AmGpJB2uomQJSn12eqGCdA15Q6GhwmJ0BUScD7OzcnQPl07pCwGidA57quXi8bJ0B+K4fDPk0nQA8PwU7+DCdA9pLl2b1WJ0C0GTkjeGQnQJYJtBglHSdAJMJhkhA5J0BGffjPmwInQJce67a1ASdAWr4VFmY0J0C6gkLNOPQmQMTtDN0X9CZAHQMFDzwYJ0AXefzDN08nQAT0Fc0q8yZAnpWjoPpTJ0AKWQR6D/EmQJQbK5669CZA7EkLr0lvJ0BTJoFeqRInQANrkR09GCdAFpHwQEVVJ0DRFHFk0DQnQCcdLOvc8iZAiXv48ABfJ0BlUt6M3EsnQNaniOaUJCdAwP8O5nUhJ0AN+/ozHSYnQH8w93iw/CZATN5bOHcPJ0AopiJoIUonQGFzWpUUAydAIorPsa1DJ0B0umR4EiYnQH+cMYLl7CZABtnRI2tOJ0BR3LrXxBAnQD1Oh5UfGidAd+cXwC0XJ0BHEhEJQB8nQExonvXMOydA0qEtYmxwJ0DJ+RseGPQmQPY13vk/EydA2zs00zAeJ0ChIoX4Z+omQI6DcZUAIydAJ7rZy6LvJkD73LhrneYmQGujDa279iZACGyj3UVIJ0CKChSRJCMnQBCiYtb7PCdAG/eC8YLxJkAChY6+G0YnQBGGd3k4JidAwzJH4zzhJkAEWiu1pv8mQO+ZYqEhEydA1+A7eQoEJ0DUKlIe4AwnQOjzTcyDMCdAOvIKG4/dJkDFnbLv0EwnQLiwa7DPBidA4hdAIE4mJ0C8FARY8xYnQK9mmboKFCdAh6D8XgJIJ0C19f4J42onQGIQtUPUXSdA0kLNohwZJ0ChxicKwOkmQA+Bh5iMPydA2ip40VsaJ0BesxwQ8t4mQBden5Fa3SZArgQa2DMTJ0C6pCc8YiUnQPzn1GN6FydAwW261gUdJ0DDc3IISucmQFZO3NidJSdAaQdTny0SJ0AcFiQ+FeomQCQaKldU2CZA5y1JyjrwJkC9LVgi1wknQMZxHVx1KidAH8NI9kFFJ0DPQ+qqey8nQIIG7tL56CZAe5UOPUrfJkBazPxnPB4nQACUYucUFSdAjHWC7ikHJ0DDaV6BwHAnQOQfL0un6iZAd8gDmq0RJ0CTxK7EbP0mQN3TX5ClLydAAenGwLn5JkAItlwy5TQnQMmgDhW69yZACphjluTkJkDzfYUKZ2UnQGf4ar3H9SZAL/o/1232JkCd0DAiYxwnQKgrMZlcYCdA/4/hpmdiJ0ACd2shQP4mQLfJHfn4NydAi3TmjZk3J0DCedsBbhknQPxXKNmHLidABvtzQVMJJ0CvaOEQXl8nQPxUuXfn5iZAhyjxqdghJ0B1ECkA0REnQEXTLms+1CZAVH7qM70rJ0AWMwTyuSEnQEgn65LxAydAuZaSlZfYJkC/0SOaJT4nQP0AJBNZEidA8bFt/i/aJkD6OkFSgAAnQFiXSLQa/SZAlWzgZQ0hJ0BuWsSQXyknQDcmsNfSGidAbuCmWVYtJ0DpERTRhy0nQPFVvfun8CZAqZq5pA0JJ0ACn0aoXVEnQJPSj+y38yZASl2Wv0EOJ0BKnuR2lwQnQNzap1YsHydAoaWEJccFJ0AFloiYlgAnQLitXK8gCSdA3X7MkUhkJ0CwZu9B4+gmQEfrmO3jFydAGjlUXdveJkD5oZL08SInQOtt58HmTydAAb+qnMAzJ0DPy1Pi0hgnQPUWrbLlUSdAcH/W1Dc3J0CS7UsM6kAnQEJgyimj/iZA0jHabRUJJ0AJgCESkEgnQL9LKJkLRydAw6/iGjcUJ0BLswzM2yonQGocdH5gTCdAbNPnXA0vJ0DJS659EGknQH+Kvv3aSSdArX8KkqMcJ0C2O9RkcDYnQFIMUvzzISdAZu2fT080J0DbxyAQcPsmQFnQ9H4WGidAu96ek0seJ0ADxikeXFgnQPmbi3jLSCdAoh39rrDxJkAUqGd4iN4mQKVRqYeCKCdAwPSlA9oWJ0AMoXOUDvgmQGArqsRmHydALmjy7McYJ0AtIk07yBgnQEEXoMDTMCdAQr0i2zw4J0DWLK8JlC4nQLRKTVbqHydA2Ge431k5J0CVAzMJiBYnQF+w3UXFSSdA7Sl7EGBIJ0BnHZ5WQCAnQEMVt/MiDidATg/ZxBAPJ0Cjp5qsEwgnQJ9pkFLeUidAMWU/qkZOJ0A/RpjKUCQnQMBQ6we5IydAvdP+2HEdJ0A4q9KB3AQnQA39DowkMidAQJIP5CL0JkDxUrdGnlQnQK0YBpB29yZAloeulENIJ0A49sT5iwUnQNXvltc9XydAB6p4qiUhJ0BY1NPP1R8nQOvTIuXGHidA4fYADMYLJ0A6Q0i8WiMnQNuTu9heKydA6YNQR5wKJ0BD19ux/T8nQDsLsYZlKSdAereJOIH4JkDlmMhSfP8mQC3OycAGBCdA7N6h02UJJ0Bh/CIKAysnQPT4hejtFidAHwChtZ32JkCGmnFPrfsmQNXo1WZvFydAZDsD4HYvJ0DA+tsjn+YmQGo9ZvRtVCdAv8oBi/MyJ0CvmeKU+VInQOUPy5zhKCdAotd07c3oJkAbAIDmsQ4nQB5FHW9BJCdAR6ZXPYsiJ0AQJ0YsFv0mQOx0cbW/JSdAiKf6c+9nJ0AvKcGYLEknQBLOwLhB3iZAA8Q4Z3hyJ0D/gQI9Xx0nQGCfgMHxPydAFvn6fpMXJ0COum7FYwInQGjZQrnc5iZAR2Et4oP9JkD1+AVD1vAmQCO2BicuGidAqfqkbLU2J0C2xMlZt+QmQFMtVJVo7SZAtwUaiSH2JkDSwBn0zfAmQFKHXFjTRidABoFfYoQhJ0AfMm8b9RAnQD+TVggZ/CZAWNDMxzVTJ0Ai3ZppE/wmQPG3KLDB8iZABjDp9z0qJ0CpKm9Znw4nQLWuEI324SZAxBTMSnUXJ0AWX8YuciwnQLXgcTW+MCdAe+Ck3XEDJ0Bbe5yaTRcnQDP7P4SZNidAkoexQw4rJ0CD5jLHVBMnQDOdU2NTDidAnes5uToGJ0DY1D3YrPgmQBRHETr3ICdACz+Wi1kQJ0D5nBH+nPomQDqtNU3I9iZARBD1DFIDJ0DjhctN5gknQFoevHngaidAF53fZZImJ0BlLT2ywzgnQKdrmzZJECdAtLdsCsbcJkATYWJ6Y00nQEjVaymP9SZAfflIzIMoJ0DxoVcP2hgnQCVRgtfTJCdA0U+L2K/eJkA5sf0ExRwnQGmQHEMkECdAtgyYIUIOJ0D6hu2b0/UmQBGC7J7c8iZARzsrKWQ0J0DOgRs6fEgnQFQdlDpmAidActhQOZUqJ0Aeq5nGDgQnQLeN1gRQWidAvQYfYGEZJ0Cg7gTkbz0nQDxAUfcnTydAyYV4mH8fJ0AEbOk1UTQnQHxKmazfbSdAeiYbi5ZYJ0AzkocZUvMmQJ0vFdZnDSdA3oiAnsAUJ0Bmla702RInQG1sC1NyISdA21XEeMofJ0Cld4jFIwMnQMQFqgN89yZAY7j1SO4CJ0DgWLAfMiMnQMYVBiHq3CZAAiWlIxQLJ0CK4IXuOkwnQKTBrGHnMCdA/al8SKpVJ0BSA8dQs04nQOwdjSFG3iZAfOr0rkjtJkBUC6QFKycnQAtMa8Z5BydAandxr6ZAJ0BqZ6OPxB0nQOeCZiFHEidAHYV926NuJ0B/fyr8xQsnQBkAqHXLGydATlZmXVQGJ0B9xM+lqUYnQKHOy3evZydAEYjl9sv4JkDYg2WrRDAnQBHfEV1G7CZA74k/MHkZJ0A80lXNHQUnQArC4xl3ECdAHv9ST/UuJ0DV5Kq/wBsnQN4gBwS0RCdAmAsf0UVPJ0D4lwWZwg8nQLFOTDtNKCdAQv2oN54ZJ0D5Uk/sqCEnQJyeGD6K8iZAdwMt71pJJ0DtnoAA0+omQP/hzTjXGidAW3IGZ4I7J0D7WluBKxEnQOQ/kLlYASdA3qHnWzoRJ0AmFh9LoCknQH4UTTYtPSdApb4Fr5MuJ0C0GcPQ0DwnQO1EgCaH8CZA2kJf3WUkJ0CFcvJe5+omQNS6KhgmWidADs6vzdgfJ0BRxoWCUe4mQOozjSSJ3iZAb1jp2+gZJ0BuUegIOv8mQNDc94g5LydAc0Gk3CL4JkCQdwS2OxgnQOg4VaVwNCdAt+Fy/PceJ0DThHzDa/YmQDgkANplMydADmGpD2RLJ0DYaRIWIwQnQJrMNzFDLSdAJ2i2ziQ8J0AoHgtWpRonQFr/D5PdFydA3tOkyfH2JkA5G/wsQkUnQESomXn7bSdAsb9YJHMMJ0D9IPL/IE0nQOqKz5e/BidAQt3aeJQjJ0CoswOeWh8nQC2g09PaOydA7ErfYxAnJ0DYlWt65mknQC9VgBaYHidAZh6n5tv+JkA1fadAWEUnQMp9Dzkr9CZASMt3Rk5DJ0BvI8sngPEmQMIBaICdBidARO4YJwATJ0B5eSObWvMmQGPfzvMM8iZANmb37a4cJ0CBr04aDyonQFwYt3IBDCdAH4wmxlwqJ0Di/tDM+OsmQDYuyFNEGCdATeoAzhAgJ0BiWGLpA/ImQHNCVKa9CidAq/vakfs0J0ALssBoeO0mQNCl/SwTAydA/97ofPr3JkAFvyTEITAnQBLACTc3ICdAszCF2EQlJ0BIbO5g7v4mQLSKb6FxPidAc1Ctc+jkJkCSGX8nAxknQIqUDWv4+iZA3zLZcvhWJ0CTXKcR9EUnQI9YygjH9yZA494OSMoXJ0AXMJ7g3hknQN23nlEVbydAG5BjWq4zJ0AdDqTMkgEnQOOS/eaVBSdAj0NZrzTjJkDO3GoTmFonQOF+a3Lk8CZAFtfrqKgNJ0CGCst5M08nQEHzHaZkBydAgCAf0NX0JkC9yYt1wVMnQMbqZCWt7SZAV8xj8qVIJ0Ddz6xzkAMnQOXmwu5kHSdACjToURn7JkDFwdeX2hwnQAd9J/x5PSdAwbg87O4KJ0ASgNmR4eImQDmdF0pSaSdAcNUOfQ3uJkBsQVV1AQonQGq+U4rwOidAJHzGu08aJ0B6+UvmRS8nQAu1f5cVHCdAQEduszAnJ0BXW6y05SwnQOiGJroFRSdAYf/cIvbvJkCpFXNLxCInQMASmG4NEydA7m/cOr8+J0AGORbhu0wnQKqpbBS2TCdAFjQKQ4EcJ0BQr/ioLSInQCU2BQavKCdA/C6qPj8iJ0Bps/Z+ehcnQPbiD74MKSdAXn0qcyMnJ0B920KZrgEnQDd+1ZENECdAuxG7TRgEJ0Do+0u9vUwnQNkQfeOv4SZAYCKLYC44J0CS8pBywgEnQIn1812XJSdA/aSsIf77JkCXIX6KVz8nQJcMSu/Q/CZAkFsPZurlJkA55UgfXx8nQAzJ8wAk8CZACxJvcxEBJ0BAuWnD0PImQFrkZGJMDidAx+TDxdbxJkBl6YO6NiAnQG+SBnTaCSdAgrs87wwNJ0Bg/mBjhR8nQOxESIxZ7yZABtvb0C42J0BuJSAuEUInQE+NUBowQSdA88rS4u0HJ0DBEA1l5xsnQELueHCZBidA3wC1E586J0C89S7u9RInQDkvYC6BQidAhMPFQBghJ0AA6aIuAlYnQFumI5lXASdAIxeB2U0ZJ0Bt9RaTyucmQOIHo8hvOCdAOSOhCiggJ0A+vX7PogQnQP1mxI89FydA3vmj6UHzJkAe1hhzTyInQI2Bfl4k/CZASP5WniwwJ0DKDHgkCP0mQLWB1Q0JUSdA3rkGw77hJkD4WViXElYnQNsPqZ/+TidA8cmavXBWJ0CpjzBQfy0nQD+a6UqtPidAOSpzJv1PJ0Aul6VWbgsnQLIwB7nk7SZAXvHuNiosJ0A7Vda84+YmQJr2v3mSHydALC7FweYEJ0DcvU47je8mQAnPN+6f+yZAwrVKneQVJ0AA2We0JRYnQPd06/w6ESdAJePdiMY2J0BQKTXt8PAmQHNSYLgyVidAkCnfaaD2JkDI8Qzgtu4mQFOa2xDVDSdA/iOmSLE7J0A1Ub95VfcmQImIeD72TidAgoarTAAFJ0CqFZT3FzUnQKzkdchI7CZAFddsLB9KJ0DCR155lgknQI0gLQULFCdA/jfG1XsCJ0BzjcGcth8nQAVsYICnOidA/Jr00381J0AenZT1gf4mQItS+LRnSSdAoxyUTPBaJ0BFaT+giB0nQL1qeRh5MSdANm02+7AqJ0Cx0SFyhfQmQJlWqgKVJCdAXrUbp3D/JkAGEUwuVw4nQLF3QlaZDSdA9V69TjUtJ0C7RUQFewknQPGwUt/cVSdAwKApaS0KJ0AZMv5zYD8nQGHZSKL9SCdAwlv1LKgWJ0AqBdRpKSAnQK4bw30RASdAwREBZARLJ0BzlSMOVB8nQALa/CvU8SZA6Em7TXUIJ0DJqY1O6x0nQACCU8Cw6yZAIbYJm0bwJkApeeUnaU0nQMp5qk/H+yZAzsODWsYlJ0BFR/B7QxYnQLqfHq0ATidAupkZQHYnJ0Av7tRglCMnQB0Cc2qm+yZAzyDO9X09J0CfvVMmiCMnQBkmOtV7ISdAr6/wxD3oJkAYw9+uVDInQOedASBi+yZA2IDWVarnJkB6g3jjgAcnQEpWGtNI9SZA/Pkhy3dzJ0BAArxAoDknQEMflMTSKCdA3TeMGAkAJ0D/QCaiLEYnQDe9NpDT/SZAZ/8EecpJJ0CyFJCoxOUmQP+gOqHzTCdA/183t39nJ0CVYjIVOEQnQPIdJniNFCdAcpiTzyz0JkBP6tMGES0nQASpgooOTydA1K8YSDRQJ0BFV7U8gisnQAPFSy8b8iZAyzzVQKMtJ0CS1Q/QTxAnQFx6uu52LidA5kFHYcjrJkAqeYUocAknQL0yaM8nGydAzIQpuTUnJ0DLas5TGB0nQMFEdISZVydAxutmgogEJ0BJ9YRAIAsnQMLdfoA4SidAqjAwQa4yJ0AL9HibiygnQJJWD0m/DydAz/klhiglJ0DIgCv6IRUnQE3h5Q69TCdAFxzkZyEcJ0Cn/vAcQzYnQA3RZx0ZEidAHwNVlzMmJ0B2sfiWDl8nQAUdqMN8OydAkisZKktDJ0BfDUXQZBwnQHSHlz5kaCdAiO+s/UwVJ0CNhVKixRwnQMgixHJG+yZAsH2TpV77JkAm/pOF7iUnQGfXHEe1FCdADK/TrOpIJ0DUbmAAjRYnQDlJ+DQDFCdAd+XHAGNDJ0A3/1RoIPsmQIFDv5aVHCdAzY+xQBBkJ0CyKYEnIPUmQFO0UPVr/CZAwdWpD8gSJ0Dsx2kDQEwnQJqnxwzOISdAfIuA9zdAJ0CIw1FFfi8nQJJaGOmAFCdALdZ/rvICJ0BfxzfDlwwnQPWSYlMzYidAsX8dPnZfJ0B8sTxqlSYnQKXJG/9B7CZAZ3Jm2dhCJ0Amznb4rOsmQNCmbVOTXCdAs43ec1hJJ0AmjEF1FeEmQDsgcGwY9CZAm7WHeYpDJ0DJBre+ryEnQK79fWW+GidA8vZoSRIaJ0CbY3noLREnQGplAAAn/SZAJl4leWP3JkCbXNXRKh8nQG3FGwHu+CZAz86QlMLlJkA9lfSyoCUnQIx9dxnyVCdAX82XKST5JkCvG0Ubbw0nQAyNr1i9ICdAXj4D8RMnJ0DjNCVYMionQDVm0KwdYSdAXGPmMMYfJ0DmRfVppywnQE5ax9mXXidA/8Mb6SpGJ0CUk1y1DEEnQCDojKaXGydA2YZNEX1gJ0DsMbjttu0mQAdHtiMuLidAqR1NZK9eJ0D9Yk10Ly8nQF9f6trDGSdAVZ86TMkGJ0Aau43pQ1gnQAyh4NzUACdASWS/0TDtJkDvEwV2eu8mQBPGIqiNGidAESP6ylI1J0CsQ+PDTOcmQHaWlkMv+iZAMadBWQ0GJ0BtKyngbvkmQMq/DEubIydAUOI3eNFvJ0DXuhE4Y/YmQHW/AyXeESdAGVTwHRwbJ0BXaWUweFMnQB/UVd41CSdA6NjjhTXXJkAZEMxDszwnQFu2WnEO8iZA+PcFtTPmJkA/XrvdblMnQE9SN0/vVydA6/MR/AljJ0Crw//lMTUnQHLMWNAg+yZA6C1n0EEJJ0CcW4LFFvUmQDEhb6ICPSdAYVY0m3X6JkB6xHOYWjYnQAhUG7iiNydAUyuAxWw3J0CuwsMgxWQnQHQ7slQKFSdApdkkmGgOJ0DS8ToOHDQnQM+6HrEbOidAtP2TQVkjJ0AWTjJCBzcnQF6phqvXRydAWMaeqmrxJkBlH1nb1dkmQP/oaZoqDydA/gRmBj8XJ0BFhlBtN14nQLG8QoN1YCdAZmqsM8H8JkCXhv0LoTQnQKTON83cTSdAcxMD/BoIJ0AfjChm/T0nQA43jaopcSdAtAFVlMgTJ0AwtM0VzGAnQBjoA+SCDydA+mwsCq/nJkBS8iLAqPsmQGyikttcCidAV7UadpZOJ0CJ3KaW9iknQMNjZTGU/SZASt3tWrsTJ0AU28jCJhEnQGlhNgPL5SZAP9wLBvcPJ0BdoMJeQD4nQJLXx/SO7yZAYr30xKYzJ0Cdu2sg8C0nQDBpUSEl7SZAOHISvH/1JkAJXxFxkAwnQBQJi9cAGydA0e1wEwb+JkD06pL0QywnQPtpZ66PRidAWqV60EQmJ0DD1mOJGBcnQAfT7+e99yZABhpVsjgdJ0AmAE+deQwnQCq51xLBISdA2tOpBL0AJ0CPei+NIkUnQIJ3P6Vi2iZAG3ZjtiINJ0CXPParRPkmQKheOpBhSidAuKmr97w4J0CBb1JImRknQD3JGHbyIydAlcM8QW8QJ0ADyblB/ggnQAokykAH7CZAJq8osKFhJ0Cas0NHvUEnQOjKCZkUOidA2H20qYUcJ0APXBN65GonQHuMEr9EHCdA/yYSgPoMJ0ATbM+5KzEnQE80xR2qCidAoTO0nUQ2J0AR2L2V7vsmQAMvC9lREydAX+q4iIAfJ0D4gYYU8zonQF7O+LVeIydAmrEDtjceJ0Ct7AQ8eD0nQHQSWbdKKydAAfRoWGDoJkDHS/evZyYnQCMeNagODSdAzQGT1B0TJ0DRTgkC7vQmQKiyQSD8ECdAJ983C+oFJ0AUeew4HgMnQMooojTEGydAVddx8kffJkDaDcf91jknQHxYocPoDSdAot3nl4sVJ0DejUMXEegmQEjXRnF/9SZA3SzKq29nJ0CoYC08ziEnQBJt5NvrJSdAn7G/TKIKJ0BND7Pg+TQnQBSaEUFzDSdA18YVNgx4J0D/VQjv99gmQGyHq51i/yZA/sa+uYr5JkAkCqhpNgEnQG/NqYBDFCdAFd0WcJ41J0DSr+iu+yMnQEVZrmV1JSdA9eXgou4cJ0DYAcprxx8nQGkx1v3I7yZAWLwE7DEYJ0DgmUlTClYnQBUEh4SKASdAiBAtLEoiJ0DM1ynMHAwnQH4sfHLEWSdAYMTXlWckJ0BBMK2Ad+kmQG55Xija/yZAO60LHcUFJ0CjSHjE11snQFgsMF85EydA1mYPWNHiJkB5WB/z7+kmQFH9ldiY6CZAvHDiTo9eJ0CBTwJXlQ8nQNTzlXoYcydAPBMVgM0aJ0DyEbllyuwmQKPndfzgXSdA1bZr/MvvJkCPOqWlC1onQFBp94azNidAJiMFuI3jJkBFUDCXiBknQMxBPM5TICdAC3VSG1sCJ0ArTISywiMnQCNRN6eS6yZATmmAMab8JkDR1btCJRMnQOd13/XIRydAouNrJMf7JkCQhwiDwlMnQFdEQvfpFSdAYV9Y2KoaJ0CykWktGBAnQEPGzFnRSSdAS4zIGyoMJ0Anhc0NpiMnQLqxPIC95SZAMNajHR8oJ0CQguiHww8nQJ6KWKqrJSdAZpe0T+kGJ0Af2r/T0fsmQL8sXlbaASdAhAVpVFFXJ0APdn/yqy8nQNfHc/dz9iZAVBBeRIviJkBA/RHTESQnQD6TXDWC6iZA7pvLkRgfJ0BP0v+kOiEnQFdtU/hTCSdA41fDHYb2JkDrYDIlSR8nQESCg+WVOydAueGiKbgEJ0BvHmZ3K1EnQNT2w1R/VCdALi6qUGZKJ0AvU7DDFxcnQObWo3VEHidA02Ny2oMqJ0BLJMnR0R4nQGSPjnO2CSdAl3leLg/5JkAES5h9+UQnQMRXAh6tDCdA2YA6sGPdJkDXqEOiXAInQGHgaOkxPCdA3Lhbbi0DJ0C66ronQRMnQEUa72sJDSdA0hVHOeseJ0DeJuFnRS8nQHj05PVS+iZAtUk9UcYmJ0D28hCM9fcmQHxzZ1E47SZA7UUtza8FJ0D30xhUiR8nQHKOt0CUNidAeHZYWxFqJ0CKceZ3AO8mQPIU6JJvDCdA1LbW3KAOJ0Am05zEUU0nQDao9SAgJydAjfFLo6k2J0BWj6GVRTQnQJnBi+Mu7yZAcDkk+EQ7J0BTHCCeLyYnQEY5cNBfASdAWXx/aMsqJ0ADr5zjjgcnQEcBd1RM+yZAWErdKRY/J0Ckxdjr5z8nQJlNNRlDOCdAdCG+rIQtJ0ALD0GRswYnQH/vA5QKMydAfDe4Fi4qJ0D0GdDy3jonQCxE+M537yZAwd1AhiksJ0BgJeXd5EQnQHuC4ZjlKidAKTAFqyIPJ0C6OtF6GfYmQIHWXpHlCidAytSJYWMLJ0AubpJ0nFsnQNcVkGRSWidA68xUTr7fJkAFNr8ZEjonQLxTcZ3QGCdA4r/1UP44J0CYTSCMAwonQBoro16DDidADAR26LX2JkCH1YsPzRsnQCoahFmn5CZABMa3EGwhJ0Ak1dBGkfkmQCuJ8UIkJidA9w6aJZIBJ0Bqi7UDFgcnQJSUA/QDCydAPeW1/Iw6J0CN8liIszMnQCb0mOMvCidAcEkVBRZAJ0ChoQdCzCUnQKEo/tgPDSdAWZ0iNzBrJ0DkIYFTiVcnQEF/WujtBidAeTmuMik3J0Cv8DePFQ0nQIwcuvfvTSdA3ynBlsEWJ0DXkPVGtBInQKA4AmqIJSdAuObJvxP0JkDYyd+MMSwnQDz0NDibAidA1Ce3j60ZJ0CR3cpfryknQHXWHkyJ9SZARZcBGO1CJ0A7eiNewi4nQLp5amLpTSdAq5yGpTAcJ0DdSQH90CknQEJkc1XS/iZASmAVTZ74JkAygsNXveEmQAMrEstjISdAhfGDz8QrJ0BwU3Q5kCcnQCZ1PjNnHidA+0eQzuRYJ0BgNfG+NvQmQGsP+YueFSdAko3Bq6FPJ0B81BUvohknQK5YK4qEJydAnxVR/B/yJkCpggDnDxUnQBHo0lnqLSdAhJ3tXvQCJ0D4gSbmHScnQFQaRsOuCCdAA8g6qgEpJ0BYbyoGZUknQKefYenh6yZAYuEjOC4JJ0CeC1oGIRAnQE/e7mcDUCdA77GR8nb/JkDmwCRRH18nQM3jDTgAJidAw8qO+W0QJ0AxtO9nQz4nQDWk3vAXQSdAaOhwlLk2J0CCRUas2wAnQO0wnZQoWCdAYw51pO4bJ0C0iWY3ieYmQJesWbF+OidAQiQmp7I0J0AyjHBBgDMnQECwFDtOCSdAocIlwmJBJ0D4ilQlR/gmQIAUM3ZS9yZANTaZd041J0CUpEnmuOcmQK2o42TXBCdAvdX82RoFJ0BJmZQ8TVUnQAXUHmDaACdAAMt1qozhJkCQ7L5avSEnQABNb7AnHCdA1Ba245n6JkDJRNcqDCEnQOrK+xI09yZAp7Mv5p0wJ0AviijWoxwnQFKFezm9PydA6cdJk0kKJ0B3uFGdsj8nQPmC1QBECydAfJ/AKSErJ0A0cVmvDOAmQNIeTnCXQydABUu8LjEZJ0AijMS5w+YmQCXYngzCOydA9BtWsDEoJ0C2EIuaHAwnQLiXYW32NCdAYoG4b6INJ0AW3sM0/jInQCnFWCZpHSdAVgJKuEoXJ0D9kOVWgyYnQJgnNwP1GCdAt48xQjFvJ0BK1vd6jj0nQDPZvgzubCdA9wwN1NsbJ0DfQbjdKiInQBU3rvqO/yZAFntLJm0HJ0BrTvxhGusmQN9+Uo/6CCdAoNC6pO1GJ0AOFD+Af+wmQHkZcGdnBidAeAtUorEVJ0DTwRsrXAAnQMJsXXFnCSdAHpimAY7zJkBZixj7lwonQFVGW7UA4iZAhqn1KDQeJ0CMPq6DBh0nQJ2MtgFv/iZAtNj3ElckJ0Bo4ejttBcnQB+x5xpeZydAOwWPOkU2J0DOgdZDig8nQOG4oRcVAydASG80elQGJ0CXcb3ZBSInQIeEnmHOKCdA/fwLf2csJ0C5vFJJXxInQPhXwXtrGidAN6uesD79JkAaGIw8MQUnQMpHyfepaydAfKTGAOsqJ0AznqOuVWMnQCOm8T7+LydAEdbtv8HrJkDNcrC+VjMnQAVLjV0U/yZARayMWVskJ0Ab323y3PImQJywhuIjJSdAEr5hPFzrJkCAsaKTWdkmQAtsZJGAZydAn8pHvOrrJkAEBhavrPsmQPrFYrMNQydAvbwIINpnJ0CaExjNIxcnQG4y48+c6iZAarA0KLD9JkCkMkd9eiMnQDkPdPuiEydAgYYKuB1oJ0D7+HCdtwInQA/iy1YUHydA/KJmVAAdJ0CfDxM50/8mQAp42amdISdAl4ecxvUSJ0CMGJSNRz8nQLJjMQ7cTSdAjAIWLIwBJ0BRiGD20kcnQIxacTXc8yZAFVmVH1LxJkDzYyBxVU4nQJuzxlXCbSdAbmp59OkOJ0CKpyRdcyUnQE5kONYiSCdAFpctThNLJ0BRF+bDQBknQGO2g2isOCdArsdF+RQNJ0ARKDyCfvUmQGD+FZMiEidAZpu2noshJ0BMIIY8pConQF9GWqz3NSdAvi98PfVgJ0AScH4cd/MmQOfHrsrKDydAXX88ruYNJ0B4uFMXtyYnQBZjP2CwFydAKz28eLfcJkC3/Vm/6u4mQFQYntLRLydA4tL14qgjJ0Aj/80pUwEnQI4cyKoFKydA9yQsUzsZJ0A5Z8E+4d8mQOXlNZ/PWidAaWK3NxplJ0CqdkNJzlAnQOypUyXwMCdAAmy9mvTpJkASbHCmbR8nQAmoYp/MDydAsrmqXZAeJ0C+t45OVjonQIzfiDu+/iZAwhJe4fkKJ0AljtEoIR8nQI8vSmquDCdAK//WlHw9J0CwO4KrugwnQAPvCPetJSdAQjvLDxwUJ0DoKlYeEDUnQEwiQRIeQCdAwDE6y2b/JkBw4P5gWRInQHCJfeC5PCdAK7R94YlWJ0Dv+D4bkBUnQMqkmixo5SZAEOHujC9RJ0C6/BQ/Py4nQDLkpXZ9HSdAj1/DzNIUJ0CyvV8RKRInQDWDJ9aeNCdABH8N3gEZJ0DCQpGHmQ0nQDHXFL2gTydAGemQjw5nJ0DIt0za0+UmQBYCiTjzICdA0Hzy32tAJ0DSlcn3oGQnQOqzSoXOJydAFkHOXj9rJ0Ak/zKB5CInQDCYd34xIydAK8mcwwUeJ0BnEeeS3fAmQGqSpDLcGSdAkDb355pZJ0CUVgTLKCsnQDra+mMQVCdAnFG3jwZyJ0BJ0nWSGxYnQPV44t0Q8CZAO49nxiQ6J0Bg1yquzhAnQGd8yuGPXSdAT3OpqAJgJ0CO83zZQwUnQDry0B3dMydApmz77IsaJ0AGQpq7SR8nQCj9IyYmUydAOQyV3TxSJ0B7+QRkEEknQH7ogqSMSCdA8r3+RPAGJ0CIuawiwyUnQOSstURiACdAUzYh7PvmJkBDoT5NqucmQMtIkPDoJydA9Ax9BzIqJ0CaiN4S4FcnQMdK75snOCdAIP11PZMqJ0DWuJjdFhwnQLrhu+8m+CZABW0LSm8pJ0AMP+uckC4nQKbi9sUOXidAfSdXEIXyJkDSxB7MUhInQMGvoj2ULCdASI/v4gYbJ0C1S+mp2k4nQFKXsuGB/yZA4R1rNpbtJkC126JeE3AnQJqE15Dp8SZAMWx/Onw2J0CZVyFwku0mQNLyH1wDaCdAgcQ1AI8OJ0Aa34dHskInQJfF8V80LCdAcgUFqRdXJ0CmsVh5tmonQDEgCcwfVSdAsf8oW3j+JkBhSvi4P0knQN7IvT7gKCdAZsjRdYrzJkA9kkaA1UwnQN5f7q0cFCdAIEOqEv7rJkBt1YkPYP4mQELBGcBNMCdAANTuKOlzJ0CxeTfwNA0nQIt+S/qA9yZApjnczlv7JkCBEG0qt/gmQA6hbXLi/iZAL7eIvrIKJ0CmmfAojyAnQBr+hjGkOCdA/OL0yR4SJ0ArmgWajw4nQN+89J3d8iZAic524lQbJ0CJPozjyU8nQEyDigXIVCdAy/Wac9I1J0A1I2cpuAsnQF/ebl2JJidAddatvYo3J0AJgS35nxonQKU3ooq4WSdA40VxljYVJ0AsnEX9ASYnQFkzlxT/GSdAKus7ZCkDJ0Akr6yksDonQN26p0KWCCdALZp4pl0XJ0BT/GwwqAInQA943LLBGCdAkf0iUUP/JkDxScNvKisnQJsBNNC0ASdAk2U4RU0nJ0Azth+wJ0wnQPJiSOfY6yZAO3HB0IT0JkAht8k1sPYmQJQYvfUzJydAj98tdmUfJ0BxmICf2f4mQGLkzWli/CZAcSIRBrpdJ0DRUW1BhRwnQF0wLPfxLSdARR+DT7AzJ0BiDt7BOiInQDUIjGZuFCdAfyNEqGIsJ0C3uVTvo0gnQLfFafxx2iZA+7pvAg4hJ0Aq1nvKdf0mQAtn/RZ8IidA/v4dFBEBJ0CXyzuj+R8nQC9lWxNZ9yZAuxNWL01DJ0CFNRQKGlcnQNb+Wo64RidA9cTHCA0zJ0B9z2a9hgYnQDG8K0WpHSdAydvoV0kcJ0CdQgyAnuQmQNVaJ/lDCCdAV3RRgbIdJ0CYuRG5nBgnQOuk5o8HCidA00O4jAbeJkArx0E/VxwnQFu9oiv1MidAFoVmKt0sJ0BJzDJC5fMmQLQIX/yl/SZAlY0b8QciJ0ALJzW+gEknQEKBAxkdWSdAaDmJPS34JkChnQu0lwknQP+5ft13OSdAwdAobpM2J0A6Z5KmqgEnQJcSv0vhHydAKsWtL4sjJ0CTIero2t4mQPuRmWafbSdAyIFTCtoMJ0B7yFXG1DUnQLOmwUTcGidA8dwgBYQfJ0CqQ1JghvwmQLi+N6+48iZAOVZpRG8VJ0DOoHilQA8nQNF1H6qC8iZAhVi2dI8dJ0ADWmqCUjQnQDWv0Ak1BSdAFos+DkwZJ0CGwX2NbBwnQDo49V5EIydA3D2YxBrbJkBnkEPURxYnQKNrdJUuKydAAA/VeW3pJkCKAZFyfxInQNEdD1byJidAk8b/MPhYJ0BlUCMpxggnQAveRU8QHydAElrO3wAEJ0DRWB0zfBUnQEk4AxXg9SZAsZwRQFXlJkDUYF+yrdomQKsJn6pITydAwNurNNEBJ0DGLWXu6VwnQLaWWtMJNidA2686xpAfJ0CXhd+anVwnQD3+Rnp3LidA741FHdkQJ0B79NVk1SEnQD5gshgY5CZA+4HIQao/J0AwP6P5lgEnQFmlgZ3XCidAjuFNXbMmJ0CNYNOfWvomQCOKjqYHRydA/jcJ2xotJ0ChYs+Ct/gmQDQp97Za6SZAKAC6OVo6J0BqaOQGOGInQFKKCl9ZFSdA7KIFeLlzJ0DYj/QeX28nQC+aWyFmMSdAz9dWMOHuJkCvzgU4DBonQF8xFWg18SZAfBD/2OIKJ0Dv2g1gbwQnQKhZ4Y3J+yZAJsVLhgUUJ0B0rNrhDxAnQBn2/ybHKSdAiIkIXZE0J0CBs1Ni0QMnQEpHBMlS/yZAV+9LlXr/JkDsHPHgqRonQMW8Y/5cJCdAGUE5vU8CJ0BIMqYoKk8nQLiY5YtM5CZAicO5ef5KJ0AYgaVRVCQnQIix252CWydAKZsi/2wPJ0CUi2cvDSEnQMxazBjLLydAutVZNpwKJ0CNNYk/oPAmQNmQBCiDFidAsFBuhpj8JkDMek/AGQonQM1tIP/PYidAFJD3OhX7JkD7lWR642YnQCrBvDjuXidAE2wy3k9GJ0BaSqd8a0knQP4iRiI0+CZAs+XflvX5JkBly6KO498mQGhEx5jbGidAHN86h2ASJ0A6SeXloxAnQEEFJligNidAXa/MbOMzJ0Aynyr8V+UmQJZ3MzKy/SZAM6JsEfTpJkAOiZsylCMnQLdcHvkAESdA4M5S0+UnJ0D4MDSTX/wmQLCSw2wuCCdAupKz2VE9J0Cd4uyj0fomQFARUGCjJydAjd4aruRFJ0AnlC7mnionQIT1DAi4WSdA44eGuXREJ0B/borE0B0nQLQVTOzyQydAh9JNppUhJ0DJ0theWvwmQCi9CCQRCydAEL9sw5NEJ0A+HqoNfBgnQP4tJgcOPidA7V+FdFZOJ0CWT2xVXRwnQGtV9+8z8yZAy1UeqlT0JkCse7hQggAnQJ4UsvR87yZADe82O0MeJ0BNlFKFLWMnQK07d70OEidAHV0zAmkIJ0Anqwb5lwonQCHdcuGOQidAp8h+Evf+JkDuM+js2lMnQACokAUrASdAxHwJ5v0cJ0AB87KkBQknQEPakELS5yZA2bPLKsL0JkCpSqOYUfYmQIVqxAJPISdAfDfU/i4FJ0BMESZN5gMnQBrzmJK6NCdAg0B+Eu4YJ0CyKREmmusmQN8hIcERbidAq0sBx8oGJ0B47nne1UQnQGvRFxBhASdATyrNCvcMJ0AhfsiBYNsmQPCgGRWh+iZAoCqzIt8WJ0BBP0Xge/4mQPjadnTlFSdAlI3mUcIPJ0CLrXUNDi0nQLadDN7ZTSdAAtFSEUNGJ0Bf1JmrBi4nQDd/362TCSdA99LhRh1MJ0CPkZOhhgInQNvhSb5wZydA9DMuxlQ4J0AfaSlp2ekmQEZR4VCyJSdAOJqi01UOJ0BtPoD/XgYnQHs4O993KidAoE9HZpgQJ0CgjLaJluEmQHiHRe+NKCdAPdPtD0w9J0BgjoeBNhsnQLLXXTRR9yZAPihX2iouJ0Ai/FuYi+smQDhD8G5V8CZAtM/jkTEXJ0DY5oREHy4nQHpZcxhAFSdAqHaFPK8UJ0B1F2XSUywnQOr2WbUwQCdA1/9mLic9J0A2z5R4ijknQHJXgGeO+SZAQ9EtFDb5JkAs9HYz8RAnQNXcXRE+6yZAtTpuTZkuJ0CTqvo4oOQmQIRzxWwMPSdAVP1OcVIdJ0A9fahgP/gmQAMUUcMD/CZAg/k9/4sQJ0AChhQ2d0gnQKDNk3E9FydA+zYysVcLJ0CrZBt5/+smQHquyLdKPidAUx8coDxvJ0B3UtGHbxQnQMyPjavCQCdAOPMf8Sj4JkBhFWqJGO8mQK2QiRoD3SZAPaxeiaMWJ0CZ3tRZAycnQH40yFR6GydAxaPQ85EEJ0D2hiQ4njcnQHYRq9wkEidAoQbl4O7+JkDZL+QCgOsmQPfmkFGYJydAiq/6A//oJkDIY9gUszonQAH5p8vCGSdAJZqqtPAbJ0A4N7OlERQnQHO2SuVc9CZAYOxJ9JtOJ0ABQVqBeR8nQDuyPScDCSdANQzOwmQMJ0CPHpDMsOImQLoZX6hvHCdA9uT/NwMSJ0DVwvp6a9wmQPfZgYr37yZArEW181UkJ0D5PNIPUHInQDhZCuXqDCdAF4My9pU3J0D80qBf+ucmQAUodFSnFCdAJf4cr7brJkD5DI+WvPsmQHGoRHdISydADiYZnM4LJ0CwXjoTgvImQCFreTMqEidAS51A9IQkJ0CznuOHiAsnQM/yMqUF+CZA4OoEYTIeJ0CrDSuowAEnQKJXd9Gr4CZApj6q3k/+JkC9QrEO7fEmQMwcSOsBEidApVKthc1XJ0ALE+jGXhgnQEt/cDua6iZA63HQMK0jJ0AlqdomTA4nQCIzpvqXVSdA4jbpVLkBJ0BXpav+QtQmQHZjxyKaESdAJRMkaGtHJ0Ctm0cAdB4nQNxxQrt3DidARmPceHcSJ0Ara+AWOhYnQDIY0ruz8iZA44ZvLuM/J0B7m83jDvYmQHO0OdhWaidAN3P7BRxaJ0BYG9I7RiEnQJ4CQtfZVSdAFAFFixsfJ0Bpe1a0GBInQPtR9s0aNSdAfEHzWMEgJ0BjdLH/SegmQARXZJgfOCdAhaU1MExEJ0AjK3WCChEnQI3xQab+EidAIK2vc9ryJkA/t/xwWuomQBf7AOgR/yZAXXn5tKvjJkBU3v6y4uomQPZkyRNTGydA06z4z5MmJ0ClD/b4fT4nQDBjBM1lKidA4m0WGYzuJkDKgA/6ZxInQBoXQX81OidAmRefgq1GJ0Ah4X71YA4nQF7bvm4t5yZA8vc/x5IWJ0ADGBPFZ0knQGv1fqAEBydA0oZp0pvyJkDfDZ8t+UknQBUddu/gFidAjIwciOVVJ0BTe+ZsDfgmQKrZwGbUCidAhtaNngU5J0CkHR8CGSAnQB0sq+DO5iZATUNql3dGJ0BPiGm7zQsnQLWsp7BtQSdAszdkA57tJkDkOxIf+zInQKloJUQUAydApAksqYY3J0BJXKRfgjgnQFGFEt+l5yZAkyesVf0hJ0CcRRywEyEnQMERqfrtBCdALOjJwJcaJ0BRK1lC6VsnQEW0+bFeASdA5+GnEvgXJ0AUdvQ0ADwnQKsfg3nxEidAvuTbxm4SJ0AmwnuYdgwnQB94IQuM+SZAJL3jnWDpJkAiZ/kOaBYnQKBSlA3l9CZAlc+um6UCJ0AzxPsgTAYnQCr18b+4QidAGGgtaMb8JkBMaepCy1MnQOh/3BXZBidAbDFjR7z9JkBIGZ5u6lknQLzYQooc7CZAhK5J0tDkJkBtkzoBHjcnQLPVlPQxIidA7laQ9pfkJkAv043s7ygnQKURe8aINSdA+4rpdzwhJ0CNwcMx7wsnQNuf/5LFASdAlGenar0ZJ0DieYnBDjsnQCLg1rTl7yZAL7nzNlNXJ0Dfi8Zo8h4nQFNorZJuYydAiBsMvHk+J0AhN+qU2V0nQKJzJAtAIidArrbqLJAgJ0Dop1QQo9gmQH2aGuY+HidAOLZ36XbqJkCa+NhutdcmQNJb7cP++yZAr4qs8LDuJkB2o/qfYisnQM00Jf2OPCdAWZ/1jYLrJkBt416FwU4nQABo3r2UHCdAXVDqkz9qJ0AksNgK50QnQCTz7TKpbSdAj4h3TNwVJ0CwIFuBuxsnQK3fwB4YCydAyO0HDQ78JkA1fSpUODknQANG6h0c+CZAiA415c4AJ0CJIBdzAvwmQOtgwgZLLidAR1Z1fCkcJ0Bueo8Jt/0mQDHkcgXW5yZA00WP2VgoJ0DO13EgV0EnQN5q7xLbCSdARib8EqcCJ0A57FzcwG8nQJ7HXFauIydAZD8H9odKJ0DGRY8VoE4nQGoIHsFqNCdAMRe9wkIcJ0CyHw/4DgcnQPh8ExELEidAQFwJRp/2JkCX9UAXBt0mQMv3DyM07yZA+OdlFt/8JkBiVkLfFwknQG3Ons428yZAs+LGMVD9JkCsXECIpjYnQA+lKd1A9SZARt32J54UJ0BT+hVOQVMnQGCp8M9JKSdALSioZRvmJkASsJ/LdR4nQMrdTUbJVCdAtOukC74HJ0C2B8NCVhonQJa1pyUPTydAOyifCXbvJkCyctR7mSUnQJRCJGcfQCdA/Fkn2LjzJkBwZNTJJUMnQBOEckU1XydAq3zgbWs3J0DqCSrqiC8nQLYbXCSPEydASdhAuTQgJ0D6f7UMBFwnQJ8g2B+DVCdA1sTs6FM9J0Ddl8+YgxUnQMmIIyGdECdA8YqMsdopJ0CRGYZjwwYnQNPSi5fS9yZAumV63DgvJ0DAyoT12yonQGh4UJUlFydA1uA7jLwFJ0CMY+Ss50YnQFaEe4rsLCdAeiUNivMBJ0CF2n2IotgmQK6beABjAidAJOchg+05J0DQe4DVPEonQGh2FlT9IydAR4u86dbmJkBcRiAFslgnQCg3MNGsECdAO6ds+5NQJ0B94p/dMVMnQBhVGcXHKCdAprMHTs3wJkAXsOLnr/AmQKr4C/Px9CZA/xukmpZBJ0DQc9znePgmQKNoxML17SZAhwxGHBAYJ0Ax129F0SInQDO8/ZMHESdAnDwb7S8mJ0BaVGmxuxUnQFO0BHth9CZAZ+QiXEcLJ0BX9MtKtRAnQNse98TfGydAryEETzkOJ0BsHO4RgOsmQJ/DdiSIDSdA7ltuTFs+J0C9mUWirj4nQJZlYQQiGSdAHzbMK8AbJ0Aqh1XXnGQnQKXmqY237CZAep7VJr9DJ0CZhCYsguomQK1HhK6u8yZAjrjkWkPxJkCQnklzZksnQI/Ck/bTUydAmi4dchBUJ0BHPuirG0wnQB0B7wHhPSdA7WOxyeLzJkBfzyOuGg4nQKnxhs88MidASwkfdbgnJ0AFIvtdBhMnQG5QB/ZoWidAieNkbI34JkADjcG7fvUmQHiqJDfWDCdA/HDttg8ZJ0C6WxYV/0UnQFPzR8/NBCdAUCFtAVkfJ0BMiul8VfMmQOUoorZm7yZA1SKw5l1rJ0BBqRx3G0onQMrFbxG4HSdAAPkuSExEJ0DFJrqEVAUnQA1/LHFy6iZA8ZL7H59DJ0AUzlGk2PYmQHi6vSQAFidAfYwcg14DJ0BIoi7mQw0nQGzmlZTOaidA6Q/XJa7rJkDq4gHLp18nQMApfwTmHydAD1JuMunsJkCgcewM2SMnQIWoRsIT6yZALcewPSYsJ0DskBviZhEnQBmPOe12LSdAPqwAmBoNJ0ClrmfZ0OsmQO4tvMiwVydAM4feND8bJ0BjKwb1//omQOGLLKsXASdAy/sCSPsRJ0DXvicI9/cmQHKjm4khFSdAxlS/l8pEJ0Dbjzbk4+QmQHmCJSRnISdAZu6U4UXvJkDS2AR1WRwnQE2G68zh+yZAbHqkc+9WJ0CHgD9zDgEnQCCw0cl+9yZA9XF/BdVCJ0CpHkK0WjgnQC4bSKs3OydADmtwF+5tJ0B04W4twUonQPlesn/+DidAX+kyQkUWJ0CiUOWAFgMnQC3iQy//ECdALRCQ4rwkJ0DFoUdFx+EmQLcv5brvVydASOXn3hgrJ0A/BdWAkxAnQDon4XR/HSdA1c0uJ3kbJ0BqULTBK/MmQJ5B0ScdCydAyONN3pEBJ0ABF0wBoFYnQDAJ38gw+iZATXXX4rplJ0BJ2CDa1xknQHKyHt31TCdAreaiZ34eJ0Bobe6m4OQmQAXbIa1fQydA2OGMExkHJ0BMVj+dpVcnQPrh1vi3KCdAr8OYdKlBJ0DjtqFZsyonQC37S7F/NidAdyUzFrcHJ0CMPGVHcycnQJtiHF715CZAkSa6yutAJ0Azqr23cAsnQAo1R6WoFidA4btEzPl2J0CrlbNVfzknQGZ0HyEsMSdAQFjXyfQJJ0A4WZ8MSvImQPNedbGvNydA/97lnFMHJ0Cdl/INTCMnQDSGBHf+IydAjSqoYwkHJ0CWPVUEohUnQD9t6Iq5ICdAIF8u4l0YJ0AbwZ4vEAYnQGLiBvDbTydAKXSf371nJ0Dg2+E61f0mQGmeZbdCEidAFUWAh61GJ0BrA8F4FUknQNf/DgJvJCdA0nJ4RqEKJ0AklntmIUAnQHsmjhbOCidAlcTG6m8mJ0AFU3+6RRgnQDeQ4+/2NydAkMa/8I5LJ0ApRl7epAwnQBWRi844BidAKn9hSV8mJ0ATKHwz9FgnQP4SatYL7SZA69E2Q3VvJ0CGRG0T7BcnQBVRaYfNJSdAZ6qn0NMCJ0B/YEroDEwnQFU5p3MhICdA9qo/8Wz5JkBmZloWRPImQHRwvmaQPCdA152PH7QUJ0AqZ4bwMhcnQHEeR1LI7CZANaQ4AW/oJkAyb8M5R+8mQGiYu6A6CydAPOCJWcMFJ0CwOeowZAknQDb1p8KUBidA2B0SNAAgJ0Dy6ehtxj8nQLAQDvMmFydADro/4w8sJ0BqENQwvN0mQHq4IJjEGSdAG0FhafAXJ0DV9rA7vQYnQKeAHVNeCydAZVm9ExZMJ0CMCj7ODQ0nQC4vNIu0HSdAalBK+a5PJ0Chk11HkhYnQKP/e4c7FydAL5PcYhheJ0AKmOEkGRUnQC13OIQJFCdAYBm1eOMeJ0A+SqkoS/cmQBnFev6BEydAf1PR1NosJ0D7TfNHDTUnQERPfVzuICdA8noM/ixkJ0CgVsR10SInQI0KhvO9JidABxyJTuofJ0DVVz+YEhQnQDgmLui67iZAuU5wOAH4JkC7C6F7SggnQEBDL6zEQCdAp6sVBl81J0BP0cV8CiYnQNGC5IGN9iZARTfCTpYiJ0CDoX5j1+wmQEE4RLDgECdAwjb/C2kUJ0DTZAKppxInQL3CC3lUDydAcwIqwPImJ0DJIXuXfNwmQNGf8g/2/SZAqbGv99MCJ0CqoElS/zQnQCZ0diCpFSdAC7udB5kDJ0CFwI24MCUnQCPxi9ReMydAuVSd7+QoJ0D5m+vcEksnQFXIXR0jVidAeNN+mdDjJkCCP2iTpvYmQAKfZC3BEidAmqk6t4sqJ0DvqwjlYhInQEe2LYuJ5yZAvu4Rfv4QJ0D0x4n4d/UmQK2dmZaqAidAumndGglbJ0AEGW/3dCQnQEYG89I84SZARoj2GCFiJ0C1QOh4LAwnQFD/5934ASdArYWFAfYlJ0CApuq1iygnQIMRTVuACydAHnZf+DFfJ0AaKMY5x0YnQNYezx8R+iZAJuWE8LY1J0C6VJ0yqQonQBeQ2NhHJSdAKoAMf/YOJ0A/kWLJzVgnQMhavPDmBSdAvG2+lCrzJkChe/ygwQgnQKBpFMdkFydAxTg9PcbxJkDlfKHKxEsnQDb2CHh2bydAkxEkdl0AJ0Ax0pixD/QmQAEv2N5v+iZABBYjVCUkJ0CSwm3tPAInQNCSxNvQ8yZArunv3qRTJ0BGhvTohmMnQJe4DZasDidAbhRtNJdXJ0CwS8hmnUgnQDndA8GMGCdADpLOAYpfJ0D6YoP/5gMnQGjnqDNpFSdA3FEJBlfsJkA29pLw7CYnQDSZt3Z2TSdARRKOFI0sJ0Bo95poB0MnQCbjQcKS8iZAkbE73vc5J0C5k85V9h0nQFTBYhC3OydA5QNZ6THpJkDQeKp9ECQnQMvg0OUnXCdA3kJosJNHJ0CGhGjqlPYmQHO2ly66MSdAKIq/7XQ5J0CqphadjRQnQGwIfnXk/yZAPDKGLxESJ0BjjxumZPomQCUCB/U/CCdAXWXhiRg4J0BJjnf2HQ8nQHwtYY3xMSdAjN34Ul0VJ0A6+qzcuQcnQGfBbrcfMydApScwc7j6JkBeC/aZixInQIMRfcQaOidAt/+xGXhdJ0BhJGM1jicnQCUb0f6LNCdAUDoohAxUJ0CxmRfm89wmQMmoHCYjSidAJ85OHk4wJ0AXUmm8ShUnQBuzbXWf/CZA69TCttYXJ0CkOX+WiiYnQFwR+VS+AidAaIcFzGRPJ0CiG89GVhQnQE1ukuICFSdAXcP5EDhyJ0DAMDc3zwInQMowrRRsSydA5869gXcLJ0CccFCOzQknQJyobbI4QidAgl8au3DgJkBz54/kkQAnQNJPbkxiHidAZDowt436JkANrr4W8gEnQJhOrEtvFCdAJiZjM0NTJ0DD296VnV0nQPix8amVJSdASoJjA2UgJ0Bj0MUxYeQmQHrRGeUGDSdALXwsVf5bJ0CADTTu5hcnQBN0qFfy+CZA+n4/G/NJJ0DKdOLs1BonQNR+uTa22yZAlTSzmFJhJ0DMse/T0fomQDUNIrZVHydAOtZ/6k8lJ0A7ArFVN0knQGWamH29QidA35ER+fhWJ0AIXRq2NA0nQEraRUETSydACQdk+6oPJ0BMYweEbygnQBl05WGUTydASsSwVXc1J0A/RsxVQfYmQBCzSlXpAidA71xtByEJJ0C3EM/cEvwmQLsr+TWDTCdA/o5LUNpZJ0AIRApTMTonQJpcBmVKWSdA/u0cU8MEJ0DQbzicJgsnQBRLaqEtQidAhN6cykYPJ0AjjkRgPDsnQK3yYQhkHSdAQaCQ5UBKJ0ABiOsUcB8nQLsNldesNCdA8zdw12H0JkBE33O3bhcnQNWdWXLA4yZAMqSNJvtSJ0BrvzVCSx8nQHh1qYU4HydAE038ivFSJ0BktfHeOConQBc63pRV4SZAWxChtfFJJ0B/VTnyWyMnQGXKqe2+ESdA0dCSktA1J0Djembr/UwnQA1af9QLBydASgGj2afzJkAcWCKs6iMnQCbYDRsOcCdA75Z+BdxvJ0An1tpzexcnQHRV55PiEidA27u24QD3JkB+PA4iKkYnQGNgnGTHOydAsmrUYpEHJ0DxbEWt/vomQPDxNTykAidANhE7rr1UJ0B6DWfOnfUmQJ4OfeulFidAa4yP3xvkJkASANn2I+4mQEN1ulyYVidA5tFqUydDJ0AODe5ycjwnQN1zt8xvQCdAweQkG8xYJ0BhZ90MQ+omQIZx7Nw7NydABMnIiNkBJ0CxTcH8pzInQISQFBcgASdAG4qGjhlDJ0B0W4AycFAnQP4fS3U3LSdAsYtNnSr/JkBMRLbxzC4nQB6TbrGdNCdA26DgI5YnJ0BHAaLldUsnQHo1XtU1GCdAgEWJExFLJ0Auo3qJR0EnQMIPzLB18yZASMYQSs9LJ0BVxCh6DTUnQBZtt934WydATwq3wypDJ0BRH0sgJAknQDQJHO8rZCdAkBZDktQYJ0BuJ2CF0x8nQJY60kT2+iZAHXKpS5/0JkAydAQaofsmQISzu1lrKCdADaqOWR0cJ0C1W0Mw9gonQNnOcX4s3SZANp+g4QlGJ0AFrQ7l/AsnQDTWSaNm1yZA43YgYkAgJ0AcRVgWaxwnQKEvm4LEOydA5thSdD7jJkC/tdJ9Z+smQJFCZ88VKidA5o0KcwwQJ0DmjiGpI0MnQM9ymvchaSdAOfXSkmUXJ0Dq6JgoXCcnQJlQuakt7SZAr0akgTj4JkCpwc4GvPcmQIqM6r0kCidAD8Ckw/AlJ0DqyTtLHfwmQDN6SvpI+yZAuX1LW08rJ0C8I3MwKFUnQIjwlOA/DidAX1rRU94JJ0CuCaxKwgknQCRMqdq+IydAkNl40+D6JkCOc7vjlVgnQDkmbgFCNSdAfxoTtgrlJkDtyRWv0VsnQGlGNPJXHCdAJYZrNB33JkC1kn3YjBEnQGE+noRpNidAwLsle7s0J0A/rSzFUjInQM05GNylPSdAPFhqIgdUJ0CP8lqcCRQnQNjaUjmj9iZAbomLQnNWJ0B+VUoUs/wmQJhAxCZoCCdAIM+G6rI/J0D9N+GPeAQnQE48REWZUidAa0b/qEYhJ0D8qLnbSTYnQAxHSk7jKydAccrBtDHtJkDyvGBbTugmQIHpEz9X/yZAjWPKZV4eJ0BxXoQPkQ0nQNUnqDOmBSdABJ3EgwrgJkB3WjD+52EnQH+Obd4WBydArEiZF1j6JkDhyKDaYuAmQEQxO6Yk3iZAQIPsp6H2JkAAwUOj6/8mQKqi4ChDIidAPa28WLRRJ0ByDurr/zUnQD0ghGdyIydA/kWAP9j2JkDVDyBH32QnQOVIaPKEISdAclOClV7nJkCbCFcpUVInQI4jdwo3CydAnh1Yl/oVJ0DmdEPTY/cmQJ98Bw1kESdA7cY2qaL+JkDk5Y67s/ImQGfTAmhsIidA8rMYoNndJkDc/e8Tue0mQKdRxAwX7iZAUQzkpcUXJ0Cm0QnSifYmQJfRzlkEDCdA+213ElVLJ0DVXvYGFjYnQIsoJKIeCidAHCuyTHMWJ0CWKtnHJRonQA9U697vSidAJ33rvjQBJ0D1RmTiT9kmQEtuWL7lFSdASwc480ohJ0BcTGOKaAYnQPAKiKlCDCdAGs7y04VGJ0A/yT74bhMnQKU/Fa9PACdAx5H+EUUiJ0Bi3f0rcFEnQCxl0L8hMCdAL3teiq8fJ0BzjlcqQiMnQNRP5tMMFidAPU7XwxT8JkAtaPwuKfsmQDc8GNXIDSdAiM5xwLJPJ0BmgzhqZBInQKiANZQN3CZAPNIOJ6XnJkDrJB2G9QUnQMub4CsMAidAndFw1wj8JkBEL2wNtyEnQMPw9njhTydAwtV5soEFJ0AAhvUlCQAnQCfQHgnCNSdAbK5icz0WJ0B+EdVmLjInQK2MWRjbACdAgqmUh/01J0DW5N8dLBEnQGUFCw8TGSdALldmdE4BJ0CCBpZZGfkmQNxJndJjEidAxFF565pZJ0ByO/wwGgQnQJ6n+7S5+yZAl3hB87YtJ0B7tKSz0SInQHgvCSNT8CZAbFdW2f8rJ0CzeoiVPFknQFwhpDBf6CZAEcLdAdhFJ0DI3/x9eW0nQF+sP61kFSdA/q9cv4MbJ0Dfsdui3EYnQF5gWjTs2CZAtKOEq0YJJ0C/ZX8hRTgnQC0Etz7POydA3h9TE6AYJ0DHsPOYCUonQCBKYVeX7yZAlLtu+ElSJ0A9fiODikQnQBohnuMvSydAflEONGItJ0DDg00SbEknQJwf5ntr/CZAnB+4RAYUJ0DJUC1spT4nQAoxPB2m5iZABBqKtxPlJkDkkCrRuSYnQNApfIIUDSdAOT5MdZABJ0CjOKPalRYnQDn16hytSCdAZBAQ4S9BJ0B6yQZLKl4nQKWgG6BRACdAPOEprIDvJkBG2ML/0QonQFFBqSR3XCdAPEntFS4zJ0CqDU966WAnQDsiJgykNSdAnBxZHbkZJ0DF59c8CBInQGUdydGsFCdAFDlzkFIHJ0Cz3f23G/wmQK0UCRRRGidAFeN4aN9DJ0CD2Acz9TonQAHds5/6ASdA83bF6MomJ0CkvDRWRwInQOYCtXNOWSdArWY3rrcyJ0BjN+GN2gAnQN6fBVt5EidAgkv1OcEZJ0BC2CFYxOkmQKaHPtaPUCdABRYnomoEJ0C9bwGHckQnQJDJsraOJCdAI8EPB3kpJ0BrsMGQFBMnQNOxHHZbTidAuy7aoUIGJ0CJdP9UkDsnQLq1nbNmUCdAS3L9NuswJ0C8z7CxWSgnQOTgSt6OJydA29YNUzj5JkA+fHOFGh0nQLUM6X1O/CZAKZymtvsWJ0BvNkEYwz0nQO0NodnvHSdAnxsuiJ0YJ0CvNbiBpBwnQONv0HZJISdAu0dUQdL4JkDcAVY9LxEnQIAZdKlj4SZAolM1qgfnJkA6CqQJESYnQBG1TBBT/CZAAPIAlS7hJkAzaaWnu1AnQGF9bQOPLCdAuzlpXXDpJkDkOtOefUgnQH04InnMBydAagcZkekOJ0CyElH9zhQnQMWz63n4/yZA1us4v2sTJ0CIKQLedQsnQGLSl1Lv6CZAgAUA6rreJkBjCBcGdVEnQCPIYar7IidASosd71VSJ0AnpP5EEh4nQFaX+Et2cCdAHKpAY3wZJ0DPNF+Ye0MnQEEpivj2GidAxQ+q+NMOJ0AHBzbUweYmQNf3zrvUaSdAywHDRGHsJkA2ERHb2SUnQKw0nIq1VydAwrgtKQf8JkChyojw1yEnQMFvl6ioLSdAnfTnMhA0J0AyIJ/uBAMnQOWkjLwA/yZA090eB4T7JkCQKVHkiekmQP7xW299GydA5IelJ4s8J0AidRz3dDgnQG80LLKlFCdAJB5ygygwJ0AHc3G/kwAnQNW8OdyiBCdAwmEkVMovJ0DveFjcrfkmQKPJ01bGHCdAD3NoPyA/J0DDy4AplCAnQLVOj4Xc+CZAXaE+6Fc0J0CIK8KcFz0nQE3chBBGDydAccupMuAwJ0BE92jDb9omQDJjZw03DCdA9tMCP8xHJ0BHFUy490gnQNdrqy+R+iZA9tKSMFhOJ0BwPhHul1InQFR0DdIEJidAz5yHtTdVJ0BkQsqSeCknQA2eGeWKBydAX65lDKM+J0DDedXKN04nQHVaA0S/ZSdAa4gxDM5QJ0D5q3yy5kEnQImlswUgACdApEB6RltOJ0A6w1uUveMmQIXDucrAMydAp3KHVAgeJ0B9pINM9E0nQKKCJnnFFidAl+4UgbUlJ0CQaHeAVE8nQApezOJS7yZA9Uqg5YtLJ0BgEA2OkPMmQF6+cvo5JSdAr1+Q6nYHJ0CUbTJ7lRUnQIBWu8rXVidAVVOT614hJ0CRv3Xvv/cmQDez/5jnFCdAJYcH6ukIJ0B0T7hKkk8nQDuJ6+akVCdAcxoo7tQEJ0CE3PSMlAYnQGkSeKIIAidA2com0gXkJkDcczgi2EYnQJIZm0JPWSdATVYVdWA+J0B7m5YZGegmQLe0Xnbh3yZAF8tO2GLxJkA5qm596yUnQDeZj464BydALjXK/rvcJkDiYL8asE0nQAGazZaR4iZA3Cw8hbBdJ0Avr4SXJAsnQOhXwH118CZAfwe0CJIYJ0CpfN6Xde8mQJOFZnnDBydAbC/bIoNTJ0AwK7duaf4mQPeb9epIRCdANLvFGYjiJkCjJBW0XxwnQERzJjeoFCdArueBlBFVJ0Ab1hnTczInQOnJpyNvMidAJIs0dAviJkDVx3WH+usmQG2uNwssJidAxRa0jO8BJ0AT9RPe2DUnQCPHna2vSidAWXhbL44XJ0BV9zWNVDInQOoXsupGIidAn2G8DHL4JkCb+6AFKgwnQKgv1rzvASdATKvytk4GJ0B37ug4H/kmQCRbalAtJydAGiO+6EsJJ0CQ8zV901cnQN+nHgjYPSdAxepNmA9uJ0A/4bspIjQnQEmWDsPf7iZA5VC5iAMLJ0CdiRkcYvQmQERswiPnSCdA0UOZ/7dtJ0CgBhcsjRcnQJA9aMe18iZA78SnOCI/J0AGojum4VcnQNrdrFhh/iZA6rm69GAsJ0BOupTvix4nQCte1Xo0UCdAg7MYhqEQJ0AS2Uu0HjgnQBq9sMfHOSdAjZQpVZEZJ0BrYV+edSInQE8nQyi82iZAZbz5O088J0C2m7LLq/kmQLgLB3elPCdAk+bbUtUoJ0CAh8ovzAknQDLn3pU3WCdAiqi5Q0/dJkC8atNltUgnQF2JDWtR8SZA0XAxrWNMJ0DwLXRW3kknQHP2n0FlIidAnAy67RwUJ0DcIY8Qvi8nQJTa7PMaNCdA77YQeVPaJkB/myX/ju8mQPBnLZJkIydA/CFQrNMNJ0D7LwcKFu8mQAU1hFMxKSdAT656nbMIJ0Bnv9P9ewEnQGw22YJlECdA/Ci6BVRJJ0BFLJ7iHyknQD+a2WL2+CZA3EKGhnhNJ0B4iZKhShcnQIwUBYkOAydALQE+PRsIJ0AStFZu9kwnQE9MCLofUCdAyNw6a7VUJ0BKh7qhUg0nQLw9Jbs7TydA5Us9KIYNJ0AKQJHC7fgmQDI2PrQpTydAV5ruvWUiJ0Aqbw7W6TsnQC2i87BFBSdAlQcgUe9xJ0A2gARSZ/cmQF95ysRh5yZAcSihnFUuJ0C1x757C0onQOaZLGpxPidAsq4/gVQgJ0DdQiC2oAcnQLkqKHZ5KSdAHYZ1ITUPJ0AX94y56fwmQOsAqUnvVydASiqu0YDfJkCw1nd79AknQChFMj0FDSdAciUmmnknJ0Cc0R7ksD8nQJ6zuosbKidA9Np2CurjJkDee+iNMQ4nQDvdGDoJGidAIkx0MqolJ0CJsKuPHPgmQMmQJ8wc5yZASoEyM/fxJkD7lraYJBcnQA7kCzQK6CZA8fBjYFANJ0DtNpHYiiUnQEvtKPXyZidADgXVfi4YJ0DUPIR5ZAInQJ1QhJBdNSdAWcpCD4YQJ0ABIb9fvSYnQFR9kTTv/SZAG4zWvvgyJ0DD2vACrDMnQH3akxZX7CZA16MtCHAEJ0DQhY0ymjMnQHVtw9mWQCdAfo/yNWwXJ0DsNevPvAYnQNg+Rc9U/iZA/FE1am0PJ0CuFFOABSgnQOW3Jt8OHCdA44OlY4shJ0Ba8vNjphwnQGw+PhrE6CZABu5NK/r1JkAcZxBd/+ImQLv1Na0ERydAEbFHwQEEJ0A5xdjxSWsnQJGm/1IX5SZAmnVltKVAJ0A2GZmlcfQmQJFxMpRcVCdA4bRdKJveJkAMKHhCJS0nQHwUb8l0QSdAGzTzq53/JkBy1ZE40+YmQMzOEJ2xRCdAgrDgDs1IJ0CLc1G1exknQLcSgvZ46yZACQxi+j/4JkD8vsD6M/ImQC6b/NL47CZAzzlTWfA9J0AxSmIdFlUnQAFm7gWwAidA2OxzgtDwJkD0EGqyzPsmQOOtlmoI7yZAJeQUPWEbJ0BswNwy/UUnQKz/hHviYidAp9FX+t4BJ0DLwVmAiCsnQE6qZr2mLydA8maMyk0FJ0D2ZI0CMt8mQJFr/AtBHidAKGwOeOH9JkD4aQw61B4nQNRvp+SnOidAAAto+MsNJ0A8Qing9e0mQB6vgInyNidAUGJBrDsSJ0D8WXWP8kcnQDhKJWaG7yZAxywGzaDuJkAVhkoDsQonQNz7pMvZVidAgOcBh5beJkAWPl8qvV8nQOYKhvXAGCdAJML42ThKJ0AZcD1V9f8mQIUibvvLVCdA8BPRkIznJkCP1pKbR2UnQGrd0Bl3FidAbaGe5pAGJ0B7UZzpUFUnQNzhYujcDidA4TZeMdEYJ0A0MVb3qwgnQLSGphbLPSdA9PGIGIRrJ0AYpnjpm0YnQN28qkPj5yZAFsYmqfc9J0DRv3H73gInQNGvBclgBCdABmriiGrxJkAzfEPwDionQGW7L1NpKidA3U/WYeYTJ0AR75lfKzMnQPz1y+bq8CZAXmqCEvv4JkDCHA9vg/4mQHVuk12EWydAbpVdlHNFJ0Ac0F+CFR0nQOnhYCVw+CZAVTQ9SV4bJ0C+Yjdl5vEmQME3qhu93yZAn7mselEDJ0DeZcXW3CYnQOgzF0c1DCdAd0wyHIJpJ0AgPRfXXiYnQHs09k0QDCdAf5GdUYoMJ0DdXvIQbE8nQJJsNMFn+yZARBeEvLUaJ0BpVRgccyUnQG4zrDJkOSdANHJBgaoDJ0B7gJVHZPUmQHriE6GSHydA/uSPTfcsJ0DHVZgYFQsnQLppuXuCQydASwmb/kAfJ0DAW+aSJRYnQPzpPlsHEydAlottSYELJ0Acxl4ZN/cmQJmbntHI6iZA25DP8/VKJ0Chwrr/9OkmQHmYNQj7ISdA7xlboZHpJkDSQCiz8SsnQLlJBWqP8yZALWScS0sHJ0AALIzgT1knQAstc8yZJSdA4KFNd37bJkBzqD4ApDYnQCFRhHi0aydA20cfhIJBJ0AWWEgGVAcnQDhh3XSxGCdAJ7XsL8gQJ0BcO9zdxjMnQPmQOkEMeidAPgZ0KRs9J0AuG4DKIvAmQGz6RL4pFidAQK1I8yFFJ0DJQlxDJmknQM7UzKUCFydAZJ7d8mUwJ0A0ozUtrxsnQP6vhCxkMidAxAW6VEolJ0BVDWxvtP0mQNU5Q2A6NCdA2LFrebACJ0Dkb3h6BmsnQCBEBfT26yZA4SoUzYMcJ0COrPto2vsmQE6bmNODASdA66IsfvHmJkD0ucvAzT0nQLKz2hYUSidAFu69nw5iJ0DrBverFkknQOSb5oUbPSdAim36vL8GJ0BVx7h9GjcnQAYzceGsFidAwUbI/8AWJ0BTUyqip/4mQCeaRqEt8SZA8X+DZDo1J0CqPShz7RYnQFKSP7TcDydAEmmtshEzJ0CubfstXDInQAgJmjLnKSdABZBLODBgJ0Al8ZriFxEnQCfd9PxOKidA1GXA7Q9NJ0A/bvXzNiYnQFaS9YPQACdAr5qtRFP6JkDj3IQLV/8mQLXqaJRZ9CZApAhDgS/qJkAk4C8PTucmQHs49aFzAydA7fcDF/FOJ0CjsadphhQnQEFWNXal6yZA/0KAmBkpJ0BRwLMYxE8nQIk1mTjD8yZA+dLeGjNzJ0BPc1STrOcmQE34r209+SZAiW+JhLX4JkCETh4tEQgnQA2Z4eXd/CZAw0T8dqdVJ0BaaDQc+P0mQO0t9g1GPSdA0qhAPozuJkAN+QDWMhInQDuOPWYRPSdAKR8pIBPuJkB/m6xCse0mQAB1VVMqVidA+udLoCMzJ0B1P1oBaA4nQNLIw2NZDydAuGul2LIOJ0Bvm98m7SYnQP9gMlpQDidAoC+vF3MsJ0BmRfOiEBwnQME8+iigSidA0BYUh+rlJkAg/9qu4jgnQDNdVmlkKidADxgwnpoHJ0B4zGaHTxYnQLYxVHk28yZAOf4L7voGJ0A9SCMiKgEnQJUOjW/H8yZAvqbSyrEZJ0AoiWpxCPQmQAffCQQpDSdAFXc9oKRJJ0A14/79jBYnQGFLjWD6SSdAFkumnpL0JkAEE+E2ijEnQI8h4Kf0NCdA4mDcHyLvJkBNP2L5Z/omQOuZdo2JTSdAjLZUSQ0TJ0CC4/wvOx8nQI/2feL3FCdAzT11i1H/JkAbMP+vZAQnQOpCzjYNBSdARjjon0b7JkAuiDn1DBsnQDpFJsqW/iZAf8NYEItHJ0A434PIIAAnQEkFrYh+BCdAdA3iDNL9JkAh1Ek6zV4nQP1lfJZpJCdAWMxw/nD5JkDmbP1jgPMmQLaC8oMoEidA0yB7zzsRJ0AAhDAhpNwmQLq1cv5gFSdA0hg6jF3jJkA53BXjRBYnQMnEcU5NAydA2nVmjAwZJ0BY/MQm2E4nQGGCiR4aFidADHSStqIrJ0C9ZEMtpywnQKnPvCKYMidA/+rndZMPJ0A0qfyiJhcnQD2bL1afEydAu/V5CBY/J0BywOeOUQInQKg4nF+dNidATMw3B20ZJ0Bu3jX8ZwonQNQKTaA7ECdAUpRqcJU+J0CnxhK8hk8nQBkgZCPGOydALo93NcNhJ0Bn7iNiM18nQFSWV3BQECdAxpi0mVcFJ0DPaTKndFYnQLBm7CxY2SZAZyxvJqUFJ0D8FhZ6eFknQHKL6ji7LCdAnciiMDRBJ0AyVQpDi1gnQOmoSMM4DidATumW5o70JkBI3xzqTgUnQMtlDM6uMydAy3MnGi3jJkBGxa3kxwQnQAk8RHjsUydATFKcvjxOJ0A44eFflvomQAgc2Ol+VCdA2AZtJT5lJ0C+Ko7CfRonQDO89U1e6CZAuGDyTb35JkDbQRS9jVonQJlSQVgM/iZAI8IjynhxJ0D8FMjrz/EmQJHb/AWhGCdAenzYJg1JJ0BBZqDNkk0nQD7x6kj/dSdA3WqK4n1CJ0DuUnwl8EknQH1jIX6kEydAGnonOgoHJ0B1KOdk1iwnQOiGaR/j+CZA10dj7CpAJ0CxSj4LQ+4mQD/Dye4ZOSdAnE3sAoH+JkDA2O/WvvAmQH99jf+UASdAU+b7EjEoJ0AOiHti3CMnQMJLSsCjOidA55XNaB4SJ0Bt1V3J9+ImQK0xaxYZEydAAJMGZMsKJ0D3kLwlpCMnQAMWPYy2FSdA5F6SktZuJ0ADR5hjcwUnQGtAmWtIOidAncAskGgnJ0B/ByeOg2knQEJ+i6gABCdAbo2bsXovJ0AjKi6X1mInQFDp8idodidAAEm++MTrJkCP5weudRYnQMwt6D+l+iZAeQy3mwM/J0B8DnSp7UYnQKmvOXLTAydAOKEt3GxNJ0Db0TO3MVEnQJPP9onVMidAogAzZbFUJ0DxjYL8VzYnQJvs7Bp3PSdAatSMjxQJJ0CG40qxDSQnQMY8Tt2N5yZAFfhrOSQdJ0Bsn7NA7xcnQOXCFMWB+SZA0WJutSkOJ0CqouJIVTsnQE/xKJmSFydA/84iD3YrJ0BFkSyqoi0nQHDw2ZDW+iZAvLThl2kTJ0BtMV+dNvMmQG107Oe/KCdAAS7n+e0xJ0A2wL2AyxEnQAwBUP+DEidAGOaF35IkJ0AzJPqtkgUnQMwSfqM0OSdAe2FLBuwRJ0A68t0ZNTgnQGBQFOuyAidAZZauEagJJ0CcG0kweU0nQO1pOBFTDydAXYN06xkgJ0Aazf+cnv0mQJMYIKGlIidAe7j009xUJ0BqUpZ9ou8mQM4v3xm9+yZAif1cb7kyJ0DDscAt2hInQDS9Wu+WOSdAqZHMIN5WJ0CBAnnw/fImQJbqJ3+7+SZAeycfhnxRJ0DYEVD+Mx0nQDairu0d7yZAB6VP+lJLJ0AvIcfzifQmQH7ZZtqeOCdAXvo4nck6J0DcVa44cWEnQM4s+jd+OCdAbDhUK5XvJkC6cAmjTUInQAtRHz+4VydAC0OUOowGJ0B6Dzm5ouwmQHYtcafgFSdAUFEXJW8iJ0D0/Fh630gnQFh3ROTC2iZA7H05AoFMJ0ComoNySz4nQHv+sZ+lFSdAFAN+PVAdJ0A6bUsWtSonQNxajf5tFCdALZ7/N/MOJ0CpbTHnaTYnQHsmSWewDydA2qhY9QImJ0COPxYj3kwnQHuSKeoBXCdAN8rfuRIeJ0D1RAyH2DInQOhb1OP9QSdAwwBDrcVPJ0AHc2YdQFQnQIH0pPVfRydAN0HvqhN4J0BTU8iiPw4nQOsFB87bQidAdR/f5Sz5JkAktal4xiQnQGIIB+Cu5iZAkIa0MZQRJ0BClfP8bAQnQNxGYO+DDidA9Xfzz0UhJ0DB2kqIzhInQPO0C68ECidACnqarWw3J0Cl0qfC8ewmQAkNVcZsKCdAdozolxwDJ0Cb14O4dEsnQCE0sFkJ8SZAJH+AZCLpJkBXoA+SISwnQC9Z8q789SZAgbeveU1FJ0DrsW7on/cmQKu6b/etKSdAipPLqZJgJ0AdPYguPDcnQB+mO88zGCdA5OW67HtJJ0DRA3pCyeAmQPve7dSkJidAZzVpQfDnJkCjboFJaB4nQItFrko+ACdAhxxCEDUqJ0DDvub8jRInQG+ZVTwqGidA5Yj6HVwlJ0DJy/aLCOgmQAKafD/NHydAg/RtiEAEJ0BMFmUm00QnQGxLe0nn9iZA5ORzAAVLJ0AZoGfS6f8mQHBoaUUyKSdAOLn1RnFSJ0C0rE9JshonQEynq6Cx5SZANPIF4BISJ0BF8oMlry8nQJvcrZ5vSSdAyfNrc7/mJkBVWXCsGEAnQLCJguZZMidAt3kzYBUPJ0BjgwQ2ae8mQMsChT96YydAAGtNK7BQJ0D2ibFdKwEnQGrxGsFR7iZA1eOnZq4LJ0DcjrjDwvUmQN4OFXL+QCdAVAtTSZNgJ0Akfvs1rBgnQEJqNNi/FCdAU2QW+0T3JkC9bFtM2zknQPWwtyjF9SZANzhR0zAbJ0DeD3v91e0mQDPCeOOj+yZAHV+tEOMHJ0CV+PcH/g0nQI9ns+SfKCdA95nHipJCJ0D2IQVRbyQnQF4QXNWHDCdAlT83vplbJ0D38bB6ktwmQGioRRNtDSdApax6KG4jJ0Cz5AfJIvAmQGf7IDRDOidAB1Ml8r8oJ0ACGYuSjBsnQKjf0BWDMydA6uFmHhUwJ0DJcrMpU3AnQD/7095nISdA2/NbzkNHJ0CeguaXyesmQAF7Fkj5TydAnmIHWQUhJ0Bhux5nYA4nQNQc4+ZGTidAf5B1GJ4qJ0A+N6g9JzMnQFF+7mF4KCdA3FbovGZYJ0BRQ1WQ3TUnQGI34ez16SZA40iQTTAKJ0A5dkWVUVgnQL/CDn4kACdAnrE4NmkXJ0CITncLc0snQBHHhdDvMSdAji1tuyxUJ0Bb0UN+2vwmQJb4KauWHSdAfeSXX7tYJ0Bhw92pghMnQHLQ6ZdGDidAsFkmNP8nJ0CvJaPUjBMnQL9ym04jZSdAGceYVo8fJ0DW0DbYpu8mQFlX+BnRASdAUkxEyJ1DJ0CSFJRv+jQnQFqG4tCk9yZAt38YCDdsJ0CtqK/lLzUnQE9cEINnMCdALlbyCE07J0AHHnwoOQ4nQOSKu0q1PCdAygg6JzsrJ0BUBmKx5zInQIMyoUt2NydAuNpsmvVEJ0AIFQNdphYnQOgqBlPdQydABbubT+0MJ0DpOxqmePkmQA0fSej+CydAjp4NThYCJ0A7sqdZ61AnQLizbkUgGSdA1ajgtrgcJ0DvKU8QXT0nQGvSn/gUFSdAEdk+VocwJ0CMXaPgQe0mQCnAH/SDFSdAKI5f3MMMJ0CXbZSKHjwnQAWH8mXSBydARx9mqKUoJ0AVpN+E1DonQBFN1Pz/ICdAAdYkyXwDJ0CMp3yswOkmQHdt9SkELCdAYsl0T8kjJ0DwxEZ6gBInQHsJsbYC7CZAgUOM7KAQJ0CfxZ80nVsnQFLnkXMxRidAps9PqwsvJ0BORhGaORMnQBxIULX/9yZADxoI+nAnJ0Bb51cTZjInQK+bEXmwJydAf4JzwLHsJkCXDnh5GD4nQPCsPgMvASdAMAlw9DIgJ0CQ+2flsQ4nQE/a8K7aJCdAi5G9mpYUJ0AMcpA2UvkmQHIDXE7R9yZAAlmjZuI4J0CAwoogaBUnQPHmPXFhDidAcHdqdcdHJ0CWbjPe4xknQEXJBsEgESdArOBdYgAZJ0C8pIfgC0EnQNtBXm6+VCdAJNtYxfU9J0Du67uWPxInQL0kZ31gHSdAaTEmB474JkC3JXgHogEnQI6hY6Jk6CZA23l9DiVbJ0DSToFd/y0nQKuPm8PS4CZAHZ24mhU6J0BLnLqigx0nQLbWcHxK5iZAbEW5bELzJkB/LuFXwQcnQOjcsMeC/yZArEfzu0ExJ0CJ23SstvgmQEa3DQ1u7iZAFSBlv3wuJ0A8iNPTJjgnQBrxQ0D16iZA5+f19RTlJkBiEWC4ky4nQA1gxyT9ICdAps1sszpJJ0BinpYPuQUnQDSWZy2ZPSdA2aN7pO88J0AqyeMYxvgmQIPxYehVDidAddpZmHAjJ0AOPR/4jVUnQMC8e1dNHCdAO29BacwhJ0BlygGsQfsmQLW1uxfFLCdAMHhGIK1NJ0A8GSFci/gmQMWTiJembCdA+WMyrbcaJ0Bbw5vpg/UmQGftJBMRLidA5nCY99kYJ0DThBg4BhsnQKNUDcJQJCdAUGdWcBlEJ0BlmwLECC0nQC4tXpM0YCdAiv3UEINHJ0BUXQrXLQMnQDuv2OHWCydAY6T6MtMtJ0AIVqwz6uYmQN0xL41aHCdAEOnUPjf2JkDVk6Nd52gnQNJTbXGbBCdAeEQimqwtJ0C7jZBfIFUnQIWaNRJREidArdqOB9oyJ0ApW1ZfuQgnQMVljYtgFidAOSvrlsgGJ0DxlLegSUMnQGUQoe0p6CZA8ZL33QTwJkB74G60eewmQM8fqIALAydAVi3y3jIFJ0Do7iKBxQYnQGA0X+Js9CZAeWw/6ZgLJ0CsxbnD3vkmQGG5iJrT5yZA+1mVma4JJ0CykQQ7Qg0nQNc3HKyuPydAKMCWY1pGJ0DJUSLNAvAmQPJoRhZwTydATESl/SYGJ0BQiyJkNl4nQFFeLw5q/iZApAkcIC8KJ0AmN7k4eR4nQHX7QfoICSdAZ9YPU+8TJ0C+Gas/0uQmQO+A63bT2yZAmWBK0fj1JkAqZ4bjbDQnQK2VchCJGSdA2cj8gF/bJkCVjL7XUzgnQBQT9pHwHidAeTskoFg7J0C03pO3BjUnQIVbKhS1HCdArFSgAnhIJ0A1Spj6BRUnQE9FNcFjFCdARGNpQwBMJ0C8DM+90h0nQD0W8c/mASdAqbHu60I2J0DhGQo/XisnQKH21t0F9SZAppr6APApJ0ClN/HJlO4mQJzHcJO1JydAiSnDkpUlJ0B4f3ZYrBEnQO+9ndTbXSdAnuGe9x8/J0B28TQrZgcnQBjYB0BG7yZAAK/CQxZHJ0AZ0DPbIdwmQMjdARuiQidASNG7gu5yJ0BRsuJcxA8nQE8jcGz/FSdAFMdA8cJMJ0CwHPVeC1MnQH2vXHLxBydABHqdTqBBJ0DOopkIJEcnQA5+T3Lr9SZA8RPuYesrJ0AU9Ezv3TAnQJkTTo4nbidAMLnbaDRQJ0A7SxnTOuYmQJRmrr6ySCdAG31ufMdCJ0D4Oe4a7AknQBHBCNFNFCdAaR+fPz72JkDGYO8KfeYmQMAm6SpO6SZAFsZr7RTvJkC6M6CMcv0mQBGlXo+RTSdAsW86P+5HJ0BJn83YQTknQDo0ODa+JSdAq97MElTcJkB6BnCgfC0nQGz+d+ywUCdAE2qMMfTxJkBLHWfcHCwnQEak6kFrCydAB5/sfqJKJ0Bs3z7U8hgnQK7dxexE6CZAT+QuhUv1JkAIfv2UZEgnQK96hM639iZAn21kRHUSJ0ChNxq+h+YmQO3Mc4xXECdA/x+WgQwqJ0D75xI5LTcnQAViVaoCIydABili/xssJ0Ak2PBLKPYmQMGqFdk3/CZAf72NidzlJkB+nt1yQRgnQOWgUNnOCCdAuzRKoj8LJ0ALCR0AlDQnQH9mtjkOOydA0aMWnGz9JkBBGBVnuhAnQIJFk5YaGidAFaurXcRPJ0B+VabJy1UnQIMTldUTUidA1EaojZAvJ0D3lvD+BBknQIaaof5EUidADbSzL3lFJ0D+dY1fyionQHfxSFBbEydAtA6WCItFJ0AiNbKff/4mQDpYEH3YRSdA/6pHp68IJ0Cib8jCAD0nQL/DR/DI/SZAsOmYwr3tJkDaoKB2uyQnQC8TyIeNcidAYDUQXiMMJ0BaSeMXw/AmQJbcv2bCHydA/EX8BVUrJ0Bsfi1IwCwnQNcjZbD1BSdA6CQOBW1KJ0A0nWmu6mcnQBT0ZwsNMSdAlSO1vBQuJ0CqHIH/gAAnQONOA+FmDCdAuUjDd4gvJ0BQAE8pxh0nQGFebOImRydAmK6wjI8tJ0BVD7/UFDQnQFTGs5RsJCdAvWtQL3/hJkD2v2eBxjEnQJ7cplRNFydAgGQRenxRJ0CxgElmYxknQD6PYD6q8SZA4U7D5cPjJkAh5NvhZVQnQCVhEjAKDSdAimi0vUojJ0Av71hOygcnQK7Uvee9aidA789njcg6J0BvGU/PbDwnQPUdT3DeMSdAfJtuJnL+JkBMDen/c10nQPJmz1wrWSdAL/uVefQSJ0D4YoGwjDsnQAyoVnGSZydAb2gppsRHJ0DuJH6ladQmQEg6sM5LXCdA7+VbbRodJ0AGApKNzAUnQObR5zS1GidA4E4vBtlLJ0BXuc4b8lsnQAff05REFidA0OYHDzFcJ0BXnM3e7kAnQG+DRrMr3SZA/3aiOxzyJkBzHhroMvQmQC+vV5b56iZAB8ptkyg7J0CthN2MmPkmQOVjT6nnSSdAV6yozhIvJ0BplGFdPxgnQKda0t7gcCdAh7UGbCVFJ0CceG8jGtomQGbUivHU/iZAbTRoYDAeJ0BEH893p2MnQJiVq5VpBCdAqySxX1NLJ0CBbyEp+A8nQNap4N8y9CZAMtYTX84ZJ0AXev3kbN4mQHIO7S3ADSdAVPkZO9lAJ0AB46ayElMnQObVP6mOECdAjfCTDDEvJ0B1z1oR2B8nQNdGgaVHFidAEG1WagY5J0C1OfbcvGonQOQ+k2JHACdACwIVghr1JkDM8Y/c+RsnQHBNrGGVEydA0yYgySj7JkDbmBpp2CUnQPnUP+c6SydAaD1EMlEvJ0A9NaGVvhAnQLTVUz2RQCdADFC1FJn+JkAc/GrPce0mQCyo22m9GydAOG5l4/BNJ0CsILoSyQgnQHYZDcUADydAA2hyG/MWJ0C0vJg1/wAnQHyUgdAbGydAHT/3qgl2J0DAuCx5p90mQOg3n20STCdA6SKxQrcWJ0BYPyf2EisnQLi3+BZj8iZASHRuCPEGJ0BYM4koRBcnQBycJXQZ/CZAMD1I89MaJ0DMaioL0w4nQKYnduApIydAOwVKSfQDJ0AA8TrC+BInQIIwl8pBHydAIEdF8Uv+JkD+nK2eey4nQMnfjVzcbCdANP2kypTwJkAnBt8l2OsmQD2oI0PGDidAtUchB/wsJ0BKa4g13zAnQJKkZYsfUidAs+revu8cJ0Bh3bPlr0wnQC89bCvFTydAhRdMzCLtJkBylLTfPP0mQKKMFD0n6yZAoSuhx/MhJ0BN5/hvKvUmQNH4m6L2IidABgdVe2kkJ0AzcirPTfUmQPRZpLAlUCdAUIzwEB0YJ0DewTaY6Q8nQH41h3QwVydAbVPLwywbJ0DnecgDYSYnQOtZlICdISdARn9swzxJJ0B5zKhilAInQAcNA+jzUCdAb48BjucNJ0DNnONszCEnQIKZJi2aNCdAjMm1l9kHJ0AR6NeeFQEnQH1Dy+VZ/CZAhpsgFg/wJkAqkCdiwzEnQMWFqdLCUCdAQu2j+zsBJ0BscIjOXkwnQPJ/aVsyEydAtJk6upzhJkDR1ZAlfmQnQPKxh0kT9CZA7H6VrlJXJ0Bo5ksytiYnQCWFiEZA5SZArZxP3oUOJ0AFs09FRjwnQOPPZtKbACdAj/drERwxJ0ARonzglgYnQH2/KC4o/iZA7ampKsUhJ0DWif9oHwsnQFvrEcSy6SZAyc2PKskZJ0AteYOy9QAnQALUN7g6WCdAWqC4Z0sWJ0DoDcBnsDMnQMpW89wpPydAUtKXMDj9JkAHz+WFWRYnQJrZSJpeKSdAhoDaE2LmJkDYkt+Q5y4nQDTcf+pcNydA45vFiQQOJ0DtGm2rRFgnQC9Zkws9JidAQ0bAWO/tJkBWKW2J7BInQMyLbQDILCdARt0brWRDJ0COpitriRYnQO0LJA88TidAV/v8+EgzJ0BlYu3sUOcmQMjQZvN8LydAf8GLqmopJ0CtATypvEwnQJgWeA11XydArA80Qr3XJkAQQGfREjsnQLk7al60CidACfyATdbfJkBkg/GUyS4nQCZdVbWC8iZA7u6EYW7lJkAOrwq3Tx0nQKt6ryllFSdAgLy1Kz1QJ0AUYmSrOmQnQOKElbcL9SZAUGviIpU2J0B2GiheousmQAMBBUy9+yZACAQOarYSJ0B4i34LkAknQAsIe/oOJydAkMthhN7vJkC1SDlWHWUnQLDck/qbTidAkTrCb91GJ0AN+mkgUuUmQFja5rdxHCdALImhQwzrJkCia4fB8SonQIZx8ndc5iZAvkxKEEIOJ0BWG0IlDOgmQOHpb1G7JSdAXvD4ttL5JkD8FvxxLukmQBjxKQ2D9CZA8/nnVxjwJkDNiUO9vxwnQKfS/fFSJCdAoKTARUBZJ0AbRcQGBWwnQNmYJy/2PCdA7lC82svsJkCe4g5jhxMnQMb7jRbeGSdA/7poh7rjJkDtW5WlC+UmQOfQtVuQ6CZAmJ4Ar8v2JkAfJ4sHhBYnQO4gSpFKEydALz+YzLQUJ0DSaRWrlEknQB7gaBNE+SZA0y/kNS8YJ0AboBz8fRknQMSSLHh1DidA61ieZDMvJ0CN8T4KyEUnQNUZ4lIcYidA746do7o0J0DnG7tDkwYnQFB8OGH1USdAAsvlcewKJ0AkCnWD/24nQNcWkp5F5SZA4YOSDST+JkBaf8dGPS0nQGE7xD9gVidAyxkR3GNKJ0Ct4xYSOk8nQN+SjwV18yZA8r68bpkPJ0B0pjdAuBcnQKLytyzCOydAtS6IsHhPJ0C8ukja5PgmQCUNBHuX4yZAcVcPDx//JkDh1XV7YRMnQDZwYbwz7iZA9Qs3PoECJ0B5oi7CZRYnQDFKVA3XTydArj6OhCFXJ0A6j5HnkgQnQCA5ThEe5CZA/gYzAoLxJkCLu3fgGvwmQJmSyKJhFydAU3y9emBwJ0Cz0MHY8EMnQHOk//sRAidAq5Dg7RH9JkCCQaZsJA8nQIkSmEx5UydA4xo++AHsJkA01m4UIeomQHmfvM5h3yZAgRb4pZroJkC06H3nBWonQOERaWoFAidAo7UCedQqJ0DbYWItoCInQMYMdFHtbidA7gsQYnruJkAdf74gnu4mQEUFb5IX8iZARXHMfKQQJ0AbvcW1nN8mQEX83OteTCdAIhSSiPRPJ0CKQXAangonQPmv0AhXHidALNsIhgQXJ0Dkuo2qcv0mQGi5XQtBRidAG71xP6QBJ0CWnQqfG+8mQGDiVEy93iZAp1c7PNvpJkBuBaPFjh4nQPKAA+HHJCdAZvrP180QJ0An1XGDxAUnQLy71WnYGCdAXBTj8rlTJ0CEGkFaMP4mQI/4XUIT8CZAmsoJH2kQJ0CvcLy3EUQnQPxEDUa3AydA0Jtip//pJkAwooW11RAnQP90I51DIidAxRHlKfkDJ0CgUZ9TkeImQHy+t8s4SidAmK9q4gwPJ0DDNZbFTConQHADK3sgESdAsvBPjyVEJ0D5nnwZTwknQKMXNT30PSdAJZ2xvzYTJ0D3anP4+mMnQEznlcVp/SZAlRZN+kcDJ0CzdLuhMiAnQFtp5yX37SZAI2c6H4ZHJ0C8eCRmMREnQFlV902/7iZAGevp04ACJ0DsiVMZSvwmQCE+OYAO+CZA7KCvBYsXJ0DNSbMB3uQmQIyWuMH89SZAOeONkSf4JkCehmqQZugmQO8A8j/B2iZA5JnaG3JLJ0BG0Z3RNSknQAcBrolT3iZAZy1O9os4J0Cf/Oj4xPMmQIaWl6nAESdAU14FK4QkJ0BWhUT5XEMnQBNh2osjSidA+KvROIrnJkAWHFZfxBwnQJhkizH54SZAkXOvfSf1JkDLiBNVLDsnQBe73IblVSdAeodDiCbsJkCtSo71nQ8nQO+Co+pl+yZAldckvnATJ0DdU+g9W/4mQAJ3d9QR9yZAUJVfg7guJ0AVPxqQblQnQKgclDNASidAXZHK34pJJ0A+YhAEWRInQMVEOoSB2yZARJ49t0k1J0B0kQR0QewmQOsOtDikPCdAvTHJWbj8JkC1VI6uUvwmQFSB/SbTHCdA/xYl3oRMJ0Cj1VwgWfsmQGlB53ShEidASLJpFFlDJ0BsZ82vmgYnQKoBeHu5DCdAn3sGe/k2J0CGsbcnSDUnQLA1ee0zFidAZgTUA9AeJ0B5hdtkpjUnQPm11qHXTSdAU2q5AbBaJ0AfHIoJZvMmQI63oPbNPidAw7JWbuoNJ0D7DTpMJTQnQEKqGl1eJSdAQPuLv7n+JkBnNg+rLUYnQHAHOrIaCidAA17azn/5JkDgkdtgklQnQK14Xt1RFSdAD18U6NH9JkCdP9DBay0nQLN36PQkNidAPWJrER3gJkBFDdUL1SInQPCf202UUydAX2kFtZPzJkCm8SteVd8mQJBQjSuN9iZASt3Ts779JkDGqhqUyPsmQLxAoRnl7SZAll42LXnjJkBixftSzfYmQAp+6Ai44iZAWVyJYUX5JkCSUAxyFRAnQA3WxTmjUydAiBhxFU3mJkAu9sLzEyEnQN9Y9+3RXCdA3LbvOfdfJ0Dtq3Y4dyMnQGHDyRVIRSdAMj+no4MwJ0CZIFfpQiMnQAUanzgOCidAfpabV14ZJ0CUDywqtO4mQGphjygi7iZALe5kZTBIJ0CkxvusSOQmQLmH8IvyESdAogq+4Y34JkAAMkE45mUnQK0ic5awSydAYAwVAA3rJkCL5Pzoq/omQEmR1JzrGidAmXr9QzL+JkDTAF2/61YnQOFeM5zgSidAKrseReoaJ0C/hBPvdyUnQAqjD6oxLSdApMCksjdGJ0CEOj4oDvkmQK/HnNpb+iZA8qTZkdlXJ0CFfb6TRS8nQI0EBZREWCdAv2NLk0DqJkAK6gAziQcnQIU083czWidAUhDbmPZQJ0B5BshMWS8nQBnxsw27CSdAxmy5nBsZJ0Bu0b6H7g0nQHLvc53Y/iZARdB3kuP5JkATfdGcvggnQEdn4L+GFydAyZPtewnzJkApTSl6yO4mQFQee8w18CZApN7CKpgKJ0CtmcvF6+UmQIVUO5g4AidAtrIaGqcXJ0AtB4FwtfcmQNKA8iuKIydAeVRDYI0zJ0C1vXiAtz4nQLSI/g9SBSdAQlNl+RUBJ0CVm86tRDsnQC+voEqHPSdAkF5uiL74JkCaihQYIfAmQHbh0Jo2AydAxidcMTxHJ0A9W7h3KkcnQFKs28jg7SZAtZ3+mygZJ0CS9p5q9+8mQDuEiLarGidA0rqDrCkvJ0DG3TOg+SYnQL7ETzpOACdA7djodew5J0AbwJTvGlEnQFiZn/XK/CZAzjz+gf08J0AXrYFLcPkmQADR+UL3+yZAEnAA+1orJ0ASUwoS2gknQDslgJSC4CZAK086kZYXJ0B0Y9QUqRMnQDTmrbnmNidAg15u2C4wJ0A//rwTdPUmQAyZD1OjEydARVcAoUjoJkDtlB/fswUnQFB4ASxBFidA/z1sRGggJ0CM+RJwcAonQH/zROzYAidA3LsMHD5FJ0C4jlsb6ksnQNTYHhBlJSdACp3qI6n7JkAMBeH8weomQMtsdPCiLCdAzDrsO8wdJ0BBC0JXAkonQAf4hZU+8yZA+eg9VvAzJ0D0EfYGe0EnQIwCg/ZCIidAkw24exDuJkDLfpL5eAcnQAwfsEY5KidA/H31khgFJ0ABySmO9B8nQLPmOX1iFSdAZuU0Vo8PJ0DhZrtZEOsmQNoOhAhkOydAfiX/EuAvJ0CEu9g0M+smQPcQEyf5MCdAe+/JwIjpJkBUyE8DkzcnQEZqM9fJ2CZAKExvH5FRJ0ANGH8/fBYnQLZ1AtcwQSdAWP9HGP37JkBv+z+1ayQnQAlr1xpZPidAnVH1kZ3oJkC6Z9t6zB0nQBuLy7/KYydAnuqLSb/gJkD2lZKjm/0mQKpsavG5+CZA/ePSFXbfJkBMs1aWdu4mQFDMLgWO9CZAZ5BVSuEZJ0AYeNmEQxInQKA7wL/RRidAOB5J/ItPJ0CpPAKz1/cmQLK268DoQidAWfRaMPc1J0Azng9kdh4nQOs+AOhKSSdAB3AX3ZEYJ0Db1cJh7d8mQBJvgdLxFCdAavSDLkDoJkCDSUddiCgnQIBA74qq+SZA1/kJi6YOJ0CEqJRXhBInQOy08KQdDSdAC+8CbyhOJ0CXqjpvfuImQNwFRjm58yZA+2bsWj0+J0AifNiPcREnQB6JRmmeJCdAL3yanAbkJkBhoBhKExsnQAyKuQ6wCydAMRobSB0KJ0CAhxaPiiQnQGhU03JlXCdAzYG/FGEXJ0B7t1q9clgnQGweLq5PPCdAofCezvXvJkD7Z3Y2cwUnQPv4hL23RidA+UPujhgwJ0AAUU72XWonQG6cHdrv/SZAuQ/Z6JESJ0Cuxik+Ef4mQFruNJDCHSdA3Jp2n2zzJkB1xVuPVEknQJqmR/6jCSdAx0Q5kg1EJ0CqnmRqFBcnQIqSoq96SSdA9KEdB9xHJ0BRwAa/VVknQJcLZRR77iZAS0pbI/5IJ0A2PLLLVAgnQIKPU+ZPFidAAaa3/2FlJ0Af44ixfT0nQHiIddRAEydA+vi1/XhRJ0D0CA2I9eMmQAhO0TZs+iZABteRK4wnJ0DAbpPF7esmQE2L6dH9+CZAzOrtC+PzJkBkROsU2esmQE93Zz8KUydApEBe2c8BJ0ArqYwpKUUnQMpfQfCZLydAaUXZgJnnJkDPXlZwiVInQMjDG9np4yZA0zzYbPPZJkAdhRmOkukmQJWssiXCISdArRlnaKj/JkCRh1uPIekmQLe1j6YT/yZAT4rHrLHxJkBMKjm/eAonQCFi0L4k9yZAq8mUjB4kJ0CqLAmGNlEnQFv2TKEY7SZAnHO/D0AoJ0CyMHdFNi8nQPpeVT/Q7SZAQj99E7o3J0DI/9zr5Q4nQI+DKv0T8CZA36tIuexQJ0BNvMW+RSQnQOA1fCLfYidA4WzAuEo7J0CaFIJV3jUnQIKaGP0q9iZA2gpv/UkdJ0COyFml/jUnQBbHNPFTBCdA+PocgwkZJ0CpDtxgTjgnQDiAIJ8yLidAHTzSkdH9JkCWjOfr6+kmQOjC4WTv6SZARZaFokz+JkDglZafbAgnQCHfDPyQBidA28HJPGtFJ0AEOS9viSUnQDxRVS6BBidA9sIxtrn0JkDGqQDu+RsnQCkPlW10HidAmkQYwe0CJ0CycPXdjGcnQDF7rBAcHSdAUy+GQYHvJkA8dUdLTh0nQOSl4okTAidAwkiRgz4mJ0AA3enyKiUnQBznwlC99CZAenlkk4FWJ0ClBtjgBe4mQB3Q4BoBWSdAgzCAey9mJ0AHn4jfiFUnQILCIm/S/yZAnfIx0HBHJ0ASVBUNagInQDJ1bfVGUydA9Ws3PVVnJ0CF/0jxf0MnQHxI6M30ACdApqQUiUVlJ0BV6uqtet0mQLK5aBbrKydAfXWdfAYiJ0AXbeanel8nQKISP+arCSdAN3QRuXcwJ0DgJfBYb0cnQM0ll77W8SZAx3l0DeIbJ0BcN+WBLmAnQKPlkhMWFidAFvRRYMsqJ0C3Ab1QjjcnQNi8o4xv7yZAJP3ujckeJ0DFXFgNRSwnQFjW55KTKidAI2cCyOI8J0B2pMa0Lf0mQFmn6Lfj/SZAVjSwCLr+JkCm8R/RZQgnQPFNNG466iZAn63Kwh5MJ0ARRmJxsycnQK/FDlik9SZAmi1xnckhJ0DCNFUB/DAnQHlgeo1cCidA/1YRQsTzJkCHe4xtCUMnQPwfHkjHTydAsh/6000kJ0CJ5VuoXQcnQA9+GsxZXSdA7p90a6sQJ0A9gPi9CuEmQMYlOdMvTSdAW6yjMQL+JkCwNR+vw1InQB1724L0CCdApRLQZJRUJ0BMUfEzhRwnQItOwa+O4CZA2BVMBVPlJkD4/Ou0VO0mQC/lqLjpUidAaziVf838JkAHlhmf0PcmQGYnLKC5FCdAFLIyePg3J0CQa0rnLgsnQHl1cTYSASdAqlauUBr9JkBFssNnxu8mQLwrtjRXCydAe/GTTCTdJkAf3azEVzknQBPGr/B5JydAIv9vX6TZJkDrefflTk8nQMmqxvBm+CZAsLOWv4HsJkBme4dnfwwnQJPWROT1ESdAaDpYkWo3J0BA9iuoXBcnQMMLMU0VISdAS4dwk94uJ0BaP+T82AonQHV0X+pGGSdATqrUL8n2JkD5SJxYyPcmQJfcd9fo+SZAOCdy8srwJkB2ri+vJ+YmQAYF0erB9yZABthQNzdPJ0DzUiii6xgnQGCT2656GSdAxJ9uk/8LJ0CA6a/alOwmQLKIziu++iZA4xRbRQpDJ0BexNLRQ+8mQBBj/ZqBEidAavY/oWMtJ0BzIR4LNz0nQJcjBtt53CZAJLuyQyJFJ0CF3wplCQwnQAgAZ1i/JSdANXklL570JkAq6IurCVYnQF+WTO7N9CZAqcad0sngJkBC9hj10x4nQAsYjGOVCSdALndFi/0/J0Aq58NyJgUnQJ05o5M/SidANZEH5OFOJ0DYoOVwBQ0nQIfuNB3G4CZAX/XjfoEPJ0DXFeswGwonQKKALZkZ4SZAWy5XmGZMJ0DwZIehA/wmQJt8uC73AidAeDIK8TRvJ0B2IIyg9lInQN8LxEl7+iZAOLH8MQ8EJ0CuvFsGfQEnQBdNxZqIFidAD3Ii+vwBJ0DitMLuHAwnQB61J3HnFidAuOJiX5o4J0BXbfMdzSknQPxMHE2S6iZAJYZVq6T0JkDV0RcKykAnQN+gGKwZESdAOSsi+SPvJkDBXAfft04nQJQkzTXUZydAIvlHnHdNJ0D8QE95k+ImQGgLC0PSWydAFzWqsjjbJkAjxn1ylTAnQGLYgOorZidAc81hsCkSJ0B22fx389wmQAkvdO9jBidALx/m5UzzJkC8pn3dhksnQLgx+RXq8SZA8f99I1cmJ0BVOAOxXfgmQAd1j96/BCdAWCJWyJcJJ0AkVJxIAFEnQA6KRcnKMCdAQxeCNBMSJ0AbnPeAjBsnQMZ/sLGbCSdAd4QTuRofJ0ByemVfGgEnQPR8ZhmlFCdAUbq9Mwv9JkBfjPB+fUonQFvcsNYCGCdANdQbxVIKJ0Dh+cPVmiUnQIW210NENSdAGOaXwM/2JkB1CS8uM/YmQM/SvySrUydACeFCUvkiJ0DXIr9lvnYnQB9iXsFPRSdA5nYH34zqJkCfywVmWCsnQH35grVkYidA38Boh0pLJ0DJE5sOBBsnQOc3N4hx/CZA8TJrJgxxJ0CDMVMX2uAmQFz65vNAZidAFcYBaCbvJkBBYRSKZw0nQHYxvgYu/yZAlDlaI9g9J0CYjTVK1SknQCv2tyyk2iZA5WwL1s8tJ0A7s9apry0nQNVbIbHB8iZAG8p4VAZZJ0BszcBatBgnQOs5eC1vUydAEhCLlaxZJ0BkY2WaH94mQKL/7J1sJSdA/jmQudTwJkAAg8eeayonQF2afQK+ZydA6+kE1fVOJ0D9Q22TMwsnQI6O8I5DMidAdy9E8X/ZJkAf/48w5/cmQCWV1nJCISdAf/E5vLA4J0DqYvJ08i8nQH4x77RG+SZAFn6+rWQGJ0BlJvyZeBsnQEwT4fL5VCdAYk0W8MQyJ0CmjMAnXWQnQB4aQTMYTydAEnIIcmsNJ0ClpYX+EyYnQJ83nt+3DidAskI0BzHzJkCdJtKyPPkmQL1V2Lrv9SZAq7OXzzIMJ0AgOA+JSyUnQO//2c9rSCdAP/cpJPTyJkDfmZoHJwknQCV8QjcdBCdAAweYGhAbJ0BIMHlSczEnQOnfm55k4CZAsW0fSxPwJkC4Rpa/PPkmQJ6R28prMidAmlMwT3j8JkDWuE0HeU8nQL8+d6e0RSdAZNfJAyD6JkCpS/yibEknQOA0bPNLQydAuo6UPlsEJ0CdXk5dohsnQMxhtFY7HidAIZVQABYNJ0Bu2m2Zwz4nQN0p53heUSdA88GOwODyJkDVJ9448ugmQB7CrVU6QCdAt0nPi5smJ0CFK/PuGRgnQLzQ56fbDydAMxm/PucvJ0DHthKeIWAnQFJ2uu1CbydAeCKwsWv3JkD4FMPbwgcnQKt2MVzTUCdAIasVSjgCJ0B8RSrN6lcnQKRDVF9oACdAgt+HHic4J0Bkq75vlBMnQO5QYo6+GydAMLxNrbjmJkC3oLHVLfYmQHgsgo5fDydAAozkbeMOJ0Dn4GJBvlEnQK+cU2AlISdAIOShbzrgJkD73s77gAknQDzy9ULbOydAcHY8UgjtJkDUs5UY3DonQHDaz8sp5SZAzUEDbMHzJkDouZKhwwknQIFUEvYVWidASsZowRPoJkBG3cvZ504nQLkJakp5OidAnmPpSLQ4J0Agiy7ztwwnQA5GeypiGCdAUffgQtogJ0BU/5fDfCknQFiZmJe2AidApaFlnUIxJ0CzpIBtHQAnQANqMK1bKCdA/TVRxX02J0Dc0SSZvvkmQIAF6wUX5CZAzZxxDZ/2JkDfdOeCHD8nQAipL3Wu8iZAEQCXviQEJ0Aj0i4XwU8nQN9bqNM/BSdApnG2x0wBJ0A4DJre1hYnQMutKm6a9CZA3aoWnM36JkBKkHTw40snQA4rQwJLUydAydCuhtQnJ0CFZQOGpAMnQJDsMEAuISdABmdZjmYJJ0COowggae0mQE3vfVgBGidATP46vPtMJ0CfQzSTORwnQPSLd1dxYidAHJ8CNtTzJkCfRIlv6CInQA129GuNUSdAVC9bCOwHJ0BoQYc08/gmQOx05UnpFSdAnFep+fH/JkCjWn/egwknQIi3r5L9FSdA1Sx722hQJ0AksPYIbT8nQINUc8tE7iZAPJksHrxWJ0DNClfQzFAnQFEH5KPnBydAPJZG+kEKJ0Di+gDdpvkmQNZ2HLnSKCdAbf6qp5UWJ0AHY3fpwfEmQLb4szhuDydAuv+ugsk+J0AQgRuXwVAnQDd4VMCX7iZAeG+CvkQ6J0BQ4j8RZxonQM/ANQMo/yZATOzwYiQCJ0D6s35bEOgmQBN7B3NxACdAycqnq35GJ0AZC/pDgiAnQKmphUaBDidA6xebsxlvJ0AGQ6+uLzYnQHv3OPDOEydA8hLAjmYAJ0CoQ+3IjdomQGIE0iUDDidAhMDWgeYMJ0DT3e7e6CYnQGxCMdHEQydATiFW6Yf6JkC4GK3nttsmQGOoPkYfTidALWKwMAwKJ0CfjLkaZh0nQOyNqd3/IydAxCbJRLcgJ0COFpqsQwgnQEli53fr/CZA/IgbZTE8J0A0uMLicDYnQCYn7QLY7iZAVWxSbf45J0A+woyi8/MmQCzD6Hi5MydAuhGsJ3gEJ0BvsinmUTUnQK9LO00wOydA1QwVZh8sJ0COwnYEKE8nQGb1gPMvISdAcTQR8Ns4J0CKixGk7/EmQE2EOeIoESdAlmxsfqgJJ0AMOF8OuC0nQFnYYl3F+CZAReo0ASP+JkA1424XZA4nQKCM82CHcSdAiLy5NHv4JkCT3nPNkfcmQMd5W8LFBCdANbz6Cx5OJ0DyNO+e0fYmQKwjB5FVCCdAkVnqUIAQJ0AWxMkeDAInQL+DqwpT7yZA+kUEFY0eJ0AcFbo0Q/QmQHz382xR/SZAkGqG24kBJ0AQqGhRsiYnQFuOulNq6SZAMKBeOoIYJ0CsPsvOXuAmQOMUe+4j8iZAB05Sqq/pJkC/HXMT3DQnQBGrWCJ9didAaOzo+WMtJ0AbT+IlozMnQI0YSYgELidAsqpqZ6w9J0BlAy8OlvsmQPVaXkYyHCdAEYyO0eD1JkCuyarFhi8nQFaXCSnFMSdA9twq3qUPJ0AfNhZWUlEnQKPaU+xgCydAxchFs700J0DJeRKf6SonQDuMOSgAESdAn+4hmw4zJ0A9PxkdvugmQFipOJzgXydAR/KKp4gAJ0BrAJUw30YnQBF+8KrQOidAaGklyZXhJkD97wC3euwmQENB/2jrRydAuEDt/8/+JkA+Bigw5xUnQCVyZxAALCdAd03BMfYQJ0CHyDFo6+MmQFrQtob7ESdA35+52ggAJ0BFA59NDuMmQHFD7uBWECdAeOeMxw0oJ0ALWqzxg/smQEI4lZkfQSdAmJtiA61TJ0AetOfs8ConQHrJh8pA3SZAr+GM2OM6J0BNA8/cG0AnQONY8PPdJydAy83Piab8JkAgHuGxn0knQJfDOdni6iZAEjximzwwJ0A2t62IFfImQBaSi+LCKSdAIWEZArrmJkD/MuQUhBEnQF0hOqvm/SZAybJTcalkJ0CTBH03+PYmQD+c20ViMidADMJ3T8QtJ0C9fv0sRfImQJ6dpgrW+iZA/R6bBvIQJ0AWwP44RS4nQNoi7QUN8iZAT4Epy09UJ0BA76lg+hknQIfddok2LidAOTXkyCNSJ0DoISpGmP0mQNva8zYKASdAfjTrA8AVJ0DJizQykwEnQA3nLV0qQidAjEYOzwU5J0D0BJOsLBwnQKWs785K8iZAKxUuk6xQJ0Db8T8SPQ0nQEBV7+ylSSdAKt2etj1QJ0BAYoDf5xMnQOWiq4NQ5CZA2DMyqfP2JkBXdbk9dWgnQCS7pxAmFCdAu0s5ENzcJkB6CC04rAsnQN1CG+VCUidAkVoqOP5LJ0BL1N7smQAnQNmBinXCTidAeWztZEcsJ0Bulb8LUfImQAYQVzbVXydAuHyFeE9cJ0CC8gfVdygnQLfdddz+4iZARFnEXPgUJ0BzhqsZ7RcnQAdO0kPTDydAkABDlfJqJ0BVWFFX7GEnQHhJbm0N/iZArVgns6D1JkByIRc2u04nQL8f0j8RKydATSEuMKYVJ0D1fhHHC2UnQILxzEKM7SZAcw1HoexsJ0DH4ubhtFInQFXZUnpZ9yZA7xdljN1MJ0ADGqt4sBEnQPhzg0sMWCdAyI3zWP/0JkBbbIz1NTMnQCD6jJXFLSdA+/E5VaEwJ0B9x1K4iQInQAHAFNgl6CZAK6WDf/v6JkDGdCxkDlsnQORPdhytOSdApJUuXtBCJ0A9H4Ut0SMnQPcL7pMWMSdAeZTeysoUJ0AprUl2UwAnQENvyh2cRidAf/z8S1YQJ0CFNMNJ4fImQGWAVSeBSCdA3fAUC3Q/J0A6z6cnOkAnQKUNwArN4yZAt7mslp44J0AnfmTzxuAmQAYaYOoEDCdAsnK79xUhJ0AGig6u1DInQCTnGzmsRidABIgCs2ZOJ0BcBjKw1QsnQJDxxvCjDSdAZfFUQ5PYJkCrSdw3+FMnQIYR4fyNZidA7pqTB61IJ0ChdvYUHCMnQImXkhOASydAB0yROaohJ0AEvkyhuP8mQABIZg7O4iZAoByGMOsTJ0CLU+zmbz0nQPuRc/Fa+iZAOFeqPEjsJkC3EYM60fgmQPnq8h93SSdAuFK7O9sSJ0CXaHITmSknQKqE8qug2CZAyuX4r4pOJ0DalWu7/f4mQJSCeQgE9yZA1veipzdAJ0BKzGuOruomQNfgBkBX4yZAD/JedxIQJ0BA4hjq2fkmQAyQZrlpAidAX6VSDNrjJkAxALlBwhAnQKO8Zd1RJydAzKO2okftJkDYVbM5RhEnQH+f5yYcHSdAnvpP3BoGJ0ACdBq4hhInQI/yTDx8ZidAbS8lNAIhJ0Ao3lCkMeAmQL8qeI3ZHidAmdoBTH9JJ0DNiFMUPyEnQJ/Wi8AGYSdA8Ef+ClboJkBmU+zdlyQnQAGfOUZhACdAoBf0/PXrJkAyo/aPnT0nQPieNCfs/SZAOKjv0IIoJ0DImICjPw4nQHdQ6Sm/+CZAe10fMMREJ0CajsMGmkAnQKBEz2LO8yZAwWAVi2o7J0DIxA2tXgwnQAzqo4kSESdANwpMLsgZJ0Blut6HrvMmQGi0zpc29iZAdpBk7FToJkDlvwZiaCgnQHddIkm1DCdA+9rAeOwBJ0B2Htqk9hQnQCTm00a/1yZA3pvtdegbJ0Be9wUluTYnQBVmIJi0QydAYovXy5MlJ0CTlTjKWAknQGIypw8tIydAwICDBQISJ0Aq3U4OFugmQIWQ9xrWWCdAQcxMigzlJkC8PawzVDcnQC/lxFEf6CZAqUtNsBshJ0BIfQ3XuDsnQFLs3UgmFCdALTJKdTHvJkAy9uGaIPkmQCXHmjY9PydAwTO3uEDmJkBD0pDXpd4mQOPwl932VydAF8BTVIAaJ0BhzrM5/k0nQB1yC+cZXidAOygg19IUJ0A+APIdbyMnQNsX0FJObSdAzIeznejiJkDjqT8BqQUnQJBr+YzGPidArG1EdmfeJkAjU34UpRsnQOFIIMk22CZA4+SvKEBMJ0A5TMWEmR4nQANd9/ns9yZAk3mxwzcNJ0CuV09QZ/kmQN0OMh2BAydAIsm65YflJkBto1jomDwnQO2flxR+DidAlAddFhndJkA3D2Avl+kmQMEQLUV+FydACInmpZHrJkB0UkpT4EMnQKZ8JtzaASdAe0i96DYIJ0DjZRGajucmQFakdW7YOCdAl4CGyB8dJ0Do2bPby/EmQGCETSNf2yZAj47pP8YUJ0CctQ7hSlknQKtHMRZc7yZAvl1jgioXJ0CjV4pxEAcnQGKsdmYtESdAOh6V+U33JkCNww81nwMnQO4y9qfoEidACJX1CKsNJ0AEeJRvqhwnQH8fHGW56CZAkD59d+8uJ0D1ogkEhhsnQBOQQABOWidATMt5gQEwJ0CaiZtbSPAmQANLg5dETCdAOtup0YtVJ0ASsKTZDhMnQOFZMsm0+iZAuFpILpwaJ0CHsMToxwQnQMMPwx+CQCdACWCahHQxJ0ByDel7HTcnQGLTIs9vIydA7KLcrOfkJkBnD/OJDvkmQE4ZWQDF7iZA0gU22fErJ0AVNJYJJv8mQL7LVmaBMCdAef5nuDFBJ0D/2XUKI+UmQGiVqGDhSCdAw5ykXRv1JkBJV2RfNWMnQPL4Pmrr8yZAcekZILgdJ0Bj7NuSuSwnQMHBpmXFBidAtjEC0cv4JkAn4xqfJwEnQOfBvOT8EidA2JH9nZ0JJ0CQJXspsT8nQL63T8xt8SZAgW9grvEYJ0D2hnnO/+wmQOFcuq8K8CZAozdFVH/hJkBlRIPByPMmQFAPmynw/CZAIyMFa30kJ0Czqh+ScAQnQKYjylcFESdAJ0oU8+kOJ0AiwxOiBgEnQD6wYl/+2iZAF4KE0sM/J0BKXywLcmonQFAUB23A8iZAvkLrsY0IJ0BNyr6DqxonQOenxJRhXydAveIepb4BJ0CvqUM5VeUmQK9J9TH22iZAPZtK9bJIJ0CFkpl7BxgnQJZb1iAWMidARXzsl/YaJ0ALN5RlvO8mQMqOU6QuXCdAwdSPRPZSJ0DajPFVm98mQBO5xrCdGydAdYBb8FMSJ0C7AEV2hUonQO195Lql7yZAP0g1dCEjJ0CU1o4/l/0mQOQ3IjxwaydA0Aohlob6JkBs6KqGLvMmQIL5yMnPEidAbCzh5mc+J0BT/9pPJ/omQJXGSuVxQydArXnk+9AnJ0A25NYUXWInQIQ5zpUVACdABANkld49J0DoBF2QlS8nQEkwDCaDRidA0bVTIeQuJ0CcwmGlkj4nQAvJ+aGdTCdAXnj+9/r9JkB0Os0Ifx0nQApi4yYaXidA9dUtXlRnJ0AR1ywQ2jInQANYpWwJECdAjCZZ6yVhJ0AWN+p1RgQnQFG5SuukMSdAqMIrLrUNJ0AN2RC/hAUnQPzpk070BSdAmj0g3fU6J0B4SYLwPTcnQIAADzepHydATa0UOQntJkCqY2xL6honQL4m6gBm4yZAIh0KiYBDJ0A0BoSTaBMnQPaIdgH05CZAutTlZzDjJkA2vqRznEInQFwRhU7q9yZA1Tbn73EJJ0ATWmZJeyMnQE5877rF6SZAZoEKyzMyJ0DuJhNvZxAnQEcRvdm3GCdAbvOivvotJ0AKaW2wWeMmQNRo8V/83CZAz16uXhD1JkDwfGq77OImQAgAP3FRISdAS0mwgDYmJ0DIWLXbKmMnQMagEKoyJCdAuW5PtxobJ0BE2xuLUUgnQCdQMqH96yZAypvNFmFQJ0BNITsobwUnQPEYgBrtDSdAZSAzN3riJkBKywVNJzknQI1TwHs4GidASF8EOWAMJ0BcmnKm0eYmQC5T5T22RidAO+ITzvQMJ0D+G8+11lwnQH5l1V71UidAFfPhrFUBJ0CtiPGabgQnQNcAJnu49yZAYg8+5wJMJ0A9NqEts/smQDQvd/PfTSdAcVsSZ74AJ0B7+jitJxEnQHzUYj5ZLidAzvRzNPkXJ0A3GM9HTgMnQLHUvXfPQidAtPW+U7ZcJ0BOIZHjfSQnQBNd4UiHAydA+WcZRHoVJ0Be3rtV0iUnQMpNXjotRSdAHdxpGZwWJ0BxtqS2HnsnQHXKB+27FydAec5FrNcLJ0D9v3d1S/YmQB111oa/CydAeQzKs3UcJ0DYVc1X8v4mQOHJDwY6bCdAH4lajCcIJ0DhI69QrU0nQPcT2ucE9SZAPGaGe1wBJ0Djde3ym04nQEnihi5a6SZAY6a4AXDyJkCeHQ0mwhgnQP6TbC697SZAzVyX2ODqJkAD9Ht4SvcmQNG7GSAYLSdAlB5MlvMtJ0BTgvlEkxonQNDWDpoXOydAOcRy+Ig0J0DNzZw91ignQMz11CnRCSdAZwV12VsBJ0AgvvzETQgnQGasW1vFPCdAMT5SKoY9J0A/O8KTs/ImQP3OshFAACdAzGlucPT2JkDHRPVFD0AnQG/srL8d6iZAr4L/lcr/JkBfO/936fgmQFAYXqZbESdAbZNTzMX9JkC9nKFnbeomQK+5UcwyACdAjz5lvAMJJ0CuGVcvvGMnQOrAId55EidApgH3d5tXJ0DsYdoxRBknQLtiJ5WISydAhJ8EbCkAJ0B0XOMHjConQNXrK/bpQCdAMwM4VS1VJ0Aw1gQzyukmQHWzu6nuDydAvhsrsrBdJ0Cvo0ycKEwnQCKQCsKQBydA6d7iHMMZJ0Dg4F4FSA8nQCSouyI2JSdAytKtrslfJ0Dw8GpZ7WMnQIabaZEvRCdAVqrd7wZVJ0DQ0fwnsEonQEsUYOVe+CZAZ7zh7MgoJ0AhWc01hOEmQGEdfmUnQSdAIL/wfHkgJ0BWKH4kDvYmQCcmlusC9SZAVKVksyj/JkAYW76h4AInQO+bxVxL8CZAJnKM6ZnhJkAFeO3YBzYnQISAXzk7AidArLzA7u9QJ0AU7Cr6mTUnQGSOB4BLCidAgBN882UvJ0B8fJdzolEnQNPAx6892iZA6cLGQlQEJ0AxsVQ5EUonQAj3treeSidAFLBlA0RMJ0DnnxKu7vQmQMmDFZioBSdAGXWaAX9HJ0BmDtN9YWUnQNqllJtd/SZA77ay/1I1J0Asl/SdeQgnQCdrfoL26yZASdpkMw4uJ0CQ9JB2ZPAmQOsoTuJo2yZA5K95RRXtJkD7yqh/9UgnQNaFCHey+iZAqmUcbvZSJ0BrTMxNR0snQIy8Lcq9ACdAvaOrwBJIJ0AVVwncCSwnQE6u169mSSdAECGQnXwBJ0DgmuiiVD0nQOpGiJHt/iZAHF0116lFJ0BYkK2G5kMnQP10tfbz3yZAUvfaRxn0JkBSD03Y3/4mQGZrruxTSSdA0tVhvPEVJ0C+EIM5of0mQG4nSWVrSydAO9brOfUVJ0An3n9iFR8nQOkdTsX1/CZAEhBgmXFiJ0DitWF93T0nQA2A1W6yCydAEVGsAw3zJkBp8Mw7NiwnQH2VBLSu6iZA+Fzn3s/kJkCIJ0XrefUmQCyglfPiQSdAGKFZRQ8mJ0AYCIcsxCwnQEaiplUbFCdA+n/WbDAVJ0BY8ReLeksnQGgHnUfuCSdAeeRwDyzfJkAaSpoE5AAnQLE6BepRFSdAL0wSbrgIJ0BCBTa3OlUnQEVeoYKC+SZA7UulaABjJ0B9tiXP5yEnQIYYq4UcRidAl7qY/ZMVJ0DBTKnWKvcmQGaovoKl7SZAo3uRKzQLJ0CrEpAxbPQmQGqupo0z/SZA3PHmQUDbJkB/uJ+SY/0mQGyDmMG47SZAL83uclX/JkD8FVrybA0nQH9f5SORXCdAowKLv8AXJ0Dvo1pOOjknQNe8lgUANidAD8lPjjoSJ0Ant2PIOT4nQL5lm9qr9yZA5vugYqlUJ0AnWhs8kvYmQD7uzSbwCSdA6URZ8FXrJkApuicrSlcnQEFSho7ZTCdA6YFfxqTXJkChlsanqPYmQCJT3QcPTydAVvb42PY4J0AXA8mANPQmQDhtxjK9LSdAxqcc8/ouJ0DpbmlVAhEnQPvnV4XOJCdAKtQKmYtBJ0CzV1NMvQ0nQNPSqks/ICdAW8/fFQZRJ0A2dKoeagInQF6gtc70CSdA9JZNCXNNJ0Dpn7GD4k8nQEnkM+Y2QCdAruKO/cgJJ0CGt22i3eImQFimBb2eLCdA3u4NTlr7JkDiqTYBVDknQBlCZ6BiSydAkNVktkT/JkCjp2+9NfkmQBkJiWhcGidAs3EoWsZTJ0BPey0uAxMnQOU/030s6SZA+mNcIVU0J0ACf/bP4AMnQFRiX0WUIidA6gM+UUrwJkDA+gfqifkmQLHohqQn8CZA1VEG8CkRJ0Acz2KII/QmQGL78b0U2SZAiIx0WxLlJkB8kZCSnTknQDnl7U51PCdAHvAznT8wJ0DUO6JcjAcnQEKuDna5SidA5jdvmzcDJ0DHbMtJLBgnQMt+lGzsWidA3ZTWuINCJ0AFlVInYkMnQNYqO0oxGCdAGoklyBJPJ0C5FzcJ9vEmQKDB0u6MWCdAjt2dlPRYJ0Cn7YE0luYmQEYvoiSE9iZAnvpILn4cJ0CSt7WjDzMnQEr+rQDl/yZAfua/x3gwJ0C7vHxbqfkmQItDhII6/SZApvXiCc1VJ0AmSkA41SQnQLu4iXvL3yZAYwbTPW8TJ0B74REtxfImQNW6ObVL5yZAjqzB3NdkJ0D492gUOWonQPat6aLZVSdAyyoDp3v9JkDiBTgl2vUmQJb4/rWdFSdAaGT6AdHxJkA2+zWKkQ4nQMTuF5unLydAwDL2tDMpJ0CNkeBmo1EnQLMu3oCkVSdA/9AyoOkVJ0ANB7yl8jcnQDWLmmJYIydAczPbJtsvJ0AA4xy+SQwnQJ45PZK9DydASN3mIThiJ0AvyECT7PYmQN/AHJbKNSdAItthDlA1J0BEooiEBDQnQC1QXiwXSCdAxfHL3EQ4J0BgiOWXnA0nQCjiFGwQ7CZAaTx+2wfyJkDaIR/UKRUnQEZFQoPDDSdA465+fYE0J0ApTMh+dAQnQBBw/DUPDSdAnib46TEFJ0AZA+bS8ucmQKwrPdcfNSdAgyQg3D8aJ0BTvkSuri0nQJ/vwvnSGidAEORVugQzJ0C59j8tF/omQG+XINwkDSdAdnh5hAAnJ0DWfUtrIEInQFwZzxpdaCdAbXLLCxxXJ0As9tc0/EwnQDbu49DTCCdAnPnga7crJ0AqwGFE1CInQLUfJ6cKQSdA4p8P55f7JkBhPn9rAd4mQCxSCwwrAydArOzFeMgBJ0A3Fdc8+S0nQDna5jSpGydAFv7hTFwUJ0A2bOqY8PAmQG/J7BqiACdABDRfGGMKJ0BvWrX0yg0nQE15mn9T6iZAHzQmTDf2JkDvQ6z0rC4nQCQ0CvDHHSdAdXAFORE1J0Ai9vGA7h4nQMpdobkqEidAoK/gNTrsJkDW4x8q0hUnQE36B4aXCCdAW4MaZXf6JkCqDv/TweMmQIHSPVtVaCdAAUav1KFHJ0CJgFeDICsnQCP1wwsZLidAFCpJrk0JJ0CumHJRCCknQJldc3co9SZApD68/V0XJ0AF9Vy1mi4nQGrDQii3KSdAfhf1dRztJkBvagEKxN0mQBP/X7lLMidAGz5xKKr1JkBTZ9sFHA4nQEHcuYZp8CZAKOKaI+4NJ0AhYTYuO+YmQG8GNWzpSCdA7jus0/NBJ0BMg7lndz0nQNIAIT3uHidA16zshDgjJ0DysJMlJTYnQPaow+NMGSdA4fYLy5kOJ0DpeZYok/kmQO53MqNm9iZA0BWa++74JkC4LwYQqeImQF3STkwRJCdAHdpODSsrJ0Abr+BWQBonQDf0mUibGCdAefHnnMApJ0AMPHaHAwonQPxNqEeDVCdAlJX396j0JkBLEPOY5E8nQGt5zI7eFydAbZIkOxwDJ0D4BcvwV10nQIx8xm2iYCdAGBpZ021NJ0AyIUMRM/smQMZUy01xaidAPlkZj9k8J0B5MS9hERwnQKW3vcmaHydAKijs7kDyJkB0SU01nu8mQKDg6pmhdSdAANTH59oDJ0AEnhs2D0snQCr7ehJlaSdAT2z/SaZRJ0AFh9A34kAnQGBGhba6NidAnqU2ltkwJ0BCNaw38DQnQP+ZN2drQidAOXf6fcbwJkDCQevLS+EmQK/UIXiEACdAq7N9yxsUJ0Ax4aa2hgwnQBzg40Wb4CZADfZ2ZHP1JkCQYeX+LB8nQIGwVyK1NSdA4ssR88JXJ0BMMsui3F0nQD2SF86r6iZA3CzpLZkyJ0CdPSAF51AnQIJT3qVo4yZA5W3K/D/iJkCwNZEX0ScnQK+wZXZAAydAqFlgBz/nJkBK+o+BZvcmQInHXxBqDSdAoq/pnxRGJ0CWurQ9f1MnQMAq23rw/CZA8AzEA3NPJ0CKa5HraRknQLxdTwWz+SZAwuf6bhxLJ0BX3gcVDC8nQIxuzvOL3CZAsXZ7VUk0J0BZLKcSblMnQGHGb1V/YCdAZZ61nIcyJ0AjICDuJzcnQOpeHQqWNydAeb8Qa34PJ0CJcX5H99smQEC37iETGidAQHCcLPZEJ0BBlDqAkS4nQLOQ3QNYFSdA2qdbWHAVJ0BJRu5jC1MnQDw1QJo3GidAQvKXZdtBJ0AJvS868uwmQGh3cqqAGidAeFFEOE9wJ0CdExn04hsnQCPW/ER3LCdAJrmGafkNJ0AY/VUDx0gnQEOKbawGICdAH+ioubMCJ0CJ5PgzXTEnQHRTYpz/VCdAxaPKca3bJkCukc4R+vgmQHq+tTkWPCdA9y+gHLnmJkAf4blpXWInQIVpsfs7KCdAYw3zvmAHJ0BGaSxt4P8mQO2wxz92PCdATxfY54tEJ0Dfi3YmPugmQIcTvbOnMCdA+NvubfFrJ0D0ySCiSkgnQAyw6hy/SidArO6+PQZXJ0AVgf9RVfImQKsZi3lqVCdAJ3XCVub8JkAtkk1cB+AmQGIulnpORCdATcw4DmzuJkB3TQEzNSAnQOXubsmSDCdAGqe/r/flJkDOVRx1azInQC5baCJpBCdAIPfek9LjJkDDkFRYZyMnQMSITQZ26SZATNjsFpErJ0BNWbUcOBInQPG7pBytCCdAg6eZfC8NJ0CwlL7IAeEmQE7CrqxAbCdAKDyJ8a8rJ0BNRr7iP+QmQMOpCiXL7SZAeP4I++D+JkCNWtMvB+MmQFeEH47VWSdA6/xA6tlKJ0C6HQT/TOMmQN5CDsHzDidA2yShacMpJ0CARp0CpwUnQI1wOrnUASdA4sgn6CFXJ0CFK35InEAnQO9IFPz1NydAo/UbmFAqJ0AVdVI4dv8mQKA/9K8lGydAgzqFi+wTJ0Diw5L7IwknQGyPcVBqDCdALsRQaKNuJ0AdFjn26WEnQB3YQoQl3yZACFQM0RY+J0AfKuGkpC0nQJttZ9CPCidA2t7bY64gJ0AKTvTypO4mQLrQWM8FWydABpnkxafsJkAhjPiC2iAnQGY6Er5N7CZAM4dZp8ThJkDokkDeE/omQPbbO9WiJCdAt9ret3sHJ0C9oVvshVEnQGw2Zqh2cSdAzW1sp2YbJ0ASpwQLTQUnQNQJR1vU6iZAklTlkB9HJ0BiYr8sj+wmQCloyyDtHSdAnuK/YwVJJ0CFfZMCf2knQDLk5gNzWCdAtAtfFKUdJ0ARDW4m3iUnQAOx7ArJTydAnSQ9lIw0J0BEoayzHAsnQEnUDQz2ASdAlvNCU3cxJ0AGwN1iAxsnQAwjsmBQQidAUZYVdIMnJ0BhsgPn1gwnQMdAL01m2yZABYXyi0PdJkCYe940QeQmQJOoIbgg7SZANXY9qFAHJ0C4OSPiCSwnQGyhSgwAUidAWt54M4IsJ0CB1LCBRVcnQB+L09U0GSdAIryLZeVwJ0AzrNG1b/cmQDKNRuF+WSdAmUT16I/vJkCqbgB3yPYmQMGHjwTOKCdAxC07PjTfJkBe0R0IHjInQNPZj0Ww7iZAN5gcBBjzJkB33KHljU8nQGS+a+3CDydA8cc/Q0Y9J0Af+3rfs1cnQMszbwOoGCdAwE0KZMBJJ0A7ja0EoEAnQG8Zo2WO6CZAQYTp12jsJkDDnEjEF08nQDcFMCHVZidAxMRTEI7vJkCGRHaIGPgmQNob8UcPUydAog7m4YsmJ0BLZaab4fcmQJjyFr1QRSdAHIQ7GnYIJ0CrNKim/ywnQG/Nz/JrHydA8qSNoptdJ0Bf4eKwE/4mQKFnPsZo4CZA6F2jjmUGJ0DiNsTOZlEnQHK5L2XPVydAumi57rFZJ0DC/FdiMwonQACj/n3ZESdAHxvdEsIyJ0Ba4CxHNTUnQFSBYrm+5iZAWSeqm41SJ0BATl0rmlEnQMuudO7s9yZABAQWEIP3JkBPJDIPWQQnQCIDrLrTQSdAhOvheiwbJ0Cel8dBfvcmQAZzSxbKaidAe7dwtOM7J0CQSHp3DFQnQACTCWEo2yZAWKSBLsZgJ0AtmcCMS2UnQD8vQON7BCdA7IaAZR02J0DX8Z5hcVAnQFDz/rm44SZAk3W8NI/xJkAMyBSvmt4mQEXWyo7FJSdA/IB312g1J0C0lCccNA0nQHRj2+yJ9CZATR7PmpQDJ0COqvi6GhknQNqi6bJtICdAReP/cSVQJ0CkcqzKufomQJkFElxLWCdAZmvua3oqJ0A9/oh9eSwnQH46oFWY5yZATOT4wUr2JkDSHfPDTUgnQP6Jhq2nUidAK03aMLroJkCnV6mq41MnQPGK46KvNSdAbtCk65kCJ0BrtBUzeS4nQOeaiFUQ+iZA29WJx7saJ0DzcZWHxVUnQLeN3T5j3iZAHSY9UAHpJkAfZWC52GonQAgAQWvoMCdAAZEgVnbpJkDESY7ssdkmQO/F8NQJ/CZA/qEbsfciJ0Bjtq4INF8nQIgxNld0JydANtILKT4TJ0DFelAk+wYnQENhi91D9iZAHBJPmjcMJ0BHwmJ5N98mQLekSSVvTSdAFt3PECkhJ0CKVkfXnQonQBV/I8o3BSdAIiwsq6oaJ0DBdMFZjAgnQPVwWiaL4SZAWgEC0bHnJkDlWGoAwmAnQC9XcciKACdAXrMDSpJZJ0AKDXqZGwMnQDwx+v1GKydAxWpVGTH2JkCO4o2JUf4mQC3cGvnsEydAKxaAEkZjJ0AVapNqpwgnQIJebJUrJCdAsj2I0zYmJ0ASUu1qjFknQPViw1q2LydA45lUUj/uJkDzz8d0AOMmQH4ehkywGydAb8Y97v3nJkCfO3gW7zcnQBA9GsczASdAi7yffksPJ0Dzoz8KllknQLFcLOYYGCdAFECADAdtJ0CMPopZMusmQBaeQ6ojQSdA8GYkcuMwJ0DwAt7YW/gmQB2ljFpkTydASZGDGbP6JkAcASxxZSInQDlC0P+kDydARn6uLiJXJ0DwbQwUEU8nQEvOMkGj/SZA22ijnST9JkBJ5iVHS0AnQOdTySaOSCdAAbxMksf4JkDpsCuHXCQnQGMcnF9jAidAE5XHG2ztJkCp9/IllSwnQODz95Z++CZATwR0PQImJ0D6qLOtouYmQEs6lai8QCdA2+Xf1JY2J0C7qXIlIAQnQA40J5l9GCdAnCHw6t0fJ0B0zs5P3w0nQKqz75G6JSdA5Ttync30JkA4BXChSvgmQCqjnT9c4yZAEIRi1TgfJ0C3yVAnfuUmQPcPkj4y/iZA8q4DWttAJ0ASH+Ovu1knQFKpOB9LTSdAt4bdCQ4QJ0D7ZsESyy4nQHH9X6i1YidAIA0zzlwNJ0BZtBuUmukmQBLTU5/vHCdAFpd8UBI0J0CqLNvsBzAnQNvjAig6BydAFZEl9tIEJ0CHF4bGJhknQPfNuA7BSCdAXxdGjf32JkCLbaerjQInQNtiqqSYFidAsXswri5dJ0ABFm/siewmQE/jCVy7ISdAqPiyQvZRJ0DugwHQOiMnQDzjM5jbDCdAZ/a2H034JkAtvWIc+C8nQEpB0QhtOidATHXpPN3rJkD2P7KtpAYnQJKRJo98BSdA4yOnzekAJ0AFEz0pIy8nQJr9NaHL3yZABkRMKAEqJ0AHoA+wNwAnQFkfQMV4ASdAi2d1DLUtJ0DxI2ursGcnQPd+1Lz5QSdABmo9UznwJkDHoi9uHekmQC2+0RK/TSdAoIKC+Vb5JkAJgdyrYz8nQISHGoOnUSdAP05+JN87J0DPHrC+TD8nQGQS+RRp+SZAHtPw7RInJ0D6xoFRzTcnQL2qGwr7LidAfxFKhi0LJ0A82mmF0wsnQMd/PV8RaCdA2KFsNHPmJkCTugrH80cnQPPe+XtU7iZAlGpqepNnJ0COg9vcHEcnQBLIM7zHdCdAhexut6VNJ0B2MiXR6egmQAYUe9GI2yZAiS0hd8xdJ0CUgwnnCDYnQAa6SEQM9CZAtpLK3PxHJ0APDHt1HwMnQMYiK//gLSdAUZ2gQSpAJ0Br1nxG0S0nQGJwUJty/CZA8UM2d19IJ0AYCiy0cgwnQFCfwyE8SCdAxnKKnFVUJ0AUhbAP4/cmQDIP0TzEOidAbmUj7AlPJ0CVzrWQaDknQIr1qroFDidAqnC5x2VFJ0DrdRelIWgnQKHukFy9GydANOR41BsSJ0ABShO/KiMnQExsEyvTCidAjpdearMZJ0BWGOv3QWAnQCSk9qgySCdAZ2M+0R8tJ0DWxEiYKyUnQH19Le5m2yZAsT+6EMkRJ0BATigASUwnQH+/00kcTydAMlBliMIXJ0DnqW0P5VInQNwS5ncULidAoYhzcrwWJ0D+OuSYiEgnQAS8hCZP7yZAxkZbS00eJ0CpgoYhHDsnQPmr7Tt1EidANzS39Jr0JkC4XYgd0kMnQOLk5eKKVCdAY8AadXlGJ0CKS5PxqTEnQLwGH2iUAidATP27WFJGJ0C9dhTIMScnQCQeXKyB+yZAqmj1hsH8JkCFS1XB0wEnQKKHAv+45CZAqVMWkkXuJkBMV/uxWCknQHqtbW+ZBidA4Th1n2JRJ0DHx8MVx08nQJ8gOwy7PCdAZIQUwK8PJ0BVipNR9OYmQEakbnH+NCdAzmms4nEJJ0AAv495CwgnQGpkrAJxEydAsrewMXAyJ0BPHnnMGvsmQBON0gx+OydAKoKRvZD/JkA1H5w1z0knQLz1QaJX8yZAnMWrlt8IJ0A9VEfnWPUmQJqznntaQydAECLC5wM9J0CB5kkOzUonQHApFXnU+CZAmWWjtyISJ0A27GwbNOkmQBy07yo5ACdAE1KNEwc7J0DPqlrKmEYnQPJ4YklLaCdAWX2zDoM+J0CXJP3qEhYnQLkMJWhAIidAIJ0tgqsFJ0BNY4nPmPYmQO9Ic6ucESdAhd25Dm4iJ0AhC7hHZQknQJYLK+wDAydAZpicc5kIJ0BmmYPOh0knQLmYFQwrOidALmUBDWEyJ0A5UT426zUnQBmATQZLTidA7egFSC5MJ0DpvwkJaSYnQA6uhWXA9yZAGGjI/sQtJ0C0k9PS4wgnQKKatx8gSSdA8uxp74wCJ0DfLEMlsU8nQPeteoUp6yZAtvPTsbkxJ0DuIn002+gmQKUe9KDx/CZAh1L0C0jvJkAFthlVKgsnQIu7Br/iKydAcpaMoZDhJkClWxjYGOMmQIebhX5GLCdARsQVC9b8JkCTljBOpTMnQPtRwEmjSCdACinTAmZYJ0BgwTYQ0FMnQKT6y6g3ASdAW9iaNP5SJ0C9jcIgsDcnQDwJE9yTKSdAiE/+wCv+JkBY2SLvSAMnQHk9pHCG6SZAdPVcys/4JkAT1/u4YxknQJQoECJaQSdAtuPzRidKJ0B8mh89tgcnQI0FLDtKQydA0tr4rB9RJ0D6JPUEpnAnQP6UTKja8CZAuSHqx7XnJkA0y3RtZC0nQFDNVOpa/SZAK3laVxkTJ0Bbh+NJBz4nQEZMQhinMSdAIPbVH/YSJ0B40zd3yEwnQOrlSVREBydA6algdzE7J0C6SnzoIk0nQE61GbbDJidAAzjtrastJ0A11l9MSfgmQAKzPpEy8iZAFnqRAF9YJ0A+29+Q6PMmQI+q4/JacydAVRJRPbULJ0CHdE9ldU4nQDAloGQS/SZA3Zjas5YJJ0CeqfIaag4nQGegKB6KdidAuFSJiRf7JkBzmx3RIQsnQGeYLFrXYidAaoCiKFAGJ0CNGSwbY1gnQIJTbDk0BCdArax9se4OJ0BMrk9nF0InQObbqed68iZAMbGe1zQ9J0C8vcGazt4mQPhaaIEcSidAplaBqPL1JkACRPI93ewmQExpqp5I3CZAi4UxP0w9J0D/Cfdu4AMnQGALhyJBaSdAaJRxuYkCJ0CCIgm9TwcnQLj/dQwn2yZAzQVF5Ln5JkDy4LZzsWYnQCbOCFh+DSdA+aeHNeEYJ0CsORuxuVMnQBoNNL0yLidA/iTfgBc/J0BapmIzKu0mQITEOmzd+CZAhXAVumLTJkBGlJxUbjMnQODRSu1yTydA6KFruL1aJ0CbNKjcRW0nQO3wObiXPSdAOf++ZvM0J0AFDs4f0OwmQIbVgcVgJidA9QVqYuNcJ0Daq9lYRj8nQFk0KsZKVSdAzhQFQbcFJ0AxYGczI94mQAuKl1sS3SZAboGUrmsGJ0CrsYUogAknQFjrrYyJ9iZAWjbwCMEJJ0BxMr9inf4mQJx2aPvdGidAfR5lRHwmJ0CQLbse3XMnQJQ2DG91SidA7afZe/32JkBe58ISzCknQJVnfaQ0LydAFv9FwQ/sJkBZV1XGTkwnQF5heznySCdA5C/hMbEzJ0Ba66fHCR4nQNte5a4MZCdAOzHDwnkrJ0CTkdzlekInQP6zDflQ9CZACDY5bbX9JkCXGc0Eaf4mQMqNsO0pJydAk7Rhy1wmJ0DsP9IrB1QnQO3EK2GF6iZApfTwTuk8J0BfgAt7Mx0nQBpyBS5gQCdAjwG0sB8YJ0BtkChlEE8nQG8ZP3IV8yZAO70YJ+RJJ0DkEnz2b0wnQD6Hf952GCdA5GdqV5RUJ0CvNwhxNmUnQAseKIE+IidAXxdKzP9LJ0DWsgf88wAnQG2Q4GdQTidAKragZ477JkBlAu+Q5EQnQHIyPKGF+CZAaaLiIwNxJ0CmK+K8NQwnQCaXUGRK/iZANSON1MwsJ0DHD+PDyOkmQG3pQyfM4yZABnMSgML7JkBVKIRD/OcmQJLvSOCJJydAnBjI8oE9J0COYjaXXE0nQBN7YzttFydAailREzRYJ0BPEk09njEnQGBecZoFHCdAI7HUU5wCJ0Cr98kcXusmQEjwoBqZFSdAbNIbgzRtJ0BMtmr9RCUnQDimZXGS4SZANKF2j9DuJkAEmjWDDTYnQNiK+sDnGCdAqw/BuY3gJkBrsgCu7N4mQPs9vOKL6CZA/s97eLkgJ0DtgN98EvMmQBt3DEKd5CZACSNxDMMIJ0BB9aEKYTInQO6uy2FQQydAU8Z85d5vJ0C+vYbFAfsmQIySgr4pCydAiOd5HgxpJ0BvKuj6fk8nQGjcPgO29yZAH+AgrMfgJkCnPkRdCgknQM8rD0gCEidAivGpfhXiJkCgxhr5kg0nQFW9Q2VnOCdAsDHemgMqJ0BKxxoMpQ0nQM1kdK9e9CZAE9M1Vw/dJkC5BB231AMnQHaoI3GVBCdAuCPZ+QIDJ0Ai076VPConQDJO7KK8PCdASudBhA0/J0BEQYrndxMnQFo4EZOSHidAWy7Eq1oFJ0BPCJyLnOYmQDDhvb8uSCdA18keJ44RJ0C9zejVg/8mQOwN8xp6JidAsfZxMBEpJ0BnQMDjyfwmQMG8tQVjGidAZXTrPqruJkDKyJNiGwInQCXZR9r5/CZAVGIB9pbiJkDhOtz+MfwmQLVM4eQEXSdA0I5gmyv6JkCgaS3aWkUnQCMqLE9cHidAhvkKeYUSJ0AuGAyQ7uwmQI5VnAJXJCdAuNq+S98oJ0C2gof1IAEnQPqSlCWlHidAfj049uYeJ0C1d2GmXDYnQFir5cUhHydA+H4TEY0yJ0ALX+7syvkmQOFKrwXVBCdABi3mY5jaJkCDnx5KB14nQMZHDkgYKSdA2wa3JsttJ0COp4RsCu0mQOEpSaGK9yZACKJWoG4gJ0DgEqZOqTknQPxX1x2N6yZAOJkdaoESJ0C2j+HTiRgnQLf3UYQ6TidAyVsmfidUJ0B+M/qGMSonQNXrYjY1DydAEFFmNfbTJkDI8qFO/E8nQFcyhhXVJydAFYPAAsgNJ0CSJMBJgE8nQOh7wtSpNydAIXtJkhQoJ0BHEe69ZE0nQEiZnMzFZidAKtE6qgBHJ0A/5t23tDEnQCiDIo+GSydA9TFp8PRBJ0DAk45VmAQnQChMg10mFydAo1b5ePluJ0CC8R7n4NkmQBU4/GcWTydAQlDaZixHJ0BDW8E/XPQmQKGiF8VK5SZAZWEiMDL9JkB4UVh1xAMnQAHowbStLSdAZLQ8StVOJ0BfFzN4UfomQLiICrvG7CZAsthQc7fiJkCO563btzAnQIVw4vYO9yZAxuU6NDc7J0CKc5jTE/smQK2els50ISdA+jUqFZ0DJ0DCYZi6LycnQAyyL6iZIydAFhiXLCtWJ0DQASiZ+fYmQE0Vfu0eRSdADFL4mjhfJ0CEAbCev/8mQG8rNgMiQidAZQdq/iQBJ0BX7Iq0j2knQDwkS7hjAydAEz23E6kOJ0DsUfUe4D4nQIFnqLMxEydALKuW8x0gJ0Acw+qb2wgnQCSHSRWJ9CZAP6/rUB4lJ0Ct2+TytvQmQB1BwdbK5yZALPTBAfUyJ0DXZ2FNj28nQJjvug4DDSdARDMBr2XvJkAtq90dRl8nQGJSMMd1KidATn4ca4cwJ0Duc9CptwAnQOKhvRFrCCdAmiy0IdoBJ0C13DASkU4nQBS3nzhYHydATV41guTwJkB432TJPgMnQAU0qZuQBCdAq2JbIzcKJ0D8hMBkKmInQCHurN8IMSdASDMcCl3qJkAIKh9aJRMnQENTBC2vEydAqiIRSJPvJkDYiFcAmRUnQCByvde+VydAaWryJtEjJ0D5T5v4iyEnQDndb+mhWydAUNZfhwUuJ0C0/MNcxfQmQBmt4vWPKidArA1brBtEJ0CciOLXiD0nQH79xHmVDCdAlSi7AyX3JkBIla7wZWwnQCuq7a/e9yZA2iwR89FRJ0D62CYBd1YnQA/fjXMZKydApkU1OdXqJkBrCfEMoeUmQKQBWRrvKSdA0KhvSBYPJ0Dc63IfzVYnQI6F3l36JydANUhkYH0dJ0D5w6RzM1YnQBZfAbew2yZAluG2HA8LJ0Bn2xSfI+AmQI4brQPBFydA8N0cKGlVJ0DaVZlX+1knQFwhv1nLSydAgiGSVrEGJ0Be0ZjJpiwnQJs3UOK0SidAgPBYYMUYJ0CNtIgTiS8nQAw3XUPiDCdAOVPlrvU6J0DXgH13cjgnQFWdZD/NMidAuOSsJa/wJkCwvHIMXPsmQOkirt2X7iZAgtknFjlaJ0C8xauNRUUnQOayEIvaLydAGBtKf6NBJ0AsLTQgZfsmQKy0gn/DRSdA9pLMa2ABJ0CKqNOPYzAnQBV23bY0GidAHrrLW1g3J0DztwbZsCcnQKvuEEYpKCdAJOexRqI6J0A+oYG9c/gmQMY7NTffBidAj+SqXnhTJ0BWVRSJ1B4nQFHJvaJgSydAYy40TccXJ0DojOMkyBgnQENmMaVC+yZANOpVqG8hJ0CF4bNs6A8nQDVd27rfECdA5RRml5TjJkAPmdd/kegmQCX6Bbq17CZA1BxVglD4JkD/4vhUOPomQGJxVb1tGCdApiU8NKA+J0AWJKnLvvsmQB5ZXJu4RCdATPMFHWxYJ0DKp8otbk8nQMgptAlFDydAfyae7xHuJkARUPFKsQQnQLyLtI9y6iZA1ibKyoc0J0CI/hnT9F8nQHdzQfQMHSdAqHv2rzwQJ0CkKSqz/vomQDnwBLbGOydARR/x/klwJ0BuWKOh0xAnQCsNMCFtKydA4F5mXjACJ0BCKKbYeCknQOCkiS4n9SZAYL32XjoiJ0Det2JOe+kmQP+4NCU7UidA95dvEMw2J0CZbt7QShUnQI4MRu9gSCdAWBum2CNBJ0A0H6cMmiEnQM4S7WKMGSdAOJ2MGXf4JkBIBK95T2AnQCdYKTQK2SZA5ROGhM4qJ0B8jLT0DFQnQJ9dAY1TPydAuTAEsPEtJ0CVEzlrHwgnQJJMXGipGSdAUdq3YVExJ0CzCp+kuE0nQAMqd90cPCdA8si2y7QFJ0A8mWEdABQnQBEqHSVNFidAj/xQunoeJ0DtgA7y0gwnQENu2HJRMSdAy9lnijHyJkDzesU6WisnQA2ZQxV4MidAfiaULkw/J0DAG4DumUsnQNg/HrHzSidACyLTVNn8JkCwXh6ZUj0nQNIpRVtqYCdANQ3I+3dAJ0C0Lbkq6ewmQJ+GBt1tCidA5+Ddq/4YJ0D3b4b+KtsmQHZLYBblOSdAuoLJo6v6JkBX8OdZojcnQBUdPgMX9CZAu3nnKMBPJ0AbtdymZkonQN0xUVcD5CZAZghMaEcmJ0BzPnNk+18nQBVNortf+CZAb7D0mTUUJ0AUXnZYkS8nQF73m3FjFidAEtPIyCwJJ0De8oLCnfcmQKsHkCkV+yZA5WteLOdXJ0C6LC7rpPgmQPRwkx2bMidA/W3deYjxJkCYthku2g0nQGGM5RrvICdA7sTsveD4JkDeFDYezE8nQBpytq2NcidAbS2OP8UwJ0Dt67lxfysnQPTWqq1+bCdALLGXzn0OJ0CdGv3U6RAnQGCYqv5gMCdA3ddycpXwJkA/2WjWrEonQElNJKK2GCdATixhbi5XJ0CRKRJIAyYnQKmL8K1D3iZAx88k0QfxJkDsLozDafQmQDRg+QOwDSdAcIJLQ8r2JkAU5wEjfVEnQLFtsuZaSSdAMnvxziHpJkCg72Wfb0InQAI7ZInEKidAS8yBzncNJ0DVkGn07AAnQPk/AMi0aCdA+wuew57yJkDtczqUDgMnQE4a9s1eKSdAAi9CqZpjJ0BMPiBHFu0mQNgLivG//iZAL3KeB6hQJ0B36qYjl1UnQPmLuzTaLydAY9BGh2grJ0CTmC7PLfomQOgbUAcZNidA108S5UISJ0CyEmUFxmAnQK52l2vSTydArIwbhBkNJ0BLilr0u1cnQMtCA1SHASdABHnjzsFxJ0BfFwz/DN4mQPXEWXrYFCdA9O9/KEkOJ0DJxclQtekmQEqlJkyxcSdApL1Gkfo7J0ChjtjEiD4nQDoGENd1OSdAa5VRHggSJ0D8xnFffFonQM+amSFneCdAI3RcXQk8J0DCjbHFqCInQBrIJLjdcCdAOFMvBYXrJkDA8437OR4nQN079x/5GCdAimmwMk8dJ0AtikRRSQ4nQCdydIKRVydAJpSmQ8xaJ0CRBVYWPSAnQMpMOajtKCdANOQSEdICJ0CKviirJWcnQHsz/8eRGydA1qK9SsMLJ0DBb5Ey7xMnQE/fhp1PPSdAt9CMBbPhJkCkc5XnXUUnQARgW0NLEidAEtCtCqMLJ0A9NLQmxBgnQMTXl4dpEidA5zy4J9RBJ0DVf0O7/Q0nQLGE1K5XOydAe03xj5ZhJ0AG8vEDbx4nQKgeSE5gHydAv/a7fh/xJkDVvWn6pf8mQK0ssBAzHSdAWxHiA2npJkBNQYI82VInQK70ySR6DSdA28RJEPAiJ0DxmLAdXQwnQCETbJHC/yZAJu+qCWnrJkAbT4cS+/QmQCy+VbT6SSdA1vAAb1z9JkAvdvazMRAnQDaXZu6VGydA0mKOLfjsJkApcGy4aAcnQO7kKSAb/CZACX94EqsGJ0ArV2rKzUYnQLOOV66nBidAYeBrxpFEJ0BeMKkxxgYnQKv+mov7TSdA1ujuke0dJ0BVS/U6IxwnQNfimbhNRydAWTIhtVhXJ0DdGLdYSTQnQO591R0uHCdAHBNL6YBSJ0BZYMVwCFAnQNIlWNUvKCdAKtmkXn4uJ0AaKxG1ezEnQBSg7iuHCidAtgkdaztWJ0A4gT+p5hknQNIHUKlsZidAkxqXpOw7J0Ci7JXRQ0AnQE/egB1hASdAiaxMuQ7kJkB6tdHMBE4nQHdKAN/3VCdAPCoSIuT1JkDtoVxzVGsnQDJIQy84+CZA3zwv8Z49J0CzDtBDaU0nQI+7n91bMydAqtlI2Ls+J0D9OgTkNCsnQALRWeK9GCdAq/oSQg09J0A2JqaMaTwnQB0xnNBWCidAnPsm/A0rJ0AWx1bbHQQnQIrw3lCfCidAxHQd4YcNJ0CoICsYiPsmQMJ9wjJQ8yZAp7CyfksFJ0CamQJ1ovQmQC0Sa9d5KSdAQG2Arvf1JkCIRx4q12cnQOgl9QKTKidAXv3LIzcqJ0DqWtx4jGsnQCWYitHiKydA59Pb6FsdJ0DhAbm8Y+QmQFJAPReJ/iZA2QxKu8PhJkACiiOk1iwnQEEZwZAX3SZAhrf8UKchJ0Cdii22eeUmQGnY4sJ++CZAoiYS/hBeJ0C5lICwEQMnQLfnGYznHydAGLe86BMHJ0BkFqseD2onQLF0iWR6MydAa8nOvFIFJ0DeAVwRUjEnQNae74WSJSdAeLU9OcTvJkDZpY72AhInQDIRIv5FSydAsD/Gh6MIJ0CjVEvD1UcnQMUTDEJPDCdAPfJxnDoIJ0Dof8l7ARInQOKIFh9Q1yZA+x1/SrEaJ0D57IF+YQgnQOjDIGbs/CZAhghD0JQLJ0BMQ1ps0QYnQIoYGdiwZSdALo4kcSIeJ0CYVgXlzHInQHtXp+CxASdAuXiS5hUsJ0CuYJ+TZ0EnQHioSvFBHCdAHnO/s7cDJ0DmADtTlEQnQPrh4X17FCdAikKz+t42J0CjNJ4hNSsnQFPqwNFccydAYdKkY4TkJkBuk+VVhQYnQMgMidPp9iZA8+1uHvobJ0C6Uu5DUnEnQDAWI2D8MSdAl6mByV1iJ0CpqJgXw18nQM1oJXbsQydARXcEJeX7JkAMFm+IzvkmQHKX74F6/iZAtMS0dyMTJ0Bjk3RnChcnQEqVxGVt+SZAzYOQTHXwJkB4D6qgNg4nQKYBPqLRNCdAIvi3RHYSJ0CFFC24oPYmQFLxWPMTcCdAsKb6SfLnJkAg9U+RuD4nQCv6V37CQSdA9viA35HeJkA5VE5WQyInQCCUL0aMHSdAPfA2tv9qJ0BqS54L2B0nQHycAz/68SZADhjOD85RJ0CGE5ullB0nQCm6C9929CZA8bQI8k4zJ0BGrDDCsCUnQODT4zupVCdAENbJOjsBJ0Beyuy8N0onQMg3kjFLFydASIWtf7f5JkAoveY+I2knQNsmEaoUFSdA+bWJ2SINJ0DLG7Fn7DMnQK/B2SSL6SZAWFJuWjgAJ0Dbn7D+6mUnQO5UabH3/yZAaN3SoFDqJkCccyrIKfkmQDkq+biZFydAAc3Im7oRJ0BBDOkAPV8nQENOn+uPWydAMvkLKlMhJ0C+2EU+3vAmQDRYHDuBLydAmwChfxwgJ0Ao3tzXplYnQAstS7/YQSdA8kKiKK8tJ0Db2RDwfz8nQNfvvI2KKidAnQikQnn2JkAJDS9hWRgnQOM5RoAO+CZAYZBCof0VJ0CKwL4wQAAnQLJZK/WWLCdA1q6URD0rJ0DbKbfwVjUnQGc03Nh7CSdACpGNhjXpJkDXkF5ysUMnQF+bHCthECdAcoTfRCsEJ0C+tVoNuVQnQBbb+c5S3SZAR67Rg5oHJ0D7R12tdFYnQCzzBnS/BidAzZrtSVflJkDGFAws5PkmQKktc5gGDCdAtovH9scLJ0CicENg+SsnQBBHkDxr7CZA7KeHvArjJkBDtmcZvBQnQDuavjC8ASdA5GKwpYdYJ0ChjLkN6hsnQCI7A6waZSdA5xTD2yJHJ0AQTDLu0gYnQJSo7N3hLidAlpehUUdWJ0DvPltb/+MmQOWhKlxFZidA5BWTqPxXJ0DEOXfG5v8mQP1+t2i0RCdAUoI6UEMJJ0CxvRu2uRwnQBBfv2TUGidARITmPRrrJkBBHel5txwnQCvVXWJ15SZAPyamNgb4JkB+6CNqvfImQP/W5trh2iZAGQyV6ZHsJkAM5NZDr9omQKsRRhg6DCdAybkZ4qYQJ0DGvSkQ82MnQDTGxwk0UCdAZUjNBedeJ0B+gYtf41snQOyuyKk0bidAKty+xR8KJ0CCGlJiMQsnQOZGgXLJUCdApZe8FJkKJ0DTzIZCAg0nQKXR0eyiRCdAykLoBmZAJ0CBuAhqmEonQG5hRmY+SydAigvFWGbzJkB6WLMnXS4nQM4InrjTLCdAukrzr6PlJkDNvtgydSgnQLOp7cSnICdARUWSl9DkJkBdky/KVBEnQNmUxOG66iZAst/It75TJ0CgGk/5hT4nQI0B1GDkOCdA67nAowbYJkAH38mKgi8nQN4/bEnx+iZAJu7BF2wwJ0CbyMjGkyInQHONvUnlUidAbMYBA35TJ0DOOs4Kgw8nQKq4gocDOidAkOjZCnhgJ0Av3J8MBPUmQFEVqqFIECdABiEq3kY3J0D2ntr4+eMmQP+0/gPxcCdAzXhKmgrmJkAUhBizP/cmQH56+3dLZCdABft2YWlDJ0D5WHaJISMnQCNRK9X2AidArGO70ATZJkCDC6m1lxAnQGtet/TjEidAisq2HUfzJkCelncbDCInQIZdezPYKCdAjshOcjcDJ0BH1cY8c1MnQNU7MZzO/iZAhWUNfJ0SJ0AkzdhLtkEnQMumR0pG+SZAJwziSCz6JkBn079UtuomQLKgbpqNWSdARPISqhrsJkCRUC6qSQcnQBbcCut+OCdAVQHtMHsuJ0Dw56OEnBknQO6Obw7xISdA0W4Q5sgXJ0Af55/2yTknQI4Z0yw5OydAgHcIweRDJ0CFoYBhZvImQPB7eZI8OCdAOd579BIZJ0Avyq+/3xknQMI/V2K37SZAWggWO0pNJ0Acz2oWRF8nQCER2hXfJidAFfF2Bs4vJ0ALn8FDjBgnQPPMj+sFEydArxNJRFXdJkBazBdAzDsnQJnnfTGIASdAKKiWTyAHJ0ARzTzXAN0mQEyFgEkKUidARQyBzxkpJ0A0lOrDZy0nQHVS5Cr/ZSdAZdH4bzgCJ0AhccuksgUnQBwNyTdoVidAQ60tPG02J0BZvxaHbR0nQB4w2t7lMSdAiu6SDNcmJ0BHvKp/Oe4mQNLVCnn5NCdAoI9qPrkKJ0BYT6SWe/4mQOQLaMY06iZAwaaTki9VJ0CUG/cvHVAnQLkuigPELCdAkY30QPbZJkCZ/pii6AYnQG2kZ9pfAydA6XNBGAUFJ0D1ZsVOG/smQAQmC0e4CSdAL8CwHZ9DJ0DZz+ZfR/omQNLxw0nmDydA0Gi2eQQ6J0DDEIyB0vAmQLHLHU+L8SZAtOdzVEdZJ0AhVKmzNOcmQGbhk/53+SZAyOhr7pbaJkAusGkxj/YmQKvkrSjATSdAKnpfTkkVJ0AOfAmJvRsnQJ/c0Y18cSdAyu6NsObiJkC4FYH7OUonQC24EdSdRCdAVzPVhWhJJ0CGTRNEMf0mQDEexf5JUydA/EjVz9wtJ0CQ02LSTRwnQMvCopnp5iZA1xxcM2AlJ0CdXqxuX/UmQNXgaskoLCdABJo8zKRNJ0DsbhfIxGMnQH51h9w0cSdAsDJxxRbZJkAssk0IDv0mQFVSFsVUGidAWoIZzewYJ0D7PJteCRwnQEMwyA4i3SZA5smU/oUDJ0CpP0BfCgQnQLG8l1l22SZA7bpFK8biJkA/BxGCRRcnQEWK72LwEydA8mbGuKAYJ0BICArqfvUmQL92nkNRLidA0dKFC24JJ0Cc241m+C4nQCYEMChiGSdA7dcJ2gtRJ0Boh/z6mA0nQFYiAXN2LydANgYeH2L1JkDv0jMs6xQnQO9uJNYfGydAz21kYqf8JkA/Ze0XOBwnQGZrncVJ4yZAQNkaRM1tJ0CxluKzLEwnQAySWIPKOidAWYaEH8npJkA5Ppg1AiAnQOiVk/zMDSdA8aoTw237JkBDptlaaOomQAhuJ+mL/yZAY7PNIVwEJ0CrhiiZomQnQHZiA35KTSdAGcJ7n0hCJ0DelU4JoUMnQFr3GdXZSSdAZqlflaI+J0BST0Zs8hgnQJARqTFRUydAkXbR2eT0JkC1uva0MConQNzXzeC4SydAuhkrsv85J0BraSsp0tkmQLMZHLMMJydAPevmgSf4JkCNy/LK9eUmQKtXRhsm+CZA7f9cluYZJ0AFgUibjfgmQBtbxpjkOCdAicnPvcMOJ0BaEIyU0NQmQLQf7BJfCCdAcKFsxrhIJ0BlBRbvC10nQIqPeglmMCdAnVmdi0lMJ0Ah5SfVG0wnQMLfNVfkNCdArG9prSFZJ0At0jkqXy8nQMYurrFzVSdAGRu30D8GJ0Cv9h1lAyknQOmk3+bAUidAfWtJoZZyJ0AuKVmhIDMnQHEllv7a5iZAMsD0FsfvJkAwzMNdUEYnQG2HlLHGZidA1z5pWvE2J0BPGiwLKhQnQNvSYHljCCdA868L7KfsJkCdREtonkAnQJCKeTrmEydAHj2iG+dXJ0C3bTocPd4mQA+Qj9XXMSdAqiCPjzguJ0Cl2KDPmt0mQPZwEXMKMydAY5/GRk0LJ0C1D/qJoFYnQJ/Oi5aOLCdAA+Z5zupJJ0BW18mCMwknQOIYqGDEOSdAD4kvY2IQJ0DPIEqrAyQnQJJZP6kcEydA+zL2EHREJ0D81VYnYDwnQD71eiMO7iZAbKpkM+Y6J0Dn5ETRqAQnQFVsog8TFCdA3MFchi0YJ0DI4SQdyDwnQIm/gXHE/yZA5K2441L6JkD1ZLazQlcnQEP6p6fN9CZA88huxAhnJ0CsOFyjc+omQHcJO8RmEidAHf/UaaNHJ0DkGGpPxicnQIdI6lEA2iZA8WXzSJtEJ0BcgHQJueQmQIQdTTE1FidA1gL0aU7/JkA6wXQWhOomQDECax83PSdAGHwMP2QCJ0B2kWiNsukmQHvzHB089yZADLsMcxEsJ0A1RX52VW4nQGEtQNnP7SZARB+k8YUqJ0C9JhvSKignQGmmHYCjHCdARQjY9EvoJkB776RwPjQnQInk1NWm4CZAo3HSxob6JkAK03aX7vomQFcxKDEh7yZApeKZ95s6J0Ctg2CiRlQnQNSW1Erx8SZA4rAl8pz9JkB5dAyDUlUnQCP5FlZcGydACbFCThBZJ0CPde8FkgMnQP+/VFheVCdA0nz1NMYbJ0CCY6/yGTUnQCbHJiG+AydA0zfAlY8XJ0Ce895JwOomQI1rtBxeGidAEWh0LXzjJkDKCcKjrfMmQF7cxQIDCydAtH0vyjPfJkBfRTT0vDknQN2N3rMuBSdA6ZA9vMsgJ0Dc8XOx9xknQCBQp/8qWCdApIk2apUOJ0AnOtCLeT0nQEkGprZq6SZA9nyZMU9YJ0A1yPsV1FUnQIB3R3bqZCdALQHHMk9NJ0AGGwNKGRMnQO2SYAWzHCdA95FmiYvzJkBJ2SyVu1InQAfK3S09UydAD3rVdM72JkArugzkJvImQM7vxehlFydAlEAq9mdkJ0DScKooZhQnQC7RwLP7AydAepp8F2gvJ0DgG8P8VRknQJIV0IlDaidAYNsXQYYXJ0BQsaQH0l4nQBimAURQMidAwnZrPPtBJ0AnC1UeHC0nQKoDYzrT/CZAM+yQ3tAJJ0CFHyObnyUnQPDUg+8xAydA8cse0kkzJ0CpX+hG0WInQES76ejEKidAiHVT8hdMJ0A23xxGXxsnQBPC+mZDCSdADiIm2Zn2JkCzCtwBAy4nQDxEgDR2JidA57TgQfEnJ0BKfWMtQDknQE7vQiOy5yZAyfgAp6fiJkCiEq34fxAnQFDEbLOpcydADtCtmhQQJ0BoKyTLtUgnQMR8C9X6GCdAObHtv4fqJkBSNP8S/eUmQJ4tFHrFEydAil+MLHwsJ0C6gPdAZU0nQO4L7T4R2iZAWV4MzzhlJ0DacyoXb1UnQLR0ie3i7iZAWNuD0t8sJ0ByyiUNnQYnQJKopWx4aidA/OsjKILwJkCa2nT4qxInQHGiD5ca7SZANr2VB/rtJkCzXjGbNzUnQNbW9oSvESdANQsDZJYkJ0DGKpujsFonQJVGxIYhGydAHrrv3RgbJ0A00Cgc5OcmQD5gRC5BASdAnvxYz71JJ0Avghk97BwnQEIc1wzlPSdAkjYYGDf1JkD4I/Lh4+0mQEPr2FyeSSdAeVyW9oICJ0AY4uPSuusmQFOfnbVi5iZAX+lFXjsYJ0BoNaiXRlMnQCTiih4qAydAZIOMjfIHJ0D0TzdK1zEnQETrzT094CZAevfEvJLVJkBEDyLRnfUmQKlwsheCWCdAVLpFpG0sJ0AFBbUk1w0nQJEOyMJtGCdAWRHS5w4rJ0ABOClDz/QmQKGuW3oh7yZAvedEA5n9JkAiBbpSYFAnQCie5EuA9yZALP8Ju174JkDiJz1K9kAnQH8XTl1fDidAiioHNcRNJ0Dp/mZUcRonQCNe2ahZHidARxVe5exHJ0D2NJqt8CknQJ9PQCCnJSdAwzLcRvhIJ0AKNLI501QnQLTcuePPCCdAlqENltdUJ0DftpgnqDEnQFIo/kKG+CZA4L9Uba//JkD1naUI8FQnQK7eueoqKSdA0+2RzntOJ0BOxsL3ye0mQJj1Psuw3iZAvEYmVhImJ0CSEvL9G94mQC6SIZigFCdAqZZCUP1YJ0C/a3U3EWcnQOVu3VEn9CZAbNNO1+1UJ0BXElr7JC0nQDzFtDboGidAmxO2ALbqJkD+AlZG6N8mQNzUn4ymDidAU+EgNt8eJ0C2rF5OCTInQPjB9kaH9yZAj60mQr0vJ0D69F/9axwnQLHWP5qiLidAmrPwurwOJ0A1FAiODlAnQOtCMJXmECdAY9mhQtf6JkC0WNKFFAknQK3SS+FwACdAKBeMmNEwJ0A8WTGfHOgmQOldv7Zt8iZAMCP70TgCJ0AINKynSS4nQBc9+wJhKCdAtqHMv/dKJ0C+AkWr5twmQGR0pyyP6iZAn8ja/KwqJ0B+Lzte7FgnQGMTcJdp/yZA1X1f3L/1JkCQ7Eq+NBEnQHxIj30UaSdAtOs5GsE3J0AlHVlG0xMnQNwbgRCm9iZAqrrjbS4kJ0ChdwrpXmYnQNVOVKcg4iZAK+xgo4AlJ0C0gJuDlRgnQNP4I0ebBSdAFmUU7v8vJ0BJHCw+TFEnQAooGwSG5yZAOTK18yX+JkCfAiqF0lQnQCpclrJZOidAIAbf5O1XJ0B/FozXoVUnQB35krqLBCdA9fFcQWJBJ0Cp1Cu2TRInQKFWig4JYydAergyi8X+JkCyu1VmmCInQKGdX0z5LydAAv9cBJzcJkAE3sEUuQ0nQKLmJMUyBidA5kIAcw5lJ0CxRhBSn1onQFC1KCUTAidAfLS7+34bJ0Cx9Vzm8vkmQLVt5abmMCdA+t1csZL1JkAR9Ik52BknQKCCbEeqOCdA6lJfUghYJ0BWk2jXyVonQKY52/+08SZAUC8DTMYyJ0CNeIfUE0QnQB0zGQG6JSdAfn6eEqMnJ0C0UIuvIC0nQH+xkGYD7SZA66vB8cTuJkDLdpCZUSUnQPLd3GeNOidAfTDKY/zeJkCCPO46kDknQMlT4D138iZAUVBrNIDoJkCSXmQmpdomQJ8rAYpM5yZAY5po3DhdJ0DcshWS41InQH5kBEFE+SZA/cmBtvwiJ0CnVDsJnuomQGKwBDRVOSdAZjP81kxQJ0DvNvWsizAnQN+7FpMD7CZA5rVn1dVKJ0DfFqYCYCknQGZcZAU1PSdAxDQf6aFTJ0CbJNtgTy0nQNExiK0RZCdA+ONIwh3gJkCavTpy0vMmQL7y6t0nFSdAD1+o0YY9J0DVQCh3WEcnQD2qqrW8JidATkdtjAXmJkDoYfL9y+4mQCaQ668M3yZASkrxgacXJ0BSREnlu+gmQO8036sWLidAYz7xJ+vyJkCKBpATkiQnQL4IyS1/NidA9yiTDhZQJ0DqAsjHiw4nQL9emS4f+iZALEHFG+9rJ0B4XQ7lt1knQLWnWxaqESdAvzft0hc7J0BGzyIk2/QmQOrn9gWaRidAbsIZP3wQJ0AOGHtHGzQnQML4jtb+UidAIZv+DlMrJ0CQYuOQb2YnQEYXVG1+WCdA5EjF0hjyJkDmta6nI04nQMfGj1DHZSdAfEMLQ1PmJkB3zZEc9QwnQFPCIB6dMCdANMSA/8wyJ0AKdzC0aRknQLZVI8QfCSdAYHQDr4sBJ0DGKkUkG1UnQO97qmAxRydA2bcN0JXtJkBxNsNEZBknQMjiKHszMCdAtPrzHizmJkDoV8s3AtwmQJzlrjkG5SZAZFhyCNgaJ0AWho18p3MnQLn3JEZ5JydA2zdWeKxaJ0AeQJHUBwQnQPi+1NW0TydARAha021KJ0AEI7Bqz1cnQJdU4OXUEidAM1ZiEnU5J0BUNh7lTekmQDwZGg6JXidAUa3Ho5M8J0BbTKIHjBEnQMq+5kH1NidAEEn0ROj3JkDzqjDoCSEnQDDegetR+CZA4aqv3ukMJ0DDWQP4llQnQPgc8M5dLydAeKJmjioYJ0D3K7h4f/cmQH8157KUDydA3g1++OA6J0BREq52LTAnQERZDWSEGidAaSoP3UQxJ0DKu5UJ5GAnQJCh2aD/8yZAvxCaCBPkJkAMwfwrgP0mQAFJTkmiIidA4K8UtCVdJ0CDzdGRewEnQBF0/Vt5YCdAOg14+WNWJ0B7yp7e9w8nQBQBQrpH8SZARTATld1sJ0Dx3aPIxAonQM5EVIe6FCdAxCoiumBTJ0AGHrwZcQ4nQBAutwFE4CZAJE0g0CNvJ0Aif0gX7E8nQBEd2Scv/SZAhyFiZQTrJkDKdAG34y0nQD8hcSa39SZAUdFRR0zjJkD2iwxBqywnQPT4n9Vn7iZAPK2+LI5iJ0B1sUrWZNgmQHK0BIRDJydAojkzwtcIJ0C2ileW+fImQOa9siFSPidAvIH0sD8kJ0BzuQF0ByknQKoEE+Id6SZAp4ho68plJ0D4U55IBycnQOgEF2HkHSdALuP52ubmJkDeDxFmpSMnQB4WxeA8+SZAV/lgqplqJ0BcFWuiviUnQDf9U9MtNSdA55JczOgoJ0CB+a6BwOgmQBeqJSaAYSdAsYyNWIUuJ0CthcOYAeUmQHze1bjLUydAiXA1s00RJ0DsplT83/MmQMUORFSn4CZAzjsyHl8eJ0ATvoguvVknQAswJe8PBSdADOmkhuYUJ0Dqf0+udCwnQMGntQcN+iZAMrJ4qvHeJkDitWaAbO4mQFOxNpQZ9yZASae06ngRJ0DFzUcQVOkmQNSAyLY8OSdAQFBVLlD0JkBl60le6BsnQMcSiDyHMCdAUf7/s/YaJ0D+caQSvRAnQGYMd0NVCCdA0f9MtogLJ0B6IUiNNPkmQA2Zd26IBSdALgwwSx0zJ0DeW21FWvsmQCkuWVoMOidAmXXz33QsJ0CyLTykixMnQO8VHj8d6SZA7w9qBY4OJ0AE9mNHD+ImQHqt9tvAISdADEFwUvsJJ0AwGId24GInQDhhDrHTKCdAgbDpPKk+J0CdGNrsKE0nQNzfs0hi9CZATJIas9guJ0D9cs0/vvImQB99wy9hOidA7Z8o++lPJ0AWjB1Wkz4nQM2DkLEm8yZAKsJDB1UfJ0DVWuz97xUnQLNfiEvSGidAGvdOD7btJkCggecGyPAmQHuku4LyAidADpvCMUUVJ0BP4ObEuyAnQNRD7/XbJydANw/VgWTrJkCfIGl9vAUnQDtXZrDQASdAnvXeoNZgJ0D10oWxN/MmQLFWpDSwZSdA5sys5pcSJ0CoYW8eV2gnQEIoQnedCidAO3wQbzoYJ0Ahemc7azonQAWfn8J2YSdAuFWqmsDuJkCi4+VMvC4nQJT5wLEN9yZAl8yJ7Bn4JkBRan23jTMnQIKkolN9WidAD09Oc2QzJ0CoEOYZHhknQJ26ON2YAydAtb3d9zt0J0Btg9LfdOkmQO1ynqtHBidAnNFoumPqJkDqwmEorzEnQEuKqRwn4yZAV3K202UWJ0A73/8VQVMnQD2TJOY2BSdA5Tte3unnJkB+weFukXInQCVPelVfPSdABWZnieRaJ0Ac4SIfmGAnQJYy0vVd2yZAPTL1VKYRJ0A5VSfachMnQLAPBGys/CZA+gNPKAwvJ0D0KtRLjfYmQCOYdBubVSdAtTkpq10LJ0DBARx8/BYnQMykCU7HDCdATbviGn4UJ0AJe5A4uOsmQIRrZt4xLidARXKmeI4qJ0C2Z9niqBonQAnknR2mUSdAuKtr61LjJkAAXnngtxknQAlDuZpxOydAup8bEiciJ0C9iT5PSAMnQCAgr0+6LydADuwMtSpYJ0A1JCf+HyYnQAlpxlORMydAUXIrBnpbJ0DUbGrsJiQnQJo5y/SaBCdA4SCbS69CJ0Be+3DSNzUnQMkW8GbOKCdAGvllwc8yJ0DOxDBI0BknQGPVU5yJ/CZAZw6kfsf0JkC1fz3jntsmQAa34FXndidADT+oVOkyJ0B9TDGuUQMnQEuTui/6QCdAOA4qLT5LJ0CbUv5df9smQBoBeGhbMidAzfBD66/tJkAnIZ/gav8mQNT0OLMg6CZAJp1ll849J0A1OQxWfQ0nQEWybUHwbydAkXBkM/AWJ0DE/Z5F1uwmQC0wMsPRVSdAw+1zr7fmJkAjaMgi8u0mQHAPySgdSSdAsCpG3ThBJ0BdK5Zs8v4mQMRyMyEhEidA81HJtUMhJ0BuwAvE8PMmQJ579l69SidAYB8NgwtJJ0CX/TTkuN0mQH14YnxtNCdAHgy50vQ0J0BsbhrAxjonQDmqfoROFidA67WsmRnrJkA2Xm7BwzgnQPrnPOpOHCdA6MQRX6P5JkCfXpQi3x8nQHOKeixwFidAT3eveG4xJ0C8xCbm6gsnQN9dT9BvMydAG8lk2mvwJkDooS7PyBsnQLsegcMeRydA7X5DYfROJ0AfchqPVvImQIgIdmWBVidA99TqCZEMJ0CyUkv7tfsmQAUsROE2/yZAity1g7f9JkB2UG8QwB4nQKXG4b5rBidAqnBfTz5yJ0Ca5+4ej+0mQITTFAM23iZASAVMWcg6J0DSLBmv8/YmQPLowa2kWCdApUWnOo8SJ0B1N25IyfAmQBeCql/iDidA3w4uP8s8J0DqrbwzHzEnQLX0niNV7yZASIX0e8UHJ0D1Oqnp00gnQGqRYL5V7SZAwTGWjV5nJ0D0MH2Uw1UnQGSnAd5ARCdAEloxqgsMJ0Dp0EUDd3AnQA==",
          "dtype": "f8"
         },
         "legendgroup": "",
         "lon": {
          "bdata": "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",
          "dtype": "f8"
         },
         "marker": {
          "color": {
           "bdata": "AQEBAQEBAQEBAQEBAQEBAQEBAQEBAQEBAQEBAQEBAQEBAQEBAQEBAQEBAQEBAQEBAQEBAQEBAQEBAQEBAQEBAQEBAQEBAQEBAQEBAQEBAQEBAQEBAQEBAQEBAQEBAQEBAQEBAQEBAQEBAQEBAQEBAQEBAQEBAQEBAQEBAQEBAQEBAQEBAQEBAQEBAQEBAQEBAQEBAQEBAQEBAQEBAQEBAQEBAQEBAQEBAQEBAQEBAQEBAQEBAQEBAQEBAQEBAQEBAQEBAQEBAQEBAQEBAQEBAQEBAQEBAQEBAQEBAQEBAQEBAQEBAQEBAQEBAQEBAQEBAQEBAQEBAQEBAQEBAQEBAQEBAQEBAQEBAQEBAQEBAQEBAQEBAQEBAQEBAQEBAQEBAQEBAQEBAQEBAQEBAQEBAQEBAQEBAQEBAQEBAQEBAQEBAQEBAQEBAQEBAQEBAQEBAQEBAQEBAQEBAQEBAQEBAQEBAQEBAQEBAQEBAQEBAQEBAQEBAQEBAQEBAQEBAQEBAQEBAQEBAQEBAQEBAQEBAQEBAQEBAQEBAQEBAQEBAQEBAQEBAQEBAQEBAQEBAQEBAQEBAQEBAQEBAQEBAQEBAQEBAQEBAQEBAQEBAQEBAQEBAQEBAQEBAQEBAQEBAQEBAQEBAQEBAQEBAQEBAQEBAQEBAQEBAQEBAQEBAQEBAQEBAQEBAQEBAQEBAQEBAQEBAQEBAQEBAQEBAQEBAQEBAQEBAQEBAQEBAQEBAQEBAQEBAQEBAQEBAQEBAQEBAQEBAQEBAQEBAQEBAQEBAQEBAQEBAQEBAQEBAQEBAQEBAQEBAQEBAQEBAQEBAQEBAQEBAQEBAQEBAQEBAQEBAQEBAQEBAQEBAQEBAQEBAQEBAQEBAQEBAQEBAQEBAQEBAQEBAQEBAQEBAQEBAQEBAQEBAQEBAQEBAQEBAQEBAQEBAQEBAQEBAQEBAQEBAQEBAQEBAQEBAQEBAQEBAQEBAQEBAQEBAQEBAQEBAQEBAQEBAQEBAQEBAQEBAQEBAQEBAQEBAQEBAQEBAQEBAQEBAQEBAQEBAQEBAQEBAQEBAQEBAQEBAQEBAQEBAQEBAQEBAQEBAQEBAQEBAQEBAQEBAQEBAQEBAQEBAQEBAQEBAQEBAQEBAQEBAQEBAQEBAQEBAQEBAQEBAQEBAQEBAQEBAQEBAQEBAQEBAQEBAQEBAQEBAQEBAQEBAQEBAQEBAQEBAQEBAQEBAQEBAQEBAQEBAQEBAQEBAQEBAQEBAQEBAQEBAQEBAQEBAQEBAQEBAQEBAQEBAQEBAQEBAQEBAQEBAQEBAQEBAQEBAQEBAQEBAQEBAQEBAQEBAQEBAQEBAQEBAQEBAQEBAQEBAQEBAQEBAQEBAQEBAQEBAQEBAQEBAQEBAQEBAQEBAQEBAQEBAQEBAQEBAQEBAQEBAQEBAQEBAQEBAQEBAQEBAQEBAQEBAQEBAQEBAQEBAQEBAQEBAQEBAQEBAQEBAQEBAQEBAQEBAQEBAQEBAQEBAQEBAQEBAQEBAQEBAQEBAQEBAQEBAQEBAQEBAQEBAQEBAQEBAQEBAQEBAQEBAQEBAQEBAQEBAQEBAQEBAQEBAQEBAQEBAQEBAQEBAQEBAQEBAQEBAQEBAQEBAQEBAQEBAQEBAQEBAQEBAQEBAQEBAQEBAQEBAQEBAQEBAQEBAQEBAQEBAQEBAQEBAQEBAQEBAQEBAQEBAQEBAQEBAQEBAQEBAQEBAQEBAQEBAQEBAQEBAQEBAQEBAQEBAQEBAQEBAQEBAQEBAQEBAQEBAQEBAQEBAQEBAQEBAQEBAQEBAQEBAQEBAQEBAQEBAQEBAQEBAQEBAQEBAQEBAQEBAQEBAQEBAQEBAQEBAQEBAQEBAQEBAQEBAQEBAQEBAQEBAQEBAQEBAQEBAQEBAQEBAQEBAQEBAQEBAQEBAQEBAQEBAQEBAQEBAQEBAQEBAQEBAQEBAQEBAQEBAQEBAQEBAQEBAQEBAQEBAQEBAQEBAQEBAQEBAQEBAQEBAQEBAQEBAQEBAQEBAQEBAQEBAQEBAQEBAQEBAQEBAQEBAQEBAQEBAQEBAQEBAQEBAQEBAQEBAQEBAQEBAQEBAQEBAQEBAQEBAQEBAQEBAQEBAQEBAQEBAQEBAQEBAQEBAQEBAQEBAQEBAQEBAQEBAQEBAQEBAQEBAQEBAQEBAQEBAQEBAQEBAQEBAQEBAQEBAQEBAQEBAQEBAQEBAQEBAQEBAQEBAQEBAQEBAQEBAQEBAQEBAQEBAQEBAQEBAQEBAQEBAQEBAQEBAQEBAQEBAQEBAQEBAQEBAQEBAQEBAQEBAQEBAQEBAQEBAQEBAQEBAQEBAQEBAQEBAQEBAQEBAQEBAQEBAQEBAQEBAQEBAQEBAQEBAQEBAQEBAQEBAQEBAQEBAQEBAQEBAQEBAQEBAQEBAQEBAQEBAQEBAQEBAQEBAQEBAQEBAQEBAQEBAQEBAQEBAQEBAQEBAQEBAQEBAQEBAQEBAQEBAQEBAQEBAQEBAQEBAQEBAQEBAQEBAQEBAQEBAQEBAQEBAQEBAQEBAQEBAQEBAQEBAQEBAQEBAQEBAQEBAQEBAQEBAQEBAQEBAQEBAQEBAQEBAQEBAQEBAQEBAQEBAQEBAQEBAQEBAQEBAQEBAQEBAQEBAQEBAQEBAQEBAQEBAQEBAQEBAQEBAQEBAQEBAQEBAQEBAQEBAQEBAQEBAQEBAQEBAQEBAQEBAQEBAQEBAQEBAQEBAQEBAQEBAQEBAQEBAQEBAQEBAQEBAQEBAQEBAQEBAQEBAQEBAQEBAQEBAQEBAQEBAQEBAQEBAQEBAQEBAQEBAQEBAQEBAQEBAQEBAQEBAQEBAQEBAQEBAQEBAQEBAQEBAQEBAQEBAQEBAQEBAQEBAQEBAQEBAQEBAQEBAQEBAQEBAQEBAQEBAQEBAQEBAQEBAQEBAQEBAQEBAQEBAQEBAQEBAQEBAQEBAQEBAQEBAQEBAQEBAQEBAQEBAQEBAQEBAQEBAQEBAQEBAQEBAQEBAQEBAQEBAQEBAQEBAQEBAQEBAQEBAQEBAQEBAQEBAQEBAQEBAQEBAQEBAQEBAQEBAQEBAQEBAQEBAQEBAQEBAQEBAQEBAQEBAQEBAQEBAQEBAQEBAQEBAQEBAQEBAQEBAQEBAQEBAQEBAQEBAQEBAQEBAQEBAQEBAQEBAQEBAQEBAQEBAQEBAQEBAQEBAQEBAQEBAQEBAQEBAQEBAQEBAQEBAQEBAQEBAQEBAQEBAQEBAQEBAQEBAQEBAQEBAQEBAQEBAQEBAQEBAQEBAQEBAQEBAQEBAQEBAQEBAQEBAQEBAQEBAQEBAQEBAQEBAQEBAQEBAQEBAQEBAQEBAQEBAQEBAQEBAQEBAQEBAQEBAQEBAQEBAQEBAQEBAQEBAQEBAQEBAQEBAQEBAQEBAQEBAQEBAQEBAQEBAQEBAQEBAQEBAQEBAQEBAQEBAQEBAQEBAQEBAQEBAQEBAQEBAQEBAQEBAQEBAQEBAQEBAQEBAQEBAQEBAQEBAQEBAQEBAQEBAQEBAQEBAQEBAQEBAQEBAQEBAQEBAQEBAQEBAQEBAQEBAQEBAQEBAQEBAQEBAQEBAQEBAQEBAQEBAQEBAQEBAQEBAQEBAQEBAQEBAQEBAQEBAQEBAQEBAQEBAQEBAQEBAQEBAQEBAQEBAQEBAQEBAQEBAQEBAQEBAQEBAQEBAQEBAQEBAQEBAQEBAQEBAQEBAQEBAQEBAQEBAQEBAQEBAQEBAQEBAQEBAQEBAQEBAQEBAQEBAQEBAQEBAQEBAQEBAQEBAQEBAQEBAQEBAQEBAQEBAQEBAQEBAQEBAQEBAQEBAQEBAQEBAQEBAQEBAQEBAQEBAQEBAQEBAQEBAQEBAQEBAQEBAQEBAQEBAQEBAQEBAQEBAQEBAQEBAQEBAQEBAQEBAQEBAQEBAQEBAQEBAQEBAQEBAQEBAQEBAQEBAQEBAQEBAQEBAQEBAQEBAQEBAQEBAQEBAQEBAQEBAQEBAQEBAQEBAQEBAQEBAQEBAQEBAQEBAQEBAQEBAQEBAQEBAQEBAQEBAQEBAQEBAQEBAQEBAQEBAQEBAQEBAQEBAQEBAQEBAQEBAQEBAQEBAQEBAQEBAQEBAQEBAQEBAQEBAQEBAQEBAQEBAQEBAQEBAQEBAQEBAQEBAQEBAQEBAQEBAQEBAQEBAQEBAQEBAQEBAQEBAQEBAQEBAQEBAQEBAQEBAQEBAQEBAQEBAQEBAQEBAQEBAQEBAQEBAQEBAQEBAQEBAQEBAQEBAQEBAQEBAQEBAQEBAQEBAQEBAQEBAQEBAQEBAQEBAQEBAQEBAQEBAQEBAQEBAQEBAQEBAQEBAQEBAQEBAQEBAQEBAQEBAQEBAQEBAQEBAQEBAQEBAQEBAQEBAQEBAQEBAQEBAQEBAQEBAQEBAQEBAQEBAQEBAQEBAQEBAQEBAQEBAQEBAQEBAQEBAQEBAQEBAQEBAQEBAQEBAQEBAQEBAQEBAQEBAQEBAQEBAQEBAQEBAQEBAQEBAQEBAQEBAQEBAQEBAQEBAQEBAQEBAQEBAQEBAQEBAQEBAQEBAQEBAQEBAQEBAQEBAQEBAQEBAQEBAQEBAQEBAQEBAQEBAQEBAQEBAQEBAQEBAQEBAQEBAQEBAQEBAQEBAQEBAQEBAQEBAQEBAQEBAQEBAQEBAQEBAQEBAQEBAQEBAQEBAQEBAQEBAQEBAQEBAQEBAQEBAQEBAQEBAQEBAQEBAQEBAQEBAQEBAQEBAQEBAQEBAQEBAQEBAQEBAQEBAQEBAQEBAQEBAQEBAQEBAQEBAQEBAQEBAQEBAQEBAQEBAQEBAQEBAQEBAQEBAQEBAQEBAQEBAQEBAQEBAQEBAQEBAQEBAQEBAQEBAQEBAQEBAQEBAQEBAQEBAQEBAQEBAQEBAQEBAQEBAQEBAQEBAQEBAQEBAQEBAQEBAQEBAQEBAQEBAQEBAQEBAQEBAQEBAQEBAQEBAQEBAQEBAQEBAQEBAQEBAQEBAQEBAQEBAQEBAQEBAQEBAQEBAQEBAQEBAQEBAQEBAQEBAQEBAQEBAQEBAQEBAQEBAQEBAQEBAQEBAQEBAQEBAQEBAQEBAQEBAQEBAQEBAQEBAQEBAQEBAQEBAQEBAQEBAQEBAQEBAQEBAQEBAQEBAQEBAQEBAQEBAQEBAQEBAQEBAQEBAQEBAQEBAQEBAQEBAQEBAQEBAQEBAQEBAQEBAQEBAQEBAQEBAQEBAQEBAQEBAQEBAQEBAQEBAQEBAQEBAQEBAQEBAQEBAQEBAQEBAQEBAQEBAQEBAQEBAQEBAQEBAQEBAQEBAQEBAQEBAQEBAQEBAQEBAQEBAQEBAQEBAQEBAQEBAQEBAQEBAQEBAQEBAQEBAQEBAQEBAQEBAQEBAQEBAQEBAQEBAQEBAQEBAQEBAQEBAQEBAQEBAQEBAQEBAQEBAQEBAQEBAQEBAQEBAQEBAQEBAQEBAQEBAQEBAQEBAQEBAQEBAQEBAQEBAQEBAQEBAQEBAQEBAQEBAQEBAQEBAQEBAQEBAQEBAQEBAQEBAQEBAQEBAQEBAQEBAQEBAQEBAQEBAQEBAQEBAQEBAQEBAQEBAQEBAQEBAQEBAQEBAQEBAQEBAQEBAQEBAQEBAQEBAQEBAQEBAQEBAQEBAQEBAQEBAQEBAQEBAQEBAQEBAQEBAQEBAQEBAQEBAQEBAQEBAQEBAQEBAQEBAQEBAQEBAQEBAQEBAQEBAQEBAQEBAQEBAQEBAQEBAQEBAQEBAQEBAQEBAQEBAQEBAQEBAQEBAQEBAQEBAQEBAQEBAQEBAQEBAQEBAQEBAQEBAQEBAQEBAQEBAQEBAQEBAQEBAQEBAQEBAQEBAQEBAQEBAQEBAQEBAQEBAQEBAQEBAQEBAQEBAQEBAQEBAQEBAQEBAQEBAQEBAQEBAQEBAQEBAQEBAQEBAQEBAQEBAQEBAQEBAQEBAQEBAQEBAQEBAQEBAQEBAQEBAQEBAQEBAQEBAQEBAQEBAQEBAQEBAQEBAQEBAQEBAQEBAQEBAQEBAQEBAQEBAQEBAQEBAQEBAQEBAQEBAQEBAQEBAQEBAQEBAQEBAQEBAQEBAQEBAQEBAQEBAQEBAQEBAQEBAQEBAQEBAQEBAQEBAQEBAQEBAQEBAQEBAQEBAQEBAQEBAQEBAQEBAQEBAQEBAQEBAQEBAQEBAQEBAQEBAQEBAQEBAQEBAQEBAQEBAQEBAQEBAQEBAQEBAQEBAQEBAQEBAQEBAQEBAQEBAQEBAQEBAQEBAQEBAQEBAQEBAQEBAQEBAQEBAQEBAQEBAQEBAQEBAQEBAQEBAQEBAQEBAQEBAQEBAQEBAQEBAQEBAQEBAQEBAQEBAQEBAQEBAQEBAQEBAQEBAQEBAQEBAQEBAQEBAQEBAQEBAQEBAQEBAQEBAQEBAQEBAQEBAQEBAQEBAQEBAQEBAQEBAQEBAQEBAQEBAQEBAQEBAQEBAQEBAQEBAQEBAQEBAQEBAQEBAQEBAQEBAQEBAQEBAQEBAQEBAQEBAQEBAQEBAQEBAQEBAQEBAQEBAQEBAQEBAQEBAQEBAQEBAQEBAQEBAQEBAQEBAQEBAQEBAQEBAQEBAQEBAQEBAQEBAQEBAQEBAQEBAQEBAQEBAQEBAQEBAQEBAQEBAQEBAQEBAQEBAQEBAQEBAQEBAQEBAQEBAQEBAQEBAQEBAQEBAQEBAQEBAQEBAQEBAQEBAQEBAQEBAQEBAQEBAQEBAQEBAQEBAQEBAQEBAQEBAQEBAQEBAQEBAQEBAQEBAQEBAQEBAQEBAQEBAQEBAQEBAQEBAQEBAQEBAQEBAQEBAQEBAQEBAQEBAQEBAQEBAQEBAQEBAQEBAQEBAQEBAQEBAQEBAQEBAQEBAQEBAQEBAQEBAQEBAQEBAQEBAQEBAQEBAQEBAQEBAQEBAQEBAQEBAQEBAQEBAQEBAQEBAQEBAQEBAQEBAQEBAQEBAQEBAQEBAQEBAQEBAQEBAQEBAQEBAQEBAQEBAQEBAQEBAQEBAQEBAQEBAQEBAQEBAQEBAQEBAQEBAQEBAQEBAQEBAQEBAQEBAQEBAQEBAQEBAQEBAQEBAQEBAQEBAQEBAQEBAQEBAQEBAQEBAQEBAQEBAQEBAQEBAQEBAQEBAQEBAQEBAQEBAQEBAQEBAQEBAQEBAQEBAQEBAQEBAQEBAQEBAQEBAQEBAQEBAQEBAQEBAQEBAQEBAQEBAQEBAQEBAQEBAQEBAQEBAQEBAQEBAQEBAQEBAQEBAQEBAQEBAQEBAQEBAQEBAQEBAQEBAQEBAQEBAQEBAQEBAQEBAQEBAQEBAQEBAQEBAQEBAQEBAQEBAQEBAQEBAQEBAQEBAQEBAQEBAQEBAQEBAQEBAQEBAQEBAQEBAQEBAQEBAQEBAQEBAQEBAQEBAQEBAQEBAQEBAQEBAQEBAQEBAQEBAQEBAQEBAQEBAQEBAQEBAQEBAQEBAQEBAQEBAQEBAQEBAQEBAQEBAQEBAQEBAQEBAQEBAQEBAQEBAQEBAQEBAQEBAQEBAQEBAQEBAQEBAQEBAQEBAQEBAQEBAQEBAQEBAQEBAQEBAQEBAQEBAQEBAQEBAQEBAQEBAQEBAQEBAQEBAQEBAQEBAQEBAQEBAQEBAQEBAQEBAQEBAQEBAQEBAQEBAQEBAQEBAQEBAQEBAQEBAQEBAQEBAQEBAQEBAQEBAQEBAQEBAQEBAQEBAQEBAQEBAQEBAQEBAQEBAQEBAQEBAQEBAQEBAQEBAQEBAQEBAQEBAQEBAQEBAQEBAQEBAQEBAQEBAQEBAQEBAQEBAQEBAQEBAQEBAQEBAQEBAQEBAQEBAQEBAQEBAQEBAQEBAQEBAQEBAQEBAQEBAQEBAQEBAQEBAQEBAQEBAQEBAQEBAQEBAQEBAQEBAQEBAQEBAQEBAQEBAQEBAQEBAQEBAQEBAQEBAQEBAQEBAQEBAQEBAQEBAQEBAQEBAQEBAQEBAQEBAQEBAQEBAQEBAQEBAQEBAQEBAQEBAQEBAQEBAQEBAQEBAQEBAQEBAQEBAQEBAQEBAQEBAQEBAQEBAQEBAQEBAQEBAQEBAQEBAQEBAQEBAQEBAQEBAQEBAQEBAQEBAQEBAQEBAQEBAQEBAQEBAQEBAQEBAQEBAQEBAQEBAQEBAQEBAQEBAQEBAQEBAQEBAQEBAQEBAQEBAQEBAQEBAQEBAQEBAQEBAQEBAQEBAQEBAQEBAQEBAQEBAQEBAQEBAQEBAQEBAQEBAQEBAQEBAQEBAQEBAQEBAQEBAQEBAQEBAQEBAQEBAQEBAQEBAQEBAQEBAQEBAQEBAQEBAQEBAQEBAQEBAQEBAQEBAQEBAQEBAQEBAQEBAQEBAQEBAQEBAQEBAQEBAQEBAQEBAQEBAQEBAQEBAQEBAQEBAQEBAQEBAQEBAQEBAQEBAQEBAQEBAQEBAQEBAQEBAQEBAQEBAQEBAQEBAQEBAQEBAQEBAQEBAQEBAQEBAQEBAQEBAQEBAQEBAQEBAQEBAQEBAQEBAQEBAQEBAQEBAQEBAQEBAQEBAQEBAQEBAQEBAQEBAQEBAQEBAQEBAQEBAQEBAQEBAQEBAQEBAQEBAQEBAQEBAQEBAQEBAQEBAQEBAQEBAQEBAQEBAQEBAQEBAQEBAQEBAQEBAQEBAQEBAQEBAQEBAQEBAQEBAQEBAQEBAQEBAQEBAQEBAQEBAQEBAQEBAQEBAQEBAQEBAQEBAQEBAQEBAQEBAQEBAQEBAQEBAQEBAQEBAQEBAQEBAQEBAQEBAQEBAQEBAQEBAQEBAQEBAQEBAQEBAQEBAQEBAQEBAQEBAQEBAQEBAQEBAQEBAQEBAQEBAQEBAQEBAQEBAQEBAQEBAQEBAQEBAQEBAQEBAQEBAQEBAQEBAQEBAQEBAQEBAQEBAQEBAQEBAQEBAQEBAQEBAQEBAQEBAQEBAQEBAQEBAQEBAQEBAQEBAQEBAQEBAQEBAQEBAQEBAQEBAQEBAQEBAQEBAQEBAQEBAQEBAQEBAQEBAQEBAQEBAQEBAQEBAQEBAQEBAQEBAQEBAQEBAQEBAQEBAQEBAQEBAQEBAQEBAQEBAQEBAQEBAQEBAQEBAQEBAQEBAQEBAQEBAQEBAQEBAQEBAQEBAQEBAQEBAQEBAQEBAQEBAQEBAQEBAQEBAQEBAQEBAQEBAQEBAQEBAQEBAQEBAQEBAQEBAQEBAQEBAQEBAQEBAQEBAQEBAQEBAQEBAQEBAQEBAQEBAQEBAQEBAQEBAQEBAQEBAQEBAQEBAQEBAQEBAQEBAQEBAQEBAQEBAQEBAQEBAQEBAQEBAQEBAQEBAQEBAQEBAQEBAQEBAQEBAQEBAQEBAQEBAQEBAQEBAQEBAQEBAQEBAQEBAQEBAQEBAQEBAQEBAQEBAQEBAQEBAQEBAQEBAQEBAQEBAQEBAQEBAQEBAQEBAQEBAQEBAQEBAQEBAQEBAQEBAQEBAQEBAQEBAQEBAQEBAQEBAQEBAQEBAQEBAQEBAQEBAQEBAQEBAQEBAQEBAQEBAQEBAQEBAQEBAQEBAQEBAQEBAQEBAQEBAQEBAQEBAQEBAQEBAQEBAQEBAQEBAQEBAQEBAQEBAQEBAQEBAQEBAQEBAQEBAQEBAQEBAQEBAQEBAQEBAQEBAQEBAQEBAQEBAQEBAQEBAQEBAQEBAQEBAQEBAQEBAQEBAQEBAQEBAQEBAQEBAQEBAQEBAQEBAQEBAQEBAQEBAQEBAQEBAQEBAQEBAQEBAQEBAQEBAQEBAQEBAQEBAQEBAQEBAQEBAQEBAQEBAQEBAQEBAQEBAQEBAQEBAQEBAQEBAQEBAQEBAQEBAQEBAQEBAQEBAQEBAQEBAQEBAQEBAQEBAQEBAQEBAQEBAQEBAQEBAQEBAQEBAQEBAQEBAQEBAQEBAQEBAQEBAQEBAQEBAQEBAQEBAQEBAQEBAQEBAQEBAQEBAQEBAQEBAQEBAQEBAQEBAQEBAQEBAQEBAQEBAQEBAQEBAQEBAQEBAQEBAQEBAQEBAQEBAQEBAQEBAQEBAQEBAQEBAQEBAQEBAQEBAQEBAQEBAQEBAQEBAQEBAQEBAQEBAQEBAQEBAQEBAQEBAQEBAQEBAQEBAQEBAQEBAQEBAQEBAQEBAQEBAQEBAQEBAQEBAQEBAQEBAQEBAQEBAQEBAQEBAQEBAQEBAQEBAQEBAQEBAQEBAQEBAQEBAQEBAQEBAQEBAQEBAQEBAQEBAQEBAQEBAQEBAQEBAQEBAQEBAQEBAQEBAQEBAQEBAQEBAQEBAQEBAQEBAQEBAQEBAQEBAQEBAQEBAQEBAQEBAQEBAQEBAQEBAQEBAQEBAQEBAQEBAQEBAQEBAQEBAQEBAQEBAQEBAQEBAQEBAQEBAQEBAQEBAQEBAQEBAQEBAQEBAQEBAQEBAQEBAQEBAQEBAQEBAQEBAQEBAQEBAQEBAQEBAQEBAQEBAQEBAQEBAQEBAQEBAQEBAQEBAQEBAQEBAQEBAQEBAQEBAQEBAQEBAQEBAQEBAQEBAQEBAQEBAQEBAQEBAQEBAQEBAQEBAQEBAQEBAQEBAQEBAQEBAQEBAQEBAQEBAQEBAQEBAQEBAQEBAQEBAQEBAQEBAQEBAQEBAQEBAQEBAQEBAQEBAQEBAQEBAQEBAQEBAQEBAQEBAQEBAQEBAQEBAQEBAQEBAQEBAQEBAQEBAQEBAQEBAQEBAQEBAQEBAQEBAQEBAQEBAQEBAQEBAQEBAQEBAQEBAQEBAQEBAQEBAQEBAQEBAQEBAQEBAQEBAQEBAQEBAQEBAQEBAQEBAQEBAQEBAQEBAQEBAQEBAQEBAQEBAQEBAQEBAQEBAQEBAQEBAQEBAQEBAQEBAQEBAQEBAQEBAQEBAQEBAQEBAQEBAQEBAQEBAQEBAQEBAQEBAQEBAQEBAQEBAQEBAQEBAQEBAQEBAQEBAQEBAQEBAQEBAQEBAQEBAQEBAQEBAQEBAQEBAQEBAQEBAQEBAQEBAQEBAQEBAQEBAQEBAQEBAQEBAQEBAQEBAQEBAQEBAQEBAQEBAQEBAQEBAQEBAQEBAQEBAQEBAQEBAQEBAQEBAQEBAQEBAQEBAQEBAQEBAQEBAQEBAQEBAQEBAQEBAQEBAQEBAQEBAQEBAQEBAQEBAQEBAQEBAQEBAQEBAQEBAQEBAQEBAQEBAQEBAQEBAQEBAQEBAQEBAQEBAQEBAQEBAQEBAQEBAQEBAQEBAQEBAQEBAQEBAQEBAQEBAQEBAQEBAQEBAQEBAQEBAQEBAQEBAQEBAQEBAQEBAQEBAQEBAQEBAQEBAQEBAQEBAQEBAQEBAQEBAQEBAQEBAQEBAQEBAQEBAQEBAQEBAQEBAQEBAQEBAQEBAQEBAQEBAQEBAQEBAQEBAQEBAQEBAQEBAQEBAQEBAQEBAQEBAQEBAQEBAQEBAQEBAQEBAQEBAQEBAQEBAQEBAQEBAQEBAQEBAQEBAQEBAQEBAQEBAQEBAQEBAQEBAQEBAQEBAQEBAQEBAQEBAQEBAQEBAQEBAQEBAQEBAQEBAQEBAQE=",
           "dtype": "i1"
          },
          "coloraxis": "coloraxis"
         },
         "mode": "markers",
         "name": "",
         "showlegend": false,
         "subplot": "mapbox",
         "type": "scattermapbox"
        }
       ],
       "layout": {
        "coloraxis": {
         "colorbar": {
          "title": {
           "text": "price_per_m2"
          }
         },
         "colorscale": [
          [
           0,
           "#0d0887"
          ],
          [
           0.1111111111111111,
           "#46039f"
          ],
          [
           0.2222222222222222,
           "#7201a8"
          ],
          [
           0.3333333333333333,
           "#9c179e"
          ],
          [
           0.4444444444444444,
           "#bd3786"
          ],
          [
           0.5555555555555556,
           "#d8576b"
          ],
          [
           0.6666666666666666,
           "#ed7953"
          ],
          [
           0.7777777777777778,
           "#fb9f3a"
          ],
          [
           0.8888888888888888,
           "#fdca26"
          ],
          [
           1,
           "#f0f921"
          ]
         ]
        },
        "height": 600,
        "legend": {
         "tracegroupgap": 0
        },
        "mapbox": {
         "center": {
          "lat": 11.556852580050503,
          "lon": 104.86810054946518
         },
         "domain": {
          "x": [
           0,
           1
          ],
          "y": [
           0,
           1
          ]
         },
         "style": "open-street-map",
         "zoom": 12
        },
        "margin": {
         "t": 60
        },
        "template": {
         "data": {
          "bar": [
           {
            "error_x": {
             "color": "#2a3f5f"
            },
            "error_y": {
             "color": "#2a3f5f"
            },
            "marker": {
             "line": {
              "color": "#E5ECF6",
              "width": 0.5
             },
             "pattern": {
              "fillmode": "overlay",
              "size": 10,
              "solidity": 0.2
             }
            },
            "type": "bar"
           }
          ],
          "barpolar": [
           {
            "marker": {
             "line": {
              "color": "#E5ECF6",
              "width": 0.5
             },
             "pattern": {
              "fillmode": "overlay",
              "size": 10,
              "solidity": 0.2
             }
            },
            "type": "barpolar"
           }
          ],
          "carpet": [
           {
            "aaxis": {
             "endlinecolor": "#2a3f5f",
             "gridcolor": "white",
             "linecolor": "white",
             "minorgridcolor": "white",
             "startlinecolor": "#2a3f5f"
            },
            "baxis": {
             "endlinecolor": "#2a3f5f",
             "gridcolor": "white",
             "linecolor": "white",
             "minorgridcolor": "white",
             "startlinecolor": "#2a3f5f"
            },
            "type": "carpet"
           }
          ],
          "choropleth": [
           {
            "colorbar": {
             "outlinewidth": 0,
             "ticks": ""
            },
            "type": "choropleth"
           }
          ],
          "contour": [
           {
            "colorbar": {
             "outlinewidth": 0,
             "ticks": ""
            },
            "colorscale": [
             [
              0,
              "#0d0887"
             ],
             [
              0.1111111111111111,
              "#46039f"
             ],
             [
              0.2222222222222222,
              "#7201a8"
             ],
             [
              0.3333333333333333,
              "#9c179e"
             ],
             [
              0.4444444444444444,
              "#bd3786"
             ],
             [
              0.5555555555555556,
              "#d8576b"
             ],
             [
              0.6666666666666666,
              "#ed7953"
             ],
             [
              0.7777777777777778,
              "#fb9f3a"
             ],
             [
              0.8888888888888888,
              "#fdca26"
             ],
             [
              1,
              "#f0f921"
             ]
            ],
            "type": "contour"
           }
          ],
          "contourcarpet": [
           {
            "colorbar": {
             "outlinewidth": 0,
             "ticks": ""
            },
            "type": "contourcarpet"
           }
          ],
          "heatmap": [
           {
            "colorbar": {
             "outlinewidth": 0,
             "ticks": ""
            },
            "colorscale": [
             [
              0,
              "#0d0887"
             ],
             [
              0.1111111111111111,
              "#46039f"
             ],
             [
              0.2222222222222222,
              "#7201a8"
             ],
             [
              0.3333333333333333,
              "#9c179e"
             ],
             [
              0.4444444444444444,
              "#bd3786"
             ],
             [
              0.5555555555555556,
              "#d8576b"
             ],
             [
              0.6666666666666666,
              "#ed7953"
             ],
             [
              0.7777777777777778,
              "#fb9f3a"
             ],
             [
              0.8888888888888888,
              "#fdca26"
             ],
             [
              1,
              "#f0f921"
             ]
            ],
            "type": "heatmap"
           }
          ],
          "histogram": [
           {
            "marker": {
             "pattern": {
              "fillmode": "overlay",
              "size": 10,
              "solidity": 0.2
             }
            },
            "type": "histogram"
           }
          ],
          "histogram2d": [
           {
            "colorbar": {
             "outlinewidth": 0,
             "ticks": ""
            },
            "colorscale": [
             [
              0,
              "#0d0887"
             ],
             [
              0.1111111111111111,
              "#46039f"
             ],
             [
              0.2222222222222222,
              "#7201a8"
             ],
             [
              0.3333333333333333,
              "#9c179e"
             ],
             [
              0.4444444444444444,
              "#bd3786"
             ],
             [
              0.5555555555555556,
              "#d8576b"
             ],
             [
              0.6666666666666666,
              "#ed7953"
             ],
             [
              0.7777777777777778,
              "#fb9f3a"
             ],
             [
              0.8888888888888888,
              "#fdca26"
             ],
             [
              1,
              "#f0f921"
             ]
            ],
            "type": "histogram2d"
           }
          ],
          "histogram2dcontour": [
           {
            "colorbar": {
             "outlinewidth": 0,
             "ticks": ""
            },
            "colorscale": [
             [
              0,
              "#0d0887"
             ],
             [
              0.1111111111111111,
              "#46039f"
             ],
             [
              0.2222222222222222,
              "#7201a8"
             ],
             [
              0.3333333333333333,
              "#9c179e"
             ],
             [
              0.4444444444444444,
              "#bd3786"
             ],
             [
              0.5555555555555556,
              "#d8576b"
             ],
             [
              0.6666666666666666,
              "#ed7953"
             ],
             [
              0.7777777777777778,
              "#fb9f3a"
             ],
             [
              0.8888888888888888,
              "#fdca26"
             ],
             [
              1,
              "#f0f921"
             ]
            ],
            "type": "histogram2dcontour"
           }
          ],
          "mesh3d": [
           {
            "colorbar": {
             "outlinewidth": 0,
             "ticks": ""
            },
            "type": "mesh3d"
           }
          ],
          "parcoords": [
           {
            "line": {
             "colorbar": {
              "outlinewidth": 0,
              "ticks": ""
             }
            },
            "type": "parcoords"
           }
          ],
          "pie": [
           {
            "automargin": true,
            "type": "pie"
           }
          ],
          "scatter": [
           {
            "fillpattern": {
             "fillmode": "overlay",
             "size": 10,
             "solidity": 0.2
            },
            "type": "scatter"
           }
          ],
          "scatter3d": [
           {
            "line": {
             "colorbar": {
              "outlinewidth": 0,
              "ticks": ""
             }
            },
            "marker": {
             "colorbar": {
              "outlinewidth": 0,
              "ticks": ""
             }
            },
            "type": "scatter3d"
           }
          ],
          "scattercarpet": [
           {
            "marker": {
             "colorbar": {
              "outlinewidth": 0,
              "ticks": ""
             }
            },
            "type": "scattercarpet"
           }
          ],
          "scattergeo": [
           {
            "marker": {
             "colorbar": {
              "outlinewidth": 0,
              "ticks": ""
             }
            },
            "type": "scattergeo"
           }
          ],
          "scattergl": [
           {
            "marker": {
             "colorbar": {
              "outlinewidth": 0,
              "ticks": ""
             }
            },
            "type": "scattergl"
           }
          ],
          "scattermap": [
           {
            "marker": {
             "colorbar": {
              "outlinewidth": 0,
              "ticks": ""
             }
            },
            "type": "scattermap"
           }
          ],
          "scattermapbox": [
           {
            "marker": {
             "colorbar": {
              "outlinewidth": 0,
              "ticks": ""
             }
            },
            "type": "scattermapbox"
           }
          ],
          "scatterpolar": [
           {
            "marker": {
             "colorbar": {
              "outlinewidth": 0,
              "ticks": ""
             }
            },
            "type": "scatterpolar"
           }
          ],
          "scatterpolargl": [
           {
            "marker": {
             "colorbar": {
              "outlinewidth": 0,
              "ticks": ""
             }
            },
            "type": "scatterpolargl"
           }
          ],
          "scatterternary": [
           {
            "marker": {
             "colorbar": {
              "outlinewidth": 0,
              "ticks": ""
             }
            },
            "type": "scatterternary"
           }
          ],
          "surface": [
           {
            "colorbar": {
             "outlinewidth": 0,
             "ticks": ""
            },
            "colorscale": [
             [
              0,
              "#0d0887"
             ],
             [
              0.1111111111111111,
              "#46039f"
             ],
             [
              0.2222222222222222,
              "#7201a8"
             ],
             [
              0.3333333333333333,
              "#9c179e"
             ],
             [
              0.4444444444444444,
              "#bd3786"
             ],
             [
              0.5555555555555556,
              "#d8576b"
             ],
             [
              0.6666666666666666,
              "#ed7953"
             ],
             [
              0.7777777777777778,
              "#fb9f3a"
             ],
             [
              0.8888888888888888,
              "#fdca26"
             ],
             [
              1,
              "#f0f921"
             ]
            ],
            "type": "surface"
           }
          ],
          "table": [
           {
            "cells": {
             "fill": {
              "color": "#EBF0F8"
             },
             "line": {
              "color": "white"
             }
            },
            "header": {
             "fill": {
              "color": "#C8D4E3"
             },
             "line": {
              "color": "white"
             }
            },
            "type": "table"
           }
          ]
         },
         "layout": {
          "annotationdefaults": {
           "arrowcolor": "#2a3f5f",
           "arrowhead": 0,
           "arrowwidth": 1
          },
          "autotypenumbers": "strict",
          "coloraxis": {
           "colorbar": {
            "outlinewidth": 0,
            "ticks": ""
           }
          },
          "colorscale": {
           "diverging": [
            [
             0,
             "#8e0152"
            ],
            [
             0.1,
             "#c51b7d"
            ],
            [
             0.2,
             "#de77ae"
            ],
            [
             0.3,
             "#f1b6da"
            ],
            [
             0.4,
             "#fde0ef"
            ],
            [
             0.5,
             "#f7f7f7"
            ],
            [
             0.6,
             "#e6f5d0"
            ],
            [
             0.7,
             "#b8e186"
            ],
            [
             0.8,
             "#7fbc41"
            ],
            [
             0.9,
             "#4d9221"
            ],
            [
             1,
             "#276419"
            ]
           ],
           "sequential": [
            [
             0,
             "#0d0887"
            ],
            [
             0.1111111111111111,
             "#46039f"
            ],
            [
             0.2222222222222222,
             "#7201a8"
            ],
            [
             0.3333333333333333,
             "#9c179e"
            ],
            [
             0.4444444444444444,
             "#bd3786"
            ],
            [
             0.5555555555555556,
             "#d8576b"
            ],
            [
             0.6666666666666666,
             "#ed7953"
            ],
            [
             0.7777777777777778,
             "#fb9f3a"
            ],
            [
             0.8888888888888888,
             "#fdca26"
            ],
            [
             1,
             "#f0f921"
            ]
           ],
           "sequentialminus": [
            [
             0,
             "#0d0887"
            ],
            [
             0.1111111111111111,
             "#46039f"
            ],
            [
             0.2222222222222222,
             "#7201a8"
            ],
            [
             0.3333333333333333,
             "#9c179e"
            ],
            [
             0.4444444444444444,
             "#bd3786"
            ],
            [
             0.5555555555555556,
             "#d8576b"
            ],
            [
             0.6666666666666666,
             "#ed7953"
            ],
            [
             0.7777777777777778,
             "#fb9f3a"
            ],
            [
             0.8888888888888888,
             "#fdca26"
            ],
            [
             1,
             "#f0f921"
            ]
           ]
          },
          "colorway": [
           "#636efa",
           "#EF553B",
           "#00cc96",
           "#ab63fa",
           "#FFA15A",
           "#19d3f3",
           "#FF6692",
           "#B6E880",
           "#FF97FF",
           "#FECB52"
          ],
          "font": {
           "color": "#2a3f5f"
          },
          "geo": {
           "bgcolor": "white",
           "lakecolor": "white",
           "landcolor": "#E5ECF6",
           "showlakes": true,
           "showland": true,
           "subunitcolor": "white"
          },
          "hoverlabel": {
           "align": "left"
          },
          "hovermode": "closest",
          "mapbox": {
           "style": "light"
          },
          "paper_bgcolor": "white",
          "plot_bgcolor": "#E5ECF6",
          "polar": {
           "angularaxis": {
            "gridcolor": "white",
            "linecolor": "white",
            "ticks": ""
           },
           "bgcolor": "#E5ECF6",
           "radialaxis": {
            "gridcolor": "white",
            "linecolor": "white",
            "ticks": ""
           }
          },
          "scene": {
           "xaxis": {
            "backgroundcolor": "#E5ECF6",
            "gridcolor": "white",
            "gridwidth": 2,
            "linecolor": "white",
            "showbackground": true,
            "ticks": "",
            "zerolinecolor": "white"
           },
           "yaxis": {
            "backgroundcolor": "#E5ECF6",
            "gridcolor": "white",
            "gridwidth": 2,
            "linecolor": "white",
            "showbackground": true,
            "ticks": "",
            "zerolinecolor": "white"
           },
           "zaxis": {
            "backgroundcolor": "#E5ECF6",
            "gridcolor": "white",
            "gridwidth": 2,
            "linecolor": "white",
            "showbackground": true,
            "ticks": "",
            "zerolinecolor": "white"
           }
          },
          "shapedefaults": {
           "line": {
            "color": "#2a3f5f"
           }
          },
          "ternary": {
           "aaxis": {
            "gridcolor": "white",
            "linecolor": "white",
            "ticks": ""
           },
           "baxis": {
            "gridcolor": "white",
            "linecolor": "white",
            "ticks": ""
           },
           "bgcolor": "#E5ECF6",
           "caxis": {
            "gridcolor": "white",
            "linecolor": "white",
            "ticks": ""
           }
          },
          "title": {
           "x": 0.05
          },
          "xaxis": {
           "automargin": true,
           "gridcolor": "white",
           "linecolor": "white",
           "ticks": "",
           "title": {
            "standoff": 15
           },
           "zerolinecolor": "white",
           "zerolinewidth": 2
          },
          "yaxis": {
           "automargin": true,
           "gridcolor": "white",
           "linecolor": "white",
           "ticks": "",
           "title": {
            "standoff": 15
           },
           "zerolinecolor": "white",
           "zerolinewidth": 2
          }
         }
        }
       }
      }
     },
     "metadata": {},
     "output_type": "display_data"
    }
   ],
   "source": [
    "import plotly.express as px\n",
    "\n",
    "fig = px.scatter_mapbox(\n",
    "    df,\n",
    "    lat=\"latitude\",\n",
    "    lon=\"longitude\",\n",
    "    color=\"price_per_m2\",\n",
    "    hover_data=[\"price_per_m2\"],\n",
    "    zoom=12,\n",
    "    height=600\n",
    ")\n",
    "fig.update_layout(mapbox_style=\"open-street-map\")\n",
    "\n",
    "# Enable click events in Jupyter\n",
    "fig.show()\n",
    "\n",
    "# You can then use Plotly's click events (with Dash or JupyterDash) to remove points from your DataFrame."
   ]
  }
 ],
 "metadata": {
  "kernelspec": {
   "display_name": "env_v3.10",
   "language": "python",
   "name": "python3"
  },
  "language_info": {
   "codemirror_mode": {
    "name": "ipython",
    "version": 3
   },
   "file_extension": ".py",
   "mimetype": "text/x-python",
   "name": "python",
   "nbconvert_exporter": "python",
   "pygments_lexer": "ipython3",
   "version": "3.10.16"
  }
 },
 "nbformat": 4,
 "nbformat_minor": 5
}
